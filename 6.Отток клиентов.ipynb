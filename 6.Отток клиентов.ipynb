{
 "cells": [
  {
   "cell_type": "markdown",
   "metadata": {
    "toc": true
   },
   "source": [
    "<h1>Содержание<span class=\"tocSkip\"></span></h1>\n",
    "<div class=\"toc\"><ul class=\"toc-item\"><li><span><a href=\"#Подготовка-данных\" data-toc-modified-id=\"Подготовка-данных-1\"><span class=\"toc-item-num\">1&nbsp;&nbsp;</span>Подготовка данных</a></span></li><li><span><a href=\"#Исследование-задачи\" data-toc-modified-id=\"Исследование-задачи-2\"><span class=\"toc-item-num\">2&nbsp;&nbsp;</span>Исследование задачи</a></span><ul class=\"toc-item\"><li><span><a href=\"#Устраняем-дисбаланс\" data-toc-modified-id=\"Устраняем-дисбаланс-2.1\"><span class=\"toc-item-num\">2.1&nbsp;&nbsp;</span>Устраняем дисбаланс</a></span></li></ul></li><li><span><a href=\"#Финальное-тестирование\" data-toc-modified-id=\"Финальное-тестирование-3\"><span class=\"toc-item-num\">3&nbsp;&nbsp;</span>Финальное тестирование</a></span></li></ul></div>"
   ]
  },
  {
   "cell_type": "markdown",
   "metadata": {},
   "source": [
    "# Отток клиентов"
   ]
  },
  {
   "cell_type": "markdown",
   "metadata": {},
   "source": [
    "Из «Бета-Банка» стали уходить клиенты. Каждый месяц. Немного, но заметно. Банковские маркетологи посчитали: сохранять текущих клиентов дешевле, чем привлекать новых.\n",
    "\n",
    "Нужно спрогнозировать, уйдёт клиент из банка в ближайшее время или нет. Вам предоставлены исторические данные о поведении клиентов и расторжении договоров с банком. \n",
    "\n",
    "Постройте модель с предельно большим значением *F1*-меры. Чтобы сдать проект успешно, нужно довести метрику до 0.59. Проверьте *F1*-меру на тестовой выборке самостоятельно.\n",
    "\n",
    "Дополнительно измеряйте *AUC-ROC*, сравнивайте её значение с *F1*-мерой.\n",
    "\n",
    "Источник данных: [https://www.kaggle.com/barelydedicated/bank-customer-churn-modeling](https://www.kaggle.com/barelydedicated/bank-customer-churn-modeling)"
   ]
  },
  {
   "cell_type": "markdown",
   "metadata": {},
   "source": [
    "## Подготовка данных"
   ]
  },
  {
   "cell_type": "code",
   "execution_count": 178,
   "metadata": {},
   "outputs": [],
   "source": [
    "import pandas as pd\n",
    "import numpy as np\n",
    "import matplotlib.pyplot as plt\n",
    "from sklearn.model_selection import train_test_split\n",
    "from sklearn.linear_model import LogisticRegression\n",
    "from sklearn.preprocessing import StandardScaler\n",
    "from sklearn.tree import DecisionTreeClassifier\n",
    "from sklearn.datasets import load_digits\n",
    "from sklearn.metrics import accuracy_score\n",
    "from sklearn.metrics import confusion_matrix\n",
    "from sklearn.metrics import recall_score\n",
    "from sklearn.metrics import precision_score\n",
    "from sklearn.metrics import f1_score\n",
    "from sklearn.utils import shuffle\n",
    "from sklearn.metrics import roc_curve\n",
    "from sklearn.metrics import roc_auc_score\n",
    "from sklearn.ensemble import RandomForestClassifier"
   ]
  },
  {
   "cell_type": "code",
   "execution_count": 179,
   "metadata": {},
   "outputs": [
    {
     "data": {
      "text/html": [
       "<div>\n",
       "<style scoped>\n",
       "    .dataframe tbody tr th:only-of-type {\n",
       "        vertical-align: middle;\n",
       "    }\n",
       "\n",
       "    .dataframe tbody tr th {\n",
       "        vertical-align: top;\n",
       "    }\n",
       "\n",
       "    .dataframe thead th {\n",
       "        text-align: right;\n",
       "    }\n",
       "</style>\n",
       "<table border=\"1\" class=\"dataframe\">\n",
       "  <thead>\n",
       "    <tr style=\"text-align: right;\">\n",
       "      <th></th>\n",
       "      <th>RowNumber</th>\n",
       "      <th>CustomerId</th>\n",
       "      <th>Surname</th>\n",
       "      <th>CreditScore</th>\n",
       "      <th>Geography</th>\n",
       "      <th>Gender</th>\n",
       "      <th>Age</th>\n",
       "      <th>Tenure</th>\n",
       "      <th>Balance</th>\n",
       "      <th>NumOfProducts</th>\n",
       "      <th>HasCrCard</th>\n",
       "      <th>IsActiveMember</th>\n",
       "      <th>EstimatedSalary</th>\n",
       "      <th>Exited</th>\n",
       "    </tr>\n",
       "  </thead>\n",
       "  <tbody>\n",
       "    <tr>\n",
       "      <th>0</th>\n",
       "      <td>1</td>\n",
       "      <td>15634602</td>\n",
       "      <td>Hargrave</td>\n",
       "      <td>619</td>\n",
       "      <td>France</td>\n",
       "      <td>Female</td>\n",
       "      <td>42</td>\n",
       "      <td>2.0</td>\n",
       "      <td>0.00</td>\n",
       "      <td>1</td>\n",
       "      <td>1</td>\n",
       "      <td>1</td>\n",
       "      <td>101348.88</td>\n",
       "      <td>1</td>\n",
       "    </tr>\n",
       "    <tr>\n",
       "      <th>1</th>\n",
       "      <td>2</td>\n",
       "      <td>15647311</td>\n",
       "      <td>Hill</td>\n",
       "      <td>608</td>\n",
       "      <td>Spain</td>\n",
       "      <td>Female</td>\n",
       "      <td>41</td>\n",
       "      <td>1.0</td>\n",
       "      <td>83807.86</td>\n",
       "      <td>1</td>\n",
       "      <td>0</td>\n",
       "      <td>1</td>\n",
       "      <td>112542.58</td>\n",
       "      <td>0</td>\n",
       "    </tr>\n",
       "    <tr>\n",
       "      <th>2</th>\n",
       "      <td>3</td>\n",
       "      <td>15619304</td>\n",
       "      <td>Onio</td>\n",
       "      <td>502</td>\n",
       "      <td>France</td>\n",
       "      <td>Female</td>\n",
       "      <td>42</td>\n",
       "      <td>8.0</td>\n",
       "      <td>159660.80</td>\n",
       "      <td>3</td>\n",
       "      <td>1</td>\n",
       "      <td>0</td>\n",
       "      <td>113931.57</td>\n",
       "      <td>1</td>\n",
       "    </tr>\n",
       "    <tr>\n",
       "      <th>3</th>\n",
       "      <td>4</td>\n",
       "      <td>15701354</td>\n",
       "      <td>Boni</td>\n",
       "      <td>699</td>\n",
       "      <td>France</td>\n",
       "      <td>Female</td>\n",
       "      <td>39</td>\n",
       "      <td>1.0</td>\n",
       "      <td>0.00</td>\n",
       "      <td>2</td>\n",
       "      <td>0</td>\n",
       "      <td>0</td>\n",
       "      <td>93826.63</td>\n",
       "      <td>0</td>\n",
       "    </tr>\n",
       "    <tr>\n",
       "      <th>4</th>\n",
       "      <td>5</td>\n",
       "      <td>15737888</td>\n",
       "      <td>Mitchell</td>\n",
       "      <td>850</td>\n",
       "      <td>Spain</td>\n",
       "      <td>Female</td>\n",
       "      <td>43</td>\n",
       "      <td>2.0</td>\n",
       "      <td>125510.82</td>\n",
       "      <td>1</td>\n",
       "      <td>1</td>\n",
       "      <td>1</td>\n",
       "      <td>79084.10</td>\n",
       "      <td>0</td>\n",
       "    </tr>\n",
       "  </tbody>\n",
       "</table>\n",
       "</div>"
      ],
      "text/plain": [
       "   RowNumber  CustomerId   Surname  CreditScore Geography  Gender  Age  \\\n",
       "0          1    15634602  Hargrave          619    France  Female   42   \n",
       "1          2    15647311      Hill          608     Spain  Female   41   \n",
       "2          3    15619304      Onio          502    France  Female   42   \n",
       "3          4    15701354      Boni          699    France  Female   39   \n",
       "4          5    15737888  Mitchell          850     Spain  Female   43   \n",
       "\n",
       "   Tenure    Balance  NumOfProducts  HasCrCard  IsActiveMember  \\\n",
       "0     2.0       0.00              1          1               1   \n",
       "1     1.0   83807.86              1          0               1   \n",
       "2     8.0  159660.80              3          1               0   \n",
       "3     1.0       0.00              2          0               0   \n",
       "4     2.0  125510.82              1          1               1   \n",
       "\n",
       "   EstimatedSalary  Exited  \n",
       "0        101348.88       1  \n",
       "1        112542.58       0  \n",
       "2        113931.57       1  \n",
       "3         93826.63       0  \n",
       "4         79084.10       0  "
      ]
     },
     "execution_count": 179,
     "metadata": {},
     "output_type": "execute_result"
    }
   ],
   "source": [
    "data = pd.read_csv('/datasets/Churn.csv')\n",
    "data.head()"
   ]
  },
  {
   "cell_type": "code",
   "execution_count": 180,
   "metadata": {},
   "outputs": [
    {
     "data": {
      "text/plain": [
       "(10000, 14)"
      ]
     },
     "execution_count": 180,
     "metadata": {},
     "output_type": "execute_result"
    }
   ],
   "source": [
    "data.shape"
   ]
  },
  {
   "cell_type": "code",
   "execution_count": 181,
   "metadata": {},
   "outputs": [
    {
     "data": {
      "text/plain": [
       "RowNumber            int64\n",
       "CustomerId           int64\n",
       "Surname             object\n",
       "CreditScore          int64\n",
       "Geography           object\n",
       "Gender              object\n",
       "Age                  int64\n",
       "Tenure             float64\n",
       "Balance            float64\n",
       "NumOfProducts        int64\n",
       "HasCrCard            int64\n",
       "IsActiveMember       int64\n",
       "EstimatedSalary    float64\n",
       "Exited               int64\n",
       "dtype: object"
      ]
     },
     "execution_count": 181,
     "metadata": {},
     "output_type": "execute_result"
    }
   ],
   "source": [
    "data.dtypes"
   ]
  },
  {
   "cell_type": "code",
   "execution_count": 182,
   "metadata": {},
   "outputs": [
    {
     "data": {
      "text/plain": [
       "RowNumber            0\n",
       "CustomerId           0\n",
       "Surname              0\n",
       "CreditScore          0\n",
       "Geography            0\n",
       "Gender               0\n",
       "Age                  0\n",
       "Tenure             909\n",
       "Balance              0\n",
       "NumOfProducts        0\n",
       "HasCrCard            0\n",
       "IsActiveMember       0\n",
       "EstimatedSalary      0\n",
       "Exited               0\n",
       "dtype: int64"
      ]
     },
     "execution_count": 182,
     "metadata": {},
     "output_type": "execute_result"
    }
   ],
   "source": [
    "data.isna().sum()"
   ]
  },
  {
   "cell_type": "markdown",
   "metadata": {},
   "source": [
    "В данном датасете мы видим большое количество числовых признаков. Много пропусков в столбце с данными о количестве лет,в течении которых клиент являлся клиентом банка.Пропусков в столбце Tenure около 10 процентов, заменим их на 0, чтобы они не мешали обучению. Разобъем данные на две выборки и проверим их размеры."
   ]
  },
  {
   "cell_type": "code",
   "execution_count": 183,
   "metadata": {},
   "outputs": [],
   "source": [
    "data['Tenure']= data['Tenure'].fillna(0)"
   ]
  },
  {
   "cell_type": "code",
   "execution_count": 184,
   "metadata": {},
   "outputs": [
    {
     "data": {
      "text/plain": [
       "RowNumber          0\n",
       "CustomerId         0\n",
       "Surname            0\n",
       "CreditScore        0\n",
       "Geography          0\n",
       "Gender             0\n",
       "Age                0\n",
       "Tenure             0\n",
       "Balance            0\n",
       "NumOfProducts      0\n",
       "HasCrCard          0\n",
       "IsActiveMember     0\n",
       "EstimatedSalary    0\n",
       "Exited             0\n",
       "dtype: int64"
      ]
     },
     "execution_count": 184,
     "metadata": {},
     "output_type": "execute_result"
    }
   ],
   "source": [
    "data.isna().sum()"
   ]
  },
  {
   "cell_type": "code",
   "execution_count": 185,
   "metadata": {},
   "outputs": [],
   "source": [
    "drop_col = ['Surname', 'RowNumber', 'CustomerId']\n",
    "data = data.drop(drop_col, axis=1)"
   ]
  },
  {
   "cell_type": "code",
   "execution_count": 186,
   "metadata": {},
   "outputs": [
    {
     "data": {
      "text/plain": [
       "CreditScore        0\n",
       "Geography          0\n",
       "Gender             0\n",
       "Age                0\n",
       "Tenure             0\n",
       "Balance            0\n",
       "NumOfProducts      0\n",
       "HasCrCard          0\n",
       "IsActiveMember     0\n",
       "EstimatedSalary    0\n",
       "Exited             0\n",
       "dtype: int64"
      ]
     },
     "execution_count": 186,
     "metadata": {},
     "output_type": "execute_result"
    }
   ],
   "source": [
    "data.isna().sum()"
   ]
  },
  {
   "cell_type": "code",
   "execution_count": 187,
   "metadata": {},
   "outputs": [],
   "source": [
    "\n",
    "\n",
    "data_train, data_test1 =train_test_split(data, test_size=0.4, random_state=12345)\n",
    "data_test, data_valid=train_test_split(data_test1, test_size=0.5, random_state=12345)\n",
    "\n",
    "features_test = data_test.drop(['Exited'], axis=1)\n",
    "target_test = data_test['Exited']\n",
    "\n"
   ]
  },
  {
   "cell_type": "code",
   "execution_count": 188,
   "metadata": {},
   "outputs": [
    {
     "name": "stdout",
     "output_type": "stream",
     "text": [
      "(6000, 10)\n",
      "(2000, 10)\n",
      "(6000,)\n",
      "(2000, 10)\n"
     ]
    }
   ],
   "source": [
    "\n",
    "features_train = data_train.drop(['Exited'], axis=1)\n",
    "target_train = data_train['Exited']\n",
    "features_valid = data_valid.drop(['Exited'], axis=1)\n",
    "target_valid = data_valid['Exited']\n",
    "\n",
    "print(features_train.shape)\n",
    "\n",
    "print(features_valid.shape)\n",
    "print(target_train.shape)\n",
    "print(features_test.shape)\n"
   ]
  },
  {
   "cell_type": "code",
   "execution_count": null,
   "metadata": {},
   "outputs": [],
   "source": []
  },
  {
   "cell_type": "markdown",
   "metadata": {},
   "source": [
    "## Исследование задачи"
   ]
  },
  {
   "cell_type": "markdown",
   "metadata": {},
   "source": [
    "Преобразовать категориальные признаки в численные поможет техника прямого кодирования, или отображения. Она работает со всем и моделями, поэтому будем пользоваться ей в нашем проекте. "
   ]
  },
  {
   "cell_type": "code",
   "execution_count": 189,
   "metadata": {},
   "outputs": [
    {
     "name": "stdout",
     "output_type": "stream",
     "text": [
      "(6000, 11)\n",
      "(6000,)\n",
      "(2000, 11)\n",
      "(2000, 11)\n"
     ]
    }
   ],
   "source": [
    "\n",
    "\n",
    "features_train, features_test, target_train, target_test = train_test_split(features, target, test_size=0.4,random_state=12345)\n",
    "features_test, features_valid, target_test, target_valid = train_test_split(features_test, target_test, test_size=0.5,random_state=12345)\n",
    "print(features_train.shape)\n",
    "print(target_train.shape)\n",
    "print(features_valid.shape)\n",
    "print(features_test.shape)\n"
   ]
  },
  {
   "cell_type": "code",
   "execution_count": null,
   "metadata": {},
   "outputs": [],
   "source": []
  },
  {
   "cell_type": "code",
   "execution_count": 190,
   "metadata": {},
   "outputs": [
    {
     "data": {
      "text/plain": [
       "0.7875"
      ]
     },
     "execution_count": 190,
     "metadata": {},
     "output_type": "execute_result"
    }
   ],
   "source": [
    "\n",
    "features_train = pd.get_dummies(features_train, drop_first=True)\n",
    "\n",
    "features_valid = pd.get_dummies(features_valid, drop_first=True)\n",
    "features_test = pd.get_dummies(features_test, drop_first=True)\n",
    "\n",
    "\n",
    "model = LogisticRegression(random_state=12345, solver='liblinear', max_iter=1000)\n",
    "model.fit(features_train, target_train)\n",
    "#prediction = model.predict(target_valid)\n",
    "# model.predict(new_item)\n",
    "model.score(features_valid, target_valid)\n",
    "#f1_score(target_valid,prediction)"
   ]
  },
  {
   "cell_type": "code",
   "execution_count": 191,
   "metadata": {},
   "outputs": [
    {
     "name": "stdout",
     "output_type": "stream",
     "text": [
      "(6000, 11)\n",
      "(6000,)\n",
      "(2000, 11)\n",
      "(2000, 11)\n"
     ]
    }
   ],
   "source": [
    "print(features_train.shape)\n",
    "print(target_train.shape)\n",
    "print(features_valid.shape)\n",
    "print(features_test.shape)"
   ]
  },
  {
   "cell_type": "markdown",
   "metadata": {},
   "source": [
    "Стандартизируем численные признаки, используя структуру StandarScaler."
   ]
  },
  {
   "cell_type": "code",
   "execution_count": 192,
   "metadata": {},
   "outputs": [
    {
     "data": {
      "text/html": [
       "<div>\n",
       "<style scoped>\n",
       "    .dataframe tbody tr th:only-of-type {\n",
       "        vertical-align: middle;\n",
       "    }\n",
       "\n",
       "    .dataframe tbody tr th {\n",
       "        vertical-align: top;\n",
       "    }\n",
       "\n",
       "    .dataframe thead th {\n",
       "        text-align: right;\n",
       "    }\n",
       "</style>\n",
       "<table border=\"1\" class=\"dataframe\">\n",
       "  <thead>\n",
       "    <tr style=\"text-align: right;\">\n",
       "      <th></th>\n",
       "      <th>CreditScore</th>\n",
       "      <th>Age</th>\n",
       "      <th>Tenure</th>\n",
       "      <th>Balance</th>\n",
       "      <th>NumOfProducts</th>\n",
       "      <th>HasCrCard</th>\n",
       "      <th>IsActiveMember</th>\n",
       "      <th>EstimatedSalary</th>\n",
       "      <th>Geography_Germany</th>\n",
       "      <th>Geography_Spain</th>\n",
       "      <th>Gender_Male</th>\n",
       "    </tr>\n",
       "  </thead>\n",
       "  <tbody>\n",
       "    <tr>\n",
       "      <th>7479</th>\n",
       "      <td>-0.886751</td>\n",
       "      <td>-0.373192</td>\n",
       "      <td>1.104696</td>\n",
       "      <td>1.232271</td>\n",
       "      <td>-0.891560</td>\n",
       "      <td>1</td>\n",
       "      <td>0</td>\n",
       "      <td>-0.187705</td>\n",
       "      <td>0</td>\n",
       "      <td>1</td>\n",
       "      <td>1</td>\n",
       "    </tr>\n",
       "    <tr>\n",
       "      <th>3411</th>\n",
       "      <td>0.608663</td>\n",
       "      <td>-0.183385</td>\n",
       "      <td>1.104696</td>\n",
       "      <td>0.600563</td>\n",
       "      <td>-0.891560</td>\n",
       "      <td>0</td>\n",
       "      <td>0</td>\n",
       "      <td>-0.333945</td>\n",
       "      <td>0</td>\n",
       "      <td>0</td>\n",
       "      <td>0</td>\n",
       "    </tr>\n",
       "    <tr>\n",
       "      <th>6027</th>\n",
       "      <td>2.052152</td>\n",
       "      <td>0.480939</td>\n",
       "      <td>-0.503694</td>\n",
       "      <td>1.027098</td>\n",
       "      <td>0.830152</td>\n",
       "      <td>0</td>\n",
       "      <td>1</td>\n",
       "      <td>1.503095</td>\n",
       "      <td>1</td>\n",
       "      <td>0</td>\n",
       "      <td>1</td>\n",
       "    </tr>\n",
       "    <tr>\n",
       "      <th>1247</th>\n",
       "      <td>-1.457915</td>\n",
       "      <td>-1.417129</td>\n",
       "      <td>0.461340</td>\n",
       "      <td>-1.233163</td>\n",
       "      <td>0.830152</td>\n",
       "      <td>1</td>\n",
       "      <td>0</td>\n",
       "      <td>-1.071061</td>\n",
       "      <td>0</td>\n",
       "      <td>0</td>\n",
       "      <td>1</td>\n",
       "    </tr>\n",
       "    <tr>\n",
       "      <th>3716</th>\n",
       "      <td>0.130961</td>\n",
       "      <td>-1.132419</td>\n",
       "      <td>-0.825373</td>\n",
       "      <td>1.140475</td>\n",
       "      <td>-0.891560</td>\n",
       "      <td>0</td>\n",
       "      <td>0</td>\n",
       "      <td>1.524268</td>\n",
       "      <td>1</td>\n",
       "      <td>0</td>\n",
       "      <td>0</td>\n",
       "    </tr>\n",
       "  </tbody>\n",
       "</table>\n",
       "</div>"
      ],
      "text/plain": [
       "      CreditScore       Age    Tenure   Balance  NumOfProducts  HasCrCard  \\\n",
       "7479    -0.886751 -0.373192  1.104696  1.232271      -0.891560          1   \n",
       "3411     0.608663 -0.183385  1.104696  0.600563      -0.891560          0   \n",
       "6027     2.052152  0.480939 -0.503694  1.027098       0.830152          0   \n",
       "1247    -1.457915 -1.417129  0.461340 -1.233163       0.830152          1   \n",
       "3716     0.130961 -1.132419 -0.825373  1.140475      -0.891560          0   \n",
       "\n",
       "      IsActiveMember  EstimatedSalary  Geography_Germany  Geography_Spain  \\\n",
       "7479               0        -0.187705                  0                1   \n",
       "3411               0        -0.333945                  0                0   \n",
       "6027               1         1.503095                  1                0   \n",
       "1247               0        -1.071061                  0                0   \n",
       "3716               0         1.524268                  1                0   \n",
       "\n",
       "      Gender_Male  \n",
       "7479            1  \n",
       "3411            0  \n",
       "6027            1  \n",
       "1247            1  \n",
       "3716            0  "
      ]
     },
     "execution_count": 192,
     "metadata": {},
     "output_type": "execute_result"
    }
   ],
   "source": [
    "numeric = ['CreditScore', 'Age','Tenure','Balance','NumOfProducts','EstimatedSalary']\n",
    "scaler = StandardScaler()\n",
    "scaler.fit(features_train[numeric])\n",
    "features_train[numeric] = scaler.transform(features_train[numeric])\n",
    "# scaler.fit(features_valid[numeric])\n",
    "features_valid[numeric]=scaler.transform(features_valid[numeric])\n",
    "# < напишите код здесь >\n",
    "features_test[numeric]=scaler.transform(features_test[numeric])\n",
    "pd.options.mode.chained_assignment = None\n",
    "features_train.head()"
   ]
  },
  {
   "cell_type": "markdown",
   "metadata": {},
   "source": [
    "Обучим модель решающего дерева.\n",
    "Вычислим правильность модели функцией accuracy_score(). Она принимает на вход верные ответы и предсказания, а возвращает долю правильных ответов."
   ]
  },
  {
   "cell_type": "code",
   "execution_count": 193,
   "metadata": {},
   "outputs": [
    {
     "data": {
      "text/plain": [
       "0.2743055555555555"
      ]
     },
     "execution_count": 193,
     "metadata": {},
     "output_type": "execute_result"
    }
   ],
   "source": [
    "#логистическая регрессия\n",
    "model = LogisticRegression(random_state=12345, solver='liblinear', max_iter=1000)\n",
    "model.fit(features_train, target_train)\n",
    "predicted_valid = model.predict(features_valid)\n",
    "# model.predict(new_item)\n",
    "\n",
    "f1_score(target_valid,predicted_valid)"
   ]
  },
  {
   "cell_type": "markdown",
   "metadata": {},
   "source": [
    "Обучим модель дерева решений, подберем оптимальные параметры"
   ]
  },
  {
   "cell_type": "code",
   "execution_count": 194,
   "metadata": {},
   "outputs": [
    {
     "name": "stdout",
     "output_type": "stream",
     "text": [
      "max_depth = 1 : 0.0\n",
      "max_depth = 2 : 0.4986301369863014\n",
      "max_depth = 3 : 0.3795620437956204\n",
      "max_depth = 4 : 0.48307692307692307\n",
      "max_depth = 5 : 0.5015772870662459\n",
      "max_depth = 6 : 0.5337423312883436\n",
      "max_depth = 7 : 0.4976816074188563\n",
      "max_depth = 8 : 0.4992343032159265\n",
      "max_depth = 9 : 0.53781512605042\n",
      "max_depth = 10 : 0.5086206896551724\n",
      "max_depth = 11 : 0.49933244325767695\n",
      "max_depth = 12 : 0.49343832020997375\n",
      "max_depth = 13 : 0.4818652849740933\n",
      "max_depth = 14 : 0.4830188679245283\n",
      "max_depth = 15 : 0.4930817610062893\n",
      "max_depth = 16 : 0.4975124378109453\n",
      "max_depth = 17 : 0.4869565217391304\n",
      "max_depth = 18 : 0.48840048840048844\n",
      "max_depth = 19 : 0.4855769230769231\n",
      "max_depth = 20 : 0.47664670658682634\n",
      "max_depth = 21 : 0.48851269649334944\n",
      "max_depth = 22 : 0.4788391777509069\n",
      "max_depth = 23 : 0.4788391777509069\n",
      "max_depth = 24 : 0.4788391777509069\n",
      "max_depth = 25 : 0.4788391777509069\n",
      "max_depth = 26 : 0.4788391777509069\n",
      "max_depth = 27 : 0.4788391777509069\n",
      "max_depth = 28 : 0.4788391777509069\n",
      "max_depth = 29 : 0.4788391777509069\n"
     ]
    }
   ],
   "source": [
    "for depth in range(1, 30):\n",
    "    model = DecisionTreeClassifier(random_state=12345, max_depth=depth )# обучите модель с заданной глубиной дерева\n",
    "    model.fit(features_train, target_train) # обучите модель\n",
    "    predictions_valid = model.predict(features_valid)\n",
    "    print(\"max_depth =\", depth, \": \", end='')\n",
    "    print(f1_score(target_valid, predictions_valid))"
   ]
  },
  {
   "cell_type": "markdown",
   "metadata": {},
   "source": [
    "Наибольшего значения метрика f1 достигает при глубине дерева 9, она равна 0.587"
   ]
  },
  {
   "cell_type": "code",
   "execution_count": 195,
   "metadata": {},
   "outputs": [
    {
     "name": "stdout",
     "output_type": "stream",
     "text": [
      "F1 наилучшей модели на валидационной выборке: 0.5306748466257668 Количество деревьев: 18 Максимальная глубина: 10\n",
      "CPU times: user 45.1 s, sys: 186 ms, total: 45.3 s\n",
      "Wall time: 45.3 s\n"
     ]
    }
   ],
   "source": [
    "%%time\n",
    "best_model_rf = None\n",
    "best_result = 0\n",
    "best_est = 0\n",
    "best_depth = 0\n",
    "for est in range(10, 51, 1):\n",
    "    for depth in range (1, 11):\n",
    "        model = RandomForestClassifier(random_state=12345, n_estimators=est, max_depth=depth)\n",
    "        model.fit(features_train, target_train)\n",
    "        # обучим модель на тренировочной выборке\n",
    "        predictions_valid = model.predict(features_valid)\n",
    "        result = f1_score(target_valid, predictions_valid)\n",
    "        if result > best_result:\n",
    "            best_model_rf = model\n",
    "            best_result = result\n",
    "            best_est = est\n",
    "            best_depth = depth\n",
    "print(\"F1 наилучшей модели на валидационной выборке:\", best_result, \"Количество деревьев:\", best_est, \"Максимальная глубина:\", depth)    "
   ]
  },
  {
   "cell_type": "markdown",
   "metadata": {},
   "source": [
    "После обучения 3 моделей без учета дисбаланса и перебора гиперпараметров, можно прийти к выводу, что наилучший результат у дерева решений 0.587"
   ]
  },
  {
   "cell_type": "markdown",
   "metadata": {},
   "source": [
    "### Устраняем дисбаланс"
   ]
  },
  {
   "cell_type": "code",
   "execution_count": 196,
   "metadata": {},
   "outputs": [
    {
     "name": "stdout",
     "output_type": "stream",
     "text": [
      "0    0.7963\n",
      "1    0.2037\n",
      "Name: Exited, dtype: float64\n"
     ]
    },
    {
     "data": {
      "text/plain": [
       "<AxesSubplot:>"
      ]
     },
     "execution_count": 196,
     "metadata": {},
     "output_type": "execute_result"
    },
    {
     "data": {
      "image/png": "[encoded data removed]",
      "text/plain": [
       "<Figure size 432x288 with 1 Axes>"
      ]
     },
     "metadata": {
      "needs_background": "light"
     },
     "output_type": "display_data"
    }
   ],
   "source": [
    "#соотношение классов\n",
    "class_frequency = data['Exited'].value_counts(normalize=True)\n",
    "print(class_frequency)\n",
    "class_frequency.plot(kind='bar')"
   ]
  },
  {
   "cell_type": "markdown",
   "metadata": {},
   "source": [
    "Соотношение классов, как видно на графике 1:4, что говорит о дисбалансе в данных"
   ]
  },
  {
   "cell_type": "code",
   "execution_count": 216,
   "metadata": {},
   "outputs": [
    {
     "data": {
      "text/plain": [
       "array([[1284,  293],\n",
       "       [ 212,  211]])"
      ]
     },
     "execution_count": 216,
     "metadata": {},
     "output_type": "execute_result"
    }
   ],
   "source": [
    "#Построим матрицу ошибок для решающего дерева\n",
    "confusion_matrix(target_valid, predicted_valid )"
   ]
  },
  {
   "cell_type": "markdown",
   "metadata": {},
   "source": [
    "По матрице ошибок видно, что наша модель любит истинно отрицательные ответы.\n",
    "Матрица ошибок поможет построить новые метрики. Начнём с полноты (англ. recall).\n",
    "Полнота выявляет, какую долю положительных среди всех ответов выделила модель. Обычно они на вес золота, и важно понимать, как хорошо модель их находит. "
   ]
  },
  {
   "cell_type": "code",
   "execution_count": 217,
   "metadata": {},
   "outputs": [
    {
     "data": {
      "text/plain": [
       "0.4988179669030733"
      ]
     },
     "execution_count": 217,
     "metadata": {},
     "output_type": "execute_result"
    }
   ],
   "source": [
    "recall_score(target_valid, predicted_valid)"
   ]
  },
  {
   "cell_type": "markdown",
   "metadata": {},
   "source": [
    "Полнота — это доля TP-ответов среди всех, у которых истинная метка 1. Хорошо, когда значение recall близко к единице: модель хорошо ищет положительные объекты. Если ближе к нулю — модель надо перепроверить и починить.\n",
    "Ещё одна метрика для оценки качества прогноза целевого класса — точность.\n",
    "Точность определяет, как много отрицательных ответов нашла модель, пока искала положительные. Чем больше отрицательных, тем ниже точность."
   ]
  },
  {
   "cell_type": "code",
   "execution_count": 218,
   "metadata": {},
   "outputs": [
    {
     "data": {
      "text/plain": [
       "0.41865079365079366"
      ]
     },
     "execution_count": 218,
     "metadata": {},
     "output_type": "execute_result"
    }
   ],
   "source": [
    "precision_score(target_valid, predicted_valid)"
   ]
  },
  {
   "cell_type": "markdown",
   "metadata": {},
   "source": [
    "Точность тоже не на много ближе к 1, чем полнота. Когда модель плохо предсказывает положительные классы, то мала как точность, так и полнота.Нужно обучить модель, которая, наоборот, отвечает «1» как можно реже.\n",
    "Полнота и точность оценивают качество прогноза положительного класса с разных позиций. Recall описывает, как хорошо модель разобралась в особенностях этого класса и распознала его. Precision выявляет, не переусердствует ли модель, присваивая положительные метки. \n",
    "Важны обе метрики. Контролировать их параллельно помогают агрегирующие метрики, одна из которых — F1-мера (англ. F1-score). Это среднее гармоническое полноты и точности. Единица в F1 означает, что соотношение полноты и точности равно 1:1. "
   ]
  },
  {
   "cell_type": "code",
   "execution_count": 219,
   "metadata": {},
   "outputs": [
    {
     "data": {
      "text/plain": [
       "0.4552319309600863"
      ]
     },
     "execution_count": 219,
     "metadata": {},
     "output_type": "execute_result"
    }
   ],
   "source": [
    "f1_score(target_valid, predicted_valid)"
   ]
  },
  {
   "cell_type": "markdown",
   "metadata": {},
   "source": [
    "Изменим вес класса на сбалансированный и проверим как изменится метрика F1 на логистической регресии."
   ]
  },
  {
   "cell_type": "code",
   "execution_count": 220,
   "metadata": {},
   "outputs": [
    {
     "name": "stdout",
     "output_type": "stream",
     "text": [
      "F1: 0.4797238999137188\n"
     ]
    }
   ],
   "source": [
    "model = LogisticRegression(random_state=12345, solver='liblinear', class_weight='balanced')\n",
    "model.fit(features_train, target_train)\n",
    "predicted_valid = model.predict(features_valid)\n",
    "print(\"F1:\", f1_score(target_valid, predicted_valid))"
   ]
  },
  {
   "cell_type": "markdown",
   "metadata": {},
   "source": [
    "Произведем увеличение выборки"
   ]
  },
  {
   "cell_type": "code",
   "execution_count": 221,
   "metadata": {},
   "outputs": [
    {
     "name": "stdout",
     "output_type": "stream",
     "text": [
      "(4804, 11)\n",
      "(1196, 11)\n",
      "(4804,)\n",
      "(1196,)\n"
     ]
    }
   ],
   "source": [
    "features_zeros = features_train[target_train == 0]\n",
    "features_ones = features_train[target_train == 1] # < напишите код здесь >\n",
    "target_zeros = target_train[target_train==0]\n",
    "target_ones  = target_train[target_train==1]\n",
    "print(features_zeros.shape)\n",
    "print(features_ones.shape)\n",
    "print(target_zeros.shape)\n",
    "print(target_ones.shape)\n"
   ]
  },
  {
   "cell_type": "code",
   "execution_count": 222,
   "metadata": {},
   "outputs": [
    {
     "name": "stdout",
     "output_type": "stream",
     "text": [
      "(9588, 11)\n",
      "(9588,)\n"
     ]
    }
   ],
   "source": [
    "repeat = 4\n",
    "features_upsampled = pd.concat([features_zeros] + [features_ones] * repeat)\n",
    "target_upsampled = pd.concat([target_zeros] + [target_ones] * repeat)\n",
    "\n",
    "print(features_upsampled.shape)\n",
    "print(target_upsampled.shape)"
   ]
  },
  {
   "cell_type": "code",
   "execution_count": 223,
   "metadata": {},
   "outputs": [
    {
     "name": "stdout",
     "output_type": "stream",
     "text": [
      "F1: 0.43009545199326216\n"
     ]
    }
   ],
   "source": [
    "def upsample(features, target, repeat):\n",
    "    features_zeros = features[target == 0]\n",
    "    features_ones = features[target == 1]\n",
    "    target_zeros = target[target == 0]\n",
    "    target_ones = target[target == 1]\n",
    "\n",
    "    features_upsampled = pd.concat([features_zeros] + [features_ones] * repeat)\n",
    "    target_upsampled = pd.concat([target_zeros] + [target_ones] * repeat)\n",
    "    \n",
    "    features_upsampled, target_upsampled = shuffle(\n",
    "        features_upsampled, target_upsampled, random_state=12345)\n",
    "    \n",
    "    return features_upsampled, target_upsampled\n",
    "\n",
    "features_upsampled, target_upsampled = upsample(features_train, target_train, 4)\n",
    "model = LogisticRegression (solver = 'liblinear', random_state=12345)\n",
    "model.fit(features_upsampled, target_upsampled)\n",
    "predicted_valid = model.predict(features_valid)\n",
    "# < напишите код здесь >\n",
    "\n",
    "print(\"F1:\", f1_score(target_valid, predicted_valid))"
   ]
  },
  {
   "cell_type": "markdown",
   "metadata": {},
   "source": [
    "Произведем уменьшение выборки"
   ]
  },
  {
   "cell_type": "code",
   "execution_count": 224,
   "metadata": {},
   "outputs": [
    {
     "name": "stdout",
     "output_type": "stream",
     "text": [
      "(2397, 11)\n",
      "(2397,)\n"
     ]
    }
   ],
   "source": [
    "def downsample(features, target, fraction):\n",
    "    features_zeros = features[target == 0]\n",
    "    features_ones = features[target == 1]\n",
    "    target_zeros = target[target == 0]\n",
    "    target_ones = target[target == 1]\n",
    "\n",
    "    features_downsampled = pd.concat([features_zeros.sample(frac=fraction, random_state=12345)] + [features_ones]) \n",
    "    target_downsampled = pd.concat([target_zeros.sample(frac=fraction, random_state=12345)] + [target_ones])\n",
    "    features_downsampled, target_downsampled = shuffle(\n",
    "        features_downsampled, target_downsampled, random_state=12345)\n",
    "    \n",
    "    # < напишите код здесь >\n",
    "    \n",
    "    return features_downsampled, target_downsampled\n",
    "\n",
    "features_downsampled, target_downsampled = downsample(features_train, target_train, 0.25)\n",
    "\n",
    "print(features_downsampled.shape)\n",
    "print(target_downsampled.shape)"
   ]
  },
  {
   "cell_type": "code",
   "execution_count": 225,
   "metadata": {},
   "outputs": [
    {
     "name": "stdout",
     "output_type": "stream",
     "text": [
      "F1: 0.48630136986301375\n"
     ]
    }
   ],
   "source": [
    "\n",
    "model = LogisticRegression (solver = 'liblinear', random_state=12345)\n",
    "model.fit(features_downsampled, target_downsampled)\n",
    "predicted_valid = model.predict(features_valid)\n",
    "# < напишите код здесь >\n",
    "\n",
    "print(\"F1:\", f1_score(target_valid, predicted_valid))"
   ]
  },
  {
   "cell_type": "code",
   "execution_count": 226,
   "metadata": {},
   "outputs": [
    {
     "name": "stdout",
     "output_type": "stream",
     "text": [
      "Порог = 0.00 | Точность = 0.211, Полнота = 1.000\n",
      "Порог = 0.02 | Точность = 0.213, Полнота = 0.991\n",
      "Порог = 0.04 | Точность = 0.225, Полнота = 0.972\n",
      "Порог = 0.06 | Точность = 0.243, Полнота = 0.939\n",
      "Порог = 0.08 | Точность = 0.265, Полнота = 0.920\n",
      "Порог = 0.10 | Точность = 0.285, Полнота = 0.882\n",
      "Порог = 0.12 | Точность = 0.302, Полнота = 0.842\n",
      "Порог = 0.14 | Точность = 0.323, Полнота = 0.816\n",
      "Порог = 0.16 | Точность = 0.341, Полнота = 0.759\n",
      "Порог = 0.18 | Точность = 0.364, Полнота = 0.719\n",
      "Порог = 0.20 | Точность = 0.371, Полнота = 0.657\n",
      "Порог = 0.22 | Точность = 0.381, Полнота = 0.610\n",
      "Порог = 0.24 | Точность = 0.394, Полнота = 0.574\n",
      "Порог = 0.26 | Точность = 0.402, Полнота = 0.537\n",
      "Порог = 0.28 | Точность = 0.419, Полнота = 0.499\n"
     ]
    }
   ],
   "source": [
    "model = LogisticRegression(random_state=12345, solver='liblinear')\n",
    "model.fit(features_train, target_train)\n",
    "probabilities_valid = model.predict_proba(features_valid)\n",
    "probabilities_one_valid = probabilities_valid[:, 1]\n",
    "\n",
    "for threshold in np.arange(0, 0.3, 0.02):\n",
    "    predicted_valid = probabilities_one_valid>threshold # < напишите код здесь >\n",
    "    precision = precision_score(target_valid, predicted_valid)# < напишите код здесь >\n",
    "    recall = recall_score(target_valid, predicted_valid)# < напишите код здесь >\n",
    "\n",
    "    print(\"Порог = {:.2f} | Точность = {:.3f}, Полнота = {:.3f}\".format(\n",
    "        threshold, precision, recall))"
   ]
  },
  {
   "cell_type": "markdown",
   "metadata": {},
   "source": [
    "Построим ROC-кривую и посчитаем AUC-ROC для логистической регрессии"
   ]
  },
  {
   "cell_type": "code",
   "execution_count": 227,
   "metadata": {},
   "outputs": [
    {
     "data": {
      "image/png": "[encoded data removed]",
      "text/plain": [
       "<Figure size 432x288 with 1 Axes>"
      ]
     },
     "metadata": {
      "needs_background": "light"
     },
     "output_type": "display_data"
    }
   ],
   "source": [
    "model = LogisticRegression(random_state=12345, solver='liblinear')\n",
    "model.fit(features_train, target_train)\n",
    "\n",
    "probabilities_valid = model.predict_proba(features_valid)\n",
    "probabilities_one_valid = probabilities_valid[:, 1]\n",
    "fpr, tpr, thresholds = roc_curve(target_valid, probabilities_one_valid) # < напишите код здесь >\n",
    "\n",
    "plt.figure()\n",
    "plt.plot(fpr,tpr)\n",
    "plt.xlim([0.0, 1.0])\n",
    "plt.ylim([0.0, 1.0])\n",
    "# < постройте график >\n",
    "plt.xlabel(\"False Positive Rate\")\n",
    "plt.ylabel(\"True Positive Rate\") \n",
    "plt.title(\"ROC-кривая\")\n",
    "# ROC-кривая случайной модели (выглядит как прямая)\n",
    "plt.plot([0, 1], [0, 1], linestyle='--')\n",
    "\n",
    "\n",
    "\n",
    "plt.show()"
   ]
  },
  {
   "cell_type": "code",
   "execution_count": 209,
   "metadata": {},
   "outputs": [
    {
     "data": {
      "text/plain": [
       "0.738656005132887"
      ]
     },
     "execution_count": 209,
     "metadata": {},
     "output_type": "execute_result"
    }
   ],
   "source": [
    "auc_roc = roc_auc_score(target_valid,probabilities_one_valid)\n",
    "auc_roc\n"
   ]
  },
  {
   "cell_type": "code",
   "execution_count": 228,
   "metadata": {},
   "outputs": [
    {
     "name": "stdout",
     "output_type": "stream",
     "text": [
      "max_depth = 1 : 0.4878957169459963\n",
      "max_depth = 2 : 0.5109090909090909\n",
      "max_depth = 3 : 0.5261158594491927\n",
      "max_depth = 4 : 0.5405857740585773\n",
      "max_depth = 5 : 0.6074380165289257\n",
      "max_depth = 6 : 0.5876951331496786\n",
      "max_depth = 7 : 0.5426086956521738\n",
      "max_depth = 8 : 0.5499999999999999\n",
      "max_depth = 9 : 0.5548387096774193\n",
      "max_depth = 10 : 0.5343659244917716\n",
      "max_depth = 11 : 0.5238540692235734\n",
      "max_depth = 12 : 0.5009009009009009\n",
      "max_depth = 13 : 0.5080500894454383\n",
      "max_depth = 14 : 0.49477351916376316\n",
      "max_depth = 15 : 0.5101500441306267\n",
      "max_depth = 16 : 0.4904347826086956\n",
      "max_depth = 17 : 0.4964664310954063\n",
      "max_depth = 18 : 0.49912739965095976\n",
      "max_depth = 19 : 0.49128919860627185\n",
      "max_depth = 20 : 0.49128919860627185\n",
      "max_depth = 21 : 0.49128919860627185\n",
      "max_depth = 22 : 0.49128919860627185\n",
      "max_depth = 23 : 0.49128919860627185\n",
      "max_depth = 24 : 0.49128919860627185\n",
      "max_depth = 25 : 0.49128919860627185\n",
      "max_depth = 26 : 0.49128919860627185\n",
      "max_depth = 27 : 0.49128919860627185\n",
      "max_depth = 28 : 0.49128919860627185\n",
      "max_depth = 29 : 0.49128919860627185\n"
     ]
    }
   ],
   "source": [
    "\n",
    "\n",
    "for depth in range(1, 30):\n",
    "    model = DecisionTreeClassifier(random_state=12345, max_depth=depth )# обучите модель с заданной глубиной дерева\n",
    "    model.fit(features_downsampled, target_downsampled) # обучите модель\n",
    "    predictions_valid = model.predict(features_valid)\n",
    "    print(\"max_depth =\", depth, \": \", end='')\n",
    "    print(f1_score(target_valid, predictions_valid))"
   ]
  },
  {
   "cell_type": "code",
   "execution_count": 229,
   "metadata": {},
   "outputs": [
    {
     "name": "stdout",
     "output_type": "stream",
     "text": [
      "F1 наилучшей модели на валидационной выборке: 0.5913875598086125 Количество деревьев: 11 Максимальная глубина: 10\n",
      "CPU times: user 28.9 s, sys: 139 ms, total: 29 s\n",
      "Wall time: 29 s\n"
     ]
    }
   ],
   "source": [
    "%%time\n",
    "best_model_rf = None\n",
    "best_result = 0\n",
    "best_est = 0\n",
    "best_depth = 0\n",
    "for est in range(10, 51, 1):\n",
    "    for depth in range (1, 11):\n",
    "        model = RandomForestClassifier(random_state=12345, n_estimators=est, max_depth=depth)\n",
    "        model.fit(features_downsampled, target_downsampled)\n",
    "        # обучим модель на тренировочной выборке\n",
    "        predictions_valid = model.predict(features_valid)\n",
    "        result = f1_score(target_valid, predictions_valid)\n",
    "        if result > best_result:\n",
    "            best_model_rf = model\n",
    "            best_result = result\n",
    "            best_est = est\n",
    "            best_depth = depth\n",
    "print(\"F1 наилучшей модели на валидационной выборке:\", best_result, \"Количество деревьев:\", best_est, \"Максимальная глубина:\", depth)    "
   ]
  },
  {
   "cell_type": "markdown",
   "metadata": {},
   "source": [
    "Лучший результат после балансировки данных показало дерево решений 0.5"
   ]
  },
  {
   "cell_type": "markdown",
   "metadata": {},
   "source": [
    "## Финальное тестирование"
   ]
  },
  {
   "cell_type": "code",
   "execution_count": 230,
   "metadata": {},
   "outputs": [
    {
     "data": {
      "text/plain": [
       "('F1:', 0.4888888888888888)"
      ]
     },
     "execution_count": 230,
     "metadata": {},
     "output_type": "execute_result"
    }
   ],
   "source": [
    "model = LogisticRegression(random_state=12345, solver='liblinear', class_weight='balanced')\n",
    "#target_concat = pd.concat([target_train] +[target_valid]) \n",
    "#features_concat = pd.concat([features_train] +[features_valid]) \n",
    "model.fit(features_train, target_train)\n",
    "                        \n",
    "#model.fit(features_train, target_train)\n",
    "predicted= model.predict(features_test)\n",
    "\"F1:\", f1_score(target_test, predicted)"
   ]
  },
  {
   "cell_type": "code",
   "execution_count": 235,
   "metadata": {},
   "outputs": [
    {
     "name": "stdout",
     "output_type": "stream",
     "text": [
      "0.5696969696969697\n"
     ]
    }
   ],
   "source": [
    "model = DecisionTreeClassifier(random_state=12345, max_depth=6)# обучите модель с заданной глубиной дерева\n",
    "model.fit(features_train, target_train) # обучите модель\n",
    "predicted_test = model.predict(features_test)\n",
    "    #print(\"max_depth =\", depth, \": \", end='')\n",
    "print(f1_score(target_test, predicted_test))"
   ]
  },
  {
   "cell_type": "code",
   "execution_count": 234,
   "metadata": {},
   "outputs": [
    {
     "data": {
      "text/plain": [
       "0.5683890577507599"
      ]
     },
     "execution_count": 234,
     "metadata": {},
     "output_type": "execute_result"
    }
   ],
   "source": [
    "model = RandomForestClassifier(random_state=12345, n_estimators=11, max_depth=10)\n",
    "model.fit(features_train, target_train)\n",
    "        # обучим модель на тренировочной выборке\n",
    "predictions_test= model.predict(features_test)\n",
    "f1_score(target_test, predictions_test)"
   ]
  },
  {
   "cell_type": "code",
   "execution_count": 233,
   "metadata": {},
   "outputs": [
    {
     "data": {
      "text/plain": [
       "0.8463863802708702"
      ]
     },
     "execution_count": 233,
     "metadata": {},
     "output_type": "execute_result"
    }
   ],
   "source": [
    "\n",
    "probabilities_test = model.predict_proba(features_test)\n",
    "probabilities_one_valid = probabilities_test[:, 1]\n",
    "auc_roc = roc_auc_score(target_test,probabilities_one_valid)\n",
    "auc_roc\n"
   ]
  },
  {
   "cell_type": "markdown",
   "metadata": {},
   "source": [
    "Построена модель дерева решений с наибольшим значением метрик."
   ]
  }
 ],
 "metadata": {
  "ExecuteTimeLog": [
   {
    "duration": 447,
    "start_time": "2022-12-22T15:06:59.699Z"
   },
   {
    "duration": 115,
    "start_time": "2022-12-22T15:07:06.824Z"
   },
   {
    "duration": 52,
    "start_time": "2022-12-22T15:13:00.710Z"
   },
   {
    "duration": 89,
    "start_time": "2022-12-22T15:13:54.342Z"
   },
   {
    "duration": 837,
    "start_time": "2022-12-22T15:13:59.926Z"
   },
   {
    "duration": 53,
    "start_time": "2022-12-22T15:14:00.766Z"
   },
   {
    "duration": 12,
    "start_time": "2022-12-22T15:14:01.075Z"
   },
   {
    "duration": 57,
    "start_time": "2022-12-22T15:15:42.473Z"
   },
   {
    "duration": 9,
    "start_time": "2022-12-22T15:15:52.579Z"
   },
   {
    "duration": 10,
    "start_time": "2022-12-22T15:16:45.823Z"
   },
   {
    "duration": 8,
    "start_time": "2022-12-22T15:17:06.072Z"
   },
   {
    "duration": 10,
    "start_time": "2022-12-22T15:18:49.710Z"
   },
   {
    "duration": 22,
    "start_time": "2022-12-22T15:26:38.226Z"
   },
   {
    "duration": 54,
    "start_time": "2022-12-22T15:26:38.923Z"
   },
   {
    "duration": 5,
    "start_time": "2022-12-22T15:26:42.747Z"
   },
   {
    "duration": 10,
    "start_time": "2022-12-22T15:26:42.890Z"
   },
   {
    "duration": 42,
    "start_time": "2022-12-22T15:27:04.667Z"
   },
   {
    "duration": 5,
    "start_time": "2022-12-22T15:34:56.285Z"
   },
   {
    "duration": 5,
    "start_time": "2022-12-22T15:39:11.295Z"
   },
   {
    "duration": 5,
    "start_time": "2022-12-22T15:39:19.564Z"
   },
   {
    "duration": 6,
    "start_time": "2022-12-22T15:40:09.766Z"
   },
   {
    "duration": 6,
    "start_time": "2022-12-22T15:50:10.799Z"
   },
   {
    "duration": 6,
    "start_time": "2022-12-22T15:51:08.387Z"
   },
   {
    "duration": 11,
    "start_time": "2022-12-22T15:51:43.679Z"
   },
   {
    "duration": 1156,
    "start_time": "2022-12-26T12:24:00.295Z"
   },
   {
    "duration": 97,
    "start_time": "2022-12-26T12:24:01.452Z"
   },
   {
    "duration": 6,
    "start_time": "2022-12-26T12:24:01.551Z"
   },
   {
    "duration": 39,
    "start_time": "2022-12-26T12:24:01.560Z"
   },
   {
    "duration": 35,
    "start_time": "2022-12-26T12:24:01.601Z"
   },
   {
    "duration": 166,
    "start_time": "2022-12-26T12:24:01.639Z"
   },
   {
    "duration": 0,
    "start_time": "2022-12-26T12:24:01.807Z"
   },
   {
    "duration": 0,
    "start_time": "2022-12-26T12:24:01.809Z"
   },
   {
    "duration": 0,
    "start_time": "2022-12-26T12:24:01.810Z"
   },
   {
    "duration": 0,
    "start_time": "2022-12-26T12:24:01.812Z"
   },
   {
    "duration": 892,
    "start_time": "2022-12-26T12:24:11.800Z"
   },
   {
    "duration": 4,
    "start_time": "2022-12-26T12:25:16.604Z"
   },
   {
    "duration": 12,
    "start_time": "2022-12-26T12:28:24.412Z"
   },
   {
    "duration": 32,
    "start_time": "2022-12-26T12:30:46.748Z"
   },
   {
    "duration": 9,
    "start_time": "2022-12-26T12:31:06.547Z"
   },
   {
    "duration": 25,
    "start_time": "2022-12-26T12:31:12.943Z"
   },
   {
    "duration": 7,
    "start_time": "2022-12-26T12:31:13.940Z"
   },
   {
    "duration": 7,
    "start_time": "2022-12-26T12:31:27.664Z"
   },
   {
    "duration": 7,
    "start_time": "2022-12-26T12:31:32.200Z"
   },
   {
    "duration": 11,
    "start_time": "2022-12-26T12:31:54.367Z"
   },
   {
    "duration": 19,
    "start_time": "2022-12-26T12:31:58.287Z"
   },
   {
    "duration": 978,
    "start_time": "2022-12-26T12:32:11.659Z"
   },
   {
    "duration": 9,
    "start_time": "2022-12-26T12:45:52.785Z"
   },
   {
    "duration": 3,
    "start_time": "2022-12-26T12:46:02.273Z"
   },
   {
    "duration": 13,
    "start_time": "2022-12-26T12:46:07.629Z"
   },
   {
    "duration": 42,
    "start_time": "2022-12-26T12:46:25.802Z"
   },
   {
    "duration": 1072,
    "start_time": "2022-12-27T13:05:09.280Z"
   },
   {
    "duration": 91,
    "start_time": "2022-12-27T13:05:10.354Z"
   },
   {
    "duration": 5,
    "start_time": "2022-12-27T13:05:10.446Z"
   },
   {
    "duration": 13,
    "start_time": "2022-12-27T13:05:10.453Z"
   },
   {
    "duration": 14,
    "start_time": "2022-12-27T13:05:10.468Z"
   },
   {
    "duration": 7,
    "start_time": "2022-12-27T13:05:10.483Z"
   },
   {
    "duration": 5,
    "start_time": "2022-12-27T13:05:10.492Z"
   },
   {
    "duration": 11,
    "start_time": "2022-12-27T13:05:10.498Z"
   },
   {
    "duration": 110,
    "start_time": "2022-12-27T13:05:10.510Z"
   },
   {
    "duration": 0,
    "start_time": "2022-12-27T13:05:10.622Z"
   },
   {
    "duration": 0,
    "start_time": "2022-12-27T13:05:10.623Z"
   },
   {
    "duration": 0,
    "start_time": "2022-12-27T13:05:10.624Z"
   },
   {
    "duration": 0,
    "start_time": "2022-12-27T13:05:10.625Z"
   },
   {
    "duration": 0,
    "start_time": "2022-12-27T13:05:10.625Z"
   },
   {
    "duration": 0,
    "start_time": "2022-12-27T13:05:10.627Z"
   },
   {
    "duration": 4,
    "start_time": "2022-12-27T13:05:16.229Z"
   },
   {
    "duration": 6,
    "start_time": "2022-12-27T13:05:16.679Z"
   },
   {
    "duration": 6,
    "start_time": "2022-12-27T13:05:17.220Z"
   },
   {
    "duration": 912,
    "start_time": "2022-12-27T13:05:24.592Z"
   },
   {
    "duration": 40,
    "start_time": "2022-12-27T13:05:26.992Z"
   },
   {
    "duration": 9,
    "start_time": "2022-12-27T13:05:53.423Z"
   },
   {
    "duration": 21,
    "start_time": "2022-12-27T13:06:32.362Z"
   },
   {
    "duration": 841,
    "start_time": "2022-12-27T13:06:38.617Z"
   },
   {
    "duration": 527,
    "start_time": "2022-12-27T13:10:15.303Z"
   },
   {
    "duration": 3,
    "start_time": "2022-12-27T13:13:15.565Z"
   },
   {
    "duration": 8,
    "start_time": "2022-12-27T13:14:18.036Z"
   },
   {
    "duration": 4,
    "start_time": "2022-12-27T13:16:13.924Z"
   },
   {
    "duration": 3,
    "start_time": "2022-12-27T13:28:18.682Z"
   },
   {
    "duration": 6,
    "start_time": "2022-12-27T13:28:40.688Z"
   },
   {
    "duration": 4,
    "start_time": "2022-12-27T13:33:48.398Z"
   },
   {
    "duration": 6,
    "start_time": "2022-12-27T13:34:37.360Z"
   },
   {
    "duration": 4,
    "start_time": "2022-12-27T13:40:02.506Z"
   },
   {
    "duration": 6,
    "start_time": "2022-12-27T13:40:24.963Z"
   },
   {
    "duration": 478,
    "start_time": "2022-12-27T13:58:10.220Z"
   },
   {
    "duration": 3,
    "start_time": "2022-12-27T14:25:09.468Z"
   },
   {
    "duration": 1222,
    "start_time": "2022-12-27T14:26:43.277Z"
   },
   {
    "duration": 37,
    "start_time": "2022-12-27T14:29:54.570Z"
   },
   {
    "duration": 35,
    "start_time": "2022-12-27T14:32:56.611Z"
   },
   {
    "duration": 1255,
    "start_time": "2022-12-27T14:32:56.743Z"
   },
   {
    "duration": 1278,
    "start_time": "2022-12-27T14:33:12.726Z"
   },
   {
    "duration": 1088,
    "start_time": "2022-12-29T14:28:06.530Z"
   },
   {
    "duration": 98,
    "start_time": "2022-12-29T14:28:07.620Z"
   },
   {
    "duration": 4,
    "start_time": "2022-12-29T14:28:07.720Z"
   },
   {
    "duration": 8,
    "start_time": "2022-12-29T14:28:07.726Z"
   },
   {
    "duration": 10,
    "start_time": "2022-12-29T14:28:07.736Z"
   },
   {
    "duration": 13,
    "start_time": "2022-12-29T14:28:07.748Z"
   },
   {
    "duration": 7,
    "start_time": "2022-12-29T14:28:07.762Z"
   },
   {
    "duration": 32,
    "start_time": "2022-12-29T14:28:07.771Z"
   },
   {
    "duration": 125,
    "start_time": "2022-12-29T14:28:07.805Z"
   },
   {
    "duration": 0,
    "start_time": "2022-12-29T14:28:07.933Z"
   },
   {
    "duration": 0,
    "start_time": "2022-12-29T14:28:07.935Z"
   },
   {
    "duration": 0,
    "start_time": "2022-12-29T14:28:07.937Z"
   },
   {
    "duration": 0,
    "start_time": "2022-12-29T14:28:07.938Z"
   },
   {
    "duration": 0,
    "start_time": "2022-12-29T14:28:07.939Z"
   },
   {
    "duration": 0,
    "start_time": "2022-12-29T14:28:07.941Z"
   },
   {
    "duration": 0,
    "start_time": "2022-12-29T14:28:07.942Z"
   },
   {
    "duration": 0,
    "start_time": "2022-12-29T14:28:07.943Z"
   },
   {
    "duration": 0,
    "start_time": "2022-12-29T14:28:07.945Z"
   },
   {
    "duration": 0,
    "start_time": "2022-12-29T14:28:07.946Z"
   },
   {
    "duration": 0,
    "start_time": "2022-12-29T14:28:07.948Z"
   },
   {
    "duration": 0,
    "start_time": "2022-12-29T14:28:07.949Z"
   },
   {
    "duration": 0,
    "start_time": "2022-12-29T14:28:07.950Z"
   },
   {
    "duration": 0,
    "start_time": "2022-12-29T14:28:07.952Z"
   },
   {
    "duration": 0,
    "start_time": "2022-12-29T14:28:07.953Z"
   },
   {
    "duration": 0,
    "start_time": "2022-12-29T14:28:07.955Z"
   },
   {
    "duration": 5,
    "start_time": "2022-12-29T14:28:14.325Z"
   },
   {
    "duration": 6,
    "start_time": "2022-12-29T14:28:14.846Z"
   },
   {
    "duration": 7,
    "start_time": "2022-12-29T14:28:15.396Z"
   },
   {
    "duration": 956,
    "start_time": "2022-12-29T14:28:19.742Z"
   },
   {
    "duration": 4,
    "start_time": "2022-12-29T14:28:20.700Z"
   },
   {
    "duration": 40,
    "start_time": "2022-12-29T14:28:47.506Z"
   },
   {
    "duration": 15,
    "start_time": "2022-12-29T14:30:16.764Z"
   },
   {
    "duration": 8,
    "start_time": "2022-12-29T14:30:16.829Z"
   },
   {
    "duration": 5,
    "start_time": "2022-12-29T14:30:29.569Z"
   },
   {
    "duration": 7,
    "start_time": "2022-12-29T14:30:31.350Z"
   },
   {
    "duration": 68,
    "start_time": "2022-12-29T14:30:47.431Z"
   },
   {
    "duration": 4,
    "start_time": "2022-12-29T14:30:48.430Z"
   },
   {
    "duration": 30,
    "start_time": "2022-12-29T14:30:57.194Z"
   },
   {
    "duration": 58,
    "start_time": "2022-12-29T14:31:15.527Z"
   },
   {
    "duration": 564,
    "start_time": "2022-12-29T14:31:16.287Z"
   },
   {
    "duration": 8,
    "start_time": "2022-12-29T14:31:21.855Z"
   },
   {
    "duration": 6,
    "start_time": "2022-12-29T14:31:25.343Z"
   },
   {
    "duration": 8,
    "start_time": "2022-12-29T14:31:29.343Z"
   },
   {
    "duration": 7,
    "start_time": "2022-12-29T14:31:33.208Z"
   },
   {
    "duration": 149,
    "start_time": "2022-12-29T14:31:35.758Z"
   },
   {
    "duration": 8,
    "start_time": "2022-12-29T14:31:40.978Z"
   },
   {
    "duration": 11,
    "start_time": "2022-12-29T14:31:44.426Z"
   },
   {
    "duration": 39,
    "start_time": "2022-12-29T14:31:46.843Z"
   },
   {
    "duration": 41,
    "start_time": "2022-12-29T14:34:19.361Z"
   },
   {
    "duration": 14,
    "start_time": "2022-12-29T14:34:29.897Z"
   },
   {
    "duration": 45,
    "start_time": "2022-12-29T14:35:09.717Z"
   },
   {
    "duration": 47,
    "start_time": "2022-12-29T14:35:25.022Z"
   },
   {
    "duration": 75,
    "start_time": "2022-12-29T14:35:32.955Z"
   },
   {
    "duration": 29,
    "start_time": "2022-12-29T14:36:09.167Z"
   },
   {
    "duration": 23,
    "start_time": "2022-12-29T14:43:07.228Z"
   },
   {
    "duration": 4,
    "start_time": "2022-12-29T14:43:30.062Z"
   },
   {
    "duration": 246,
    "start_time": "2022-12-29T14:43:46.670Z"
   },
   {
    "duration": 4,
    "start_time": "2022-12-29T14:46:44.800Z"
   },
   {
    "duration": 15,
    "start_time": "2022-12-29T15:01:43.258Z"
   },
   {
    "duration": 3,
    "start_time": "2022-12-29T15:02:59.015Z"
   },
   {
    "duration": 4,
    "start_time": "2022-12-29T15:08:42.034Z"
   },
   {
    "duration": 52,
    "start_time": "2022-12-29T15:08:42.040Z"
   },
   {
    "duration": 4,
    "start_time": "2022-12-29T15:08:42.094Z"
   },
   {
    "duration": 8,
    "start_time": "2022-12-29T15:08:42.099Z"
   },
   {
    "duration": 9,
    "start_time": "2022-12-29T15:08:42.109Z"
   },
   {
    "duration": 6,
    "start_time": "2022-12-29T15:08:42.119Z"
   },
   {
    "duration": 5,
    "start_time": "2022-12-29T15:08:42.126Z"
   },
   {
    "duration": 18,
    "start_time": "2022-12-29T15:08:42.133Z"
   },
   {
    "duration": 9,
    "start_time": "2022-12-29T15:08:42.153Z"
   },
   {
    "duration": 45,
    "start_time": "2022-12-29T15:08:42.164Z"
   },
   {
    "duration": 0,
    "start_time": "2022-12-29T15:08:42.211Z"
   },
   {
    "duration": 0,
    "start_time": "2022-12-29T15:08:42.213Z"
   },
   {
    "duration": 0,
    "start_time": "2022-12-29T15:08:42.214Z"
   },
   {
    "duration": 0,
    "start_time": "2022-12-29T15:08:42.215Z"
   },
   {
    "duration": 0,
    "start_time": "2022-12-29T15:08:42.216Z"
   },
   {
    "duration": 0,
    "start_time": "2022-12-29T15:08:42.217Z"
   },
   {
    "duration": 0,
    "start_time": "2022-12-29T15:08:42.218Z"
   },
   {
    "duration": 0,
    "start_time": "2022-12-29T15:08:42.220Z"
   },
   {
    "duration": 0,
    "start_time": "2022-12-29T15:08:42.221Z"
   },
   {
    "duration": 0,
    "start_time": "2022-12-29T15:08:42.222Z"
   },
   {
    "duration": 0,
    "start_time": "2022-12-29T15:08:42.223Z"
   },
   {
    "duration": 0,
    "start_time": "2022-12-29T15:08:42.224Z"
   },
   {
    "duration": 0,
    "start_time": "2022-12-29T15:08:42.225Z"
   },
   {
    "duration": 0,
    "start_time": "2022-12-29T15:08:42.227Z"
   },
   {
    "duration": 0,
    "start_time": "2022-12-29T15:08:42.229Z"
   },
   {
    "duration": 0,
    "start_time": "2022-12-29T15:08:42.230Z"
   },
   {
    "duration": 0,
    "start_time": "2022-12-29T15:08:42.231Z"
   },
   {
    "duration": 0,
    "start_time": "2022-12-29T15:08:42.232Z"
   },
   {
    "duration": 0,
    "start_time": "2022-12-29T15:08:42.233Z"
   },
   {
    "duration": 0,
    "start_time": "2022-12-29T15:08:42.234Z"
   },
   {
    "duration": 43,
    "start_time": "2022-12-29T15:09:12.164Z"
   },
   {
    "duration": 4,
    "start_time": "2022-12-29T15:09:12.927Z"
   },
   {
    "duration": 32,
    "start_time": "2022-12-29T15:09:15.181Z"
   },
   {
    "duration": 54,
    "start_time": "2022-12-29T15:09:15.308Z"
   },
   {
    "duration": 105,
    "start_time": "2022-12-29T15:09:15.912Z"
   },
   {
    "duration": 5,
    "start_time": "2022-12-29T15:09:19.504Z"
   },
   {
    "duration": 5,
    "start_time": "2022-12-29T15:09:20.705Z"
   },
   {
    "duration": 5,
    "start_time": "2022-12-29T15:09:21.600Z"
   },
   {
    "duration": 5,
    "start_time": "2022-12-29T15:09:22.783Z"
   },
   {
    "duration": 47,
    "start_time": "2022-12-29T15:09:34.832Z"
   },
   {
    "duration": 8,
    "start_time": "2022-12-29T15:09:36.448Z"
   },
   {
    "duration": 9,
    "start_time": "2022-12-29T15:09:37.432Z"
   },
   {
    "duration": 42,
    "start_time": "2022-12-29T15:09:38.064Z"
   },
   {
    "duration": 15,
    "start_time": "2022-12-29T15:09:39.776Z"
   },
   {
    "duration": 13,
    "start_time": "2022-12-29T15:09:40.664Z"
   },
   {
    "duration": 198,
    "start_time": "2022-12-29T15:09:42.220Z"
   },
   {
    "duration": 292,
    "start_time": "2022-12-29T15:09:45.473Z"
   },
   {
    "duration": 10,
    "start_time": "2022-12-29T15:10:43.378Z"
   },
   {
    "duration": 4,
    "start_time": "2022-12-29T15:12:13.508Z"
   },
   {
    "duration": 6,
    "start_time": "2022-12-29T15:12:49.163Z"
   },
   {
    "duration": 12,
    "start_time": "2022-12-29T15:24:59.670Z"
   },
   {
    "duration": 744,
    "start_time": "2022-12-29T15:26:27.866Z"
   },
   {
    "duration": 5,
    "start_time": "2022-12-29T15:31:25.994Z"
   },
   {
    "duration": 58,
    "start_time": "2022-12-29T15:31:26.098Z"
   },
   {
    "duration": 1604,
    "start_time": "2022-12-30T08:30:36.655Z"
   },
   {
    "duration": 90,
    "start_time": "2022-12-30T08:30:38.261Z"
   },
   {
    "duration": 4,
    "start_time": "2022-12-30T08:30:38.353Z"
   },
   {
    "duration": 13,
    "start_time": "2022-12-30T08:30:38.360Z"
   },
   {
    "duration": 10,
    "start_time": "2022-12-30T08:30:38.375Z"
   },
   {
    "duration": 9,
    "start_time": "2022-12-30T08:30:38.386Z"
   },
   {
    "duration": 4,
    "start_time": "2022-12-30T08:30:38.396Z"
   },
   {
    "duration": 12,
    "start_time": "2022-12-30T08:30:38.402Z"
   },
   {
    "duration": 10,
    "start_time": "2022-12-30T08:30:38.415Z"
   },
   {
    "duration": 126,
    "start_time": "2022-12-30T08:30:38.427Z"
   },
   {
    "duration": 0,
    "start_time": "2022-12-30T08:30:38.556Z"
   },
   {
    "duration": 0,
    "start_time": "2022-12-30T08:30:38.558Z"
   },
   {
    "duration": 0,
    "start_time": "2022-12-30T08:30:38.559Z"
   },
   {
    "duration": 0,
    "start_time": "2022-12-30T08:30:38.561Z"
   },
   {
    "duration": 0,
    "start_time": "2022-12-30T08:30:38.562Z"
   },
   {
    "duration": 0,
    "start_time": "2022-12-30T08:30:38.563Z"
   },
   {
    "duration": 0,
    "start_time": "2022-12-30T08:30:38.564Z"
   },
   {
    "duration": 0,
    "start_time": "2022-12-30T08:30:38.566Z"
   },
   {
    "duration": 0,
    "start_time": "2022-12-30T08:30:38.567Z"
   },
   {
    "duration": 0,
    "start_time": "2022-12-30T08:30:38.568Z"
   },
   {
    "duration": 0,
    "start_time": "2022-12-30T08:30:38.597Z"
   },
   {
    "duration": 0,
    "start_time": "2022-12-30T08:30:38.598Z"
   },
   {
    "duration": 0,
    "start_time": "2022-12-30T08:30:38.599Z"
   },
   {
    "duration": 0,
    "start_time": "2022-12-30T08:30:38.601Z"
   },
   {
    "duration": 0,
    "start_time": "2022-12-30T08:30:38.602Z"
   },
   {
    "duration": 0,
    "start_time": "2022-12-30T08:30:38.603Z"
   },
   {
    "duration": 0,
    "start_time": "2022-12-30T08:30:38.604Z"
   },
   {
    "duration": 0,
    "start_time": "2022-12-30T08:30:38.604Z"
   },
   {
    "duration": 0,
    "start_time": "2022-12-30T08:30:38.605Z"
   },
   {
    "duration": 0,
    "start_time": "2022-12-30T08:30:38.606Z"
   },
   {
    "duration": 0,
    "start_time": "2022-12-30T08:30:38.607Z"
   },
   {
    "duration": 0,
    "start_time": "2022-12-30T08:30:38.609Z"
   },
   {
    "duration": 141,
    "start_time": "2022-12-30T08:36:23.859Z"
   },
   {
    "duration": 37,
    "start_time": "2022-12-30T08:36:28.946Z"
   },
   {
    "duration": 218,
    "start_time": "2022-12-30T08:37:07.900Z"
   },
   {
    "duration": 300,
    "start_time": "2022-12-30T08:37:17.599Z"
   },
   {
    "duration": 6,
    "start_time": "2022-12-30T08:37:25.163Z"
   },
   {
    "duration": 47,
    "start_time": "2022-12-30T08:37:28.688Z"
   },
   {
    "duration": 9,
    "start_time": "2022-12-30T08:37:52.496Z"
   },
   {
    "duration": 445,
    "start_time": "2022-12-30T08:38:04.289Z"
   },
   {
    "duration": 51,
    "start_time": "2022-12-30T08:56:26.717Z"
   },
   {
    "duration": 5,
    "start_time": "2022-12-30T08:56:42.293Z"
   },
   {
    "duration": 55,
    "start_time": "2022-12-30T08:56:58.462Z"
   },
   {
    "duration": 47,
    "start_time": "2022-12-30T08:57:25.768Z"
   },
   {
    "duration": 9,
    "start_time": "2022-12-30T09:20:42.508Z"
   },
   {
    "duration": 7,
    "start_time": "2022-12-30T09:20:44.516Z"
   },
   {
    "duration": 20,
    "start_time": "2022-12-30T09:21:22.592Z"
   },
   {
    "duration": 16,
    "start_time": "2022-12-30T09:21:22.682Z"
   },
   {
    "duration": 4,
    "start_time": "2022-12-30T09:21:37.309Z"
   },
   {
    "duration": 65,
    "start_time": "2022-12-30T09:21:37.316Z"
   },
   {
    "duration": 4,
    "start_time": "2022-12-30T09:21:37.383Z"
   },
   {
    "duration": 19,
    "start_time": "2022-12-30T09:21:37.388Z"
   },
   {
    "duration": 17,
    "start_time": "2022-12-30T09:21:37.409Z"
   },
   {
    "duration": 10,
    "start_time": "2022-12-30T09:21:37.427Z"
   },
   {
    "duration": 10,
    "start_time": "2022-12-30T09:21:37.438Z"
   },
   {
    "duration": 9,
    "start_time": "2022-12-30T09:21:37.450Z"
   },
   {
    "duration": 14,
    "start_time": "2022-12-30T09:21:37.460Z"
   },
   {
    "duration": 11,
    "start_time": "2022-12-30T09:21:37.475Z"
   },
   {
    "duration": 16,
    "start_time": "2022-12-30T09:21:37.496Z"
   },
   {
    "duration": 0,
    "start_time": "2022-12-30T09:21:37.513Z"
   },
   {
    "duration": 0,
    "start_time": "2022-12-30T09:21:37.514Z"
   },
   {
    "duration": 0,
    "start_time": "2022-12-30T09:21:37.515Z"
   },
   {
    "duration": 0,
    "start_time": "2022-12-30T09:21:37.516Z"
   },
   {
    "duration": 0,
    "start_time": "2022-12-30T09:21:37.517Z"
   },
   {
    "duration": 0,
    "start_time": "2022-12-30T09:21:37.518Z"
   },
   {
    "duration": 0,
    "start_time": "2022-12-30T09:21:37.519Z"
   },
   {
    "duration": 0,
    "start_time": "2022-12-30T09:21:37.520Z"
   },
   {
    "duration": 0,
    "start_time": "2022-12-30T09:21:37.521Z"
   },
   {
    "duration": 0,
    "start_time": "2022-12-30T09:21:37.522Z"
   },
   {
    "duration": 0,
    "start_time": "2022-12-30T09:21:37.523Z"
   },
   {
    "duration": 0,
    "start_time": "2022-12-30T09:21:37.524Z"
   },
   {
    "duration": 0,
    "start_time": "2022-12-30T09:21:37.525Z"
   },
   {
    "duration": 0,
    "start_time": "2022-12-30T09:21:37.526Z"
   },
   {
    "duration": 0,
    "start_time": "2022-12-30T09:21:37.526Z"
   },
   {
    "duration": 0,
    "start_time": "2022-12-30T09:21:37.527Z"
   },
   {
    "duration": 0,
    "start_time": "2022-12-30T09:21:37.528Z"
   },
   {
    "duration": 0,
    "start_time": "2022-12-30T09:21:37.529Z"
   },
   {
    "duration": 0,
    "start_time": "2022-12-30T09:21:37.530Z"
   },
   {
    "duration": 0,
    "start_time": "2022-12-30T09:21:37.531Z"
   },
   {
    "duration": 0,
    "start_time": "2022-12-30T09:21:37.532Z"
   },
   {
    "duration": 0,
    "start_time": "2022-12-30T09:21:37.533Z"
   },
   {
    "duration": 40,
    "start_time": "2022-12-30T09:22:03.109Z"
   },
   {
    "duration": 101,
    "start_time": "2022-12-30T09:22:03.200Z"
   },
   {
    "duration": 31,
    "start_time": "2022-12-30T09:22:09.612Z"
   },
   {
    "duration": 54,
    "start_time": "2022-12-30T09:22:19.695Z"
   },
   {
    "duration": 107,
    "start_time": "2022-12-30T09:22:29.626Z"
   },
   {
    "duration": 7,
    "start_time": "2022-12-30T09:22:34.275Z"
   },
   {
    "duration": 7,
    "start_time": "2022-12-30T09:22:41.763Z"
   },
   {
    "duration": 6,
    "start_time": "2022-12-30T09:22:44.205Z"
   },
   {
    "duration": 5,
    "start_time": "2022-12-30T09:22:47.279Z"
   },
   {
    "duration": 48,
    "start_time": "2022-12-30T09:22:57.181Z"
   },
   {
    "duration": 53,
    "start_time": "2022-12-30T09:24:25.675Z"
   },
   {
    "duration": 92,
    "start_time": "2022-12-30T09:26:26.407Z"
   },
   {
    "duration": 56,
    "start_time": "2022-12-30T09:27:19.121Z"
   },
   {
    "duration": 4,
    "start_time": "2022-12-30T09:27:52.126Z"
   },
   {
    "duration": 60,
    "start_time": "2022-12-30T09:27:52.137Z"
   },
   {
    "duration": 4,
    "start_time": "2022-12-30T09:27:52.199Z"
   },
   {
    "duration": 9,
    "start_time": "2022-12-30T09:27:52.204Z"
   },
   {
    "duration": 26,
    "start_time": "2022-12-30T09:27:52.215Z"
   },
   {
    "duration": 6,
    "start_time": "2022-12-30T09:27:52.243Z"
   },
   {
    "duration": 16,
    "start_time": "2022-12-30T09:27:52.251Z"
   },
   {
    "duration": 18,
    "start_time": "2022-12-30T09:27:52.269Z"
   },
   {
    "duration": 15,
    "start_time": "2022-12-30T09:27:52.289Z"
   },
   {
    "duration": 15,
    "start_time": "2022-12-30T09:27:52.305Z"
   },
   {
    "duration": 23,
    "start_time": "2022-12-30T09:27:52.323Z"
   },
   {
    "duration": 0,
    "start_time": "2022-12-30T09:27:52.348Z"
   },
   {
    "duration": 0,
    "start_time": "2022-12-30T09:27:52.349Z"
   },
   {
    "duration": 0,
    "start_time": "2022-12-30T09:27:52.350Z"
   },
   {
    "duration": 0,
    "start_time": "2022-12-30T09:27:52.351Z"
   },
   {
    "duration": 0,
    "start_time": "2022-12-30T09:27:52.352Z"
   },
   {
    "duration": 0,
    "start_time": "2022-12-30T09:27:52.353Z"
   },
   {
    "duration": 0,
    "start_time": "2022-12-30T09:27:52.354Z"
   },
   {
    "duration": 0,
    "start_time": "2022-12-30T09:27:52.355Z"
   },
   {
    "duration": 0,
    "start_time": "2022-12-30T09:27:52.356Z"
   },
   {
    "duration": 1,
    "start_time": "2022-12-30T09:27:52.356Z"
   },
   {
    "duration": 0,
    "start_time": "2022-12-30T09:27:52.357Z"
   },
   {
    "duration": 0,
    "start_time": "2022-12-30T09:27:52.358Z"
   },
   {
    "duration": 0,
    "start_time": "2022-12-30T09:27:52.359Z"
   },
   {
    "duration": 0,
    "start_time": "2022-12-30T09:27:52.361Z"
   },
   {
    "duration": 0,
    "start_time": "2022-12-30T09:27:52.362Z"
   },
   {
    "duration": 0,
    "start_time": "2022-12-30T09:27:52.363Z"
   },
   {
    "duration": 0,
    "start_time": "2022-12-30T09:27:52.364Z"
   },
   {
    "duration": 0,
    "start_time": "2022-12-30T09:27:52.364Z"
   },
   {
    "duration": 0,
    "start_time": "2022-12-30T09:27:52.365Z"
   },
   {
    "duration": 0,
    "start_time": "2022-12-30T09:27:52.366Z"
   },
   {
    "duration": 0,
    "start_time": "2022-12-30T09:27:52.367Z"
   },
   {
    "duration": 0,
    "start_time": "2022-12-30T09:27:52.368Z"
   },
   {
    "duration": 44,
    "start_time": "2022-12-30T09:28:22.055Z"
   },
   {
    "duration": 29,
    "start_time": "2022-12-30T09:28:34.214Z"
   },
   {
    "duration": 56,
    "start_time": "2022-12-30T09:29:00.356Z"
   },
   {
    "duration": 184,
    "start_time": "2022-12-30T09:30:07.214Z"
   },
   {
    "duration": 1506,
    "start_time": "2023-01-05T16:46:04.539Z"
   },
   {
    "duration": 185,
    "start_time": "2023-01-05T16:46:06.047Z"
   },
   {
    "duration": 4,
    "start_time": "2023-01-05T16:46:06.233Z"
   },
   {
    "duration": 8,
    "start_time": "2023-01-05T16:46:06.239Z"
   },
   {
    "duration": 15,
    "start_time": "2023-01-05T16:46:06.248Z"
   },
   {
    "duration": 11,
    "start_time": "2023-01-05T16:46:06.265Z"
   },
   {
    "duration": 5,
    "start_time": "2023-01-05T16:46:06.277Z"
   },
   {
    "duration": 10,
    "start_time": "2023-01-05T16:46:06.284Z"
   },
   {
    "duration": 32,
    "start_time": "2023-01-05T16:46:06.296Z"
   },
   {
    "duration": 7,
    "start_time": "2023-01-05T16:46:06.330Z"
   },
   {
    "duration": 126,
    "start_time": "2023-01-05T16:46:06.338Z"
   },
   {
    "duration": 0,
    "start_time": "2023-01-05T16:46:06.467Z"
   },
   {
    "duration": 0,
    "start_time": "2023-01-05T16:46:06.468Z"
   },
   {
    "duration": 0,
    "start_time": "2023-01-05T16:46:06.469Z"
   },
   {
    "duration": 0,
    "start_time": "2023-01-05T16:46:06.470Z"
   },
   {
    "duration": 0,
    "start_time": "2023-01-05T16:46:06.471Z"
   },
   {
    "duration": 0,
    "start_time": "2023-01-05T16:46:06.472Z"
   },
   {
    "duration": 0,
    "start_time": "2023-01-05T16:46:06.473Z"
   },
   {
    "duration": 0,
    "start_time": "2023-01-05T16:46:06.475Z"
   },
   {
    "duration": 0,
    "start_time": "2023-01-05T16:46:06.476Z"
   },
   {
    "duration": 0,
    "start_time": "2023-01-05T16:46:06.477Z"
   },
   {
    "duration": 0,
    "start_time": "2023-01-05T16:46:06.478Z"
   },
   {
    "duration": 0,
    "start_time": "2023-01-05T16:46:06.479Z"
   },
   {
    "duration": 0,
    "start_time": "2023-01-05T16:46:06.480Z"
   },
   {
    "duration": 0,
    "start_time": "2023-01-05T16:46:06.481Z"
   },
   {
    "duration": 0,
    "start_time": "2023-01-05T16:46:06.482Z"
   },
   {
    "duration": 0,
    "start_time": "2023-01-05T16:46:06.483Z"
   },
   {
    "duration": 0,
    "start_time": "2023-01-05T16:46:06.484Z"
   },
   {
    "duration": 0,
    "start_time": "2023-01-05T16:46:06.485Z"
   },
   {
    "duration": 0,
    "start_time": "2023-01-05T16:46:06.486Z"
   },
   {
    "duration": 0,
    "start_time": "2023-01-05T16:46:06.487Z"
   },
   {
    "duration": 0,
    "start_time": "2023-01-05T16:46:06.523Z"
   },
   {
    "duration": 0,
    "start_time": "2023-01-05T16:46:06.524Z"
   },
   {
    "duration": 41,
    "start_time": "2023-01-05T16:46:23.339Z"
   },
   {
    "duration": 3,
    "start_time": "2023-01-05T16:46:26.482Z"
   },
   {
    "duration": 31,
    "start_time": "2023-01-05T16:46:29.474Z"
   },
   {
    "duration": 55,
    "start_time": "2023-01-05T16:46:34.645Z"
   },
   {
    "duration": 54,
    "start_time": "2023-01-05T16:47:29.534Z"
   },
   {
    "duration": 119,
    "start_time": "2023-01-05T16:47:36.003Z"
   },
   {
    "duration": 6,
    "start_time": "2023-01-05T16:47:41.867Z"
   },
   {
    "duration": 1162,
    "start_time": "2023-01-05T16:48:12.260Z"
   },
   {
    "duration": 1148,
    "start_time": "2023-01-05T16:49:10.217Z"
   },
   {
    "duration": 2145,
    "start_time": "2023-01-05T16:49:26.926Z"
   },
   {
    "duration": 1231,
    "start_time": "2023-01-05T16:49:43.742Z"
   },
   {
    "duration": 8,
    "start_time": "2023-01-05T16:50:22.252Z"
   },
   {
    "duration": 8,
    "start_time": "2023-01-05T16:50:23.080Z"
   },
   {
    "duration": 21,
    "start_time": "2023-01-05T16:50:30.377Z"
   },
   {
    "duration": 73,
    "start_time": "2023-01-05T16:50:50.255Z"
   },
   {
    "duration": 94,
    "start_time": "2023-01-05T16:50:50.330Z"
   },
   {
    "duration": 29,
    "start_time": "2023-01-05T16:50:53.949Z"
   },
   {
    "duration": 1147,
    "start_time": "2023-01-05T16:50:57.945Z"
   },
   {
    "duration": 482,
    "start_time": "2023-01-05T16:54:46.195Z"
   },
   {
    "duration": 45,
    "start_time": "2023-01-05T16:56:09.404Z"
   },
   {
    "duration": 7,
    "start_time": "2023-01-05T16:56:17.442Z"
   },
   {
    "duration": 9,
    "start_time": "2023-01-05T16:56:20.600Z"
   },
   {
    "duration": 40,
    "start_time": "2023-01-05T16:56:23.069Z"
   },
   {
    "duration": 13,
    "start_time": "2023-01-05T16:56:26.141Z"
   },
   {
    "duration": 15,
    "start_time": "2023-01-05T16:56:28.764Z"
   },
   {
    "duration": 193,
    "start_time": "2023-01-05T16:57:56.138Z"
   },
   {
    "duration": 54,
    "start_time": "2023-01-05T16:58:29.890Z"
   },
   {
    "duration": 38,
    "start_time": "2023-01-05T16:58:49.710Z"
   },
   {
    "duration": 5,
    "start_time": "2023-01-05T16:58:49.824Z"
   },
   {
    "duration": 30,
    "start_time": "2023-01-05T16:59:02.482Z"
   },
   {
    "duration": 54,
    "start_time": "2023-01-05T16:59:06.596Z"
   },
   {
    "duration": 51,
    "start_time": "2023-01-05T16:59:22.580Z"
   },
   {
    "duration": 10,
    "start_time": "2023-01-05T17:04:44.016Z"
   },
   {
    "duration": 43635,
    "start_time": "2023-01-05T17:05:18.387Z"
   },
   {
    "duration": 1566,
    "start_time": "2023-01-06T12:48:12.439Z"
   },
   {
    "duration": 173,
    "start_time": "2023-01-06T12:48:14.007Z"
   },
   {
    "duration": 4,
    "start_time": "2023-01-06T12:48:14.182Z"
   },
   {
    "duration": 12,
    "start_time": "2023-01-06T12:48:14.189Z"
   },
   {
    "duration": 12,
    "start_time": "2023-01-06T12:48:14.202Z"
   },
   {
    "duration": 12,
    "start_time": "2023-01-06T12:48:14.216Z"
   },
   {
    "duration": 5,
    "start_time": "2023-01-06T12:48:14.231Z"
   },
   {
    "duration": 9,
    "start_time": "2023-01-06T12:48:14.238Z"
   },
   {
    "duration": 8,
    "start_time": "2023-01-06T12:48:14.249Z"
   },
   {
    "duration": 7,
    "start_time": "2023-01-06T12:48:14.260Z"
   },
   {
    "duration": 154,
    "start_time": "2023-01-06T12:48:14.268Z"
   },
   {
    "duration": 0,
    "start_time": "2023-01-06T12:48:14.423Z"
   },
   {
    "duration": 0,
    "start_time": "2023-01-06T12:48:14.425Z"
   },
   {
    "duration": 0,
    "start_time": "2023-01-06T12:48:14.426Z"
   },
   {
    "duration": 0,
    "start_time": "2023-01-06T12:48:14.427Z"
   },
   {
    "duration": 0,
    "start_time": "2023-01-06T12:48:14.428Z"
   },
   {
    "duration": 0,
    "start_time": "2023-01-06T12:48:14.429Z"
   },
   {
    "duration": 0,
    "start_time": "2023-01-06T12:48:14.430Z"
   },
   {
    "duration": 0,
    "start_time": "2023-01-06T12:48:14.431Z"
   },
   {
    "duration": 0,
    "start_time": "2023-01-06T12:48:14.432Z"
   },
   {
    "duration": 0,
    "start_time": "2023-01-06T12:48:14.433Z"
   },
   {
    "duration": 0,
    "start_time": "2023-01-06T12:48:14.434Z"
   },
   {
    "duration": 0,
    "start_time": "2023-01-06T12:48:14.435Z"
   },
   {
    "duration": 0,
    "start_time": "2023-01-06T12:48:14.436Z"
   },
   {
    "duration": 0,
    "start_time": "2023-01-06T12:48:14.437Z"
   },
   {
    "duration": 0,
    "start_time": "2023-01-06T12:48:14.438Z"
   },
   {
    "duration": 0,
    "start_time": "2023-01-06T12:48:14.439Z"
   },
   {
    "duration": 0,
    "start_time": "2023-01-06T12:48:14.441Z"
   },
   {
    "duration": 0,
    "start_time": "2023-01-06T12:48:14.442Z"
   },
   {
    "duration": 0,
    "start_time": "2023-01-06T12:48:14.443Z"
   },
   {
    "duration": 0,
    "start_time": "2023-01-06T12:48:14.446Z"
   },
   {
    "duration": 0,
    "start_time": "2023-01-06T12:48:14.447Z"
   },
   {
    "duration": 0,
    "start_time": "2023-01-06T12:48:14.448Z"
   },
   {
    "duration": 0,
    "start_time": "2023-01-06T12:48:14.449Z"
   },
   {
    "duration": 0,
    "start_time": "2023-01-06T12:48:14.450Z"
   },
   {
    "duration": 0,
    "start_time": "2023-01-06T12:48:14.452Z"
   },
   {
    "duration": 87,
    "start_time": "2023-01-06T12:48:37.924Z"
   },
   {
    "duration": 3,
    "start_time": "2023-01-06T12:48:39.314Z"
   },
   {
    "duration": 34,
    "start_time": "2023-01-06T12:48:53.724Z"
   },
   {
    "duration": 56,
    "start_time": "2023-01-06T12:49:00.164Z"
   },
   {
    "duration": 1199,
    "start_time": "2023-01-06T12:49:16.939Z"
   },
   {
    "duration": 129,
    "start_time": "2023-01-06T12:49:22.180Z"
   },
   {
    "duration": 6,
    "start_time": "2023-01-06T12:49:26.342Z"
   },
   {
    "duration": 6,
    "start_time": "2023-01-06T12:49:27.242Z"
   },
   {
    "duration": 5,
    "start_time": "2023-01-06T12:49:29.441Z"
   },
   {
    "duration": 6,
    "start_time": "2023-01-06T12:49:31.082Z"
   },
   {
    "duration": 104,
    "start_time": "2023-01-06T12:49:39.203Z"
   },
   {
    "duration": 8,
    "start_time": "2023-01-06T12:49:40.572Z"
   },
   {
    "duration": 10,
    "start_time": "2023-01-06T12:49:46.914Z"
   },
   {
    "duration": 44,
    "start_time": "2023-01-06T12:49:47.541Z"
   },
   {
    "duration": 12,
    "start_time": "2023-01-06T12:49:51.339Z"
   },
   {
    "duration": 12,
    "start_time": "2023-01-06T12:49:55.843Z"
   },
   {
    "duration": 251,
    "start_time": "2023-01-06T12:49:57.279Z"
   },
   {
    "duration": 286,
    "start_time": "2023-01-06T12:50:00.870Z"
   },
   {
    "duration": 6,
    "start_time": "2023-01-06T12:50:04.752Z"
   },
   {
    "duration": 117,
    "start_time": "2023-01-06T12:50:07.790Z"
   },
   {
    "duration": 56,
    "start_time": "2023-01-06T12:50:13.669Z"
   },
   {
    "duration": 63402,
    "start_time": "2023-01-06T12:51:25.604Z"
   },
   {
    "duration": 389,
    "start_time": "2023-01-06T12:54:05.221Z"
   },
   {
    "duration": 1088,
    "start_time": "2023-01-06T12:55:13.918Z"
   },
   {
    "duration": 387,
    "start_time": "2023-01-06T12:55:40.726Z"
   },
   {
    "duration": 398,
    "start_time": "2023-01-06T12:55:51.407Z"
   },
   {
    "duration": 1342,
    "start_time": "2023-01-06T13:03:12.917Z"
   },
   {
    "duration": 1876,
    "start_time": "2023-01-06T13:03:45.946Z"
   },
   {
    "duration": 1339,
    "start_time": "2023-01-06T13:03:56.897Z"
   },
   {
    "duration": 62371,
    "start_time": "2023-01-06T13:09:28.987Z"
   },
   {
    "duration": 9,
    "start_time": "2023-01-06T13:16:30.976Z"
   },
   {
    "duration": 14,
    "start_time": "2023-01-06T13:16:49.693Z"
   },
   {
    "duration": 9,
    "start_time": "2023-01-06T13:17:15.014Z"
   },
   {
    "duration": 12,
    "start_time": "2023-01-06T13:17:58.758Z"
   },
   {
    "duration": 5,
    "start_time": "2023-01-06T13:18:20.823Z"
   },
   {
    "duration": 55,
    "start_time": "2023-01-06T13:18:20.834Z"
   },
   {
    "duration": 4,
    "start_time": "2023-01-06T13:18:20.891Z"
   },
   {
    "duration": 26,
    "start_time": "2023-01-06T13:18:20.896Z"
   },
   {
    "duration": 33,
    "start_time": "2023-01-06T13:18:20.924Z"
   },
   {
    "duration": 28,
    "start_time": "2023-01-06T13:18:20.958Z"
   },
   {
    "duration": 18,
    "start_time": "2023-01-06T13:18:20.988Z"
   },
   {
    "duration": 21,
    "start_time": "2023-01-06T13:18:21.008Z"
   },
   {
    "duration": 34,
    "start_time": "2023-01-06T13:18:21.030Z"
   },
   {
    "duration": 28,
    "start_time": "2023-01-06T13:18:21.065Z"
   },
   {
    "duration": 97,
    "start_time": "2023-01-06T13:18:21.313Z"
   },
   {
    "duration": 5,
    "start_time": "2023-01-06T13:18:21.412Z"
   },
   {
    "duration": 193,
    "start_time": "2023-01-06T13:18:21.419Z"
   },
   {
    "duration": 40,
    "start_time": "2023-01-06T13:18:21.613Z"
   },
   {
    "duration": 872,
    "start_time": "2023-01-06T13:18:21.655Z"
   },
   {
    "duration": 53037,
    "start_time": "2023-01-06T13:18:22.529Z"
   },
   {
    "duration": 104,
    "start_time": "2023-01-06T13:19:15.568Z"
   },
   {
    "duration": 5,
    "start_time": "2023-01-06T13:19:15.674Z"
   },
   {
    "duration": 6,
    "start_time": "2023-01-06T13:19:15.681Z"
   },
   {
    "duration": 20,
    "start_time": "2023-01-06T13:19:15.688Z"
   },
   {
    "duration": 6,
    "start_time": "2023-01-06T13:19:15.710Z"
   },
   {
    "duration": 89,
    "start_time": "2023-01-06T13:19:15.718Z"
   },
   {
    "duration": 97,
    "start_time": "2023-01-06T13:19:15.808Z"
   },
   {
    "duration": 11,
    "start_time": "2023-01-06T13:19:15.907Z"
   },
   {
    "duration": 94,
    "start_time": "2023-01-06T13:19:15.919Z"
   },
   {
    "duration": 13,
    "start_time": "2023-01-06T13:19:16.104Z"
   },
   {
    "duration": 93,
    "start_time": "2023-01-06T13:19:16.118Z"
   },
   {
    "duration": 322,
    "start_time": "2023-01-06T13:19:16.213Z"
   },
   {
    "duration": 270,
    "start_time": "2023-01-06T13:19:16.536Z"
   },
   {
    "duration": 6,
    "start_time": "2023-01-06T13:19:16.808Z"
   },
   {
    "duration": 92,
    "start_time": "2023-01-06T13:19:16.815Z"
   },
   {
    "duration": 0,
    "start_time": "2023-01-06T13:19:16.909Z"
   },
   {
    "duration": 0,
    "start_time": "2023-01-06T13:19:16.911Z"
   },
   {
    "duration": 0,
    "start_time": "2023-01-06T13:19:16.912Z"
   },
   {
    "duration": 56,
    "start_time": "2023-01-06T13:23:24.193Z"
   },
   {
    "duration": 52,
    "start_time": "2023-01-06T13:24:42.622Z"
   },
   {
    "duration": 71,
    "start_time": "2023-01-06T13:26:54.736Z"
   },
   {
    "duration": 201,
    "start_time": "2023-01-06T13:27:33.005Z"
   },
   {
    "duration": 140,
    "start_time": "2023-01-06T13:27:41.972Z"
   },
   {
    "duration": 39,
    "start_time": "2023-01-06T13:27:47.286Z"
   },
   {
    "duration": 42,
    "start_time": "2023-01-06T13:27:49.010Z"
   },
   {
    "duration": 41,
    "start_time": "2023-01-06T13:27:51.096Z"
   },
   {
    "duration": 105,
    "start_time": "2023-01-06T13:30:08.478Z"
   },
   {
    "duration": 8,
    "start_time": "2023-01-06T13:30:11.478Z"
   },
   {
    "duration": 8,
    "start_time": "2023-01-06T13:30:13.044Z"
   },
   {
    "duration": 6,
    "start_time": "2023-01-06T13:30:17.181Z"
   },
   {
    "duration": 6,
    "start_time": "2023-01-06T13:30:18.717Z"
   },
   {
    "duration": 23,
    "start_time": "2023-01-06T13:30:22.852Z"
   },
   {
    "duration": 7,
    "start_time": "2023-01-06T13:30:26.933Z"
   },
   {
    "duration": 8,
    "start_time": "2023-01-06T13:30:27.038Z"
   },
   {
    "duration": 52,
    "start_time": "2023-01-06T13:30:27.894Z"
   },
   {
    "duration": 12,
    "start_time": "2023-01-06T13:30:33.176Z"
   },
   {
    "duration": 13,
    "start_time": "2023-01-06T13:30:35.262Z"
   },
   {
    "duration": 236,
    "start_time": "2023-01-06T13:31:01.206Z"
   },
   {
    "duration": 327,
    "start_time": "2023-01-06T13:31:18.251Z"
   },
   {
    "duration": 7,
    "start_time": "2023-01-06T13:31:21.256Z"
   },
   {
    "duration": 43,
    "start_time": "2023-01-06T13:31:45.876Z"
   },
   {
    "duration": 29,
    "start_time": "2023-01-06T13:33:06.731Z"
   },
   {
    "duration": 7941,
    "start_time": "2023-01-06T13:33:12.973Z"
   },
   {
    "duration": 589,
    "start_time": "2023-01-06T13:33:25.017Z"
   },
   {
    "duration": 38,
    "start_time": "2023-01-06T13:34:15.308Z"
   },
   {
    "duration": 19,
    "start_time": "2023-01-06T13:35:26.380Z"
   },
   {
    "duration": 345,
    "start_time": "2023-01-06T13:37:08.205Z"
   },
   {
    "duration": 28020,
    "start_time": "2023-01-06T13:37:58.865Z"
   },
   {
    "duration": 76,
    "start_time": "2023-01-06T13:44:37.272Z"
   },
   {
    "duration": 24,
    "start_time": "2023-01-06T13:45:03.666Z"
   },
   {
    "duration": 58,
    "start_time": "2023-01-06T13:45:21.347Z"
   },
   {
    "duration": 40,
    "start_time": "2023-01-06T13:45:26.981Z"
   },
   {
    "duration": 30,
    "start_time": "2023-01-06T13:45:38.451Z"
   },
   {
    "duration": 31,
    "start_time": "2023-01-06T14:01:35.842Z"
   },
   {
    "duration": 32,
    "start_time": "2023-01-06T14:01:55.391Z"
   },
   {
    "duration": 34,
    "start_time": "2023-01-06T14:02:39.792Z"
   },
   {
    "duration": 27,
    "start_time": "2023-01-06T14:03:38.203Z"
   },
   {
    "duration": 100,
    "start_time": "2023-01-06T14:03:59.504Z"
   },
   {
    "duration": 3,
    "start_time": "2023-01-06T14:04:00.480Z"
   },
   {
    "duration": 30,
    "start_time": "2023-01-06T14:04:03.868Z"
   },
   {
    "duration": 36,
    "start_time": "2023-01-06T14:04:20.940Z"
   },
   {
    "duration": 30,
    "start_time": "2023-01-06T14:04:21.044Z"
   },
   {
    "duration": 36,
    "start_time": "2023-01-06T14:04:26.474Z"
   },
   {
    "duration": 7477,
    "start_time": "2023-01-06T14:04:28.042Z"
   },
   {
    "duration": 96,
    "start_time": "2023-01-06T14:08:28.314Z"
   },
   {
    "duration": 4,
    "start_time": "2023-01-06T14:08:28.506Z"
   },
   {
    "duration": 89,
    "start_time": "2023-01-06T14:08:45.020Z"
   },
   {
    "duration": 4,
    "start_time": "2023-01-06T14:08:47.662Z"
   },
   {
    "duration": 67,
    "start_time": "2023-01-06T14:08:55.373Z"
   },
   {
    "duration": 33,
    "start_time": "2023-01-06T14:08:55.496Z"
   },
   {
    "duration": 33,
    "start_time": "2023-01-06T14:09:01.022Z"
   },
   {
    "duration": 30,
    "start_time": "2023-01-06T14:09:22.236Z"
   },
   {
    "duration": 34,
    "start_time": "2023-01-06T14:10:01.695Z"
   },
   {
    "duration": 28,
    "start_time": "2023-01-06T14:10:15.273Z"
   },
   {
    "duration": 33,
    "start_time": "2023-01-06T14:10:15.399Z"
   },
   {
    "duration": 31,
    "start_time": "2023-01-06T14:10:22.329Z"
   },
   {
    "duration": 8,
    "start_time": "2023-01-06T14:12:22.291Z"
   },
   {
    "duration": 7,
    "start_time": "2023-01-06T14:12:22.896Z"
   },
   {
    "duration": 17,
    "start_time": "2023-01-06T14:12:45.075Z"
   },
   {
    "duration": 4,
    "start_time": "2023-01-06T14:13:02.105Z"
   },
   {
    "duration": 56,
    "start_time": "2023-01-06T14:13:02.111Z"
   },
   {
    "duration": 4,
    "start_time": "2023-01-06T14:13:02.169Z"
   },
   {
    "duration": 11,
    "start_time": "2023-01-06T14:13:02.174Z"
   },
   {
    "duration": 13,
    "start_time": "2023-01-06T14:13:02.186Z"
   },
   {
    "duration": 19,
    "start_time": "2023-01-06T14:13:02.200Z"
   },
   {
    "duration": 15,
    "start_time": "2023-01-06T14:13:02.221Z"
   },
   {
    "duration": 31,
    "start_time": "2023-01-06T14:13:02.238Z"
   },
   {
    "duration": 14,
    "start_time": "2023-01-06T14:13:02.271Z"
   },
   {
    "duration": 28,
    "start_time": "2023-01-06T14:13:02.286Z"
   },
   {
    "duration": 91,
    "start_time": "2023-01-06T14:13:02.315Z"
   },
   {
    "duration": 4,
    "start_time": "2023-01-06T14:13:02.408Z"
   },
   {
    "duration": 127,
    "start_time": "2023-01-06T14:13:02.416Z"
   },
   {
    "duration": 16,
    "start_time": "2023-01-06T14:13:02.545Z"
   },
   {
    "duration": 0,
    "start_time": "2023-01-06T14:13:02.563Z"
   },
   {
    "duration": 0,
    "start_time": "2023-01-06T14:13:02.564Z"
   },
   {
    "duration": 0,
    "start_time": "2023-01-06T14:13:02.565Z"
   },
   {
    "duration": 108,
    "start_time": "2023-01-06T14:13:02.645Z"
   },
   {
    "duration": 12,
    "start_time": "2023-01-06T14:13:02.755Z"
   },
   {
    "duration": 0,
    "start_time": "2023-01-06T14:13:02.769Z"
   },
   {
    "duration": 0,
    "start_time": "2023-01-06T14:13:02.770Z"
   },
   {
    "duration": 0,
    "start_time": "2023-01-06T14:13:02.771Z"
   },
   {
    "duration": 0,
    "start_time": "2023-01-06T14:13:02.773Z"
   },
   {
    "duration": 0,
    "start_time": "2023-01-06T14:13:02.774Z"
   },
   {
    "duration": 0,
    "start_time": "2023-01-06T14:13:02.775Z"
   },
   {
    "duration": 0,
    "start_time": "2023-01-06T14:13:02.776Z"
   },
   {
    "duration": 0,
    "start_time": "2023-01-06T14:13:02.805Z"
   },
   {
    "duration": 0,
    "start_time": "2023-01-06T14:13:02.806Z"
   },
   {
    "duration": 0,
    "start_time": "2023-01-06T14:13:02.807Z"
   },
   {
    "duration": 0,
    "start_time": "2023-01-06T14:13:02.808Z"
   },
   {
    "duration": 0,
    "start_time": "2023-01-06T14:13:02.809Z"
   },
   {
    "duration": 0,
    "start_time": "2023-01-06T14:13:02.810Z"
   },
   {
    "duration": 0,
    "start_time": "2023-01-06T14:13:02.811Z"
   },
   {
    "duration": 18,
    "start_time": "2023-01-06T14:13:03.124Z"
   },
   {
    "duration": 0,
    "start_time": "2023-01-06T14:13:03.143Z"
   },
   {
    "duration": 0,
    "start_time": "2023-01-06T14:13:03.145Z"
   },
   {
    "duration": 17,
    "start_time": "2023-01-06T14:13:27.994Z"
   },
   {
    "duration": 51,
    "start_time": "2023-01-06T14:13:50.891Z"
   },
   {
    "duration": 45,
    "start_time": "2023-01-06T14:14:47.092Z"
   },
   {
    "duration": 33,
    "start_time": "2023-01-06T14:14:51.693Z"
   },
   {
    "duration": 50,
    "start_time": "2023-01-06T14:14:55.723Z"
   },
   {
    "duration": 93,
    "start_time": "2023-01-06T14:15:02.815Z"
   },
   {
    "duration": 32,
    "start_time": "2023-01-06T14:15:07.075Z"
   },
   {
    "duration": 45,
    "start_time": "2023-01-06T14:15:09.077Z"
   },
   {
    "duration": 75,
    "start_time": "2023-01-06T14:16:56.631Z"
   },
   {
    "duration": 5,
    "start_time": "2023-01-06T14:16:56.807Z"
   },
   {
    "duration": 35,
    "start_time": "2023-01-06T14:17:01.094Z"
   },
   {
    "duration": 69,
    "start_time": "2023-01-06T14:17:03.144Z"
   },
   {
    "duration": 857,
    "start_time": "2023-01-06T14:17:08.028Z"
   },
   {
    "duration": 58,
    "start_time": "2023-01-06T14:19:22.880Z"
   },
   {
    "duration": 4,
    "start_time": "2023-01-06T14:19:26.402Z"
   },
   {
    "duration": 37,
    "start_time": "2023-01-06T14:19:33.913Z"
   },
   {
    "duration": 45,
    "start_time": "2023-01-06T14:19:39.383Z"
   },
   {
    "duration": 687,
    "start_time": "2023-01-06T14:19:43.168Z"
   },
   {
    "duration": 49670,
    "start_time": "2023-01-06T14:20:31.570Z"
   },
   {
    "duration": 6,
    "start_time": "2023-01-06T14:21:57.121Z"
   },
   {
    "duration": 6,
    "start_time": "2023-01-06T14:21:58.952Z"
   },
   {
    "duration": 6,
    "start_time": "2023-01-06T14:22:00.263Z"
   },
   {
    "duration": 6,
    "start_time": "2023-01-06T14:22:03.899Z"
   },
   {
    "duration": 35,
    "start_time": "2023-01-06T14:22:07.682Z"
   },
   {
    "duration": 8,
    "start_time": "2023-01-06T14:22:12.011Z"
   },
   {
    "duration": 8,
    "start_time": "2023-01-06T14:22:15.026Z"
   },
   {
    "duration": 48,
    "start_time": "2023-01-06T14:22:15.866Z"
   },
   {
    "duration": 13,
    "start_time": "2023-01-06T14:22:18.978Z"
   },
   {
    "duration": 25,
    "start_time": "2023-01-06T14:22:21.588Z"
   },
   {
    "duration": 264,
    "start_time": "2023-01-06T14:22:29.691Z"
   },
   {
    "duration": 251,
    "start_time": "2023-01-06T14:22:38.858Z"
   },
   {
    "duration": 7,
    "start_time": "2023-01-06T14:22:39.112Z"
   },
   {
    "duration": 303,
    "start_time": "2023-01-06T14:22:42.813Z"
   },
   {
    "duration": 29656,
    "start_time": "2023-01-06T14:22:55.235Z"
   },
   {
    "duration": 45,
    "start_time": "2023-01-06T14:24:01.561Z"
   },
   {
    "duration": 24,
    "start_time": "2023-01-06T14:24:01.706Z"
   },
   {
    "duration": 6881,
    "start_time": "2023-01-06T14:24:18.030Z"
   },
   {
    "duration": 20,
    "start_time": "2023-01-06T14:24:47.765Z"
   },
   {
    "duration": 33,
    "start_time": "2023-01-06T14:24:55.066Z"
   },
   {
    "duration": 6,
    "start_time": "2023-01-06T14:42:24.882Z"
   },
   {
    "duration": 18,
    "start_time": "2023-01-06T14:43:50.313Z"
   },
   {
    "duration": 11,
    "start_time": "2023-01-06T14:44:14.814Z"
   },
   {
    "duration": 62,
    "start_time": "2023-01-08T08:55:28.113Z"
   },
   {
    "duration": 1537,
    "start_time": "2023-01-08T08:55:38.214Z"
   },
   {
    "duration": 118,
    "start_time": "2023-01-08T08:55:39.753Z"
   },
   {
    "duration": 5,
    "start_time": "2023-01-08T08:55:39.872Z"
   },
   {
    "duration": 8,
    "start_time": "2023-01-08T08:55:39.879Z"
   },
   {
    "duration": 23,
    "start_time": "2023-01-08T08:55:39.890Z"
   },
   {
    "duration": 8,
    "start_time": "2023-01-08T08:55:39.915Z"
   },
   {
    "duration": 17,
    "start_time": "2023-01-08T08:55:39.924Z"
   },
   {
    "duration": 30,
    "start_time": "2023-01-08T08:55:39.943Z"
   },
   {
    "duration": 21,
    "start_time": "2023-01-08T08:55:39.975Z"
   },
   {
    "duration": 31,
    "start_time": "2023-01-08T08:55:40.000Z"
   },
   {
    "duration": 177,
    "start_time": "2023-01-08T08:55:40.032Z"
   },
   {
    "duration": 81,
    "start_time": "2023-01-08T08:55:40.218Z"
   },
   {
    "duration": 71,
    "start_time": "2023-01-08T08:55:40.301Z"
   },
   {
    "duration": 127,
    "start_time": "2023-01-08T08:55:40.375Z"
   },
   {
    "duration": 990,
    "start_time": "2023-01-08T08:55:40.504Z"
   },
   {
    "duration": 52989,
    "start_time": "2023-01-08T08:55:41.497Z"
   },
   {
    "duration": 231,
    "start_time": "2023-01-08T08:56:34.488Z"
   },
   {
    "duration": 8,
    "start_time": "2023-01-08T08:56:34.721Z"
   },
   {
    "duration": 17,
    "start_time": "2023-01-08T08:56:34.730Z"
   },
   {
    "duration": 6,
    "start_time": "2023-01-08T08:56:34.749Z"
   },
   {
    "duration": 9,
    "start_time": "2023-01-08T08:56:34.757Z"
   },
   {
    "duration": 132,
    "start_time": "2023-01-08T08:56:34.767Z"
   },
   {
    "duration": 113,
    "start_time": "2023-01-08T08:56:34.906Z"
   },
   {
    "duration": 16,
    "start_time": "2023-01-08T08:56:35.021Z"
   },
   {
    "duration": 69,
    "start_time": "2023-01-08T08:56:35.039Z"
   },
   {
    "duration": 97,
    "start_time": "2023-01-08T08:56:35.115Z"
   },
   {
    "duration": 187,
    "start_time": "2023-01-08T08:56:35.217Z"
   },
   {
    "duration": 252,
    "start_time": "2023-01-08T08:56:35.411Z"
   },
   {
    "duration": 321,
    "start_time": "2023-01-08T08:56:35.697Z"
   },
   {
    "duration": 9,
    "start_time": "2023-01-08T08:56:36.020Z"
   },
   {
    "duration": 332,
    "start_time": "2023-01-08T08:56:36.031Z"
   },
   {
    "duration": 30411,
    "start_time": "2023-01-08T08:56:36.365Z"
   },
   {
    "duration": 120,
    "start_time": "2023-01-08T08:57:06.778Z"
   },
   {
    "duration": 114,
    "start_time": "2023-01-08T08:57:06.900Z"
   },
   {
    "duration": 10,
    "start_time": "2023-01-08T08:57:07.016Z"
   },
   {
    "duration": 6,
    "start_time": "2023-01-08T08:57:07.038Z"
   },
   {
    "duration": 95,
    "start_time": "2023-01-08T09:13:48.609Z"
   },
   {
    "duration": 6,
    "start_time": "2023-01-08T09:13:51.706Z"
   },
   {
    "duration": 4,
    "start_time": "2023-01-08T09:14:55.811Z"
   },
   {
    "duration": 5,
    "start_time": "2023-01-08T09:15:36.670Z"
   },
   {
    "duration": 47,
    "start_time": "2023-01-08T09:16:13.713Z"
   },
   {
    "duration": 3,
    "start_time": "2023-01-08T09:16:18.937Z"
   },
   {
    "duration": 4,
    "start_time": "2023-01-08T09:16:51.113Z"
   },
   {
    "duration": 7,
    "start_time": "2023-01-08T09:17:33.504Z"
   },
   {
    "duration": 869,
    "start_time": "2023-01-08T09:19:49.513Z"
   },
   {
    "duration": 56547,
    "start_time": "2023-01-08T09:20:43.967Z"
   },
   {
    "duration": 122,
    "start_time": "2023-01-08T09:22:34.583Z"
   },
   {
    "duration": 5,
    "start_time": "2023-01-08T09:22:45.775Z"
   },
   {
    "duration": 83,
    "start_time": "2023-01-08T09:22:45.790Z"
   },
   {
    "duration": 4,
    "start_time": "2023-01-08T09:22:45.874Z"
   },
   {
    "duration": 22,
    "start_time": "2023-01-08T09:22:45.880Z"
   },
   {
    "duration": 33,
    "start_time": "2023-01-08T09:22:45.905Z"
   },
   {
    "duration": 4,
    "start_time": "2023-01-08T09:22:46.215Z"
   },
   {
    "duration": 5,
    "start_time": "2023-01-08T09:22:46.542Z"
   },
   {
    "duration": 41,
    "start_time": "2023-01-08T09:22:46.549Z"
   },
   {
    "duration": 52,
    "start_time": "2023-01-08T09:22:46.592Z"
   },
   {
    "duration": 33,
    "start_time": "2023-01-08T09:22:46.646Z"
   },
   {
    "duration": 125,
    "start_time": "2023-01-08T09:22:46.681Z"
   },
   {
    "duration": 4,
    "start_time": "2023-01-08T09:22:46.808Z"
   },
   {
    "duration": 142,
    "start_time": "2023-01-08T09:22:46.818Z"
   },
   {
    "duration": 64,
    "start_time": "2023-01-08T09:22:46.962Z"
   },
   {
    "duration": 1010,
    "start_time": "2023-01-08T09:22:47.028Z"
   },
   {
    "duration": 56765,
    "start_time": "2023-01-08T09:22:48.040Z"
   },
   {
    "duration": 136,
    "start_time": "2023-01-08T09:23:44.808Z"
   },
   {
    "duration": 17,
    "start_time": "2023-01-08T09:23:44.948Z"
   },
   {
    "duration": 10,
    "start_time": "2023-01-08T09:23:44.967Z"
   },
   {
    "duration": 24,
    "start_time": "2023-01-08T09:23:44.979Z"
   },
   {
    "duration": 49,
    "start_time": "2023-01-08T09:23:45.007Z"
   },
   {
    "duration": 62,
    "start_time": "2023-01-08T09:23:45.060Z"
   },
   {
    "duration": 255,
    "start_time": "2023-01-08T09:23:45.124Z"
   },
   {
    "duration": 21,
    "start_time": "2023-01-08T09:23:45.381Z"
   },
   {
    "duration": 174,
    "start_time": "2023-01-08T09:23:45.403Z"
   },
   {
    "duration": 0,
    "start_time": "2023-01-08T09:23:45.578Z"
   },
   {
    "duration": 0,
    "start_time": "2023-01-08T09:23:45.580Z"
   },
   {
    "duration": 0,
    "start_time": "2023-01-08T09:23:45.581Z"
   },
   {
    "duration": 0,
    "start_time": "2023-01-08T09:23:45.582Z"
   },
   {
    "duration": 0,
    "start_time": "2023-01-08T09:23:45.583Z"
   },
   {
    "duration": 0,
    "start_time": "2023-01-08T09:23:45.597Z"
   },
   {
    "duration": 0,
    "start_time": "2023-01-08T09:23:45.598Z"
   },
   {
    "duration": 0,
    "start_time": "2023-01-08T09:23:45.599Z"
   },
   {
    "duration": 0,
    "start_time": "2023-01-08T09:23:45.600Z"
   },
   {
    "duration": 0,
    "start_time": "2023-01-08T09:23:45.601Z"
   },
   {
    "duration": 9,
    "start_time": "2023-01-08T09:26:18.322Z"
   },
   {
    "duration": 137,
    "start_time": "2023-01-08T09:26:33.005Z"
   },
   {
    "duration": 6,
    "start_time": "2023-01-08T09:27:22.214Z"
   },
   {
    "duration": 7,
    "start_time": "2023-01-08T09:28:22.163Z"
   },
   {
    "duration": 11,
    "start_time": "2023-01-08T09:28:33.062Z"
   },
   {
    "duration": 8,
    "start_time": "2023-01-08T09:28:33.735Z"
   },
   {
    "duration": 32,
    "start_time": "2023-01-08T09:29:03.945Z"
   },
   {
    "duration": 40,
    "start_time": "2023-01-08T09:29:50.644Z"
   },
   {
    "duration": 6,
    "start_time": "2023-01-08T09:30:00.963Z"
   },
   {
    "duration": 206,
    "start_time": "2023-01-08T09:30:08.903Z"
   },
   {
    "duration": 4,
    "start_time": "2023-01-08T09:30:12.472Z"
   },
   {
    "duration": 41,
    "start_time": "2023-01-08T09:30:22.947Z"
   },
   {
    "duration": 92,
    "start_time": "2023-01-08T09:30:44.231Z"
   },
   {
    "duration": 113,
    "start_time": "2023-01-08T09:32:36.060Z"
   },
   {
    "duration": 4,
    "start_time": "2023-01-08T09:34:57.511Z"
   },
   {
    "duration": 5,
    "start_time": "2023-01-08T09:35:04.734Z"
   },
   {
    "duration": 11,
    "start_time": "2023-01-08T09:35:33.223Z"
   },
   {
    "duration": 5,
    "start_time": "2023-01-08T09:35:37.850Z"
   },
   {
    "duration": 67,
    "start_time": "2023-01-08T09:35:37.858Z"
   },
   {
    "duration": 5,
    "start_time": "2023-01-08T09:35:37.927Z"
   },
   {
    "duration": 7,
    "start_time": "2023-01-08T09:35:37.934Z"
   },
   {
    "duration": 12,
    "start_time": "2023-01-08T09:35:37.943Z"
   },
   {
    "duration": 9,
    "start_time": "2023-01-08T09:35:37.957Z"
   },
   {
    "duration": 9,
    "start_time": "2023-01-08T09:35:37.967Z"
   },
   {
    "duration": 37,
    "start_time": "2023-01-08T09:35:37.977Z"
   },
   {
    "duration": 8,
    "start_time": "2023-01-08T09:35:38.016Z"
   },
   {
    "duration": 8,
    "start_time": "2023-01-08T09:35:38.025Z"
   },
   {
    "duration": 6,
    "start_time": "2023-01-08T09:35:38.035Z"
   },
   {
    "duration": 83,
    "start_time": "2023-01-08T09:35:38.043Z"
   },
   {
    "duration": 71,
    "start_time": "2023-01-08T09:35:38.128Z"
   },
   {
    "duration": 152,
    "start_time": "2023-01-08T09:35:38.201Z"
   },
   {
    "duration": 66,
    "start_time": "2023-01-08T09:35:38.355Z"
   },
   {
    "duration": 963,
    "start_time": "2023-01-08T09:35:38.428Z"
   },
   {
    "duration": 53860,
    "start_time": "2023-01-08T09:35:39.398Z"
   },
   {
    "duration": 113,
    "start_time": "2023-01-08T09:36:33.260Z"
   },
   {
    "duration": 14,
    "start_time": "2023-01-08T09:36:33.375Z"
   },
   {
    "duration": 8,
    "start_time": "2023-01-08T09:36:33.398Z"
   },
   {
    "duration": 13,
    "start_time": "2023-01-08T09:36:33.408Z"
   },
   {
    "duration": 8,
    "start_time": "2023-01-08T09:36:33.422Z"
   },
   {
    "duration": 70,
    "start_time": "2023-01-08T09:36:33.431Z"
   },
   {
    "duration": 166,
    "start_time": "2023-01-08T09:36:33.503Z"
   },
   {
    "duration": 7,
    "start_time": "2023-01-08T09:36:33.671Z"
   },
   {
    "duration": 136,
    "start_time": "2023-01-08T09:36:33.680Z"
   },
   {
    "duration": 0,
    "start_time": "2023-01-08T09:36:33.818Z"
   },
   {
    "duration": 0,
    "start_time": "2023-01-08T09:36:33.819Z"
   },
   {
    "duration": 0,
    "start_time": "2023-01-08T09:36:33.820Z"
   },
   {
    "duration": 0,
    "start_time": "2023-01-08T09:36:33.823Z"
   },
   {
    "duration": 0,
    "start_time": "2023-01-08T09:36:33.824Z"
   },
   {
    "duration": 0,
    "start_time": "2023-01-08T09:36:33.825Z"
   },
   {
    "duration": 0,
    "start_time": "2023-01-08T09:36:33.826Z"
   },
   {
    "duration": 0,
    "start_time": "2023-01-08T09:36:33.828Z"
   },
   {
    "duration": 0,
    "start_time": "2023-01-08T09:36:33.829Z"
   },
   {
    "duration": 0,
    "start_time": "2023-01-08T09:36:33.830Z"
   },
   {
    "duration": 82,
    "start_time": "2023-01-08T09:39:19.775Z"
   },
   {
    "duration": 16,
    "start_time": "2023-01-08T09:39:32.625Z"
   },
   {
    "duration": 235,
    "start_time": "2023-01-08T09:39:44.274Z"
   },
   {
    "duration": 302,
    "start_time": "2023-01-08T09:39:54.880Z"
   },
   {
    "duration": 9,
    "start_time": "2023-01-08T09:39:58.355Z"
   },
   {
    "duration": 23,
    "start_time": "2023-01-08T09:40:04.643Z"
   },
   {
    "duration": 9,
    "start_time": "2023-01-08T09:44:19.326Z"
   },
   {
    "duration": 7,
    "start_time": "2023-01-08T09:44:37.824Z"
   },
   {
    "duration": 13,
    "start_time": "2023-01-08T09:54:05.224Z"
   },
   {
    "duration": 18,
    "start_time": "2023-01-08T09:55:08.700Z"
   },
   {
    "duration": 15,
    "start_time": "2023-01-08T09:56:08.362Z"
   },
   {
    "duration": 12,
    "start_time": "2023-01-08T09:56:24.152Z"
   },
   {
    "duration": 18,
    "start_time": "2023-01-08T09:57:11.668Z"
   },
   {
    "duration": 16,
    "start_time": "2023-01-08T10:00:28.751Z"
   },
   {
    "duration": 11,
    "start_time": "2023-01-08T10:01:28.247Z"
   },
   {
    "duration": 8,
    "start_time": "2023-01-08T10:01:28.353Z"
   },
   {
    "duration": 13,
    "start_time": "2023-01-08T10:01:41.010Z"
   },
   {
    "duration": 13,
    "start_time": "2023-01-08T10:03:19.770Z"
   },
   {
    "duration": 15,
    "start_time": "2023-01-08T10:09:12.381Z"
   },
   {
    "duration": 23,
    "start_time": "2023-01-08T10:11:07.489Z"
   },
   {
    "duration": 13,
    "start_time": "2023-01-08T10:12:41.808Z"
   },
   {
    "duration": 87,
    "start_time": "2023-01-08T10:14:11.752Z"
   },
   {
    "duration": 13,
    "start_time": "2023-01-08T10:14:13.756Z"
   },
   {
    "duration": 77,
    "start_time": "2023-01-08T10:22:46.947Z"
   },
   {
    "duration": 7,
    "start_time": "2023-01-08T10:23:23.558Z"
   },
   {
    "duration": 11,
    "start_time": "2023-01-08T10:24:06.325Z"
   },
   {
    "duration": 78,
    "start_time": "2023-01-08T10:25:11.132Z"
   },
   {
    "duration": 6,
    "start_time": "2023-01-08T10:25:50.489Z"
   },
   {
    "duration": 6,
    "start_time": "2023-01-08T10:29:46.253Z"
   },
   {
    "duration": 5,
    "start_time": "2023-01-08T10:31:28.624Z"
   },
   {
    "duration": 86,
    "start_time": "2023-01-08T10:31:47.129Z"
   },
   {
    "duration": 5,
    "start_time": "2023-01-08T10:31:49.708Z"
   },
   {
    "duration": 106,
    "start_time": "2023-01-08T10:34:09.846Z"
   },
   {
    "duration": 5,
    "start_time": "2023-01-08T10:34:10.000Z"
   },
   {
    "duration": 100,
    "start_time": "2023-01-08T10:45:12.912Z"
   },
   {
    "duration": 80,
    "start_time": "2023-01-08T10:46:00.921Z"
   },
   {
    "duration": 4,
    "start_time": "2023-01-08T10:46:06.561Z"
   },
   {
    "duration": 95,
    "start_time": "2023-01-08T10:47:16.578Z"
   },
   {
    "duration": 85,
    "start_time": "2023-01-08T10:47:21.850Z"
   },
   {
    "duration": 8,
    "start_time": "2023-01-08T10:47:26.217Z"
   },
   {
    "duration": 9,
    "start_time": "2023-01-08T10:47:27.817Z"
   },
   {
    "duration": 12,
    "start_time": "2023-01-08T10:47:33.470Z"
   },
   {
    "duration": 141,
    "start_time": "2023-01-08T10:48:14.159Z"
   },
   {
    "duration": 100,
    "start_time": "2023-01-08T10:48:29.510Z"
   },
   {
    "duration": 100,
    "start_time": "2023-01-08T10:49:20.611Z"
   },
   {
    "duration": 93,
    "start_time": "2023-01-08T10:49:30.711Z"
   },
   {
    "duration": 84,
    "start_time": "2023-01-08T10:49:42.520Z"
   },
   {
    "duration": 3,
    "start_time": "2023-01-08T10:49:44.350Z"
   },
   {
    "duration": 71,
    "start_time": "2023-01-08T10:49:49.755Z"
   },
   {
    "duration": 12,
    "start_time": "2023-01-08T10:50:21.990Z"
   },
   {
    "duration": 7,
    "start_time": "2023-01-08T10:50:22.727Z"
   },
   {
    "duration": 72,
    "start_time": "2023-01-08T10:50:51.327Z"
   },
   {
    "duration": 4,
    "start_time": "2023-01-08T10:50:59.612Z"
   },
   {
    "duration": 39,
    "start_time": "2023-01-08T10:57:04.936Z"
   },
   {
    "duration": 68,
    "start_time": "2023-01-08T11:21:48.868Z"
   },
   {
    "duration": 54,
    "start_time": "2023-01-08T11:21:59.024Z"
   },
   {
    "duration": 59,
    "start_time": "2023-01-08T11:22:21.006Z"
   },
   {
    "duration": 52,
    "start_time": "2023-01-08T11:22:36.217Z"
   },
   {
    "duration": 53,
    "start_time": "2023-01-08T11:22:55.414Z"
   },
   {
    "duration": 54,
    "start_time": "2023-01-08T11:23:46.023Z"
   },
   {
    "duration": 53,
    "start_time": "2023-01-08T11:23:58.314Z"
   },
   {
    "duration": 69,
    "start_time": "2023-01-08T11:24:26.714Z"
   },
   {
    "duration": 9,
    "start_time": "2023-01-08T11:25:43.626Z"
   },
   {
    "duration": 8,
    "start_time": "2023-01-08T11:25:44.875Z"
   },
   {
    "duration": 62,
    "start_time": "2023-01-08T11:25:55.364Z"
   },
   {
    "duration": 50,
    "start_time": "2023-01-08T11:26:48.145Z"
   },
   {
    "duration": 53,
    "start_time": "2023-01-08T11:27:05.523Z"
   },
   {
    "duration": 51,
    "start_time": "2023-01-08T11:27:16.427Z"
   },
   {
    "duration": 55,
    "start_time": "2023-01-08T11:34:29.704Z"
   },
   {
    "duration": 54,
    "start_time": "2023-01-08T11:34:45.329Z"
   },
   {
    "duration": 61,
    "start_time": "2023-01-08T11:35:07.078Z"
   },
   {
    "duration": 7,
    "start_time": "2023-01-08T11:35:21.307Z"
   },
   {
    "duration": 6,
    "start_time": "2023-01-08T11:35:25.553Z"
   },
   {
    "duration": 4,
    "start_time": "2023-01-08T11:36:38.430Z"
   },
   {
    "duration": 53,
    "start_time": "2023-01-08T11:36:38.438Z"
   },
   {
    "duration": 3,
    "start_time": "2023-01-08T11:36:38.493Z"
   },
   {
    "duration": 7,
    "start_time": "2023-01-08T11:36:38.505Z"
   },
   {
    "duration": 8,
    "start_time": "2023-01-08T11:36:38.514Z"
   },
   {
    "duration": 4,
    "start_time": "2023-01-08T11:36:38.523Z"
   },
   {
    "duration": 17,
    "start_time": "2023-01-08T11:36:38.528Z"
   },
   {
    "duration": 4,
    "start_time": "2023-01-08T11:36:38.546Z"
   },
   {
    "duration": 8,
    "start_time": "2023-01-08T11:36:38.552Z"
   },
   {
    "duration": 12,
    "start_time": "2023-01-08T11:36:38.561Z"
   },
   {
    "duration": 5,
    "start_time": "2023-01-08T11:36:38.575Z"
   },
   {
    "duration": 17,
    "start_time": "2023-01-08T11:36:38.582Z"
   },
   {
    "duration": 23,
    "start_time": "2023-01-08T11:36:38.611Z"
   },
   {
    "duration": 0,
    "start_time": "2023-01-08T11:36:38.636Z"
   },
   {
    "duration": 0,
    "start_time": "2023-01-08T11:36:38.637Z"
   },
   {
    "duration": 0,
    "start_time": "2023-01-08T11:36:38.638Z"
   },
   {
    "duration": 0,
    "start_time": "2023-01-08T11:36:38.639Z"
   },
   {
    "duration": 0,
    "start_time": "2023-01-08T11:36:38.640Z"
   },
   {
    "duration": 0,
    "start_time": "2023-01-08T11:36:38.641Z"
   },
   {
    "duration": 0,
    "start_time": "2023-01-08T11:36:38.642Z"
   },
   {
    "duration": 0,
    "start_time": "2023-01-08T11:36:38.643Z"
   },
   {
    "duration": 0,
    "start_time": "2023-01-08T11:36:38.644Z"
   },
   {
    "duration": 0,
    "start_time": "2023-01-08T11:36:38.645Z"
   },
   {
    "duration": 0,
    "start_time": "2023-01-08T11:36:38.645Z"
   },
   {
    "duration": 0,
    "start_time": "2023-01-08T11:36:38.646Z"
   },
   {
    "duration": 0,
    "start_time": "2023-01-08T11:36:38.647Z"
   },
   {
    "duration": 0,
    "start_time": "2023-01-08T11:36:38.648Z"
   },
   {
    "duration": 0,
    "start_time": "2023-01-08T11:36:38.649Z"
   },
   {
    "duration": 0,
    "start_time": "2023-01-08T11:36:38.650Z"
   },
   {
    "duration": 0,
    "start_time": "2023-01-08T11:36:38.651Z"
   },
   {
    "duration": 0,
    "start_time": "2023-01-08T11:36:38.652Z"
   },
   {
    "duration": 47,
    "start_time": "2023-01-08T11:36:38.654Z"
   },
   {
    "duration": 19,
    "start_time": "2023-01-08T11:36:38.705Z"
   },
   {
    "duration": 0,
    "start_time": "2023-01-08T11:36:38.726Z"
   },
   {
    "duration": 0,
    "start_time": "2023-01-08T11:36:38.727Z"
   },
   {
    "duration": 0,
    "start_time": "2023-01-08T11:36:38.728Z"
   },
   {
    "duration": 0,
    "start_time": "2023-01-08T11:36:38.729Z"
   },
   {
    "duration": 0,
    "start_time": "2023-01-08T11:36:38.730Z"
   },
   {
    "duration": 0,
    "start_time": "2023-01-08T11:36:38.731Z"
   },
   {
    "duration": 0,
    "start_time": "2023-01-08T11:36:38.731Z"
   },
   {
    "duration": 0,
    "start_time": "2023-01-08T11:36:38.732Z"
   },
   {
    "duration": 0,
    "start_time": "2023-01-08T11:36:38.733Z"
   },
   {
    "duration": 45,
    "start_time": "2023-01-08T18:11:46.779Z"
   },
   {
    "duration": 1481,
    "start_time": "2023-01-08T18:11:52.968Z"
   },
   {
    "duration": 175,
    "start_time": "2023-01-08T18:11:54.451Z"
   },
   {
    "duration": 3,
    "start_time": "2023-01-08T18:11:54.628Z"
   },
   {
    "duration": 10,
    "start_time": "2023-01-08T18:11:54.633Z"
   },
   {
    "duration": 11,
    "start_time": "2023-01-08T18:11:54.644Z"
   },
   {
    "duration": 4,
    "start_time": "2023-01-08T18:11:54.656Z"
   },
   {
    "duration": 20,
    "start_time": "2023-01-08T18:11:54.661Z"
   },
   {
    "duration": 14,
    "start_time": "2023-01-08T18:11:54.684Z"
   },
   {
    "duration": 22,
    "start_time": "2023-01-08T18:11:54.700Z"
   },
   {
    "duration": 11,
    "start_time": "2023-01-08T18:11:54.724Z"
   },
   {
    "duration": 6,
    "start_time": "2023-01-08T18:11:54.737Z"
   },
   {
    "duration": 7,
    "start_time": "2023-01-08T18:11:54.744Z"
   },
   {
    "duration": 86,
    "start_time": "2023-01-08T18:11:54.753Z"
   },
   {
    "duration": 0,
    "start_time": "2023-01-08T18:11:54.841Z"
   },
   {
    "duration": 0,
    "start_time": "2023-01-08T18:11:54.843Z"
   },
   {
    "duration": 0,
    "start_time": "2023-01-08T18:11:54.844Z"
   },
   {
    "duration": 0,
    "start_time": "2023-01-08T18:11:54.845Z"
   },
   {
    "duration": 0,
    "start_time": "2023-01-08T18:11:54.846Z"
   },
   {
    "duration": 0,
    "start_time": "2023-01-08T18:11:54.847Z"
   },
   {
    "duration": 0,
    "start_time": "2023-01-08T18:11:54.848Z"
   },
   {
    "duration": 0,
    "start_time": "2023-01-08T18:11:54.849Z"
   },
   {
    "duration": 0,
    "start_time": "2023-01-08T18:11:54.850Z"
   },
   {
    "duration": 0,
    "start_time": "2023-01-08T18:11:54.851Z"
   },
   {
    "duration": 0,
    "start_time": "2023-01-08T18:11:54.852Z"
   },
   {
    "duration": 0,
    "start_time": "2023-01-08T18:11:54.853Z"
   },
   {
    "duration": 0,
    "start_time": "2023-01-08T18:11:54.853Z"
   },
   {
    "duration": 0,
    "start_time": "2023-01-08T18:11:54.854Z"
   },
   {
    "duration": 0,
    "start_time": "2023-01-08T18:11:54.855Z"
   },
   {
    "duration": 0,
    "start_time": "2023-01-08T18:11:54.856Z"
   },
   {
    "duration": 0,
    "start_time": "2023-01-08T18:11:54.857Z"
   },
   {
    "duration": 0,
    "start_time": "2023-01-08T18:11:54.858Z"
   },
   {
    "duration": 0,
    "start_time": "2023-01-08T18:11:54.859Z"
   },
   {
    "duration": 0,
    "start_time": "2023-01-08T18:11:54.860Z"
   },
   {
    "duration": 0,
    "start_time": "2023-01-08T18:11:54.861Z"
   },
   {
    "duration": 0,
    "start_time": "2023-01-08T18:11:54.862Z"
   },
   {
    "duration": 0,
    "start_time": "2023-01-08T18:11:54.863Z"
   },
   {
    "duration": 0,
    "start_time": "2023-01-08T18:11:54.864Z"
   },
   {
    "duration": 0,
    "start_time": "2023-01-08T18:11:54.865Z"
   },
   {
    "duration": 0,
    "start_time": "2023-01-08T18:11:54.865Z"
   },
   {
    "duration": 0,
    "start_time": "2023-01-08T18:11:54.866Z"
   },
   {
    "duration": 0,
    "start_time": "2023-01-08T18:11:54.867Z"
   },
   {
    "duration": 0,
    "start_time": "2023-01-08T18:11:54.868Z"
   },
   {
    "duration": 28,
    "start_time": "2023-01-08T18:12:26.234Z"
   },
   {
    "duration": 50,
    "start_time": "2023-01-08T18:15:32.780Z"
   },
   {
    "duration": 3,
    "start_time": "2023-01-08T18:15:44.726Z"
   },
   {
    "duration": 32,
    "start_time": "2023-01-08T18:16:22.011Z"
   },
   {
    "duration": 9,
    "start_time": "2023-01-08T18:16:33.247Z"
   },
   {
    "duration": 25,
    "start_time": "2023-01-08T18:18:49.979Z"
   },
   {
    "duration": 28,
    "start_time": "2023-01-08T18:22:57.271Z"
   },
   {
    "duration": 30,
    "start_time": "2023-01-08T18:23:10.739Z"
   },
   {
    "duration": 76,
    "start_time": "2023-01-08T18:23:20.141Z"
   },
   {
    "duration": 9,
    "start_time": "2023-01-08T18:27:06.141Z"
   },
   {
    "duration": 6,
    "start_time": "2023-01-08T18:27:08.364Z"
   },
   {
    "duration": 61,
    "start_time": "2023-01-08T18:27:21.954Z"
   },
   {
    "duration": 4,
    "start_time": "2023-01-08T18:27:24.201Z"
   },
   {
    "duration": 30,
    "start_time": "2023-01-08T18:27:29.175Z"
   },
   {
    "duration": 19,
    "start_time": "2023-01-08T18:27:31.921Z"
   },
   {
    "duration": 682,
    "start_time": "2023-01-08T18:27:34.359Z"
   },
   {
    "duration": 46460,
    "start_time": "2023-01-08T18:27:47.845Z"
   },
   {
    "duration": 10,
    "start_time": "2023-01-08T18:28:58.182Z"
   },
   {
    "duration": 9,
    "start_time": "2023-01-08T18:29:28.338Z"
   },
   {
    "duration": 7,
    "start_time": "2023-01-08T18:29:31.695Z"
   },
   {
    "duration": 33,
    "start_time": "2023-01-08T18:29:35.500Z"
   },
   {
    "duration": 10,
    "start_time": "2023-01-08T18:30:21.162Z"
   },
   {
    "duration": 72,
    "start_time": "2023-01-08T18:31:32.897Z"
   },
   {
    "duration": 60,
    "start_time": "2023-01-08T18:31:37.144Z"
   },
   {
    "duration": 4,
    "start_time": "2023-01-08T18:31:42.171Z"
   },
   {
    "duration": 33,
    "start_time": "2023-01-08T18:31:46.985Z"
   },
   {
    "duration": 46,
    "start_time": "2023-01-08T18:31:52.445Z"
   },
   {
    "duration": 661,
    "start_time": "2023-01-08T18:31:55.714Z"
   },
   {
    "duration": 46830,
    "start_time": "2023-01-08T18:32:09.382Z"
   },
   {
    "duration": 113,
    "start_time": "2023-01-08T18:33:25.827Z"
   },
   {
    "duration": 7,
    "start_time": "2023-01-08T18:33:30.258Z"
   },
   {
    "duration": 5,
    "start_time": "2023-01-08T18:33:32.506Z"
   },
   {
    "duration": 6,
    "start_time": "2023-01-08T18:33:34.968Z"
   },
   {
    "duration": 7,
    "start_time": "2023-01-08T18:33:37.592Z"
   },
   {
    "duration": 76,
    "start_time": "2023-01-08T18:33:39.437Z"
   },
   {
    "duration": 5,
    "start_time": "2023-01-08T18:33:43.881Z"
   },
   {
    "duration": 13,
    "start_time": "2023-01-08T18:33:47.669Z"
   },
   {
    "duration": 9,
    "start_time": "2023-01-08T18:33:50.992Z"
   },
   {
    "duration": 6,
    "start_time": "2023-01-08T18:33:56.153Z"
   },
   {
    "duration": 64,
    "start_time": "2023-01-08T18:33:59.176Z"
   },
   {
    "duration": 12,
    "start_time": "2023-01-08T18:34:26.138Z"
   },
   {
    "duration": 31,
    "start_time": "2023-01-08T18:34:30.907Z"
   },
   {
    "duration": 178,
    "start_time": "2023-01-08T18:34:33.162Z"
   },
   {
    "duration": 239,
    "start_time": "2023-01-08T18:34:37.263Z"
   },
   {
    "duration": 7,
    "start_time": "2023-01-08T18:34:40.804Z"
   },
   {
    "duration": 363,
    "start_time": "2023-01-08T18:34:42.963Z"
   },
   {
    "duration": 29243,
    "start_time": "2023-01-08T18:34:55.635Z"
   },
   {
    "duration": 96,
    "start_time": "2023-01-08T18:35:32.321Z"
   },
   {
    "duration": 29,
    "start_time": "2023-01-08T18:35:35.789Z"
   },
   {
    "duration": 9,
    "start_time": "2023-01-08T18:35:37.931Z"
   },
   {
    "duration": 20,
    "start_time": "2023-01-08T18:36:01.565Z"
   },
   {
    "duration": 10,
    "start_time": "2023-01-08T18:36:14.662Z"
   },
   {
    "duration": 20,
    "start_time": "2023-01-08T18:36:18.369Z"
   },
   {
    "duration": 34,
    "start_time": "2023-01-08T18:37:08.292Z"
   },
   {
    "duration": 27,
    "start_time": "2023-01-08T18:37:31.386Z"
   },
   {
    "duration": 18,
    "start_time": "2023-01-08T18:37:45.594Z"
   },
   {
    "duration": 7,
    "start_time": "2023-01-08T18:37:53.717Z"
   },
   {
    "duration": 9,
    "start_time": "2023-01-08T18:38:02.414Z"
   },
   {
    "duration": 22,
    "start_time": "2023-01-08T18:38:07.114Z"
   },
   {
    "duration": 12,
    "start_time": "2023-01-08T18:39:13.776Z"
   },
   {
    "duration": 14,
    "start_time": "2023-01-08T18:39:15.409Z"
   },
   {
    "duration": 6,
    "start_time": "2023-01-08T18:39:54.972Z"
   },
   {
    "duration": 55,
    "start_time": "2023-01-08T18:39:54.983Z"
   },
   {
    "duration": 4,
    "start_time": "2023-01-08T18:39:55.040Z"
   },
   {
    "duration": 8,
    "start_time": "2023-01-08T18:39:55.046Z"
   },
   {
    "duration": 10,
    "start_time": "2023-01-08T18:39:55.056Z"
   },
   {
    "duration": 4,
    "start_time": "2023-01-08T18:39:55.067Z"
   },
   {
    "duration": 13,
    "start_time": "2023-01-08T18:39:55.072Z"
   },
   {
    "duration": 44,
    "start_time": "2023-01-08T18:39:55.087Z"
   },
   {
    "duration": 21,
    "start_time": "2023-01-08T18:39:55.132Z"
   },
   {
    "duration": 24,
    "start_time": "2023-01-08T18:39:55.155Z"
   },
   {
    "duration": 41,
    "start_time": "2023-01-08T18:39:55.181Z"
   },
   {
    "duration": 25,
    "start_time": "2023-01-08T18:39:55.223Z"
   },
   {
    "duration": 85,
    "start_time": "2023-01-08T18:39:55.249Z"
   },
   {
    "duration": 84,
    "start_time": "2023-01-08T18:39:55.337Z"
   },
   {
    "duration": 126,
    "start_time": "2023-01-08T18:39:55.423Z"
   },
   {
    "duration": 66,
    "start_time": "2023-01-08T18:39:55.551Z"
   },
   {
    "duration": 838,
    "start_time": "2023-01-08T18:39:55.619Z"
   },
   {
    "duration": 46066,
    "start_time": "2023-01-08T18:39:56.459Z"
   },
   {
    "duration": 136,
    "start_time": "2023-01-08T18:40:42.528Z"
   },
   {
    "duration": 7,
    "start_time": "2023-01-08T18:40:42.666Z"
   },
   {
    "duration": 7,
    "start_time": "2023-01-08T18:40:42.675Z"
   },
   {
    "duration": 7,
    "start_time": "2023-01-08T18:40:42.683Z"
   },
   {
    "duration": 7,
    "start_time": "2023-01-08T18:40:42.712Z"
   },
   {
    "duration": 94,
    "start_time": "2023-01-08T18:40:42.720Z"
   },
   {
    "duration": 5,
    "start_time": "2023-01-08T18:40:42.912Z"
   },
   {
    "duration": 20,
    "start_time": "2023-01-08T18:40:42.920Z"
   },
   {
    "duration": 12,
    "start_time": "2023-01-08T18:40:42.942Z"
   },
   {
    "duration": 14,
    "start_time": "2023-01-08T18:40:42.956Z"
   },
   {
    "duration": 142,
    "start_time": "2023-01-08T18:40:42.972Z"
   },
   {
    "duration": 101,
    "start_time": "2023-01-08T18:40:43.116Z"
   },
   {
    "duration": 94,
    "start_time": "2023-01-08T18:40:43.219Z"
   },
   {
    "duration": 322,
    "start_time": "2023-01-08T18:40:43.315Z"
   },
   {
    "duration": 262,
    "start_time": "2023-01-08T18:40:43.639Z"
   },
   {
    "duration": 14,
    "start_time": "2023-01-08T18:40:43.903Z"
   },
   {
    "duration": 360,
    "start_time": "2023-01-08T18:40:43.918Z"
   },
   {
    "duration": 29044,
    "start_time": "2023-01-08T18:40:44.279Z"
   },
   {
    "duration": 21,
    "start_time": "2023-01-08T18:41:13.324Z"
   },
   {
    "duration": 171,
    "start_time": "2023-01-08T18:41:13.348Z"
   },
   {
    "duration": 8,
    "start_time": "2023-01-08T18:41:13.520Z"
   },
   {
    "duration": 11,
    "start_time": "2023-01-08T18:54:48.933Z"
   },
   {
    "duration": 5,
    "start_time": "2023-01-08T18:54:58.537Z"
   },
   {
    "duration": 8,
    "start_time": "2023-01-08T18:55:33.258Z"
   },
   {
    "duration": 110,
    "start_time": "2023-01-08T18:55:41.606Z"
   },
   {
    "duration": 24,
    "start_time": "2023-01-08T18:56:32.130Z"
   },
   {
    "duration": 28,
    "start_time": "2023-01-08T18:56:53.959Z"
   },
   {
    "duration": 8,
    "start_time": "2023-01-08T19:03:14.880Z"
   },
   {
    "duration": 6,
    "start_time": "2023-01-08T19:03:18.282Z"
   },
   {
    "duration": 59,
    "start_time": "2023-01-08T19:03:36.765Z"
   },
   {
    "duration": 40,
    "start_time": "2023-01-08T19:04:51.937Z"
   },
   {
    "duration": 40,
    "start_time": "2023-01-08T19:06:05.494Z"
   },
   {
    "duration": 28,
    "start_time": "2023-01-08T19:06:35.974Z"
   },
   {
    "duration": 84,
    "start_time": "2023-01-08T19:06:38.630Z"
   },
   {
    "duration": 681,
    "start_time": "2023-01-08T19:06:42.360Z"
   },
   {
    "duration": 46292,
    "start_time": "2023-01-08T19:06:51.586Z"
   },
   {
    "duration": 7,
    "start_time": "2023-01-08T19:08:10.219Z"
   },
   {
    "duration": 5,
    "start_time": "2023-01-08T19:08:12.260Z"
   },
   {
    "duration": 6,
    "start_time": "2023-01-08T19:08:14.107Z"
   },
   {
    "duration": 7,
    "start_time": "2023-01-08T19:08:17.315Z"
   },
   {
    "duration": 91,
    "start_time": "2023-01-08T19:08:19.825Z"
   },
   {
    "duration": 75,
    "start_time": "2023-01-08T19:08:24.588Z"
   },
   {
    "duration": 11,
    "start_time": "2023-01-08T19:08:29.316Z"
   },
   {
    "duration": 105,
    "start_time": "2023-01-08T19:08:31.631Z"
   },
   {
    "duration": 6,
    "start_time": "2023-01-08T19:09:09.295Z"
   },
   {
    "duration": 7,
    "start_time": "2023-01-08T19:09:15.713Z"
   },
   {
    "duration": 8,
    "start_time": "2023-01-08T19:09:18.000Z"
   },
   {
    "duration": 83,
    "start_time": "2023-01-08T19:09:38.133Z"
   },
   {
    "duration": 4,
    "start_time": "2023-01-08T19:09:41.352Z"
   },
   {
    "duration": 32,
    "start_time": "2023-01-08T19:09:46.552Z"
   },
   {
    "duration": 29,
    "start_time": "2023-01-08T19:09:50.227Z"
   },
   {
    "duration": 686,
    "start_time": "2023-01-08T19:09:52.897Z"
   },
   {
    "duration": 45342,
    "start_time": "2023-01-08T19:10:03.684Z"
   },
   {
    "duration": 7,
    "start_time": "2023-01-08T19:10:59.071Z"
   },
   {
    "duration": 7,
    "start_time": "2023-01-08T19:11:01.164Z"
   },
   {
    "duration": 6,
    "start_time": "2023-01-08T19:11:03.422Z"
   },
   {
    "duration": 5,
    "start_time": "2023-01-08T19:11:05.588Z"
   },
   {
    "duration": 24,
    "start_time": "2023-01-08T19:11:07.938Z"
   },
   {
    "duration": 10,
    "start_time": "2023-01-08T19:11:10.428Z"
   },
   {
    "duration": 8,
    "start_time": "2023-01-08T19:11:14.239Z"
   },
   {
    "duration": 126,
    "start_time": "2023-01-08T19:11:17.389Z"
   },
   {
    "duration": 11,
    "start_time": "2023-01-08T19:11:21.245Z"
   },
   {
    "duration": 13,
    "start_time": "2023-01-08T19:11:27.997Z"
   },
   {
    "duration": 170,
    "start_time": "2023-01-08T19:11:30.372Z"
   },
   {
    "duration": 248,
    "start_time": "2023-01-08T19:11:32.841Z"
   },
   {
    "duration": 6,
    "start_time": "2023-01-08T19:11:37.079Z"
   },
   {
    "duration": 333,
    "start_time": "2023-01-08T19:11:39.142Z"
   },
   {
    "duration": 28980,
    "start_time": "2023-01-08T19:11:46.748Z"
   },
   {
    "duration": 20,
    "start_time": "2023-01-08T19:12:25.925Z"
   },
   {
    "duration": 23,
    "start_time": "2023-01-08T19:12:27.855Z"
   },
   {
    "duration": 8,
    "start_time": "2023-01-08T19:12:31.195Z"
   },
   {
    "duration": 66,
    "start_time": "2023-01-08T19:17:05.672Z"
   },
   {
    "duration": 67,
    "start_time": "2023-01-08T19:17:53.418Z"
   },
   {
    "duration": 8,
    "start_time": "2023-01-08T19:19:39.239Z"
   },
   {
    "duration": 10,
    "start_time": "2023-01-08T19:19:48.289Z"
   },
   {
    "duration": 9,
    "start_time": "2023-01-08T19:20:24.960Z"
   },
   {
    "duration": 37,
    "start_time": "2023-01-08T19:20:28.692Z"
   },
   {
    "duration": 3,
    "start_time": "2023-01-08T19:20:33.409Z"
   },
   {
    "duration": 36,
    "start_time": "2023-01-08T19:21:01.005Z"
   },
   {
    "duration": 58,
    "start_time": "2023-01-08T19:21:04.456Z"
   },
   {
    "duration": 675,
    "start_time": "2023-01-08T19:21:07.049Z"
   },
   {
    "duration": 22,
    "start_time": "2023-01-08T19:21:37.119Z"
   },
   {
    "duration": 64,
    "start_time": "2023-01-08T19:21:39.282Z"
   },
   {
    "duration": 104,
    "start_time": "2023-01-08T19:21:42.421Z"
   },
   {
    "duration": 6,
    "start_time": "2023-01-08T19:22:03.273Z"
   },
   {
    "duration": 45,
    "start_time": "2023-01-08T19:22:03.284Z"
   },
   {
    "duration": 4,
    "start_time": "2023-01-08T19:22:03.331Z"
   },
   {
    "duration": 11,
    "start_time": "2023-01-08T19:22:03.336Z"
   },
   {
    "duration": 15,
    "start_time": "2023-01-08T19:22:03.349Z"
   },
   {
    "duration": 3,
    "start_time": "2023-01-08T19:22:03.365Z"
   },
   {
    "duration": 10,
    "start_time": "2023-01-08T19:22:03.370Z"
   },
   {
    "duration": 7,
    "start_time": "2023-01-08T19:22:03.382Z"
   },
   {
    "duration": 22,
    "start_time": "2023-01-08T19:22:03.391Z"
   },
   {
    "duration": 9,
    "start_time": "2023-01-08T19:22:03.415Z"
   },
   {
    "duration": 7,
    "start_time": "2023-01-08T19:22:03.426Z"
   },
   {
    "duration": 8,
    "start_time": "2023-01-08T19:22:03.435Z"
   },
   {
    "duration": 79,
    "start_time": "2023-01-08T19:22:03.447Z"
   },
   {
    "duration": 87,
    "start_time": "2023-01-08T19:22:03.529Z"
   },
   {
    "duration": 123,
    "start_time": "2023-01-08T19:22:03.618Z"
   },
   {
    "duration": 18,
    "start_time": "2023-01-08T19:22:03.743Z"
   },
   {
    "duration": 821,
    "start_time": "2023-01-08T19:22:03.812Z"
   },
   {
    "duration": 45343,
    "start_time": "2023-01-08T19:22:04.635Z"
   },
   {
    "duration": 102,
    "start_time": "2023-01-08T19:22:49.979Z"
   },
   {
    "duration": 5,
    "start_time": "2023-01-08T19:22:50.082Z"
   },
   {
    "duration": 20,
    "start_time": "2023-01-08T19:22:50.089Z"
   },
   {
    "duration": 13,
    "start_time": "2023-01-08T19:22:50.111Z"
   },
   {
    "duration": 12,
    "start_time": "2023-01-08T19:22:50.126Z"
   },
   {
    "duration": 74,
    "start_time": "2023-01-08T19:22:50.139Z"
   },
   {
    "duration": 98,
    "start_time": "2023-01-08T19:22:50.215Z"
   },
   {
    "duration": 25,
    "start_time": "2023-01-08T19:22:50.316Z"
   },
   {
    "duration": 76,
    "start_time": "2023-01-08T19:22:50.343Z"
   },
   {
    "duration": 100,
    "start_time": "2023-01-08T19:22:50.421Z"
   },
   {
    "duration": 101,
    "start_time": "2023-01-08T19:22:50.522Z"
   },
   {
    "duration": 312,
    "start_time": "2023-01-08T19:22:50.624Z"
   },
   {
    "duration": 257,
    "start_time": "2023-01-08T19:22:50.938Z"
   },
   {
    "duration": 16,
    "start_time": "2023-01-08T19:22:51.197Z"
   },
   {
    "duration": 346,
    "start_time": "2023-01-08T19:22:51.214Z"
   },
   {
    "duration": 28720,
    "start_time": "2023-01-08T19:22:51.562Z"
   },
   {
    "duration": 43,
    "start_time": "2023-01-08T19:23:20.284Z"
   },
   {
    "duration": 126,
    "start_time": "2023-01-08T19:23:20.412Z"
   },
   {
    "duration": 76,
    "start_time": "2023-01-08T19:23:20.540Z"
   },
   {
    "duration": 12,
    "start_time": "2023-01-08T19:23:20.617Z"
   },
   {
    "duration": 8,
    "start_time": "2023-01-08T19:23:20.631Z"
   },
   {
    "duration": 6,
    "start_time": "2023-01-08T19:23:22.996Z"
   },
   {
    "duration": 6,
    "start_time": "2023-01-08T19:23:25.043Z"
   },
   {
    "duration": 7,
    "start_time": "2023-01-08T19:23:28.010Z"
   },
   {
    "duration": 26,
    "start_time": "2023-01-08T19:23:30.303Z"
   },
   {
    "duration": 9,
    "start_time": "2023-01-08T19:23:32.437Z"
   },
   {
    "duration": 6,
    "start_time": "2023-01-08T19:23:35.289Z"
   },
   {
    "duration": 42,
    "start_time": "2023-01-08T19:23:37.103Z"
   },
   {
    "duration": 12,
    "start_time": "2023-01-08T19:23:39.780Z"
   },
   {
    "duration": 12,
    "start_time": "2023-01-08T19:23:42.569Z"
   },
   {
    "duration": 225,
    "start_time": "2023-01-08T19:23:44.320Z"
   },
   {
    "duration": 313,
    "start_time": "2023-01-08T19:23:50.184Z"
   },
   {
    "duration": 353,
    "start_time": "2023-01-08T19:23:56.811Z"
   },
   {
    "duration": 29051,
    "start_time": "2023-01-08T19:24:08.248Z"
   },
   {
    "duration": 30,
    "start_time": "2023-01-08T19:24:48.888Z"
   },
   {
    "duration": 21,
    "start_time": "2023-01-08T19:24:50.843Z"
   },
   {
    "duration": 66,
    "start_time": "2023-01-08T19:24:52.694Z"
   },
   {
    "duration": 17,
    "start_time": "2023-01-08T19:24:54.787Z"
   },
   {
    "duration": 65,
    "start_time": "2023-01-08T19:30:16.386Z"
   },
   {
    "duration": 21,
    "start_time": "2023-01-08T19:30:18.900Z"
   }
  ],
  "kernelspec": {
   "display_name": "Python 3 (ipykernel)",
   "language": "python",
   "name": "python3"
  },
  "language_info": {
   "codemirror_mode": {
    "name": "ipython",
    "version": 3
   },
   "file_extension": ".py",
   "mimetype": "text/x-python",
   "name": "python",
   "nbconvert_exporter": "python",
   "pygments_lexer": "ipython3",
   "version": "3.9.5"
  },
  "toc": {
   "base_numbering": 1,
   "nav_menu": {},
   "number_sections": true,
   "sideBar": true,
   "skip_h1_title": true,
   "title_cell": "Содержание",
   "title_sidebar": "Contents",
   "toc_cell": true,
   "toc_position": {},
   "toc_section_display": true,
   "toc_window_display": true
  }
 },
 "nbformat": 4,
 "nbformat_minor": 2
}
