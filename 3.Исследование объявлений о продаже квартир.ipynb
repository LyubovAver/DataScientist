{
 "cells": [
  {
   "cell_type": "markdown",
   "metadata": {},
   "source": [
    "# Исследование объявлений о продаже квартир\n",
    "\n",
    "В вашем распоряжении данные сервиса Яндекс.Недвижимость — архив объявлений о продаже квартир в Санкт-Петербурге и соседних населённых пунктов за несколько лет. Нужно научиться определять рыночную стоимость объектов недвижимости. Ваша задача — установить параметры. Это позволит построить автоматизированную систему: она отследит аномалии и мошенническую деятельность. \n",
    "\n",
    "По каждой квартире на продажу доступны два вида данных. Первые вписаны пользователем, вторые — получены автоматически на основе картографических данных. Например, расстояние до центра, аэропорта, ближайшего парка и водоёма. "
   ]
  },
  {
   "cell_type": "code",
   "execution_count": null,
   "metadata": {},
   "outputs": [],
   "source": []
  },
  {
   "cell_type": "code",
   "execution_count": null,
   "metadata": {},
   "outputs": [],
   "source": []
  },
  {
   "cell_type": "markdown",
   "metadata": {},
   "source": [
    "### Общая информация"
   ]
  },
  {
   "cell_type": "code",
   "execution_count": 88,
   "metadata": {
    "scrolled": true
   },
   "outputs": [],
   "source": [
    "import pandas as pd \n",
    "import datetime as dt\n",
    "import numpy as np\n",
    "import seaborn as sns\n"
   ]
  },
  {
   "cell_type": "code",
   "execution_count": 89,
   "metadata": {},
   "outputs": [
    {
     "data": {
      "text/html": [
       "<div>\n",
       "<style scoped>\n",
       "    .dataframe tbody tr th:only-of-type {\n",
       "        vertical-align: middle;\n",
       "    }\n",
       "\n",
       "    .dataframe tbody tr th {\n",
       "        vertical-align: top;\n",
       "    }\n",
       "\n",
       "    .dataframe thead th {\n",
       "        text-align: right;\n",
       "    }\n",
       "</style>\n",
       "<table border=\"1\" class=\"dataframe\">\n",
       "  <thead>\n",
       "    <tr style=\"text-align: right;\">\n",
       "      <th></th>\n",
       "      <th>total_images</th>\n",
       "      <th>last_price</th>\n",
       "      <th>total_area</th>\n",
       "      <th>first_day_exposition</th>\n",
       "      <th>rooms</th>\n",
       "      <th>ceiling_height</th>\n",
       "      <th>floors_total</th>\n",
       "      <th>living_area</th>\n",
       "      <th>floor</th>\n",
       "      <th>is_apartment</th>\n",
       "      <th>studio</th>\n",
       "      <th>open_plan</th>\n",
       "      <th>kitchen_area</th>\n",
       "      <th>balcony</th>\n",
       "      <th>locality_name</th>\n",
       "      <th>airports_nearest</th>\n",
       "      <th>cityCenters_nearest</th>\n",
       "      <th>parks_around3000</th>\n",
       "      <th>parks_nearest</th>\n",
       "      <th>ponds_around3000</th>\n",
       "      <th>ponds_nearest</th>\n",
       "      <th>days_exposition</th>\n",
       "    </tr>\n",
       "  </thead>\n",
       "  <tbody>\n",
       "    <tr>\n",
       "      <th>0</th>\n",
       "      <td>20</td>\n",
       "      <td>13,000,000.0</td>\n",
       "      <td>108.0</td>\n",
       "      <td>2019-03-07T00:00:00</td>\n",
       "      <td>3</td>\n",
       "      <td>2.7</td>\n",
       "      <td>16.0</td>\n",
       "      <td>51.0</td>\n",
       "      <td>8</td>\n",
       "      <td>NaN</td>\n",
       "      <td>False</td>\n",
       "      <td>False</td>\n",
       "      <td>25.0</td>\n",
       "      <td>NaN</td>\n",
       "      <td>Санкт-Петербург</td>\n",
       "      <td>18,863.0</td>\n",
       "      <td>16,028.0</td>\n",
       "      <td>1.0</td>\n",
       "      <td>482.0</td>\n",
       "      <td>2.0</td>\n",
       "      <td>755.0</td>\n",
       "      <td>NaN</td>\n",
       "    </tr>\n",
       "    <tr>\n",
       "      <th>1</th>\n",
       "      <td>7</td>\n",
       "      <td>3,350,000.0</td>\n",
       "      <td>40.4</td>\n",
       "      <td>2018-12-04T00:00:00</td>\n",
       "      <td>1</td>\n",
       "      <td>NaN</td>\n",
       "      <td>11.0</td>\n",
       "      <td>18.6</td>\n",
       "      <td>1</td>\n",
       "      <td>NaN</td>\n",
       "      <td>False</td>\n",
       "      <td>False</td>\n",
       "      <td>11.0</td>\n",
       "      <td>2.0</td>\n",
       "      <td>посёлок Шушары</td>\n",
       "      <td>12,817.0</td>\n",
       "      <td>18,603.0</td>\n",
       "      <td>0.0</td>\n",
       "      <td>NaN</td>\n",
       "      <td>0.0</td>\n",
       "      <td>NaN</td>\n",
       "      <td>81.0</td>\n",
       "    </tr>\n",
       "    <tr>\n",
       "      <th>2</th>\n",
       "      <td>10</td>\n",
       "      <td>5,196,000.0</td>\n",
       "      <td>56.0</td>\n",
       "      <td>2015-08-20T00:00:00</td>\n",
       "      <td>2</td>\n",
       "      <td>NaN</td>\n",
       "      <td>5.0</td>\n",
       "      <td>34.3</td>\n",
       "      <td>4</td>\n",
       "      <td>NaN</td>\n",
       "      <td>False</td>\n",
       "      <td>False</td>\n",
       "      <td>8.3</td>\n",
       "      <td>0.0</td>\n",
       "      <td>Санкт-Петербург</td>\n",
       "      <td>21,741.0</td>\n",
       "      <td>13,933.0</td>\n",
       "      <td>1.0</td>\n",
       "      <td>90.0</td>\n",
       "      <td>2.0</td>\n",
       "      <td>574.0</td>\n",
       "      <td>558.0</td>\n",
       "    </tr>\n",
       "    <tr>\n",
       "      <th>3</th>\n",
       "      <td>0</td>\n",
       "      <td>64,900,000.0</td>\n",
       "      <td>159.0</td>\n",
       "      <td>2015-07-24T00:00:00</td>\n",
       "      <td>3</td>\n",
       "      <td>NaN</td>\n",
       "      <td>14.0</td>\n",
       "      <td>NaN</td>\n",
       "      <td>9</td>\n",
       "      <td>NaN</td>\n",
       "      <td>False</td>\n",
       "      <td>False</td>\n",
       "      <td>NaN</td>\n",
       "      <td>0.0</td>\n",
       "      <td>Санкт-Петербург</td>\n",
       "      <td>28,098.0</td>\n",
       "      <td>6,800.0</td>\n",
       "      <td>2.0</td>\n",
       "      <td>84.0</td>\n",
       "      <td>3.0</td>\n",
       "      <td>234.0</td>\n",
       "      <td>424.0</td>\n",
       "    </tr>\n",
       "    <tr>\n",
       "      <th>4</th>\n",
       "      <td>2</td>\n",
       "      <td>10,000,000.0</td>\n",
       "      <td>100.0</td>\n",
       "      <td>2018-06-19T00:00:00</td>\n",
       "      <td>2</td>\n",
       "      <td>3.0</td>\n",
       "      <td>14.0</td>\n",
       "      <td>32.0</td>\n",
       "      <td>13</td>\n",
       "      <td>NaN</td>\n",
       "      <td>False</td>\n",
       "      <td>False</td>\n",
       "      <td>41.0</td>\n",
       "      <td>NaN</td>\n",
       "      <td>Санкт-Петербург</td>\n",
       "      <td>31,856.0</td>\n",
       "      <td>8,098.0</td>\n",
       "      <td>2.0</td>\n",
       "      <td>112.0</td>\n",
       "      <td>1.0</td>\n",
       "      <td>48.0</td>\n",
       "      <td>121.0</td>\n",
       "    </tr>\n",
       "  </tbody>\n",
       "</table>\n",
       "</div>"
      ],
      "text/plain": [
       "   total_images   last_price  total_area first_day_exposition  rooms  \\\n",
       "0            20 13,000,000.0       108.0  2019-03-07T00:00:00      3   \n",
       "1             7  3,350,000.0        40.4  2018-12-04T00:00:00      1   \n",
       "2            10  5,196,000.0        56.0  2015-08-20T00:00:00      2   \n",
       "3             0 64,900,000.0       159.0  2015-07-24T00:00:00      3   \n",
       "4             2 10,000,000.0       100.0  2018-06-19T00:00:00      2   \n",
       "\n",
       "   ceiling_height  floors_total  living_area  floor is_apartment  studio  \\\n",
       "0             2.7          16.0         51.0      8          NaN   False   \n",
       "1             NaN          11.0         18.6      1          NaN   False   \n",
       "2             NaN           5.0         34.3      4          NaN   False   \n",
       "3             NaN          14.0          NaN      9          NaN   False   \n",
       "4             3.0          14.0         32.0     13          NaN   False   \n",
       "\n",
       "   open_plan  kitchen_area  balcony    locality_name  airports_nearest  \\\n",
       "0      False          25.0      NaN  Санкт-Петербург          18,863.0   \n",
       "1      False          11.0      2.0   посёлок Шушары          12,817.0   \n",
       "2      False           8.3      0.0  Санкт-Петербург          21,741.0   \n",
       "3      False           NaN      0.0  Санкт-Петербург          28,098.0   \n",
       "4      False          41.0      NaN  Санкт-Петербург          31,856.0   \n",
       "\n",
       "   cityCenters_nearest  parks_around3000  parks_nearest  ponds_around3000  \\\n",
       "0             16,028.0               1.0          482.0               2.0   \n",
       "1             18,603.0               0.0            NaN               0.0   \n",
       "2             13,933.0               1.0           90.0               2.0   \n",
       "3              6,800.0               2.0           84.0               3.0   \n",
       "4              8,098.0               2.0          112.0               1.0   \n",
       "\n",
       "   ponds_nearest  days_exposition  \n",
       "0          755.0              NaN  \n",
       "1            NaN             81.0  \n",
       "2          574.0            558.0  \n",
       "3          234.0            424.0  \n",
       "4           48.0            121.0  "
      ]
     },
     "execution_count": 89,
     "metadata": {},
     "output_type": "execute_result"
    }
   ],
   "source": [
    "data=pd.read_csv('/datasets/real_estate_data.csv',sep='\\t')\n",
    "pd.set_option('display.max_columns', None)\n",
    "data.head()"
   ]
  },
  {
   "cell_type": "code",
   "execution_count": 90,
   "metadata": {
    "scrolled": true
   },
   "outputs": [
    {
     "name": "stdout",
     "output_type": "stream",
     "text": [
      "<class 'pandas.core.frame.DataFrame'>\n",
      "RangeIndex: 23699 entries, 0 to 23698\n",
      "Data columns (total 22 columns):\n",
      " #   Column                Non-Null Count  Dtype  \n",
      "---  ------                --------------  -----  \n",
      " 0   total_images          23699 non-null  int64  \n",
      " 1   last_price            23699 non-null  float64\n",
      " 2   total_area            23699 non-null  float64\n",
      " 3   first_day_exposition  23699 non-null  object \n",
      " 4   rooms                 23699 non-null  int64  \n",
      " 5   ceiling_height        14504 non-null  float64\n",
      " 6   floors_total          23613 non-null  float64\n",
      " 7   living_area           21796 non-null  float64\n",
      " 8   floor                 23699 non-null  int64  \n",
      " 9   is_apartment          2775 non-null   object \n",
      " 10  studio                23699 non-null  bool   \n",
      " 11  open_plan             23699 non-null  bool   \n",
      " 12  kitchen_area          21421 non-null  float64\n",
      " 13  balcony               12180 non-null  float64\n",
      " 14  locality_name         23650 non-null  object \n",
      " 15  airports_nearest      18157 non-null  float64\n",
      " 16  cityCenters_nearest   18180 non-null  float64\n",
      " 17  parks_around3000      18181 non-null  float64\n",
      " 18  parks_nearest         8079 non-null   float64\n",
      " 19  ponds_around3000      18181 non-null  float64\n",
      " 20  ponds_nearest         9110 non-null   float64\n",
      " 21  days_exposition       20518 non-null  float64\n",
      "dtypes: bool(2), float64(14), int64(3), object(3)\n",
      "memory usage: 3.7+ MB\n"
     ]
    }
   ],
   "source": [
    "data.info()"
   ]
  },
  {
   "cell_type": "code",
   "execution_count": 91,
   "metadata": {},
   "outputs": [
    {
     "data": {
      "image/png": "[encoded data removed]",
      "text/plain": [
       "<Figure size 1080x1440 with 20 Axes>"
      ]
     },
     "metadata": {
      "needs_background": "light"
     },
     "output_type": "display_data"
    }
   ],
   "source": [
    "data.hist(figsize=(15, 20));"
   ]
  },
  {
   "cell_type": "markdown",
   "metadata": {},
   "source": [
    "В результате изучения общей информации о датасете выяснено, что он состоит 23699 строк и 21 столбца, из них в 14 допущены пропуски в данных. Также тип данных не везде соответствует типу значений, находящимся в столбце. В столбцах 'floors_total','days_exposition','balcony' тип данных float, но данные значения могут быть только целыми числами. В столбце 'first_day_exposition' тип данных object, но он содержит день, месяц и год публикации. В гистограммах, построенных по каждому значению датасета, в столбцах 'total_area', 'floors_total', 'living_area', 'kitchen_area' есть аномальные значения. "
   ]
  },
  {
   "cell_type": "markdown",
   "metadata": {},
   "source": [
    "### Предобработка данных"
   ]
  },
  {
   "cell_type": "markdown",
   "metadata": {},
   "source": [
    "#### Обработка пропусков"
   ]
  },
  {
   "cell_type": "code",
   "execution_count": 92,
   "metadata": {},
   "outputs": [
    {
     "data": {
      "text/plain": [
       "total_images                0\n",
       "last_price                  0\n",
       "total_area                  0\n",
       "first_day_exposition        0\n",
       "rooms                       0\n",
       "ceiling_height           9195\n",
       "floors_total               86\n",
       "living_area              1903\n",
       "floor                       0\n",
       "is_apartment            20924\n",
       "studio                      0\n",
       "open_plan                   0\n",
       "kitchen_area             2278\n",
       "balcony                 11519\n",
       "locality_name              49\n",
       "airports_nearest         5542\n",
       "cityCenters_nearest      5519\n",
       "parks_around3000         5518\n",
       "parks_nearest           15620\n",
       "ponds_around3000         5518\n",
       "ponds_nearest           14589\n",
       "days_exposition          3181\n",
       "dtype: int64"
      ]
     },
     "execution_count": 92,
     "metadata": {},
     "output_type": "execute_result"
    }
   ],
   "source": [
    "data.isna().sum()"
   ]
  },
  {
   "cell_type": "code",
   "execution_count": 93,
   "metadata": {},
   "outputs": [
    {
     "data": {
      "text/plain": [
       "total_images                0\n",
       "last_price                  0\n",
       "total_area                  0\n",
       "first_day_exposition        0\n",
       "rooms                       0\n",
       "ceiling_height           9195\n",
       "floors_total               86\n",
       "living_area              1903\n",
       "floor                       0\n",
       "is_apartment            20924\n",
       "studio                      0\n",
       "open_plan                   0\n",
       "kitchen_area             2278\n",
       "balcony                     0\n",
       "locality_name              49\n",
       "airports_nearest         5542\n",
       "cityCenters_nearest      5519\n",
       "parks_around3000         5518\n",
       "parks_nearest           15620\n",
       "ponds_around3000         5518\n",
       "ponds_nearest           14589\n",
       "days_exposition          3181\n",
       "dtype: int64"
      ]
     },
     "execution_count": 93,
     "metadata": {},
     "output_type": "execute_result"
    }
   ],
   "source": [
    "#замена пустых значений на 0 в отдельных столбцах\n",
    "data['balcony']=data['balcony'].fillna(0)\n",
    "data.isna().sum()"
   ]
  },
  {
   "cell_type": "code",
   "execution_count": 94,
   "metadata": {},
   "outputs": [
    {
     "data": {
      "text/plain": [
       "8793         12,190.0\n",
       "17456       430,000.0\n",
       "14911       430,000.0\n",
       "16274       440,000.0\n",
       "17676       450,000.0\n",
       "             ...     \n",
       "15651   300,000,000.0\n",
       "1436    330,000,000.0\n",
       "14706   401,300,000.0\n",
       "19540   420,000,000.0\n",
       "12971   763,000,000.0\n",
       "Name: last_price, Length: 23699, dtype: float64"
      ]
     },
     "execution_count": 94,
     "metadata": {},
     "output_type": "execute_result"
    }
   ],
   "source": [
    "data['last_price'].sort_values()"
   ]
  },
  {
   "cell_type": "code",
   "execution_count": 95,
   "metadata": {},
   "outputs": [],
   "source": [
    "data['locality_name'] = data['locality_name'].fillna('unknown')#замена пропусков в столбце с названиями мест"
   ]
  },
  {
   "cell_type": "code",
   "execution_count": 96,
   "metadata": {},
   "outputs": [],
   "source": [
    "data['is_apartment'] = data['is_apartment'].fillna('False')"
   ]
  },
  {
   "cell_type": "code",
   "execution_count": 97,
   "metadata": {
    "scrolled": true
   },
   "outputs": [
    {
     "data": {
      "text/plain": [
       "total_images                0\n",
       "last_price                  0\n",
       "total_area                  0\n",
       "first_day_exposition        0\n",
       "rooms                       0\n",
       "ceiling_height           9195\n",
       "floors_total               86\n",
       "living_area              1903\n",
       "floor                       0\n",
       "is_apartment                0\n",
       "studio                      0\n",
       "open_plan                   0\n",
       "kitchen_area             2278\n",
       "balcony                     0\n",
       "locality_name               0\n",
       "airports_nearest         5542\n",
       "cityCenters_nearest      5519\n",
       "parks_around3000         5518\n",
       "parks_nearest           15620\n",
       "ponds_around3000         5518\n",
       "ponds_nearest           14589\n",
       "days_exposition          3181\n",
       "dtype: int64"
      ]
     },
     "execution_count": 97,
     "metadata": {},
     "output_type": "execute_result"
    }
   ],
   "source": [
    "\n",
    "data.isna().sum()"
   ]
  },
  {
   "cell_type": "code",
   "execution_count": 98,
   "metadata": {},
   "outputs": [],
   "source": [
    "data['floors_total'] = data['floors_total'].fillna(data['floor'])#замена пустых значений в общем количестве этажей, на этаж квартиры\n"
   ]
  },
  {
   "cell_type": "code",
   "execution_count": 99,
   "metadata": {},
   "outputs": [],
   "source": [
    "mean_area = data['living_area'].mean()/data['total_area'].mean()\n",
    "data['living_area'] = data['living_area'].fillna(mean_area)\n"
   ]
  },
  {
   "cell_type": "code",
   "execution_count": 100,
   "metadata": {},
   "outputs": [],
   "source": [
    "mean_kitchen_area = data['kitchen_area'].mean()/data['living_area'].mean()\n",
    "data['kitchen_area'] = data['kitchen_area'].fillna(mean_kitchen_area)"
   ]
  },
  {
   "cell_type": "code",
   "execution_count": 101,
   "metadata": {
    "scrolled": true
   },
   "outputs": [
    {
     "data": {
      "text/plain": [
       "22869   100.0\n",
       "22336    32.0\n",
       "3148     32.0\n",
       "21377    27.5\n",
       "20478    27.0\n",
       "5246     27.0\n",
       "5807     27.0\n",
       "10773    27.0\n",
       "17857    27.0\n",
       "22938    27.0\n",
       "21824    27.0\n",
       "4876     27.0\n",
       "5669     26.0\n",
       "18545    25.0\n",
       "11285    25.0\n",
       "355      25.0\n",
       "6246     25.0\n",
       "14382    25.0\n",
       "4643     25.0\n",
       "9379     25.0\n",
       "5076     24.0\n",
       "20507    22.6\n",
       "17496    20.0\n",
       "15061    14.0\n",
       "22309    10.3\n",
       "5863      8.3\n",
       "15743     8.0\n",
       "3474      8.0\n",
       "17442     8.0\n",
       "20264     6.0\n",
       "Name: ceiling_height, dtype: float64"
      ]
     },
     "execution_count": 101,
     "metadata": {},
     "output_type": "execute_result"
    }
   ],
   "source": [
    "data['ceiling_height'].unique()\n",
    "data['ceiling_height'].sort_values(ascending=False).head(30)\n"
   ]
  },
  {
   "cell_type": "code",
   "execution_count": 102,
   "metadata": {
    "scrolled": true
   },
   "outputs": [
    {
     "data": {
      "text/plain": [
       "array([  2.7      ,   2.7714989,   3.03     ,   2.5      ,   2.67     ,\n",
       "         2.56     ,   3.05     ,   2.75     ,   2.6      ,   2.9      ,\n",
       "         2.8      ,   2.55     ,   3.       ,   2.65     ,   3.2      ,\n",
       "         2.61     ,   3.25     ,   3.45     ,   2.77     ,   2.85     ,\n",
       "         2.64     ,   2.57     ,   4.15     ,   3.5      ,   3.3      ,\n",
       "         2.71     ,   4.       ,   2.47     ,   2.73     ,   2.84     ,\n",
       "         3.1      ,   2.34     ,   3.4      ,   3.06     ,   2.72     ,\n",
       "         2.54     ,   2.51     ,   2.78     ,   2.76     ,  25.       ,\n",
       "         2.58     ,   3.7      ,   2.52     ,   5.2      ,   2.87     ,\n",
       "         2.66     ,   2.59     ,   2.       ,   2.45     ,   3.6      ,\n",
       "         2.92     ,   3.11     ,   3.13     ,   3.8      ,   3.15     ,\n",
       "         3.55     ,   3.16     ,   3.62     ,   3.12     ,   2.53     ,\n",
       "         2.74     ,   2.96     ,   2.46     ,   5.3      ,   5.       ,\n",
       "         2.79     ,   2.95     ,   4.06     ,   2.94     ,   3.82     ,\n",
       "         3.54     ,   3.53     ,   2.83     ,   4.7      ,   2.4      ,\n",
       "         3.38     ,   3.01     ,   5.6      ,   3.65     ,   3.9      ,\n",
       "         3.18     ,   3.35     ,   2.3      ,   3.57     ,   2.48     ,\n",
       "         2.62     ,   2.82     ,   3.98     ,   2.63     ,   3.83     ,\n",
       "         3.52     ,   3.95     ,   3.75     ,   2.88     ,   3.67     ,\n",
       "         3.87     ,   3.66     ,   3.85     ,   3.86     ,   4.19     ,\n",
       "         3.24     ,   4.8      ,   4.5      ,   4.2      ,   3.36     ,\n",
       "        32.       ,   3.08     ,   3.68     ,   3.07     ,   3.37     ,\n",
       "         3.09     ,   8.       ,   3.26     ,   3.34     ,   2.81     ,\n",
       "         3.44     ,   2.97     ,   3.14     ,   4.37     ,   2.68     ,\n",
       "         3.22     ,   3.27     ,  27.       ,   4.1      ,   2.93     ,\n",
       "         3.46     ,  24.       ,   3.47     ,   3.33     ,   3.63     ,\n",
       "         3.32     ,  26.       ,   1.2      ,   8.3      ,   2.98     ,\n",
       "         2.86     ,   3.17     ,   4.4      ,   3.28     ,   3.04     ,\n",
       "         4.45     ,   5.5      ,   3.84     ,   3.23     ,   3.02     ,\n",
       "         3.21     ,   3.43     ,   3.78     ,   4.3      ,   3.39     ,\n",
       "         2.69     ,   3.31     ,   4.65     ,   3.56     ,   2.2      ,\n",
       "         3.51     ,   3.93     ,   3.42     ,   2.99     ,   3.49     ,\n",
       "        14.       ,   4.14     ,   2.91     ,   3.88     ,   1.75     ,\n",
       "         4.25     ,   3.29     ,  20.       ,   2.25     ,   3.76     ,\n",
       "         3.69     ,   6.       ,  22.6      ,   2.89     ,   3.58     ,\n",
       "         5.8      ,  27.5      ,   2.49     ,   4.9      ,   3.48     ,\n",
       "        10.3      ,   1.       , 100.       ,   3.59     ])"
      ]
     },
     "execution_count": 102,
     "metadata": {},
     "output_type": "execute_result"
    }
   ],
   "source": [
    "c_height_mean = data['ceiling_height'].mean()#заполняем оставшиеся пропуски средним значением высоты\n",
    "data['ceiling_height'] = data['ceiling_height'].fillna(c_height_mean)\n",
    "data['ceiling_height'].isna().sum()\n",
    "data['ceiling_height'].unique()"
   ]
  },
  {
   "cell_type": "code",
   "execution_count": 103,
   "metadata": {},
   "outputs": [
    {
     "name": "stdout",
     "output_type": "stream",
     "text": [
      "0       0.3\n",
      "1       0.3\n",
      "2       0.3\n",
      "3       0.3\n",
      "4       0.3\n",
      "         ..\n",
      "23694   0.4\n",
      "23695   0.3\n",
      "23696   0.3\n",
      "23697   0.3\n",
      "23698   0.2\n",
      "Name: ceiling_height, Length: 23699, dtype: float64\n",
      "0       0.3\n",
      "1       0.3\n",
      "2       0.3\n",
      "3       0.3\n",
      "4       0.3\n",
      "         ..\n",
      "23694   0.4\n",
      "23695   0.3\n",
      "23696   0.3\n",
      "23697   0.3\n",
      "23698   0.2\n",
      "Name: ceiling_height, Length: 23699, dtype: float64\n",
      "0       0.3\n",
      "1       0.3\n",
      "2       0.3\n",
      "3       0.3\n",
      "4       0.3\n",
      "         ..\n",
      "23694   0.4\n",
      "23695   0.3\n",
      "23696   0.3\n",
      "23697   0.3\n",
      "23698   0.2\n",
      "Name: ceiling_height, Length: 23699, dtype: float64\n",
      "0       0.3\n",
      "1       0.3\n",
      "2       0.3\n",
      "3       0.3\n",
      "4       0.3\n",
      "         ..\n",
      "23694   0.4\n",
      "23695   0.3\n",
      "23696   0.3\n",
      "23697   0.3\n",
      "23698   0.2\n",
      "Name: ceiling_height, Length: 23699, dtype: float64\n",
      "0       0.3\n",
      "1       0.3\n",
      "2       0.3\n",
      "3       0.3\n",
      "4       0.3\n",
      "         ..\n",
      "23694   0.4\n",
      "23695   0.3\n",
      "23696   0.3\n",
      "23697   0.3\n",
      "23698   0.2\n",
      "Name: ceiling_height, Length: 23699, dtype: float64\n",
      "0       0.3\n",
      "1       0.3\n",
      "2       0.3\n",
      "3       0.3\n",
      "4       0.3\n",
      "         ..\n",
      "23694   0.4\n",
      "23695   0.3\n",
      "23696   0.3\n",
      "23697   0.3\n",
      "23698   0.2\n",
      "Name: ceiling_height, Length: 23699, dtype: float64\n",
      "0       0.3\n",
      "1       0.3\n",
      "2       0.3\n",
      "3       0.3\n",
      "4       0.3\n",
      "         ..\n",
      "23694   0.4\n",
      "23695   0.3\n",
      "23696   0.3\n",
      "23697   0.3\n",
      "23698   0.2\n",
      "Name: ceiling_height, Length: 23699, dtype: float64\n",
      "0       0.3\n",
      "1       0.3\n",
      "2       0.3\n",
      "3       0.3\n",
      "4       0.3\n",
      "         ..\n",
      "23694   0.4\n",
      "23695   0.3\n",
      "23696   0.3\n",
      "23697   0.3\n",
      "23698   0.2\n",
      "Name: ceiling_height, Length: 23699, dtype: float64\n",
      "0       0.3\n",
      "1       0.3\n",
      "2       0.3\n",
      "3       0.3\n",
      "4       0.3\n",
      "         ..\n",
      "23694   0.4\n",
      "23695   0.3\n",
      "23696   0.3\n",
      "23697   0.3\n",
      "23698   0.2\n",
      "Name: ceiling_height, Length: 23699, dtype: float64\n",
      "0       0.3\n",
      "1       0.3\n",
      "2       0.3\n",
      "3       0.3\n",
      "4       0.3\n",
      "         ..\n",
      "23694   0.4\n",
      "23695   0.3\n",
      "23696   0.3\n",
      "23697   0.3\n",
      "23698   0.2\n",
      "Name: ceiling_height, Length: 23699, dtype: float64\n",
      "0       0.3\n",
      "1       0.3\n",
      "2       0.3\n",
      "3       0.3\n",
      "4       0.3\n",
      "         ..\n",
      "23694   0.4\n",
      "23695   0.3\n",
      "23696   0.3\n",
      "23697   0.3\n",
      "23698   0.2\n",
      "Name: ceiling_height, Length: 23699, dtype: float64\n",
      "0       0.3\n",
      "1       0.3\n",
      "2       0.3\n",
      "3       0.3\n",
      "4       0.3\n",
      "         ..\n",
      "23694   0.4\n",
      "23695   0.3\n",
      "23696   0.3\n",
      "23697   0.3\n",
      "23698   0.2\n",
      "Name: ceiling_height, Length: 23699, dtype: float64\n",
      "0       0.3\n",
      "1       0.3\n",
      "2       0.3\n",
      "3       0.3\n",
      "4       0.3\n",
      "         ..\n",
      "23694   0.4\n",
      "23695   0.3\n",
      "23696   0.3\n",
      "23697   0.3\n",
      "23698   0.2\n",
      "Name: ceiling_height, Length: 23699, dtype: float64\n",
      "0       0.3\n",
      "1       0.3\n",
      "2       0.3\n",
      "3       0.3\n",
      "4       0.3\n",
      "         ..\n",
      "23694   0.4\n",
      "23695   0.3\n",
      "23696   0.3\n",
      "23697   0.3\n",
      "23698   0.2\n",
      "Name: ceiling_height, Length: 23699, dtype: float64\n",
      "0       0.3\n",
      "1       0.3\n",
      "2       0.3\n",
      "3       0.3\n",
      "4       0.3\n",
      "         ..\n",
      "23694   0.4\n",
      "23695   0.3\n",
      "23696   0.3\n",
      "23697   0.3\n",
      "23698   0.2\n",
      "Name: ceiling_height, Length: 23699, dtype: float64\n",
      "0       0.3\n",
      "1       0.3\n",
      "2       0.3\n",
      "3       0.3\n",
      "4       0.3\n",
      "         ..\n",
      "23694   0.4\n",
      "23695   0.3\n",
      "23696   0.3\n",
      "23697   0.3\n",
      "23698   0.2\n",
      "Name: ceiling_height, Length: 23699, dtype: float64\n",
      "0       0.3\n",
      "1       0.3\n",
      "2       0.3\n",
      "3       0.3\n",
      "4       0.3\n",
      "         ..\n",
      "23694   0.4\n",
      "23695   0.3\n",
      "23696   0.3\n",
      "23697   0.3\n",
      "23698   0.2\n",
      "Name: ceiling_height, Length: 23699, dtype: float64\n",
      "0       0.3\n",
      "1       0.3\n",
      "2       0.3\n",
      "3       0.3\n",
      "4       0.3\n",
      "         ..\n",
      "23694   0.4\n",
      "23695   0.3\n",
      "23696   0.3\n",
      "23697   0.3\n",
      "23698   0.2\n",
      "Name: ceiling_height, Length: 23699, dtype: float64\n",
      "0       0.3\n",
      "1       0.3\n",
      "2       0.3\n",
      "3       0.3\n",
      "4       0.3\n",
      "         ..\n",
      "23694   0.4\n",
      "23695   0.3\n",
      "23696   0.3\n",
      "23697   0.3\n",
      "23698   0.2\n",
      "Name: ceiling_height, Length: 23699, dtype: float64\n",
      "0       0.3\n",
      "1       0.3\n",
      "2       0.3\n",
      "3       0.3\n",
      "4       0.3\n",
      "         ..\n",
      "23694   0.4\n",
      "23695   0.3\n",
      "23696   0.3\n",
      "23697   0.3\n",
      "23698   0.2\n",
      "Name: ceiling_height, Length: 23699, dtype: float64\n",
      "0       0.3\n",
      "1       0.3\n",
      "2       0.3\n",
      "3       0.3\n",
      "4       0.3\n",
      "         ..\n",
      "23694   0.4\n",
      "23695   0.3\n",
      "23696   0.3\n",
      "23697   0.3\n",
      "23698   0.2\n",
      "Name: ceiling_height, Length: 23699, dtype: float64\n",
      "0       0.3\n",
      "1       0.3\n",
      "2       0.3\n",
      "3       0.3\n",
      "4       0.3\n",
      "         ..\n",
      "23694   0.4\n",
      "23695   0.3\n",
      "23696   0.3\n",
      "23697   0.3\n",
      "23698   0.2\n",
      "Name: ceiling_height, Length: 23699, dtype: float64\n",
      "0       0.3\n",
      "1       0.3\n",
      "2       0.3\n",
      "3       0.3\n",
      "4       0.3\n",
      "         ..\n",
      "23694   0.4\n",
      "23695   0.3\n",
      "23696   0.3\n",
      "23697   0.3\n",
      "23698   0.2\n",
      "Name: ceiling_height, Length: 23699, dtype: float64\n",
      "0       0.3\n",
      "1       0.3\n",
      "2       0.3\n",
      "3       0.3\n",
      "4       0.3\n",
      "         ..\n",
      "23694   0.4\n",
      "23695   0.3\n",
      "23696   0.3\n",
      "23697   0.3\n",
      "23698   0.2\n",
      "Name: ceiling_height, Length: 23699, dtype: float64\n",
      "0       0.3\n",
      "1       0.3\n",
      "2       0.3\n",
      "3       0.3\n",
      "4       0.3\n",
      "         ..\n",
      "23694   0.4\n",
      "23695   0.3\n",
      "23696   0.3\n",
      "23697   0.3\n",
      "23698   0.2\n",
      "Name: ceiling_height, Length: 23699, dtype: float64\n"
     ]
    },
    {
     "data": {
      "text/plain": [
       "array([2.7      , 2.7714989, 3.03     , 2.5      , 2.67     , 2.56     ,\n",
       "       3.05     , 2.75     , 2.6      , 2.9      , 2.8      , 2.55     ,\n",
       "       3.       , 2.65     , 3.2      , 2.61     , 3.25     , 3.45     ,\n",
       "       2.77     , 2.85     , 2.64     , 2.57     , 4.15     , 3.5      ,\n",
       "       3.3      , 2.71     , 4.       , 2.47     , 2.73     , 2.84     ,\n",
       "       3.1      , 2.34     , 3.4      , 3.06     , 2.72     , 2.54     ,\n",
       "       2.51     , 2.78     , 2.76     , 2.58     , 3.7      , 2.52     ,\n",
       "       2.87     , 2.66     , 2.59     , 2.45     , 3.6      , 2.92     ,\n",
       "       3.11     , 3.13     , 3.8      , 3.15     , 3.55     , 3.16     ,\n",
       "       3.62     , 3.12     , 2.53     , 2.74     , 2.96     , 2.46     ,\n",
       "       2.79     , 2.95     , 4.06     , 2.94     , 3.82     , 3.54     ,\n",
       "       3.53     , 2.83     , 4.7      , 2.4      , 3.38     , 3.01     ,\n",
       "       3.65     , 3.9      , 3.18     , 3.35     , 2.3      , 3.57     ,\n",
       "       2.48     , 2.62     , 2.82     , 3.98     , 2.63     , 3.83     ,\n",
       "       3.52     , 3.95     , 3.75     , 2.88     , 3.67     , 3.87     ,\n",
       "       3.66     , 3.85     , 3.86     , 4.19     , 3.24     , 4.8      ,\n",
       "       4.5      , 4.2      , 3.36     , 3.08     , 3.68     , 3.07     ,\n",
       "       3.37     , 3.09     , 3.26     , 3.34     , 2.81     , 3.44     ,\n",
       "       2.97     , 3.14     , 4.37     , 2.68     , 3.22     , 3.27     ,\n",
       "       4.1      , 2.93     , 3.46     , 3.47     , 3.33     , 3.63     ,\n",
       "       3.32     , 2.98     , 2.86     , 3.17     , 4.4      , 3.28     ,\n",
       "       3.04     , 4.45     , 3.84     , 3.23     , 3.02     , 3.21     ,\n",
       "       3.43     , 3.78     , 4.3      , 3.39     , 2.69     , 3.31     ,\n",
       "       4.65     , 3.56     , 2.2      , 3.51     , 3.93     , 3.42     ,\n",
       "       2.99     , 3.49     , 4.14     , 2.91     , 3.88     , 4.25     ,\n",
       "       3.29     , 2.25     , 3.76     , 3.69     , 2.89     , 3.58     ,\n",
       "       2.49     , 4.9      , 3.48     , 3.59     ])"
      ]
     },
     "execution_count": 103,
     "metadata": {},
     "output_type": "execute_result"
    }
   ],
   "source": [
    "#цикл для переноса точки в неверных значениях\n",
    "for value in data['ceiling_height']:\n",
    "    if value>10:\n",
    "        print (data['ceiling_height']/10)\n",
    "data = data.loc[(data['ceiling_height']<5)&(data['ceiling_height']>2)]#отбрасываем аномальные значения\n",
    "data['ceiling_height'].unique()        \n"
   ]
  },
  {
   "cell_type": "markdown",
   "metadata": {},
   "source": [
    "В столбце 'ceiling_height' в большинстве значений в исходных данных было много редких и выбивающихся значений,которые были устранены путем переноса точки в числе влево на один десяток и удаления аномальных значений менее 2 метров и более 10."
   ]
  },
  {
   "cell_type": "code",
   "execution_count": 104,
   "metadata": {},
   "outputs": [
    {
     "data": {
      "text/plain": [
       "array([108.  ,  40.4 ,  56.  , ...,  66.86, 133.81,  76.75])"
      ]
     },
     "execution_count": 104,
     "metadata": {},
     "output_type": "execute_result"
    }
   ],
   "source": [
    "data['total_area'].unique()"
   ]
  },
  {
   "cell_type": "markdown",
   "metadata": {},
   "source": [
    "В случае с данным датасетом пропуски в данных могли возникнуть по следующим причинам:\n",
    "1. Пользователь предоставил неполные данные\n",
    "2. Нет данных об адресе недвижимости \n",
    "3. Нет данных о площади кухни\n",
    "4. Произошла опечатка в процессе заполнения полей с данными\n",
    "5. Пользователь не проставил отметки в ячейках с ответами \"Да\"-\"Нет\""
   ]
  },
  {
   "cell_type": "markdown",
   "metadata": {},
   "source": [
    "#### Преобразование типов"
   ]
  },
  {
   "cell_type": "code",
   "execution_count": 105,
   "metadata": {},
   "outputs": [
    {
     "data": {
      "text/plain": [
       "0        0\n",
       "1        2\n",
       "2        0\n",
       "3        0\n",
       "4        0\n",
       "        ..\n",
       "23694    0\n",
       "23695    0\n",
       "23696    0\n",
       "23697    2\n",
       "23698    0\n",
       "Name: balcony, Length: 23648, dtype: int64"
      ]
     },
     "execution_count": 105,
     "metadata": {},
     "output_type": "execute_result"
    }
   ],
   "source": [
    "data['floors_total'].astype(int)\n",
    "\n",
    "data['first_day_exposition']= pd.to_datetime(data['first_day_exposition'],format = '%Y-%m-%d %H:%M:%S')\n",
    "\n",
    "data['days_exposition'].astype('int',errors='ignore')\n",
    "\n",
    "data['balcony'].astype(int)"
   ]
  },
  {
   "cell_type": "code",
   "execution_count": 106,
   "metadata": {},
   "outputs": [
    {
     "data": {
      "text/plain": [
       "0       25.0\n",
       "1       11.0\n",
       "2        8.3\n",
       "3        0.3\n",
       "4       41.0\n",
       "        ... \n",
       "23694   13.8\n",
       "23695    8.5\n",
       "23696    0.3\n",
       "23697   23.3\n",
       "23698    9.0\n",
       "Name: kitchen_area, Length: 23648, dtype: float64"
      ]
     },
     "execution_count": 106,
     "metadata": {},
     "output_type": "execute_result"
    }
   ],
   "source": [
    "\n",
    "data['kitchen_area'].astype(float)"
   ]
  },
  {
   "cell_type": "code",
   "execution_count": 107,
   "metadata": {},
   "outputs": [
    {
     "data": {
      "text/plain": [
       "array(['2019-03-07T00:00:00.000000000', '2018-12-04T00:00:00.000000000',\n",
       "       '2015-08-20T00:00:00.000000000', ...,\n",
       "       '2014-12-29T00:00:00.000000000', '2016-09-12T00:00:00.000000000',\n",
       "       '2015-07-19T00:00:00.000000000'], dtype='datetime64[ns]')"
      ]
     },
     "execution_count": 107,
     "metadata": {},
     "output_type": "execute_result"
    }
   ],
   "source": [
    "data['first_day_exposition'].unique()"
   ]
  },
  {
   "cell_type": "code",
   "execution_count": 108,
   "metadata": {},
   "outputs": [
    {
     "data": {
      "text/plain": [
       "array(['unknown', 'Бокситогорск', 'Волосово', 'Волхов', 'Всеволожск',\n",
       "       'Выборг', 'Высоцк', 'Гатчина', 'Зеленогорск', 'Ивангород',\n",
       "       'Каменногорск', 'Кингисепп', 'Кириши', 'Кировск', 'Колпино',\n",
       "       'Коммунар', 'Красное Село', 'Кронштадт', 'Кудрово',\n",
       "       'Лодейное Поле', 'Ломоносов', 'Луга', 'Любань', 'Мурино',\n",
       "       'Никольское', 'Новая Ладога', 'Отрадное', 'Павловск', 'Петергоф',\n",
       "       'Пикалёво', 'Подпорожье', 'Приморск', 'Приозерск', 'Пушкин',\n",
       "       'Санкт-Петербург', 'Светогорск', 'Сертолово', 'Сестрорецк',\n",
       "       'Сланцы', 'Сосновый Бор', 'Сясьстрой', 'Тихвин', 'Тосно',\n",
       "       'Шлиссельбург', 'городской поселок Большая Ижора',\n",
       "       'городской поселок Янино-1', 'городской посёлок Будогощь',\n",
       "       'городской посёлок Виллози', 'городской посёлок Лесогорский',\n",
       "       'городской посёлок Мга', 'городской посёлок Назия',\n",
       "       'городской посёлок Новоселье', 'городской посёлок Павлово',\n",
       "       'городской посёлок Рощино', 'городской посёлок Свирьстрой',\n",
       "       'городской посёлок Советский', 'городской посёлок Фёдоровское',\n",
       "       'городской посёлок Янино-1', 'деревня Агалатово', 'деревня Аро',\n",
       "       'деревня Батово', 'деревня Бегуницы', 'деревня Белогорка',\n",
       "       'деревня Большая Вруда', 'деревня Большая Пустомержа',\n",
       "       'деревня Большие Колпаны', 'деревня Большое Рейзино',\n",
       "       'деревня Большой Сабск', 'деревня Бор', 'деревня Борисова Грива',\n",
       "       'деревня Ваганово', 'деревня Вартемяги', 'деревня Вахнова Кара',\n",
       "       'деревня Выскатка', 'деревня Гарболово', 'деревня Глинка',\n",
       "       'деревня Горбунки', 'деревня Гостилицы', 'деревня Заклинье',\n",
       "       'деревня Заневка', 'деревня Зимитицы', 'деревня Извара',\n",
       "       'деревня Иссад', 'деревня Калитино', 'деревня Кальтино',\n",
       "       'деревня Камышовка', 'деревня Каськово', 'деревня Келози',\n",
       "       'деревня Кипень', 'деревня Кисельня', 'деревня Колтуши',\n",
       "       'деревня Коркино', 'деревня Котлы', 'деревня Кривко',\n",
       "       'деревня Кудрово', 'деревня Кузьмолово', 'деревня Курковицы',\n",
       "       'деревня Куровицы', 'деревня Куттузи', 'деревня Лаврики',\n",
       "       'деревня Лаголово', 'деревня Лампово', 'деревня Лесколово',\n",
       "       'деревня Лопухинка', 'деревня Лупполово',\n",
       "       'деревня Малая Романовка', 'деревня Малое Верево',\n",
       "       'деревня Малое Карлино', 'деревня Малые Колпаны',\n",
       "       'деревня Мануйлово', 'деревня Меньково', 'деревня Мины',\n",
       "       'деревня Мистолово', 'деревня Ненимяки', 'деревня Нижние Осельки',\n",
       "       'деревня Низино', 'деревня Новое Девяткино', 'деревня Новолисино',\n",
       "       'деревня Нурма', 'деревня Оржицы', 'деревня Парицы',\n",
       "       'деревня Пельгора', 'деревня Пеники', 'деревня Пижма',\n",
       "       'деревня Пикколово', 'деревня Пудомяги', 'деревня Пустынка',\n",
       "       'деревня Пчева', 'деревня Рабитицы', 'деревня Разбегаево',\n",
       "       'деревня Раздолье', 'деревня Разметелево', 'деревня Рапполово',\n",
       "       'деревня Реброво', 'деревня Русско', 'деревня Сижно',\n",
       "       'деревня Снегирёвка', 'деревня Старая', 'деревня Старая Пустошь',\n",
       "       'деревня Старое Хинколово', 'деревня Старополье',\n",
       "       'деревня Старосиверская', 'деревня Старые Бегуницы',\n",
       "       'деревня Суоранда', 'деревня Сяськелево', 'деревня Тарасово',\n",
       "       'деревня Терпилицы', 'деревня Тихковицы', 'деревня Тойворово',\n",
       "       'деревня Торосово', 'деревня Торошковичи', 'деревня Трубников Бор',\n",
       "       'деревня Фалилеево', 'деревня Фёдоровское', 'деревня Хапо-Ое',\n",
       "       'деревня Хязельки', 'деревня Чудской Бор', 'деревня Шпаньково',\n",
       "       'деревня Щеглово', 'деревня Юкки', 'деревня Ялгино',\n",
       "       'деревня Яльгелево', 'деревня Ям-Тесово',\n",
       "       'коттеджный поселок Кивеннапа Север', 'коттеджный поселок Счастье',\n",
       "       'коттеджный посёлок Лесное', 'поселок Аннино', 'поселок Барышево',\n",
       "       'поселок Бугры', 'поселок Возрождение', 'поселок Войсковицы',\n",
       "       'поселок Володарское', 'поселок Гаврилово', 'поселок Гарболово',\n",
       "       'поселок Гладкое', 'поселок Глажево', 'поселок Глебычево',\n",
       "       'поселок Гончарово', 'поселок Громово', 'поселок Дружноселье',\n",
       "       'поселок Елизаветино', 'поселок Жилгородок', 'поселок Жилпосёлок',\n",
       "       'поселок Житково', 'поселок Заводской', 'поселок Запорожское',\n",
       "       'поселок Зимитицы', 'поселок Ильичёво', 'поселок Калитино',\n",
       "       'поселок Каложицы', 'поселок Кингисеппский', 'поселок Кирпичное',\n",
       "       'поселок Кобралово', 'поселок Кобринское', 'поселок Коммунары',\n",
       "       'поселок Коробицыно', 'поселок Котельский',\n",
       "       'поселок Красная Долина', 'поселок Красносельское',\n",
       "       'поселок Лесное', 'поселок Лисий Нос', 'поселок Лукаши',\n",
       "       'поселок Любань', 'поселок Мельниково', 'поселок Мичуринское',\n",
       "       'поселок Молодцово', 'поселок Мурино', 'поселок Новый Свет',\n",
       "       'поселок Новый Учхоз', 'поселок Оредеж',\n",
       "       'поселок Пансионат Зелёный Бор', 'поселок Первомайское',\n",
       "       'поселок Перово', 'поселок Петровское', 'поселок Победа',\n",
       "       'поселок Поляны', 'поселок Почап', 'поселок Починок',\n",
       "       'поселок Пушное', 'поселок Пчевжа', 'поселок Рабитицы',\n",
       "       'поселок Романовка', 'поселок Ромашки', 'поселок Рябово',\n",
       "       'поселок Севастьяново', 'поселок Селезнёво', 'поселок Сельцо',\n",
       "       'поселок Семиозерье', 'поселок Семрино', 'поселок Серебрянский',\n",
       "       'поселок Совхозный', 'поселок Старая Малукса',\n",
       "       'поселок Стеклянный', 'поселок Сумино', 'поселок Суходолье',\n",
       "       'поселок Тельмана', 'поселок Терволово', 'поселок Торковичи',\n",
       "       'поселок Тёсово-4', 'поселок Углово', 'поселок Усть-Луга',\n",
       "       'поселок Ушаки', 'поселок Цвелодубово', 'поселок Цвылёво',\n",
       "       'поселок городского типа Большая Ижора',\n",
       "       'поселок городского типа Вырица',\n",
       "       'поселок городского типа Дружная Горка',\n",
       "       'поселок городского типа Дубровка',\n",
       "       'поселок городского типа Ефимовский',\n",
       "       'поселок городского типа Кондратьево',\n",
       "       'поселок городского типа Красный Бор',\n",
       "       'поселок городского типа Кузьмоловский',\n",
       "       'поселок городского типа Лебяжье',\n",
       "       'поселок городского типа Лесогорский',\n",
       "       'поселок городского типа Назия',\n",
       "       'поселок городского типа Никольский',\n",
       "       'поселок городского типа Приладожский',\n",
       "       'поселок городского типа Рахья', 'поселок городского типа Рощино',\n",
       "       'поселок городского типа Рябово',\n",
       "       'поселок городского типа Синявино',\n",
       "       'поселок городского типа Советский',\n",
       "       'поселок городского типа Токсово',\n",
       "       'поселок городского типа Форносово',\n",
       "       'поселок городского типа имени Свердлова',\n",
       "       'поселок станции Вещево', 'поселок станции Корнево',\n",
       "       'поселок станции Лужайка', 'поселок станции Приветнинское',\n",
       "       'посёлок Александровская', 'посёлок Алексеевка', 'посёлок Аннино',\n",
       "       'посёлок Белоостров', 'посёлок Бугры', 'посёлок Возрождение',\n",
       "       'посёлок Войскорово', 'посёлок Высокоключевой',\n",
       "       'посёлок Гаврилово', 'посёлок Дзержинского', 'посёлок Жилгородок',\n",
       "       'посёлок Ильичёво', 'посёлок Кикерино', 'посёлок Кобралово',\n",
       "       'посёлок Коробицыно', 'посёлок Левашово', 'посёлок Ленинское',\n",
       "       'посёлок Лисий Нос', 'посёлок Мельниково', 'посёлок Металлострой',\n",
       "       'посёлок Мичуринское', 'посёлок Молодёжное', 'посёлок Мурино',\n",
       "       'посёлок Мыза-Ивановка', 'посёлок Новогорелово',\n",
       "       'посёлок Новый Свет', 'посёлок Пансионат Зелёный Бор',\n",
       "       'посёлок Парголово', 'посёлок Перово', 'посёлок Песочный',\n",
       "       'посёлок Петро-Славянка', 'посёлок Петровское',\n",
       "       'посёлок Платформа 69-й километр', 'посёлок Плодовое',\n",
       "       'посёлок Плоское', 'посёлок Победа', 'посёлок Поляны',\n",
       "       'посёлок Понтонный', 'посёлок Пригородный', 'посёлок Пудость',\n",
       "       'посёлок Репино', 'посёлок Ропша', 'посёлок Сапёрное',\n",
       "       'посёлок Сапёрный', 'посёлок Сосново', 'посёлок Старая Малукса',\n",
       "       'посёлок Стеклянный', 'посёлок Стрельна', 'посёлок Суйда',\n",
       "       'посёлок Сумино', 'посёлок Тельмана', 'посёлок Терволово',\n",
       "       'посёлок Торфяное', 'посёлок Усть-Ижора', 'посёлок Усть-Луга',\n",
       "       'посёлок Форт Красная Горка', 'посёлок Шугозеро', 'посёлок Шушары',\n",
       "       'посёлок Щеглово', 'посёлок городского типа Важины',\n",
       "       'посёлок городского типа Вознесенье',\n",
       "       'посёлок городского типа Вырица',\n",
       "       'посёлок городского типа Красный Бор',\n",
       "       'посёлок городского типа Кузнечное',\n",
       "       'посёлок городского типа Кузьмоловский',\n",
       "       'посёлок городского типа Лебяжье', 'посёлок городского типа Мга',\n",
       "       'посёлок городского типа Павлово',\n",
       "       'посёлок городского типа Рощино', 'посёлок городского типа Рябово',\n",
       "       'посёлок городского типа Сиверский',\n",
       "       'посёлок городского типа Тайцы', 'посёлок городского типа Токсово',\n",
       "       'посёлок городского типа Ульяновка',\n",
       "       'посёлок городского типа Форносово',\n",
       "       'посёлок городского типа имени Морозова',\n",
       "       'посёлок городского типа имени Свердлова',\n",
       "       'посёлок при железнодорожной станции Вещево',\n",
       "       'посёлок при железнодорожной станции Приветнинское',\n",
       "       'посёлок станции Громово', 'посёлок станции Свирь',\n",
       "       'садоводческое некоммерческое товарищество Лесная Поляна',\n",
       "       'садовое товарищество Новая Ропша',\n",
       "       'садовое товарищество Приладожский', 'садовое товарищество Рахья',\n",
       "       'садовое товарищество Садко', 'село Копорье', 'село Никольское',\n",
       "       'село Павлово', 'село Паша', 'село Путилово', 'село Рождествено',\n",
       "       'село Русско-Высоцкое', 'село Старая Ладога', 'село Шум'],\n",
       "      dtype=object)"
      ]
     },
     "execution_count": 108,
     "metadata": {},
     "output_type": "execute_result"
    }
   ],
   "source": [
    "data['locality_name'].sort_values().unique()\n"
   ]
  },
  {
   "cell_type": "code",
   "execution_count": 109,
   "metadata": {},
   "outputs": [],
   "source": [
    "data['locality_name'] = data['locality_name'].str.lower()#Изучим уникальные значения в столбце с названиями и устраним неявные дубликаты. \n",
    "to_replace = ['городской поселок','поселок городского типа','поселок','посёлок','поселок поселок типа','поселок поселок']\n",
    "data.replace(regex=to_replace, value = 'поселок',inplace=True)"
   ]
  },
  {
   "cell_type": "code",
   "execution_count": 110,
   "metadata": {},
   "outputs": [
    {
     "data": {
      "text/plain": [
       "array(['unknown', 'бокситогорск', 'волосово', 'волхов', 'всеволожск',\n",
       "       'выборг', 'высоцк', 'гатчина', 'городской поселок будогощь',\n",
       "       'городской поселок виллози', 'городской поселок лесогорский',\n",
       "       'городской поселок мга', 'городской поселок назия',\n",
       "       'городской поселок новоселье', 'городской поселок павлово',\n",
       "       'городской поселок рощино', 'городской поселок свирьстрой',\n",
       "       'городской поселок советский', 'городской поселок фёдоровское',\n",
       "       'городской поселок янино-1', 'деревня агалатово', 'деревня аро',\n",
       "       'деревня батово', 'деревня бегуницы', 'деревня белогорка',\n",
       "       'деревня большая вруда', 'деревня большая пустомержа',\n",
       "       'деревня большие колпаны', 'деревня большое рейзино',\n",
       "       'деревня большой сабск', 'деревня бор', 'деревня борисова грива',\n",
       "       'деревня ваганово', 'деревня вартемяги', 'деревня вахнова кара',\n",
       "       'деревня выскатка', 'деревня гарболово', 'деревня глинка',\n",
       "       'деревня горбунки', 'деревня гостилицы', 'деревня заклинье',\n",
       "       'деревня заневка', 'деревня зимитицы', 'деревня извара',\n",
       "       'деревня иссад', 'деревня калитино', 'деревня кальтино',\n",
       "       'деревня камышовка', 'деревня каськово', 'деревня келози',\n",
       "       'деревня кипень', 'деревня кисельня', 'деревня колтуши',\n",
       "       'деревня коркино', 'деревня котлы', 'деревня кривко',\n",
       "       'деревня кудрово', 'деревня кузьмолово', 'деревня курковицы',\n",
       "       'деревня куровицы', 'деревня куттузи', 'деревня лаврики',\n",
       "       'деревня лаголово', 'деревня лампово', 'деревня лесколово',\n",
       "       'деревня лопухинка', 'деревня лупполово',\n",
       "       'деревня малая романовка', 'деревня малое верево',\n",
       "       'деревня малое карлино', 'деревня малые колпаны',\n",
       "       'деревня мануйлово', 'деревня меньково', 'деревня мины',\n",
       "       'деревня мистолово', 'деревня ненимяки', 'деревня нижние осельки',\n",
       "       'деревня низино', 'деревня новое девяткино', 'деревня новолисино',\n",
       "       'деревня нурма', 'деревня оржицы', 'деревня парицы',\n",
       "       'деревня пельгора', 'деревня пеники', 'деревня пижма',\n",
       "       'деревня пикколово', 'деревня пудомяги', 'деревня пустынка',\n",
       "       'деревня пчева', 'деревня рабитицы', 'деревня разбегаево',\n",
       "       'деревня раздолье', 'деревня разметелево', 'деревня рапполово',\n",
       "       'деревня реброво', 'деревня русско', 'деревня сижно',\n",
       "       'деревня снегирёвка', 'деревня старая', 'деревня старая пустошь',\n",
       "       'деревня старое хинколово', 'деревня старополье',\n",
       "       'деревня старосиверская', 'деревня старые бегуницы',\n",
       "       'деревня суоранда', 'деревня сяськелево', 'деревня тарасово',\n",
       "       'деревня терпилицы', 'деревня тихковицы', 'деревня тойворово',\n",
       "       'деревня торосово', 'деревня торошковичи', 'деревня трубников бор',\n",
       "       'деревня фалилеево', 'деревня фёдоровское', 'деревня хапо-ое',\n",
       "       'деревня хязельки', 'деревня чудской бор', 'деревня шпаньково',\n",
       "       'деревня щеглово', 'деревня юкки', 'деревня ялгино',\n",
       "       'деревня яльгелево', 'деревня ям-тесово', 'зеленогорск',\n",
       "       'ивангород', 'каменногорск', 'кингисепп', 'кириши', 'кировск',\n",
       "       'колпино', 'коммунар', 'коттеджный поселок кивеннапа север',\n",
       "       'коттеджный поселок лесное', 'коттеджный поселок счастье',\n",
       "       'красное село', 'кронштадт', 'кудрово', 'лодейное поле',\n",
       "       'ломоносов', 'луга', 'любань', 'мурино', 'никольское',\n",
       "       'новая ладога', 'отрадное', 'павловск', 'петергоф', 'пикалёво',\n",
       "       'подпорожье', 'поселок александровская', 'поселок алексеевка',\n",
       "       'поселок аннино', 'поселок барышево', 'поселок белоостров',\n",
       "       'поселок большая ижора', 'поселок бугры', 'поселок возрождение',\n",
       "       'поселок войсковицы', 'поселок войскорово', 'поселок володарское',\n",
       "       'поселок вырица', 'поселок высокоключевой', 'поселок гаврилово',\n",
       "       'поселок гарболово', 'поселок гладкое', 'поселок глажево',\n",
       "       'поселок глебычево', 'поселок гончарово',\n",
       "       'поселок городского типа важины',\n",
       "       'поселок городского типа вознесенье',\n",
       "       'поселок городского типа вырица',\n",
       "       'поселок городского типа имени морозова',\n",
       "       'поселок городского типа имени свердлова',\n",
       "       'поселок городского типа красный бор',\n",
       "       'поселок городского типа кузнечное',\n",
       "       'поселок городского типа кузьмоловский',\n",
       "       'поселок городского типа лебяжье', 'поселок городского типа мга',\n",
       "       'поселок городского типа павлово',\n",
       "       'поселок городского типа рощино', 'поселок городского типа рябово',\n",
       "       'поселок городского типа сиверский',\n",
       "       'поселок городского типа тайцы', 'поселок городского типа токсово',\n",
       "       'поселок городского типа ульяновка',\n",
       "       'поселок городского типа форносово', 'поселок громово',\n",
       "       'поселок дзержинского', 'поселок дружная горка',\n",
       "       'поселок дружноселье', 'поселок дубровка', 'поселок елизаветино',\n",
       "       'поселок ефимовский', 'поселок жилгородок', 'поселок жилпоселок',\n",
       "       'поселок житково', 'поселок заводской', 'поселок запорожское',\n",
       "       'поселок зимитицы', 'поселок ильичёво', 'поселок имени свердлова',\n",
       "       'поселок калитино', 'поселок каложицы', 'поселок кикерино',\n",
       "       'поселок кингисеппский', 'поселок кирпичное', 'поселок кобралово',\n",
       "       'поселок кобринское', 'поселок коммунары', 'поселок кондратьево',\n",
       "       'поселок коробицыно', 'поселок котельский',\n",
       "       'поселок красная долина', 'поселок красносельское',\n",
       "       'поселок красный бор', 'поселок кузьмоловский', 'поселок лебяжье',\n",
       "       'поселок левашово', 'поселок ленинское', 'поселок лесное',\n",
       "       'поселок лесогорский', 'поселок лисий нос', 'поселок лукаши',\n",
       "       'поселок любань', 'поселок мельниково', 'поселок металлострой',\n",
       "       'поселок мичуринское', 'поселок молодцово', 'поселок молодёжное',\n",
       "       'поселок мурино', 'поселок мыза-ивановка', 'поселок назия',\n",
       "       'поселок никольский', 'поселок новогорелово', 'поселок новый свет',\n",
       "       'поселок новый учхоз', 'поселок оредеж',\n",
       "       'поселок пансионат зелёный бор', 'поселок парголово',\n",
       "       'поселок первомайское', 'поселок перово', 'поселок песочный',\n",
       "       'поселок петро-славянка', 'поселок петровское',\n",
       "       'поселок платформа 69-й километр', 'поселок плодовое',\n",
       "       'поселок плоское', 'поселок победа', 'поселок поляны',\n",
       "       'поселок понтонный', 'поселок почап', 'поселок починок',\n",
       "       'поселок при железнодорожной станции вещево',\n",
       "       'поселок при железнодорожной станции приветнинское',\n",
       "       'поселок пригородный', 'поселок приладожский', 'поселок пудость',\n",
       "       'поселок пушное', 'поселок пчевжа', 'поселок рабитицы',\n",
       "       'поселок рахья', 'поселок репино', 'поселок романовка',\n",
       "       'поселок ромашки', 'поселок ропша', 'поселок рощино',\n",
       "       'поселок рябово', 'поселок сапёрное', 'поселок сапёрный',\n",
       "       'поселок севастьяново', 'поселок селезнёво', 'поселок сельцо',\n",
       "       'поселок семиозерье', 'поселок семрино', 'поселок серебрянский',\n",
       "       'поселок синявино', 'поселок советский', 'поселок совхозный',\n",
       "       'поселок сосново', 'поселок станции вещево',\n",
       "       'поселок станции громово', 'поселок станции корнево',\n",
       "       'поселок станции лужайка', 'поселок станции приветнинское',\n",
       "       'поселок станции свирь', 'поселок старая малукса',\n",
       "       'поселок стеклянный', 'поселок стрельна', 'поселок суйда',\n",
       "       'поселок сумино', 'поселок суходолье', 'поселок тельмана',\n",
       "       'поселок терволово', 'поселок токсово', 'поселок торковичи',\n",
       "       'поселок торфяное', 'поселок тёсово-4', 'поселок углово',\n",
       "       'поселок усть-ижора', 'поселок усть-луга', 'поселок ушаки',\n",
       "       'поселок форносово', 'поселок форт красная горка',\n",
       "       'поселок цвелодубово', 'поселок цвылёво', 'поселок шугозеро',\n",
       "       'поселок шушары', 'поселок щеглово', 'поселок янино-1', 'приморск',\n",
       "       'приозерск', 'пушкин',\n",
       "       'садоводческое некоммерческое товарищество лесная поляна',\n",
       "       'садовое товарищество новая ропша',\n",
       "       'садовое товарищество приладожский', 'садовое товарищество рахья',\n",
       "       'садовое товарищество садко', 'санкт-петербург', 'светогорск',\n",
       "       'село копорье', 'село никольское', 'село павлово', 'село паша',\n",
       "       'село путилово', 'село рождествено', 'село русско-высоцкое',\n",
       "       'село старая ладога', 'село шум', 'сертолово', 'сестрорецк',\n",
       "       'сланцы', 'сосновый бор', 'сясьстрой', 'тихвин', 'тосно',\n",
       "       'шлиссельбург'], dtype=object)"
      ]
     },
     "execution_count": 110,
     "metadata": {},
     "output_type": "execute_result"
    }
   ],
   "source": [
    "data['locality_name'].sort_values().unique()"
   ]
  },
  {
   "cell_type": "code",
   "execution_count": 111,
   "metadata": {},
   "outputs": [
    {
     "data": {
      "text/plain": [
       "array([ 25.      ,  11.      ,   8.3     ,   0.333046,  41.      ,\n",
       "         9.1     ,  14.4     ,  18.9     ,   8.81    ,   6.5     ,\n",
       "         8.5     ,   6.      ,   9.      ,   5.2     ,   8.      ,\n",
       "         7.6     ,   5.6     ,  12.      ,   5.7     ,   6.1     ,\n",
       "        19.6     ,  15.      ,   7.      ,   9.2     ,  11.7     ,\n",
       "        13.4     ,  17.      ,   6.3     ,  11.6     ,   8.8     ,\n",
       "        10.      ,  17.6     ,   7.5     ,   9.5     ,  50.      ,\n",
       "        15.5     ,  10.7     ,  11.1     ,  20.      ,  11.9     ,\n",
       "        16.      ,   5.3     ,  11.5     ,   7.2     ,   6.2     ,\n",
       "        10.4     ,   7.1     ,   4.9     ,   7.3     ,  11.95    ,\n",
       "        10.2     ,   6.4     ,   5.5     ,  13.      ,   8.4     ,\n",
       "        23.6     ,  10.8     ,  18.3     ,   5.      ,   8.2     ,\n",
       "        24.      ,  23.8     ,   6.6     ,  26.85    ,  15.4     ,\n",
       "         7.8     ,  33.8     ,   5.4     ,  12.72    ,  12.2     ,\n",
       "        19.      ,  12.4     ,   7.9     ,  10.3     ,   9.8     ,\n",
       "        17.5     ,  14.7     ,  20.91    ,  21.3     ,  10.6     ,\n",
       "        10.9     ,   9.7     ,   7.7     ,  12.5     ,  11.4     ,\n",
       "         8.6     ,  11.24    ,  14.1     ,  15.7     ,  13.29    ,\n",
       "        14.      ,  12.9     ,  12.7     ,  16.5     ,   9.36    ,\n",
       "        21.5     ,  35.      ,  10.5     ,   8.7     ,  19.3     ,\n",
       "        21.4     ,  40.      ,  49.2     ,  11.52    ,   8.9     ,\n",
       "         9.6     ,  30.      ,  14.2     ,   8.1     ,  10.44    ,\n",
       "         4.5     ,  16.3     ,  11.2     ,  18.4     ,   7.4     ,\n",
       "        11.3     ,   9.4     ,  13.1     ,  10.19    ,   7.06    ,\n",
       "        22.      ,  36.      ,   5.1     ,  18.7     ,   9.9     ,\n",
       "        14.3     ,  18.      ,  23.      ,  19.4     ,  11.8     ,\n",
       "        13.3     ,  17.7     ,  23.1     ,  10.63    ,  11.33    ,\n",
       "        13.5     ,  19.5     ,  13.2     ,  17.2     ,  77.      ,\n",
       "        13.8     ,  12.3     ,   9.3     ,   5.8     ,  26.1     ,\n",
       "        12.88    ,   9.28    ,  16.1     ,  14.5     ,  31.      ,\n",
       "         5.9     ,  10.1     ,  23.4     ,  16.2     ,  19.2     ,\n",
       "        28.6     ,  15.1     ,  26.4     ,   8.98    ,  10.59    ,\n",
       "        17.9     ,  16.8     ,  11.27    ,  16.74    ,   9.57    ,\n",
       "        23.43    ,  15.2     ,   8.07    ,  12.24    ,  13.39    ,\n",
       "        36.6     ,  10.84    ,  15.3     ,  18.5     ,  23.9     ,\n",
       "        19.7     ,  19.9     ,  22.1     ,  10.35    ,  10.69    ,\n",
       "        16.9     ,   5.49    ,  31.2     ,   6.8     ,   8.29    ,\n",
       "         6.7     ,  13.6     ,  16.6     ,  10.75    ,  18.8     ,\n",
       "        17.8     ,   2.      ,   6.77    ,  11.06    ,  12.6     ,\n",
       "         7.71    ,  27.      ,  11.35    ,  13.31    ,  21.      ,\n",
       "        20.6     ,  11.78    ,  20.5     ,  13.79    ,  20.52    ,\n",
       "         5.75    ,  66.      ,  18.78    ,  23.5     ,  24.3     ,\n",
       "         6.9     ,  14.8     ,   8.87    ,  14.9     ,   8.71    ,\n",
       "         9.95    ,  17.53    ,  42.6     ,  25.2     ,   8.31    ,\n",
       "         9.67    ,  16.7     ,  14.61    ,  32.      ,  22.4     ,\n",
       "        16.4     ,   6.36    ,  17.1     ,  13.14    ,  18.2     ,\n",
       "         9.18    ,  13.7     ,  15.61    ,  22.31    ,   9.45    ,\n",
       "        29.      ,  14.49    ,   5.35    ,  29.9     ,  25.1     ,\n",
       "         8.08    ,  13.11    ,   6.25    ,  26.      ,  35.35    ,\n",
       "        12.8     ,  30.2     ,  10.09    ,  46.      ,  32.1     ,\n",
       "        11.29    ,  14.56    ,  11.11    ,  11.49    ,  21.1     ,\n",
       "        13.67    ,  16.72    ,  24.5     ,  11.14    ,  20.9     ,\n",
       "        11.05    ,   4.      ,  14.84    ,   8.21    ,  12.18    ,\n",
       "        25.34    ,   9.25    ,   8.65    ,  13.9     ,  13.53    ,\n",
       "        15.09    ,   9.39    ,  18.6     ,  15.9     ,  24.7     ,\n",
       "        12.35    ,  20.8     ,  27.4     ,   7.17    ,   3.      ,\n",
       "         8.23    ,  24.03    ,   9.17    ,  43.      ,  10.45    ,\n",
       "        11.39    ,  19.92    ,  20.2     ,  10.72    ,  20.07    ,\n",
       "        11.81    ,  18.45    ,  10.51    ,  39.      ,  10.91    ,\n",
       "         6.73    ,  11.85    ,  37.8     ,   4.8     , 100.7     ,\n",
       "        21.6     ,   5.78    ,  12.1     ,  11.28    ,   9.97    ,\n",
       "        10.68    ,  21.2     ,  10.56    ,   9.68    ,   8.25    ,\n",
       "         4.7     ,  17.4     ,  10.02    ,  40.2     ,  11.62    ,\n",
       "        14.6     ,  11.71    ,  13.69    ,  18.1     ,  22.22    ,\n",
       "        17.3     ,   6.35    ,  23.3     ,  10.88    ,   6.76    ,\n",
       "        28.      ,  10.29    ,  11.63    ,  25.6     ,  19.1     ,\n",
       "        15.6     ,  21.87    ,   3.2     ,  12.27    ,  10.39    ,\n",
       "        10.89    ,  60.      ,  11.53    ,   5.68    ,  10.55    ,\n",
       "        33.      ,   3.8     ,  36.2     ,   9.22    ,   5.62    ,\n",
       "        38.      ,  21.9     ,  12.17    ,  19.8     ,  37.      ,\n",
       "         4.2     ,  21.7     ,  12.38    ,  11.46    ,   7.89    ,\n",
       "        31.7     ,  24.4     ,  14.57    ,  30.9     ,  10.15    ,\n",
       "        12.05    ,   9.27    ,  15.33    ,   6.58    ,   9.93    ,\n",
       "        35.05    ,  25.3     ,  28.8     ,  13.05    ,  29.4     ,\n",
       "        36.5     ,   7.92    ,  15.8     ,  15.69    ,  42.      ,\n",
       "         7.85    ,  13.16    ,  12.86    ,  48.      ,  30.5     ,\n",
       "        29.3     ,  45.      ,   9.32    ,  44.      ,   5.74    ,\n",
       "        11.26    ,  13.38    ,  14.31    ,  26.6     ,   6.55    ,\n",
       "        10.52    ,   6.72    ,  13.02    ,  11.17    ,  56.2     ,\n",
       "        12.52    ,  28.2     ,  12.29    ,  11.59    ,   8.38    ,\n",
       "         5.47    ,  10.18    ,  10.64    ,  18.88    ,   9.89    ,\n",
       "        36.3     ,  12.92    ,  23.53    ,  37.7     ,  10.36    ,\n",
       "        14.05    ,   9.04    ,  10.78    ,  14.24    ,  13.42    ,\n",
       "        32.8     ,  20.16    ,  10.12    ,   7.12    ,  17.64    ,\n",
       "        23.25    ,  11.41    ,  11.42    ,  40.4     ,  31.47    ,\n",
       "        13.55    ,  13.28    ,  14.55    ,   9.38    ,   8.32    ,\n",
       "        11.55    ,  13.81    ,  24.1     ,  11.51    ,   7.65    ,\n",
       "         9.91    ,  16.83    ,  11.34    , 100.      ,  11.16    ,\n",
       "        18.34    ,  34.19    ,   6.02    ,  18.07    ,  20.1     ,\n",
       "        12.08    ,   7.18    ,   8.11    ,   8.05    ,   8.06    ,\n",
       "        12.96    ,  42.4     ,   8.93    ,  44.9     ,  10.62    ,\n",
       "         9.72    ,  22.5     ,  11.18    ,  10.22    ,  51.      ,\n",
       "        21.8     ,  10.94    ,  13.49    ,  31.73    ,  70.      ,\n",
       "        25.7     ,   5.86    ,   7.63    ,  11.47    ,  13.25    ,\n",
       "        22.2     ,  19.35    ,  17.28    ,  14.04    ,  39.9     ,\n",
       "        21.76    ,   4.3     ,  10.06    ,   8.19    ,  28.4     ,\n",
       "        22.7     ,  14.74    ,  11.12    ,  25.11    ,  14.02    ,\n",
       "        13.06    ,   8.01    ,  20.38    ,   5.53    ,  46.8     ,\n",
       "        11.31    ,  17.85    ,  20.7     ,  34.78    ,   9.46    ,\n",
       "         6.31    ,  42.5     ,   9.48    ,  43.4     ,  11.57    ,\n",
       "        12.44    ,  14.46    ,  12.58    ,  12.47    ,   7.95    ,\n",
       "        16.32    ,  15.26    ,  12.23    ,  11.37    ,  27.9     ,\n",
       "         8.58    ,  19.51    ,  12.39    ,   9.65    ,   9.05    ,\n",
       "         6.84    ,  20.3     ,  26.5     ,  63.4     ,  41.9     ,\n",
       "         6.82    ,  11.36    ,  10.08    ,  10.54    ,   9.16    ,\n",
       "        14.95    ,  12.84    ,  22.9     ,   8.76    ,  10.03    ,\n",
       "         9.35    ,  11.13    ,   7.87    ,   2.89    ,  45.5     ,\n",
       "         7.36    ,  24.9     ,   9.59    ,   7.97    ,   9.85    ,\n",
       "        33.9     ,  42.8     ,   7.86    ,   5.25    ,  10.26    ,\n",
       "         5.33    ,  12.85    ,   9.51    ,  58.4     ,  10.34    ,\n",
       "        23.71    ,  19.42    ,   6.83    ,  11.92    ,  13.17    ,\n",
       "        13.27    ,  11.84    ,  12.56    ,  53.1     ,  20.56    ,\n",
       "        41.3     ,   9.01    ,   8.73    ,   5.82    ,   3.7     ,\n",
       "         2.4     ,  31.8     ,  42.7     ,  40.5     ,  12.02    ,\n",
       "         8.57    ,  12.76    ,   8.66    ,  11.04    ,  40.3     ,\n",
       "        15.83    ,  18.59    ,   9.37    ,  23.38    ,  10.42    ,\n",
       "        13.93    ,   7.54    ,  23.42    ,  13.64    ,   5.61    ,\n",
       "        19.45    ,  17.59    ,  29.1     ,   5.65    ,  15.42    ,\n",
       "        11.09    ,  11.73    ,  15.72    ,  25.4     ,  10.25    ,\n",
       "        10.38    ,  13.41    ,   5.23    ,   9.09    ,  11.45    ,\n",
       "        11.74    ,  14.64    ,  12.14    ,   8.84    ,  16.66    ,\n",
       "        10.27    ,   3.5     ,  12.55    ,  32.55    ,  16.26    ,\n",
       "         6.62    ,  10.33    ,  13.26    ,  32.3     ,  23.2     ,\n",
       "        14.14    ,   9.62    ,  34.      ,  10.92    ,  10.58    ,\n",
       "        22.8     ,  15.85    ,   7.78    ,   8.94    ,   9.82    ,\n",
       "        34.7     ,   8.45    ,  15.62    ,  22.3     ,  14.17    ,\n",
       "        15.39    ,  56.      ,   8.43    ,  87.2     ,  12.66    ,\n",
       "         8.35    ,   8.47    ,  22.72    ,   9.52    ,  28.1     ,\n",
       "        14.97    ,   4.6     ,   5.29    ,  10.49    ,  15.07    ,\n",
       "        15.37    ,  20.31    ,  23.28    ,   8.54    ,  30.59    ,\n",
       "        27.57    ,   9.71    ,  28.63    ,   9.98    ,  37.9     ,\n",
       "         6.91    ,  25.9     ,  47.      ,  51.8     ,  14.27    ,\n",
       "        40.7     ,  19.61    ,   9.44    ,  27.76    ,  25.86    ,\n",
       "        36.4     ,  15.78    ,  10.05    ,  26.2     ,  10.32    ,\n",
       "        19.39    ,   9.77    ,  29.5     ,  13.73    ,  10.71    ,\n",
       "        10.73    ,  13.84    ,   6.19    ,  28.5     ,  16.25    ,\n",
       "        13.47    ,   4.4     ,  43.2     ,  27.5     ,  11.67    ,\n",
       "        44.7     ,  12.57    ,  16.27    ,   6.28    ,  12.01    ,\n",
       "        37.6     ,  13.35    ,   3.4     ,   8.61    ,   8.96    ,\n",
       "        34.8     ,  27.3     ,  10.24    ,   8.15    ,  35.5     ,\n",
       "         4.1     ,  10.43    ,  16.46    ,   7.19    ,  62.      ,\n",
       "        34.3     ,  48.5     ,  30.6     ,  17.55    ,  10.74    ,\n",
       "        13.24    ,   5.91    ,   9.43    ,  20.92    ,   8.13    ,\n",
       "        33.1     ,  10.37    ,  16.77    ,   6.27    ,  26.8     ,\n",
       "        12.37    ,  22.6     ,  33.6     ,   9.76    ,  16.92    ,\n",
       "        15.54    ,   6.23    ,  15.35    ,  37.5     ,  21.82    ,\n",
       "         7.94    ,  34.1     ,   6.03    ,  15.55    ,   8.44    ,\n",
       "        43.8     ,  29.09    ,  18.93    ,  12.75    ,   6.33    ,\n",
       "        24.8     ,   5.64    ,  22.43    ,  39.1     ,  27.6     ,\n",
       "         7.48    ,  32.7     ,   5.44    ,   6.22    ,   7.41    ,\n",
       "        27.1     ,  17.06    ,  75.      ,  34.51    ,   6.26    ,\n",
       "        35.6     ,   9.83    ,  54.3     ,  28.7     ,   3.3     ,\n",
       "        13.63    ,  62.5     ,  10.47    ,  11.87    ,  28.3     ,\n",
       "        11.25    ,   5.42    ,  18.25    ,   8.82    ,   9.58    ,\n",
       "         5.04    ,  13.52    ,  11.44    ,   8.48    ,  13.21    ,\n",
       "         8.03    ,  16.89    ,  26.9     ,  35.4     ,  13.95    ,\n",
       "        14.72    ,   9.34    ,  64.      ,  37.78    ,  23.7     ,\n",
       "        29.8     ,   6.95    ,  16.05    ,  11.65    ,  38.1     ,\n",
       "        10.99    ,  10.86    ,   8.85    ,  14.65    ,   9.24    ,\n",
       "        16.45    ,   7.84    ,  93.2     ,   9.79    ,   7.03    ,\n",
       "        17.12    ,   5.28    ,  12.53    ,  14.51    ,   9.31    ,\n",
       "        31.6     ,  72.      ,   6.86    ,  11.07    ,  14.06    ,\n",
       "        93.      ,   6.93    ,  15.15    ,  32.9     ,  55.7     ,\n",
       "        24.89    ,  35.9     ,  22.78    ,  16.47    ,  38.86    ,\n",
       "        18.16    ,   8.69    ,  25.5     ,  22.46    ,  13.74    ,\n",
       "        54.2     ,  19.21    ,  31.5     ,  12.11    ,  11.98    ,\n",
       "        10.17    ,  35.7     ,  12.71    ,   2.3     ,  16.07    ,\n",
       "         9.42    ,  20.77    ,  28.64    ,  13.86    ,  10.01    ,\n",
       "        24.2     ,  12.45    ,  12.87    ,  14.33    ,  12.15    ,\n",
       "        39.7     ,  65.      ,   5.06    ,  14.29    ,  14.43    ,\n",
       "        25.02    ,   8.52    ,  11.56    ,  12.89    ,   8.63    ,\n",
       "        13.32    ,  16.42    ,   5.31    ,  14.77    ,  27.2     ,\n",
       "         9.26    ,  14.93    ,  31.4     ,   9.06    ,  63.      ,\n",
       "         6.61    ,  20.4     ,   6.65    ,  19.19    ,  20.24    ,\n",
       "        13.77    ,   6.37    ,  53.      ,  14.58    ,   9.19    ,\n",
       "         8.67    ,  21.22    , 112.      ,  13.58    ,  12.03    ,\n",
       "        10.87    ,  19.28    ,  16.48    ,  32.6     ,   9.08    ,\n",
       "        12.69    ,   8.09    ,   5.21    ,  12.83    ,  54.      ,\n",
       "        11.64    , 107.      ,   1.3     ,  55.5     ,  48.3     ,\n",
       "         9.11    ,  21.53    ,  29.86    ,  28.52    ,  15.43    ,\n",
       "        15.57    ,  13.43    ,  19.94    ,   8.77    ,  50.2     ,\n",
       "        15.03    ,  16.38    ,  13.33    ,  12.43    ,  17.61    ,\n",
       "         9.66    ,  12.32    ,  58.      ,  24.6     ,   6.47    ,\n",
       "        41.1     ,   8.12    ,  21.25    ,  10.13    ,  41.6     ,\n",
       "        49.4     ,  12.25    ,  28.56    ,  11.69    ,  14.85    ,\n",
       "        15.18    ,   8.02    ,  11.22    ,   8.95    ,  34.6     ,\n",
       "        29.2     ,   9.73    ,  10.46    ,  26.7     ,  29.7     ,\n",
       "        32.4     ,  12.93    ,  12.63    ,  15.24    ,   8.18    ,\n",
       "        22.15    ,  11.43    ,   7.02    ,  11.93    ,   7.09    ,\n",
       "         6.16    ,   7.15    ,  13.65    ,  10.79    ,  14.98    ,\n",
       "        34.4     ,   5.14    ,   9.75    ,   5.59    ,  35.1     ,\n",
       "        13.04    ,  10.95    ,  16.03    ,   9.13    ,  17.44    ,\n",
       "        40.1     ,   5.85    ,   6.24    ,  21.74    ,  31.3     ,\n",
       "        30.8     ,  16.88    ,  21.55    ,  18.55    ,  17.87    ,\n",
       "        13.83    ])"
      ]
     },
     "execution_count": 111,
     "metadata": {},
     "output_type": "execute_result"
    }
   ],
   "source": [
    "data['kitchen_area'].unique()\n"
   ]
  },
  {
   "cell_type": "code",
   "execution_count": 112,
   "metadata": {},
   "outputs": [
    {
     "data": {
      "text/plain": [
       "23648"
      ]
     },
     "execution_count": 112,
     "metadata": {},
     "output_type": "execute_result"
    }
   ],
   "source": [
    "\n",
    "data_copy = data.copy()\n",
    "data.shape[0] "
   ]
  },
  {
   "cell_type": "code",
   "execution_count": 113,
   "metadata": {},
   "outputs": [],
   "source": [
    "a = data['kitchen_area'].quantile(0.005)\n",
    "b = data['kitchen_area'].quantile(0.995)"
   ]
  },
  {
   "cell_type": "code",
   "execution_count": 114,
   "metadata": {},
   "outputs": [],
   "source": [
    "data_copy = data.loc[(data['kitchen_area']<b)&(data['kitchen_area']>a)]#"
   ]
  },
  {
   "cell_type": "code",
   "execution_count": 115,
   "metadata": {},
   "outputs": [
    {
     "data": {
      "text/plain": [
       "0.899018944519621"
      ]
     },
     "execution_count": 115,
     "metadata": {},
     "output_type": "execute_result"
    }
   ],
   "source": [
    "data_copy.shape[0]/data.shape[0] "
   ]
  },
  {
   "cell_type": "code",
   "execution_count": 116,
   "metadata": {},
   "outputs": [],
   "source": [
    "data_copy = data"
   ]
  },
  {
   "cell_type": "code",
   "execution_count": 117,
   "metadata": {},
   "outputs": [
    {
     "data": {
      "text/html": [
       "<div>\n",
       "<style scoped>\n",
       "    .dataframe tbody tr th:only-of-type {\n",
       "        vertical-align: middle;\n",
       "    }\n",
       "\n",
       "    .dataframe tbody tr th {\n",
       "        vertical-align: top;\n",
       "    }\n",
       "\n",
       "    .dataframe thead th {\n",
       "        text-align: right;\n",
       "    }\n",
       "</style>\n",
       "<table border=\"1\" class=\"dataframe\">\n",
       "  <thead>\n",
       "    <tr style=\"text-align: right;\">\n",
       "      <th></th>\n",
       "      <th>total_images</th>\n",
       "      <th>last_price</th>\n",
       "      <th>total_area</th>\n",
       "      <th>rooms</th>\n",
       "      <th>ceiling_height</th>\n",
       "      <th>floors_total</th>\n",
       "      <th>living_area</th>\n",
       "      <th>floor</th>\n",
       "      <th>kitchen_area</th>\n",
       "      <th>balcony</th>\n",
       "      <th>airports_nearest</th>\n",
       "      <th>cityCenters_nearest</th>\n",
       "      <th>parks_around3000</th>\n",
       "      <th>parks_nearest</th>\n",
       "      <th>ponds_around3000</th>\n",
       "      <th>ponds_nearest</th>\n",
       "      <th>days_exposition</th>\n",
       "    </tr>\n",
       "  </thead>\n",
       "  <tbody>\n",
       "    <tr>\n",
       "      <th>count</th>\n",
       "      <td>23,648.0</td>\n",
       "      <td>23,648.0</td>\n",
       "      <td>23,648.0</td>\n",
       "      <td>23,648.0</td>\n",
       "      <td>23,648.0</td>\n",
       "      <td>23,648.0</td>\n",
       "      <td>23,648.0</td>\n",
       "      <td>23,648.0</td>\n",
       "      <td>23,648.0</td>\n",
       "      <td>23,648.0</td>\n",
       "      <td>18,126.0</td>\n",
       "      <td>18,149.0</td>\n",
       "      <td>18,150.0</td>\n",
       "      <td>8,061.0</td>\n",
       "      <td>18,150.0</td>\n",
       "      <td>9,091.0</td>\n",
       "      <td>20,478.0</td>\n",
       "    </tr>\n",
       "    <tr>\n",
       "      <th>mean</th>\n",
       "      <td>9.9</td>\n",
       "      <td>6,528,587.0</td>\n",
       "      <td>60.3</td>\n",
       "      <td>2.1</td>\n",
       "      <td>2.7</td>\n",
       "      <td>10.7</td>\n",
       "      <td>31.7</td>\n",
       "      <td>5.9</td>\n",
       "      <td>9.6</td>\n",
       "      <td>0.6</td>\n",
       "      <td>28,796.7</td>\n",
       "      <td>14,194.3</td>\n",
       "      <td>0.6</td>\n",
       "      <td>490.9</td>\n",
       "      <td>0.8</td>\n",
       "      <td>518.3</td>\n",
       "      <td>180.9</td>\n",
       "    </tr>\n",
       "    <tr>\n",
       "      <th>std</th>\n",
       "      <td>5.7</td>\n",
       "      <td>10,815,583.1</td>\n",
       "      <td>35.5</td>\n",
       "      <td>1.1</td>\n",
       "      <td>0.2</td>\n",
       "      <td>6.6</td>\n",
       "      <td>23.0</td>\n",
       "      <td>4.9</td>\n",
       "      <td>6.4</td>\n",
       "      <td>1.0</td>\n",
       "      <td>12,632.9</td>\n",
       "      <td>8,606.7</td>\n",
       "      <td>0.8</td>\n",
       "      <td>342.6</td>\n",
       "      <td>0.9</td>\n",
       "      <td>277.7</td>\n",
       "      <td>219.8</td>\n",
       "    </tr>\n",
       "    <tr>\n",
       "      <th>min</th>\n",
       "      <td>0.0</td>\n",
       "      <td>12,190.0</td>\n",
       "      <td>12.0</td>\n",
       "      <td>0.0</td>\n",
       "      <td>2.2</td>\n",
       "      <td>1.0</td>\n",
       "      <td>0.6</td>\n",
       "      <td>1.0</td>\n",
       "      <td>0.3</td>\n",
       "      <td>0.0</td>\n",
       "      <td>0.0</td>\n",
       "      <td>181.0</td>\n",
       "      <td>0.0</td>\n",
       "      <td>1.0</td>\n",
       "      <td>0.0</td>\n",
       "      <td>13.0</td>\n",
       "      <td>1.0</td>\n",
       "    </tr>\n",
       "    <tr>\n",
       "      <th>25%</th>\n",
       "      <td>6.0</td>\n",
       "      <td>3,411,750.0</td>\n",
       "      <td>40.0</td>\n",
       "      <td>1.0</td>\n",
       "      <td>2.6</td>\n",
       "      <td>5.0</td>\n",
       "      <td>17.8</td>\n",
       "      <td>2.0</td>\n",
       "      <td>6.3</td>\n",
       "      <td>0.0</td>\n",
       "      <td>18,579.0</td>\n",
       "      <td>9,238.0</td>\n",
       "      <td>0.0</td>\n",
       "      <td>288.0</td>\n",
       "      <td>0.0</td>\n",
       "      <td>294.0</td>\n",
       "      <td>45.0</td>\n",
       "    </tr>\n",
       "    <tr>\n",
       "      <th>50%</th>\n",
       "      <td>9.0</td>\n",
       "      <td>4,650,000.0</td>\n",
       "      <td>52.0</td>\n",
       "      <td>2.0</td>\n",
       "      <td>2.8</td>\n",
       "      <td>9.0</td>\n",
       "      <td>29.0</td>\n",
       "      <td>4.0</td>\n",
       "      <td>9.0</td>\n",
       "      <td>0.0</td>\n",
       "      <td>26,727.5</td>\n",
       "      <td>13,104.0</td>\n",
       "      <td>0.0</td>\n",
       "      <td>455.0</td>\n",
       "      <td>1.0</td>\n",
       "      <td>503.0</td>\n",
       "      <td>95.0</td>\n",
       "    </tr>\n",
       "    <tr>\n",
       "      <th>75%</th>\n",
       "      <td>14.0</td>\n",
       "      <td>6,800,000.0</td>\n",
       "      <td>69.9</td>\n",
       "      <td>3.0</td>\n",
       "      <td>2.8</td>\n",
       "      <td>16.0</td>\n",
       "      <td>41.1</td>\n",
       "      <td>8.0</td>\n",
       "      <td>11.5</td>\n",
       "      <td>1.0</td>\n",
       "      <td>37,284.0</td>\n",
       "      <td>16,293.0</td>\n",
       "      <td>1.0</td>\n",
       "      <td>612.0</td>\n",
       "      <td>1.0</td>\n",
       "      <td>730.0</td>\n",
       "      <td>232.0</td>\n",
       "    </tr>\n",
       "    <tr>\n",
       "      <th>max</th>\n",
       "      <td>50.0</td>\n",
       "      <td>763,000,000.0</td>\n",
       "      <td>900.0</td>\n",
       "      <td>19.0</td>\n",
       "      <td>4.9</td>\n",
       "      <td>60.0</td>\n",
       "      <td>409.7</td>\n",
       "      <td>33.0</td>\n",
       "      <td>112.0</td>\n",
       "      <td>5.0</td>\n",
       "      <td>84,869.0</td>\n",
       "      <td>65,968.0</td>\n",
       "      <td>3.0</td>\n",
       "      <td>3,190.0</td>\n",
       "      <td>3.0</td>\n",
       "      <td>1,344.0</td>\n",
       "      <td>1,580.0</td>\n",
       "    </tr>\n",
       "  </tbody>\n",
       "</table>\n",
       "</div>"
      ],
      "text/plain": [
       "       total_images    last_price  total_area    rooms  ceiling_height  \\\n",
       "count      23,648.0      23,648.0    23,648.0 23,648.0        23,648.0   \n",
       "mean            9.9   6,528,587.0        60.3      2.1             2.7   \n",
       "std             5.7  10,815,583.1        35.5      1.1             0.2   \n",
       "min             0.0      12,190.0        12.0      0.0             2.2   \n",
       "25%             6.0   3,411,750.0        40.0      1.0             2.6   \n",
       "50%             9.0   4,650,000.0        52.0      2.0             2.8   \n",
       "75%            14.0   6,800,000.0        69.9      3.0             2.8   \n",
       "max            50.0 763,000,000.0       900.0     19.0             4.9   \n",
       "\n",
       "       floors_total  living_area    floor  kitchen_area  balcony  \\\n",
       "count      23,648.0     23,648.0 23,648.0      23,648.0 23,648.0   \n",
       "mean           10.7         31.7      5.9           9.6      0.6   \n",
       "std             6.6         23.0      4.9           6.4      1.0   \n",
       "min             1.0          0.6      1.0           0.3      0.0   \n",
       "25%             5.0         17.8      2.0           6.3      0.0   \n",
       "50%             9.0         29.0      4.0           9.0      0.0   \n",
       "75%            16.0         41.1      8.0          11.5      1.0   \n",
       "max            60.0        409.7     33.0         112.0      5.0   \n",
       "\n",
       "       airports_nearest  cityCenters_nearest  parks_around3000  parks_nearest  \\\n",
       "count          18,126.0             18,149.0          18,150.0        8,061.0   \n",
       "mean           28,796.7             14,194.3               0.6          490.9   \n",
       "std            12,632.9              8,606.7               0.8          342.6   \n",
       "min                 0.0                181.0               0.0            1.0   \n",
       "25%            18,579.0              9,238.0               0.0          288.0   \n",
       "50%            26,727.5             13,104.0               0.0          455.0   \n",
       "75%            37,284.0             16,293.0               1.0          612.0   \n",
       "max            84,869.0             65,968.0               3.0        3,190.0   \n",
       "\n",
       "       ponds_around3000  ponds_nearest  days_exposition  \n",
       "count          18,150.0        9,091.0         20,478.0  \n",
       "mean                0.8          518.3            180.9  \n",
       "std                 0.9          277.7            219.8  \n",
       "min                 0.0           13.0              1.0  \n",
       "25%                 0.0          294.0             45.0  \n",
       "50%                 1.0          503.0             95.0  \n",
       "75%                 1.0          730.0            232.0  \n",
       "max                 3.0        1,344.0          1,580.0  "
      ]
     },
     "execution_count": 117,
     "metadata": {},
     "output_type": "execute_result"
    }
   ],
   "source": [
    "data_copy.describe()"
   ]
  },
  {
   "cell_type": "code",
   "execution_count": 118,
   "metadata": {
    "scrolled": false
   },
   "outputs": [
    {
     "data": {
      "image/png": "[encoded data removed]",
      "text/plain": [
       "<Figure size 432x288 with 1 Axes>"
      ]
     },
     "metadata": {
      "needs_background": "light"
     },
     "output_type": "display_data"
    }
   ],
   "source": [
    "#код ревьюера\n",
    "data['total_area'].hist(bins=30);"
   ]
  },
  {
   "cell_type": "code",
   "execution_count": 119,
   "metadata": {},
   "outputs": [],
   "source": [
    "data=data.query('total_area<200')"
   ]
  },
  {
   "cell_type": "code",
   "execution_count": 120,
   "metadata": {},
   "outputs": [],
   "source": [
    "data = data.query('last_price<100000000')# уберём квартиры со стоимостью более 100млн,так как они относятся к редким единичным объектам"
   ]
  },
  {
   "cell_type": "code",
   "execution_count": 121,
   "metadata": {},
   "outputs": [],
   "source": [
    "#квартир с числом комнат более 6 очень небольшое количество, следовательно данные значения можно обрезать как аномальные\n",
    "data = data.query('rooms<6')\n"
   ]
  },
  {
   "cell_type": "code",
   "execution_count": 122,
   "metadata": {},
   "outputs": [
    {
     "data": {
      "text/plain": [
       "23329"
      ]
     },
     "execution_count": 122,
     "metadata": {},
     "output_type": "execute_result"
    }
   ],
   "source": [
    "data.shape[0] "
   ]
  },
  {
   "cell_type": "markdown",
   "metadata": {},
   "source": [
    "### Посчитайте и добавьте в таблицу новые столбцы"
   ]
  },
  {
   "cell_type": "code",
   "execution_count": 123,
   "metadata": {},
   "outputs": [],
   "source": [
    "data['price_1_m'] = data['last_price']/data['total_area']#площадь 1кв.м\n",
    "pd.options.display.float_format = '{:,.1f}'.format\n"
   ]
  },
  {
   "cell_type": "code",
   "execution_count": 124,
   "metadata": {},
   "outputs": [
    {
     "data": {
      "text/html": [
       "<div>\n",
       "<style scoped>\n",
       "    .dataframe tbody tr th:only-of-type {\n",
       "        vertical-align: middle;\n",
       "    }\n",
       "\n",
       "    .dataframe tbody tr th {\n",
       "        vertical-align: top;\n",
       "    }\n",
       "\n",
       "    .dataframe thead th {\n",
       "        text-align: right;\n",
       "    }\n",
       "</style>\n",
       "<table border=\"1\" class=\"dataframe\">\n",
       "  <thead>\n",
       "    <tr style=\"text-align: right;\">\n",
       "      <th></th>\n",
       "      <th>total_images</th>\n",
       "      <th>last_price</th>\n",
       "      <th>total_area</th>\n",
       "      <th>first_day_exposition</th>\n",
       "      <th>rooms</th>\n",
       "      <th>ceiling_height</th>\n",
       "      <th>floors_total</th>\n",
       "      <th>living_area</th>\n",
       "      <th>floor</th>\n",
       "      <th>is_apartment</th>\n",
       "      <th>studio</th>\n",
       "      <th>open_plan</th>\n",
       "      <th>kitchen_area</th>\n",
       "      <th>balcony</th>\n",
       "      <th>locality_name</th>\n",
       "      <th>airports_nearest</th>\n",
       "      <th>cityCenters_nearest</th>\n",
       "      <th>parks_around3000</th>\n",
       "      <th>parks_nearest</th>\n",
       "      <th>ponds_around3000</th>\n",
       "      <th>ponds_nearest</th>\n",
       "      <th>days_exposition</th>\n",
       "      <th>price_1_m</th>\n",
       "      <th>weekday</th>\n",
       "    </tr>\n",
       "  </thead>\n",
       "  <tbody>\n",
       "    <tr>\n",
       "      <th>0</th>\n",
       "      <td>20</td>\n",
       "      <td>13,000,000.0</td>\n",
       "      <td>108.0</td>\n",
       "      <td>2019-03-07</td>\n",
       "      <td>3</td>\n",
       "      <td>2.7</td>\n",
       "      <td>16.0</td>\n",
       "      <td>51.0</td>\n",
       "      <td>8</td>\n",
       "      <td>False</td>\n",
       "      <td>False</td>\n",
       "      <td>False</td>\n",
       "      <td>25.0</td>\n",
       "      <td>0.0</td>\n",
       "      <td>санкт-петербург</td>\n",
       "      <td>18,863.0</td>\n",
       "      <td>16,028.0</td>\n",
       "      <td>1.0</td>\n",
       "      <td>482.0</td>\n",
       "      <td>2.0</td>\n",
       "      <td>755.0</td>\n",
       "      <td>NaN</td>\n",
       "      <td>120,370.4</td>\n",
       "      <td>3</td>\n",
       "    </tr>\n",
       "    <tr>\n",
       "      <th>1</th>\n",
       "      <td>7</td>\n",
       "      <td>3,350,000.0</td>\n",
       "      <td>40.4</td>\n",
       "      <td>2018-12-04</td>\n",
       "      <td>1</td>\n",
       "      <td>2.8</td>\n",
       "      <td>11.0</td>\n",
       "      <td>18.6</td>\n",
       "      <td>1</td>\n",
       "      <td>False</td>\n",
       "      <td>False</td>\n",
       "      <td>False</td>\n",
       "      <td>11.0</td>\n",
       "      <td>2.0</td>\n",
       "      <td>поселок шушары</td>\n",
       "      <td>12,817.0</td>\n",
       "      <td>18,603.0</td>\n",
       "      <td>0.0</td>\n",
       "      <td>NaN</td>\n",
       "      <td>0.0</td>\n",
       "      <td>NaN</td>\n",
       "      <td>81.0</td>\n",
       "      <td>82,920.8</td>\n",
       "      <td>1</td>\n",
       "    </tr>\n",
       "    <tr>\n",
       "      <th>2</th>\n",
       "      <td>10</td>\n",
       "      <td>5,196,000.0</td>\n",
       "      <td>56.0</td>\n",
       "      <td>2015-08-20</td>\n",
       "      <td>2</td>\n",
       "      <td>2.8</td>\n",
       "      <td>5.0</td>\n",
       "      <td>34.3</td>\n",
       "      <td>4</td>\n",
       "      <td>False</td>\n",
       "      <td>False</td>\n",
       "      <td>False</td>\n",
       "      <td>8.3</td>\n",
       "      <td>0.0</td>\n",
       "      <td>санкт-петербург</td>\n",
       "      <td>21,741.0</td>\n",
       "      <td>13,933.0</td>\n",
       "      <td>1.0</td>\n",
       "      <td>90.0</td>\n",
       "      <td>2.0</td>\n",
       "      <td>574.0</td>\n",
       "      <td>558.0</td>\n",
       "      <td>92,785.7</td>\n",
       "      <td>3</td>\n",
       "    </tr>\n",
       "    <tr>\n",
       "      <th>3</th>\n",
       "      <td>0</td>\n",
       "      <td>64,900,000.0</td>\n",
       "      <td>159.0</td>\n",
       "      <td>2015-07-24</td>\n",
       "      <td>3</td>\n",
       "      <td>2.8</td>\n",
       "      <td>14.0</td>\n",
       "      <td>0.6</td>\n",
       "      <td>9</td>\n",
       "      <td>False</td>\n",
       "      <td>False</td>\n",
       "      <td>False</td>\n",
       "      <td>0.3</td>\n",
       "      <td>0.0</td>\n",
       "      <td>санкт-петербург</td>\n",
       "      <td>28,098.0</td>\n",
       "      <td>6,800.0</td>\n",
       "      <td>2.0</td>\n",
       "      <td>84.0</td>\n",
       "      <td>3.0</td>\n",
       "      <td>234.0</td>\n",
       "      <td>424.0</td>\n",
       "      <td>408,176.1</td>\n",
       "      <td>4</td>\n",
       "    </tr>\n",
       "    <tr>\n",
       "      <th>4</th>\n",
       "      <td>2</td>\n",
       "      <td>10,000,000.0</td>\n",
       "      <td>100.0</td>\n",
       "      <td>2018-06-19</td>\n",
       "      <td>2</td>\n",
       "      <td>3.0</td>\n",
       "      <td>14.0</td>\n",
       "      <td>32.0</td>\n",
       "      <td>13</td>\n",
       "      <td>False</td>\n",
       "      <td>False</td>\n",
       "      <td>False</td>\n",
       "      <td>41.0</td>\n",
       "      <td>0.0</td>\n",
       "      <td>санкт-петербург</td>\n",
       "      <td>31,856.0</td>\n",
       "      <td>8,098.0</td>\n",
       "      <td>2.0</td>\n",
       "      <td>112.0</td>\n",
       "      <td>1.0</td>\n",
       "      <td>48.0</td>\n",
       "      <td>121.0</td>\n",
       "      <td>100,000.0</td>\n",
       "      <td>1</td>\n",
       "    </tr>\n",
       "  </tbody>\n",
       "</table>\n",
       "</div>"
      ],
      "text/plain": [
       "   total_images   last_price  total_area first_day_exposition  rooms  \\\n",
       "0            20 13,000,000.0       108.0           2019-03-07      3   \n",
       "1             7  3,350,000.0        40.4           2018-12-04      1   \n",
       "2            10  5,196,000.0        56.0           2015-08-20      2   \n",
       "3             0 64,900,000.0       159.0           2015-07-24      3   \n",
       "4             2 10,000,000.0       100.0           2018-06-19      2   \n",
       "\n",
       "   ceiling_height  floors_total  living_area  floor is_apartment  studio  \\\n",
       "0             2.7          16.0         51.0      8        False   False   \n",
       "1             2.8          11.0         18.6      1        False   False   \n",
       "2             2.8           5.0         34.3      4        False   False   \n",
       "3             2.8          14.0          0.6      9        False   False   \n",
       "4             3.0          14.0         32.0     13        False   False   \n",
       "\n",
       "   open_plan  kitchen_area  balcony    locality_name  airports_nearest  \\\n",
       "0      False          25.0      0.0  санкт-петербург          18,863.0   \n",
       "1      False          11.0      2.0   поселок шушары          12,817.0   \n",
       "2      False           8.3      0.0  санкт-петербург          21,741.0   \n",
       "3      False           0.3      0.0  санкт-петербург          28,098.0   \n",
       "4      False          41.0      0.0  санкт-петербург          31,856.0   \n",
       "\n",
       "   cityCenters_nearest  parks_around3000  parks_nearest  ponds_around3000  \\\n",
       "0             16,028.0               1.0          482.0               2.0   \n",
       "1             18,603.0               0.0            NaN               0.0   \n",
       "2             13,933.0               1.0           90.0               2.0   \n",
       "3              6,800.0               2.0           84.0               3.0   \n",
       "4              8,098.0               2.0          112.0               1.0   \n",
       "\n",
       "   ponds_nearest  days_exposition  price_1_m  weekday  \n",
       "0          755.0              NaN  120,370.4        3  \n",
       "1            NaN             81.0   82,920.8        1  \n",
       "2          574.0            558.0   92,785.7        3  \n",
       "3          234.0            424.0  408,176.1        4  \n",
       "4           48.0            121.0  100,000.0        1  "
      ]
     },
     "execution_count": 124,
     "metadata": {},
     "output_type": "execute_result"
    }
   ],
   "source": [
    "data['weekday'] = data['first_day_exposition'].dt.weekday#день недели\n",
    "data.head()"
   ]
  },
  {
   "cell_type": "code",
   "execution_count": 125,
   "metadata": {},
   "outputs": [
    {
     "data": {
      "text/html": [
       "<div>\n",
       "<style scoped>\n",
       "    .dataframe tbody tr th:only-of-type {\n",
       "        vertical-align: middle;\n",
       "    }\n",
       "\n",
       "    .dataframe tbody tr th {\n",
       "        vertical-align: top;\n",
       "    }\n",
       "\n",
       "    .dataframe thead th {\n",
       "        text-align: right;\n",
       "    }\n",
       "</style>\n",
       "<table border=\"1\" class=\"dataframe\">\n",
       "  <thead>\n",
       "    <tr style=\"text-align: right;\">\n",
       "      <th></th>\n",
       "      <th>total_images</th>\n",
       "      <th>last_price</th>\n",
       "      <th>total_area</th>\n",
       "      <th>first_day_exposition</th>\n",
       "      <th>rooms</th>\n",
       "      <th>ceiling_height</th>\n",
       "      <th>floors_total</th>\n",
       "      <th>living_area</th>\n",
       "      <th>floor</th>\n",
       "      <th>is_apartment</th>\n",
       "      <th>studio</th>\n",
       "      <th>open_plan</th>\n",
       "      <th>kitchen_area</th>\n",
       "      <th>balcony</th>\n",
       "      <th>locality_name</th>\n",
       "      <th>airports_nearest</th>\n",
       "      <th>cityCenters_nearest</th>\n",
       "      <th>parks_around3000</th>\n",
       "      <th>parks_nearest</th>\n",
       "      <th>ponds_around3000</th>\n",
       "      <th>ponds_nearest</th>\n",
       "      <th>days_exposition</th>\n",
       "      <th>price_1_m</th>\n",
       "      <th>weekday</th>\n",
       "      <th>month</th>\n",
       "    </tr>\n",
       "  </thead>\n",
       "  <tbody>\n",
       "    <tr>\n",
       "      <th>0</th>\n",
       "      <td>20</td>\n",
       "      <td>13,000,000.0</td>\n",
       "      <td>108.0</td>\n",
       "      <td>2019-03-07</td>\n",
       "      <td>3</td>\n",
       "      <td>2.7</td>\n",
       "      <td>16.0</td>\n",
       "      <td>51.0</td>\n",
       "      <td>8</td>\n",
       "      <td>False</td>\n",
       "      <td>False</td>\n",
       "      <td>False</td>\n",
       "      <td>25.0</td>\n",
       "      <td>0.0</td>\n",
       "      <td>санкт-петербург</td>\n",
       "      <td>18,863.0</td>\n",
       "      <td>16,028.0</td>\n",
       "      <td>1.0</td>\n",
       "      <td>482.0</td>\n",
       "      <td>2.0</td>\n",
       "      <td>755.0</td>\n",
       "      <td>NaN</td>\n",
       "      <td>120,370.4</td>\n",
       "      <td>3</td>\n",
       "      <td>3</td>\n",
       "    </tr>\n",
       "    <tr>\n",
       "      <th>1</th>\n",
       "      <td>7</td>\n",
       "      <td>3,350,000.0</td>\n",
       "      <td>40.4</td>\n",
       "      <td>2018-12-04</td>\n",
       "      <td>1</td>\n",
       "      <td>2.8</td>\n",
       "      <td>11.0</td>\n",
       "      <td>18.6</td>\n",
       "      <td>1</td>\n",
       "      <td>False</td>\n",
       "      <td>False</td>\n",
       "      <td>False</td>\n",
       "      <td>11.0</td>\n",
       "      <td>2.0</td>\n",
       "      <td>поселок шушары</td>\n",
       "      <td>12,817.0</td>\n",
       "      <td>18,603.0</td>\n",
       "      <td>0.0</td>\n",
       "      <td>NaN</td>\n",
       "      <td>0.0</td>\n",
       "      <td>NaN</td>\n",
       "      <td>81.0</td>\n",
       "      <td>82,920.8</td>\n",
       "      <td>1</td>\n",
       "      <td>12</td>\n",
       "    </tr>\n",
       "    <tr>\n",
       "      <th>2</th>\n",
       "      <td>10</td>\n",
       "      <td>5,196,000.0</td>\n",
       "      <td>56.0</td>\n",
       "      <td>2015-08-20</td>\n",
       "      <td>2</td>\n",
       "      <td>2.8</td>\n",
       "      <td>5.0</td>\n",
       "      <td>34.3</td>\n",
       "      <td>4</td>\n",
       "      <td>False</td>\n",
       "      <td>False</td>\n",
       "      <td>False</td>\n",
       "      <td>8.3</td>\n",
       "      <td>0.0</td>\n",
       "      <td>санкт-петербург</td>\n",
       "      <td>21,741.0</td>\n",
       "      <td>13,933.0</td>\n",
       "      <td>1.0</td>\n",
       "      <td>90.0</td>\n",
       "      <td>2.0</td>\n",
       "      <td>574.0</td>\n",
       "      <td>558.0</td>\n",
       "      <td>92,785.7</td>\n",
       "      <td>3</td>\n",
       "      <td>8</td>\n",
       "    </tr>\n",
       "    <tr>\n",
       "      <th>3</th>\n",
       "      <td>0</td>\n",
       "      <td>64,900,000.0</td>\n",
       "      <td>159.0</td>\n",
       "      <td>2015-07-24</td>\n",
       "      <td>3</td>\n",
       "      <td>2.8</td>\n",
       "      <td>14.0</td>\n",
       "      <td>0.6</td>\n",
       "      <td>9</td>\n",
       "      <td>False</td>\n",
       "      <td>False</td>\n",
       "      <td>False</td>\n",
       "      <td>0.3</td>\n",
       "      <td>0.0</td>\n",
       "      <td>санкт-петербург</td>\n",
       "      <td>28,098.0</td>\n",
       "      <td>6,800.0</td>\n",
       "      <td>2.0</td>\n",
       "      <td>84.0</td>\n",
       "      <td>3.0</td>\n",
       "      <td>234.0</td>\n",
       "      <td>424.0</td>\n",
       "      <td>408,176.1</td>\n",
       "      <td>4</td>\n",
       "      <td>7</td>\n",
       "    </tr>\n",
       "    <tr>\n",
       "      <th>4</th>\n",
       "      <td>2</td>\n",
       "      <td>10,000,000.0</td>\n",
       "      <td>100.0</td>\n",
       "      <td>2018-06-19</td>\n",
       "      <td>2</td>\n",
       "      <td>3.0</td>\n",
       "      <td>14.0</td>\n",
       "      <td>32.0</td>\n",
       "      <td>13</td>\n",
       "      <td>False</td>\n",
       "      <td>False</td>\n",
       "      <td>False</td>\n",
       "      <td>41.0</td>\n",
       "      <td>0.0</td>\n",
       "      <td>санкт-петербург</td>\n",
       "      <td>31,856.0</td>\n",
       "      <td>8,098.0</td>\n",
       "      <td>2.0</td>\n",
       "      <td>112.0</td>\n",
       "      <td>1.0</td>\n",
       "      <td>48.0</td>\n",
       "      <td>121.0</td>\n",
       "      <td>100,000.0</td>\n",
       "      <td>1</td>\n",
       "      <td>6</td>\n",
       "    </tr>\n",
       "  </tbody>\n",
       "</table>\n",
       "</div>"
      ],
      "text/plain": [
       "   total_images   last_price  total_area first_day_exposition  rooms  \\\n",
       "0            20 13,000,000.0       108.0           2019-03-07      3   \n",
       "1             7  3,350,000.0        40.4           2018-12-04      1   \n",
       "2            10  5,196,000.0        56.0           2015-08-20      2   \n",
       "3             0 64,900,000.0       159.0           2015-07-24      3   \n",
       "4             2 10,000,000.0       100.0           2018-06-19      2   \n",
       "\n",
       "   ceiling_height  floors_total  living_area  floor is_apartment  studio  \\\n",
       "0             2.7          16.0         51.0      8        False   False   \n",
       "1             2.8          11.0         18.6      1        False   False   \n",
       "2             2.8           5.0         34.3      4        False   False   \n",
       "3             2.8          14.0          0.6      9        False   False   \n",
       "4             3.0          14.0         32.0     13        False   False   \n",
       "\n",
       "   open_plan  kitchen_area  balcony    locality_name  airports_nearest  \\\n",
       "0      False          25.0      0.0  санкт-петербург          18,863.0   \n",
       "1      False          11.0      2.0   поселок шушары          12,817.0   \n",
       "2      False           8.3      0.0  санкт-петербург          21,741.0   \n",
       "3      False           0.3      0.0  санкт-петербург          28,098.0   \n",
       "4      False          41.0      0.0  санкт-петербург          31,856.0   \n",
       "\n",
       "   cityCenters_nearest  parks_around3000  parks_nearest  ponds_around3000  \\\n",
       "0             16,028.0               1.0          482.0               2.0   \n",
       "1             18,603.0               0.0            NaN               0.0   \n",
       "2             13,933.0               1.0           90.0               2.0   \n",
       "3              6,800.0               2.0           84.0               3.0   \n",
       "4              8,098.0               2.0          112.0               1.0   \n",
       "\n",
       "   ponds_nearest  days_exposition  price_1_m  weekday  month  \n",
       "0          755.0              NaN  120,370.4        3      3  \n",
       "1            NaN             81.0   82,920.8        1     12  \n",
       "2          574.0            558.0   92,785.7        3      8  \n",
       "3          234.0            424.0  408,176.1        4      7  \n",
       "4           48.0            121.0  100,000.0        1      6  "
      ]
     },
     "execution_count": 125,
     "metadata": {},
     "output_type": "execute_result"
    }
   ],
   "source": [
    "data['month'] = data['first_day_exposition'].dt.month#месяц публикации\n",
    "data.head()"
   ]
  },
  {
   "cell_type": "code",
   "execution_count": 126,
   "metadata": {},
   "outputs": [
    {
     "data": {
      "text/html": [
       "<div>\n",
       "<style scoped>\n",
       "    .dataframe tbody tr th:only-of-type {\n",
       "        vertical-align: middle;\n",
       "    }\n",
       "\n",
       "    .dataframe tbody tr th {\n",
       "        vertical-align: top;\n",
       "    }\n",
       "\n",
       "    .dataframe thead th {\n",
       "        text-align: right;\n",
       "    }\n",
       "</style>\n",
       "<table border=\"1\" class=\"dataframe\">\n",
       "  <thead>\n",
       "    <tr style=\"text-align: right;\">\n",
       "      <th></th>\n",
       "      <th>total_images</th>\n",
       "      <th>last_price</th>\n",
       "      <th>total_area</th>\n",
       "      <th>first_day_exposition</th>\n",
       "      <th>rooms</th>\n",
       "      <th>ceiling_height</th>\n",
       "      <th>floors_total</th>\n",
       "      <th>living_area</th>\n",
       "      <th>floor</th>\n",
       "      <th>is_apartment</th>\n",
       "      <th>studio</th>\n",
       "      <th>open_plan</th>\n",
       "      <th>kitchen_area</th>\n",
       "      <th>balcony</th>\n",
       "      <th>locality_name</th>\n",
       "      <th>airports_nearest</th>\n",
       "      <th>cityCenters_nearest</th>\n",
       "      <th>parks_around3000</th>\n",
       "      <th>parks_nearest</th>\n",
       "      <th>ponds_around3000</th>\n",
       "      <th>ponds_nearest</th>\n",
       "      <th>days_exposition</th>\n",
       "      <th>price_1_m</th>\n",
       "      <th>weekday</th>\n",
       "      <th>month</th>\n",
       "      <th>year</th>\n",
       "    </tr>\n",
       "  </thead>\n",
       "  <tbody>\n",
       "    <tr>\n",
       "      <th>0</th>\n",
       "      <td>20</td>\n",
       "      <td>13,000,000.0</td>\n",
       "      <td>108.0</td>\n",
       "      <td>2019-03-07</td>\n",
       "      <td>3</td>\n",
       "      <td>2.7</td>\n",
       "      <td>16.0</td>\n",
       "      <td>51.0</td>\n",
       "      <td>8</td>\n",
       "      <td>False</td>\n",
       "      <td>False</td>\n",
       "      <td>False</td>\n",
       "      <td>25.0</td>\n",
       "      <td>0.0</td>\n",
       "      <td>санкт-петербург</td>\n",
       "      <td>18,863.0</td>\n",
       "      <td>16,028.0</td>\n",
       "      <td>1.0</td>\n",
       "      <td>482.0</td>\n",
       "      <td>2.0</td>\n",
       "      <td>755.0</td>\n",
       "      <td>NaN</td>\n",
       "      <td>120,370.4</td>\n",
       "      <td>3</td>\n",
       "      <td>3</td>\n",
       "      <td>2019</td>\n",
       "    </tr>\n",
       "    <tr>\n",
       "      <th>1</th>\n",
       "      <td>7</td>\n",
       "      <td>3,350,000.0</td>\n",
       "      <td>40.4</td>\n",
       "      <td>2018-12-04</td>\n",
       "      <td>1</td>\n",
       "      <td>2.8</td>\n",
       "      <td>11.0</td>\n",
       "      <td>18.6</td>\n",
       "      <td>1</td>\n",
       "      <td>False</td>\n",
       "      <td>False</td>\n",
       "      <td>False</td>\n",
       "      <td>11.0</td>\n",
       "      <td>2.0</td>\n",
       "      <td>поселок шушары</td>\n",
       "      <td>12,817.0</td>\n",
       "      <td>18,603.0</td>\n",
       "      <td>0.0</td>\n",
       "      <td>NaN</td>\n",
       "      <td>0.0</td>\n",
       "      <td>NaN</td>\n",
       "      <td>81.0</td>\n",
       "      <td>82,920.8</td>\n",
       "      <td>1</td>\n",
       "      <td>12</td>\n",
       "      <td>2018</td>\n",
       "    </tr>\n",
       "    <tr>\n",
       "      <th>2</th>\n",
       "      <td>10</td>\n",
       "      <td>5,196,000.0</td>\n",
       "      <td>56.0</td>\n",
       "      <td>2015-08-20</td>\n",
       "      <td>2</td>\n",
       "      <td>2.8</td>\n",
       "      <td>5.0</td>\n",
       "      <td>34.3</td>\n",
       "      <td>4</td>\n",
       "      <td>False</td>\n",
       "      <td>False</td>\n",
       "      <td>False</td>\n",
       "      <td>8.3</td>\n",
       "      <td>0.0</td>\n",
       "      <td>санкт-петербург</td>\n",
       "      <td>21,741.0</td>\n",
       "      <td>13,933.0</td>\n",
       "      <td>1.0</td>\n",
       "      <td>90.0</td>\n",
       "      <td>2.0</td>\n",
       "      <td>574.0</td>\n",
       "      <td>558.0</td>\n",
       "      <td>92,785.7</td>\n",
       "      <td>3</td>\n",
       "      <td>8</td>\n",
       "      <td>2015</td>\n",
       "    </tr>\n",
       "    <tr>\n",
       "      <th>3</th>\n",
       "      <td>0</td>\n",
       "      <td>64,900,000.0</td>\n",
       "      <td>159.0</td>\n",
       "      <td>2015-07-24</td>\n",
       "      <td>3</td>\n",
       "      <td>2.8</td>\n",
       "      <td>14.0</td>\n",
       "      <td>0.6</td>\n",
       "      <td>9</td>\n",
       "      <td>False</td>\n",
       "      <td>False</td>\n",
       "      <td>False</td>\n",
       "      <td>0.3</td>\n",
       "      <td>0.0</td>\n",
       "      <td>санкт-петербург</td>\n",
       "      <td>28,098.0</td>\n",
       "      <td>6,800.0</td>\n",
       "      <td>2.0</td>\n",
       "      <td>84.0</td>\n",
       "      <td>3.0</td>\n",
       "      <td>234.0</td>\n",
       "      <td>424.0</td>\n",
       "      <td>408,176.1</td>\n",
       "      <td>4</td>\n",
       "      <td>7</td>\n",
       "      <td>2015</td>\n",
       "    </tr>\n",
       "    <tr>\n",
       "      <th>4</th>\n",
       "      <td>2</td>\n",
       "      <td>10,000,000.0</td>\n",
       "      <td>100.0</td>\n",
       "      <td>2018-06-19</td>\n",
       "      <td>2</td>\n",
       "      <td>3.0</td>\n",
       "      <td>14.0</td>\n",
       "      <td>32.0</td>\n",
       "      <td>13</td>\n",
       "      <td>False</td>\n",
       "      <td>False</td>\n",
       "      <td>False</td>\n",
       "      <td>41.0</td>\n",
       "      <td>0.0</td>\n",
       "      <td>санкт-петербург</td>\n",
       "      <td>31,856.0</td>\n",
       "      <td>8,098.0</td>\n",
       "      <td>2.0</td>\n",
       "      <td>112.0</td>\n",
       "      <td>1.0</td>\n",
       "      <td>48.0</td>\n",
       "      <td>121.0</td>\n",
       "      <td>100,000.0</td>\n",
       "      <td>1</td>\n",
       "      <td>6</td>\n",
       "      <td>2018</td>\n",
       "    </tr>\n",
       "  </tbody>\n",
       "</table>\n",
       "</div>"
      ],
      "text/plain": [
       "   total_images   last_price  total_area first_day_exposition  rooms  \\\n",
       "0            20 13,000,000.0       108.0           2019-03-07      3   \n",
       "1             7  3,350,000.0        40.4           2018-12-04      1   \n",
       "2            10  5,196,000.0        56.0           2015-08-20      2   \n",
       "3             0 64,900,000.0       159.0           2015-07-24      3   \n",
       "4             2 10,000,000.0       100.0           2018-06-19      2   \n",
       "\n",
       "   ceiling_height  floors_total  living_area  floor is_apartment  studio  \\\n",
       "0             2.7          16.0         51.0      8        False   False   \n",
       "1             2.8          11.0         18.6      1        False   False   \n",
       "2             2.8           5.0         34.3      4        False   False   \n",
       "3             2.8          14.0          0.6      9        False   False   \n",
       "4             3.0          14.0         32.0     13        False   False   \n",
       "\n",
       "   open_plan  kitchen_area  balcony    locality_name  airports_nearest  \\\n",
       "0      False          25.0      0.0  санкт-петербург          18,863.0   \n",
       "1      False          11.0      2.0   поселок шушары          12,817.0   \n",
       "2      False           8.3      0.0  санкт-петербург          21,741.0   \n",
       "3      False           0.3      0.0  санкт-петербург          28,098.0   \n",
       "4      False          41.0      0.0  санкт-петербург          31,856.0   \n",
       "\n",
       "   cityCenters_nearest  parks_around3000  parks_nearest  ponds_around3000  \\\n",
       "0             16,028.0               1.0          482.0               2.0   \n",
       "1             18,603.0               0.0            NaN               0.0   \n",
       "2             13,933.0               1.0           90.0               2.0   \n",
       "3              6,800.0               2.0           84.0               3.0   \n",
       "4              8,098.0               2.0          112.0               1.0   \n",
       "\n",
       "   ponds_nearest  days_exposition  price_1_m  weekday  month  year  \n",
       "0          755.0              NaN  120,370.4        3      3  2019  \n",
       "1            NaN             81.0   82,920.8        1     12  2018  \n",
       "2          574.0            558.0   92,785.7        3      8  2015  \n",
       "3          234.0            424.0  408,176.1        4      7  2015  \n",
       "4           48.0            121.0  100,000.0        1      6  2018  "
      ]
     },
     "execution_count": 126,
     "metadata": {},
     "output_type": "execute_result"
    }
   ],
   "source": [
    "data['year'] = data['first_day_exposition'].dt.year#год публикации\n",
    "data.head()"
   ]
  },
  {
   "cell_type": "code",
   "execution_count": 127,
   "metadata": {},
   "outputs": [
    {
     "data": {
      "text/plain": [
       "array([ 1,  2,  3,  4,  5,  6,  7,  8,  9, 10, 11, 12, 13, 14, 15, 16, 17,\n",
       "       18, 19, 20, 21, 22, 23, 24, 25, 26, 27, 28, 29, 30, 31, 32, 33])"
      ]
     },
     "execution_count": 127,
     "metadata": {},
     "output_type": "execute_result"
    }
   ],
   "source": [
    "data['floor'].sort_values().unique()"
   ]
  },
  {
   "cell_type": "code",
   "execution_count": 128,
   "metadata": {},
   "outputs": [],
   "source": [
    "#добавление столбца с типом этажа \"первый\", \"последний\", \"другой\" с использованием создания функции и метода apply\n",
    "def floor_type(row):\n",
    "    if row['floor'] == 1:\n",
    "        return 'первый'\n",
    "    elif row['floor'] == row['floors_total']:\n",
    "        return 'последний'\n",
    "    else:\n",
    "        return 'другой'\n",
    "data['floor_type'] = data.apply(floor_type,axis=1) "
   ]
  },
  {
   "cell_type": "code",
   "execution_count": 129,
   "metadata": {},
   "outputs": [
    {
     "data": {
      "text/html": [
       "<div>\n",
       "<style scoped>\n",
       "    .dataframe tbody tr th:only-of-type {\n",
       "        vertical-align: middle;\n",
       "    }\n",
       "\n",
       "    .dataframe tbody tr th {\n",
       "        vertical-align: top;\n",
       "    }\n",
       "\n",
       "    .dataframe thead th {\n",
       "        text-align: right;\n",
       "    }\n",
       "</style>\n",
       "<table border=\"1\" class=\"dataframe\">\n",
       "  <thead>\n",
       "    <tr style=\"text-align: right;\">\n",
       "      <th></th>\n",
       "      <th>total_images</th>\n",
       "      <th>last_price</th>\n",
       "      <th>total_area</th>\n",
       "      <th>first_day_exposition</th>\n",
       "      <th>rooms</th>\n",
       "      <th>ceiling_height</th>\n",
       "      <th>floors_total</th>\n",
       "      <th>living_area</th>\n",
       "      <th>floor</th>\n",
       "      <th>is_apartment</th>\n",
       "      <th>studio</th>\n",
       "      <th>open_plan</th>\n",
       "      <th>kitchen_area</th>\n",
       "      <th>balcony</th>\n",
       "      <th>locality_name</th>\n",
       "      <th>airports_nearest</th>\n",
       "      <th>cityCenters_nearest</th>\n",
       "      <th>parks_around3000</th>\n",
       "      <th>parks_nearest</th>\n",
       "      <th>ponds_around3000</th>\n",
       "      <th>ponds_nearest</th>\n",
       "      <th>days_exposition</th>\n",
       "      <th>price_1_m</th>\n",
       "      <th>weekday</th>\n",
       "      <th>month</th>\n",
       "      <th>year</th>\n",
       "      <th>floor_type</th>\n",
       "    </tr>\n",
       "  </thead>\n",
       "  <tbody>\n",
       "    <tr>\n",
       "      <th>0</th>\n",
       "      <td>20</td>\n",
       "      <td>13,000,000.0</td>\n",
       "      <td>108.0</td>\n",
       "      <td>2019-03-07</td>\n",
       "      <td>3</td>\n",
       "      <td>2.7</td>\n",
       "      <td>16.0</td>\n",
       "      <td>51.0</td>\n",
       "      <td>8</td>\n",
       "      <td>False</td>\n",
       "      <td>False</td>\n",
       "      <td>False</td>\n",
       "      <td>25.0</td>\n",
       "      <td>0.0</td>\n",
       "      <td>санкт-петербург</td>\n",
       "      <td>18,863.0</td>\n",
       "      <td>16,028.0</td>\n",
       "      <td>1.0</td>\n",
       "      <td>482.0</td>\n",
       "      <td>2.0</td>\n",
       "      <td>755.0</td>\n",
       "      <td>NaN</td>\n",
       "      <td>120,370.4</td>\n",
       "      <td>3</td>\n",
       "      <td>3</td>\n",
       "      <td>2019</td>\n",
       "      <td>другой</td>\n",
       "    </tr>\n",
       "    <tr>\n",
       "      <th>1</th>\n",
       "      <td>7</td>\n",
       "      <td>3,350,000.0</td>\n",
       "      <td>40.4</td>\n",
       "      <td>2018-12-04</td>\n",
       "      <td>1</td>\n",
       "      <td>2.8</td>\n",
       "      <td>11.0</td>\n",
       "      <td>18.6</td>\n",
       "      <td>1</td>\n",
       "      <td>False</td>\n",
       "      <td>False</td>\n",
       "      <td>False</td>\n",
       "      <td>11.0</td>\n",
       "      <td>2.0</td>\n",
       "      <td>поселок шушары</td>\n",
       "      <td>12,817.0</td>\n",
       "      <td>18,603.0</td>\n",
       "      <td>0.0</td>\n",
       "      <td>NaN</td>\n",
       "      <td>0.0</td>\n",
       "      <td>NaN</td>\n",
       "      <td>81.0</td>\n",
       "      <td>82,920.8</td>\n",
       "      <td>1</td>\n",
       "      <td>12</td>\n",
       "      <td>2018</td>\n",
       "      <td>первый</td>\n",
       "    </tr>\n",
       "    <tr>\n",
       "      <th>2</th>\n",
       "      <td>10</td>\n",
       "      <td>5,196,000.0</td>\n",
       "      <td>56.0</td>\n",
       "      <td>2015-08-20</td>\n",
       "      <td>2</td>\n",
       "      <td>2.8</td>\n",
       "      <td>5.0</td>\n",
       "      <td>34.3</td>\n",
       "      <td>4</td>\n",
       "      <td>False</td>\n",
       "      <td>False</td>\n",
       "      <td>False</td>\n",
       "      <td>8.3</td>\n",
       "      <td>0.0</td>\n",
       "      <td>санкт-петербург</td>\n",
       "      <td>21,741.0</td>\n",
       "      <td>13,933.0</td>\n",
       "      <td>1.0</td>\n",
       "      <td>90.0</td>\n",
       "      <td>2.0</td>\n",
       "      <td>574.0</td>\n",
       "      <td>558.0</td>\n",
       "      <td>92,785.7</td>\n",
       "      <td>3</td>\n",
       "      <td>8</td>\n",
       "      <td>2015</td>\n",
       "      <td>другой</td>\n",
       "    </tr>\n",
       "    <tr>\n",
       "      <th>3</th>\n",
       "      <td>0</td>\n",
       "      <td>64,900,000.0</td>\n",
       "      <td>159.0</td>\n",
       "      <td>2015-07-24</td>\n",
       "      <td>3</td>\n",
       "      <td>2.8</td>\n",
       "      <td>14.0</td>\n",
       "      <td>0.6</td>\n",
       "      <td>9</td>\n",
       "      <td>False</td>\n",
       "      <td>False</td>\n",
       "      <td>False</td>\n",
       "      <td>0.3</td>\n",
       "      <td>0.0</td>\n",
       "      <td>санкт-петербург</td>\n",
       "      <td>28,098.0</td>\n",
       "      <td>6,800.0</td>\n",
       "      <td>2.0</td>\n",
       "      <td>84.0</td>\n",
       "      <td>3.0</td>\n",
       "      <td>234.0</td>\n",
       "      <td>424.0</td>\n",
       "      <td>408,176.1</td>\n",
       "      <td>4</td>\n",
       "      <td>7</td>\n",
       "      <td>2015</td>\n",
       "      <td>другой</td>\n",
       "    </tr>\n",
       "    <tr>\n",
       "      <th>4</th>\n",
       "      <td>2</td>\n",
       "      <td>10,000,000.0</td>\n",
       "      <td>100.0</td>\n",
       "      <td>2018-06-19</td>\n",
       "      <td>2</td>\n",
       "      <td>3.0</td>\n",
       "      <td>14.0</td>\n",
       "      <td>32.0</td>\n",
       "      <td>13</td>\n",
       "      <td>False</td>\n",
       "      <td>False</td>\n",
       "      <td>False</td>\n",
       "      <td>41.0</td>\n",
       "      <td>0.0</td>\n",
       "      <td>санкт-петербург</td>\n",
       "      <td>31,856.0</td>\n",
       "      <td>8,098.0</td>\n",
       "      <td>2.0</td>\n",
       "      <td>112.0</td>\n",
       "      <td>1.0</td>\n",
       "      <td>48.0</td>\n",
       "      <td>121.0</td>\n",
       "      <td>100,000.0</td>\n",
       "      <td>1</td>\n",
       "      <td>6</td>\n",
       "      <td>2018</td>\n",
       "      <td>другой</td>\n",
       "    </tr>\n",
       "  </tbody>\n",
       "</table>\n",
       "</div>"
      ],
      "text/plain": [
       "   total_images   last_price  total_area first_day_exposition  rooms  \\\n",
       "0            20 13,000,000.0       108.0           2019-03-07      3   \n",
       "1             7  3,350,000.0        40.4           2018-12-04      1   \n",
       "2            10  5,196,000.0        56.0           2015-08-20      2   \n",
       "3             0 64,900,000.0       159.0           2015-07-24      3   \n",
       "4             2 10,000,000.0       100.0           2018-06-19      2   \n",
       "\n",
       "   ceiling_height  floors_total  living_area  floor is_apartment  studio  \\\n",
       "0             2.7          16.0         51.0      8        False   False   \n",
       "1             2.8          11.0         18.6      1        False   False   \n",
       "2             2.8           5.0         34.3      4        False   False   \n",
       "3             2.8          14.0          0.6      9        False   False   \n",
       "4             3.0          14.0         32.0     13        False   False   \n",
       "\n",
       "   open_plan  kitchen_area  balcony    locality_name  airports_nearest  \\\n",
       "0      False          25.0      0.0  санкт-петербург          18,863.0   \n",
       "1      False          11.0      2.0   поселок шушары          12,817.0   \n",
       "2      False           8.3      0.0  санкт-петербург          21,741.0   \n",
       "3      False           0.3      0.0  санкт-петербург          28,098.0   \n",
       "4      False          41.0      0.0  санкт-петербург          31,856.0   \n",
       "\n",
       "   cityCenters_nearest  parks_around3000  parks_nearest  ponds_around3000  \\\n",
       "0             16,028.0               1.0          482.0               2.0   \n",
       "1             18,603.0               0.0            NaN               0.0   \n",
       "2             13,933.0               1.0           90.0               2.0   \n",
       "3              6,800.0               2.0           84.0               3.0   \n",
       "4              8,098.0               2.0          112.0               1.0   \n",
       "\n",
       "   ponds_nearest  days_exposition  price_1_m  weekday  month  year floor_type  \n",
       "0          755.0              NaN  120,370.4        3      3  2019     другой  \n",
       "1            NaN             81.0   82,920.8        1     12  2018     первый  \n",
       "2          574.0            558.0   92,785.7        3      8  2015     другой  \n",
       "3          234.0            424.0  408,176.1        4      7  2015     другой  \n",
       "4           48.0            121.0  100,000.0        1      6  2018     другой  "
      ]
     },
     "execution_count": 129,
     "metadata": {},
     "output_type": "execute_result"
    }
   ],
   "source": [
    "data.head()"
   ]
  },
  {
   "cell_type": "code",
   "execution_count": 130,
   "metadata": {},
   "outputs": [
    {
     "data": {
      "text/plain": [
       "0       16.0\n",
       "1       19.0\n",
       "2       14.0\n",
       "3        7.0\n",
       "4        8.0\n",
       "        ... \n",
       "23694    4.0\n",
       "23695    NaN\n",
       "23696    NaN\n",
       "23697   10.0\n",
       "23698    NaN\n",
       "Name: cityCenters_nearest_km, Length: 23329, dtype: float64"
      ]
     },
     "execution_count": 130,
     "metadata": {},
     "output_type": "execute_result"
    }
   ],
   "source": [
    "#добавление столбца расстояние до центра в км и округление до целого числа\n",
    "\n",
    "data['cityCenters_nearest'] = data['cityCenters_nearest'].astype(int,errors='ignore')\n",
    "data['cityCenters_nearest_km']=round(data['cityCenters_nearest']/1000)\n",
    "data['cityCenters_nearest_km'] = data['cityCenters_nearest_km'].astype(int,errors='ignore')\n",
    "data['cityCenters_nearest_km']"
   ]
  },
  {
   "cell_type": "markdown",
   "metadata": {},
   "source": [
    "### Проведите исследовательский анализ данных"
   ]
  },
  {
   "cell_type": "markdown",
   "metadata": {},
   "source": [
    "####  Изучение параметров "
   ]
  },
  {
   "cell_type": "code",
   "execution_count": 131,
   "metadata": {},
   "outputs": [
    {
     "data": {
      "image/png": "[encoded data removed]",
      "text/plain": [
       "<Figure size 432x288 with 1 Axes>"
      ]
     },
     "metadata": {
      "needs_background": "light"
     },
     "output_type": "display_data"
    }
   ],
   "source": [
    "data.plot(kind='hist',y='total_area',bins=50,range=(0,250), grid=True );"
   ]
  },
  {
   "cell_type": "code",
   "execution_count": 132,
   "metadata": {},
   "outputs": [
    {
     "data": {
      "text/plain": [
       "count   23,329.0\n",
       "mean        57.8\n",
       "std         25.7\n",
       "min         12.0\n",
       "25%         40.0\n",
       "50%         51.6\n",
       "75%         68.4\n",
       "max        199.2\n",
       "Name: total_area, dtype: float64"
      ]
     },
     "execution_count": 132,
     "metadata": {},
     "output_type": "execute_result"
    }
   ],
   "source": [
    "data['total_area'].describe()"
   ]
  },
  {
   "cell_type": "markdown",
   "metadata": {},
   "source": [
    "Вывод: Проанализировав гистограмму распределения общей площади, можно сделать вывод, что наиболее распространенное значение общей площади квартиры 30-50 кв.м. Использование метода describe() подтверждает, что медиана в данном распределении находится на значении 51,6 кв.м, а среднее значение 57,8 кв.м. Стандартное отклонение показывает, что значения в выборке откланяются от среднего на 25,7 единиц, следовательно выборка неоднородна, т.е.значения распределны неравномерно."
   ]
  },
  {
   "cell_type": "code",
   "execution_count": 133,
   "metadata": {
    "scrolled": true
   },
   "outputs": [
    {
     "data": {
      "image/png": "[encoded data removed]",
      "text/plain": [
       "<Figure size 432x288 with 1 Axes>"
      ]
     },
     "metadata": {
      "needs_background": "light"
     },
     "output_type": "display_data"
    }
   ],
   "source": [
    "\n",
    "data.plot(kind='hist',y='living_area',bins=50,range=(0,200), grid=True );"
   ]
  },
  {
   "cell_type": "code",
   "execution_count": 134,
   "metadata": {},
   "outputs": [
    {
     "data": {
      "text/plain": [
       "count   23,329.0\n",
       "mean        30.4\n",
       "std         18.3\n",
       "min          0.6\n",
       "25%         17.8\n",
       "50%         29.0\n",
       "75%         40.5\n",
       "max        164.7\n",
       "Name: living_area, dtype: float64"
      ]
     },
     "execution_count": 134,
     "metadata": {},
     "output_type": "execute_result"
    }
   ],
   "source": [
    "data['living_area'].describe()"
   ]
  },
  {
   "cell_type": "markdown",
   "metadata": {},
   "source": [
    "Вывод:Проанализировав гистограмму распределения жилой площади, можно сделать вывод, что наиболее распространенное значение жилой площади квартиры 30 кв.м., аномальные значения - меньше 20. Такие значения можно отнести к выбросам. Использование метода describe() подтверждает, что медиана в данном распределении находится на значении 29 кв.м, а среднее значение 30,4  кв.м. Стандартное отклонение показывает, что значения в выборке откланяются от среднего на 18,3 единиц, следовательно выборка неоднородна, что еще раз подтверждает наличие выбросов в наборе данных."
   ]
  },
  {
   "cell_type": "code",
   "execution_count": 135,
   "metadata": {},
   "outputs": [
    {
     "data": {
      "image/png": "[encoded data removed]",
      "text/plain": [
       "<Figure size 432x288 with 1 Axes>"
      ]
     },
     "metadata": {
      "needs_background": "light"
     },
     "output_type": "display_data"
    }
   ],
   "source": [
    "data.plot(kind='hist',y='kitchen_area',bins=80,range=(0,60), grid=True );"
   ]
  },
  {
   "cell_type": "code",
   "execution_count": 136,
   "metadata": {},
   "outputs": [
    {
     "data": {
      "text/plain": [
       "count   23,329.0\n",
       "mean         9.4\n",
       "std          5.9\n",
       "min          0.3\n",
       "25%          6.3\n",
       "50%          8.9\n",
       "75%         11.3\n",
       "max         93.2\n",
       "Name: kitchen_area, dtype: float64"
      ]
     },
     "execution_count": 136,
     "metadata": {},
     "output_type": "execute_result"
    }
   ],
   "source": [
    "data['kitchen_area'].describe() "
   ]
  },
  {
   "cell_type": "markdown",
   "metadata": {},
   "source": [
    " Проанализировав гистограмму распределения площади кухни, можно сделать вывод, что наиболее распространенное значение  площади кухни 8 и 10 кв.м., аномальные значения - больше 30 кв.м. Такие значения можно отнести к выбросам. Использование метода describe() подтверждает, что медиана в данном распределении находится на значении 8,9 кв.м, а среднее значение 9,4 кв.м. Стандартное отклонение показывает, что значения в выборке откланяются от среднего на 5.9 единиц, следовательно выборка неоднородна, что еще раз подтверждает наличие выбросов в наборе данных."
   ]
  },
  {
   "cell_type": "code",
   "execution_count": 137,
   "metadata": {
    "scrolled": true
   },
   "outputs": [
    {
     "data": {
      "image/png": "[encoded data removed]",
      "text/plain": [
       "<Figure size 432x288 with 1 Axes>"
      ]
     },
     "metadata": {
      "needs_background": "light"
     },
     "output_type": "display_data"
    }
   ],
   "source": [
    "data['last_price_mln'] = data['last_price']/1000000\n",
    "data.plot(kind='hist',y='last_price_mln',bins=100, range = (0,50) , grid=True );"
   ]
  },
  {
   "cell_type": "code",
   "execution_count": 138,
   "metadata": {},
   "outputs": [
    {
     "data": {
      "text/plain": [
       "count   23,329.0\n",
       "mean         5.9\n",
       "std          5.3\n",
       "min          0.0\n",
       "25%          3.4\n",
       "50%          4.6\n",
       "75%          6.7\n",
       "max         98.0\n",
       "Name: last_price_mln, dtype: float64"
      ]
     },
     "execution_count": 138,
     "metadata": {},
     "output_type": "execute_result"
    }
   ],
   "source": [
    "data['last_price_mln'].describe() "
   ]
  },
  {
   "cell_type": "markdown",
   "metadata": {},
   "source": [
    " Проанализировав гистограмму распределения стоимости квартир, можно сделать вывод, что наиболее распространенное значение - 4-5 млн. Такие значения можно отнести к выбросам. Использование метода describe() подтверждает, что медиана в данном распределении находится на значении 4.6 млн, а среднее значение 5,9. Стандартное отклонение показывает, что значения в выборке отклоняются от среднего на 5,3 единицы, следовательно выборка неоднородна, что еще раз подтверждает наличие выбросов в наборе данных.\n"
   ]
  },
  {
   "cell_type": "code",
   "execution_count": 139,
   "metadata": {
    "scrolled": true
   },
   "outputs": [
    {
     "data": {
      "image/png": "[encoded data removed]",
      "text/plain": [
       "<Figure size 432x288 with 1 Axes>"
      ]
     },
     "metadata": {
      "needs_background": "light"
     },
     "output_type": "display_data"
    }
   ],
   "source": [
    "data.plot(kind='hist',y='rooms',bins=10,range=(0,10));"
   ]
  },
  {
   "cell_type": "code",
   "execution_count": 140,
   "metadata": {
    "scrolled": true
   },
   "outputs": [
    {
     "data": {
      "text/plain": [
       "count   23,329.0\n",
       "mean         2.0\n",
       "std          1.0\n",
       "min          0.0\n",
       "25%          1.0\n",
       "50%          2.0\n",
       "75%          3.0\n",
       "max          5.0\n",
       "Name: rooms, dtype: float64"
      ]
     },
     "execution_count": 140,
     "metadata": {},
     "output_type": "execute_result"
    }
   ],
   "source": [
    "data['rooms'].describe() "
   ]
  },
  {
   "cell_type": "markdown",
   "metadata": {},
   "source": [
    " Проанализировав гистограмму распределения количества комнат, можно сделать вывод, что наиболее распространенное значение 1-3 комнаты. Такие значения можно отнести к выбросам. Использование метода describe() подтверждает, что медиана в данном распределении находится на значении 2 и среднее значение 2. Стандартное отклонение показывает, что значения в выборке отклоняются от среднего на 1 единицу, следовательно выборка неоднородна, что еще раз подтверждает наличие выбросов в наборе данных.\n"
   ]
  },
  {
   "cell_type": "code",
   "execution_count": 141,
   "metadata": {},
   "outputs": [
    {
     "data": {
      "image/png": "[encoded data removed]",
      "text/plain": [
       "<Figure size 432x288 with 1 Axes>"
      ]
     },
     "metadata": {
      "needs_background": "light"
     },
     "output_type": "display_data"
    }
   ],
   "source": [
    "data.plot(kind='hist',y='ceiling_height',bins=10,range=(0,10));"
   ]
  },
  {
   "cell_type": "code",
   "execution_count": 142,
   "metadata": {
    "scrolled": true
   },
   "outputs": [
    {
     "data": {
      "text/plain": [
       "count   23,329.0\n",
       "mean         2.7\n",
       "std          0.2\n",
       "min          2.2\n",
       "25%          2.6\n",
       "50%          2.8\n",
       "75%          2.8\n",
       "max          4.8\n",
       "Name: ceiling_height, dtype: float64"
      ]
     },
     "execution_count": 142,
     "metadata": {},
     "output_type": "execute_result"
    }
   ],
   "source": [
    "data['ceiling_height'].describe()"
   ]
  },
  {
   "cell_type": "markdown",
   "metadata": {},
   "source": [
    "Проанализировав гистограмму распределения высоты потолков, можно сделать вывод, что наиболее распространенное значение 2.5м. Использование метода describe() подтверждает, что медиана в данном распределении находится на значении 2,8 м, а среднее значение 2.7 м. Стандартное отклонение показывает, что значения в выборке откланяются от среднего на 0,2 единицы, следовательно выборка однородна."
   ]
  },
  {
   "cell_type": "code",
   "execution_count": 143,
   "metadata": {},
   "outputs": [
    {
     "data": {
      "image/png": "[encoded data removed]",
      "text/plain": [
       "<Figure size 432x288 with 1 Axes>"
      ]
     },
     "metadata": {
      "needs_background": "light"
     },
     "output_type": "display_data"
    }
   ],
   "source": [
    "data.plot(kind='hist',y='floor',bins=30,range=(0,30));"
   ]
  },
  {
   "cell_type": "code",
   "execution_count": 144,
   "metadata": {},
   "outputs": [
    {
     "data": {
      "text/plain": [
       "count   23,329.0\n",
       "mean         5.9\n",
       "std          4.9\n",
       "min          1.0\n",
       "25%          2.0\n",
       "50%          4.0\n",
       "75%          8.0\n",
       "max         33.0\n",
       "Name: floor, dtype: float64"
      ]
     },
     "execution_count": 144,
     "metadata": {},
     "output_type": "execute_result"
    }
   ],
   "source": [
    "data['floor'].describe() "
   ]
  },
  {
   "cell_type": "markdown",
   "metadata": {},
   "source": [
    "Проанализировав гистограмму распределения количества этажей, можно сделать вывод, что наиболее распространенное значение до 2-6 этажей. Использование метода describe() подтверждает, что медиана в данном распределении находится на значении 4, а среднее значение 5,9. Стандартное отклонение показывает, что значения в выборке отклоняются от среднего на 4.9 единиц, следовательно выборка неоднородна, что еще раз подтверждает наличие выбросов в наборе данных."
   ]
  },
  {
   "cell_type": "code",
   "execution_count": 145,
   "metadata": {},
   "outputs": [
    {
     "data": {
      "image/png": "[encoded data removed]",
      "text/plain": [
       "<Figure size 432x288 with 1 Axes>"
      ]
     },
     "metadata": {
      "needs_background": "light"
     },
     "output_type": "display_data"
    }
   ],
   "source": [
    "data['floor_type'].value_counts().plot(kind='bar',grid=True, legend=True); "
   ]
  },
  {
   "cell_type": "code",
   "execution_count": 146,
   "metadata": {},
   "outputs": [
    {
     "data": {
      "text/plain": [
       "count      23329\n",
       "unique         3\n",
       "top       другой\n",
       "freq       17132\n",
       "Name: floor_type, dtype: object"
      ]
     },
     "execution_count": 146,
     "metadata": {},
     "output_type": "execute_result"
    }
   ],
   "source": [
    "data['floor_type'].describe() "
   ]
  },
  {
   "cell_type": "markdown",
   "metadata": {},
   "source": [
    "   В соответствии с графиком распределения типа этажей, большее количество относится к категории \"другой\"(более 16000), категория \"последний\" насчитывает 3000 позиций, а \"первый\" - около 3000. Использование метода describe() подтверждает, что есть 3 уникальных категории, топ занимает категория \"другой\" этаж, количество повторений - 17132."
   ]
  },
  {
   "cell_type": "code",
   "execution_count": 147,
   "metadata": {},
   "outputs": [
    {
     "data": {
      "image/png": "[encoded data removed]",
      "text/plain": [
       "<Figure size 432x288 with 1 Axes>"
      ]
     },
     "metadata": {
      "needs_background": "light"
     },
     "output_type": "display_data"
    }
   ],
   "source": [
    "data.plot(kind='hist',y='floors_total',bins=30,range=(0,30));"
   ]
  },
  {
   "cell_type": "code",
   "execution_count": 148,
   "metadata": {},
   "outputs": [
    {
     "data": {
      "text/plain": [
       "count   23,329.0\n",
       "mean        10.7\n",
       "std          6.6\n",
       "min          1.0\n",
       "25%          5.0\n",
       "50%          9.0\n",
       "75%         16.0\n",
       "max         60.0\n",
       "Name: floors_total, dtype: float64"
      ]
     },
     "execution_count": 148,
     "metadata": {},
     "output_type": "execute_result"
    }
   ],
   "source": [
    "data['floors_total'].describe() "
   ]
  },
  {
   "cell_type": "markdown",
   "metadata": {},
   "source": [
    "Проанализировав гистограмму распределения общего количества этажей, можно сделать вывод, что наиболее распространенное значение 5 и 10 этажей, аномальные значения - больше 25. Такие значения можно отнести к выбросам. Использование метода describe() подтверждает, что медиана в данном распределении находится на значении 9, а среднее значение 10,7. Стандартное отклонение показывает, что значения в выборке отклоняются от среднего на 6,6 единиц, следовательно выборка неоднородна, что еще раз подтверждает наличие выбросов в наборе данных."
   ]
  },
  {
   "cell_type": "code",
   "execution_count": 149,
   "metadata": {},
   "outputs": [
    {
     "data": {
      "image/png": "[encoded data removed]",
      "text/plain": [
       "<Figure size 432x288 with 1 Axes>"
      ]
     },
     "metadata": {
      "needs_background": "light"
     },
     "output_type": "display_data"
    }
   ],
   "source": [
    "\n",
    "data.plot(kind='hist',y='cityCenters_nearest',bins=50,range=(0,70000));"
   ]
  },
  {
   "cell_type": "code",
   "execution_count": 150,
   "metadata": {},
   "outputs": [
    {
     "data": {
      "text/plain": [
       "count   17,837.0\n",
       "mean    14,327.2\n",
       "std      8,579.9\n",
       "min        181.0\n",
       "25%      9,496.0\n",
       "50%     13,188.0\n",
       "75%     16,361.0\n",
       "max     65,968.0\n",
       "Name: cityCenters_nearest, dtype: float64"
      ]
     },
     "execution_count": 150,
     "metadata": {},
     "output_type": "execute_result"
    }
   ],
   "source": [
    "data['cityCenters_nearest'].describe()"
   ]
  },
  {
   "cell_type": "markdown",
   "metadata": {},
   "source": [
    "Проанализировав гистограмму распределения расстояния до цента, можно сделать вывод, что наиболее распространенное значение 15000 м, аномальные значения - больше 35000м. Такие значения можно отнести к выбросам. Использование метода describe() подтверждает, что медиана в данном распределении находится на значении 13188м, а среднее значение 14327. Стандартное отклонение показывает, что значения в выборке откланяются от среднего на 8379 единиц, следовательно выборка неоднородна, что еще раз подтверждает наличие выбросов в наборе данных."
   ]
  },
  {
   "cell_type": "code",
   "execution_count": 151,
   "metadata": {},
   "outputs": [
    {
     "data": {
      "image/png": "[encoded data removed]",
      "text/plain": [
       "<Figure size 432x288 with 1 Axes>"
      ]
     },
     "metadata": {
      "needs_background": "light"
     },
     "output_type": "display_data"
    }
   ],
   "source": [
    "data['airports_nearest'].astype(float)\n",
    "\n",
    "data.plot(kind='hist',y='airports_nearest',bins=50,range=(0,90000));\n"
   ]
  },
  {
   "cell_type": "code",
   "execution_count": 152,
   "metadata": {},
   "outputs": [
    {
     "data": {
      "text/plain": [
       "count   17,817.0\n",
       "mean    28,846.1\n",
       "std     12,698.5\n",
       "min          0.0\n",
       "25%     18,492.0\n",
       "50%     26,881.0\n",
       "75%     37,407.0\n",
       "max     84,869.0\n",
       "Name: airports_nearest, dtype: float64"
      ]
     },
     "execution_count": 152,
     "metadata": {},
     "output_type": "execute_result"
    }
   ],
   "source": [
    "data['airports_nearest'].describe()"
   ]
  },
  {
   "cell_type": "markdown",
   "metadata": {},
   "source": [
    "Вывод: Проанализировав гистограмму распределения расстояния до аэропорта, можно сделать вывод, что наиболее распространенное значение расстояния 18000 и 36000, аномальные значения - больше 60000 м. Такие значения можно отнести к выбросам. Использование метода describe() подтверждает, что медиана в данном распределении находится на значении 26881 м, а среднее значение 28846 м. Стандартное отклонение показывает, что значения в выборке откланяются от среднего на 12698 единиц, следовательно выборка неоднородна, что еще раз подтверждает наличие выбросов в наборе данных."
   ]
  },
  {
   "cell_type": "code",
   "execution_count": 153,
   "metadata": {
    "scrolled": true
   },
   "outputs": [
    {
     "data": {
      "image/png": "[encoded data removed]",
      "text/plain": [
       "<Figure size 432x288 with 1 Axes>"
      ]
     },
     "metadata": {
      "needs_background": "light"
     },
     "output_type": "display_data"
    }
   ],
   "source": [
    "#data = data.query('parks_nearest!=\" \"')\n",
    "data.plot(kind='hist',y='parks_nearest',bins=50,range=(0,3500));\n"
   ]
  },
  {
   "cell_type": "code",
   "execution_count": 154,
   "metadata": {},
   "outputs": [
    {
     "data": {
      "text/plain": [
       "count   7,848.0\n",
       "mean      492.6\n",
       "std       344.3\n",
       "min         1.0\n",
       "25%       288.0\n",
       "50%       456.0\n",
       "75%       614.0\n",
       "max     3,190.0\n",
       "Name: parks_nearest, dtype: float64"
      ]
     },
     "execution_count": 154,
     "metadata": {},
     "output_type": "execute_result"
    }
   ],
   "source": [
    "data['parks_nearest'].describe()"
   ]
  },
  {
   "cell_type": "markdown",
   "metadata": {},
   "source": [
    "Проанализировав гистограмму распределения расстояния до парков, можно сделать вывод, что наиболее распространенное значение расстояния до ближайшего парка 500м. Использование метода describe() подтверждает, что медиана в данном распределении находится на значении 456 м, а среднее значение 492 м. Стандартное отклонение показывает, что значения в выборке отклоняются от среднего на 345 единиц, следовательно выборка неоднородна, что еще раз подтверждает наличие выбросов в наборе данных."
   ]
  },
  {
   "cell_type": "code",
   "execution_count": 155,
   "metadata": {},
   "outputs": [
    {
     "data": {
      "image/png": "[encoded data removed]",
      "text/plain": [
       "<Figure size 432x288 with 1 Axes>"
      ]
     },
     "metadata": {
      "needs_background": "light"
     },
     "output_type": "display_data"
    },
    {
     "data": {
      "image/png": "[encoded data removed]",
      "text/plain": [
       "<Figure size 432x288 with 1 Axes>"
      ]
     },
     "metadata": {
      "needs_background": "light"
     },
     "output_type": "display_data"
    }
   ],
   "source": [
    "\n",
    "data.plot(kind='hist',y=['weekday']);\n",
    "data.plot(kind='hist',y=['month']);"
   ]
  },
  {
   "cell_type": "code",
   "execution_count": 156,
   "metadata": {
    "scrolled": true
   },
   "outputs": [
    {
     "data": {
      "text/plain": [
       "count   23,329.0\n",
       "mean         2.6\n",
       "std          1.8\n",
       "min          0.0\n",
       "25%          1.0\n",
       "50%          3.0\n",
       "75%          4.0\n",
       "max          6.0\n",
       "Name: weekday, dtype: float64"
      ]
     },
     "execution_count": 156,
     "metadata": {},
     "output_type": "execute_result"
    }
   ],
   "source": [
    "data['weekday'].describe()"
   ]
  },
  {
   "cell_type": "code",
   "execution_count": 157,
   "metadata": {},
   "outputs": [
    {
     "data": {
      "text/plain": [
       "count   23,329.0\n",
       "mean         6.4\n",
       "std          3.5\n",
       "min          1.0\n",
       "25%          3.0\n",
       "50%          6.0\n",
       "75%         10.0\n",
       "max         12.0\n",
       "Name: month, dtype: float64"
      ]
     },
     "execution_count": 157,
     "metadata": {},
     "output_type": "execute_result"
    }
   ],
   "source": [
    "data['month'].describe()"
   ]
  },
  {
   "cell_type": "markdown",
   "metadata": {},
   "source": [
    "По гистограммам распределения даты и месяца публикации объявления можно сделать вывод, что наиболее часто объявления о продаже появляются в будни и в январе, и декабре. Что подтверждает и использование метода describe. "
   ]
  },
  {
   "cell_type": "markdown",
   "metadata": {},
   "source": [
    "#### Изучение скорости продажи квартир"
   ]
  },
  {
   "cell_type": "code",
   "execution_count": 158,
   "metadata": {},
   "outputs": [
    {
     "data": {
      "image/png": "[encoded data removed]",
      "text/plain": [
       "<Figure size 432x288 with 1 Axes>"
      ]
     },
     "metadata": {
      "needs_background": "light"
     },
     "output_type": "display_data"
    }
   ],
   "source": [
    "data.plot(kind='hist',y='days_exposition');"
   ]
  },
  {
   "cell_type": "code",
   "execution_count": 159,
   "metadata": {},
   "outputs": [
    {
     "data": {
      "text/plain": [
       "count   20,242.0\n",
       "mean       179.5\n",
       "std        218.2\n",
       "min          1.0\n",
       "25%         45.0\n",
       "50%         95.0\n",
       "75%        229.0\n",
       "max      1,580.0\n",
       "Name: days_exposition, dtype: float64"
      ]
     },
     "execution_count": 159,
     "metadata": {},
     "output_type": "execute_result"
    }
   ],
   "source": [
    "data['days_exposition'].describe()"
   ]
  },
  {
   "cell_type": "markdown",
   "metadata": {},
   "source": [
    "Вывод: Проанализировав гистограмму распределения количества дней, в течении которых квартира находилась на продаже, можно сделать вывод, что к быстрым продажам можно отнести квартиры, проданные за период времени до 180 дней, к аномально долгим - от 1000 дней, т.е. 3 года и более. Такие значения можно отнести к выбросам. Использование метода describe() подтверждает, что медиана в данном распределении находится на значении 95 дней, а среднее значение 179 дней. Но стандартное отклонение очень велико, оно показывает, что значения в выборке откланяются от среднего на 218 единиц, следовательно выборка неоднородна, что еще раз подтверждает наличие выбросов в наборе данных."
   ]
  },
  {
   "cell_type": "markdown",
   "metadata": {},
   "source": [
    "#### Определение факторов, влияющих на стоимость \n"
   ]
  },
  {
   "cell_type": "code",
   "execution_count": 160,
   "metadata": {},
   "outputs": [
    {
     "data": {
      "image/png": "[encoded data removed]",
      "text/plain": [
       "<Figure size 432x288 with 1 Axes>"
      ]
     },
     "metadata": {
      "needs_background": "light"
     },
     "output_type": "display_data"
    }
   ],
   "source": [
    "data.plot(x='last_price_mln', y='total_area',kind='scatter');\n"
   ]
  },
  {
   "cell_type": "markdown",
   "metadata": {},
   "source": [
    "На данном графике можно увидеть наличие зависимости стоимости жилья от общей площади.Матрица корелляции подтверждает эту зависимость, коэффициент равен 0,7."
   ]
  },
  {
   "cell_type": "code",
   "execution_count": 161,
   "metadata": {},
   "outputs": [
    {
     "data": {
      "image/png": "[encoded data removed]",
      "text/plain": [
       "<Figure size 432x288 with 1 Axes>"
      ]
     },
     "metadata": {
      "needs_background": "light"
     },
     "output_type": "display_data"
    }
   ],
   "source": [
    "data.plot(x='last_price_mln', y='living_area', kind='scatter');"
   ]
  },
  {
   "cell_type": "markdown",
   "metadata": {},
   "source": [
    "На данном графике можно увидеть наличие зависимости стоимости жилья от жилой площади, хоть и менее выраженную.Матрица корелляции подтверждает эту зависимость, коэффициент равен 0,5."
   ]
  },
  {
   "cell_type": "code",
   "execution_count": 162,
   "metadata": {
    "scrolled": true
   },
   "outputs": [
    {
     "data": {
      "image/png": "[encoded data removed]",
      "text/plain": [
       "<Figure size 432x288 with 1 Axes>"
      ]
     },
     "metadata": {
      "needs_background": "light"
     },
     "output_type": "display_data"
    }
   ],
   "source": [
    "data.plot(x='last_price_mln', y='kitchen_area', kind='scatter');"
   ]
  },
  {
   "cell_type": "code",
   "execution_count": null,
   "metadata": {},
   "outputs": [],
   "source": []
  },
  {
   "cell_type": "markdown",
   "metadata": {},
   "source": [
    "На данном графике можно увидеть наличие зависимости стоимости жилья от площади кухни, хоть и еще менее выраженную.Матрица корелляции показывает коэффициент равный 0,5."
   ]
  },
  {
   "cell_type": "code",
   "execution_count": 163,
   "metadata": {},
   "outputs": [
    {
     "data": {
      "image/png": "[encoded data removed]",
      "text/plain": [
       "<Figure size 432x288 with 1 Axes>"
      ]
     },
     "metadata": {
      "needs_background": "light"
     },
     "output_type": "display_data"
    }
   ],
   "source": [
    "room_group = data.groupby('rooms')['last_price'].median()\n",
    "#группировка по количеству комнат с расчетом медианной цены для каждой группы\n",
    "room_group.plot(kind='bar',grid=True, legend=True);"
   ]
  },
  {
   "cell_type": "markdown",
   "metadata": {},
   "source": [
    "На данном графике можно увидеть наличие зависимости стоимости жилья от количества комнат, хоть в матрица корелляции показывает коэффициент равный 0.4, на графике мы видим рост цены."
   ]
  },
  {
   "cell_type": "code",
   "execution_count": 164,
   "metadata": {},
   "outputs": [
    {
     "data": {
      "text/html": [
       "<div>\n",
       "<style scoped>\n",
       "    .dataframe tbody tr th:only-of-type {\n",
       "        vertical-align: middle;\n",
       "    }\n",
       "\n",
       "    .dataframe tbody tr th {\n",
       "        vertical-align: top;\n",
       "    }\n",
       "\n",
       "    .dataframe thead th {\n",
       "        text-align: right;\n",
       "    }\n",
       "</style>\n",
       "<table border=\"1\" class=\"dataframe\">\n",
       "  <thead>\n",
       "    <tr style=\"text-align: right;\">\n",
       "      <th></th>\n",
       "      <th>last_price</th>\n",
       "      <th>total_area</th>\n",
       "      <th>living_area</th>\n",
       "      <th>kitchen_area</th>\n",
       "      <th>rooms</th>\n",
       "    </tr>\n",
       "  </thead>\n",
       "  <tbody>\n",
       "    <tr>\n",
       "      <th>last_price</th>\n",
       "      <td>1.0</td>\n",
       "      <td>0.7</td>\n",
       "      <td>0.5</td>\n",
       "      <td>0.5</td>\n",
       "      <td>0.4</td>\n",
       "    </tr>\n",
       "    <tr>\n",
       "      <th>total_area</th>\n",
       "      <td>0.7</td>\n",
       "      <td>1.0</td>\n",
       "      <td>0.8</td>\n",
       "      <td>0.5</td>\n",
       "      <td>0.8</td>\n",
       "    </tr>\n",
       "    <tr>\n",
       "      <th>living_area</th>\n",
       "      <td>0.5</td>\n",
       "      <td>0.8</td>\n",
       "      <td>1.0</td>\n",
       "      <td>0.4</td>\n",
       "      <td>0.7</td>\n",
       "    </tr>\n",
       "    <tr>\n",
       "      <th>kitchen_area</th>\n",
       "      <td>0.5</td>\n",
       "      <td>0.5</td>\n",
       "      <td>0.4</td>\n",
       "      <td>1.0</td>\n",
       "      <td>0.2</td>\n",
       "    </tr>\n",
       "    <tr>\n",
       "      <th>rooms</th>\n",
       "      <td>0.4</td>\n",
       "      <td>0.8</td>\n",
       "      <td>0.7</td>\n",
       "      <td>0.2</td>\n",
       "      <td>1.0</td>\n",
       "    </tr>\n",
       "  </tbody>\n",
       "</table>\n",
       "</div>"
      ],
      "text/plain": [
       "              last_price  total_area  living_area  kitchen_area  rooms\n",
       "last_price           1.0         0.7          0.5           0.5    0.4\n",
       "total_area           0.7         1.0          0.8           0.5    0.8\n",
       "living_area          0.5         0.8          1.0           0.4    0.7\n",
       "kitchen_area         0.5         0.5          0.4           1.0    0.2\n",
       "rooms                0.4         0.8          0.7           0.2    1.0"
      ]
     },
     "execution_count": 164,
     "metadata": {},
     "output_type": "execute_result"
    }
   ],
   "source": [
    "price_corr = data.loc[:,['last_price','total_area','living_area','kitchen_area','rooms']]\n",
    "price_corr.corr()"
   ]
  },
  {
   "cell_type": "code",
   "execution_count": 165,
   "metadata": {
    "scrolled": true
   },
   "outputs": [
    {
     "data": {
      "image/png": "[encoded data removed]",
      "text/plain": [
       "<Figure size 432x288 with 1 Axes>"
      ]
     },
     "metadata": {
      "needs_background": "light"
     },
     "output_type": "display_data"
    }
   ],
   "source": [
    "type_group = data.groupby('floor_type')['last_price'].median()#группировка по типу этажа с расчетом средней цены для каждой группы\n",
    "type_group.plot(kind='bar',grid=True, legend=True);"
   ]
  },
  {
   "cell_type": "markdown",
   "metadata": {},
   "source": [
    "На графике можно увидеть, что большой разницы в стоимости квартиры в зависимости от категории этажа нет. Данный фактор мало влияет на стоимость жилья."
   ]
  },
  {
   "cell_type": "code",
   "execution_count": 166,
   "metadata": {},
   "outputs": [
    {
     "data": {
      "image/png": "[encoded data removed]",
      "text/plain": [
       "<Figure size 432x288 with 1 Axes>"
      ]
     },
     "metadata": {
      "needs_background": "light"
     },
     "output_type": "display_data"
    }
   ],
   "source": [
    "weekday_group = data.groupby('weekday')['last_price'].median()\n",
    "weekday_group.plot(kind='bar',grid=True, legend=True);"
   ]
  },
  {
   "cell_type": "code",
   "execution_count": 167,
   "metadata": {},
   "outputs": [
    {
     "data": {
      "image/png": "[encoded data removed]",
      "text/plain": [
       "<Figure size 432x288 with 1 Axes>"
      ]
     },
     "metadata": {
      "needs_background": "light"
     },
     "output_type": "display_data"
    }
   ],
   "source": [
    "month_group = data.groupby('month')['last_price'].median()\n",
    "month_group.plot(kind='bar',grid=True, legend=True);"
   ]
  },
  {
   "cell_type": "code",
   "execution_count": 168,
   "metadata": {},
   "outputs": [
    {
     "data": {
      "image/png": "[encoded data removed]",
      "text/plain": [
       "<Figure size 432x288 with 1 Axes>"
      ]
     },
     "metadata": {
      "needs_background": "light"
     },
     "output_type": "display_data"
    }
   ],
   "source": [
    "year_group = data.groupby('year')['last_price'].median()\n",
    "year_group.plot(kind='bar',grid=True, legend=True);\n",
    "\n"
   ]
  },
  {
   "cell_type": "markdown",
   "metadata": {},
   "source": [
    "На графиках зависимости числа и месяца публикации объявления от медианной стоимости жилья связи между параметрами не выявлено. На графике с годом публикации объявления видно, что стоимость жилья в 2014 году была больше, чем в 2015-2019. В эти годы стоимость находилась примерно на одном уровне."
   ]
  },
  {
   "cell_type": "code",
   "execution_count": null,
   "metadata": {},
   "outputs": [],
   "source": []
  },
  {
   "cell_type": "markdown",
   "metadata": {},
   "source": [
    "#### Определение наибольшего количества объявлений"
   ]
  },
  {
   "cell_type": "code",
   "execution_count": null,
   "metadata": {},
   "outputs": [],
   "source": []
  },
  {
   "cell_type": "code",
   "execution_count": 169,
   "metadata": {},
   "outputs": [
    {
     "data": {
      "text/html": [
       "<div>\n",
       "<style scoped>\n",
       "    .dataframe tbody tr th:only-of-type {\n",
       "        vertical-align: middle;\n",
       "    }\n",
       "\n",
       "    .dataframe tbody tr th {\n",
       "        vertical-align: top;\n",
       "    }\n",
       "\n",
       "    .dataframe thead th {\n",
       "        text-align: right;\n",
       "    }\n",
       "</style>\n",
       "<table border=\"1\" class=\"dataframe\">\n",
       "  <thead>\n",
       "    <tr style=\"text-align: right;\">\n",
       "      <th></th>\n",
       "      <th>first_day_exposition</th>\n",
       "      <th>price_1_m</th>\n",
       "    </tr>\n",
       "    <tr>\n",
       "      <th>locality_name</th>\n",
       "      <th></th>\n",
       "      <th></th>\n",
       "    </tr>\n",
       "  </thead>\n",
       "  <tbody>\n",
       "    <tr>\n",
       "      <th>санкт-петербург</th>\n",
       "      <td>15393</td>\n",
       "      <td>113,139.3</td>\n",
       "    </tr>\n",
       "    <tr>\n",
       "      <th>поселок мурино</th>\n",
       "      <td>554</td>\n",
       "      <td>85,656.2</td>\n",
       "    </tr>\n",
       "    <tr>\n",
       "      <th>поселок шушары</th>\n",
       "      <td>440</td>\n",
       "      <td>78,677.4</td>\n",
       "    </tr>\n",
       "    <tr>\n",
       "      <th>всеволожск</th>\n",
       "      <td>397</td>\n",
       "      <td>68,719.3</td>\n",
       "    </tr>\n",
       "    <tr>\n",
       "      <th>пушкин</th>\n",
       "      <td>363</td>\n",
       "      <td>103,213.5</td>\n",
       "    </tr>\n",
       "    <tr>\n",
       "      <th>колпино</th>\n",
       "      <td>337</td>\n",
       "      <td>75,333.3</td>\n",
       "    </tr>\n",
       "    <tr>\n",
       "      <th>поселок парголово</th>\n",
       "      <td>326</td>\n",
       "      <td>90,332.3</td>\n",
       "    </tr>\n",
       "    <tr>\n",
       "      <th>гатчина</th>\n",
       "      <td>306</td>\n",
       "      <td>68,757.7</td>\n",
       "    </tr>\n",
       "    <tr>\n",
       "      <th>деревня кудрово</th>\n",
       "      <td>299</td>\n",
       "      <td>92,473.5</td>\n",
       "    </tr>\n",
       "    <tr>\n",
       "      <th>выборг</th>\n",
       "      <td>235</td>\n",
       "      <td>58,238.1</td>\n",
       "    </tr>\n",
       "  </tbody>\n",
       "</table>\n",
       "</div>"
      ],
      "text/plain": [
       "                   first_day_exposition  price_1_m\n",
       "locality_name                                     \n",
       "санкт-петербург                   15393  113,139.3\n",
       "поселок мурино                      554   85,656.2\n",
       "поселок шушары                      440   78,677.4\n",
       "всеволожск                          397   68,719.3\n",
       "пушкин                              363  103,213.5\n",
       "колпино                             337   75,333.3\n",
       "поселок парголово                   326   90,332.3\n",
       "гатчина                             306   68,757.7\n",
       "деревня кудрово                     299   92,473.5\n",
       "выборг                              235   58,238.1"
      ]
     },
     "execution_count": 169,
     "metadata": {},
     "output_type": "execute_result"
    }
   ],
   "source": [
    "\n",
    "locality = data.pivot_table(index='locality_name',values=['price_1_m','first_day_exposition'],\\\n",
    "                            aggfunc=({'price_1_m':'mean','first_day_exposition':'count'})).sort_values(by='first_day_exposition',ascending=False)\n",
    "\n",
    "locality.head(10)"
   ]
  },
  {
   "cell_type": "code",
   "execution_count": 170,
   "metadata": {},
   "outputs": [
    {
     "data": {
      "text/html": [
       "<div>\n",
       "<style scoped>\n",
       "    .dataframe tbody tr th:only-of-type {\n",
       "        vertical-align: middle;\n",
       "    }\n",
       "\n",
       "    .dataframe tbody tr th {\n",
       "        vertical-align: top;\n",
       "    }\n",
       "\n",
       "    .dataframe thead th {\n",
       "        text-align: right;\n",
       "    }\n",
       "</style>\n",
       "<table border=\"1\" class=\"dataframe\">\n",
       "  <thead>\n",
       "    <tr style=\"text-align: right;\">\n",
       "      <th></th>\n",
       "      <th>first_day_exposition</th>\n",
       "      <th>price_1_m</th>\n",
       "    </tr>\n",
       "    <tr>\n",
       "      <th>locality_name</th>\n",
       "      <th></th>\n",
       "      <th></th>\n",
       "    </tr>\n",
       "  </thead>\n",
       "  <tbody>\n",
       "    <tr>\n",
       "      <th>деревня старополье</th>\n",
       "      <td>3</td>\n",
       "      <td>11,206.2</td>\n",
       "    </tr>\n",
       "    <tr>\n",
       "      <th>поселок станции свирь</th>\n",
       "      <td>2</td>\n",
       "      <td>11,481.5</td>\n",
       "    </tr>\n",
       "    <tr>\n",
       "      <th>деревня вахнова кара</th>\n",
       "      <td>1</td>\n",
       "      <td>11,688.3</td>\n",
       "    </tr>\n",
       "    <tr>\n",
       "      <th>деревня выскатка</th>\n",
       "      <td>2</td>\n",
       "      <td>12,335.5</td>\n",
       "    </tr>\n",
       "    <tr>\n",
       "      <th>поселок совхозный</th>\n",
       "      <td>2</td>\n",
       "      <td>12,629.1</td>\n",
       "    </tr>\n",
       "    <tr>\n",
       "      <th>...</th>\n",
       "      <td>...</td>\n",
       "      <td>...</td>\n",
       "    </tr>\n",
       "    <tr>\n",
       "      <th>сестрорецк</th>\n",
       "      <td>182</td>\n",
       "      <td>101,912.3</td>\n",
       "    </tr>\n",
       "    <tr>\n",
       "      <th>пушкин</th>\n",
       "      <td>363</td>\n",
       "      <td>103,213.5</td>\n",
       "    </tr>\n",
       "    <tr>\n",
       "      <th>поселок репино</th>\n",
       "      <td>4</td>\n",
       "      <td>104,238.6</td>\n",
       "    </tr>\n",
       "    <tr>\n",
       "      <th>санкт-петербург</th>\n",
       "      <td>15393</td>\n",
       "      <td>113,139.3</td>\n",
       "    </tr>\n",
       "    <tr>\n",
       "      <th>зеленогорск</th>\n",
       "      <td>24</td>\n",
       "      <td>115,122.8</td>\n",
       "    </tr>\n",
       "  </tbody>\n",
       "</table>\n",
       "<p>337 rows × 2 columns</p>\n",
       "</div>"
      ],
      "text/plain": [
       "                       first_day_exposition  price_1_m\n",
       "locality_name                                         \n",
       "деревня старополье                        3   11,206.2\n",
       "поселок станции свирь                     2   11,481.5\n",
       "деревня вахнова кара                      1   11,688.3\n",
       "деревня выскатка                          2   12,335.5\n",
       "поселок совхозный                         2   12,629.1\n",
       "...                                     ...        ...\n",
       "сестрорецк                              182  101,912.3\n",
       "пушкин                                  363  103,213.5\n",
       "поселок репино                            4  104,238.6\n",
       "санкт-петербург                       15393  113,139.3\n",
       "зеленогорск                              24  115,122.8\n",
       "\n",
       "[337 rows x 2 columns]"
      ]
     },
     "execution_count": 170,
     "metadata": {},
     "output_type": "execute_result"
    }
   ],
   "source": [
    "locality.sort_values(by='price_1_m')#минимальная цена"
   ]
  },
  {
   "cell_type": "code",
   "execution_count": 171,
   "metadata": {},
   "outputs": [
    {
     "data": {
      "text/html": [
       "<div>\n",
       "<style scoped>\n",
       "    .dataframe tbody tr th:only-of-type {\n",
       "        vertical-align: middle;\n",
       "    }\n",
       "\n",
       "    .dataframe tbody tr th {\n",
       "        vertical-align: top;\n",
       "    }\n",
       "\n",
       "    .dataframe thead th {\n",
       "        text-align: right;\n",
       "    }\n",
       "</style>\n",
       "<table border=\"1\" class=\"dataframe\">\n",
       "  <thead>\n",
       "    <tr style=\"text-align: right;\">\n",
       "      <th></th>\n",
       "      <th>first_day_exposition</th>\n",
       "      <th>price_1_m</th>\n",
       "    </tr>\n",
       "    <tr>\n",
       "      <th>locality_name</th>\n",
       "      <th></th>\n",
       "      <th></th>\n",
       "    </tr>\n",
       "  </thead>\n",
       "  <tbody>\n",
       "    <tr>\n",
       "      <th>зеленогорск</th>\n",
       "      <td>24</td>\n",
       "      <td>115,122.8</td>\n",
       "    </tr>\n",
       "    <tr>\n",
       "      <th>санкт-петербург</th>\n",
       "      <td>15393</td>\n",
       "      <td>113,139.3</td>\n",
       "    </tr>\n",
       "    <tr>\n",
       "      <th>поселок репино</th>\n",
       "      <td>4</td>\n",
       "      <td>104,238.6</td>\n",
       "    </tr>\n",
       "    <tr>\n",
       "      <th>пушкин</th>\n",
       "      <td>363</td>\n",
       "      <td>103,213.5</td>\n",
       "    </tr>\n",
       "    <tr>\n",
       "      <th>сестрорецк</th>\n",
       "      <td>182</td>\n",
       "      <td>101,912.3</td>\n",
       "    </tr>\n",
       "    <tr>\n",
       "      <th>...</th>\n",
       "      <td>...</td>\n",
       "      <td>...</td>\n",
       "    </tr>\n",
       "    <tr>\n",
       "      <th>поселок совхозный</th>\n",
       "      <td>2</td>\n",
       "      <td>12,629.1</td>\n",
       "    </tr>\n",
       "    <tr>\n",
       "      <th>деревня выскатка</th>\n",
       "      <td>2</td>\n",
       "      <td>12,335.5</td>\n",
       "    </tr>\n",
       "    <tr>\n",
       "      <th>деревня вахнова кара</th>\n",
       "      <td>1</td>\n",
       "      <td>11,688.3</td>\n",
       "    </tr>\n",
       "    <tr>\n",
       "      <th>поселок станции свирь</th>\n",
       "      <td>2</td>\n",
       "      <td>11,481.5</td>\n",
       "    </tr>\n",
       "    <tr>\n",
       "      <th>деревня старополье</th>\n",
       "      <td>3</td>\n",
       "      <td>11,206.2</td>\n",
       "    </tr>\n",
       "  </tbody>\n",
       "</table>\n",
       "<p>337 rows × 2 columns</p>\n",
       "</div>"
      ],
      "text/plain": [
       "                       first_day_exposition  price_1_m\n",
       "locality_name                                         \n",
       "зеленогорск                              24  115,122.8\n",
       "санкт-петербург                       15393  113,139.3\n",
       "поселок репино                            4  104,238.6\n",
       "пушкин                                  363  103,213.5\n",
       "сестрорецк                              182  101,912.3\n",
       "...                                     ...        ...\n",
       "поселок совхозный                         2   12,629.1\n",
       "деревня выскатка                          2   12,335.5\n",
       "деревня вахнова кара                      1   11,688.3\n",
       "поселок станции свирь                     2   11,481.5\n",
       "деревня старополье                        3   11,206.2\n",
       "\n",
       "[337 rows x 2 columns]"
      ]
     },
     "execution_count": 171,
     "metadata": {},
     "output_type": "execute_result"
    }
   ],
   "source": [
    "locality.sort_values(by='price_1_m',ascending=False)#максимальная цена"
   ]
  },
  {
   "cell_type": "markdown",
   "metadata": {},
   "source": [
    "#### Стоимость квартир в Санкт-Петербурге в зависимости от расстояния от центра"
   ]
  },
  {
   "cell_type": "code",
   "execution_count": 172,
   "metadata": {
    "scrolled": true
   },
   "outputs": [
    {
     "data": {
      "text/html": [
       "<div>\n",
       "<style scoped>\n",
       "    .dataframe tbody tr th:only-of-type {\n",
       "        vertical-align: middle;\n",
       "    }\n",
       "\n",
       "    .dataframe tbody tr th {\n",
       "        vertical-align: top;\n",
       "    }\n",
       "\n",
       "    .dataframe thead th {\n",
       "        text-align: right;\n",
       "    }\n",
       "</style>\n",
       "<table border=\"1\" class=\"dataframe\">\n",
       "  <thead>\n",
       "    <tr style=\"text-align: right;\">\n",
       "      <th></th>\n",
       "      <th>total_images</th>\n",
       "      <th>last_price</th>\n",
       "      <th>total_area</th>\n",
       "      <th>first_day_exposition</th>\n",
       "      <th>rooms</th>\n",
       "      <th>ceiling_height</th>\n",
       "      <th>floors_total</th>\n",
       "      <th>living_area</th>\n",
       "      <th>floor</th>\n",
       "      <th>is_apartment</th>\n",
       "      <th>studio</th>\n",
       "      <th>open_plan</th>\n",
       "      <th>kitchen_area</th>\n",
       "      <th>balcony</th>\n",
       "      <th>locality_name</th>\n",
       "      <th>airports_nearest</th>\n",
       "      <th>cityCenters_nearest</th>\n",
       "      <th>parks_around3000</th>\n",
       "      <th>parks_nearest</th>\n",
       "      <th>ponds_around3000</th>\n",
       "      <th>ponds_nearest</th>\n",
       "      <th>days_exposition</th>\n",
       "      <th>price_1_m</th>\n",
       "      <th>weekday</th>\n",
       "      <th>month</th>\n",
       "      <th>year</th>\n",
       "      <th>floor_type</th>\n",
       "      <th>cityCenters_nearest_km</th>\n",
       "      <th>last_price_mln</th>\n",
       "    </tr>\n",
       "  </thead>\n",
       "  <tbody>\n",
       "    <tr>\n",
       "      <th>0</th>\n",
       "      <td>20</td>\n",
       "      <td>13,000,000.0</td>\n",
       "      <td>108.0</td>\n",
       "      <td>2019-03-07</td>\n",
       "      <td>3</td>\n",
       "      <td>2.7</td>\n",
       "      <td>16.0</td>\n",
       "      <td>51.0</td>\n",
       "      <td>8</td>\n",
       "      <td>False</td>\n",
       "      <td>False</td>\n",
       "      <td>False</td>\n",
       "      <td>25.0</td>\n",
       "      <td>0.0</td>\n",
       "      <td>санкт-петербург</td>\n",
       "      <td>18,863.0</td>\n",
       "      <td>16,028.0</td>\n",
       "      <td>1.0</td>\n",
       "      <td>482.0</td>\n",
       "      <td>2.0</td>\n",
       "      <td>755.0</td>\n",
       "      <td>NaN</td>\n",
       "      <td>120,370.4</td>\n",
       "      <td>3</td>\n",
       "      <td>3</td>\n",
       "      <td>2019</td>\n",
       "      <td>другой</td>\n",
       "      <td>16.0</td>\n",
       "      <td>13.0</td>\n",
       "    </tr>\n",
       "    <tr>\n",
       "      <th>2</th>\n",
       "      <td>10</td>\n",
       "      <td>5,196,000.0</td>\n",
       "      <td>56.0</td>\n",
       "      <td>2015-08-20</td>\n",
       "      <td>2</td>\n",
       "      <td>2.8</td>\n",
       "      <td>5.0</td>\n",
       "      <td>34.3</td>\n",
       "      <td>4</td>\n",
       "      <td>False</td>\n",
       "      <td>False</td>\n",
       "      <td>False</td>\n",
       "      <td>8.3</td>\n",
       "      <td>0.0</td>\n",
       "      <td>санкт-петербург</td>\n",
       "      <td>21,741.0</td>\n",
       "      <td>13,933.0</td>\n",
       "      <td>1.0</td>\n",
       "      <td>90.0</td>\n",
       "      <td>2.0</td>\n",
       "      <td>574.0</td>\n",
       "      <td>558.0</td>\n",
       "      <td>92,785.7</td>\n",
       "      <td>3</td>\n",
       "      <td>8</td>\n",
       "      <td>2015</td>\n",
       "      <td>другой</td>\n",
       "      <td>14.0</td>\n",
       "      <td>5.2</td>\n",
       "    </tr>\n",
       "    <tr>\n",
       "      <th>3</th>\n",
       "      <td>0</td>\n",
       "      <td>64,900,000.0</td>\n",
       "      <td>159.0</td>\n",
       "      <td>2015-07-24</td>\n",
       "      <td>3</td>\n",
       "      <td>2.8</td>\n",
       "      <td>14.0</td>\n",
       "      <td>0.6</td>\n",
       "      <td>9</td>\n",
       "      <td>False</td>\n",
       "      <td>False</td>\n",
       "      <td>False</td>\n",
       "      <td>0.3</td>\n",
       "      <td>0.0</td>\n",
       "      <td>санкт-петербург</td>\n",
       "      <td>28,098.0</td>\n",
       "      <td>6,800.0</td>\n",
       "      <td>2.0</td>\n",
       "      <td>84.0</td>\n",
       "      <td>3.0</td>\n",
       "      <td>234.0</td>\n",
       "      <td>424.0</td>\n",
       "      <td>408,176.1</td>\n",
       "      <td>4</td>\n",
       "      <td>7</td>\n",
       "      <td>2015</td>\n",
       "      <td>другой</td>\n",
       "      <td>7.0</td>\n",
       "      <td>64.9</td>\n",
       "    </tr>\n",
       "    <tr>\n",
       "      <th>4</th>\n",
       "      <td>2</td>\n",
       "      <td>10,000,000.0</td>\n",
       "      <td>100.0</td>\n",
       "      <td>2018-06-19</td>\n",
       "      <td>2</td>\n",
       "      <td>3.0</td>\n",
       "      <td>14.0</td>\n",
       "      <td>32.0</td>\n",
       "      <td>13</td>\n",
       "      <td>False</td>\n",
       "      <td>False</td>\n",
       "      <td>False</td>\n",
       "      <td>41.0</td>\n",
       "      <td>0.0</td>\n",
       "      <td>санкт-петербург</td>\n",
       "      <td>31,856.0</td>\n",
       "      <td>8,098.0</td>\n",
       "      <td>2.0</td>\n",
       "      <td>112.0</td>\n",
       "      <td>1.0</td>\n",
       "      <td>48.0</td>\n",
       "      <td>121.0</td>\n",
       "      <td>100,000.0</td>\n",
       "      <td>1</td>\n",
       "      <td>6</td>\n",
       "      <td>2018</td>\n",
       "      <td>другой</td>\n",
       "      <td>8.0</td>\n",
       "      <td>10.0</td>\n",
       "    </tr>\n",
       "    <tr>\n",
       "      <th>7</th>\n",
       "      <td>5</td>\n",
       "      <td>7,915,000.0</td>\n",
       "      <td>71.6</td>\n",
       "      <td>2019-04-18</td>\n",
       "      <td>2</td>\n",
       "      <td>2.8</td>\n",
       "      <td>24.0</td>\n",
       "      <td>0.6</td>\n",
       "      <td>22</td>\n",
       "      <td>False</td>\n",
       "      <td>False</td>\n",
       "      <td>False</td>\n",
       "      <td>18.9</td>\n",
       "      <td>2.0</td>\n",
       "      <td>санкт-петербург</td>\n",
       "      <td>23,982.0</td>\n",
       "      <td>11,634.0</td>\n",
       "      <td>0.0</td>\n",
       "      <td>NaN</td>\n",
       "      <td>0.0</td>\n",
       "      <td>NaN</td>\n",
       "      <td>NaN</td>\n",
       "      <td>110,544.7</td>\n",
       "      <td>3</td>\n",
       "      <td>4</td>\n",
       "      <td>2019</td>\n",
       "      <td>другой</td>\n",
       "      <td>12.0</td>\n",
       "      <td>7.9</td>\n",
       "    </tr>\n",
       "    <tr>\n",
       "      <th>...</th>\n",
       "      <td>...</td>\n",
       "      <td>...</td>\n",
       "      <td>...</td>\n",
       "      <td>...</td>\n",
       "      <td>...</td>\n",
       "      <td>...</td>\n",
       "      <td>...</td>\n",
       "      <td>...</td>\n",
       "      <td>...</td>\n",
       "      <td>...</td>\n",
       "      <td>...</td>\n",
       "      <td>...</td>\n",
       "      <td>...</td>\n",
       "      <td>...</td>\n",
       "      <td>...</td>\n",
       "      <td>...</td>\n",
       "      <td>...</td>\n",
       "      <td>...</td>\n",
       "      <td>...</td>\n",
       "      <td>...</td>\n",
       "      <td>...</td>\n",
       "      <td>...</td>\n",
       "      <td>...</td>\n",
       "      <td>...</td>\n",
       "      <td>...</td>\n",
       "      <td>...</td>\n",
       "      <td>...</td>\n",
       "      <td>...</td>\n",
       "      <td>...</td>\n",
       "    </tr>\n",
       "    <tr>\n",
       "      <th>23689</th>\n",
       "      <td>13</td>\n",
       "      <td>3,550,000.0</td>\n",
       "      <td>35.3</td>\n",
       "      <td>2018-02-28</td>\n",
       "      <td>1</td>\n",
       "      <td>2.9</td>\n",
       "      <td>15.0</td>\n",
       "      <td>16.3</td>\n",
       "      <td>4</td>\n",
       "      <td>False</td>\n",
       "      <td>False</td>\n",
       "      <td>False</td>\n",
       "      <td>9.1</td>\n",
       "      <td>2.0</td>\n",
       "      <td>санкт-петербург</td>\n",
       "      <td>17,284.0</td>\n",
       "      <td>16,081.0</td>\n",
       "      <td>1.0</td>\n",
       "      <td>353.0</td>\n",
       "      <td>2.0</td>\n",
       "      <td>652.0</td>\n",
       "      <td>29.0</td>\n",
       "      <td>100,566.6</td>\n",
       "      <td>2</td>\n",
       "      <td>2</td>\n",
       "      <td>2018</td>\n",
       "      <td>другой</td>\n",
       "      <td>16.0</td>\n",
       "      <td>3.5</td>\n",
       "    </tr>\n",
       "    <tr>\n",
       "      <th>23690</th>\n",
       "      <td>3</td>\n",
       "      <td>5,500,000.0</td>\n",
       "      <td>52.0</td>\n",
       "      <td>2018-07-19</td>\n",
       "      <td>2</td>\n",
       "      <td>2.8</td>\n",
       "      <td>5.0</td>\n",
       "      <td>31.0</td>\n",
       "      <td>2</td>\n",
       "      <td>False</td>\n",
       "      <td>False</td>\n",
       "      <td>False</td>\n",
       "      <td>6.0</td>\n",
       "      <td>0.0</td>\n",
       "      <td>санкт-петербург</td>\n",
       "      <td>20,151.0</td>\n",
       "      <td>6,263.0</td>\n",
       "      <td>1.0</td>\n",
       "      <td>300.0</td>\n",
       "      <td>0.0</td>\n",
       "      <td>NaN</td>\n",
       "      <td>15.0</td>\n",
       "      <td>105,769.2</td>\n",
       "      <td>3</td>\n",
       "      <td>7</td>\n",
       "      <td>2018</td>\n",
       "      <td>другой</td>\n",
       "      <td>6.0</td>\n",
       "      <td>5.5</td>\n",
       "    </tr>\n",
       "    <tr>\n",
       "      <th>23691</th>\n",
       "      <td>11</td>\n",
       "      <td>9,470,000.0</td>\n",
       "      <td>72.9</td>\n",
       "      <td>2016-10-13</td>\n",
       "      <td>2</td>\n",
       "      <td>2.8</td>\n",
       "      <td>25.0</td>\n",
       "      <td>40.3</td>\n",
       "      <td>7</td>\n",
       "      <td>False</td>\n",
       "      <td>False</td>\n",
       "      <td>False</td>\n",
       "      <td>10.6</td>\n",
       "      <td>1.0</td>\n",
       "      <td>санкт-петербург</td>\n",
       "      <td>19,424.0</td>\n",
       "      <td>4,489.0</td>\n",
       "      <td>0.0</td>\n",
       "      <td>NaN</td>\n",
       "      <td>1.0</td>\n",
       "      <td>806.0</td>\n",
       "      <td>519.0</td>\n",
       "      <td>129,904.0</td>\n",
       "      <td>3</td>\n",
       "      <td>10</td>\n",
       "      <td>2016</td>\n",
       "      <td>другой</td>\n",
       "      <td>4.0</td>\n",
       "      <td>9.5</td>\n",
       "    </tr>\n",
       "    <tr>\n",
       "      <th>23694</th>\n",
       "      <td>9</td>\n",
       "      <td>9,700,000.0</td>\n",
       "      <td>133.8</td>\n",
       "      <td>2017-03-21</td>\n",
       "      <td>3</td>\n",
       "      <td>3.7</td>\n",
       "      <td>5.0</td>\n",
       "      <td>73.3</td>\n",
       "      <td>3</td>\n",
       "      <td>False</td>\n",
       "      <td>False</td>\n",
       "      <td>False</td>\n",
       "      <td>13.8</td>\n",
       "      <td>0.0</td>\n",
       "      <td>санкт-петербург</td>\n",
       "      <td>24,665.0</td>\n",
       "      <td>4,232.0</td>\n",
       "      <td>1.0</td>\n",
       "      <td>796.0</td>\n",
       "      <td>3.0</td>\n",
       "      <td>381.0</td>\n",
       "      <td>NaN</td>\n",
       "      <td>72,490.8</td>\n",
       "      <td>1</td>\n",
       "      <td>3</td>\n",
       "      <td>2017</td>\n",
       "      <td>другой</td>\n",
       "      <td>4.0</td>\n",
       "      <td>9.7</td>\n",
       "    </tr>\n",
       "    <tr>\n",
       "      <th>23697</th>\n",
       "      <td>13</td>\n",
       "      <td>11,475,000.0</td>\n",
       "      <td>76.8</td>\n",
       "      <td>2017-03-28</td>\n",
       "      <td>2</td>\n",
       "      <td>3.0</td>\n",
       "      <td>17.0</td>\n",
       "      <td>0.6</td>\n",
       "      <td>12</td>\n",
       "      <td>False</td>\n",
       "      <td>False</td>\n",
       "      <td>False</td>\n",
       "      <td>23.3</td>\n",
       "      <td>2.0</td>\n",
       "      <td>санкт-петербург</td>\n",
       "      <td>39,140.0</td>\n",
       "      <td>10,364.0</td>\n",
       "      <td>2.0</td>\n",
       "      <td>173.0</td>\n",
       "      <td>3.0</td>\n",
       "      <td>196.0</td>\n",
       "      <td>602.0</td>\n",
       "      <td>149,511.4</td>\n",
       "      <td>1</td>\n",
       "      <td>3</td>\n",
       "      <td>2017</td>\n",
       "      <td>другой</td>\n",
       "      <td>10.0</td>\n",
       "      <td>11.5</td>\n",
       "    </tr>\n",
       "  </tbody>\n",
       "</table>\n",
       "<p>15393 rows × 29 columns</p>\n",
       "</div>"
      ],
      "text/plain": [
       "       total_images   last_price  total_area first_day_exposition  rooms  \\\n",
       "0                20 13,000,000.0       108.0           2019-03-07      3   \n",
       "2                10  5,196,000.0        56.0           2015-08-20      2   \n",
       "3                 0 64,900,000.0       159.0           2015-07-24      3   \n",
       "4                 2 10,000,000.0       100.0           2018-06-19      2   \n",
       "7                 5  7,915,000.0        71.6           2019-04-18      2   \n",
       "...             ...          ...         ...                  ...    ...   \n",
       "23689            13  3,550,000.0        35.3           2018-02-28      1   \n",
       "23690             3  5,500,000.0        52.0           2018-07-19      2   \n",
       "23691            11  9,470,000.0        72.9           2016-10-13      2   \n",
       "23694             9  9,700,000.0       133.8           2017-03-21      3   \n",
       "23697            13 11,475,000.0        76.8           2017-03-28      2   \n",
       "\n",
       "       ceiling_height  floors_total  living_area  floor is_apartment  studio  \\\n",
       "0                 2.7          16.0         51.0      8        False   False   \n",
       "2                 2.8           5.0         34.3      4        False   False   \n",
       "3                 2.8          14.0          0.6      9        False   False   \n",
       "4                 3.0          14.0         32.0     13        False   False   \n",
       "7                 2.8          24.0          0.6     22        False   False   \n",
       "...               ...           ...          ...    ...          ...     ...   \n",
       "23689             2.9          15.0         16.3      4        False   False   \n",
       "23690             2.8           5.0         31.0      2        False   False   \n",
       "23691             2.8          25.0         40.3      7        False   False   \n",
       "23694             3.7           5.0         73.3      3        False   False   \n",
       "23697             3.0          17.0          0.6     12        False   False   \n",
       "\n",
       "       open_plan  kitchen_area  balcony    locality_name  airports_nearest  \\\n",
       "0          False          25.0      0.0  санкт-петербург          18,863.0   \n",
       "2          False           8.3      0.0  санкт-петербург          21,741.0   \n",
       "3          False           0.3      0.0  санкт-петербург          28,098.0   \n",
       "4          False          41.0      0.0  санкт-петербург          31,856.0   \n",
       "7          False          18.9      2.0  санкт-петербург          23,982.0   \n",
       "...          ...           ...      ...              ...               ...   \n",
       "23689      False           9.1      2.0  санкт-петербург          17,284.0   \n",
       "23690      False           6.0      0.0  санкт-петербург          20,151.0   \n",
       "23691      False          10.6      1.0  санкт-петербург          19,424.0   \n",
       "23694      False          13.8      0.0  санкт-петербург          24,665.0   \n",
       "23697      False          23.3      2.0  санкт-петербург          39,140.0   \n",
       "\n",
       "       cityCenters_nearest  parks_around3000  parks_nearest  ponds_around3000  \\\n",
       "0                 16,028.0               1.0          482.0               2.0   \n",
       "2                 13,933.0               1.0           90.0               2.0   \n",
       "3                  6,800.0               2.0           84.0               3.0   \n",
       "4                  8,098.0               2.0          112.0               1.0   \n",
       "7                 11,634.0               0.0            NaN               0.0   \n",
       "...                    ...               ...            ...               ...   \n",
       "23689             16,081.0               1.0          353.0               2.0   \n",
       "23690              6,263.0               1.0          300.0               0.0   \n",
       "23691              4,489.0               0.0            NaN               1.0   \n",
       "23694              4,232.0               1.0          796.0               3.0   \n",
       "23697             10,364.0               2.0          173.0               3.0   \n",
       "\n",
       "       ponds_nearest  days_exposition  price_1_m  weekday  month  year  \\\n",
       "0              755.0              NaN  120,370.4        3      3  2019   \n",
       "2              574.0            558.0   92,785.7        3      8  2015   \n",
       "3              234.0            424.0  408,176.1        4      7  2015   \n",
       "4               48.0            121.0  100,000.0        1      6  2018   \n",
       "7                NaN              NaN  110,544.7        3      4  2019   \n",
       "...              ...              ...        ...      ...    ...   ...   \n",
       "23689          652.0             29.0  100,566.6        2      2  2018   \n",
       "23690            NaN             15.0  105,769.2        3      7  2018   \n",
       "23691          806.0            519.0  129,904.0        3     10  2016   \n",
       "23694          381.0              NaN   72,490.8        1      3  2017   \n",
       "23697          196.0            602.0  149,511.4        1      3  2017   \n",
       "\n",
       "      floor_type  cityCenters_nearest_km  last_price_mln  \n",
       "0         другой                    16.0            13.0  \n",
       "2         другой                    14.0             5.2  \n",
       "3         другой                     7.0            64.9  \n",
       "4         другой                     8.0            10.0  \n",
       "7         другой                    12.0             7.9  \n",
       "...          ...                     ...             ...  \n",
       "23689     другой                    16.0             3.5  \n",
       "23690     другой                     6.0             5.5  \n",
       "23691     другой                     4.0             9.5  \n",
       "23694     другой                     4.0             9.7  \n",
       "23697     другой                    10.0            11.5  \n",
       "\n",
       "[15393 rows x 29 columns]"
      ]
     },
     "execution_count": 172,
     "metadata": {},
     "output_type": "execute_result"
    }
   ],
   "source": [
    "sp_flat = data.query('locality_name==\"санкт-петербург\"')\n",
    "sp_flat"
   ]
  },
  {
   "cell_type": "code",
   "execution_count": 173,
   "metadata": {},
   "outputs": [
    {
     "data": {
      "text/html": [
       "<div>\n",
       "<style scoped>\n",
       "    .dataframe tbody tr th:only-of-type {\n",
       "        vertical-align: middle;\n",
       "    }\n",
       "\n",
       "    .dataframe tbody tr th {\n",
       "        vertical-align: top;\n",
       "    }\n",
       "\n",
       "    .dataframe thead th {\n",
       "        text-align: right;\n",
       "    }\n",
       "</style>\n",
       "<table border=\"1\" class=\"dataframe\">\n",
       "  <thead>\n",
       "    <tr style=\"text-align: right;\">\n",
       "      <th></th>\n",
       "      <th>price_1_m</th>\n",
       "      <th>km</th>\n",
       "    </tr>\n",
       "    <tr>\n",
       "      <th>cityCenters_nearest_km</th>\n",
       "      <th></th>\n",
       "      <th></th>\n",
       "    </tr>\n",
       "  </thead>\n",
       "  <tbody>\n",
       "    <tr>\n",
       "      <th>0.0</th>\n",
       "      <td>224,886.0</td>\n",
       "      <td>0.0</td>\n",
       "    </tr>\n",
       "    <tr>\n",
       "      <th>1.0</th>\n",
       "      <td>149,362.6</td>\n",
       "      <td>1.0</td>\n",
       "    </tr>\n",
       "    <tr>\n",
       "      <th>2.0</th>\n",
       "      <td>147,414.9</td>\n",
       "      <td>2.0</td>\n",
       "    </tr>\n",
       "    <tr>\n",
       "      <th>3.0</th>\n",
       "      <td>121,445.5</td>\n",
       "      <td>3.0</td>\n",
       "    </tr>\n",
       "    <tr>\n",
       "      <th>4.0</th>\n",
       "      <td>128,318.2</td>\n",
       "      <td>4.0</td>\n",
       "    </tr>\n",
       "    <tr>\n",
       "      <th>5.0</th>\n",
       "      <td>137,724.8</td>\n",
       "      <td>5.0</td>\n",
       "    </tr>\n",
       "    <tr>\n",
       "      <th>6.0</th>\n",
       "      <td>145,713.6</td>\n",
       "      <td>6.0</td>\n",
       "    </tr>\n",
       "    <tr>\n",
       "      <th>7.0</th>\n",
       "      <td>153,373.7</td>\n",
       "      <td>7.0</td>\n",
       "    </tr>\n",
       "    <tr>\n",
       "      <th>8.0</th>\n",
       "      <td>124,103.2</td>\n",
       "      <td>8.0</td>\n",
       "    </tr>\n",
       "    <tr>\n",
       "      <th>9.0</th>\n",
       "      <td>113,071.6</td>\n",
       "      <td>9.0</td>\n",
       "    </tr>\n",
       "    <tr>\n",
       "      <th>10.0</th>\n",
       "      <td>112,849.8</td>\n",
       "      <td>10.0</td>\n",
       "    </tr>\n",
       "    <tr>\n",
       "      <th>11.0</th>\n",
       "      <td>108,652.0</td>\n",
       "      <td>11.0</td>\n",
       "    </tr>\n",
       "    <tr>\n",
       "      <th>12.0</th>\n",
       "      <td>107,538.0</td>\n",
       "      <td>12.0</td>\n",
       "    </tr>\n",
       "    <tr>\n",
       "      <th>13.0</th>\n",
       "      <td>108,176.4</td>\n",
       "      <td>13.0</td>\n",
       "    </tr>\n",
       "    <tr>\n",
       "      <th>14.0</th>\n",
       "      <td>104,279.7</td>\n",
       "      <td>14.0</td>\n",
       "    </tr>\n",
       "    <tr>\n",
       "      <th>15.0</th>\n",
       "      <td>104,290.8</td>\n",
       "      <td>15.0</td>\n",
       "    </tr>\n",
       "    <tr>\n",
       "      <th>16.0</th>\n",
       "      <td>100,584.2</td>\n",
       "      <td>16.0</td>\n",
       "    </tr>\n",
       "    <tr>\n",
       "      <th>17.0</th>\n",
       "      <td>96,650.6</td>\n",
       "      <td>17.0</td>\n",
       "    </tr>\n",
       "    <tr>\n",
       "      <th>18.0</th>\n",
       "      <td>96,409.6</td>\n",
       "      <td>18.0</td>\n",
       "    </tr>\n",
       "    <tr>\n",
       "      <th>19.0</th>\n",
       "      <td>98,652.7</td>\n",
       "      <td>19.0</td>\n",
       "    </tr>\n",
       "    <tr>\n",
       "      <th>20.0</th>\n",
       "      <td>103,081.7</td>\n",
       "      <td>20.0</td>\n",
       "    </tr>\n",
       "    <tr>\n",
       "      <th>21.0</th>\n",
       "      <td>94,469.6</td>\n",
       "      <td>21.0</td>\n",
       "    </tr>\n",
       "    <tr>\n",
       "      <th>22.0</th>\n",
       "      <td>91,330.4</td>\n",
       "      <td>22.0</td>\n",
       "    </tr>\n",
       "    <tr>\n",
       "      <th>23.0</th>\n",
       "      <td>92,063.7</td>\n",
       "      <td>23.0</td>\n",
       "    </tr>\n",
       "    <tr>\n",
       "      <th>24.0</th>\n",
       "      <td>85,736.9</td>\n",
       "      <td>24.0</td>\n",
       "    </tr>\n",
       "    <tr>\n",
       "      <th>25.0</th>\n",
       "      <td>91,531.4</td>\n",
       "      <td>25.0</td>\n",
       "    </tr>\n",
       "    <tr>\n",
       "      <th>26.0</th>\n",
       "      <td>89,285.9</td>\n",
       "      <td>26.0</td>\n",
       "    </tr>\n",
       "    <tr>\n",
       "      <th>27.0</th>\n",
       "      <td>132,115.7</td>\n",
       "      <td>27.0</td>\n",
       "    </tr>\n",
       "    <tr>\n",
       "      <th>28.0</th>\n",
       "      <td>81,161.9</td>\n",
       "      <td>28.0</td>\n",
       "    </tr>\n",
       "    <tr>\n",
       "      <th>29.0</th>\n",
       "      <td>72,953.4</td>\n",
       "      <td>29.0</td>\n",
       "    </tr>\n",
       "  </tbody>\n",
       "</table>\n",
       "</div>"
      ],
      "text/plain": [
       "                        price_1_m   km\n",
       "cityCenters_nearest_km                \n",
       "0.0                     224,886.0  0.0\n",
       "1.0                     149,362.6  1.0\n",
       "2.0                     147,414.9  2.0\n",
       "3.0                     121,445.5  3.0\n",
       "4.0                     128,318.2  4.0\n",
       "5.0                     137,724.8  5.0\n",
       "6.0                     145,713.6  6.0\n",
       "7.0                     153,373.7  7.0\n",
       "8.0                     124,103.2  8.0\n",
       "9.0                     113,071.6  9.0\n",
       "10.0                    112,849.8 10.0\n",
       "11.0                    108,652.0 11.0\n",
       "12.0                    107,538.0 12.0\n",
       "13.0                    108,176.4 13.0\n",
       "14.0                    104,279.7 14.0\n",
       "15.0                    104,290.8 15.0\n",
       "16.0                    100,584.2 16.0\n",
       "17.0                     96,650.6 17.0\n",
       "18.0                     96,409.6 18.0\n",
       "19.0                     98,652.7 19.0\n",
       "20.0                    103,081.7 20.0\n",
       "21.0                     94,469.6 21.0\n",
       "22.0                     91,330.4 22.0\n",
       "23.0                     92,063.7 23.0\n",
       "24.0                     85,736.9 24.0\n",
       "25.0                     91,531.4 25.0\n",
       "26.0                     89,285.9 26.0\n",
       "27.0                    132,115.7 27.0\n",
       "28.0                     81,161.9 28.0\n",
       "29.0                     72,953.4 29.0"
      ]
     },
     "execution_count": 173,
     "metadata": {},
     "output_type": "execute_result"
    }
   ],
   "source": [
    "price_km = sp_flat.pivot_table(index='cityCenters_nearest_km', values='price_1_m',aggfunc='mean')\n",
    "price_km['km'] = price_km.index\n",
    "price_km"
   ]
  },
  {
   "cell_type": "code",
   "execution_count": 174,
   "metadata": {},
   "outputs": [
    {
     "data": {
      "image/png": "[encoded data removed]",
      "text/plain": [
       "<Figure size 432x288 with 1 Axes>"
      ]
     },
     "metadata": {
      "needs_background": "light"
     },
     "output_type": "display_data"
    }
   ],
   "source": [
    "#price_per_km.plot(x='km', y='price_per_metre' ,kind='line')\n",
    "price_km.plot(x='km',y='price_1_m',kind='line',grid=True);\n"
   ]
  },
  {
   "cell_type": "markdown",
   "metadata": {},
   "source": [
    "Самая высокая стоимость квартир на расстоянии примерно в центре, далее по мере удаленности цена снижается и еще один пик можнор увидеть на расстоянии около 8 км от центра города, далее цена постепенно снижается и еще один пик мы видим на расстоянии 27 км от центра(это квартиры в пригороде). Зависимость стоимости квадратного метра от расстояния от центра города очевидно существует, чем дальше от центра санкт-Петербурга находится недвижимость, тем ниже цена квадратного метра."
   ]
  },
  {
   "cell_type": "markdown",
   "metadata": {},
   "source": [
    "### Общий вывод"
   ]
  },
  {
   "cell_type": "markdown",
   "metadata": {},
   "source": [
    "1.Проанализировав гистограмму распределения общей площади, можно сделать вывод, что наиболее распространенное значение общей площади квартиры 50-60 кв.м., аномальные значения - больше 200 кв.м. Такие значения можно отнести к выбросам. \n",
    "2.Проанализировав гистограмму распределения жилой площади, можно сделать вывод, что наиболее распространенное значение жилой площади квартиры 30 кв.м., аномальные значения - меньше 20 и больше 200 кв.м. \n",
    "3.Проанализировав гистограмму распределения площади кухни, можно сделать вывод, что наиболее распространенное значение площади кухни 8 и 12 кв.м., аномальные значения - больше 30 кв.м. \n",
    "4.Проанализировав гистограмму распределения стоимости квартир, можно сделать вывод, что наиболее распространенное значение - 4-5 млн., аномальные значения - больше 200 млн. \n",
    "5.Проанализировав гистограмму распределения количества комнат, можно сделать вывод, что наиболее распространенное значение 1-3 комнаты, аномальные значения - больше 6 комнат.\n",
    "6.Проанализировав гистограмму распределения высоты потолков, можно сделать вывод, что наиболее распространенное значение 2.5м.\n",
    "7.Проанализировав гистограмму распределения количества этажей, можно сделать вывод, что наиболее распространенное значение до 2-6 этажей.\n",
    "8.В соответствии с графиком распределения типа этажей, большее количество относится к категории \"другой\"(более 16000), категория \"последний\" насчитывает 3000 позиций, а \"первый\" - около 3000.\n",
    "9.Проанализировав гистограмму распределения общего количества этажей, можно сделать вывод, что наиболее распространенное значение 5 и 10 этажей, аномальные значения - больше 25. \n",
    "10.Проанализировав гистограмму распределения расстояния до цента, можно сделать вывод, что наиболее распространенное значение 15000 м, аномальные значения - больше 35000м. \n",
    "11.Проанализировав гистограмму распределения расстояния до аэропорта, можно сделать вывод, что наиболее распространенное значение расстояния 18000 и 36000\n",
    "12.Проанализировав гистограмму распределения расстояния до парков, можно сделать вывод, что наиболее распространенное значение расстояния до ближайшего парка 500м\n",
    "13.По гистограммам распределения даты и месяца публикации объявления можно сделать вывод, что наиболее часто объявления о продаже появляются в среду и в январе и декабре.\n",
    "14.Проанализировав гистограмму распределения количества дней, в течении которых квартира находилась на продаже, можно сделать вывод, что к быстрым продажам можно отнести квартиры, проданные за период времени до 180 дней, к аномально долгим - от 1000 дней, т.е. 3 года и более. Такие значения можно отнести к выбросам. Использование метода describe() подтверждает, что медиана в данном распределении находится на значении 103 дня, а среднее значение 182 дня.\n",
    "15. Самая высокая стоимость квартир на расстоянии примерно в центре, далее по мере удаленности цена снижается и еще один пик можнор увидеть на расстоянии около 8 км от центра города, далее цена постепенно снижается и еще один пик мы видим на расстоянии 27 км от центра(это квартиры в пригороде). Зависимость стоимости квадратного метра от расстояния от центра города очевидно существует, чем дальше от центра санкт-Петербурга находится недвижимость, тем ниже цена квадратного метра.\n",
    "16.Выявлена зависимость стоимости жилья от общей площади, жилой площади, площади кухни и количества комнат.\n",
    "17.Наиболее высокая стоимость квадратного метра в Зеленогорске, минимальная в деревне Старополье, наибольшее количество объявлений о продаже в Санкт -Петербурге."
   ]
  }
 ],
 "metadata": {
  "ExecuteTimeLog": [
   {
    "duration": 660,
    "start_time": "2022-10-29T09:58:57.026Z"
   },
   {
    "duration": 528,
    "start_time": "2022-10-30T07:49:05.019Z"
   },
   {
    "duration": 13,
    "start_time": "2022-10-30T07:50:06.826Z"
   },
   {
    "duration": 2076,
    "start_time": "2022-10-30T07:52:52.007Z"
   },
   {
    "duration": 46,
    "start_time": "2022-10-30T08:14:40.979Z"
   },
   {
    "duration": 41,
    "start_time": "2022-10-30T08:14:54.833Z"
   },
   {
    "duration": 454,
    "start_time": "2022-10-30T08:15:07.942Z"
   },
   {
    "duration": 14,
    "start_time": "2022-10-30T08:15:14.745Z"
   },
   {
    "duration": 1914,
    "start_time": "2022-10-30T08:15:24.441Z"
   },
   {
    "duration": 8,
    "start_time": "2022-10-30T08:46:16.499Z"
   },
   {
    "duration": 35,
    "start_time": "2022-10-30T09:38:43.833Z"
   },
   {
    "duration": 4,
    "start_time": "2022-10-30T09:41:49.030Z"
   },
   {
    "duration": 9,
    "start_time": "2022-10-30T09:42:43.273Z"
   },
   {
    "duration": 7,
    "start_time": "2022-10-30T09:43:21.233Z"
   },
   {
    "duration": 13,
    "start_time": "2022-10-30T09:44:19.410Z"
   },
   {
    "duration": 11,
    "start_time": "2022-10-30T09:44:43.054Z"
   },
   {
    "duration": 587,
    "start_time": "2022-10-31T09:46:55.681Z"
   },
   {
    "duration": 16,
    "start_time": "2022-10-31T09:46:56.270Z"
   },
   {
    "duration": 2432,
    "start_time": "2022-10-31T09:46:56.288Z"
   },
   {
    "duration": 15,
    "start_time": "2022-10-31T09:46:58.728Z"
   },
   {
    "duration": 29,
    "start_time": "2022-10-31T09:46:58.745Z"
   },
   {
    "duration": 5,
    "start_time": "2022-10-31T09:54:23.230Z"
   },
   {
    "duration": 7,
    "start_time": "2022-10-31T09:54:51.959Z"
   },
   {
    "duration": 6,
    "start_time": "2022-10-31T09:55:02.007Z"
   },
   {
    "duration": 8,
    "start_time": "2022-10-31T09:55:24.550Z"
   },
   {
    "duration": 5,
    "start_time": "2022-10-31T09:56:08.735Z"
   },
   {
    "duration": 63,
    "start_time": "2022-10-31T09:56:26.040Z"
   },
   {
    "duration": 5,
    "start_time": "2022-10-31T09:56:44.251Z"
   },
   {
    "duration": 5,
    "start_time": "2022-10-31T10:03:41.422Z"
   },
   {
    "duration": 22,
    "start_time": "2022-10-31T10:15:05.053Z"
   },
   {
    "duration": 27,
    "start_time": "2022-10-31T10:15:21.542Z"
   },
   {
    "duration": 28,
    "start_time": "2022-10-31T10:16:33.477Z"
   },
   {
    "duration": 31,
    "start_time": "2022-10-31T10:17:38.595Z"
   },
   {
    "duration": 36,
    "start_time": "2022-10-31T10:18:18.402Z"
   },
   {
    "duration": 23,
    "start_time": "2022-10-31T10:19:23.235Z"
   },
   {
    "duration": 117,
    "start_time": "2022-10-31T10:19:36.745Z"
   },
   {
    "duration": 13,
    "start_time": "2022-10-31T10:19:36.863Z"
   },
   {
    "duration": 2095,
    "start_time": "2022-10-31T10:19:36.878Z"
   },
   {
    "duration": 10,
    "start_time": "2022-10-31T10:19:38.975Z"
   },
   {
    "duration": 39,
    "start_time": "2022-10-31T10:19:38.986Z"
   },
   {
    "duration": 4,
    "start_time": "2022-10-31T10:19:39.027Z"
   },
   {
    "duration": 58,
    "start_time": "2022-10-31T10:19:39.034Z"
   },
   {
    "duration": 16,
    "start_time": "2022-10-31T10:19:39.093Z"
   },
   {
    "duration": 549,
    "start_time": "2022-11-01T08:29:24.121Z"
   },
   {
    "duration": 14,
    "start_time": "2022-11-01T08:29:24.671Z"
   },
   {
    "duration": 2170,
    "start_time": "2022-11-01T08:29:24.686Z"
   },
   {
    "duration": 9,
    "start_time": "2022-11-01T08:29:26.858Z"
   },
   {
    "duration": 27,
    "start_time": "2022-11-01T08:29:26.868Z"
   },
   {
    "duration": 5,
    "start_time": "2022-11-01T08:29:26.896Z"
   },
   {
    "duration": 48,
    "start_time": "2022-11-01T08:29:26.902Z"
   },
   {
    "duration": 7,
    "start_time": "2022-11-01T08:29:26.951Z"
   },
   {
    "duration": 71,
    "start_time": "2022-11-01T08:29:26.959Z"
   },
   {
    "duration": 8,
    "start_time": "2022-11-01T08:29:54.353Z"
   },
   {
    "duration": 7,
    "start_time": "2022-11-01T08:30:02.015Z"
   },
   {
    "duration": 10,
    "start_time": "2022-11-01T08:30:26.079Z"
   },
   {
    "duration": 7,
    "start_time": "2022-11-01T08:30:40.215Z"
   },
   {
    "duration": 8,
    "start_time": "2022-11-01T08:30:47.690Z"
   },
   {
    "duration": 19,
    "start_time": "2022-11-01T08:32:01.858Z"
   },
   {
    "duration": 11,
    "start_time": "2022-11-01T08:32:17.129Z"
   },
   {
    "duration": 12,
    "start_time": "2022-11-01T08:38:47.007Z"
   },
   {
    "duration": 13,
    "start_time": "2022-11-01T08:39:07.841Z"
   },
   {
    "duration": 8,
    "start_time": "2022-11-01T08:39:48.194Z"
   },
   {
    "duration": 11,
    "start_time": "2022-11-01T08:40:12.492Z"
   },
   {
    "duration": 7,
    "start_time": "2022-11-01T08:40:19.010Z"
   },
   {
    "duration": 4,
    "start_time": "2022-11-01T08:58:16.962Z"
   },
   {
    "duration": 344,
    "start_time": "2022-11-01T08:59:01.481Z"
   },
   {
    "duration": 309,
    "start_time": "2022-11-01T08:59:29.475Z"
   },
   {
    "duration": 329,
    "start_time": "2022-11-01T09:00:38.393Z"
   },
   {
    "duration": 290,
    "start_time": "2022-11-01T09:01:27.626Z"
   },
   {
    "duration": 6,
    "start_time": "2022-11-01T09:07:53.582Z"
   },
   {
    "duration": 2,
    "start_time": "2022-11-01T09:12:34.242Z"
   },
   {
    "duration": 6,
    "start_time": "2022-11-01T09:13:28.521Z"
   },
   {
    "duration": 7,
    "start_time": "2022-11-01T09:15:01.616Z"
   },
   {
    "duration": 7,
    "start_time": "2022-11-01T09:15:06.249Z"
   },
   {
    "duration": 12,
    "start_time": "2022-11-01T09:15:45.298Z"
   },
   {
    "duration": 5,
    "start_time": "2022-11-01T09:15:47.443Z"
   },
   {
    "duration": 292,
    "start_time": "2022-11-01T09:16:34.873Z"
   },
   {
    "duration": 11,
    "start_time": "2022-11-01T09:17:30.027Z"
   },
   {
    "duration": 5,
    "start_time": "2022-11-01T09:17:36.747Z"
   },
   {
    "duration": 13,
    "start_time": "2022-11-01T09:23:41.223Z"
   },
   {
    "duration": 76,
    "start_time": "2022-11-01T09:24:54.393Z"
   },
   {
    "duration": 5,
    "start_time": "2022-11-01T09:24:56.560Z"
   },
   {
    "duration": 6,
    "start_time": "2022-11-01T09:28:21.453Z"
   },
   {
    "duration": 7,
    "start_time": "2022-11-01T09:32:30.512Z"
   },
   {
    "duration": 8,
    "start_time": "2022-11-01T09:33:23.636Z"
   },
   {
    "duration": 69,
    "start_time": "2022-11-01T09:36:25.118Z"
   },
   {
    "duration": 13,
    "start_time": "2022-11-01T09:36:36.421Z"
   },
   {
    "duration": 13,
    "start_time": "2022-11-01T09:40:13.731Z"
   },
   {
    "duration": 13,
    "start_time": "2022-11-01T09:42:23.685Z"
   },
   {
    "duration": 12,
    "start_time": "2022-11-01T09:43:04.199Z"
   },
   {
    "duration": 42,
    "start_time": "2022-11-02T11:16:55.951Z"
   },
   {
    "duration": 548,
    "start_time": "2022-11-02T11:20:55.851Z"
   },
   {
    "duration": 15,
    "start_time": "2022-11-02T11:20:56.401Z"
   },
   {
    "duration": 2274,
    "start_time": "2022-11-02T11:20:56.417Z"
   },
   {
    "duration": 9,
    "start_time": "2022-11-02T11:20:58.693Z"
   },
   {
    "duration": 26,
    "start_time": "2022-11-02T11:20:58.705Z"
   },
   {
    "duration": 4,
    "start_time": "2022-11-02T11:20:58.733Z"
   },
   {
    "duration": 78,
    "start_time": "2022-11-02T11:20:58.738Z"
   },
   {
    "duration": 10,
    "start_time": "2022-11-02T11:20:58.818Z"
   },
   {
    "duration": 73,
    "start_time": "2022-11-02T11:20:58.829Z"
   },
   {
    "duration": 8,
    "start_time": "2022-11-02T11:20:58.903Z"
   },
   {
    "duration": 10,
    "start_time": "2022-11-02T11:20:58.912Z"
   },
   {
    "duration": 7,
    "start_time": "2022-11-02T11:20:58.924Z"
   },
   {
    "duration": 15,
    "start_time": "2022-11-02T11:20:58.933Z"
   },
   {
    "duration": 307,
    "start_time": "2022-11-02T11:20:58.951Z"
   },
   {
    "duration": 18,
    "start_time": "2022-11-02T11:21:23.987Z"
   },
   {
    "duration": 283,
    "start_time": "2022-11-02T11:22:30.620Z"
   },
   {
    "duration": 17,
    "start_time": "2022-11-02T11:22:32.397Z"
   },
   {
    "duration": 282,
    "start_time": "2022-11-02T11:24:16.209Z"
   },
   {
    "duration": 16,
    "start_time": "2022-11-02T11:24:16.992Z"
   },
   {
    "duration": 337,
    "start_time": "2022-11-02T11:24:58.546Z"
   },
   {
    "duration": 17,
    "start_time": "2022-11-02T11:25:00.152Z"
   },
   {
    "duration": 413,
    "start_time": "2022-11-02T11:25:26.598Z"
   },
   {
    "duration": 17,
    "start_time": "2022-11-02T11:25:28.686Z"
   },
   {
    "duration": 537,
    "start_time": "2022-11-03T11:06:59.827Z"
   },
   {
    "duration": 15,
    "start_time": "2022-11-03T11:07:00.367Z"
   },
   {
    "duration": 2101,
    "start_time": "2022-11-03T11:07:00.383Z"
   },
   {
    "duration": 8,
    "start_time": "2022-11-03T11:07:02.486Z"
   },
   {
    "duration": 39,
    "start_time": "2022-11-03T11:07:02.495Z"
   },
   {
    "duration": 7,
    "start_time": "2022-11-03T11:07:02.536Z"
   },
   {
    "duration": 51,
    "start_time": "2022-11-03T11:07:02.545Z"
   },
   {
    "duration": 7,
    "start_time": "2022-11-03T11:07:02.597Z"
   },
   {
    "duration": 59,
    "start_time": "2022-11-03T11:07:02.605Z"
   },
   {
    "duration": 7,
    "start_time": "2022-11-03T11:07:02.666Z"
   },
   {
    "duration": 19,
    "start_time": "2022-11-03T11:07:02.674Z"
   },
   {
    "duration": 15,
    "start_time": "2022-11-03T11:07:02.695Z"
   },
   {
    "duration": 17,
    "start_time": "2022-11-03T11:07:02.712Z"
   },
   {
    "duration": 410,
    "start_time": "2022-11-03T11:07:02.730Z"
   },
   {
    "duration": 14,
    "start_time": "2022-11-03T11:07:03.142Z"
   },
   {
    "duration": 70,
    "start_time": "2022-11-03T11:07:03.158Z"
   },
   {
    "duration": 6,
    "start_time": "2022-11-03T11:07:17.466Z"
   },
   {
    "duration": 5,
    "start_time": "2022-11-03T11:07:31.984Z"
   },
   {
    "duration": 7,
    "start_time": "2022-11-03T11:07:50.947Z"
   },
   {
    "duration": 14,
    "start_time": "2022-11-03T11:08:17.860Z"
   },
   {
    "duration": 10,
    "start_time": "2022-11-03T11:08:43.655Z"
   },
   {
    "duration": 10,
    "start_time": "2022-11-03T11:09:24.990Z"
   },
   {
    "duration": 6,
    "start_time": "2022-11-03T11:09:41.995Z"
   },
   {
    "duration": 6,
    "start_time": "2022-11-03T11:10:49.968Z"
   },
   {
    "duration": 10,
    "start_time": "2022-11-03T11:11:24.069Z"
   },
   {
    "duration": 7,
    "start_time": "2022-11-03T11:11:46.255Z"
   },
   {
    "duration": 6,
    "start_time": "2022-11-03T11:12:07.318Z"
   },
   {
    "duration": 7,
    "start_time": "2022-11-03T11:13:20.247Z"
   },
   {
    "duration": 15,
    "start_time": "2022-11-03T11:15:06.294Z"
   },
   {
    "duration": 15,
    "start_time": "2022-11-03T11:18:21.868Z"
   },
   {
    "duration": 15,
    "start_time": "2022-11-03T11:18:33.307Z"
   },
   {
    "duration": 299,
    "start_time": "2022-11-03T11:21:19.130Z"
   },
   {
    "duration": 73,
    "start_time": "2022-11-03T11:59:41.258Z"
   },
   {
    "duration": 78,
    "start_time": "2022-11-03T11:59:47.598Z"
   },
   {
    "duration": 3,
    "start_time": "2022-11-03T11:59:57.086Z"
   },
   {
    "duration": 295,
    "start_time": "2022-11-03T12:07:15.029Z"
   },
   {
    "duration": 31,
    "start_time": "2022-11-03T12:33:04.905Z"
   },
   {
    "duration": 18,
    "start_time": "2022-11-03T12:34:42.225Z"
   },
   {
    "duration": 3,
    "start_time": "2022-11-03T12:43:22.405Z"
   },
   {
    "duration": 21,
    "start_time": "2022-11-03T12:43:50.865Z"
   },
   {
    "duration": 22,
    "start_time": "2022-11-03T12:44:21.950Z"
   },
   {
    "duration": 33,
    "start_time": "2022-11-03T12:47:37.510Z"
   },
   {
    "duration": 702,
    "start_time": "2022-11-04T14:05:58.887Z"
   },
   {
    "duration": 14,
    "start_time": "2022-11-04T14:05:59.591Z"
   },
   {
    "duration": 2416,
    "start_time": "2022-11-04T14:05:59.607Z"
   },
   {
    "duration": 9,
    "start_time": "2022-11-04T14:06:02.025Z"
   },
   {
    "duration": 38,
    "start_time": "2022-11-04T14:06:02.036Z"
   },
   {
    "duration": 4,
    "start_time": "2022-11-04T14:06:02.076Z"
   },
   {
    "duration": 46,
    "start_time": "2022-11-04T14:06:02.081Z"
   },
   {
    "duration": 23,
    "start_time": "2022-11-04T14:06:02.129Z"
   },
   {
    "duration": 57,
    "start_time": "2022-11-04T14:06:02.153Z"
   },
   {
    "duration": 7,
    "start_time": "2022-11-04T14:06:02.213Z"
   },
   {
    "duration": 29,
    "start_time": "2022-11-04T14:06:02.222Z"
   },
   {
    "duration": 8,
    "start_time": "2022-11-04T14:06:02.252Z"
   },
   {
    "duration": 14,
    "start_time": "2022-11-04T14:06:02.261Z"
   },
   {
    "duration": 487,
    "start_time": "2022-11-04T14:06:02.277Z"
   },
   {
    "duration": 20,
    "start_time": "2022-11-04T14:06:02.766Z"
   },
   {
    "duration": 10,
    "start_time": "2022-11-04T14:06:02.788Z"
   },
   {
    "duration": 300,
    "start_time": "2022-11-04T14:06:02.799Z"
   },
   {
    "duration": 0,
    "start_time": "2022-11-04T14:06:03.101Z"
   },
   {
    "duration": 7,
    "start_time": "2022-11-04T14:08:49.024Z"
   },
   {
    "duration": 133,
    "start_time": "2022-11-04T14:11:34.224Z"
   },
   {
    "duration": 7,
    "start_time": "2022-11-04T14:11:41.389Z"
   },
   {
    "duration": 10,
    "start_time": "2022-11-04T14:13:26.721Z"
   },
   {
    "duration": 8,
    "start_time": "2022-11-04T14:26:02.457Z"
   },
   {
    "duration": 7,
    "start_time": "2022-11-04T14:26:58.381Z"
   },
   {
    "duration": 10,
    "start_time": "2022-11-04T14:27:04.818Z"
   },
   {
    "duration": 5,
    "start_time": "2022-11-04T14:27:06.220Z"
   },
   {
    "duration": 9,
    "start_time": "2022-11-04T14:27:11.722Z"
   },
   {
    "duration": 114,
    "start_time": "2022-11-04T14:35:22.225Z"
   },
   {
    "duration": 17,
    "start_time": "2022-11-04T14:35:22.341Z"
   },
   {
    "duration": 1923,
    "start_time": "2022-11-04T14:35:22.360Z"
   },
   {
    "duration": 10,
    "start_time": "2022-11-04T14:35:24.285Z"
   },
   {
    "duration": 27,
    "start_time": "2022-11-04T14:35:24.297Z"
   },
   {
    "duration": 5,
    "start_time": "2022-11-04T14:35:24.339Z"
   },
   {
    "duration": 50,
    "start_time": "2022-11-04T14:35:24.345Z"
   },
   {
    "duration": 8,
    "start_time": "2022-11-04T14:35:24.397Z"
   },
   {
    "duration": 76,
    "start_time": "2022-11-04T14:35:24.407Z"
   },
   {
    "duration": 7,
    "start_time": "2022-11-04T14:35:24.486Z"
   },
   {
    "duration": 9,
    "start_time": "2022-11-04T14:35:24.494Z"
   },
   {
    "duration": 9,
    "start_time": "2022-11-04T14:35:24.505Z"
   },
   {
    "duration": 16,
    "start_time": "2022-11-04T14:35:24.539Z"
   },
   {
    "duration": 522,
    "start_time": "2022-11-04T14:35:24.557Z"
   },
   {
    "duration": 20,
    "start_time": "2022-11-04T14:35:25.080Z"
   },
   {
    "duration": 8,
    "start_time": "2022-11-04T14:35:25.102Z"
   },
   {
    "duration": 210,
    "start_time": "2022-11-04T14:35:25.112Z"
   },
   {
    "duration": 0,
    "start_time": "2022-11-04T14:35:25.324Z"
   },
   {
    "duration": 0,
    "start_time": "2022-11-04T14:35:25.325Z"
   },
   {
    "duration": 0,
    "start_time": "2022-11-04T14:35:25.327Z"
   },
   {
    "duration": 244,
    "start_time": "2022-11-04T14:37:53.362Z"
   },
   {
    "duration": 177,
    "start_time": "2022-11-04T14:38:42.619Z"
   },
   {
    "duration": 13,
    "start_time": "2022-11-04T14:39:03.492Z"
   },
   {
    "duration": 5,
    "start_time": "2022-11-04T14:43:05.394Z"
   },
   {
    "duration": 13,
    "start_time": "2022-11-04T14:44:18.038Z"
   },
   {
    "duration": 707,
    "start_time": "2022-11-04T14:44:53.629Z"
   },
   {
    "duration": 689,
    "start_time": "2022-11-04T14:45:40.790Z"
   },
   {
    "duration": 681,
    "start_time": "2022-11-04T14:45:58.785Z"
   },
   {
    "duration": 734,
    "start_time": "2022-11-04T14:46:30.463Z"
   },
   {
    "duration": 14,
    "start_time": "2022-11-04T14:48:24.578Z"
   },
   {
    "duration": 210,
    "start_time": "2022-11-04T14:48:43.958Z"
   },
   {
    "duration": 9,
    "start_time": "2022-11-04T14:49:05.386Z"
   },
   {
    "duration": 15,
    "start_time": "2022-11-04T14:49:42.650Z"
   },
   {
    "duration": 21,
    "start_time": "2022-11-04T14:50:00.648Z"
   },
   {
    "duration": 12,
    "start_time": "2022-11-04T14:50:37.290Z"
   },
   {
    "duration": 14,
    "start_time": "2022-11-04T14:51:09.764Z"
   },
   {
    "duration": 20,
    "start_time": "2022-11-04T14:51:40.084Z"
   },
   {
    "duration": 22,
    "start_time": "2022-11-04T14:54:07.499Z"
   },
   {
    "duration": 30,
    "start_time": "2022-11-04T14:54:49.265Z"
   },
   {
    "duration": 8,
    "start_time": "2022-11-04T14:57:32.397Z"
   },
   {
    "duration": 4,
    "start_time": "2022-11-04T15:44:45.501Z"
   },
   {
    "duration": 7,
    "start_time": "2022-11-04T15:45:12.612Z"
   },
   {
    "duration": 23,
    "start_time": "2022-11-04T15:45:35.683Z"
   },
   {
    "duration": 5,
    "start_time": "2022-11-04T15:46:04.672Z"
   },
   {
    "duration": 7,
    "start_time": "2022-11-04T15:46:05.661Z"
   },
   {
    "duration": 21,
    "start_time": "2022-11-04T15:46:10.026Z"
   },
   {
    "duration": 26,
    "start_time": "2022-11-04T15:50:02.160Z"
   },
   {
    "duration": 19,
    "start_time": "2022-11-04T15:51:32.966Z"
   },
   {
    "duration": 4,
    "start_time": "2022-11-04T15:53:53.482Z"
   },
   {
    "duration": 5,
    "start_time": "2022-11-04T16:01:30.938Z"
   },
   {
    "duration": 31,
    "start_time": "2022-11-04T16:05:23.735Z"
   },
   {
    "duration": 15,
    "start_time": "2022-11-04T16:06:46.017Z"
   },
   {
    "duration": 21,
    "start_time": "2022-11-04T16:10:49.170Z"
   },
   {
    "duration": 5,
    "start_time": "2022-11-04T16:11:24.667Z"
   },
   {
    "duration": 13,
    "start_time": "2022-11-04T16:11:49.058Z"
   },
   {
    "duration": 29,
    "start_time": "2022-11-04T16:12:46.172Z"
   },
   {
    "duration": 4,
    "start_time": "2022-11-04T16:13:28.504Z"
   },
   {
    "duration": 184,
    "start_time": "2022-11-04T16:15:39.012Z"
   },
   {
    "duration": 15,
    "start_time": "2022-11-04T16:19:40.832Z"
   },
   {
    "duration": 15,
    "start_time": "2022-11-04T16:31:27.404Z"
   },
   {
    "duration": 21,
    "start_time": "2022-11-04T16:33:49.829Z"
   },
   {
    "duration": 14,
    "start_time": "2022-11-04T16:39:52.657Z"
   },
   {
    "duration": 15,
    "start_time": "2022-11-04T16:40:40.916Z"
   },
   {
    "duration": 7,
    "start_time": "2022-11-04T16:41:03.302Z"
   },
   {
    "duration": 810,
    "start_time": "2022-11-09T13:46:26.166Z"
   },
   {
    "duration": 15,
    "start_time": "2022-11-09T13:46:26.978Z"
   },
   {
    "duration": 2456,
    "start_time": "2022-11-09T13:46:26.994Z"
   },
   {
    "duration": 13,
    "start_time": "2022-11-09T13:46:29.453Z"
   },
   {
    "duration": 43,
    "start_time": "2022-11-09T13:46:29.469Z"
   },
   {
    "duration": 6,
    "start_time": "2022-11-09T13:46:29.514Z"
   },
   {
    "duration": 88,
    "start_time": "2022-11-09T13:46:29.522Z"
   },
   {
    "duration": 8,
    "start_time": "2022-11-09T13:46:29.612Z"
   },
   {
    "duration": 85,
    "start_time": "2022-11-09T13:46:29.622Z"
   },
   {
    "duration": 8,
    "start_time": "2022-11-09T13:46:29.709Z"
   },
   {
    "duration": 29,
    "start_time": "2022-11-09T13:46:29.719Z"
   },
   {
    "duration": 32,
    "start_time": "2022-11-09T13:46:29.750Z"
   },
   {
    "duration": 7,
    "start_time": "2022-11-09T13:46:29.784Z"
   },
   {
    "duration": 14,
    "start_time": "2022-11-09T13:46:29.793Z"
   },
   {
    "duration": 382,
    "start_time": "2022-11-09T13:46:29.808Z"
   },
   {
    "duration": 18,
    "start_time": "2022-11-09T13:46:30.191Z"
   },
   {
    "duration": 35,
    "start_time": "2022-11-09T13:46:30.211Z"
   },
   {
    "duration": 34,
    "start_time": "2022-11-09T13:46:30.248Z"
   },
   {
    "duration": 16,
    "start_time": "2022-11-09T13:46:30.285Z"
   },
   {
    "duration": 54,
    "start_time": "2022-11-09T13:46:30.303Z"
   },
   {
    "duration": 24,
    "start_time": "2022-11-09T13:46:30.360Z"
   },
   {
    "duration": 21,
    "start_time": "2022-11-09T13:46:30.385Z"
   },
   {
    "duration": 17,
    "start_time": "2022-11-09T13:46:30.408Z"
   },
   {
    "duration": 105,
    "start_time": "2022-11-09T13:46:30.427Z"
   },
   {
    "duration": 0,
    "start_time": "2022-11-09T13:46:30.534Z"
   },
   {
    "duration": 1031,
    "start_time": "2022-11-09T18:50:54.561Z"
   },
   {
    "duration": 14,
    "start_time": "2022-11-09T18:50:55.593Z"
   },
   {
    "duration": 2280,
    "start_time": "2022-11-09T18:50:55.609Z"
   },
   {
    "duration": 10,
    "start_time": "2022-11-09T18:50:57.891Z"
   },
   {
    "duration": 28,
    "start_time": "2022-11-09T18:50:57.902Z"
   },
   {
    "duration": 4,
    "start_time": "2022-11-09T18:50:57.931Z"
   },
   {
    "duration": 47,
    "start_time": "2022-11-09T18:50:57.937Z"
   },
   {
    "duration": 7,
    "start_time": "2022-11-09T18:50:57.985Z"
   },
   {
    "duration": 70,
    "start_time": "2022-11-09T18:50:57.994Z"
   },
   {
    "duration": 8,
    "start_time": "2022-11-09T18:50:58.067Z"
   },
   {
    "duration": 26,
    "start_time": "2022-11-09T18:50:58.077Z"
   },
   {
    "duration": 10,
    "start_time": "2022-11-09T18:50:58.105Z"
   },
   {
    "duration": 30,
    "start_time": "2022-11-09T18:50:58.117Z"
   },
   {
    "duration": 13,
    "start_time": "2022-11-09T18:50:58.148Z"
   },
   {
    "duration": 362,
    "start_time": "2022-11-09T18:50:58.162Z"
   },
   {
    "duration": 15,
    "start_time": "2022-11-09T18:50:58.526Z"
   },
   {
    "duration": 9,
    "start_time": "2022-11-09T18:50:58.546Z"
   },
   {
    "duration": 20,
    "start_time": "2022-11-09T18:50:58.557Z"
   },
   {
    "duration": 9,
    "start_time": "2022-11-09T18:50:58.578Z"
   },
   {
    "duration": 27,
    "start_time": "2022-11-09T18:50:58.588Z"
   },
   {
    "duration": 35,
    "start_time": "2022-11-09T18:50:58.617Z"
   },
   {
    "duration": 20,
    "start_time": "2022-11-09T18:50:58.654Z"
   },
   {
    "duration": 5,
    "start_time": "2022-11-09T18:50:58.676Z"
   },
   {
    "duration": 592,
    "start_time": "2022-11-09T18:50:58.682Z"
   },
   {
    "duration": 0,
    "start_time": "2022-11-09T18:50:59.276Z"
   },
   {
    "duration": 491,
    "start_time": "2022-11-09T18:51:35.342Z"
   },
   {
    "duration": 866,
    "start_time": "2022-11-10T11:57:20.704Z"
   },
   {
    "duration": 13,
    "start_time": "2022-11-10T11:57:21.572Z"
   },
   {
    "duration": 2290,
    "start_time": "2022-11-10T11:57:21.587Z"
   },
   {
    "duration": 9,
    "start_time": "2022-11-10T11:57:23.879Z"
   },
   {
    "duration": 44,
    "start_time": "2022-11-10T11:57:23.890Z"
   },
   {
    "duration": 15,
    "start_time": "2022-11-10T11:57:23.936Z"
   },
   {
    "duration": 79,
    "start_time": "2022-11-10T11:57:23.952Z"
   },
   {
    "duration": 8,
    "start_time": "2022-11-10T11:57:24.033Z"
   },
   {
    "duration": 84,
    "start_time": "2022-11-10T11:57:24.043Z"
   },
   {
    "duration": 7,
    "start_time": "2022-11-10T11:57:24.129Z"
   },
   {
    "duration": 75,
    "start_time": "2022-11-10T11:57:24.137Z"
   },
   {
    "duration": 13,
    "start_time": "2022-11-10T11:57:24.214Z"
   },
   {
    "duration": 6,
    "start_time": "2022-11-10T11:57:24.229Z"
   },
   {
    "duration": 25,
    "start_time": "2022-11-10T11:57:24.236Z"
   },
   {
    "duration": 347,
    "start_time": "2022-11-10T11:57:24.263Z"
   },
   {
    "duration": 20,
    "start_time": "2022-11-10T11:57:24.612Z"
   },
   {
    "duration": 10,
    "start_time": "2022-11-10T11:57:24.634Z"
   },
   {
    "duration": 13,
    "start_time": "2022-11-10T11:57:24.645Z"
   },
   {
    "duration": 5,
    "start_time": "2022-11-10T11:57:24.660Z"
   },
   {
    "duration": 25,
    "start_time": "2022-11-10T11:57:24.667Z"
   },
   {
    "duration": 48,
    "start_time": "2022-11-10T11:57:24.694Z"
   },
   {
    "duration": 18,
    "start_time": "2022-11-10T11:57:24.744Z"
   },
   {
    "duration": 5,
    "start_time": "2022-11-10T11:57:24.764Z"
   },
   {
    "duration": 637,
    "start_time": "2022-11-10T11:57:24.770Z"
   },
   {
    "duration": 0,
    "start_time": "2022-11-10T11:57:25.409Z"
   },
   {
    "duration": 10,
    "start_time": "2022-11-10T12:02:04.052Z"
   },
   {
    "duration": 602,
    "start_time": "2022-11-10T12:02:25.479Z"
   },
   {
    "duration": 55,
    "start_time": "2022-11-10T12:22:18.823Z"
   },
   {
    "duration": 8,
    "start_time": "2022-11-10T12:23:20.556Z"
   },
   {
    "duration": 17,
    "start_time": "2022-11-10T12:30:26.307Z"
   },
   {
    "duration": 14,
    "start_time": "2022-11-10T12:31:20.003Z"
   },
   {
    "duration": 8,
    "start_time": "2022-11-10T12:34:02.381Z"
   },
   {
    "duration": 105,
    "start_time": "2022-11-10T12:34:33.378Z"
   },
   {
    "duration": 17,
    "start_time": "2022-11-10T12:34:57.799Z"
   },
   {
    "duration": 6,
    "start_time": "2022-11-10T12:34:58.922Z"
   },
   {
    "duration": 5,
    "start_time": "2022-11-10T12:46:41.423Z"
   },
   {
    "duration": 7,
    "start_time": "2022-11-10T12:48:22.402Z"
   },
   {
    "duration": 13,
    "start_time": "2022-11-10T12:48:47.564Z"
   },
   {
    "duration": 4,
    "start_time": "2022-11-10T12:49:32.074Z"
   },
   {
    "duration": 12,
    "start_time": "2022-11-10T12:50:43.661Z"
   },
   {
    "duration": 8,
    "start_time": "2022-11-10T12:51:06.515Z"
   },
   {
    "duration": 7,
    "start_time": "2022-11-10T12:52:31.550Z"
   },
   {
    "duration": 13,
    "start_time": "2022-11-10T12:52:59.302Z"
   },
   {
    "duration": 7,
    "start_time": "2022-11-10T12:53:38.574Z"
   },
   {
    "duration": 8,
    "start_time": "2022-11-10T12:54:46.695Z"
   },
   {
    "duration": 12,
    "start_time": "2022-11-10T12:55:11.625Z"
   },
   {
    "duration": 8,
    "start_time": "2022-11-10T12:55:21.949Z"
   },
   {
    "duration": 25,
    "start_time": "2022-11-10T12:55:59.675Z"
   },
   {
    "duration": 16,
    "start_time": "2022-11-10T12:56:35.962Z"
   },
   {
    "duration": 8,
    "start_time": "2022-11-10T12:56:49.915Z"
   },
   {
    "duration": 38,
    "start_time": "2022-11-10T12:58:57.948Z"
   },
   {
    "duration": 22,
    "start_time": "2022-11-10T13:00:02.944Z"
   },
   {
    "duration": 22,
    "start_time": "2022-11-10T13:00:32.429Z"
   },
   {
    "duration": 16,
    "start_time": "2022-11-10T13:00:37.222Z"
   },
   {
    "duration": 22,
    "start_time": "2022-11-10T13:00:50.251Z"
   },
   {
    "duration": 11,
    "start_time": "2022-11-10T13:00:52.072Z"
   },
   {
    "duration": 18,
    "start_time": "2022-11-10T13:03:38.503Z"
   },
   {
    "duration": 134,
    "start_time": "2022-11-10T13:10:45.189Z"
   },
   {
    "duration": 166,
    "start_time": "2022-11-10T13:11:05.039Z"
   },
   {
    "duration": 194,
    "start_time": "2022-11-10T13:11:31.665Z"
   },
   {
    "duration": 204,
    "start_time": "2022-11-10T13:12:24.718Z"
   },
   {
    "duration": 5,
    "start_time": "2022-11-10T13:13:43.983Z"
   },
   {
    "duration": 5,
    "start_time": "2022-11-10T13:14:04.064Z"
   },
   {
    "duration": 312,
    "start_time": "2022-11-10T13:16:46.360Z"
   },
   {
    "duration": 236,
    "start_time": "2022-11-10T13:16:57.110Z"
   },
   {
    "duration": 221,
    "start_time": "2022-11-10T13:17:24.798Z"
   },
   {
    "duration": 217,
    "start_time": "2022-11-10T13:19:52.509Z"
   },
   {
    "duration": 216,
    "start_time": "2022-11-10T13:20:10.265Z"
   },
   {
    "duration": 265,
    "start_time": "2022-11-10T13:21:18.670Z"
   },
   {
    "duration": 203,
    "start_time": "2022-11-10T13:21:50.189Z"
   },
   {
    "duration": 204,
    "start_time": "2022-11-10T13:22:22.552Z"
   },
   {
    "duration": 275,
    "start_time": "2022-11-10T13:22:32.277Z"
   },
   {
    "duration": 230,
    "start_time": "2022-11-10T13:22:58.995Z"
   },
   {
    "duration": 229,
    "start_time": "2022-11-10T13:23:10.935Z"
   },
   {
    "duration": 284,
    "start_time": "2022-11-10T13:23:21.820Z"
   },
   {
    "duration": 292,
    "start_time": "2022-11-10T13:24:30.925Z"
   },
   {
    "duration": 300,
    "start_time": "2022-11-10T13:24:42.180Z"
   },
   {
    "duration": 278,
    "start_time": "2022-11-10T13:24:53.716Z"
   },
   {
    "duration": 5,
    "start_time": "2022-11-10T13:31:26.957Z"
   },
   {
    "duration": 5,
    "start_time": "2022-11-10T13:31:53.160Z"
   },
   {
    "duration": 4,
    "start_time": "2022-11-10T13:31:58.148Z"
   },
   {
    "duration": 6,
    "start_time": "2022-11-10T13:32:02.960Z"
   },
   {
    "duration": 9,
    "start_time": "2022-11-10T13:32:17.427Z"
   },
   {
    "duration": 8,
    "start_time": "2022-11-10T13:32:42.844Z"
   },
   {
    "duration": 7,
    "start_time": "2022-11-10T13:33:17.382Z"
   },
   {
    "duration": 7,
    "start_time": "2022-11-10T13:33:36.450Z"
   },
   {
    "duration": 491,
    "start_time": "2022-11-10T13:34:55.030Z"
   },
   {
    "duration": 1759,
    "start_time": "2022-11-10T13:35:08.506Z"
   },
   {
    "duration": 2040,
    "start_time": "2022-11-10T13:35:39.088Z"
   },
   {
    "duration": 17249,
    "start_time": "2022-11-10T13:36:25.436Z"
   },
   {
    "duration": 320,
    "start_time": "2022-11-10T13:36:59.122Z"
   },
   {
    "duration": 263,
    "start_time": "2022-11-10T13:38:33.176Z"
   },
   {
    "duration": 288,
    "start_time": "2022-11-10T13:38:50.383Z"
   },
   {
    "duration": 158,
    "start_time": "2022-11-10T13:39:13.711Z"
   },
   {
    "duration": 730,
    "start_time": "2022-11-10T13:40:25.887Z"
   },
   {
    "duration": 257,
    "start_time": "2022-11-10T13:41:15.615Z"
   },
   {
    "duration": 256,
    "start_time": "2022-11-10T13:41:27.805Z"
   },
   {
    "duration": 151,
    "start_time": "2022-11-10T13:41:41.590Z"
   },
   {
    "duration": 47,
    "start_time": "2022-11-12T15:10:34.335Z"
   },
   {
    "duration": 776,
    "start_time": "2022-11-12T15:10:48.756Z"
   },
   {
    "duration": 14,
    "start_time": "2022-11-12T15:10:49.534Z"
   },
   {
    "duration": 2280,
    "start_time": "2022-11-12T15:10:49.549Z"
   },
   {
    "duration": 9,
    "start_time": "2022-11-12T15:10:51.831Z"
   },
   {
    "duration": 23,
    "start_time": "2022-11-12T15:10:51.842Z"
   },
   {
    "duration": 7,
    "start_time": "2022-11-12T15:10:51.866Z"
   },
   {
    "duration": 4,
    "start_time": "2022-11-12T15:10:51.875Z"
   },
   {
    "duration": 49,
    "start_time": "2022-11-12T15:10:51.881Z"
   },
   {
    "duration": 7,
    "start_time": "2022-11-12T15:10:51.933Z"
   },
   {
    "duration": 83,
    "start_time": "2022-11-12T15:10:51.942Z"
   },
   {
    "duration": 7,
    "start_time": "2022-11-12T15:10:52.027Z"
   },
   {
    "duration": 4,
    "start_time": "2022-11-12T15:10:52.035Z"
   },
   {
    "duration": 49,
    "start_time": "2022-11-12T15:10:52.040Z"
   },
   {
    "duration": 11,
    "start_time": "2022-11-12T15:10:52.091Z"
   },
   {
    "duration": 4,
    "start_time": "2022-11-12T15:10:52.104Z"
   },
   {
    "duration": 10,
    "start_time": "2022-11-12T15:10:52.110Z"
   },
   {
    "duration": 369,
    "start_time": "2022-11-12T15:10:52.122Z"
   },
   {
    "duration": 17,
    "start_time": "2022-11-12T15:10:52.493Z"
   },
   {
    "duration": 13,
    "start_time": "2022-11-12T15:10:52.512Z"
   },
   {
    "duration": 15,
    "start_time": "2022-11-12T15:10:52.527Z"
   },
   {
    "duration": 27,
    "start_time": "2022-11-12T15:10:52.543Z"
   },
   {
    "duration": 23,
    "start_time": "2022-11-12T15:10:52.572Z"
   },
   {
    "duration": 20,
    "start_time": "2022-11-12T15:10:52.597Z"
   },
   {
    "duration": 50,
    "start_time": "2022-11-12T15:10:52.619Z"
   },
   {
    "duration": 5,
    "start_time": "2022-11-12T15:10:52.671Z"
   },
   {
    "duration": 575,
    "start_time": "2022-11-12T15:10:52.677Z"
   },
   {
    "duration": 0,
    "start_time": "2022-11-12T15:10:53.254Z"
   },
   {
    "duration": 0,
    "start_time": "2022-11-12T15:10:53.255Z"
   },
   {
    "duration": 0,
    "start_time": "2022-11-12T15:10:53.256Z"
   },
   {
    "duration": 0,
    "start_time": "2022-11-12T15:10:53.257Z"
   },
   {
    "duration": 0,
    "start_time": "2022-11-12T15:10:53.259Z"
   },
   {
    "duration": 0,
    "start_time": "2022-11-12T15:10:53.260Z"
   },
   {
    "duration": 0,
    "start_time": "2022-11-12T15:10:53.261Z"
   },
   {
    "duration": 0,
    "start_time": "2022-11-12T15:10:53.263Z"
   },
   {
    "duration": 0,
    "start_time": "2022-11-12T15:10:53.264Z"
   },
   {
    "duration": 235,
    "start_time": "2022-11-12T15:11:14.406Z"
   },
   {
    "duration": 15,
    "start_time": "2022-11-12T15:11:17.229Z"
   },
   {
    "duration": 272,
    "start_time": "2022-11-12T15:11:23.949Z"
   },
   {
    "duration": 423,
    "start_time": "2022-11-12T15:11:26.168Z"
   },
   {
    "duration": 143,
    "start_time": "2022-11-12T15:11:29.099Z"
   },
   {
    "duration": 138,
    "start_time": "2022-11-12T15:11:31.449Z"
   },
   {
    "duration": 9,
    "start_time": "2022-11-12T15:11:33.728Z"
   },
   {
    "duration": 9,
    "start_time": "2022-11-12T15:12:55.812Z"
   },
   {
    "duration": 16,
    "start_time": "2022-11-12T15:13:15.404Z"
   },
   {
    "duration": 8,
    "start_time": "2022-11-12T15:16:26.940Z"
   },
   {
    "duration": 8,
    "start_time": "2022-11-12T15:17:59.260Z"
   },
   {
    "duration": 8,
    "start_time": "2022-11-12T15:20:35.150Z"
   },
   {
    "duration": 791,
    "start_time": "2022-11-12T15:24:10.595Z"
   },
   {
    "duration": 154,
    "start_time": "2022-11-12T15:25:01.074Z"
   },
   {
    "duration": 164,
    "start_time": "2022-11-12T15:25:22.173Z"
   },
   {
    "duration": 149,
    "start_time": "2022-11-12T15:25:44.058Z"
   },
   {
    "duration": 177,
    "start_time": "2022-11-12T15:26:27.742Z"
   },
   {
    "duration": 16,
    "start_time": "2022-11-12T15:45:45.762Z"
   },
   {
    "duration": 285,
    "start_time": "2022-11-12T15:45:56.165Z"
   },
   {
    "duration": 14,
    "start_time": "2022-11-12T15:45:56.451Z"
   },
   {
    "duration": 1997,
    "start_time": "2022-11-12T15:45:56.467Z"
   },
   {
    "duration": 9,
    "start_time": "2022-11-12T15:45:58.469Z"
   },
   {
    "duration": 25,
    "start_time": "2022-11-12T15:45:58.480Z"
   },
   {
    "duration": 8,
    "start_time": "2022-11-12T15:45:58.507Z"
   },
   {
    "duration": 19,
    "start_time": "2022-11-12T15:45:58.517Z"
   },
   {
    "duration": 68,
    "start_time": "2022-11-12T15:45:58.538Z"
   },
   {
    "duration": 7,
    "start_time": "2022-11-12T15:45:58.608Z"
   },
   {
    "duration": 67,
    "start_time": "2022-11-12T15:45:58.618Z"
   },
   {
    "duration": 8,
    "start_time": "2022-11-12T15:45:58.686Z"
   },
   {
    "duration": 4,
    "start_time": "2022-11-12T15:45:58.696Z"
   },
   {
    "duration": 31,
    "start_time": "2022-11-12T15:45:58.701Z"
   },
   {
    "duration": 36,
    "start_time": "2022-11-12T15:45:58.734Z"
   },
   {
    "duration": 5,
    "start_time": "2022-11-12T15:45:58.772Z"
   },
   {
    "duration": 11,
    "start_time": "2022-11-12T15:45:58.778Z"
   },
   {
    "duration": 371,
    "start_time": "2022-11-12T15:45:58.790Z"
   },
   {
    "duration": 14,
    "start_time": "2022-11-12T15:45:59.163Z"
   },
   {
    "duration": 10,
    "start_time": "2022-11-12T15:45:59.179Z"
   },
   {
    "duration": 14,
    "start_time": "2022-11-12T15:45:59.190Z"
   },
   {
    "duration": 4,
    "start_time": "2022-11-12T15:45:59.206Z"
   },
   {
    "duration": 30,
    "start_time": "2022-11-12T15:45:59.211Z"
   },
   {
    "duration": 45,
    "start_time": "2022-11-12T15:45:59.242Z"
   },
   {
    "duration": 21,
    "start_time": "2022-11-12T15:45:59.289Z"
   },
   {
    "duration": 7,
    "start_time": "2022-11-12T15:45:59.311Z"
   },
   {
    "duration": 539,
    "start_time": "2022-11-12T15:45:59.320Z"
   },
   {
    "duration": 0,
    "start_time": "2022-11-12T15:45:59.861Z"
   },
   {
    "duration": 0,
    "start_time": "2022-11-12T15:45:59.862Z"
   },
   {
    "duration": 0,
    "start_time": "2022-11-12T15:45:59.863Z"
   },
   {
    "duration": 0,
    "start_time": "2022-11-12T15:45:59.864Z"
   },
   {
    "duration": 0,
    "start_time": "2022-11-12T15:45:59.865Z"
   },
   {
    "duration": 0,
    "start_time": "2022-11-12T15:45:59.866Z"
   },
   {
    "duration": 0,
    "start_time": "2022-11-12T15:45:59.867Z"
   },
   {
    "duration": 0,
    "start_time": "2022-11-12T15:45:59.868Z"
   },
   {
    "duration": 0,
    "start_time": "2022-11-12T15:45:59.869Z"
   },
   {
    "duration": 0,
    "start_time": "2022-11-12T15:45:59.870Z"
   },
   {
    "duration": 0,
    "start_time": "2022-11-12T15:45:59.871Z"
   },
   {
    "duration": 0,
    "start_time": "2022-11-12T15:45:59.872Z"
   },
   {
    "duration": 0,
    "start_time": "2022-11-12T15:45:59.873Z"
   },
   {
    "duration": 0,
    "start_time": "2022-11-12T15:45:59.874Z"
   },
   {
    "duration": 8,
    "start_time": "2022-11-12T15:46:50.075Z"
   },
   {
    "duration": 171,
    "start_time": "2022-11-12T15:52:59.571Z"
   },
   {
    "duration": 175,
    "start_time": "2022-11-12T15:53:11.708Z"
   },
   {
    "duration": 8,
    "start_time": "2022-11-12T15:54:38.237Z"
   },
   {
    "duration": 1125,
    "start_time": "2022-11-13T08:31:15.653Z"
   },
   {
    "duration": 29,
    "start_time": "2022-11-13T08:31:16.786Z"
   },
   {
    "duration": 2556,
    "start_time": "2022-11-13T08:31:16.817Z"
   },
   {
    "duration": 10,
    "start_time": "2022-11-13T08:31:19.375Z"
   },
   {
    "duration": 25,
    "start_time": "2022-11-13T08:31:19.387Z"
   },
   {
    "duration": 8,
    "start_time": "2022-11-13T08:31:19.414Z"
   },
   {
    "duration": 10,
    "start_time": "2022-11-13T08:31:19.423Z"
   },
   {
    "duration": 44,
    "start_time": "2022-11-13T08:31:19.435Z"
   },
   {
    "duration": 11,
    "start_time": "2022-11-13T08:31:19.482Z"
   },
   {
    "duration": 107,
    "start_time": "2022-11-13T08:31:19.497Z"
   },
   {
    "duration": 8,
    "start_time": "2022-11-13T08:31:19.605Z"
   },
   {
    "duration": 19,
    "start_time": "2022-11-13T08:31:19.615Z"
   },
   {
    "duration": 26,
    "start_time": "2022-11-13T08:31:19.635Z"
   },
   {
    "duration": 13,
    "start_time": "2022-11-13T08:31:19.663Z"
   },
   {
    "duration": 5,
    "start_time": "2022-11-13T08:31:19.678Z"
   },
   {
    "duration": 14,
    "start_time": "2022-11-13T08:31:19.684Z"
   },
   {
    "duration": 373,
    "start_time": "2022-11-13T08:31:19.699Z"
   },
   {
    "duration": 16,
    "start_time": "2022-11-13T08:31:20.073Z"
   },
   {
    "duration": 23,
    "start_time": "2022-11-13T08:31:20.092Z"
   },
   {
    "duration": 27,
    "start_time": "2022-11-13T08:31:20.117Z"
   },
   {
    "duration": 39,
    "start_time": "2022-11-13T08:31:20.146Z"
   },
   {
    "duration": 73,
    "start_time": "2022-11-13T08:31:20.186Z"
   },
   {
    "duration": 33,
    "start_time": "2022-11-13T08:31:20.261Z"
   },
   {
    "duration": 38,
    "start_time": "2022-11-13T08:31:20.296Z"
   },
   {
    "duration": 6,
    "start_time": "2022-11-13T08:31:20.335Z"
   },
   {
    "duration": 625,
    "start_time": "2022-11-13T08:31:20.343Z"
   },
   {
    "duration": 0,
    "start_time": "2022-11-13T08:31:20.972Z"
   },
   {
    "duration": 0,
    "start_time": "2022-11-13T08:31:20.973Z"
   },
   {
    "duration": 0,
    "start_time": "2022-11-13T08:31:20.974Z"
   },
   {
    "duration": 0,
    "start_time": "2022-11-13T08:31:20.975Z"
   },
   {
    "duration": 0,
    "start_time": "2022-11-13T08:31:20.976Z"
   },
   {
    "duration": 0,
    "start_time": "2022-11-13T08:31:20.977Z"
   },
   {
    "duration": 0,
    "start_time": "2022-11-13T08:31:20.978Z"
   },
   {
    "duration": 0,
    "start_time": "2022-11-13T08:31:20.979Z"
   },
   {
    "duration": 0,
    "start_time": "2022-11-13T08:31:20.980Z"
   },
   {
    "duration": 0,
    "start_time": "2022-11-13T08:31:20.981Z"
   },
   {
    "duration": 0,
    "start_time": "2022-11-13T08:31:20.982Z"
   },
   {
    "duration": 0,
    "start_time": "2022-11-13T08:31:20.983Z"
   },
   {
    "duration": 0,
    "start_time": "2022-11-13T08:31:20.984Z"
   },
   {
    "duration": 0,
    "start_time": "2022-11-13T08:31:20.985Z"
   },
   {
    "duration": 0,
    "start_time": "2022-11-13T08:31:20.986Z"
   },
   {
    "duration": 0,
    "start_time": "2022-11-13T08:31:20.987Z"
   },
   {
    "duration": 0,
    "start_time": "2022-11-13T08:31:20.988Z"
   },
   {
    "duration": 11,
    "start_time": "2022-11-13T08:32:33.156Z"
   },
   {
    "duration": 11,
    "start_time": "2022-11-13T08:33:24.844Z"
   },
   {
    "duration": 8,
    "start_time": "2022-11-13T08:33:30.676Z"
   },
   {
    "duration": 4,
    "start_time": "2022-11-13T08:33:31.427Z"
   },
   {
    "duration": 30,
    "start_time": "2022-11-13T08:33:41.217Z"
   },
   {
    "duration": 14,
    "start_time": "2022-11-13T08:33:49.066Z"
   },
   {
    "duration": 5,
    "start_time": "2022-11-13T08:33:52.748Z"
   },
   {
    "duration": 14,
    "start_time": "2022-11-13T08:33:53.675Z"
   },
   {
    "duration": 336,
    "start_time": "2022-11-13T08:34:00.819Z"
   },
   {
    "duration": 14,
    "start_time": "2022-11-13T08:34:02.651Z"
   },
   {
    "duration": 8,
    "start_time": "2022-11-13T08:34:04.620Z"
   },
   {
    "duration": 13,
    "start_time": "2022-11-13T08:34:08.859Z"
   },
   {
    "duration": 8,
    "start_time": "2022-11-13T08:34:27.609Z"
   },
   {
    "duration": 8,
    "start_time": "2022-11-13T08:34:34.218Z"
   },
   {
    "duration": 17,
    "start_time": "2022-11-13T08:34:38.457Z"
   },
   {
    "duration": 15,
    "start_time": "2022-11-13T08:35:04.973Z"
   },
   {
    "duration": 240,
    "start_time": "2022-11-13T08:35:10.588Z"
   },
   {
    "duration": 8,
    "start_time": "2022-11-13T08:35:11.149Z"
   },
   {
    "duration": 18,
    "start_time": "2022-11-13T08:35:13.036Z"
   },
   {
    "duration": 250,
    "start_time": "2022-11-13T08:35:22.705Z"
   },
   {
    "duration": 9,
    "start_time": "2022-11-13T08:35:23.364Z"
   },
   {
    "duration": 373,
    "start_time": "2022-11-13T08:35:28.245Z"
   },
   {
    "duration": 9,
    "start_time": "2022-11-13T08:35:29.209Z"
   },
   {
    "duration": 157,
    "start_time": "2022-11-13T08:35:34.057Z"
   },
   {
    "duration": 10,
    "start_time": "2022-11-13T08:35:36.336Z"
   },
   {
    "duration": 143,
    "start_time": "2022-11-13T08:35:40.545Z"
   },
   {
    "duration": 9,
    "start_time": "2022-11-13T08:35:41.228Z"
   },
   {
    "duration": 188,
    "start_time": "2022-11-13T08:35:43.813Z"
   },
   {
    "duration": 8,
    "start_time": "2022-11-13T08:35:44.705Z"
   },
   {
    "duration": 172,
    "start_time": "2022-11-13T08:35:47.885Z"
   },
   {
    "duration": 8,
    "start_time": "2022-11-13T08:35:48.901Z"
   },
   {
    "duration": 49,
    "start_time": "2022-11-13T08:43:04.081Z"
   },
   {
    "duration": 184,
    "start_time": "2022-11-13T08:43:16.494Z"
   },
   {
    "duration": 203,
    "start_time": "2022-11-13T08:43:59.055Z"
   },
   {
    "duration": 9,
    "start_time": "2022-11-13T08:45:04.556Z"
   },
   {
    "duration": 216,
    "start_time": "2022-11-13T08:45:36.404Z"
   },
   {
    "duration": 203,
    "start_time": "2022-11-13T08:45:46.781Z"
   },
   {
    "duration": 225,
    "start_time": "2022-11-13T08:46:01.773Z"
   },
   {
    "duration": 207,
    "start_time": "2022-11-13T08:46:19.307Z"
   },
   {
    "duration": 9,
    "start_time": "2022-11-13T08:46:31.097Z"
   },
   {
    "duration": 17,
    "start_time": "2022-11-13T08:49:50.102Z"
   },
   {
    "duration": 15,
    "start_time": "2022-11-13T08:51:10.528Z"
   },
   {
    "duration": 134,
    "start_time": "2022-11-13T08:53:35.258Z"
   },
   {
    "duration": 139,
    "start_time": "2022-11-13T08:53:43.198Z"
   },
   {
    "duration": 26,
    "start_time": "2022-11-13T08:53:43.338Z"
   },
   {
    "duration": 508,
    "start_time": "2022-11-13T08:53:43.366Z"
   },
   {
    "duration": 23,
    "start_time": "2022-11-13T08:53:43.876Z"
   },
   {
    "duration": 179,
    "start_time": "2022-11-13T08:53:43.900Z"
   },
   {
    "duration": 19,
    "start_time": "2022-11-13T08:53:44.081Z"
   },
   {
    "duration": 4,
    "start_time": "2022-11-13T08:53:44.102Z"
   },
   {
    "duration": 34,
    "start_time": "2022-11-13T08:53:44.108Z"
   },
   {
    "duration": 14,
    "start_time": "2022-11-13T08:53:44.144Z"
   },
   {
    "duration": 8,
    "start_time": "2022-11-13T08:53:44.160Z"
   },
   {
    "duration": 0,
    "start_time": "2022-11-13T08:53:44.170Z"
   },
   {
    "duration": 0,
    "start_time": "2022-11-13T08:53:44.172Z"
   },
   {
    "duration": 0,
    "start_time": "2022-11-13T08:53:44.173Z"
   },
   {
    "duration": 0,
    "start_time": "2022-11-13T08:53:44.174Z"
   },
   {
    "duration": 0,
    "start_time": "2022-11-13T08:53:44.176Z"
   },
   {
    "duration": 0,
    "start_time": "2022-11-13T08:53:44.178Z"
   },
   {
    "duration": 0,
    "start_time": "2022-11-13T08:53:44.179Z"
   },
   {
    "duration": 0,
    "start_time": "2022-11-13T08:53:44.180Z"
   },
   {
    "duration": 0,
    "start_time": "2022-11-13T08:53:44.181Z"
   },
   {
    "duration": 0,
    "start_time": "2022-11-13T08:53:44.182Z"
   },
   {
    "duration": 0,
    "start_time": "2022-11-13T08:53:44.184Z"
   },
   {
    "duration": 0,
    "start_time": "2022-11-13T08:53:44.185Z"
   },
   {
    "duration": 0,
    "start_time": "2022-11-13T08:53:44.186Z"
   },
   {
    "duration": 0,
    "start_time": "2022-11-13T08:53:44.187Z"
   },
   {
    "duration": 0,
    "start_time": "2022-11-13T08:53:44.189Z"
   },
   {
    "duration": 0,
    "start_time": "2022-11-13T08:53:44.191Z"
   },
   {
    "duration": 0,
    "start_time": "2022-11-13T08:53:44.232Z"
   },
   {
    "duration": 0,
    "start_time": "2022-11-13T08:53:44.234Z"
   },
   {
    "duration": 0,
    "start_time": "2022-11-13T08:53:44.235Z"
   },
   {
    "duration": 0,
    "start_time": "2022-11-13T08:53:44.237Z"
   },
   {
    "duration": 0,
    "start_time": "2022-11-13T08:53:44.238Z"
   },
   {
    "duration": 0,
    "start_time": "2022-11-13T08:53:44.239Z"
   },
   {
    "duration": 0,
    "start_time": "2022-11-13T08:53:44.240Z"
   },
   {
    "duration": 0,
    "start_time": "2022-11-13T08:53:44.241Z"
   },
   {
    "duration": 0,
    "start_time": "2022-11-13T08:53:44.243Z"
   },
   {
    "duration": 0,
    "start_time": "2022-11-13T08:53:44.244Z"
   },
   {
    "duration": 0,
    "start_time": "2022-11-13T08:53:44.245Z"
   },
   {
    "duration": 0,
    "start_time": "2022-11-13T08:53:44.246Z"
   },
   {
    "duration": 0,
    "start_time": "2022-11-13T08:53:44.247Z"
   },
   {
    "duration": 0,
    "start_time": "2022-11-13T08:53:44.248Z"
   },
   {
    "duration": 0,
    "start_time": "2022-11-13T08:53:44.250Z"
   },
   {
    "duration": 0,
    "start_time": "2022-11-13T08:53:44.251Z"
   },
   {
    "duration": 0,
    "start_time": "2022-11-13T08:53:44.252Z"
   },
   {
    "duration": 0,
    "start_time": "2022-11-13T08:53:44.254Z"
   },
   {
    "duration": 0,
    "start_time": "2022-11-13T08:53:44.255Z"
   },
   {
    "duration": 19,
    "start_time": "2022-11-13T08:53:51.821Z"
   },
   {
    "duration": 17,
    "start_time": "2022-11-13T08:54:05.344Z"
   },
   {
    "duration": 17,
    "start_time": "2022-11-13T08:54:16.138Z"
   },
   {
    "duration": 125,
    "start_time": "2022-11-13T08:54:43.489Z"
   },
   {
    "duration": 26,
    "start_time": "2022-11-13T08:54:44.452Z"
   },
   {
    "duration": 448,
    "start_time": "2022-11-13T08:54:45.391Z"
   },
   {
    "duration": 20,
    "start_time": "2022-11-13T08:54:47.068Z"
   },
   {
    "duration": 27,
    "start_time": "2022-11-13T08:54:47.716Z"
   },
   {
    "duration": 20,
    "start_time": "2022-11-13T08:54:48.323Z"
   },
   {
    "duration": 4,
    "start_time": "2022-11-13T08:54:48.979Z"
   },
   {
    "duration": 35,
    "start_time": "2022-11-13T08:54:51.328Z"
   },
   {
    "duration": 15,
    "start_time": "2022-11-13T08:54:52.012Z"
   },
   {
    "duration": 9,
    "start_time": "2022-11-13T08:54:52.716Z"
   },
   {
    "duration": 19,
    "start_time": "2022-11-13T08:54:53.520Z"
   },
   {
    "duration": 105,
    "start_time": "2022-11-13T08:55:15.270Z"
   },
   {
    "duration": 38,
    "start_time": "2022-11-13T08:55:26.166Z"
   },
   {
    "duration": 9,
    "start_time": "2022-11-13T08:55:35.672Z"
   },
   {
    "duration": 215,
    "start_time": "2022-11-13T08:55:45.195Z"
   },
   {
    "duration": 13,
    "start_time": "2022-11-13T08:55:47.742Z"
   },
   {
    "duration": 216,
    "start_time": "2022-11-13T08:55:49.946Z"
   },
   {
    "duration": 263,
    "start_time": "2022-11-13T08:55:53.978Z"
   },
   {
    "duration": 9,
    "start_time": "2022-11-13T08:55:54.552Z"
   },
   {
    "duration": 407,
    "start_time": "2022-11-13T08:55:59.865Z"
   },
   {
    "duration": 8,
    "start_time": "2022-11-13T08:56:04.168Z"
   },
   {
    "duration": 136,
    "start_time": "2022-11-13T08:56:05.374Z"
   },
   {
    "duration": 8,
    "start_time": "2022-11-13T08:56:05.941Z"
   },
   {
    "duration": 139,
    "start_time": "2022-11-13T08:56:07.910Z"
   },
   {
    "duration": 8,
    "start_time": "2022-11-13T08:56:11.661Z"
   },
   {
    "duration": 198,
    "start_time": "2022-11-13T08:56:12.206Z"
   },
   {
    "duration": 11,
    "start_time": "2022-11-13T08:56:12.781Z"
   },
   {
    "duration": 177,
    "start_time": "2022-11-13T08:56:15.597Z"
   },
   {
    "duration": 9,
    "start_time": "2022-11-13T08:56:16.182Z"
   },
   {
    "duration": 210,
    "start_time": "2022-11-13T08:56:16.965Z"
   },
   {
    "duration": 9,
    "start_time": "2022-11-13T08:56:17.917Z"
   },
   {
    "duration": 7,
    "start_time": "2022-11-13T08:58:14.365Z"
   },
   {
    "duration": 166,
    "start_time": "2022-11-13T09:06:10.659Z"
   },
   {
    "duration": 202,
    "start_time": "2022-11-13T09:06:29.340Z"
   },
   {
    "duration": 9,
    "start_time": "2022-11-13T09:07:09.622Z"
   },
   {
    "duration": 198,
    "start_time": "2022-11-13T09:10:37.074Z"
   },
   {
    "duration": 202,
    "start_time": "2022-11-13T09:10:47.342Z"
   },
   {
    "duration": 210,
    "start_time": "2022-11-13T09:10:55.244Z"
   },
   {
    "duration": 9,
    "start_time": "2022-11-13T09:11:24.083Z"
   },
   {
    "duration": 12,
    "start_time": "2022-11-13T09:13:12.845Z"
   },
   {
    "duration": 13,
    "start_time": "2022-11-13T09:20:29.051Z"
   },
   {
    "duration": 687,
    "start_time": "2022-11-13T09:21:33.343Z"
   },
   {
    "duration": 11,
    "start_time": "2022-11-13T09:21:53.198Z"
   },
   {
    "duration": 10,
    "start_time": "2022-11-13T09:22:04.228Z"
   },
   {
    "duration": 8,
    "start_time": "2022-11-13T09:22:26.721Z"
   },
   {
    "duration": 9,
    "start_time": "2022-11-13T09:22:37.232Z"
   },
   {
    "duration": 110,
    "start_time": "2022-11-13T09:22:43.142Z"
   },
   {
    "duration": 10,
    "start_time": "2022-11-13T09:22:59.926Z"
   },
   {
    "duration": 154,
    "start_time": "2022-11-13T09:23:30.249Z"
   },
   {
    "duration": 19,
    "start_time": "2022-11-13T09:23:51.143Z"
   },
   {
    "duration": 116,
    "start_time": "2022-11-13T09:23:58.193Z"
   },
   {
    "duration": 37,
    "start_time": "2022-11-13T09:23:58.311Z"
   },
   {
    "duration": 1913,
    "start_time": "2022-11-13T09:23:58.349Z"
   },
   {
    "duration": 10,
    "start_time": "2022-11-13T09:24:00.265Z"
   },
   {
    "duration": 83,
    "start_time": "2022-11-13T09:24:00.277Z"
   },
   {
    "duration": 14,
    "start_time": "2022-11-13T09:24:00.361Z"
   },
   {
    "duration": 20,
    "start_time": "2022-11-13T09:24:00.376Z"
   },
   {
    "duration": 76,
    "start_time": "2022-11-13T09:24:00.398Z"
   },
   {
    "duration": 7,
    "start_time": "2022-11-13T09:24:00.475Z"
   },
   {
    "duration": 67,
    "start_time": "2022-11-13T09:24:00.484Z"
   },
   {
    "duration": 7,
    "start_time": "2022-11-13T09:24:00.553Z"
   },
   {
    "duration": 47,
    "start_time": "2022-11-13T09:24:00.562Z"
   },
   {
    "duration": 56,
    "start_time": "2022-11-13T09:24:00.611Z"
   },
   {
    "duration": 22,
    "start_time": "2022-11-13T09:24:00.669Z"
   },
   {
    "duration": 34,
    "start_time": "2022-11-13T09:24:00.693Z"
   },
   {
    "duration": 44,
    "start_time": "2022-11-13T09:24:00.729Z"
   },
   {
    "duration": 376,
    "start_time": "2022-11-13T09:24:00.776Z"
   },
   {
    "duration": 14,
    "start_time": "2022-11-13T09:24:01.154Z"
   },
   {
    "duration": 65,
    "start_time": "2022-11-13T09:24:01.170Z"
   },
   {
    "duration": 59,
    "start_time": "2022-11-13T09:24:01.237Z"
   },
   {
    "duration": 55,
    "start_time": "2022-11-13T09:24:01.298Z"
   },
   {
    "duration": 72,
    "start_time": "2022-11-13T09:24:01.355Z"
   },
   {
    "duration": 49,
    "start_time": "2022-11-13T09:24:01.429Z"
   },
   {
    "duration": 35,
    "start_time": "2022-11-13T09:24:01.480Z"
   },
   {
    "duration": 37,
    "start_time": "2022-11-13T09:24:01.516Z"
   },
   {
    "duration": 682,
    "start_time": "2022-11-13T09:24:01.555Z"
   },
   {
    "duration": 0,
    "start_time": "2022-11-13T09:24:02.239Z"
   },
   {
    "duration": 0,
    "start_time": "2022-11-13T09:24:02.241Z"
   },
   {
    "duration": 0,
    "start_time": "2022-11-13T09:24:02.243Z"
   },
   {
    "duration": 0,
    "start_time": "2022-11-13T09:24:02.244Z"
   },
   {
    "duration": 0,
    "start_time": "2022-11-13T09:24:02.246Z"
   },
   {
    "duration": 0,
    "start_time": "2022-11-13T09:24:02.247Z"
   },
   {
    "duration": 0,
    "start_time": "2022-11-13T09:24:02.248Z"
   },
   {
    "duration": 0,
    "start_time": "2022-11-13T09:24:02.249Z"
   },
   {
    "duration": 0,
    "start_time": "2022-11-13T09:24:02.250Z"
   },
   {
    "duration": 0,
    "start_time": "2022-11-13T09:24:02.251Z"
   },
   {
    "duration": 0,
    "start_time": "2022-11-13T09:24:02.252Z"
   },
   {
    "duration": 0,
    "start_time": "2022-11-13T09:24:02.253Z"
   },
   {
    "duration": 0,
    "start_time": "2022-11-13T09:24:02.255Z"
   },
   {
    "duration": 0,
    "start_time": "2022-11-13T09:24:02.256Z"
   },
   {
    "duration": 0,
    "start_time": "2022-11-13T09:24:02.257Z"
   },
   {
    "duration": 0,
    "start_time": "2022-11-13T09:24:02.258Z"
   },
   {
    "duration": 0,
    "start_time": "2022-11-13T09:24:02.259Z"
   },
   {
    "duration": 0,
    "start_time": "2022-11-13T09:24:02.260Z"
   },
   {
    "duration": 0,
    "start_time": "2022-11-13T09:24:02.261Z"
   },
   {
    "duration": 0,
    "start_time": "2022-11-13T09:24:02.262Z"
   },
   {
    "duration": 0,
    "start_time": "2022-11-13T09:24:02.263Z"
   },
   {
    "duration": 0,
    "start_time": "2022-11-13T09:24:02.264Z"
   },
   {
    "duration": 1,
    "start_time": "2022-11-13T09:24:02.265Z"
   },
   {
    "duration": 6,
    "start_time": "2022-11-13T09:25:16.556Z"
   },
   {
    "duration": 174,
    "start_time": "2022-11-13T09:26:00.223Z"
   },
   {
    "duration": 234,
    "start_time": "2022-11-13T09:26:13.946Z"
   },
   {
    "duration": 8,
    "start_time": "2022-11-13T09:26:15.082Z"
   },
   {
    "duration": 16,
    "start_time": "2022-11-13T09:26:18.336Z"
   },
   {
    "duration": 258,
    "start_time": "2022-11-13T09:26:22.905Z"
   },
   {
    "duration": 8,
    "start_time": "2022-11-13T09:26:23.785Z"
   },
   {
    "duration": 440,
    "start_time": "2022-11-13T09:26:25.073Z"
   },
   {
    "duration": 9,
    "start_time": "2022-11-13T09:26:25.641Z"
   },
   {
    "duration": 147,
    "start_time": "2022-11-13T09:26:27.437Z"
   },
   {
    "duration": 8,
    "start_time": "2022-11-13T09:26:28.281Z"
   },
   {
    "duration": 135,
    "start_time": "2022-11-13T09:26:29.817Z"
   },
   {
    "duration": 9,
    "start_time": "2022-11-13T09:26:30.529Z"
   },
   {
    "duration": 186,
    "start_time": "2022-11-13T09:26:31.124Z"
   },
   {
    "duration": 9,
    "start_time": "2022-11-13T09:26:31.872Z"
   },
   {
    "duration": 179,
    "start_time": "2022-11-13T09:26:32.666Z"
   },
   {
    "duration": 9,
    "start_time": "2022-11-13T09:26:33.345Z"
   },
   {
    "duration": 15,
    "start_time": "2022-11-13T09:26:34.339Z"
   },
   {
    "duration": 10,
    "start_time": "2022-11-13T09:26:34.553Z"
   },
   {
    "duration": 17,
    "start_time": "2022-11-13T09:27:20.433Z"
   },
   {
    "duration": 17,
    "start_time": "2022-11-13T09:27:43.625Z"
   },
   {
    "duration": 203,
    "start_time": "2022-11-13T09:27:58.521Z"
   },
   {
    "duration": 24,
    "start_time": "2022-11-13T09:28:07.221Z"
   },
   {
    "duration": 6,
    "start_time": "2022-11-13T09:28:15.603Z"
   },
   {
    "duration": 36,
    "start_time": "2022-11-13T09:29:16.457Z"
   },
   {
    "duration": 10,
    "start_time": "2022-11-13T09:29:22.213Z"
   },
   {
    "duration": 15,
    "start_time": "2022-11-13T09:30:21.228Z"
   },
   {
    "duration": 5,
    "start_time": "2022-11-13T10:32:43.363Z"
   },
   {
    "duration": 824,
    "start_time": "2022-11-13T10:37:47.319Z"
   },
   {
    "duration": 159,
    "start_time": "2022-11-13T10:38:12.967Z"
   },
   {
    "duration": 8,
    "start_time": "2022-11-13T10:38:52.779Z"
   },
   {
    "duration": 156,
    "start_time": "2022-11-13T11:00:57.959Z"
   },
   {
    "duration": 292,
    "start_time": "2022-11-13T11:01:13.841Z"
   },
   {
    "duration": 277,
    "start_time": "2022-11-13T11:01:42.616Z"
   },
   {
    "duration": 11,
    "start_time": "2022-11-13T11:08:36.676Z"
   },
   {
    "duration": 223,
    "start_time": "2022-11-13T11:08:56.546Z"
   },
   {
    "duration": 454,
    "start_time": "2022-11-13T11:10:04.833Z"
   },
   {
    "duration": 217,
    "start_time": "2022-11-13T11:10:38.218Z"
   },
   {
    "duration": 217,
    "start_time": "2022-11-13T11:10:48.136Z"
   },
   {
    "duration": 269,
    "start_time": "2022-11-13T11:11:44.135Z"
   },
   {
    "duration": 323,
    "start_time": "2022-11-13T11:11:56.243Z"
   },
   {
    "duration": 216,
    "start_time": "2022-11-13T11:12:17.598Z"
   },
   {
    "duration": 205,
    "start_time": "2022-11-13T11:12:34.283Z"
   },
   {
    "duration": 301,
    "start_time": "2022-11-13T11:13:19.097Z"
   },
   {
    "duration": 252,
    "start_time": "2022-11-13T11:13:30.507Z"
   },
   {
    "duration": 13,
    "start_time": "2022-11-13T11:14:11.613Z"
   },
   {
    "duration": 207,
    "start_time": "2022-11-13T11:15:01.843Z"
   },
   {
    "duration": 230,
    "start_time": "2022-11-13T11:44:58.016Z"
   },
   {
    "duration": 768,
    "start_time": "2022-11-14T13:40:31.966Z"
   },
   {
    "duration": 13,
    "start_time": "2022-11-14T13:40:32.736Z"
   },
   {
    "duration": 2414,
    "start_time": "2022-11-14T13:40:32.751Z"
   },
   {
    "duration": 12,
    "start_time": "2022-11-14T13:40:35.167Z"
   },
   {
    "duration": 25,
    "start_time": "2022-11-14T13:40:35.182Z"
   },
   {
    "duration": 8,
    "start_time": "2022-11-14T13:40:35.209Z"
   },
   {
    "duration": 12,
    "start_time": "2022-11-14T13:40:35.219Z"
   },
   {
    "duration": 68,
    "start_time": "2022-11-14T13:40:35.233Z"
   },
   {
    "duration": 7,
    "start_time": "2022-11-14T13:40:35.303Z"
   },
   {
    "duration": 74,
    "start_time": "2022-11-14T13:40:35.312Z"
   },
   {
    "duration": 8,
    "start_time": "2022-11-14T13:40:35.388Z"
   },
   {
    "duration": 9,
    "start_time": "2022-11-14T13:40:35.398Z"
   },
   {
    "duration": 29,
    "start_time": "2022-11-14T13:40:35.408Z"
   },
   {
    "duration": 38,
    "start_time": "2022-11-14T13:40:35.440Z"
   },
   {
    "duration": 6,
    "start_time": "2022-11-14T13:40:35.480Z"
   },
   {
    "duration": 14,
    "start_time": "2022-11-14T13:40:35.488Z"
   },
   {
    "duration": 361,
    "start_time": "2022-11-14T13:40:35.504Z"
   },
   {
    "duration": 14,
    "start_time": "2022-11-14T13:40:35.868Z"
   },
   {
    "duration": 11,
    "start_time": "2022-11-14T13:40:35.884Z"
   },
   {
    "duration": 18,
    "start_time": "2022-11-14T13:40:35.897Z"
   },
   {
    "duration": 4,
    "start_time": "2022-11-14T13:40:35.917Z"
   },
   {
    "duration": 46,
    "start_time": "2022-11-14T13:40:35.923Z"
   },
   {
    "duration": 20,
    "start_time": "2022-11-14T13:40:35.970Z"
   },
   {
    "duration": 21,
    "start_time": "2022-11-14T13:40:35.991Z"
   },
   {
    "duration": 5,
    "start_time": "2022-11-14T13:40:36.013Z"
   },
   {
    "duration": 866,
    "start_time": "2022-11-14T13:40:36.020Z"
   },
   {
    "duration": 0,
    "start_time": "2022-11-14T13:40:36.889Z"
   },
   {
    "duration": 0,
    "start_time": "2022-11-14T13:40:36.891Z"
   },
   {
    "duration": 0,
    "start_time": "2022-11-14T13:40:36.892Z"
   },
   {
    "duration": 0,
    "start_time": "2022-11-14T13:40:36.893Z"
   },
   {
    "duration": 0,
    "start_time": "2022-11-14T13:40:36.894Z"
   },
   {
    "duration": 0,
    "start_time": "2022-11-14T13:40:36.895Z"
   },
   {
    "duration": 0,
    "start_time": "2022-11-14T13:40:36.896Z"
   },
   {
    "duration": 0,
    "start_time": "2022-11-14T13:40:36.897Z"
   },
   {
    "duration": 0,
    "start_time": "2022-11-14T13:40:36.898Z"
   },
   {
    "duration": 0,
    "start_time": "2022-11-14T13:40:36.899Z"
   },
   {
    "duration": 0,
    "start_time": "2022-11-14T13:40:36.900Z"
   },
   {
    "duration": 0,
    "start_time": "2022-11-14T13:40:36.901Z"
   },
   {
    "duration": 0,
    "start_time": "2022-11-14T13:40:36.903Z"
   },
   {
    "duration": 0,
    "start_time": "2022-11-14T13:40:36.904Z"
   },
   {
    "duration": 0,
    "start_time": "2022-11-14T13:40:36.905Z"
   },
   {
    "duration": 0,
    "start_time": "2022-11-14T13:40:36.906Z"
   },
   {
    "duration": 0,
    "start_time": "2022-11-14T13:40:36.907Z"
   },
   {
    "duration": 0,
    "start_time": "2022-11-14T13:40:36.908Z"
   },
   {
    "duration": 0,
    "start_time": "2022-11-14T13:40:36.910Z"
   },
   {
    "duration": 0,
    "start_time": "2022-11-14T13:40:36.911Z"
   },
   {
    "duration": 0,
    "start_time": "2022-11-14T13:40:36.912Z"
   },
   {
    "duration": 0,
    "start_time": "2022-11-14T13:40:36.913Z"
   },
   {
    "duration": 0,
    "start_time": "2022-11-14T13:40:36.914Z"
   },
   {
    "duration": 0,
    "start_time": "2022-11-14T13:40:36.915Z"
   },
   {
    "duration": 0,
    "start_time": "2022-11-14T13:40:36.916Z"
   },
   {
    "duration": 0,
    "start_time": "2022-11-14T13:40:36.917Z"
   },
   {
    "duration": 0,
    "start_time": "2022-11-14T13:40:36.918Z"
   },
   {
    "duration": 0,
    "start_time": "2022-11-14T13:40:36.919Z"
   },
   {
    "duration": 0,
    "start_time": "2022-11-14T13:40:36.920Z"
   },
   {
    "duration": 0,
    "start_time": "2022-11-14T13:40:36.921Z"
   },
   {
    "duration": 211,
    "start_time": "2022-11-14T13:41:51.786Z"
   },
   {
    "duration": 215,
    "start_time": "2022-11-14T13:41:57.667Z"
   },
   {
    "duration": 14,
    "start_time": "2022-11-14T13:43:06.737Z"
   },
   {
    "duration": 597,
    "start_time": "2022-11-15T07:40:10.903Z"
   },
   {
    "duration": 15,
    "start_time": "2022-11-15T07:40:11.502Z"
   },
   {
    "duration": 2485,
    "start_time": "2022-11-15T07:40:11.519Z"
   },
   {
    "duration": 10,
    "start_time": "2022-11-15T07:40:14.006Z"
   },
   {
    "duration": 37,
    "start_time": "2022-11-15T07:40:14.017Z"
   },
   {
    "duration": 11,
    "start_time": "2022-11-15T07:40:14.056Z"
   },
   {
    "duration": 9,
    "start_time": "2022-11-15T07:40:14.069Z"
   },
   {
    "duration": 73,
    "start_time": "2022-11-15T07:40:14.080Z"
   },
   {
    "duration": 8,
    "start_time": "2022-11-15T07:40:14.156Z"
   },
   {
    "duration": 92,
    "start_time": "2022-11-15T07:40:14.167Z"
   },
   {
    "duration": 12,
    "start_time": "2022-11-15T07:40:14.261Z"
   },
   {
    "duration": 6,
    "start_time": "2022-11-15T07:40:14.275Z"
   },
   {
    "duration": 50,
    "start_time": "2022-11-15T07:40:14.283Z"
   },
   {
    "duration": 13,
    "start_time": "2022-11-15T07:40:14.335Z"
   },
   {
    "duration": 8,
    "start_time": "2022-11-15T07:40:14.349Z"
   },
   {
    "duration": 21,
    "start_time": "2022-11-15T07:40:14.358Z"
   },
   {
    "duration": 351,
    "start_time": "2022-11-15T07:40:14.381Z"
   },
   {
    "duration": 15,
    "start_time": "2022-11-15T07:40:14.734Z"
   },
   {
    "duration": 13,
    "start_time": "2022-11-15T07:40:14.750Z"
   },
   {
    "duration": 18,
    "start_time": "2022-11-15T07:40:14.764Z"
   },
   {
    "duration": 3,
    "start_time": "2022-11-15T07:40:14.784Z"
   },
   {
    "duration": 42,
    "start_time": "2022-11-15T07:40:14.789Z"
   },
   {
    "duration": 21,
    "start_time": "2022-11-15T07:40:14.832Z"
   },
   {
    "duration": 21,
    "start_time": "2022-11-15T07:40:14.854Z"
   },
   {
    "duration": 5,
    "start_time": "2022-11-15T07:40:14.877Z"
   },
   {
    "duration": 1532,
    "start_time": "2022-11-15T07:40:14.883Z"
   },
   {
    "duration": 0,
    "start_time": "2022-11-15T07:40:16.418Z"
   },
   {
    "duration": 0,
    "start_time": "2022-11-15T07:40:16.419Z"
   },
   {
    "duration": 0,
    "start_time": "2022-11-15T07:40:16.421Z"
   },
   {
    "duration": 0,
    "start_time": "2022-11-15T07:40:16.422Z"
   },
   {
    "duration": 0,
    "start_time": "2022-11-15T07:40:16.423Z"
   },
   {
    "duration": 0,
    "start_time": "2022-11-15T07:40:16.425Z"
   },
   {
    "duration": 0,
    "start_time": "2022-11-15T07:40:16.426Z"
   },
   {
    "duration": 0,
    "start_time": "2022-11-15T07:40:16.428Z"
   },
   {
    "duration": 0,
    "start_time": "2022-11-15T07:40:16.429Z"
   },
   {
    "duration": 0,
    "start_time": "2022-11-15T07:40:16.431Z"
   },
   {
    "duration": 0,
    "start_time": "2022-11-15T07:40:16.432Z"
   },
   {
    "duration": 0,
    "start_time": "2022-11-15T07:40:16.434Z"
   },
   {
    "duration": 0,
    "start_time": "2022-11-15T07:40:16.435Z"
   },
   {
    "duration": 0,
    "start_time": "2022-11-15T07:40:16.437Z"
   },
   {
    "duration": 0,
    "start_time": "2022-11-15T07:40:16.438Z"
   },
   {
    "duration": 0,
    "start_time": "2022-11-15T07:40:16.440Z"
   },
   {
    "duration": 0,
    "start_time": "2022-11-15T07:40:16.441Z"
   },
   {
    "duration": 0,
    "start_time": "2022-11-15T07:40:16.443Z"
   },
   {
    "duration": 0,
    "start_time": "2022-11-15T07:40:16.444Z"
   },
   {
    "duration": 0,
    "start_time": "2022-11-15T07:40:16.445Z"
   },
   {
    "duration": 0,
    "start_time": "2022-11-15T07:40:16.446Z"
   },
   {
    "duration": 0,
    "start_time": "2022-11-15T07:40:16.447Z"
   },
   {
    "duration": 0,
    "start_time": "2022-11-15T07:40:16.448Z"
   },
   {
    "duration": 0,
    "start_time": "2022-11-15T07:40:16.448Z"
   },
   {
    "duration": 0,
    "start_time": "2022-11-15T07:40:16.449Z"
   },
   {
    "duration": 0,
    "start_time": "2022-11-15T07:40:16.450Z"
   },
   {
    "duration": 0,
    "start_time": "2022-11-15T07:40:16.452Z"
   },
   {
    "duration": 0,
    "start_time": "2022-11-15T07:40:16.453Z"
   },
   {
    "duration": 0,
    "start_time": "2022-11-15T07:40:16.454Z"
   },
   {
    "duration": 0,
    "start_time": "2022-11-15T07:40:16.455Z"
   },
   {
    "duration": 0,
    "start_time": "2022-11-15T07:40:16.457Z"
   },
   {
    "duration": 5,
    "start_time": "2022-11-15T07:42:48.373Z"
   },
   {
    "duration": 8,
    "start_time": "2022-11-15T07:46:05.674Z"
   },
   {
    "duration": 9,
    "start_time": "2022-11-15T07:46:42.462Z"
   },
   {
    "duration": 8,
    "start_time": "2022-11-15T07:46:52.350Z"
   },
   {
    "duration": 13,
    "start_time": "2022-11-15T07:47:04.659Z"
   },
   {
    "duration": 8,
    "start_time": "2022-11-15T07:47:20.352Z"
   },
   {
    "duration": 9,
    "start_time": "2022-11-15T07:47:38.741Z"
   },
   {
    "duration": 8,
    "start_time": "2022-11-15T07:47:49.910Z"
   },
   {
    "duration": 5,
    "start_time": "2022-11-15T07:48:09.464Z"
   },
   {
    "duration": 8,
    "start_time": "2022-11-15T07:48:32.761Z"
   },
   {
    "duration": 8,
    "start_time": "2022-11-15T07:48:42.863Z"
   },
   {
    "duration": 11,
    "start_time": "2022-11-15T07:55:56.324Z"
   },
   {
    "duration": 16,
    "start_time": "2022-11-15T07:56:09.242Z"
   },
   {
    "duration": 79,
    "start_time": "2022-11-15T14:49:59.693Z"
   },
   {
    "duration": 43,
    "start_time": "2022-11-15T14:50:06.497Z"
   },
   {
    "duration": 596,
    "start_time": "2022-11-15T14:50:18.481Z"
   },
   {
    "duration": 18,
    "start_time": "2022-11-15T14:50:19.079Z"
   },
   {
    "duration": 2562,
    "start_time": "2022-11-15T14:50:19.099Z"
   },
   {
    "duration": 11,
    "start_time": "2022-11-15T14:50:21.663Z"
   },
   {
    "duration": 31,
    "start_time": "2022-11-15T14:50:21.675Z"
   },
   {
    "duration": 8,
    "start_time": "2022-11-15T14:50:21.707Z"
   },
   {
    "duration": 4,
    "start_time": "2022-11-15T14:50:21.717Z"
   },
   {
    "duration": 50,
    "start_time": "2022-11-15T14:50:21.722Z"
   },
   {
    "duration": 9,
    "start_time": "2022-11-15T14:50:21.773Z"
   },
   {
    "duration": 78,
    "start_time": "2022-11-15T14:50:21.785Z"
   },
   {
    "duration": 8,
    "start_time": "2022-11-15T14:50:21.865Z"
   },
   {
    "duration": 7,
    "start_time": "2022-11-15T14:50:21.874Z"
   },
   {
    "duration": 29,
    "start_time": "2022-11-15T14:50:21.882Z"
   },
   {
    "duration": 14,
    "start_time": "2022-11-15T14:50:21.927Z"
   },
   {
    "duration": 5,
    "start_time": "2022-11-15T14:50:21.942Z"
   },
   {
    "duration": 28,
    "start_time": "2022-11-15T14:50:21.949Z"
   },
   {
    "duration": 345,
    "start_time": "2022-11-15T14:50:21.980Z"
   },
   {
    "duration": 15,
    "start_time": "2022-11-15T14:50:22.327Z"
   },
   {
    "duration": 11,
    "start_time": "2022-11-15T14:50:22.343Z"
   },
   {
    "duration": 30,
    "start_time": "2022-11-15T14:50:22.355Z"
   },
   {
    "duration": 4,
    "start_time": "2022-11-15T14:50:22.387Z"
   },
   {
    "duration": 35,
    "start_time": "2022-11-15T14:50:22.393Z"
   },
   {
    "duration": 23,
    "start_time": "2022-11-15T14:50:22.429Z"
   },
   {
    "duration": 22,
    "start_time": "2022-11-15T14:50:22.454Z"
   },
   {
    "duration": 6,
    "start_time": "2022-11-15T14:50:22.477Z"
   },
   {
    "duration": 936,
    "start_time": "2022-11-15T14:50:22.484Z"
   },
   {
    "duration": 0,
    "start_time": "2022-11-15T14:50:23.423Z"
   },
   {
    "duration": 0,
    "start_time": "2022-11-15T14:50:23.424Z"
   },
   {
    "duration": 0,
    "start_time": "2022-11-15T14:50:23.425Z"
   },
   {
    "duration": 0,
    "start_time": "2022-11-15T14:50:23.426Z"
   },
   {
    "duration": 0,
    "start_time": "2022-11-15T14:50:23.427Z"
   },
   {
    "duration": 0,
    "start_time": "2022-11-15T14:50:23.428Z"
   },
   {
    "duration": 0,
    "start_time": "2022-11-15T14:50:23.429Z"
   },
   {
    "duration": 0,
    "start_time": "2022-11-15T14:50:23.430Z"
   },
   {
    "duration": 0,
    "start_time": "2022-11-15T14:50:23.431Z"
   },
   {
    "duration": 0,
    "start_time": "2022-11-15T14:50:23.432Z"
   },
   {
    "duration": 0,
    "start_time": "2022-11-15T14:50:23.433Z"
   },
   {
    "duration": 0,
    "start_time": "2022-11-15T14:50:23.434Z"
   },
   {
    "duration": 0,
    "start_time": "2022-11-15T14:50:23.435Z"
   },
   {
    "duration": 0,
    "start_time": "2022-11-15T14:50:23.436Z"
   },
   {
    "duration": 0,
    "start_time": "2022-11-15T14:50:23.437Z"
   },
   {
    "duration": 0,
    "start_time": "2022-11-15T14:50:23.438Z"
   },
   {
    "duration": 0,
    "start_time": "2022-11-15T14:50:23.439Z"
   },
   {
    "duration": 0,
    "start_time": "2022-11-15T14:50:23.440Z"
   },
   {
    "duration": 0,
    "start_time": "2022-11-15T14:50:23.442Z"
   },
   {
    "duration": 0,
    "start_time": "2022-11-15T14:50:23.443Z"
   },
   {
    "duration": 0,
    "start_time": "2022-11-15T14:50:23.444Z"
   },
   {
    "duration": 0,
    "start_time": "2022-11-15T14:50:23.446Z"
   },
   {
    "duration": 0,
    "start_time": "2022-11-15T14:50:23.447Z"
   },
   {
    "duration": 0,
    "start_time": "2022-11-15T14:50:23.448Z"
   },
   {
    "duration": 0,
    "start_time": "2022-11-15T14:50:23.450Z"
   },
   {
    "duration": 0,
    "start_time": "2022-11-15T14:50:23.450Z"
   },
   {
    "duration": 0,
    "start_time": "2022-11-15T14:50:23.452Z"
   },
   {
    "duration": 1,
    "start_time": "2022-11-15T14:50:23.452Z"
   },
   {
    "duration": 0,
    "start_time": "2022-11-15T14:50:23.453Z"
   },
   {
    "duration": 0,
    "start_time": "2022-11-15T14:50:23.454Z"
   },
   {
    "duration": 0,
    "start_time": "2022-11-15T14:50:23.455Z"
   },
   {
    "duration": 0,
    "start_time": "2022-11-15T14:50:23.456Z"
   },
   {
    "duration": 0,
    "start_time": "2022-11-15T14:50:23.457Z"
   },
   {
    "duration": 0,
    "start_time": "2022-11-15T14:50:23.458Z"
   },
   {
    "duration": 20,
    "start_time": "2022-11-15T14:50:39.804Z"
   },
   {
    "duration": 10,
    "start_time": "2022-11-15T14:51:02.435Z"
   },
   {
    "duration": 17,
    "start_time": "2022-11-15T14:52:33.198Z"
   },
   {
    "duration": 698,
    "start_time": "2022-11-15T14:52:53.680Z"
   },
   {
    "duration": 14,
    "start_time": "2022-11-15T14:53:29.033Z"
   },
   {
    "duration": 18,
    "start_time": "2022-11-15T14:53:42.871Z"
   },
   {
    "duration": 11,
    "start_time": "2022-11-15T14:53:56.414Z"
   },
   {
    "duration": 25,
    "start_time": "2022-11-15T14:59:21.411Z"
   },
   {
    "duration": 19,
    "start_time": "2022-11-15T14:59:51.802Z"
   },
   {
    "duration": 411,
    "start_time": "2022-11-15T15:01:48.150Z"
   },
   {
    "duration": 19,
    "start_time": "2022-11-15T15:02:26.709Z"
   },
   {
    "duration": 23,
    "start_time": "2022-11-15T15:03:15.758Z"
   },
   {
    "duration": 18,
    "start_time": "2022-11-15T15:03:23.089Z"
   },
   {
    "duration": 10,
    "start_time": "2022-11-15T15:03:23.329Z"
   },
   {
    "duration": 21,
    "start_time": "2022-11-15T15:03:56.248Z"
   },
   {
    "duration": 22,
    "start_time": "2022-11-15T15:04:34.220Z"
   },
   {
    "duration": 21,
    "start_time": "2022-11-15T15:06:21.291Z"
   },
   {
    "duration": 18,
    "start_time": "2022-11-15T15:06:45.141Z"
   },
   {
    "duration": 17,
    "start_time": "2022-11-15T15:11:04.762Z"
   },
   {
    "duration": 18,
    "start_time": "2022-11-15T15:14:54.107Z"
   },
   {
    "duration": 19,
    "start_time": "2022-11-15T15:16:39.876Z"
   },
   {
    "duration": 18,
    "start_time": "2022-11-15T15:17:38.424Z"
   },
   {
    "duration": 16,
    "start_time": "2022-11-15T15:18:08.204Z"
   },
   {
    "duration": 795,
    "start_time": "2022-11-16T13:18:31.190Z"
   },
   {
    "duration": 14,
    "start_time": "2022-11-16T13:18:31.987Z"
   },
   {
    "duration": 2337,
    "start_time": "2022-11-16T13:18:32.003Z"
   },
   {
    "duration": 10,
    "start_time": "2022-11-16T13:18:34.342Z"
   },
   {
    "duration": 26,
    "start_time": "2022-11-16T13:18:34.354Z"
   },
   {
    "duration": 8,
    "start_time": "2022-11-16T13:18:34.381Z"
   },
   {
    "duration": 4,
    "start_time": "2022-11-16T13:18:34.391Z"
   },
   {
    "duration": 55,
    "start_time": "2022-11-16T13:18:34.397Z"
   },
   {
    "duration": 7,
    "start_time": "2022-11-16T13:18:34.454Z"
   },
   {
    "duration": 71,
    "start_time": "2022-11-16T13:18:34.464Z"
   },
   {
    "duration": 7,
    "start_time": "2022-11-16T13:18:34.537Z"
   },
   {
    "duration": 5,
    "start_time": "2022-11-16T13:18:34.545Z"
   },
   {
    "duration": 27,
    "start_time": "2022-11-16T13:18:34.551Z"
   },
   {
    "duration": 39,
    "start_time": "2022-11-16T13:18:34.580Z"
   },
   {
    "duration": 5,
    "start_time": "2022-11-16T13:18:34.620Z"
   },
   {
    "duration": 13,
    "start_time": "2022-11-16T13:18:34.626Z"
   },
   {
    "duration": 346,
    "start_time": "2022-11-16T13:18:34.640Z"
   },
   {
    "duration": 14,
    "start_time": "2022-11-16T13:18:34.988Z"
   },
   {
    "duration": 15,
    "start_time": "2022-11-16T13:18:35.003Z"
   },
   {
    "duration": 25,
    "start_time": "2022-11-16T13:18:35.020Z"
   },
   {
    "duration": 4,
    "start_time": "2022-11-16T13:18:35.047Z"
   },
   {
    "duration": 40,
    "start_time": "2022-11-16T13:18:35.052Z"
   },
   {
    "duration": 19,
    "start_time": "2022-11-16T13:18:35.094Z"
   },
   {
    "duration": 19,
    "start_time": "2022-11-16T13:18:35.116Z"
   },
   {
    "duration": 5,
    "start_time": "2022-11-16T13:18:35.136Z"
   },
   {
    "duration": 634,
    "start_time": "2022-11-16T13:18:35.142Z"
   },
   {
    "duration": 0,
    "start_time": "2022-11-16T13:18:35.779Z"
   },
   {
    "duration": 0,
    "start_time": "2022-11-16T13:18:35.781Z"
   },
   {
    "duration": 0,
    "start_time": "2022-11-16T13:18:35.782Z"
   },
   {
    "duration": 0,
    "start_time": "2022-11-16T13:18:35.783Z"
   },
   {
    "duration": 0,
    "start_time": "2022-11-16T13:18:35.784Z"
   },
   {
    "duration": 0,
    "start_time": "2022-11-16T13:18:35.785Z"
   },
   {
    "duration": 0,
    "start_time": "2022-11-16T13:18:35.787Z"
   },
   {
    "duration": 0,
    "start_time": "2022-11-16T13:18:35.788Z"
   },
   {
    "duration": 0,
    "start_time": "2022-11-16T13:18:35.789Z"
   },
   {
    "duration": 0,
    "start_time": "2022-11-16T13:18:35.790Z"
   },
   {
    "duration": 0,
    "start_time": "2022-11-16T13:18:35.791Z"
   },
   {
    "duration": 0,
    "start_time": "2022-11-16T13:18:35.792Z"
   },
   {
    "duration": 0,
    "start_time": "2022-11-16T13:18:35.793Z"
   },
   {
    "duration": 0,
    "start_time": "2022-11-16T13:18:35.794Z"
   },
   {
    "duration": 0,
    "start_time": "2022-11-16T13:18:35.795Z"
   },
   {
    "duration": 0,
    "start_time": "2022-11-16T13:18:35.796Z"
   },
   {
    "duration": 0,
    "start_time": "2022-11-16T13:18:35.797Z"
   },
   {
    "duration": 0,
    "start_time": "2022-11-16T13:18:35.798Z"
   },
   {
    "duration": 0,
    "start_time": "2022-11-16T13:18:35.799Z"
   },
   {
    "duration": 0,
    "start_time": "2022-11-16T13:18:35.800Z"
   },
   {
    "duration": 0,
    "start_time": "2022-11-16T13:18:35.801Z"
   },
   {
    "duration": 0,
    "start_time": "2022-11-16T13:18:35.802Z"
   },
   {
    "duration": 0,
    "start_time": "2022-11-16T13:18:35.803Z"
   },
   {
    "duration": 0,
    "start_time": "2022-11-16T13:18:35.804Z"
   },
   {
    "duration": 0,
    "start_time": "2022-11-16T13:18:35.805Z"
   },
   {
    "duration": 0,
    "start_time": "2022-11-16T13:18:35.806Z"
   },
   {
    "duration": 0,
    "start_time": "2022-11-16T13:18:35.807Z"
   },
   {
    "duration": 0,
    "start_time": "2022-11-16T13:18:35.808Z"
   },
   {
    "duration": 0,
    "start_time": "2022-11-16T13:18:35.809Z"
   },
   {
    "duration": 0,
    "start_time": "2022-11-16T13:18:35.810Z"
   },
   {
    "duration": 0,
    "start_time": "2022-11-16T13:18:35.811Z"
   },
   {
    "duration": 0,
    "start_time": "2022-11-16T13:18:35.813Z"
   },
   {
    "duration": 0,
    "start_time": "2022-11-16T13:18:35.814Z"
   },
   {
    "duration": 0,
    "start_time": "2022-11-16T13:18:35.815Z"
   },
   {
    "duration": 18,
    "start_time": "2022-11-16T13:18:47.219Z"
   },
   {
    "duration": 48,
    "start_time": "2022-11-16T13:18:58.011Z"
   },
   {
    "duration": 22,
    "start_time": "2022-11-16T13:19:11.068Z"
   },
   {
    "duration": 27,
    "start_time": "2022-11-16T13:19:58.622Z"
   },
   {
    "duration": 41,
    "start_time": "2022-11-16T13:31:06.441Z"
   },
   {
    "duration": 53,
    "start_time": "2022-11-16T13:34:15.800Z"
   },
   {
    "duration": 18,
    "start_time": "2022-11-16T13:35:34.320Z"
   },
   {
    "duration": 41,
    "start_time": "2022-11-16T13:35:48.695Z"
   },
   {
    "duration": 22,
    "start_time": "2022-11-16T13:46:56.067Z"
   },
   {
    "duration": 7,
    "start_time": "2022-11-16T13:49:31.840Z"
   },
   {
    "duration": 1087,
    "start_time": "2022-11-16T13:51:04.381Z"
   },
   {
    "duration": 910,
    "start_time": "2022-11-16T13:51:41.942Z"
   },
   {
    "duration": 14,
    "start_time": "2022-11-16T13:53:34.594Z"
   },
   {
    "duration": 15,
    "start_time": "2022-11-16T13:53:48.228Z"
   },
   {
    "duration": 152,
    "start_time": "2022-11-16T13:54:01.618Z"
   },
   {
    "duration": 849,
    "start_time": "2022-11-16T14:00:52.452Z"
   },
   {
    "duration": 16,
    "start_time": "2022-11-16T14:02:16.736Z"
   },
   {
    "duration": 16,
    "start_time": "2022-11-16T14:09:36.982Z"
   },
   {
    "duration": 3,
    "start_time": "2022-11-16T14:09:38.242Z"
   },
   {
    "duration": 772,
    "start_time": "2022-11-16T14:12:52.437Z"
   },
   {
    "duration": 110,
    "start_time": "2022-11-16T14:13:58.578Z"
   },
   {
    "duration": 34,
    "start_time": "2022-11-16T14:13:58.690Z"
   },
   {
    "duration": 2037,
    "start_time": "2022-11-16T14:13:58.726Z"
   },
   {
    "duration": 10,
    "start_time": "2022-11-16T14:14:00.765Z"
   },
   {
    "duration": 41,
    "start_time": "2022-11-16T14:14:00.776Z"
   },
   {
    "duration": 15,
    "start_time": "2022-11-16T14:14:00.819Z"
   },
   {
    "duration": 22,
    "start_time": "2022-11-16T14:14:00.836Z"
   },
   {
    "duration": 70,
    "start_time": "2022-11-16T14:14:00.860Z"
   },
   {
    "duration": 8,
    "start_time": "2022-11-16T14:14:00.931Z"
   },
   {
    "duration": 75,
    "start_time": "2022-11-16T14:14:00.943Z"
   },
   {
    "duration": 8,
    "start_time": "2022-11-16T14:14:01.020Z"
   },
   {
    "duration": 31,
    "start_time": "2022-11-16T14:14:01.030Z"
   },
   {
    "duration": 52,
    "start_time": "2022-11-16T14:14:01.062Z"
   },
   {
    "duration": 24,
    "start_time": "2022-11-16T14:14:01.116Z"
   },
   {
    "duration": 38,
    "start_time": "2022-11-16T14:14:01.141Z"
   },
   {
    "duration": 30,
    "start_time": "2022-11-16T14:14:01.181Z"
   },
   {
    "duration": 354,
    "start_time": "2022-11-16T14:14:01.213Z"
   },
   {
    "duration": 16,
    "start_time": "2022-11-16T14:14:01.569Z"
   },
   {
    "duration": 29,
    "start_time": "2022-11-16T14:14:01.586Z"
   },
   {
    "duration": 39,
    "start_time": "2022-11-16T14:14:01.617Z"
   },
   {
    "duration": 5,
    "start_time": "2022-11-16T14:14:01.658Z"
   },
   {
    "duration": 46,
    "start_time": "2022-11-16T14:14:01.665Z"
   },
   {
    "duration": 24,
    "start_time": "2022-11-16T14:14:01.713Z"
   },
   {
    "duration": 21,
    "start_time": "2022-11-16T14:14:01.739Z"
   },
   {
    "duration": 19,
    "start_time": "2022-11-16T14:14:01.762Z"
   },
   {
    "duration": 37,
    "start_time": "2022-11-16T14:14:01.783Z"
   },
   {
    "duration": 0,
    "start_time": "2022-11-16T14:14:01.823Z"
   },
   {
    "duration": 0,
    "start_time": "2022-11-16T14:14:01.825Z"
   },
   {
    "duration": 0,
    "start_time": "2022-11-16T14:14:01.826Z"
   },
   {
    "duration": 0,
    "start_time": "2022-11-16T14:14:01.828Z"
   },
   {
    "duration": 0,
    "start_time": "2022-11-16T14:14:01.829Z"
   },
   {
    "duration": 0,
    "start_time": "2022-11-16T14:14:01.831Z"
   },
   {
    "duration": 0,
    "start_time": "2022-11-16T14:14:01.832Z"
   },
   {
    "duration": 0,
    "start_time": "2022-11-16T14:14:01.834Z"
   },
   {
    "duration": 0,
    "start_time": "2022-11-16T14:14:01.835Z"
   },
   {
    "duration": 0,
    "start_time": "2022-11-16T14:14:01.837Z"
   },
   {
    "duration": 0,
    "start_time": "2022-11-16T14:14:01.838Z"
   },
   {
    "duration": 0,
    "start_time": "2022-11-16T14:14:01.840Z"
   },
   {
    "duration": 0,
    "start_time": "2022-11-16T14:14:01.841Z"
   },
   {
    "duration": 0,
    "start_time": "2022-11-16T14:14:01.843Z"
   },
   {
    "duration": 0,
    "start_time": "2022-11-16T14:14:01.844Z"
   },
   {
    "duration": 0,
    "start_time": "2022-11-16T14:14:01.846Z"
   },
   {
    "duration": 0,
    "start_time": "2022-11-16T14:14:01.847Z"
   },
   {
    "duration": 0,
    "start_time": "2022-11-16T14:14:01.848Z"
   },
   {
    "duration": 0,
    "start_time": "2022-11-16T14:14:01.849Z"
   },
   {
    "duration": 0,
    "start_time": "2022-11-16T14:14:01.850Z"
   },
   {
    "duration": 0,
    "start_time": "2022-11-16T14:14:01.852Z"
   },
   {
    "duration": 0,
    "start_time": "2022-11-16T14:14:01.853Z"
   },
   {
    "duration": 0,
    "start_time": "2022-11-16T14:14:01.854Z"
   },
   {
    "duration": 0,
    "start_time": "2022-11-16T14:14:01.855Z"
   },
   {
    "duration": 0,
    "start_time": "2022-11-16T14:14:01.857Z"
   },
   {
    "duration": 0,
    "start_time": "2022-11-16T14:14:01.857Z"
   },
   {
    "duration": 0,
    "start_time": "2022-11-16T14:14:01.859Z"
   },
   {
    "duration": 0,
    "start_time": "2022-11-16T14:14:01.860Z"
   },
   {
    "duration": 0,
    "start_time": "2022-11-16T14:14:01.916Z"
   },
   {
    "duration": 0,
    "start_time": "2022-11-16T14:14:01.918Z"
   },
   {
    "duration": 0,
    "start_time": "2022-11-16T14:14:01.919Z"
   },
   {
    "duration": 0,
    "start_time": "2022-11-16T14:14:01.920Z"
   },
   {
    "duration": 0,
    "start_time": "2022-11-16T14:14:01.921Z"
   },
   {
    "duration": 0,
    "start_time": "2022-11-16T14:14:01.922Z"
   },
   {
    "duration": 0,
    "start_time": "2022-11-16T14:14:01.924Z"
   },
   {
    "duration": 0,
    "start_time": "2022-11-16T14:14:01.925Z"
   },
   {
    "duration": 0,
    "start_time": "2022-11-16T14:14:01.926Z"
   },
   {
    "duration": 30,
    "start_time": "2022-11-16T14:18:57.608Z"
   },
   {
    "duration": 15,
    "start_time": "2022-11-16T14:22:02.917Z"
   },
   {
    "duration": 878,
    "start_time": "2022-11-16T14:22:13.884Z"
   },
   {
    "duration": 530,
    "start_time": "2022-11-16T20:54:44.778Z"
   },
   {
    "duration": 14,
    "start_time": "2022-11-16T20:54:45.309Z"
   },
   {
    "duration": 2255,
    "start_time": "2022-11-16T20:54:45.325Z"
   },
   {
    "duration": 9,
    "start_time": "2022-11-16T20:54:47.582Z"
   },
   {
    "duration": 24,
    "start_time": "2022-11-16T20:54:47.593Z"
   },
   {
    "duration": 8,
    "start_time": "2022-11-16T20:54:47.622Z"
   },
   {
    "duration": 4,
    "start_time": "2022-11-16T20:54:47.631Z"
   },
   {
    "duration": 43,
    "start_time": "2022-11-16T20:54:47.637Z"
   },
   {
    "duration": 7,
    "start_time": "2022-11-16T20:54:47.681Z"
   },
   {
    "duration": 80,
    "start_time": "2022-11-16T20:54:47.690Z"
   },
   {
    "duration": 6,
    "start_time": "2022-11-16T20:54:47.772Z"
   },
   {
    "duration": 4,
    "start_time": "2022-11-16T20:54:47.780Z"
   },
   {
    "duration": 47,
    "start_time": "2022-11-16T20:54:47.785Z"
   },
   {
    "duration": 14,
    "start_time": "2022-11-16T20:54:47.834Z"
   },
   {
    "duration": 17,
    "start_time": "2022-11-16T20:54:47.850Z"
   },
   {
    "duration": 12,
    "start_time": "2022-11-16T20:54:47.869Z"
   },
   {
    "duration": 318,
    "start_time": "2022-11-16T20:54:47.883Z"
   },
   {
    "duration": 20,
    "start_time": "2022-11-16T20:54:48.203Z"
   },
   {
    "duration": 9,
    "start_time": "2022-11-16T20:54:48.224Z"
   },
   {
    "duration": 25,
    "start_time": "2022-11-16T20:54:48.234Z"
   },
   {
    "duration": 4,
    "start_time": "2022-11-16T20:54:48.260Z"
   },
   {
    "duration": 26,
    "start_time": "2022-11-16T20:54:48.265Z"
   },
   {
    "duration": 31,
    "start_time": "2022-11-16T20:54:48.292Z"
   },
   {
    "duration": 20,
    "start_time": "2022-11-16T20:54:48.324Z"
   },
   {
    "duration": 5,
    "start_time": "2022-11-16T20:54:48.346Z"
   },
   {
    "duration": 98,
    "start_time": "2022-11-16T20:54:48.352Z"
   },
   {
    "duration": 0,
    "start_time": "2022-11-16T20:54:48.454Z"
   },
   {
    "duration": 0,
    "start_time": "2022-11-16T20:54:48.455Z"
   },
   {
    "duration": 0,
    "start_time": "2022-11-16T20:54:48.456Z"
   },
   {
    "duration": 0,
    "start_time": "2022-11-16T20:54:48.458Z"
   },
   {
    "duration": 0,
    "start_time": "2022-11-16T20:54:48.459Z"
   },
   {
    "duration": 0,
    "start_time": "2022-11-16T20:54:48.460Z"
   },
   {
    "duration": 0,
    "start_time": "2022-11-16T20:54:48.461Z"
   },
   {
    "duration": 0,
    "start_time": "2022-11-16T20:54:48.462Z"
   },
   {
    "duration": 0,
    "start_time": "2022-11-16T20:54:48.463Z"
   },
   {
    "duration": 0,
    "start_time": "2022-11-16T20:54:48.464Z"
   },
   {
    "duration": 0,
    "start_time": "2022-11-16T20:54:48.465Z"
   },
   {
    "duration": 0,
    "start_time": "2022-11-16T20:54:48.466Z"
   },
   {
    "duration": 0,
    "start_time": "2022-11-16T20:54:48.467Z"
   },
   {
    "duration": 0,
    "start_time": "2022-11-16T20:54:48.468Z"
   },
   {
    "duration": 0,
    "start_time": "2022-11-16T20:54:48.470Z"
   },
   {
    "duration": 0,
    "start_time": "2022-11-16T20:54:48.471Z"
   },
   {
    "duration": 0,
    "start_time": "2022-11-16T20:54:48.472Z"
   },
   {
    "duration": 0,
    "start_time": "2022-11-16T20:54:48.474Z"
   },
   {
    "duration": 0,
    "start_time": "2022-11-16T20:54:48.475Z"
   },
   {
    "duration": 0,
    "start_time": "2022-11-16T20:54:48.477Z"
   },
   {
    "duration": 0,
    "start_time": "2022-11-16T20:54:48.523Z"
   },
   {
    "duration": 0,
    "start_time": "2022-11-16T20:54:48.523Z"
   },
   {
    "duration": 1,
    "start_time": "2022-11-16T20:54:48.524Z"
   },
   {
    "duration": 0,
    "start_time": "2022-11-16T20:54:48.525Z"
   },
   {
    "duration": 0,
    "start_time": "2022-11-16T20:54:48.526Z"
   },
   {
    "duration": 0,
    "start_time": "2022-11-16T20:54:48.527Z"
   },
   {
    "duration": 0,
    "start_time": "2022-11-16T20:54:48.528Z"
   },
   {
    "duration": 0,
    "start_time": "2022-11-16T20:54:48.529Z"
   },
   {
    "duration": 0,
    "start_time": "2022-11-16T20:54:48.530Z"
   },
   {
    "duration": 0,
    "start_time": "2022-11-16T20:54:48.531Z"
   },
   {
    "duration": 0,
    "start_time": "2022-11-16T20:54:48.532Z"
   },
   {
    "duration": 0,
    "start_time": "2022-11-16T20:54:48.533Z"
   },
   {
    "duration": 0,
    "start_time": "2022-11-16T20:54:48.534Z"
   },
   {
    "duration": 0,
    "start_time": "2022-11-16T20:54:48.536Z"
   },
   {
    "duration": 0,
    "start_time": "2022-11-16T20:54:48.537Z"
   },
   {
    "duration": 0,
    "start_time": "2022-11-16T20:54:48.538Z"
   },
   {
    "duration": 0,
    "start_time": "2022-11-16T20:54:48.539Z"
   },
   {
    "duration": 1094,
    "start_time": "2022-11-16T20:55:08.173Z"
   },
   {
    "duration": 752,
    "start_time": "2022-11-17T15:01:31.325Z"
   },
   {
    "duration": 22,
    "start_time": "2022-11-17T15:01:32.080Z"
   },
   {
    "duration": 2392,
    "start_time": "2022-11-17T15:01:32.105Z"
   },
   {
    "duration": 10,
    "start_time": "2022-11-17T15:01:34.499Z"
   },
   {
    "duration": 28,
    "start_time": "2022-11-17T15:01:34.510Z"
   },
   {
    "duration": 7,
    "start_time": "2022-11-17T15:01:34.540Z"
   },
   {
    "duration": 8,
    "start_time": "2022-11-17T15:01:34.548Z"
   },
   {
    "duration": 56,
    "start_time": "2022-11-17T15:01:34.557Z"
   },
   {
    "duration": 7,
    "start_time": "2022-11-17T15:01:34.614Z"
   },
   {
    "duration": 92,
    "start_time": "2022-11-17T15:01:34.624Z"
   },
   {
    "duration": 6,
    "start_time": "2022-11-17T15:01:34.718Z"
   },
   {
    "duration": 6,
    "start_time": "2022-11-17T15:01:34.726Z"
   },
   {
    "duration": 55,
    "start_time": "2022-11-17T15:01:34.734Z"
   },
   {
    "duration": 14,
    "start_time": "2022-11-17T15:01:34.791Z"
   },
   {
    "duration": 21,
    "start_time": "2022-11-17T15:01:34.807Z"
   },
   {
    "duration": 14,
    "start_time": "2022-11-17T15:01:34.830Z"
   },
   {
    "duration": 379,
    "start_time": "2022-11-17T15:01:34.846Z"
   },
   {
    "duration": 18,
    "start_time": "2022-11-17T15:01:35.227Z"
   },
   {
    "duration": 12,
    "start_time": "2022-11-17T15:01:35.247Z"
   },
   {
    "duration": 18,
    "start_time": "2022-11-17T15:01:35.275Z"
   },
   {
    "duration": 5,
    "start_time": "2022-11-17T15:01:35.295Z"
   },
   {
    "duration": 35,
    "start_time": "2022-11-17T15:01:35.302Z"
   },
   {
    "duration": 44,
    "start_time": "2022-11-17T15:01:35.338Z"
   },
   {
    "duration": 21,
    "start_time": "2022-11-17T15:01:35.384Z"
   },
   {
    "duration": 7,
    "start_time": "2022-11-17T15:01:35.407Z"
   },
   {
    "duration": 113,
    "start_time": "2022-11-17T15:01:35.416Z"
   },
   {
    "duration": 0,
    "start_time": "2022-11-17T15:01:35.534Z"
   },
   {
    "duration": 0,
    "start_time": "2022-11-17T15:01:35.535Z"
   },
   {
    "duration": 0,
    "start_time": "2022-11-17T15:01:35.537Z"
   },
   {
    "duration": 0,
    "start_time": "2022-11-17T15:01:35.538Z"
   },
   {
    "duration": 0,
    "start_time": "2022-11-17T15:01:35.539Z"
   },
   {
    "duration": 0,
    "start_time": "2022-11-17T15:01:35.541Z"
   },
   {
    "duration": 0,
    "start_time": "2022-11-17T15:01:35.542Z"
   },
   {
    "duration": 0,
    "start_time": "2022-11-17T15:01:35.544Z"
   },
   {
    "duration": 0,
    "start_time": "2022-11-17T15:01:35.545Z"
   },
   {
    "duration": 0,
    "start_time": "2022-11-17T15:01:35.546Z"
   },
   {
    "duration": 0,
    "start_time": "2022-11-17T15:01:35.548Z"
   },
   {
    "duration": 0,
    "start_time": "2022-11-17T15:01:35.549Z"
   },
   {
    "duration": 0,
    "start_time": "2022-11-17T15:01:35.550Z"
   },
   {
    "duration": 0,
    "start_time": "2022-11-17T15:01:35.577Z"
   },
   {
    "duration": 0,
    "start_time": "2022-11-17T15:01:35.578Z"
   },
   {
    "duration": 0,
    "start_time": "2022-11-17T15:01:35.579Z"
   },
   {
    "duration": 0,
    "start_time": "2022-11-17T15:01:35.581Z"
   },
   {
    "duration": 0,
    "start_time": "2022-11-17T15:01:35.582Z"
   },
   {
    "duration": 0,
    "start_time": "2022-11-17T15:01:35.584Z"
   },
   {
    "duration": 0,
    "start_time": "2022-11-17T15:01:35.585Z"
   },
   {
    "duration": 0,
    "start_time": "2022-11-17T15:01:35.586Z"
   },
   {
    "duration": 0,
    "start_time": "2022-11-17T15:01:35.587Z"
   },
   {
    "duration": 0,
    "start_time": "2022-11-17T15:01:35.588Z"
   },
   {
    "duration": 0,
    "start_time": "2022-11-17T15:01:35.589Z"
   },
   {
    "duration": 0,
    "start_time": "2022-11-17T15:01:35.590Z"
   },
   {
    "duration": 0,
    "start_time": "2022-11-17T15:01:35.591Z"
   },
   {
    "duration": 0,
    "start_time": "2022-11-17T15:01:35.593Z"
   },
   {
    "duration": 0,
    "start_time": "2022-11-17T15:01:35.594Z"
   },
   {
    "duration": 0,
    "start_time": "2022-11-17T15:01:35.595Z"
   },
   {
    "duration": 0,
    "start_time": "2022-11-17T15:01:35.596Z"
   },
   {
    "duration": 0,
    "start_time": "2022-11-17T15:01:35.597Z"
   },
   {
    "duration": 0,
    "start_time": "2022-11-17T15:01:35.599Z"
   },
   {
    "duration": 0,
    "start_time": "2022-11-17T15:01:35.600Z"
   },
   {
    "duration": 0,
    "start_time": "2022-11-17T15:01:35.601Z"
   },
   {
    "duration": 0,
    "start_time": "2022-11-17T15:01:35.602Z"
   },
   {
    "duration": 0,
    "start_time": "2022-11-17T15:01:35.603Z"
   },
   {
    "duration": 0,
    "start_time": "2022-11-17T15:01:35.604Z"
   },
   {
    "duration": 52,
    "start_time": "2022-11-17T15:01:58.909Z"
   },
   {
    "duration": 52,
    "start_time": "2022-11-17T15:02:14.798Z"
   },
   {
    "duration": 14,
    "start_time": "2022-11-17T15:03:44.551Z"
   },
   {
    "duration": 44,
    "start_time": "2022-11-17T15:04:08.059Z"
   },
   {
    "duration": 180,
    "start_time": "2022-11-17T15:06:18.404Z"
   },
   {
    "duration": 236,
    "start_time": "2022-11-17T15:06:34.192Z"
   },
   {
    "duration": 255,
    "start_time": "2022-11-17T15:09:06.428Z"
   },
   {
    "duration": 261,
    "start_time": "2022-11-17T15:10:10.426Z"
   },
   {
    "duration": 31,
    "start_time": "2022-11-17T15:12:48.532Z"
   },
   {
    "duration": 240,
    "start_time": "2022-11-17T15:13:18.630Z"
   },
   {
    "duration": 206,
    "start_time": "2022-11-17T15:21:06.771Z"
   },
   {
    "duration": 155,
    "start_time": "2022-11-17T15:21:11.375Z"
   },
   {
    "duration": 21,
    "start_time": "2022-11-17T15:21:38.693Z"
   },
   {
    "duration": 194,
    "start_time": "2022-11-17T15:25:09.793Z"
   },
   {
    "duration": 7,
    "start_time": "2022-11-17T15:25:13.176Z"
   },
   {
    "duration": 15,
    "start_time": "2022-11-17T15:25:23.778Z"
   },
   {
    "duration": 240,
    "start_time": "2022-11-17T15:36:25.677Z"
   },
   {
    "duration": 11,
    "start_time": "2022-11-17T15:36:30.305Z"
   },
   {
    "duration": 347,
    "start_time": "2022-11-17T15:36:34.267Z"
   },
   {
    "duration": 9,
    "start_time": "2022-11-17T15:36:37.416Z"
   },
   {
    "duration": 147,
    "start_time": "2022-11-17T15:36:47.231Z"
   },
   {
    "duration": 8,
    "start_time": "2022-11-17T15:36:48.319Z"
   },
   {
    "duration": 133,
    "start_time": "2022-11-17T15:36:52.751Z"
   },
   {
    "duration": 8,
    "start_time": "2022-11-17T15:36:53.374Z"
   },
   {
    "duration": 203,
    "start_time": "2022-11-17T15:36:53.840Z"
   },
   {
    "duration": 8,
    "start_time": "2022-11-17T15:36:54.278Z"
   },
   {
    "duration": 361,
    "start_time": "2022-11-17T15:36:54.727Z"
   },
   {
    "duration": 11,
    "start_time": "2022-11-17T15:36:55.202Z"
   },
   {
    "duration": 16,
    "start_time": "2022-11-17T15:36:55.688Z"
   },
   {
    "duration": 12,
    "start_time": "2022-11-17T15:36:56.198Z"
   },
   {
    "duration": 26,
    "start_time": "2022-11-17T15:36:56.630Z"
   },
   {
    "duration": 24,
    "start_time": "2022-11-17T15:38:57.034Z"
   },
   {
    "duration": 214,
    "start_time": "2022-11-17T15:39:07.215Z"
   },
   {
    "duration": 15,
    "start_time": "2022-11-17T15:43:01.443Z"
   },
   {
    "duration": 749,
    "start_time": "2022-11-17T16:23:21.677Z"
   },
   {
    "duration": 74,
    "start_time": "2022-11-17T16:23:48.977Z"
   },
   {
    "duration": 1300,
    "start_time": "2022-11-17T16:25:07.308Z"
   },
   {
    "duration": 602,
    "start_time": "2022-11-17T16:27:09.360Z"
   },
   {
    "duration": 28,
    "start_time": "2022-11-17T16:27:37.546Z"
   },
   {
    "duration": 140,
    "start_time": "2022-11-17T16:28:25.614Z"
   },
   {
    "duration": 1238,
    "start_time": "2022-11-17T16:28:40.616Z"
   },
   {
    "duration": 24,
    "start_time": "2022-11-17T16:43:30.475Z"
   },
   {
    "duration": 6,
    "start_time": "2022-11-17T16:46:36.405Z"
   },
   {
    "duration": 5,
    "start_time": "2022-11-17T16:47:33.643Z"
   },
   {
    "duration": 10,
    "start_time": "2022-11-17T16:48:15.521Z"
   },
   {
    "duration": 11,
    "start_time": "2022-11-17T16:48:20.861Z"
   },
   {
    "duration": 8,
    "start_time": "2022-11-17T16:49:26.385Z"
   },
   {
    "duration": 16,
    "start_time": "2022-11-17T16:50:25.714Z"
   },
   {
    "duration": 24,
    "start_time": "2022-11-17T16:51:09.407Z"
   },
   {
    "duration": 224,
    "start_time": "2022-11-17T16:52:09.502Z"
   },
   {
    "duration": 11,
    "start_time": "2022-11-17T16:52:23.794Z"
   },
   {
    "duration": 15,
    "start_time": "2022-11-17T16:53:04.458Z"
   },
   {
    "duration": 20,
    "start_time": "2022-11-17T16:54:17.100Z"
   },
   {
    "duration": 10,
    "start_time": "2022-11-17T16:54:26.560Z"
   },
   {
    "duration": 15,
    "start_time": "2022-11-17T16:55:20.751Z"
   },
   {
    "duration": 22,
    "start_time": "2022-11-17T16:55:46.393Z"
   },
   {
    "duration": 188,
    "start_time": "2022-11-17T16:56:56.315Z"
   },
   {
    "duration": 200,
    "start_time": "2022-11-17T16:57:38.261Z"
   },
   {
    "duration": 8,
    "start_time": "2022-11-17T16:57:56.874Z"
   },
   {
    "duration": 302,
    "start_time": "2022-11-17T16:58:23.376Z"
   },
   {
    "duration": 8,
    "start_time": "2022-11-17T16:59:18.166Z"
   },
   {
    "duration": 7,
    "start_time": "2022-11-17T16:59:44.550Z"
   },
   {
    "duration": 130,
    "start_time": "2022-11-17T17:07:39.533Z"
   },
   {
    "duration": 163,
    "start_time": "2022-11-17T17:08:46.612Z"
   },
   {
    "duration": 837,
    "start_time": "2022-11-17T17:09:49.853Z"
   },
   {
    "duration": 151,
    "start_time": "2022-11-17T17:10:03.756Z"
   },
   {
    "duration": 100,
    "start_time": "2022-11-17T17:51:50.145Z"
   },
   {
    "duration": 13,
    "start_time": "2022-11-17T17:51:50.247Z"
   },
   {
    "duration": 1714,
    "start_time": "2022-11-17T17:51:50.262Z"
   },
   {
    "duration": 8,
    "start_time": "2022-11-17T17:51:51.978Z"
   },
   {
    "duration": 28,
    "start_time": "2022-11-17T17:51:51.988Z"
   },
   {
    "duration": 6,
    "start_time": "2022-11-17T17:51:52.017Z"
   },
   {
    "duration": 12,
    "start_time": "2022-11-17T17:51:52.025Z"
   },
   {
    "duration": 50,
    "start_time": "2022-11-17T17:51:52.038Z"
   },
   {
    "duration": 6,
    "start_time": "2022-11-17T17:51:52.089Z"
   },
   {
    "duration": 45,
    "start_time": "2022-11-17T17:51:52.097Z"
   },
   {
    "duration": 7,
    "start_time": "2022-11-17T17:51:52.144Z"
   },
   {
    "duration": 27,
    "start_time": "2022-11-17T17:51:52.152Z"
   },
   {
    "duration": 33,
    "start_time": "2022-11-17T17:51:52.180Z"
   },
   {
    "duration": 10,
    "start_time": "2022-11-17T17:51:52.215Z"
   },
   {
    "duration": 4,
    "start_time": "2022-11-17T17:51:52.226Z"
   },
   {
    "duration": 27,
    "start_time": "2022-11-17T17:51:52.231Z"
   },
   {
    "duration": 317,
    "start_time": "2022-11-17T17:51:52.259Z"
   },
   {
    "duration": 12,
    "start_time": "2022-11-17T17:51:52.578Z"
   },
   {
    "duration": 17,
    "start_time": "2022-11-17T17:51:52.592Z"
   },
   {
    "duration": 13,
    "start_time": "2022-11-17T17:51:52.610Z"
   },
   {
    "duration": 4,
    "start_time": "2022-11-17T17:51:52.625Z"
   },
   {
    "duration": 26,
    "start_time": "2022-11-17T17:51:52.631Z"
   },
   {
    "duration": 25,
    "start_time": "2022-11-17T17:51:52.658Z"
   },
   {
    "duration": 17,
    "start_time": "2022-11-17T17:51:52.684Z"
   },
   {
    "duration": 4,
    "start_time": "2022-11-17T17:51:52.703Z"
   },
   {
    "duration": 289,
    "start_time": "2022-11-17T17:51:52.709Z"
   },
   {
    "duration": 19,
    "start_time": "2022-11-17T17:51:53.001Z"
   },
   {
    "duration": 16,
    "start_time": "2022-11-17T17:51:53.021Z"
   },
   {
    "duration": 220,
    "start_time": "2022-11-17T17:51:53.038Z"
   },
   {
    "duration": 16,
    "start_time": "2022-11-17T17:51:53.260Z"
   },
   {
    "duration": 17,
    "start_time": "2022-11-17T17:51:53.278Z"
   },
   {
    "duration": 0,
    "start_time": "2022-11-17T17:51:53.297Z"
   },
   {
    "duration": 0,
    "start_time": "2022-11-17T17:51:53.298Z"
   },
   {
    "duration": 0,
    "start_time": "2022-11-17T17:51:53.299Z"
   },
   {
    "duration": 0,
    "start_time": "2022-11-17T17:51:53.300Z"
   },
   {
    "duration": 0,
    "start_time": "2022-11-17T17:51:53.301Z"
   },
   {
    "duration": 0,
    "start_time": "2022-11-17T17:51:53.302Z"
   },
   {
    "duration": 0,
    "start_time": "2022-11-17T17:51:53.303Z"
   },
   {
    "duration": 0,
    "start_time": "2022-11-17T17:51:53.304Z"
   },
   {
    "duration": 0,
    "start_time": "2022-11-17T17:51:53.305Z"
   },
   {
    "duration": 0,
    "start_time": "2022-11-17T17:51:53.305Z"
   },
   {
    "duration": 0,
    "start_time": "2022-11-17T17:51:53.306Z"
   },
   {
    "duration": 0,
    "start_time": "2022-11-17T17:51:53.308Z"
   },
   {
    "duration": 0,
    "start_time": "2022-11-17T17:51:53.309Z"
   },
   {
    "duration": 0,
    "start_time": "2022-11-17T17:51:53.310Z"
   },
   {
    "duration": 0,
    "start_time": "2022-11-17T17:51:53.311Z"
   },
   {
    "duration": 0,
    "start_time": "2022-11-17T17:51:53.312Z"
   },
   {
    "duration": 0,
    "start_time": "2022-11-17T17:51:53.313Z"
   },
   {
    "duration": 0,
    "start_time": "2022-11-17T17:51:53.314Z"
   },
   {
    "duration": 0,
    "start_time": "2022-11-17T17:51:53.315Z"
   },
   {
    "duration": 0,
    "start_time": "2022-11-17T17:51:53.317Z"
   },
   {
    "duration": 0,
    "start_time": "2022-11-17T17:51:53.317Z"
   },
   {
    "duration": 0,
    "start_time": "2022-11-17T17:51:53.319Z"
   },
   {
    "duration": 0,
    "start_time": "2022-11-17T17:51:53.320Z"
   },
   {
    "duration": 0,
    "start_time": "2022-11-17T17:51:53.321Z"
   },
   {
    "duration": 0,
    "start_time": "2022-11-17T17:51:53.323Z"
   },
   {
    "duration": 0,
    "start_time": "2022-11-17T17:51:53.324Z"
   },
   {
    "duration": 0,
    "start_time": "2022-11-17T17:51:53.325Z"
   },
   {
    "duration": 0,
    "start_time": "2022-11-17T17:51:53.376Z"
   },
   {
    "duration": 0,
    "start_time": "2022-11-17T17:51:53.377Z"
   },
   {
    "duration": 0,
    "start_time": "2022-11-17T17:51:53.378Z"
   },
   {
    "duration": 0,
    "start_time": "2022-11-17T17:51:53.378Z"
   },
   {
    "duration": 0,
    "start_time": "2022-11-17T17:51:53.379Z"
   },
   {
    "duration": 0,
    "start_time": "2022-11-17T17:51:53.380Z"
   },
   {
    "duration": 0,
    "start_time": "2022-11-17T17:51:53.381Z"
   },
   {
    "duration": 232,
    "start_time": "2022-11-17T17:54:36.363Z"
   },
   {
    "duration": 10,
    "start_time": "2022-11-17T17:55:48.557Z"
   },
   {
    "duration": 751,
    "start_time": "2022-11-18T13:49:17.693Z"
   },
   {
    "duration": 14,
    "start_time": "2022-11-18T13:49:18.446Z"
   },
   {
    "duration": 2317,
    "start_time": "2022-11-18T13:49:18.461Z"
   },
   {
    "duration": 8,
    "start_time": "2022-11-18T13:49:20.780Z"
   },
   {
    "duration": 30,
    "start_time": "2022-11-18T13:49:20.790Z"
   },
   {
    "duration": 7,
    "start_time": "2022-11-18T13:49:20.822Z"
   },
   {
    "duration": 4,
    "start_time": "2022-11-18T13:49:20.831Z"
   },
   {
    "duration": 44,
    "start_time": "2022-11-18T13:49:20.837Z"
   },
   {
    "duration": 20,
    "start_time": "2022-11-18T13:49:20.882Z"
   },
   {
    "duration": 56,
    "start_time": "2022-11-18T13:49:20.904Z"
   },
   {
    "duration": 7,
    "start_time": "2022-11-18T13:49:20.961Z"
   },
   {
    "duration": 29,
    "start_time": "2022-11-18T13:49:20.970Z"
   },
   {
    "duration": 32,
    "start_time": "2022-11-18T13:49:21.001Z"
   },
   {
    "duration": 11,
    "start_time": "2022-11-18T13:49:21.035Z"
   },
   {
    "duration": 6,
    "start_time": "2022-11-18T13:49:21.048Z"
   },
   {
    "duration": 23,
    "start_time": "2022-11-18T13:49:21.055Z"
   },
   {
    "duration": 339,
    "start_time": "2022-11-18T13:49:21.079Z"
   },
   {
    "duration": 12,
    "start_time": "2022-11-18T13:49:21.420Z"
   },
   {
    "duration": 9,
    "start_time": "2022-11-18T13:49:21.433Z"
   },
   {
    "duration": 12,
    "start_time": "2022-11-18T13:49:21.443Z"
   },
   {
    "duration": 4,
    "start_time": "2022-11-18T13:49:21.456Z"
   },
   {
    "duration": 49,
    "start_time": "2022-11-18T13:49:21.461Z"
   },
   {
    "duration": 20,
    "start_time": "2022-11-18T13:49:21.511Z"
   },
   {
    "duration": 18,
    "start_time": "2022-11-18T13:49:21.533Z"
   },
   {
    "duration": 4,
    "start_time": "2022-11-18T13:49:21.553Z"
   },
   {
    "duration": 171,
    "start_time": "2022-11-18T13:49:21.559Z"
   },
   {
    "duration": 20,
    "start_time": "2022-11-18T13:49:21.732Z"
   },
   {
    "duration": 23,
    "start_time": "2022-11-18T13:49:21.756Z"
   },
   {
    "duration": 235,
    "start_time": "2022-11-18T13:49:21.781Z"
   },
   {
    "duration": 8,
    "start_time": "2022-11-18T13:49:22.017Z"
   },
   {
    "duration": 224,
    "start_time": "2022-11-18T13:49:22.027Z"
   },
   {
    "duration": 9,
    "start_time": "2022-11-18T13:49:22.253Z"
   },
   {
    "duration": 334,
    "start_time": "2022-11-18T13:49:22.264Z"
   },
   {
    "duration": 8,
    "start_time": "2022-11-18T13:49:22.599Z"
   },
   {
    "duration": 301,
    "start_time": "2022-11-18T13:49:22.608Z"
   },
   {
    "duration": 8,
    "start_time": "2022-11-18T13:49:22.911Z"
   },
   {
    "duration": 157,
    "start_time": "2022-11-18T13:49:22.921Z"
   },
   {
    "duration": 20,
    "start_time": "2022-11-18T13:49:23.080Z"
   },
   {
    "duration": 145,
    "start_time": "2022-11-18T13:49:23.102Z"
   },
   {
    "duration": 8,
    "start_time": "2022-11-18T13:49:23.249Z"
   },
   {
    "duration": 197,
    "start_time": "2022-11-18T13:49:23.259Z"
   },
   {
    "duration": 8,
    "start_time": "2022-11-18T13:49:23.458Z"
   },
   {
    "duration": 1469,
    "start_time": "2022-11-18T13:49:23.467Z"
   },
   {
    "duration": 182,
    "start_time": "2022-11-18T13:49:24.938Z"
   },
   {
    "duration": 9,
    "start_time": "2022-11-18T13:49:25.122Z"
   },
   {
    "duration": 243,
    "start_time": "2022-11-18T13:49:25.133Z"
   },
   {
    "duration": 8,
    "start_time": "2022-11-18T13:49:25.379Z"
   },
   {
    "duration": 217,
    "start_time": "2022-11-18T13:49:25.389Z"
   },
   {
    "duration": 10,
    "start_time": "2022-11-18T13:49:25.607Z"
   },
   {
    "duration": 239,
    "start_time": "2022-11-18T13:49:25.618Z"
   },
   {
    "duration": 7,
    "start_time": "2022-11-18T13:49:25.859Z"
   },
   {
    "duration": 230,
    "start_time": "2022-11-18T13:49:25.867Z"
   },
   {
    "duration": 11,
    "start_time": "2022-11-18T13:49:26.099Z"
   },
   {
    "duration": 32,
    "start_time": "2022-11-18T13:49:26.112Z"
   },
   {
    "duration": 181,
    "start_time": "2022-11-18T13:49:26.146Z"
   },
   {
    "duration": 7,
    "start_time": "2022-11-18T13:49:26.329Z"
   },
   {
    "duration": 182,
    "start_time": "2022-11-18T13:49:26.337Z"
   },
   {
    "duration": 79,
    "start_time": "2022-11-18T13:49:26.521Z"
   },
   {
    "duration": 0,
    "start_time": "2022-11-18T13:49:26.601Z"
   },
   {
    "duration": 0,
    "start_time": "2022-11-18T13:49:26.603Z"
   },
   {
    "duration": 1,
    "start_time": "2022-11-18T13:49:26.604Z"
   },
   {
    "duration": 0,
    "start_time": "2022-11-18T13:49:26.606Z"
   },
   {
    "duration": 0,
    "start_time": "2022-11-18T13:49:26.607Z"
   },
   {
    "duration": 0,
    "start_time": "2022-11-18T13:49:26.608Z"
   },
   {
    "duration": 0,
    "start_time": "2022-11-18T13:49:26.609Z"
   },
   {
    "duration": 0,
    "start_time": "2022-11-18T13:49:26.610Z"
   },
   {
    "duration": 11,
    "start_time": "2022-11-18T14:03:13.540Z"
   },
   {
    "duration": 170,
    "start_time": "2022-11-18T14:03:49.830Z"
   },
   {
    "duration": 163,
    "start_time": "2022-11-18T14:04:25.597Z"
   },
   {
    "duration": 152,
    "start_time": "2022-11-18T14:05:58.485Z"
   },
   {
    "duration": 311,
    "start_time": "2022-11-18T14:06:45.990Z"
   },
   {
    "duration": 232,
    "start_time": "2022-11-18T14:07:25.352Z"
   },
   {
    "duration": 140,
    "start_time": "2022-11-18T14:07:42.106Z"
   },
   {
    "duration": 168,
    "start_time": "2022-11-18T14:08:03.265Z"
   },
   {
    "duration": 150,
    "start_time": "2022-11-18T14:08:12.628Z"
   },
   {
    "duration": 13,
    "start_time": "2022-11-18T14:12:28.675Z"
   },
   {
    "duration": 555,
    "start_time": "2022-11-19T15:06:23.376Z"
   },
   {
    "duration": 14,
    "start_time": "2022-11-19T15:06:23.933Z"
   },
   {
    "duration": 2185,
    "start_time": "2022-11-19T15:06:23.948Z"
   },
   {
    "duration": 10,
    "start_time": "2022-11-19T15:06:26.136Z"
   },
   {
    "duration": 22,
    "start_time": "2022-11-19T15:06:26.147Z"
   },
   {
    "duration": 8,
    "start_time": "2022-11-19T15:06:26.171Z"
   },
   {
    "duration": 4,
    "start_time": "2022-11-19T15:06:26.181Z"
   },
   {
    "duration": 50,
    "start_time": "2022-11-19T15:06:26.187Z"
   },
   {
    "duration": 7,
    "start_time": "2022-11-19T15:06:26.239Z"
   },
   {
    "duration": 69,
    "start_time": "2022-11-19T15:06:26.249Z"
   },
   {
    "duration": 7,
    "start_time": "2022-11-19T15:06:26.320Z"
   },
   {
    "duration": 4,
    "start_time": "2022-11-19T15:06:26.329Z"
   },
   {
    "duration": 24,
    "start_time": "2022-11-19T15:06:26.335Z"
   },
   {
    "duration": 11,
    "start_time": "2022-11-19T15:06:26.361Z"
   },
   {
    "duration": 4,
    "start_time": "2022-11-19T15:06:26.374Z"
   },
   {
    "duration": 42,
    "start_time": "2022-11-19T15:06:26.379Z"
   },
   {
    "duration": 309,
    "start_time": "2022-11-19T15:06:26.422Z"
   },
   {
    "duration": 13,
    "start_time": "2022-11-19T15:06:26.733Z"
   },
   {
    "duration": 8,
    "start_time": "2022-11-19T15:06:26.747Z"
   },
   {
    "duration": 11,
    "start_time": "2022-11-19T15:06:26.757Z"
   },
   {
    "duration": 4,
    "start_time": "2022-11-19T15:06:26.770Z"
   },
   {
    "duration": 49,
    "start_time": "2022-11-19T15:06:26.775Z"
   },
   {
    "duration": 19,
    "start_time": "2022-11-19T15:06:26.826Z"
   },
   {
    "duration": 19,
    "start_time": "2022-11-19T15:06:26.846Z"
   },
   {
    "duration": 5,
    "start_time": "2022-11-19T15:06:26.866Z"
   },
   {
    "duration": 198,
    "start_time": "2022-11-19T15:06:26.872Z"
   },
   {
    "duration": 22,
    "start_time": "2022-11-19T15:06:27.071Z"
   },
   {
    "duration": 21,
    "start_time": "2022-11-19T15:06:27.096Z"
   },
   {
    "duration": 221,
    "start_time": "2022-11-19T15:06:27.119Z"
   },
   {
    "duration": 9,
    "start_time": "2022-11-19T15:06:27.341Z"
   },
   {
    "duration": 220,
    "start_time": "2022-11-19T15:06:27.352Z"
   },
   {
    "duration": 9,
    "start_time": "2022-11-19T15:06:27.574Z"
   },
   {
    "duration": 308,
    "start_time": "2022-11-19T15:06:27.585Z"
   },
   {
    "duration": 8,
    "start_time": "2022-11-19T15:06:27.894Z"
   },
   {
    "duration": 287,
    "start_time": "2022-11-19T15:06:27.913Z"
   },
   {
    "duration": 14,
    "start_time": "2022-11-19T15:06:28.201Z"
   },
   {
    "duration": 142,
    "start_time": "2022-11-19T15:06:28.216Z"
   },
   {
    "duration": 8,
    "start_time": "2022-11-19T15:06:28.359Z"
   },
   {
    "duration": 139,
    "start_time": "2022-11-19T15:06:28.369Z"
   },
   {
    "duration": 8,
    "start_time": "2022-11-19T15:06:28.512Z"
   },
   {
    "duration": 183,
    "start_time": "2022-11-19T15:06:28.521Z"
   },
   {
    "duration": 13,
    "start_time": "2022-11-19T15:06:28.706Z"
   },
   {
    "duration": 1293,
    "start_time": "2022-11-19T15:06:28.721Z"
   },
   {
    "duration": 178,
    "start_time": "2022-11-19T15:06:30.016Z"
   },
   {
    "duration": 9,
    "start_time": "2022-11-19T15:06:30.196Z"
   },
   {
    "duration": 278,
    "start_time": "2022-11-19T15:06:30.207Z"
   },
   {
    "duration": 8,
    "start_time": "2022-11-19T15:06:30.486Z"
   },
   {
    "duration": 208,
    "start_time": "2022-11-19T15:06:30.495Z"
   },
   {
    "duration": 14,
    "start_time": "2022-11-19T15:06:30.705Z"
   },
   {
    "duration": 221,
    "start_time": "2022-11-19T15:06:30.721Z"
   },
   {
    "duration": 12,
    "start_time": "2022-11-19T15:06:30.957Z"
   },
   {
    "duration": 216,
    "start_time": "2022-11-19T15:06:30.971Z"
   },
   {
    "duration": 7,
    "start_time": "2022-11-19T15:06:31.189Z"
   },
   {
    "duration": 19,
    "start_time": "2022-11-19T15:06:31.197Z"
   },
   {
    "duration": 140,
    "start_time": "2022-11-19T15:06:31.218Z"
   },
   {
    "duration": 8,
    "start_time": "2022-11-19T15:06:31.359Z"
   },
   {
    "duration": 149,
    "start_time": "2022-11-19T15:06:31.369Z"
   },
   {
    "duration": 147,
    "start_time": "2022-11-19T15:06:31.519Z"
   },
   {
    "duration": 128,
    "start_time": "2022-11-19T15:06:31.668Z"
   },
   {
    "duration": 143,
    "start_time": "2022-11-19T15:06:31.798Z"
   },
   {
    "duration": 62946,
    "start_time": "2022-11-19T15:06:31.943Z"
   },
   {
    "duration": 23,
    "start_time": "2022-11-19T15:07:34.891Z"
   },
   {
    "duration": 27,
    "start_time": "2022-11-19T15:07:34.916Z"
   },
   {
    "duration": 36,
    "start_time": "2022-11-19T15:07:34.945Z"
   },
   {
    "duration": 35,
    "start_time": "2022-11-19T15:07:34.983Z"
   },
   {
    "duration": 138,
    "start_time": "2022-11-19T15:07:35.019Z"
   },
   {
    "duration": 66,
    "start_time": "2022-11-19T15:09:39.785Z"
   },
   {
    "duration": 14,
    "start_time": "2022-11-19T15:09:52.480Z"
   },
   {
    "duration": 11387,
    "start_time": "2022-11-19T15:10:41.774Z"
   },
   {
    "duration": 1233,
    "start_time": "2022-11-19T15:12:32.701Z"
   },
   {
    "duration": 9,
    "start_time": "2022-11-19T15:28:59.340Z"
   },
   {
    "duration": 10,
    "start_time": "2022-11-19T15:31:37.731Z"
   },
   {
    "duration": 9,
    "start_time": "2022-11-19T15:31:58.276Z"
   },
   {
    "duration": 9,
    "start_time": "2022-11-19T15:36:33.658Z"
   },
   {
    "duration": 534,
    "start_time": "2022-11-19T15:37:39.751Z"
   },
   {
    "duration": 4132,
    "start_time": "2022-11-19T15:38:32.680Z"
   },
   {
    "duration": 2904,
    "start_time": "2022-11-19T15:38:58.497Z"
   },
   {
    "duration": 69,
    "start_time": "2022-11-19T15:44:39.626Z"
   },
   {
    "duration": 147,
    "start_time": "2022-11-19T15:44:45.291Z"
   },
   {
    "duration": 126,
    "start_time": "2022-11-19T15:52:05.925Z"
   },
   {
    "duration": 127,
    "start_time": "2022-11-19T15:52:17.703Z"
   },
   {
    "duration": 136,
    "start_time": "2022-11-19T15:52:50.495Z"
   },
   {
    "duration": 8,
    "start_time": "2022-11-19T15:55:10.098Z"
   },
   {
    "duration": 28,
    "start_time": "2022-11-19T16:59:34.105Z"
   },
   {
    "duration": 266,
    "start_time": "2022-11-19T17:00:03.813Z"
   },
   {
    "duration": 25,
    "start_time": "2022-11-19T17:00:04.834Z"
   },
   {
    "duration": 1177,
    "start_time": "2022-11-19T17:00:17.282Z"
   },
   {
    "duration": 61,
    "start_time": "2022-11-19T17:05:35.055Z"
   },
   {
    "duration": 17,
    "start_time": "2022-11-19T17:08:29.937Z"
   },
   {
    "duration": 327,
    "start_time": "2022-11-19T17:08:46.014Z"
   },
   {
    "duration": 1603,
    "start_time": "2022-11-19T17:41:29.508Z"
   },
   {
    "duration": 16,
    "start_time": "2022-11-19T17:41:31.113Z"
   },
   {
    "duration": 2035,
    "start_time": "2022-11-19T17:41:31.131Z"
   },
   {
    "duration": 11,
    "start_time": "2022-11-19T17:41:33.169Z"
   },
   {
    "duration": 27,
    "start_time": "2022-11-19T17:41:33.182Z"
   },
   {
    "duration": 9,
    "start_time": "2022-11-19T17:41:33.211Z"
   },
   {
    "duration": 5,
    "start_time": "2022-11-19T17:41:33.222Z"
   },
   {
    "duration": 69,
    "start_time": "2022-11-19T17:41:33.229Z"
   },
   {
    "duration": 9,
    "start_time": "2022-11-19T17:41:33.300Z"
   },
   {
    "duration": 146,
    "start_time": "2022-11-19T17:41:33.312Z"
   },
   {
    "duration": 19,
    "start_time": "2022-11-19T17:41:33.460Z"
   },
   {
    "duration": 5,
    "start_time": "2022-11-19T17:41:33.480Z"
   },
   {
    "duration": 31,
    "start_time": "2022-11-19T17:41:33.486Z"
   },
   {
    "duration": 13,
    "start_time": "2022-11-19T17:41:33.518Z"
   },
   {
    "duration": 5,
    "start_time": "2022-11-19T17:41:33.533Z"
   },
   {
    "duration": 46,
    "start_time": "2022-11-19T17:41:33.539Z"
   },
   {
    "duration": 347,
    "start_time": "2022-11-19T17:41:33.587Z"
   },
   {
    "duration": 27,
    "start_time": "2022-11-19T17:41:33.935Z"
   },
   {
    "duration": 16,
    "start_time": "2022-11-19T17:41:33.964Z"
   },
   {
    "duration": 24,
    "start_time": "2022-11-19T17:41:33.982Z"
   },
   {
    "duration": 17,
    "start_time": "2022-11-19T17:41:34.008Z"
   },
   {
    "duration": 33,
    "start_time": "2022-11-19T17:41:34.027Z"
   },
   {
    "duration": 38,
    "start_time": "2022-11-19T17:41:34.062Z"
   },
   {
    "duration": 26,
    "start_time": "2022-11-19T17:41:34.102Z"
   },
   {
    "duration": 8,
    "start_time": "2022-11-19T17:41:34.130Z"
   },
   {
    "duration": 206,
    "start_time": "2022-11-19T17:41:34.139Z"
   },
   {
    "duration": 21,
    "start_time": "2022-11-19T17:41:34.346Z"
   },
   {
    "duration": 18,
    "start_time": "2022-11-19T17:41:34.380Z"
   },
   {
    "duration": 243,
    "start_time": "2022-11-19T17:41:34.400Z"
   },
   {
    "duration": 10,
    "start_time": "2022-11-19T17:41:34.644Z"
   },
   {
    "duration": 245,
    "start_time": "2022-11-19T17:41:34.655Z"
   },
   {
    "duration": 11,
    "start_time": "2022-11-19T17:41:34.902Z"
   },
   {
    "duration": 332,
    "start_time": "2022-11-19T17:41:34.915Z"
   },
   {
    "duration": 9,
    "start_time": "2022-11-19T17:41:35.249Z"
   },
   {
    "duration": 330,
    "start_time": "2022-11-19T17:41:35.259Z"
   },
   {
    "duration": 9,
    "start_time": "2022-11-19T17:41:35.591Z"
   },
   {
    "duration": 177,
    "start_time": "2022-11-19T17:41:35.601Z"
   },
   {
    "duration": 9,
    "start_time": "2022-11-19T17:41:35.780Z"
   },
   {
    "duration": 164,
    "start_time": "2022-11-19T17:41:35.791Z"
   },
   {
    "duration": 9,
    "start_time": "2022-11-19T17:41:35.957Z"
   },
   {
    "duration": 218,
    "start_time": "2022-11-19T17:41:35.978Z"
   },
   {
    "duration": 10,
    "start_time": "2022-11-19T17:41:36.198Z"
   },
   {
    "duration": 311,
    "start_time": "2022-11-19T17:41:36.210Z"
   },
   {
    "duration": 11,
    "start_time": "2022-11-19T17:41:36.523Z"
   },
   {
    "duration": 242,
    "start_time": "2022-11-19T17:41:36.536Z"
   },
   {
    "duration": 9,
    "start_time": "2022-11-19T17:41:36.780Z"
   },
   {
    "duration": 242,
    "start_time": "2022-11-19T17:41:36.791Z"
   },
   {
    "duration": 16,
    "start_time": "2022-11-19T17:41:37.035Z"
   },
   {
    "duration": 259,
    "start_time": "2022-11-19T17:41:37.053Z"
   },
   {
    "duration": 10,
    "start_time": "2022-11-19T17:41:37.314Z"
   },
   {
    "duration": 201,
    "start_time": "2022-11-19T17:41:37.326Z"
   },
   {
    "duration": 9,
    "start_time": "2022-11-19T17:41:37.529Z"
   },
   {
    "duration": 13,
    "start_time": "2022-11-19T17:41:37.539Z"
   },
   {
    "duration": 204,
    "start_time": "2022-11-19T17:41:37.554Z"
   },
   {
    "duration": 22,
    "start_time": "2022-11-19T17:41:37.760Z"
   },
   {
    "duration": 175,
    "start_time": "2022-11-19T17:41:37.784Z"
   },
   {
    "duration": 180,
    "start_time": "2022-11-19T17:41:37.961Z"
   },
   {
    "duration": 185,
    "start_time": "2022-11-19T17:41:38.144Z"
   },
   {
    "duration": 177,
    "start_time": "2022-11-19T17:41:38.331Z"
   },
   {
    "duration": 11,
    "start_time": "2022-11-19T17:41:38.511Z"
   },
   {
    "duration": 182,
    "start_time": "2022-11-19T17:41:38.524Z"
   },
   {
    "duration": 178,
    "start_time": "2022-11-19T17:41:38.709Z"
   },
   {
    "duration": 162,
    "start_time": "2022-11-19T17:41:38.889Z"
   },
   {
    "duration": 29,
    "start_time": "2022-11-19T17:41:39.053Z"
   },
   {
    "duration": 25,
    "start_time": "2022-11-19T17:41:39.083Z"
   },
   {
    "duration": 36,
    "start_time": "2022-11-19T17:41:39.110Z"
   },
   {
    "duration": 32,
    "start_time": "2022-11-19T17:41:39.148Z"
   },
   {
    "duration": 167,
    "start_time": "2022-11-19T17:41:39.182Z"
   },
   {
    "duration": 19,
    "start_time": "2022-11-19T17:44:09.723Z"
   },
   {
    "duration": 15,
    "start_time": "2022-11-19T17:45:03.400Z"
   },
   {
    "duration": 1348,
    "start_time": "2022-11-19T17:45:08.222Z"
   },
   {
    "duration": 23,
    "start_time": "2022-11-19T17:45:09.571Z"
   },
   {
    "duration": 2058,
    "start_time": "2022-11-19T17:45:09.596Z"
   },
   {
    "duration": 10,
    "start_time": "2022-11-19T17:45:11.656Z"
   },
   {
    "duration": 27,
    "start_time": "2022-11-19T17:45:11.668Z"
   },
   {
    "duration": 8,
    "start_time": "2022-11-19T17:45:11.697Z"
   },
   {
    "duration": 5,
    "start_time": "2022-11-19T17:45:11.706Z"
   },
   {
    "duration": 72,
    "start_time": "2022-11-19T17:45:11.713Z"
   },
   {
    "duration": 8,
    "start_time": "2022-11-19T17:45:11.787Z"
   },
   {
    "duration": 158,
    "start_time": "2022-11-19T17:45:11.798Z"
   },
   {
    "duration": 25,
    "start_time": "2022-11-19T17:45:11.958Z"
   },
   {
    "duration": 6,
    "start_time": "2022-11-19T17:45:11.985Z"
   },
   {
    "duration": 34,
    "start_time": "2022-11-19T17:45:11.993Z"
   },
   {
    "duration": 16,
    "start_time": "2022-11-19T17:45:12.029Z"
   },
   {
    "duration": 35,
    "start_time": "2022-11-19T17:45:12.047Z"
   },
   {
    "duration": 14,
    "start_time": "2022-11-19T17:45:12.083Z"
   },
   {
    "duration": 378,
    "start_time": "2022-11-19T17:45:12.099Z"
   },
   {
    "duration": 18,
    "start_time": "2022-11-19T17:45:12.480Z"
   },
   {
    "duration": 17,
    "start_time": "2022-11-19T17:45:12.500Z"
   },
   {
    "duration": 14,
    "start_time": "2022-11-19T17:45:12.519Z"
   },
   {
    "duration": 44,
    "start_time": "2022-11-19T17:45:12.535Z"
   },
   {
    "duration": 6,
    "start_time": "2022-11-19T17:45:12.582Z"
   },
   {
    "duration": 25,
    "start_time": "2022-11-19T17:45:12.590Z"
   },
   {
    "duration": 22,
    "start_time": "2022-11-19T17:45:12.617Z"
   },
   {
    "duration": 55,
    "start_time": "2022-11-19T17:45:12.641Z"
   },
   {
    "duration": 7,
    "start_time": "2022-11-19T17:45:12.698Z"
   },
   {
    "duration": 204,
    "start_time": "2022-11-19T17:45:12.707Z"
   },
   {
    "duration": 23,
    "start_time": "2022-11-19T17:45:12.915Z"
   },
   {
    "duration": 18,
    "start_time": "2022-11-19T17:45:12.940Z"
   },
   {
    "duration": 272,
    "start_time": "2022-11-19T17:45:12.959Z"
   },
   {
    "duration": 11,
    "start_time": "2022-11-19T17:45:13.234Z"
   },
   {
    "duration": 255,
    "start_time": "2022-11-19T17:45:13.249Z"
   },
   {
    "duration": 11,
    "start_time": "2022-11-19T17:45:13.506Z"
   },
   {
    "duration": 298,
    "start_time": "2022-11-19T17:45:13.520Z"
   },
   {
    "duration": 9,
    "start_time": "2022-11-19T17:45:13.820Z"
   },
   {
    "duration": 488,
    "start_time": "2022-11-19T17:45:13.831Z"
   },
   {
    "duration": 12,
    "start_time": "2022-11-19T17:45:14.321Z"
   },
   {
    "duration": 208,
    "start_time": "2022-11-19T17:45:14.336Z"
   },
   {
    "duration": 8,
    "start_time": "2022-11-19T17:45:14.546Z"
   },
   {
    "duration": 156,
    "start_time": "2022-11-19T17:45:14.556Z"
   },
   {
    "duration": 9,
    "start_time": "2022-11-19T17:45:14.714Z"
   },
   {
    "duration": 227,
    "start_time": "2022-11-19T17:45:14.724Z"
   },
   {
    "duration": 9,
    "start_time": "2022-11-19T17:45:14.978Z"
   },
   {
    "duration": 486,
    "start_time": "2022-11-19T17:45:14.989Z"
   },
   {
    "duration": 8,
    "start_time": "2022-11-19T17:45:15.478Z"
   },
   {
    "duration": 239,
    "start_time": "2022-11-19T17:45:15.488Z"
   },
   {
    "duration": 9,
    "start_time": "2022-11-19T17:45:15.728Z"
   },
   {
    "duration": 246,
    "start_time": "2022-11-19T17:45:15.739Z"
   },
   {
    "duration": 11,
    "start_time": "2022-11-19T17:45:15.987Z"
   },
   {
    "duration": 253,
    "start_time": "2022-11-19T17:45:16.000Z"
   },
   {
    "duration": 8,
    "start_time": "2022-11-19T17:45:16.255Z"
   },
   {
    "duration": 217,
    "start_time": "2022-11-19T17:45:16.265Z"
   },
   {
    "duration": 9,
    "start_time": "2022-11-19T17:45:16.483Z"
   },
   {
    "duration": 12,
    "start_time": "2022-11-19T17:45:16.494Z"
   },
   {
    "duration": 195,
    "start_time": "2022-11-19T17:45:16.508Z"
   },
   {
    "duration": 11,
    "start_time": "2022-11-19T17:45:16.706Z"
   },
   {
    "duration": 184,
    "start_time": "2022-11-19T17:45:16.719Z"
   },
   {
    "duration": 185,
    "start_time": "2022-11-19T17:45:16.905Z"
   },
   {
    "duration": 163,
    "start_time": "2022-11-19T17:45:17.092Z"
   },
   {
    "duration": 171,
    "start_time": "2022-11-19T17:45:17.257Z"
   },
   {
    "duration": 10,
    "start_time": "2022-11-19T17:45:17.431Z"
   },
   {
    "duration": 159,
    "start_time": "2022-11-19T17:45:17.442Z"
   },
   {
    "duration": 164,
    "start_time": "2022-11-19T17:45:17.604Z"
   },
   {
    "duration": 154,
    "start_time": "2022-11-19T17:45:17.778Z"
   },
   {
    "duration": 27,
    "start_time": "2022-11-19T17:45:17.934Z"
   },
   {
    "duration": 22,
    "start_time": "2022-11-19T17:45:17.977Z"
   },
   {
    "duration": 56,
    "start_time": "2022-11-19T17:45:18.001Z"
   },
   {
    "duration": 15,
    "start_time": "2022-11-19T17:45:18.079Z"
   },
   {
    "duration": 169,
    "start_time": "2022-11-19T17:45:18.096Z"
   },
   {
    "duration": 109,
    "start_time": "2022-11-19T17:53:57.126Z"
   },
   {
    "duration": 22,
    "start_time": "2022-11-19T17:54:00.937Z"
   },
   {
    "duration": 63,
    "start_time": "2022-11-20T15:05:50.129Z"
   },
   {
    "duration": 1305,
    "start_time": "2022-11-20T15:05:56.926Z"
   },
   {
    "duration": 198,
    "start_time": "2022-11-20T15:05:58.233Z"
   },
   {
    "duration": 2046,
    "start_time": "2022-11-20T15:06:40.910Z"
   },
   {
    "duration": 24,
    "start_time": "2022-11-20T15:07:52.487Z"
   },
   {
    "duration": 13,
    "start_time": "2022-11-20T15:10:34.633Z"
   },
   {
    "duration": 1172,
    "start_time": "2022-11-20T15:24:09.510Z"
   },
   {
    "duration": 5,
    "start_time": "2022-11-20T15:25:29.536Z"
   },
   {
    "duration": 4,
    "start_time": "2022-11-20T15:25:41.326Z"
   },
   {
    "duration": 11,
    "start_time": "2022-11-20T15:25:46.931Z"
   },
   {
    "duration": 4,
    "start_time": "2022-11-20T15:27:13.603Z"
   },
   {
    "duration": 5,
    "start_time": "2022-11-20T15:27:15.601Z"
   },
   {
    "duration": 9,
    "start_time": "2022-11-20T15:27:17.929Z"
   },
   {
    "duration": 3,
    "start_time": "2022-11-20T15:57:53.709Z"
   },
   {
    "duration": 12,
    "start_time": "2022-11-20T15:58:10.121Z"
   },
   {
    "duration": 5,
    "start_time": "2022-11-20T15:59:09.463Z"
   },
   {
    "duration": 5,
    "start_time": "2022-11-20T16:04:48.179Z"
   },
   {
    "duration": 12,
    "start_time": "2022-11-20T16:05:09.921Z"
   },
   {
    "duration": 100,
    "start_time": "2022-11-20T16:05:46.865Z"
   },
   {
    "duration": 5,
    "start_time": "2022-11-20T16:06:13.170Z"
   },
   {
    "duration": 5,
    "start_time": "2022-11-20T16:09:29.727Z"
   },
   {
    "duration": 38,
    "start_time": "2022-11-20T16:11:20.549Z"
   },
   {
    "duration": 27,
    "start_time": "2022-11-20T16:11:46.190Z"
   },
   {
    "duration": 29,
    "start_time": "2022-11-20T16:13:20.024Z"
   },
   {
    "duration": 28,
    "start_time": "2022-11-20T16:14:27.291Z"
   },
   {
    "duration": 13,
    "start_time": "2022-11-20T16:15:49.784Z"
   },
   {
    "duration": 20,
    "start_time": "2022-11-20T16:15:57.710Z"
   },
   {
    "duration": 31,
    "start_time": "2022-11-20T16:16:05.414Z"
   },
   {
    "duration": 42,
    "start_time": "2022-11-20T16:16:25.202Z"
   },
   {
    "duration": 27,
    "start_time": "2022-11-20T16:16:35.051Z"
   },
   {
    "duration": 32,
    "start_time": "2022-11-20T16:16:57.752Z"
   },
   {
    "duration": 97,
    "start_time": "2022-11-20T16:17:12.355Z"
   },
   {
    "duration": 28,
    "start_time": "2022-11-20T16:19:35.490Z"
   },
   {
    "duration": 23,
    "start_time": "2022-11-20T16:22:49.628Z"
   },
   {
    "duration": 15,
    "start_time": "2022-11-20T16:23:31.870Z"
   },
   {
    "duration": 15,
    "start_time": "2022-11-20T16:23:58.802Z"
   },
   {
    "duration": 14,
    "start_time": "2022-11-20T16:24:02.528Z"
   },
   {
    "duration": 22,
    "start_time": "2022-11-20T16:24:21.720Z"
   },
   {
    "duration": 6,
    "start_time": "2022-11-20T16:25:25.445Z"
   },
   {
    "duration": 6,
    "start_time": "2022-11-20T16:27:02.000Z"
   },
   {
    "duration": 5,
    "start_time": "2022-11-20T16:27:39.606Z"
   },
   {
    "duration": 12,
    "start_time": "2022-11-20T16:29:07.973Z"
   },
   {
    "duration": 14,
    "start_time": "2022-11-20T16:29:37.356Z"
   },
   {
    "duration": 9,
    "start_time": "2022-11-20T16:30:02.059Z"
   },
   {
    "duration": 8,
    "start_time": "2022-11-20T16:30:28.705Z"
   },
   {
    "duration": 4,
    "start_time": "2022-11-20T16:30:34.300Z"
   },
   {
    "duration": 5,
    "start_time": "2022-11-20T16:36:31.874Z"
   },
   {
    "duration": 4,
    "start_time": "2022-11-20T16:36:56.056Z"
   },
   {
    "duration": 13,
    "start_time": "2022-11-20T16:37:06.956Z"
   },
   {
    "duration": 4,
    "start_time": "2022-11-20T16:37:13.039Z"
   },
   {
    "duration": 242,
    "start_time": "2022-11-20T16:43:50.715Z"
   },
   {
    "duration": 10,
    "start_time": "2022-11-20T16:43:59.272Z"
   },
   {
    "duration": 4,
    "start_time": "2022-11-20T16:44:05.735Z"
   },
   {
    "duration": 119,
    "start_time": "2022-11-20T16:44:05.745Z"
   },
   {
    "duration": 17,
    "start_time": "2022-11-20T16:44:05.878Z"
   },
   {
    "duration": 2134,
    "start_time": "2022-11-20T16:44:05.896Z"
   },
   {
    "duration": 10,
    "start_time": "2022-11-20T16:44:08.032Z"
   },
   {
    "duration": 16,
    "start_time": "2022-11-20T16:44:08.044Z"
   },
   {
    "duration": 8,
    "start_time": "2022-11-20T16:44:08.078Z"
   },
   {
    "duration": 13,
    "start_time": "2022-11-20T16:44:08.088Z"
   },
   {
    "duration": 13,
    "start_time": "2022-11-20T16:44:08.103Z"
   },
   {
    "duration": 16,
    "start_time": "2022-11-20T16:44:08.118Z"
   },
   {
    "duration": 4,
    "start_time": "2022-11-20T16:44:08.136Z"
   },
   {
    "duration": 8,
    "start_time": "2022-11-20T16:44:08.142Z"
   },
   {
    "duration": 7,
    "start_time": "2022-11-20T16:44:08.152Z"
   },
   {
    "duration": 19,
    "start_time": "2022-11-20T16:44:08.161Z"
   },
   {
    "duration": 48,
    "start_time": "2022-11-20T16:44:08.182Z"
   },
   {
    "duration": 8,
    "start_time": "2022-11-20T16:44:08.232Z"
   },
   {
    "duration": 35,
    "start_time": "2022-11-20T16:44:08.243Z"
   },
   {
    "duration": 17,
    "start_time": "2022-11-20T16:44:08.280Z"
   },
   {
    "duration": 6,
    "start_time": "2022-11-20T16:44:08.299Z"
   },
   {
    "duration": 10,
    "start_time": "2022-11-20T16:44:08.307Z"
   },
   {
    "duration": 11,
    "start_time": "2022-11-20T16:44:08.318Z"
   },
   {
    "duration": 104,
    "start_time": "2022-11-20T16:44:08.331Z"
   },
   {
    "duration": 10,
    "start_time": "2022-11-20T16:44:08.437Z"
   },
   {
    "duration": 18,
    "start_time": "2022-11-20T16:44:08.449Z"
   },
   {
    "duration": 24,
    "start_time": "2022-11-20T16:44:08.469Z"
   },
   {
    "duration": 12,
    "start_time": "2022-11-20T16:44:08.494Z"
   },
   {
    "duration": 16,
    "start_time": "2022-11-20T16:44:08.507Z"
   },
   {
    "duration": 29,
    "start_time": "2022-11-20T16:44:08.524Z"
   },
   {
    "duration": 20,
    "start_time": "2022-11-20T16:44:08.557Z"
   },
   {
    "duration": 27,
    "start_time": "2022-11-20T16:44:08.579Z"
   },
   {
    "duration": 6,
    "start_time": "2022-11-20T16:44:08.607Z"
   },
   {
    "duration": 124,
    "start_time": "2022-11-20T16:44:08.614Z"
   },
   {
    "duration": 18,
    "start_time": "2022-11-20T16:44:08.740Z"
   },
   {
    "duration": 36,
    "start_time": "2022-11-20T16:44:08.759Z"
   },
   {
    "duration": 0,
    "start_time": "2022-11-20T16:44:08.797Z"
   },
   {
    "duration": 0,
    "start_time": "2022-11-20T16:44:08.797Z"
   },
   {
    "duration": 0,
    "start_time": "2022-11-20T16:44:08.799Z"
   },
   {
    "duration": 0,
    "start_time": "2022-11-20T16:44:08.800Z"
   },
   {
    "duration": 0,
    "start_time": "2022-11-20T16:44:08.801Z"
   },
   {
    "duration": 0,
    "start_time": "2022-11-20T16:44:08.803Z"
   },
   {
    "duration": 0,
    "start_time": "2022-11-20T16:44:08.804Z"
   },
   {
    "duration": 0,
    "start_time": "2022-11-20T16:44:08.805Z"
   },
   {
    "duration": 0,
    "start_time": "2022-11-20T16:44:08.806Z"
   },
   {
    "duration": 0,
    "start_time": "2022-11-20T16:44:08.807Z"
   },
   {
    "duration": 0,
    "start_time": "2022-11-20T16:44:08.808Z"
   },
   {
    "duration": 0,
    "start_time": "2022-11-20T16:44:08.810Z"
   },
   {
    "duration": 0,
    "start_time": "2022-11-20T16:44:08.811Z"
   },
   {
    "duration": 0,
    "start_time": "2022-11-20T16:44:08.812Z"
   },
   {
    "duration": 0,
    "start_time": "2022-11-20T16:44:08.813Z"
   },
   {
    "duration": 0,
    "start_time": "2022-11-20T16:44:08.814Z"
   },
   {
    "duration": 0,
    "start_time": "2022-11-20T16:44:08.816Z"
   },
   {
    "duration": 0,
    "start_time": "2022-11-20T16:44:08.817Z"
   },
   {
    "duration": 0,
    "start_time": "2022-11-20T16:44:08.817Z"
   },
   {
    "duration": 0,
    "start_time": "2022-11-20T16:44:08.819Z"
   },
   {
    "duration": 0,
    "start_time": "2022-11-20T16:44:08.820Z"
   },
   {
    "duration": 0,
    "start_time": "2022-11-20T16:44:08.821Z"
   },
   {
    "duration": 0,
    "start_time": "2022-11-20T16:44:08.822Z"
   },
   {
    "duration": 0,
    "start_time": "2022-11-20T16:44:08.823Z"
   },
   {
    "duration": 0,
    "start_time": "2022-11-20T16:44:08.824Z"
   },
   {
    "duration": 0,
    "start_time": "2022-11-20T16:44:08.826Z"
   },
   {
    "duration": 0,
    "start_time": "2022-11-20T16:44:08.878Z"
   },
   {
    "duration": 0,
    "start_time": "2022-11-20T16:44:08.880Z"
   },
   {
    "duration": 0,
    "start_time": "2022-11-20T16:44:08.882Z"
   },
   {
    "duration": 0,
    "start_time": "2022-11-20T16:44:08.883Z"
   },
   {
    "duration": 0,
    "start_time": "2022-11-20T16:44:08.885Z"
   },
   {
    "duration": 0,
    "start_time": "2022-11-20T16:44:08.886Z"
   },
   {
    "duration": 0,
    "start_time": "2022-11-20T16:44:08.887Z"
   },
   {
    "duration": 0,
    "start_time": "2022-11-20T16:44:08.889Z"
   },
   {
    "duration": 0,
    "start_time": "2022-11-20T16:44:08.890Z"
   },
   {
    "duration": 0,
    "start_time": "2022-11-20T16:44:08.891Z"
   },
   {
    "duration": 0,
    "start_time": "2022-11-20T16:44:08.892Z"
   },
   {
    "duration": 0,
    "start_time": "2022-11-20T16:44:08.893Z"
   },
   {
    "duration": 0,
    "start_time": "2022-11-20T16:44:08.894Z"
   },
   {
    "duration": 0,
    "start_time": "2022-11-20T16:44:08.895Z"
   },
   {
    "duration": 16,
    "start_time": "2022-11-20T16:46:09.269Z"
   },
   {
    "duration": 18,
    "start_time": "2022-11-20T16:46:37.257Z"
   },
   {
    "duration": 19,
    "start_time": "2022-11-20T16:47:54.441Z"
   },
   {
    "duration": 15,
    "start_time": "2022-11-20T16:48:16.460Z"
   },
   {
    "duration": 8,
    "start_time": "2022-11-20T16:48:54.977Z"
   },
   {
    "duration": 219,
    "start_time": "2022-11-20T16:49:23.111Z"
   },
   {
    "duration": 300,
    "start_time": "2022-11-20T16:49:32.241Z"
   },
   {
    "duration": 10,
    "start_time": "2022-11-20T16:49:35.348Z"
   },
   {
    "duration": 233,
    "start_time": "2022-11-20T16:51:00.318Z"
   },
   {
    "duration": 211,
    "start_time": "2022-11-20T16:51:27.370Z"
   },
   {
    "duration": 8,
    "start_time": "2022-11-20T16:51:31.185Z"
   },
   {
    "duration": 296,
    "start_time": "2022-11-20T16:56:09.832Z"
   },
   {
    "duration": 265,
    "start_time": "2022-11-20T16:56:23.351Z"
   },
   {
    "duration": 9,
    "start_time": "2022-11-20T16:56:26.686Z"
   },
   {
    "duration": 281,
    "start_time": "2022-11-20T16:58:56.637Z"
   },
   {
    "duration": 8,
    "start_time": "2022-11-20T16:59:16.322Z"
   },
   {
    "duration": 397,
    "start_time": "2022-11-20T17:22:26.727Z"
   },
   {
    "duration": 285,
    "start_time": "2022-11-20T17:22:59.524Z"
   },
   {
    "duration": 389,
    "start_time": "2022-11-20T17:23:13.852Z"
   },
   {
    "duration": 342,
    "start_time": "2022-11-20T17:23:23.978Z"
   },
   {
    "duration": 314,
    "start_time": "2022-11-20T17:23:40.949Z"
   },
   {
    "duration": 396,
    "start_time": "2022-11-20T17:24:06.413Z"
   },
   {
    "duration": 9,
    "start_time": "2022-11-20T17:24:44.258Z"
   },
   {
    "duration": 8,
    "start_time": "2022-11-20T17:24:56.365Z"
   },
   {
    "duration": 169,
    "start_time": "2022-11-20T17:26:26.487Z"
   },
   {
    "duration": 173,
    "start_time": "2022-11-20T17:26:32.107Z"
   },
   {
    "duration": 8,
    "start_time": "2022-11-20T17:26:35.557Z"
   },
   {
    "duration": 141,
    "start_time": "2022-11-20T17:26:43.499Z"
   },
   {
    "duration": 158,
    "start_time": "2022-11-20T17:26:49.240Z"
   },
   {
    "duration": 10,
    "start_time": "2022-11-20T17:26:55.495Z"
   },
   {
    "duration": 192,
    "start_time": "2022-11-20T17:27:10.006Z"
   },
   {
    "duration": 10,
    "start_time": "2022-11-20T17:27:14.666Z"
   },
   {
    "duration": 224,
    "start_time": "2022-11-20T17:28:44.742Z"
   },
   {
    "duration": 212,
    "start_time": "2022-11-20T17:28:50.170Z"
   },
   {
    "duration": 8,
    "start_time": "2022-11-20T17:28:53.165Z"
   },
   {
    "duration": 236,
    "start_time": "2022-11-20T17:29:41.215Z"
   },
   {
    "duration": 215,
    "start_time": "2022-11-20T17:29:47.659Z"
   },
   {
    "duration": 9,
    "start_time": "2022-11-20T17:29:53.628Z"
   },
   {
    "duration": 318,
    "start_time": "2022-11-20T17:31:36.727Z"
   },
   {
    "duration": 243,
    "start_time": "2022-11-20T17:31:55.717Z"
   },
   {
    "duration": 11,
    "start_time": "2022-11-20T17:31:59.252Z"
   },
   {
    "duration": 274,
    "start_time": "2022-11-20T17:35:03.784Z"
   },
   {
    "duration": 9,
    "start_time": "2022-11-20T17:35:07.426Z"
   },
   {
    "duration": 1358,
    "start_time": "2022-11-20T19:33:41.998Z"
   },
   {
    "duration": 337,
    "start_time": "2022-11-20T19:33:43.359Z"
   },
   {
    "duration": 16,
    "start_time": "2022-11-20T19:33:43.698Z"
   },
   {
    "duration": 2010,
    "start_time": "2022-11-20T19:33:43.716Z"
   },
   {
    "duration": 9,
    "start_time": "2022-11-20T19:33:45.728Z"
   },
   {
    "duration": 21,
    "start_time": "2022-11-20T19:33:45.739Z"
   },
   {
    "duration": 9,
    "start_time": "2022-11-20T19:33:45.761Z"
   },
   {
    "duration": 5,
    "start_time": "2022-11-20T19:33:45.772Z"
   },
   {
    "duration": 7,
    "start_time": "2022-11-20T19:33:45.779Z"
   },
   {
    "duration": 13,
    "start_time": "2022-11-20T19:33:45.789Z"
   },
   {
    "duration": 4,
    "start_time": "2022-11-20T19:33:45.804Z"
   },
   {
    "duration": 10,
    "start_time": "2022-11-20T19:33:45.809Z"
   },
   {
    "duration": 12,
    "start_time": "2022-11-20T19:33:45.821Z"
   },
   {
    "duration": 106,
    "start_time": "2022-11-20T19:33:45.834Z"
   },
   {
    "duration": 57,
    "start_time": "2022-11-20T19:33:45.942Z"
   },
   {
    "duration": 8,
    "start_time": "2022-11-20T19:33:46.001Z"
   },
   {
    "duration": 18,
    "start_time": "2022-11-20T19:33:46.010Z"
   },
   {
    "duration": 19,
    "start_time": "2022-11-20T19:33:46.030Z"
   },
   {
    "duration": 5,
    "start_time": "2022-11-20T19:33:46.050Z"
   },
   {
    "duration": 10,
    "start_time": "2022-11-20T19:33:46.057Z"
   },
   {
    "duration": 13,
    "start_time": "2022-11-20T19:33:46.069Z"
   },
   {
    "duration": 75,
    "start_time": "2022-11-20T19:33:46.097Z"
   },
   {
    "duration": 24,
    "start_time": "2022-11-20T19:33:46.174Z"
   },
   {
    "duration": 4,
    "start_time": "2022-11-20T19:33:46.200Z"
   },
   {
    "duration": 17,
    "start_time": "2022-11-20T19:33:46.205Z"
   },
   {
    "duration": 4,
    "start_time": "2022-11-20T19:33:46.223Z"
   },
   {
    "duration": 7,
    "start_time": "2022-11-20T19:33:46.228Z"
   },
   {
    "duration": 17,
    "start_time": "2022-11-20T19:33:46.239Z"
   },
   {
    "duration": 41,
    "start_time": "2022-11-20T19:33:46.258Z"
   },
   {
    "duration": 17,
    "start_time": "2022-11-20T19:33:46.301Z"
   },
   {
    "duration": 16,
    "start_time": "2022-11-20T19:33:46.319Z"
   },
   {
    "duration": 106,
    "start_time": "2022-11-20T19:33:46.336Z"
   },
   {
    "duration": 17,
    "start_time": "2022-11-20T19:33:46.444Z"
   },
   {
    "duration": 16,
    "start_time": "2022-11-20T19:33:46.462Z"
   },
   {
    "duration": 220,
    "start_time": "2022-11-20T19:33:46.479Z"
   },
   {
    "duration": 8,
    "start_time": "2022-11-20T19:33:46.701Z"
   },
   {
    "duration": 223,
    "start_time": "2022-11-20T19:33:46.711Z"
   },
   {
    "duration": 9,
    "start_time": "2022-11-20T19:33:46.936Z"
   },
   {
    "duration": 267,
    "start_time": "2022-11-20T19:33:46.947Z"
   },
   {
    "duration": 9,
    "start_time": "2022-11-20T19:33:47.217Z"
   },
   {
    "duration": 292,
    "start_time": "2022-11-20T19:33:47.227Z"
   },
   {
    "duration": 9,
    "start_time": "2022-11-20T19:33:47.521Z"
   },
   {
    "duration": 142,
    "start_time": "2022-11-20T19:33:47.531Z"
   },
   {
    "duration": 9,
    "start_time": "2022-11-20T19:33:47.675Z"
   },
   {
    "duration": 165,
    "start_time": "2022-11-20T19:33:47.685Z"
   },
   {
    "duration": 9,
    "start_time": "2022-11-20T19:33:47.853Z"
   },
   {
    "duration": 287,
    "start_time": "2022-11-20T19:33:47.864Z"
   },
   {
    "duration": 9,
    "start_time": "2022-11-20T19:33:48.154Z"
   },
   {
    "duration": 205,
    "start_time": "2022-11-20T19:33:48.164Z"
   },
   {
    "duration": 10,
    "start_time": "2022-11-20T19:33:48.371Z"
   },
   {
    "duration": 228,
    "start_time": "2022-11-20T19:33:48.383Z"
   },
   {
    "duration": 7,
    "start_time": "2022-11-20T19:33:48.613Z"
   },
   {
    "duration": 209,
    "start_time": "2022-11-20T19:33:48.622Z"
   },
   {
    "duration": 8,
    "start_time": "2022-11-20T19:33:48.832Z"
   },
   {
    "duration": 213,
    "start_time": "2022-11-20T19:33:48.842Z"
   },
   {
    "duration": 10,
    "start_time": "2022-11-20T19:33:49.057Z"
   },
   {
    "duration": 183,
    "start_time": "2022-11-20T19:33:49.069Z"
   },
   {
    "duration": 8,
    "start_time": "2022-11-20T19:33:49.253Z"
   },
   {
    "duration": 11,
    "start_time": "2022-11-20T19:33:49.263Z"
   },
   {
    "duration": 180,
    "start_time": "2022-11-20T19:33:49.276Z"
   },
   {
    "duration": 8,
    "start_time": "2022-11-20T19:33:49.457Z"
   },
   {
    "duration": 152,
    "start_time": "2022-11-20T19:33:49.467Z"
   },
   {
    "duration": 146,
    "start_time": "2022-11-20T19:33:49.621Z"
   },
   {
    "duration": 159,
    "start_time": "2022-11-20T19:33:49.769Z"
   },
   {
    "duration": 259,
    "start_time": "2022-11-20T19:33:49.930Z"
   },
   {
    "duration": 14,
    "start_time": "2022-11-20T19:33:50.191Z"
   },
   {
    "duration": 160,
    "start_time": "2022-11-20T19:33:50.207Z"
   },
   {
    "duration": 150,
    "start_time": "2022-11-20T19:33:50.369Z"
   },
   {
    "duration": 149,
    "start_time": "2022-11-20T19:33:50.520Z"
   },
   {
    "duration": 27,
    "start_time": "2022-11-20T19:33:50.671Z"
   },
   {
    "duration": 24,
    "start_time": "2022-11-20T19:33:50.700Z"
   },
   {
    "duration": 31,
    "start_time": "2022-11-20T19:33:50.726Z"
   },
   {
    "duration": 47,
    "start_time": "2022-11-20T19:33:50.759Z"
   },
   {
    "duration": 144,
    "start_time": "2022-11-20T19:33:50.808Z"
   },
   {
    "duration": 126,
    "start_time": "2022-11-20T19:37:54.261Z"
   },
   {
    "duration": 8,
    "start_time": "2022-11-20T19:38:10.137Z"
   },
   {
    "duration": 8,
    "start_time": "2022-11-20T19:38:14.992Z"
   },
   {
    "duration": 243,
    "start_time": "2022-11-20T19:38:54.142Z"
   },
   {
    "duration": 165,
    "start_time": "2022-11-20T19:42:24.730Z"
   },
   {
    "duration": 144,
    "start_time": "2022-11-20T19:42:35.260Z"
   },
   {
    "duration": 7,
    "start_time": "2022-11-20T19:42:39.531Z"
   },
   {
    "duration": 124,
    "start_time": "2022-11-20T19:43:27.282Z"
   },
   {
    "duration": 129,
    "start_time": "2022-11-20T19:43:36.005Z"
   },
   {
    "duration": 197,
    "start_time": "2022-11-20T19:43:40.288Z"
   },
   {
    "duration": 160,
    "start_time": "2022-11-20T19:43:43.764Z"
   },
   {
    "duration": 9,
    "start_time": "2022-11-20T19:43:47.746Z"
   },
   {
    "duration": 127,
    "start_time": "2022-11-20T19:46:16.158Z"
   },
   {
    "duration": 126,
    "start_time": "2022-11-20T19:46:41.414Z"
   },
   {
    "duration": 130,
    "start_time": "2022-11-20T19:46:44.409Z"
   },
   {
    "duration": 1447,
    "start_time": "2022-11-21T15:02:48.606Z"
   },
   {
    "duration": 196,
    "start_time": "2022-11-21T15:02:50.055Z"
   },
   {
    "duration": 18,
    "start_time": "2022-11-21T15:02:50.253Z"
   },
   {
    "duration": 2204,
    "start_time": "2022-11-21T15:02:50.274Z"
   },
   {
    "duration": 11,
    "start_time": "2022-11-21T15:02:52.480Z"
   },
   {
    "duration": 20,
    "start_time": "2022-11-21T15:02:52.493Z"
   },
   {
    "duration": 11,
    "start_time": "2022-11-21T15:02:52.515Z"
   },
   {
    "duration": 14,
    "start_time": "2022-11-21T15:02:52.527Z"
   },
   {
    "duration": 11,
    "start_time": "2022-11-21T15:02:52.542Z"
   },
   {
    "duration": 32,
    "start_time": "2022-11-21T15:02:52.556Z"
   },
   {
    "duration": 4,
    "start_time": "2022-11-21T15:02:52.590Z"
   },
   {
    "duration": 7,
    "start_time": "2022-11-21T15:02:52.596Z"
   },
   {
    "duration": 6,
    "start_time": "2022-11-21T15:02:52.605Z"
   },
   {
    "duration": 10,
    "start_time": "2022-11-21T15:02:52.613Z"
   },
   {
    "duration": 88,
    "start_time": "2022-11-21T15:02:52.625Z"
   },
   {
    "duration": 9,
    "start_time": "2022-11-21T15:02:52.715Z"
   },
   {
    "duration": 7,
    "start_time": "2022-11-21T15:02:52.726Z"
   },
   {
    "duration": 19,
    "start_time": "2022-11-21T15:02:52.734Z"
   },
   {
    "duration": 7,
    "start_time": "2022-11-21T15:02:52.779Z"
   },
   {
    "duration": 14,
    "start_time": "2022-11-21T15:02:52.787Z"
   },
   {
    "duration": 22,
    "start_time": "2022-11-21T15:02:52.803Z"
   },
   {
    "duration": 124,
    "start_time": "2022-11-21T15:02:52.827Z"
   },
   {
    "duration": 12,
    "start_time": "2022-11-21T15:02:52.953Z"
   },
   {
    "duration": 14,
    "start_time": "2022-11-21T15:02:52.967Z"
   },
   {
    "duration": 16,
    "start_time": "2022-11-21T15:02:52.982Z"
   },
   {
    "duration": 4,
    "start_time": "2022-11-21T15:02:53.000Z"
   },
   {
    "duration": 7,
    "start_time": "2022-11-21T15:02:53.005Z"
   },
   {
    "duration": 23,
    "start_time": "2022-11-21T15:02:53.017Z"
   },
   {
    "duration": 55,
    "start_time": "2022-11-21T15:02:53.042Z"
   },
   {
    "duration": 23,
    "start_time": "2022-11-21T15:02:53.099Z"
   },
   {
    "duration": 6,
    "start_time": "2022-11-21T15:02:53.125Z"
   },
   {
    "duration": 146,
    "start_time": "2022-11-21T15:02:53.133Z"
   },
   {
    "duration": 31,
    "start_time": "2022-11-21T15:02:53.282Z"
   },
   {
    "duration": 20,
    "start_time": "2022-11-21T15:02:53.315Z"
   },
   {
    "duration": 243,
    "start_time": "2022-11-21T15:02:53.337Z"
   },
   {
    "duration": 8,
    "start_time": "2022-11-21T15:02:53.582Z"
   },
   {
    "duration": 252,
    "start_time": "2022-11-21T15:02:53.592Z"
   },
   {
    "duration": 8,
    "start_time": "2022-11-21T15:02:53.846Z"
   },
   {
    "duration": 370,
    "start_time": "2022-11-21T15:02:53.856Z"
   },
   {
    "duration": 9,
    "start_time": "2022-11-21T15:02:54.228Z"
   },
   {
    "duration": 323,
    "start_time": "2022-11-21T15:02:54.238Z"
   },
   {
    "duration": 15,
    "start_time": "2022-11-21T15:02:54.564Z"
   },
   {
    "duration": 311,
    "start_time": "2022-11-21T15:02:54.581Z"
   },
   {
    "duration": 9,
    "start_time": "2022-11-21T15:02:54.894Z"
   },
   {
    "duration": 170,
    "start_time": "2022-11-21T15:02:54.905Z"
   },
   {
    "duration": 10,
    "start_time": "2022-11-21T15:02:55.078Z"
   },
   {
    "duration": 193,
    "start_time": "2022-11-21T15:02:55.090Z"
   },
   {
    "duration": 8,
    "start_time": "2022-11-21T15:02:55.285Z"
   },
   {
    "duration": 219,
    "start_time": "2022-11-21T15:02:55.295Z"
   },
   {
    "duration": 10,
    "start_time": "2022-11-21T15:02:55.515Z"
   },
   {
    "duration": 243,
    "start_time": "2022-11-21T15:02:55.526Z"
   },
   {
    "duration": 15,
    "start_time": "2022-11-21T15:02:55.771Z"
   },
   {
    "duration": 231,
    "start_time": "2022-11-21T15:02:55.788Z"
   },
   {
    "duration": 9,
    "start_time": "2022-11-21T15:02:56.021Z"
   },
   {
    "duration": 232,
    "start_time": "2022-11-21T15:02:56.031Z"
   },
   {
    "duration": 18,
    "start_time": "2022-11-21T15:02:56.264Z"
   },
   {
    "duration": 318,
    "start_time": "2022-11-21T15:02:56.283Z"
   },
   {
    "duration": 9,
    "start_time": "2022-11-21T15:02:56.603Z"
   },
   {
    "duration": 21,
    "start_time": "2022-11-21T15:02:56.614Z"
   },
   {
    "duration": 182,
    "start_time": "2022-11-21T15:02:56.637Z"
   },
   {
    "duration": 8,
    "start_time": "2022-11-21T15:02:56.821Z"
   },
   {
    "duration": 269,
    "start_time": "2022-11-21T15:02:56.831Z"
   },
   {
    "duration": 166,
    "start_time": "2022-11-21T15:02:57.102Z"
   },
   {
    "duration": 174,
    "start_time": "2022-11-21T15:02:57.270Z"
   },
   {
    "duration": 160,
    "start_time": "2022-11-21T15:02:57.445Z"
   },
   {
    "duration": 11,
    "start_time": "2022-11-21T15:02:57.607Z"
   },
   {
    "duration": 169,
    "start_time": "2022-11-21T15:02:57.619Z"
   },
   {
    "duration": 164,
    "start_time": "2022-11-21T15:02:57.790Z"
   },
   {
    "duration": 165,
    "start_time": "2022-11-21T15:02:57.956Z"
   },
   {
    "duration": 18,
    "start_time": "2022-11-21T15:02:58.123Z"
   },
   {
    "duration": 37,
    "start_time": "2022-11-21T15:02:58.143Z"
   },
   {
    "duration": 35,
    "start_time": "2022-11-21T15:02:58.182Z"
   },
   {
    "duration": 16,
    "start_time": "2022-11-21T15:02:58.220Z"
   },
   {
    "duration": 177,
    "start_time": "2022-11-21T15:02:58.239Z"
   },
   {
    "duration": 3,
    "start_time": "2022-11-21T15:21:10.450Z"
   },
   {
    "duration": 151,
    "start_time": "2022-11-21T15:21:10.459Z"
   },
   {
    "duration": 19,
    "start_time": "2022-11-21T15:21:10.612Z"
   },
   {
    "duration": 2166,
    "start_time": "2022-11-21T15:21:10.633Z"
   },
   {
    "duration": 10,
    "start_time": "2022-11-21T15:21:12.802Z"
   },
   {
    "duration": 21,
    "start_time": "2022-11-21T15:21:12.814Z"
   },
   {
    "duration": 8,
    "start_time": "2022-11-21T15:21:12.837Z"
   },
   {
    "duration": 33,
    "start_time": "2022-11-21T15:21:12.847Z"
   },
   {
    "duration": 7,
    "start_time": "2022-11-21T15:21:12.881Z"
   },
   {
    "duration": 16,
    "start_time": "2022-11-21T15:21:12.890Z"
   },
   {
    "duration": 4,
    "start_time": "2022-11-21T15:21:12.909Z"
   },
   {
    "duration": 16,
    "start_time": "2022-11-21T15:21:12.914Z"
   },
   {
    "duration": 6,
    "start_time": "2022-11-21T15:21:12.932Z"
   },
   {
    "duration": 9,
    "start_time": "2022-11-21T15:21:12.939Z"
   },
   {
    "duration": 85,
    "start_time": "2022-11-21T15:21:12.949Z"
   },
   {
    "duration": 10,
    "start_time": "2022-11-21T15:21:13.036Z"
   },
   {
    "duration": 31,
    "start_time": "2022-11-21T15:21:13.048Z"
   },
   {
    "duration": 18,
    "start_time": "2022-11-21T15:21:13.081Z"
   },
   {
    "duration": 6,
    "start_time": "2022-11-21T15:21:13.101Z"
   },
   {
    "duration": 8,
    "start_time": "2022-11-21T15:21:13.109Z"
   },
   {
    "duration": 11,
    "start_time": "2022-11-21T15:21:13.118Z"
   },
   {
    "duration": 120,
    "start_time": "2022-11-21T15:21:13.131Z"
   },
   {
    "duration": 13,
    "start_time": "2022-11-21T15:21:13.253Z"
   },
   {
    "duration": 9,
    "start_time": "2022-11-21T15:21:13.277Z"
   },
   {
    "duration": 15,
    "start_time": "2022-11-21T15:21:13.288Z"
   },
   {
    "duration": 4,
    "start_time": "2022-11-21T15:21:13.305Z"
   },
   {
    "duration": 8,
    "start_time": "2022-11-21T15:21:13.311Z"
   },
   {
    "duration": 22,
    "start_time": "2022-11-21T15:21:13.321Z"
   },
   {
    "duration": 45,
    "start_time": "2022-11-21T15:21:13.347Z"
   },
   {
    "duration": 19,
    "start_time": "2022-11-21T15:21:13.394Z"
   },
   {
    "duration": 5,
    "start_time": "2022-11-21T15:21:13.415Z"
   },
   {
    "duration": 135,
    "start_time": "2022-11-21T15:21:13.421Z"
   },
   {
    "duration": 22,
    "start_time": "2022-11-21T15:21:13.557Z"
   },
   {
    "duration": 9,
    "start_time": "2022-11-21T15:21:13.581Z"
   },
   {
    "duration": 236,
    "start_time": "2022-11-21T15:21:13.591Z"
   },
   {
    "duration": 10,
    "start_time": "2022-11-21T15:21:13.828Z"
   },
   {
    "duration": 300,
    "start_time": "2022-11-21T15:21:13.840Z"
   },
   {
    "duration": 10,
    "start_time": "2022-11-21T15:21:14.144Z"
   },
   {
    "duration": 416,
    "start_time": "2022-11-21T15:21:14.156Z"
   },
   {
    "duration": 10,
    "start_time": "2022-11-21T15:21:14.574Z"
   },
   {
    "duration": 307,
    "start_time": "2022-11-21T15:21:14.586Z"
   },
   {
    "duration": 8,
    "start_time": "2022-11-21T15:21:14.895Z"
   },
   {
    "duration": 169,
    "start_time": "2022-11-21T15:21:14.904Z"
   },
   {
    "duration": 10,
    "start_time": "2022-11-21T15:21:15.077Z"
   },
   {
    "duration": 169,
    "start_time": "2022-11-21T15:21:15.090Z"
   },
   {
    "duration": 18,
    "start_time": "2022-11-21T15:21:15.261Z"
   },
   {
    "duration": 180,
    "start_time": "2022-11-21T15:21:15.280Z"
   },
   {
    "duration": 17,
    "start_time": "2022-11-21T15:21:15.462Z"
   },
   {
    "duration": 205,
    "start_time": "2022-11-21T15:21:15.480Z"
   },
   {
    "duration": 9,
    "start_time": "2022-11-21T15:21:15.686Z"
   },
   {
    "duration": 235,
    "start_time": "2022-11-21T15:21:15.697Z"
   },
   {
    "duration": 9,
    "start_time": "2022-11-21T15:21:15.934Z"
   },
   {
    "duration": 228,
    "start_time": "2022-11-21T15:21:15.944Z"
   },
   {
    "duration": 9,
    "start_time": "2022-11-21T15:21:16.177Z"
   },
   {
    "duration": 327,
    "start_time": "2022-11-21T15:21:16.187Z"
   },
   {
    "duration": 8,
    "start_time": "2022-11-21T15:21:16.516Z"
   },
   {
    "duration": 321,
    "start_time": "2022-11-21T15:21:16.526Z"
   },
   {
    "duration": 8,
    "start_time": "2022-11-21T15:21:16.849Z"
   },
   {
    "duration": 22,
    "start_time": "2022-11-21T15:21:16.859Z"
   },
   {
    "duration": 175,
    "start_time": "2022-11-21T15:21:16.883Z"
   },
   {
    "duration": 19,
    "start_time": "2022-11-21T15:21:17.060Z"
   },
   {
    "duration": 168,
    "start_time": "2022-11-21T15:21:17.081Z"
   },
   {
    "duration": 168,
    "start_time": "2022-11-21T15:21:17.251Z"
   },
   {
    "duration": 170,
    "start_time": "2022-11-21T15:21:17.421Z"
   },
   {
    "duration": 167,
    "start_time": "2022-11-21T15:21:17.593Z"
   },
   {
    "duration": 21,
    "start_time": "2022-11-21T15:21:17.762Z"
   },
   {
    "duration": 161,
    "start_time": "2022-11-21T15:21:17.785Z"
   },
   {
    "duration": 166,
    "start_time": "2022-11-21T15:21:17.948Z"
   },
   {
    "duration": 155,
    "start_time": "2022-11-21T15:21:18.116Z"
   },
   {
    "duration": 18,
    "start_time": "2022-11-21T15:21:18.277Z"
   },
   {
    "duration": 25,
    "start_time": "2022-11-21T15:21:18.296Z"
   },
   {
    "duration": 32,
    "start_time": "2022-11-21T15:21:18.323Z"
   },
   {
    "duration": 15,
    "start_time": "2022-11-21T15:21:18.378Z"
   },
   {
    "duration": 159,
    "start_time": "2022-11-21T15:21:18.395Z"
   },
   {
    "duration": 258,
    "start_time": "2022-11-21T15:23:59.924Z"
   },
   {
    "duration": 164,
    "start_time": "2022-11-21T15:24:08.895Z"
   },
   {
    "duration": 179,
    "start_time": "2022-11-21T15:24:24.079Z"
   },
   {
    "duration": 150,
    "start_time": "2022-11-21T15:24:32.336Z"
   },
   {
    "duration": 11,
    "start_time": "2022-11-21T15:29:57.139Z"
   },
   {
    "duration": 7,
    "start_time": "2022-11-21T15:48:52.771Z"
   },
   {
    "duration": 102,
    "start_time": "2022-11-21T16:00:16.682Z"
   },
   {
    "duration": 169,
    "start_time": "2022-11-21T16:00:24.112Z"
   },
   {
    "duration": 12,
    "start_time": "2022-11-21T16:01:17.141Z"
   },
   {
    "duration": 10,
    "start_time": "2022-11-21T16:19:57.920Z"
   },
   {
    "duration": 12,
    "start_time": "2022-11-21T16:20:08.383Z"
   },
   {
    "duration": 17,
    "start_time": "2022-11-21T16:20:24.775Z"
   },
   {
    "duration": 21,
    "start_time": "2022-11-21T16:21:21.728Z"
   },
   {
    "duration": 628,
    "start_time": "2022-11-21T16:25:04.301Z"
   },
   {
    "duration": 11,
    "start_time": "2022-11-21T16:25:22.633Z"
   },
   {
    "duration": 131307,
    "start_time": "2022-11-21T16:25:46.910Z"
   },
   {
    "duration": 15,
    "start_time": "2022-11-21T16:29:16.736Z"
   },
   {
    "duration": 83847,
    "start_time": "2022-11-21T16:29:30.590Z"
   },
   {
    "duration": 82756,
    "start_time": "2022-11-21T16:46:28.785Z"
   },
   {
    "duration": 166,
    "start_time": "2022-11-21T16:47:51.544Z"
   },
   {
    "duration": 167,
    "start_time": "2022-11-21T16:47:51.711Z"
   },
   {
    "duration": 1233,
    "start_time": "2022-11-21T17:03:04.567Z"
   },
   {
    "duration": 1177,
    "start_time": "2022-11-21T17:06:26.917Z"
   },
   {
    "duration": 19,
    "start_time": "2022-11-21T17:06:55.653Z"
   },
   {
    "duration": 1279,
    "start_time": "2022-11-21T17:07:07.572Z"
   },
   {
    "duration": 1359,
    "start_time": "2022-11-21T18:43:35.229Z"
   },
   {
    "duration": 670,
    "start_time": "2022-11-21T18:43:36.597Z"
   },
   {
    "duration": 13,
    "start_time": "2022-11-21T18:43:37.269Z"
   },
   {
    "duration": 1858,
    "start_time": "2022-11-21T18:43:37.284Z"
   },
   {
    "duration": 10,
    "start_time": "2022-11-21T18:43:39.144Z"
   },
   {
    "duration": 27,
    "start_time": "2022-11-21T18:43:39.155Z"
   },
   {
    "duration": 8,
    "start_time": "2022-11-21T18:43:39.183Z"
   },
   {
    "duration": 22,
    "start_time": "2022-11-21T18:43:39.193Z"
   },
   {
    "duration": 15,
    "start_time": "2022-11-21T18:43:39.216Z"
   },
   {
    "duration": 28,
    "start_time": "2022-11-21T18:43:39.233Z"
   },
   {
    "duration": 4,
    "start_time": "2022-11-21T18:43:39.263Z"
   },
   {
    "duration": 34,
    "start_time": "2022-11-21T18:43:39.269Z"
   },
   {
    "duration": 18,
    "start_time": "2022-11-21T18:43:39.304Z"
   },
   {
    "duration": 8,
    "start_time": "2022-11-21T18:43:39.415Z"
   },
   {
    "duration": 49,
    "start_time": "2022-11-21T18:43:39.425Z"
   },
   {
    "duration": 28,
    "start_time": "2022-11-21T18:43:39.475Z"
   },
   {
    "duration": 28,
    "start_time": "2022-11-21T18:43:39.505Z"
   },
   {
    "duration": 22,
    "start_time": "2022-11-21T18:43:39.535Z"
   },
   {
    "duration": 12,
    "start_time": "2022-11-21T18:43:39.558Z"
   },
   {
    "duration": 14,
    "start_time": "2022-11-21T18:43:39.572Z"
   },
   {
    "duration": 27,
    "start_time": "2022-11-21T18:43:39.588Z"
   },
   {
    "duration": 77,
    "start_time": "2022-11-21T18:43:39.617Z"
   },
   {
    "duration": 12,
    "start_time": "2022-11-21T18:43:39.696Z"
   },
   {
    "duration": 16,
    "start_time": "2022-11-21T18:43:39.710Z"
   },
   {
    "duration": 27,
    "start_time": "2022-11-21T18:43:39.727Z"
   },
   {
    "duration": 17,
    "start_time": "2022-11-21T18:43:39.755Z"
   },
   {
    "duration": 16,
    "start_time": "2022-11-21T18:43:39.774Z"
   },
   {
    "duration": 36,
    "start_time": "2022-11-21T18:43:39.792Z"
   },
   {
    "duration": 18,
    "start_time": "2022-11-21T18:43:39.830Z"
   },
   {
    "duration": 43,
    "start_time": "2022-11-21T18:43:39.849Z"
   },
   {
    "duration": 5,
    "start_time": "2022-11-21T18:43:39.894Z"
   },
   {
    "duration": 106,
    "start_time": "2022-11-21T18:43:39.900Z"
   },
   {
    "duration": 22,
    "start_time": "2022-11-21T18:43:40.008Z"
   },
   {
    "duration": 22,
    "start_time": "2022-11-21T18:43:40.032Z"
   },
   {
    "duration": 214,
    "start_time": "2022-11-21T18:43:40.056Z"
   },
   {
    "duration": 9,
    "start_time": "2022-11-21T18:43:40.272Z"
   },
   {
    "duration": 239,
    "start_time": "2022-11-21T18:43:40.282Z"
   },
   {
    "duration": 8,
    "start_time": "2022-11-21T18:43:40.522Z"
   },
   {
    "duration": 268,
    "start_time": "2022-11-21T18:43:40.532Z"
   },
   {
    "duration": 9,
    "start_time": "2022-11-21T18:43:40.801Z"
   },
   {
    "duration": 286,
    "start_time": "2022-11-21T18:43:40.815Z"
   },
   {
    "duration": 10,
    "start_time": "2022-11-21T18:43:41.103Z"
   },
   {
    "duration": 141,
    "start_time": "2022-11-21T18:43:41.115Z"
   },
   {
    "duration": 8,
    "start_time": "2022-11-21T18:43:41.258Z"
   },
   {
    "duration": 169,
    "start_time": "2022-11-21T18:43:41.268Z"
   },
   {
    "duration": 8,
    "start_time": "2022-11-21T18:43:41.438Z"
   },
   {
    "duration": 266,
    "start_time": "2022-11-21T18:43:41.447Z"
   },
   {
    "duration": 9,
    "start_time": "2022-11-21T18:43:41.715Z"
   },
   {
    "duration": 194,
    "start_time": "2022-11-21T18:43:41.727Z"
   },
   {
    "duration": 19,
    "start_time": "2022-11-21T18:43:41.923Z"
   },
   {
    "duration": 251,
    "start_time": "2022-11-21T18:43:41.944Z"
   },
   {
    "duration": 9,
    "start_time": "2022-11-21T18:43:42.197Z"
   },
   {
    "duration": 210,
    "start_time": "2022-11-21T18:43:42.207Z"
   },
   {
    "duration": 10,
    "start_time": "2022-11-21T18:43:42.418Z"
   },
   {
    "duration": 209,
    "start_time": "2022-11-21T18:43:42.430Z"
   },
   {
    "duration": 7,
    "start_time": "2022-11-21T18:43:42.641Z"
   },
   {
    "duration": 281,
    "start_time": "2022-11-21T18:43:42.650Z"
   },
   {
    "duration": 8,
    "start_time": "2022-11-21T18:43:42.933Z"
   },
   {
    "duration": 19,
    "start_time": "2022-11-21T18:43:42.943Z"
   },
   {
    "duration": 166,
    "start_time": "2022-11-21T18:43:42.964Z"
   },
   {
    "duration": 9,
    "start_time": "2022-11-21T18:43:43.131Z"
   },
   {
    "duration": 160,
    "start_time": "2022-11-21T18:43:43.141Z"
   },
   {
    "duration": 254,
    "start_time": "2022-11-21T18:43:43.303Z"
   },
   {
    "duration": 160,
    "start_time": "2022-11-21T18:43:43.559Z"
   },
   {
    "duration": 150,
    "start_time": "2022-11-21T18:43:43.720Z"
   },
   {
    "duration": 13,
    "start_time": "2022-11-21T18:43:43.872Z"
   },
   {
    "duration": 30,
    "start_time": "2022-11-21T18:43:43.886Z"
   },
   {
    "duration": 35,
    "start_time": "2022-11-21T18:43:43.917Z"
   },
   {
    "duration": 80783,
    "start_time": "2022-11-21T18:43:43.954Z"
   },
   {
    "duration": 197,
    "start_time": "2022-11-21T18:45:04.739Z"
   },
   {
    "duration": 188,
    "start_time": "2022-11-21T18:45:04.938Z"
   },
   {
    "duration": 180,
    "start_time": "2022-11-21T18:45:05.128Z"
   },
   {
    "duration": 26,
    "start_time": "2022-11-21T18:45:05.311Z"
   },
   {
    "duration": 26,
    "start_time": "2022-11-21T18:45:05.339Z"
   },
   {
    "duration": 56,
    "start_time": "2022-11-21T18:45:05.367Z"
   },
   {
    "duration": 0,
    "start_time": "2022-11-21T18:45:05.424Z"
   },
   {
    "duration": 0,
    "start_time": "2022-11-21T18:45:05.426Z"
   },
   {
    "duration": 0,
    "start_time": "2022-11-21T18:45:05.426Z"
   },
   {
    "duration": 130,
    "start_time": "2022-11-21T18:52:27.335Z"
   },
   {
    "duration": 113,
    "start_time": "2022-11-21T18:53:02.848Z"
   },
   {
    "duration": 9,
    "start_time": "2022-11-21T18:53:35.588Z"
   },
   {
    "duration": 22,
    "start_time": "2022-11-21T18:54:49.085Z"
   },
   {
    "duration": 140,
    "start_time": "2022-11-21T18:58:01.487Z"
   },
   {
    "duration": 173,
    "start_time": "2022-11-21T18:59:43.948Z"
   },
   {
    "duration": 1363,
    "start_time": "2022-11-22T17:06:40.999Z"
   },
   {
    "duration": 389,
    "start_time": "2022-11-22T17:06:42.365Z"
   },
   {
    "duration": 13,
    "start_time": "2022-11-22T17:06:42.756Z"
   },
   {
    "duration": 1937,
    "start_time": "2022-11-22T17:06:42.771Z"
   },
   {
    "duration": 10,
    "start_time": "2022-11-22T17:06:44.710Z"
   },
   {
    "duration": 22,
    "start_time": "2022-11-22T17:06:44.723Z"
   },
   {
    "duration": 7,
    "start_time": "2022-11-22T17:06:44.747Z"
   },
   {
    "duration": 5,
    "start_time": "2022-11-22T17:06:44.756Z"
   },
   {
    "duration": 10,
    "start_time": "2022-11-22T17:06:44.763Z"
   },
   {
    "duration": 16,
    "start_time": "2022-11-22T17:06:44.775Z"
   },
   {
    "duration": 3,
    "start_time": "2022-11-22T17:06:44.793Z"
   },
   {
    "duration": 7,
    "start_time": "2022-11-22T17:06:44.797Z"
   },
   {
    "duration": 31,
    "start_time": "2022-11-22T17:06:44.806Z"
   },
   {
    "duration": 95,
    "start_time": "2022-11-22T17:06:44.838Z"
   },
   {
    "duration": 47,
    "start_time": "2022-11-22T17:06:44.935Z"
   },
   {
    "duration": 6,
    "start_time": "2022-11-22T17:06:44.984Z"
   },
   {
    "duration": 7,
    "start_time": "2022-11-22T17:06:44.991Z"
   },
   {
    "duration": 26,
    "start_time": "2022-11-22T17:06:45.026Z"
   },
   {
    "duration": 8,
    "start_time": "2022-11-22T17:06:45.054Z"
   },
   {
    "duration": 9,
    "start_time": "2022-11-22T17:06:45.064Z"
   },
   {
    "duration": 26,
    "start_time": "2022-11-22T17:06:45.074Z"
   },
   {
    "duration": 83,
    "start_time": "2022-11-22T17:06:45.102Z"
   },
   {
    "duration": 10,
    "start_time": "2022-11-22T17:06:45.187Z"
   },
   {
    "duration": 9,
    "start_time": "2022-11-22T17:06:45.199Z"
   },
   {
    "duration": 29,
    "start_time": "2022-11-22T17:06:45.209Z"
   },
   {
    "duration": 6,
    "start_time": "2022-11-22T17:06:45.240Z"
   },
   {
    "duration": 5,
    "start_time": "2022-11-22T17:06:45.248Z"
   },
   {
    "duration": 16,
    "start_time": "2022-11-22T17:06:45.257Z"
   },
   {
    "duration": 16,
    "start_time": "2022-11-22T17:06:45.274Z"
   },
   {
    "duration": 51,
    "start_time": "2022-11-22T17:06:45.291Z"
   },
   {
    "duration": 5,
    "start_time": "2022-11-22T17:06:45.344Z"
   },
   {
    "duration": 128,
    "start_time": "2022-11-22T17:06:45.351Z"
   },
   {
    "duration": 19,
    "start_time": "2022-11-22T17:06:45.481Z"
   },
   {
    "duration": 22,
    "start_time": "2022-11-22T17:06:45.502Z"
   },
   {
    "duration": 237,
    "start_time": "2022-11-22T17:06:45.526Z"
   },
   {
    "duration": 9,
    "start_time": "2022-11-22T17:06:45.764Z"
   },
   {
    "duration": 222,
    "start_time": "2022-11-22T17:06:45.774Z"
   },
   {
    "duration": 7,
    "start_time": "2022-11-22T17:06:45.998Z"
   },
   {
    "duration": 262,
    "start_time": "2022-11-22T17:06:46.007Z"
   },
   {
    "duration": 8,
    "start_time": "2022-11-22T17:06:46.270Z"
   },
   {
    "duration": 340,
    "start_time": "2022-11-22T17:06:46.279Z"
   },
   {
    "duration": 12,
    "start_time": "2022-11-22T17:06:46.620Z"
   },
   {
    "duration": 140,
    "start_time": "2022-11-22T17:06:46.634Z"
   },
   {
    "duration": 7,
    "start_time": "2022-11-22T17:06:46.776Z"
   },
   {
    "duration": 161,
    "start_time": "2022-11-22T17:06:46.784Z"
   },
   {
    "duration": 7,
    "start_time": "2022-11-22T17:06:46.946Z"
   },
   {
    "duration": 267,
    "start_time": "2022-11-22T17:06:46.954Z"
   },
   {
    "duration": 11,
    "start_time": "2022-11-22T17:06:47.224Z"
   },
   {
    "duration": 154,
    "start_time": "2022-11-22T17:06:47.238Z"
   },
   {
    "duration": 7,
    "start_time": "2022-11-22T17:06:47.393Z"
   },
   {
    "duration": 197,
    "start_time": "2022-11-22T17:06:47.402Z"
   },
   {
    "duration": 10,
    "start_time": "2022-11-22T17:06:47.600Z"
   },
   {
    "duration": 250,
    "start_time": "2022-11-22T17:06:47.611Z"
   },
   {
    "duration": 9,
    "start_time": "2022-11-22T17:06:47.862Z"
   },
   {
    "duration": 229,
    "start_time": "2022-11-22T17:06:47.872Z"
   },
   {
    "duration": 8,
    "start_time": "2022-11-22T17:06:48.102Z"
   },
   {
    "duration": 235,
    "start_time": "2022-11-22T17:06:48.111Z"
   },
   {
    "duration": 7,
    "start_time": "2022-11-22T17:06:48.348Z"
   },
   {
    "duration": 312,
    "start_time": "2022-11-22T17:06:48.356Z"
   },
   {
    "duration": 7,
    "start_time": "2022-11-22T17:06:48.670Z"
   },
   {
    "duration": 19,
    "start_time": "2022-11-22T17:06:48.678Z"
   },
   {
    "duration": 179,
    "start_time": "2022-11-22T17:06:48.699Z"
   },
   {
    "duration": 7,
    "start_time": "2022-11-22T17:06:48.880Z"
   },
   {
    "duration": 276,
    "start_time": "2022-11-22T17:06:48.889Z"
   },
   {
    "duration": 161,
    "start_time": "2022-11-22T17:06:49.167Z"
   },
   {
    "duration": 168,
    "start_time": "2022-11-22T17:06:49.330Z"
   },
   {
    "duration": 143,
    "start_time": "2022-11-22T17:06:49.499Z"
   },
   {
    "duration": 11,
    "start_time": "2022-11-22T17:06:49.644Z"
   },
   {
    "duration": 5,
    "start_time": "2022-11-22T17:06:49.657Z"
   },
   {
    "duration": 75234,
    "start_time": "2022-11-22T17:06:49.664Z"
   },
   {
    "duration": 87995,
    "start_time": "2022-11-22T17:08:04.900Z"
   },
   {
    "duration": 108,
    "start_time": "2022-11-22T17:09:32.897Z"
   },
   {
    "duration": 0,
    "start_time": "2022-11-22T17:09:33.007Z"
   },
   {
    "duration": 0,
    "start_time": "2022-11-22T17:09:33.008Z"
   },
   {
    "duration": 0,
    "start_time": "2022-11-22T17:09:33.009Z"
   },
   {
    "duration": 0,
    "start_time": "2022-11-22T17:09:33.010Z"
   },
   {
    "duration": 0,
    "start_time": "2022-11-22T17:09:33.011Z"
   },
   {
    "duration": 0,
    "start_time": "2022-11-22T17:09:33.012Z"
   },
   {
    "duration": 0,
    "start_time": "2022-11-22T17:09:33.013Z"
   },
   {
    "duration": 0,
    "start_time": "2022-11-22T17:09:33.023Z"
   },
   {
    "duration": 1154,
    "start_time": "2022-11-22T17:11:44.004Z"
   },
   {
    "duration": 831,
    "start_time": "2022-11-22T17:12:50.434Z"
   },
   {
    "duration": 7,
    "start_time": "2022-11-22T17:13:53.776Z"
   },
   {
    "duration": 121,
    "start_time": "2022-11-22T17:14:56.654Z"
   },
   {
    "duration": 121,
    "start_time": "2022-11-22T17:15:13.581Z"
   },
   {
    "duration": 128,
    "start_time": "2022-11-22T17:24:02.746Z"
   },
   {
    "duration": 127,
    "start_time": "2022-11-22T17:26:42.204Z"
   },
   {
    "duration": 134,
    "start_time": "2022-11-22T17:29:11.252Z"
   },
   {
    "duration": 145,
    "start_time": "2022-11-22T17:29:30.321Z"
   },
   {
    "duration": 162,
    "start_time": "2022-11-22T17:31:33.697Z"
   },
   {
    "duration": 125,
    "start_time": "2022-11-22T17:32:14.849Z"
   },
   {
    "duration": 154,
    "start_time": "2022-11-22T17:32:17.167Z"
   },
   {
    "duration": 141,
    "start_time": "2022-11-22T17:33:00.396Z"
   },
   {
    "duration": 16,
    "start_time": "2022-11-22T17:34:12.670Z"
   },
   {
    "duration": 12,
    "start_time": "2022-11-22T17:37:34.816Z"
   },
   {
    "duration": 6,
    "start_time": "2022-11-22T17:38:30.976Z"
   },
   {
    "duration": 11,
    "start_time": "2022-11-22T17:40:42.852Z"
   },
   {
    "duration": 10,
    "start_time": "2022-11-22T17:41:15.570Z"
   },
   {
    "duration": 28,
    "start_time": "2022-11-22T17:42:26.350Z"
   },
   {
    "duration": 13,
    "start_time": "2022-11-22T17:42:31.067Z"
   },
   {
    "duration": 130,
    "start_time": "2022-11-22T17:42:40.550Z"
   },
   {
    "duration": 126,
    "start_time": "2022-11-22T17:43:05.733Z"
   },
   {
    "duration": 142,
    "start_time": "2022-11-22T17:47:51.396Z"
   },
   {
    "duration": 159,
    "start_time": "2022-11-22T17:49:22.002Z"
   },
   {
    "duration": 160,
    "start_time": "2022-11-22T17:50:42.305Z"
   },
   {
    "duration": 141,
    "start_time": "2022-11-22T17:52:06.608Z"
   },
   {
    "duration": 139,
    "start_time": "2022-11-22T17:52:53.674Z"
   },
   {
    "duration": 135,
    "start_time": "2022-11-22T17:53:20.403Z"
   },
   {
    "duration": 160,
    "start_time": "2022-11-22T17:58:26.232Z"
   },
   {
    "duration": 159,
    "start_time": "2022-11-22T18:04:41.142Z"
   },
   {
    "duration": 179,
    "start_time": "2022-11-22T18:05:41.415Z"
   },
   {
    "duration": 145,
    "start_time": "2022-11-22T18:05:51.677Z"
   },
   {
    "duration": 49,
    "start_time": "2022-11-23T17:14:37.876Z"
   },
   {
    "duration": 1155,
    "start_time": "2022-11-23T17:14:44.013Z"
   },
   {
    "duration": 111,
    "start_time": "2022-11-23T17:14:45.170Z"
   },
   {
    "duration": 14,
    "start_time": "2022-11-23T17:14:45.283Z"
   },
   {
    "duration": 1878,
    "start_time": "2022-11-23T17:14:45.299Z"
   },
   {
    "duration": 10,
    "start_time": "2022-11-23T17:14:47.179Z"
   },
   {
    "duration": 24,
    "start_time": "2022-11-23T17:14:47.191Z"
   },
   {
    "duration": 18,
    "start_time": "2022-11-23T17:14:47.216Z"
   },
   {
    "duration": 25,
    "start_time": "2022-11-23T17:14:47.236Z"
   },
   {
    "duration": 24,
    "start_time": "2022-11-23T17:14:47.263Z"
   },
   {
    "duration": 38,
    "start_time": "2022-11-23T17:14:47.290Z"
   },
   {
    "duration": 5,
    "start_time": "2022-11-23T17:14:47.330Z"
   },
   {
    "duration": 33,
    "start_time": "2022-11-23T17:14:47.336Z"
   },
   {
    "duration": 31,
    "start_time": "2022-11-23T17:14:47.370Z"
   },
   {
    "duration": 107,
    "start_time": "2022-11-23T17:14:47.403Z"
   },
   {
    "duration": 66,
    "start_time": "2022-11-23T17:14:47.512Z"
   },
   {
    "duration": 8,
    "start_time": "2022-11-23T17:14:47.580Z"
   },
   {
    "duration": 13,
    "start_time": "2022-11-23T17:14:47.590Z"
   },
   {
    "duration": 45,
    "start_time": "2022-11-23T17:14:47.605Z"
   },
   {
    "duration": 8,
    "start_time": "2022-11-23T17:14:47.652Z"
   },
   {
    "duration": 28,
    "start_time": "2022-11-23T17:14:47.661Z"
   },
   {
    "duration": 16,
    "start_time": "2022-11-23T17:14:47.690Z"
   },
   {
    "duration": 92,
    "start_time": "2022-11-23T17:14:47.708Z"
   },
   {
    "duration": 11,
    "start_time": "2022-11-23T17:14:47.802Z"
   },
   {
    "duration": 26,
    "start_time": "2022-11-23T17:14:47.815Z"
   },
   {
    "duration": 30,
    "start_time": "2022-11-23T17:14:47.843Z"
   },
   {
    "duration": 4,
    "start_time": "2022-11-23T17:14:47.875Z"
   },
   {
    "duration": 16,
    "start_time": "2022-11-23T17:14:47.881Z"
   },
   {
    "duration": 13,
    "start_time": "2022-11-23T17:14:47.901Z"
   },
   {
    "duration": 23,
    "start_time": "2022-11-23T17:14:47.915Z"
   },
   {
    "duration": 41,
    "start_time": "2022-11-23T17:14:47.940Z"
   },
   {
    "duration": 32,
    "start_time": "2022-11-23T17:14:47.984Z"
   },
   {
    "duration": 5,
    "start_time": "2022-11-23T17:14:48.018Z"
   },
   {
    "duration": 108,
    "start_time": "2022-11-23T17:14:48.025Z"
   },
   {
    "duration": 16,
    "start_time": "2022-11-23T17:14:48.134Z"
   },
   {
    "duration": 13,
    "start_time": "2022-11-23T17:14:48.151Z"
   },
   {
    "duration": 211,
    "start_time": "2022-11-23T17:14:48.166Z"
   },
   {
    "duration": 7,
    "start_time": "2022-11-23T17:14:48.379Z"
   },
   {
    "duration": 232,
    "start_time": "2022-11-23T17:14:48.388Z"
   },
   {
    "duration": 8,
    "start_time": "2022-11-23T17:14:48.622Z"
   },
   {
    "duration": 271,
    "start_time": "2022-11-23T17:14:48.632Z"
   },
   {
    "duration": 8,
    "start_time": "2022-11-23T17:14:48.905Z"
   },
   {
    "duration": 324,
    "start_time": "2022-11-23T17:14:48.915Z"
   },
   {
    "duration": 9,
    "start_time": "2022-11-23T17:14:49.240Z"
   },
   {
    "duration": 149,
    "start_time": "2022-11-23T17:14:49.250Z"
   },
   {
    "duration": 8,
    "start_time": "2022-11-23T17:14:49.400Z"
   },
   {
    "duration": 163,
    "start_time": "2022-11-23T17:14:49.409Z"
   },
   {
    "duration": 9,
    "start_time": "2022-11-23T17:14:49.576Z"
   },
   {
    "duration": 263,
    "start_time": "2022-11-23T17:14:49.586Z"
   },
   {
    "duration": 7,
    "start_time": "2022-11-23T17:14:49.851Z"
   },
   {
    "duration": 117,
    "start_time": "2022-11-23T17:14:49.860Z"
   },
   {
    "duration": 7,
    "start_time": "2022-11-23T17:14:49.979Z"
   },
   {
    "duration": 195,
    "start_time": "2022-11-23T17:14:49.987Z"
   },
   {
    "duration": 9,
    "start_time": "2022-11-23T17:14:50.185Z"
   },
   {
    "duration": 206,
    "start_time": "2022-11-23T17:14:50.196Z"
   },
   {
    "duration": 9,
    "start_time": "2022-11-23T17:14:50.403Z"
   },
   {
    "duration": 216,
    "start_time": "2022-11-23T17:14:50.414Z"
   },
   {
    "duration": 11,
    "start_time": "2022-11-23T17:14:50.632Z"
   },
   {
    "duration": 227,
    "start_time": "2022-11-23T17:14:50.645Z"
   },
   {
    "duration": 8,
    "start_time": "2022-11-23T17:14:50.877Z"
   },
   {
    "duration": 279,
    "start_time": "2022-11-23T17:14:50.887Z"
   },
   {
    "duration": 15,
    "start_time": "2022-11-23T17:14:51.168Z"
   },
   {
    "duration": 15,
    "start_time": "2022-11-23T17:14:51.185Z"
   },
   {
    "duration": 178,
    "start_time": "2022-11-23T17:14:51.202Z"
   },
   {
    "duration": 9,
    "start_time": "2022-11-23T17:14:51.382Z"
   },
   {
    "duration": 160,
    "start_time": "2022-11-23T17:14:51.393Z"
   },
   {
    "duration": 220,
    "start_time": "2022-11-23T17:14:51.555Z"
   },
   {
    "duration": 131,
    "start_time": "2022-11-23T17:14:51.777Z"
   },
   {
    "duration": 153,
    "start_time": "2022-11-23T17:14:51.910Z"
   },
   {
    "duration": 19,
    "start_time": "2022-11-23T17:14:52.064Z"
   },
   {
    "duration": 118,
    "start_time": "2022-11-23T17:14:52.084Z"
   },
   {
    "duration": 141,
    "start_time": "2022-11-23T17:14:52.204Z"
   },
   {
    "duration": 166,
    "start_time": "2022-11-23T17:14:52.347Z"
   },
   {
    "duration": 137,
    "start_time": "2022-11-23T17:14:52.514Z"
   },
   {
    "duration": 25,
    "start_time": "2022-11-23T17:14:52.653Z"
   },
   {
    "duration": 11,
    "start_time": "2022-11-23T17:14:52.679Z"
   },
   {
    "duration": 26,
    "start_time": "2022-11-23T17:14:52.692Z"
   },
   {
    "duration": 47,
    "start_time": "2022-11-23T17:14:52.720Z"
   },
   {
    "duration": 14,
    "start_time": "2022-11-23T17:14:52.768Z"
   },
   {
    "duration": 155,
    "start_time": "2022-11-23T17:14:52.784Z"
   },
   {
    "duration": 1313,
    "start_time": "2022-11-23T18:34:04.004Z"
   },
   {
    "duration": 156,
    "start_time": "2022-11-23T18:34:05.319Z"
   },
   {
    "duration": 16,
    "start_time": "2022-11-23T18:34:05.477Z"
   },
   {
    "duration": 1961,
    "start_time": "2022-11-23T18:34:05.495Z"
   },
   {
    "duration": 9,
    "start_time": "2022-11-23T18:34:07.458Z"
   },
   {
    "duration": 17,
    "start_time": "2022-11-23T18:34:07.469Z"
   },
   {
    "duration": 8,
    "start_time": "2022-11-23T18:34:07.487Z"
   },
   {
    "duration": 5,
    "start_time": "2022-11-23T18:34:07.497Z"
   },
   {
    "duration": 10,
    "start_time": "2022-11-23T18:34:07.504Z"
   },
   {
    "duration": 14,
    "start_time": "2022-11-23T18:34:07.517Z"
   },
   {
    "duration": 4,
    "start_time": "2022-11-23T18:34:07.533Z"
   },
   {
    "duration": 12,
    "start_time": "2022-11-23T18:34:07.538Z"
   },
   {
    "duration": 8,
    "start_time": "2022-11-23T18:34:07.552Z"
   },
   {
    "duration": 122,
    "start_time": "2022-11-23T18:34:07.561Z"
   },
   {
    "duration": 48,
    "start_time": "2022-11-23T18:34:07.685Z"
   },
   {
    "duration": 8,
    "start_time": "2022-11-23T18:34:07.735Z"
   },
   {
    "duration": 13,
    "start_time": "2022-11-23T18:34:07.745Z"
   },
   {
    "duration": 16,
    "start_time": "2022-11-23T18:34:07.777Z"
   },
   {
    "duration": 6,
    "start_time": "2022-11-23T18:34:07.794Z"
   },
   {
    "duration": 11,
    "start_time": "2022-11-23T18:34:07.801Z"
   },
   {
    "duration": 12,
    "start_time": "2022-11-23T18:34:07.814Z"
   },
   {
    "duration": 99,
    "start_time": "2022-11-23T18:34:07.828Z"
   },
   {
    "duration": 11,
    "start_time": "2022-11-23T18:34:07.929Z"
   },
   {
    "duration": 5,
    "start_time": "2022-11-23T18:34:07.942Z"
   },
   {
    "duration": 110,
    "start_time": "2022-11-23T18:34:07.948Z"
   },
   {
    "duration": 0,
    "start_time": "2022-11-23T18:34:08.061Z"
   },
   {
    "duration": 0,
    "start_time": "2022-11-23T18:34:08.062Z"
   },
   {
    "duration": 0,
    "start_time": "2022-11-23T18:34:08.063Z"
   },
   {
    "duration": 0,
    "start_time": "2022-11-23T18:34:08.064Z"
   },
   {
    "duration": 0,
    "start_time": "2022-11-23T18:34:08.065Z"
   },
   {
    "duration": 0,
    "start_time": "2022-11-23T18:34:08.066Z"
   },
   {
    "duration": 0,
    "start_time": "2022-11-23T18:34:08.078Z"
   },
   {
    "duration": 0,
    "start_time": "2022-11-23T18:34:08.079Z"
   },
   {
    "duration": 0,
    "start_time": "2022-11-23T18:34:08.081Z"
   },
   {
    "duration": 0,
    "start_time": "2022-11-23T18:34:08.082Z"
   },
   {
    "duration": 0,
    "start_time": "2022-11-23T18:34:08.083Z"
   },
   {
    "duration": 0,
    "start_time": "2022-11-23T18:34:08.084Z"
   },
   {
    "duration": 0,
    "start_time": "2022-11-23T18:34:08.085Z"
   },
   {
    "duration": 0,
    "start_time": "2022-11-23T18:34:08.086Z"
   },
   {
    "duration": 0,
    "start_time": "2022-11-23T18:34:08.087Z"
   },
   {
    "duration": 0,
    "start_time": "2022-11-23T18:34:08.089Z"
   },
   {
    "duration": 0,
    "start_time": "2022-11-23T18:34:08.090Z"
   },
   {
    "duration": 0,
    "start_time": "2022-11-23T18:34:08.091Z"
   },
   {
    "duration": 0,
    "start_time": "2022-11-23T18:34:08.092Z"
   },
   {
    "duration": 0,
    "start_time": "2022-11-23T18:34:08.094Z"
   },
   {
    "duration": 0,
    "start_time": "2022-11-23T18:34:08.095Z"
   },
   {
    "duration": 0,
    "start_time": "2022-11-23T18:34:08.096Z"
   },
   {
    "duration": 0,
    "start_time": "2022-11-23T18:34:08.097Z"
   },
   {
    "duration": 0,
    "start_time": "2022-11-23T18:34:08.098Z"
   },
   {
    "duration": 0,
    "start_time": "2022-11-23T18:34:08.099Z"
   },
   {
    "duration": 0,
    "start_time": "2022-11-23T18:34:08.100Z"
   },
   {
    "duration": 0,
    "start_time": "2022-11-23T18:34:08.101Z"
   },
   {
    "duration": 0,
    "start_time": "2022-11-23T18:34:08.102Z"
   },
   {
    "duration": 0,
    "start_time": "2022-11-23T18:34:08.103Z"
   },
   {
    "duration": 0,
    "start_time": "2022-11-23T18:34:08.104Z"
   },
   {
    "duration": 0,
    "start_time": "2022-11-23T18:34:08.105Z"
   },
   {
    "duration": 0,
    "start_time": "2022-11-23T18:34:08.106Z"
   },
   {
    "duration": 0,
    "start_time": "2022-11-23T18:34:08.108Z"
   },
   {
    "duration": 0,
    "start_time": "2022-11-23T18:34:08.109Z"
   },
   {
    "duration": 0,
    "start_time": "2022-11-23T18:34:08.110Z"
   },
   {
    "duration": 0,
    "start_time": "2022-11-23T18:34:08.111Z"
   },
   {
    "duration": 0,
    "start_time": "2022-11-23T18:34:08.112Z"
   },
   {
    "duration": 0,
    "start_time": "2022-11-23T18:34:08.113Z"
   },
   {
    "duration": 0,
    "start_time": "2022-11-23T18:34:08.114Z"
   },
   {
    "duration": 0,
    "start_time": "2022-11-23T18:34:08.115Z"
   },
   {
    "duration": 0,
    "start_time": "2022-11-23T18:34:08.178Z"
   },
   {
    "duration": 0,
    "start_time": "2022-11-23T18:34:08.179Z"
   },
   {
    "duration": 0,
    "start_time": "2022-11-23T18:34:08.180Z"
   },
   {
    "duration": 0,
    "start_time": "2022-11-23T18:34:08.181Z"
   },
   {
    "duration": 0,
    "start_time": "2022-11-23T18:34:08.182Z"
   },
   {
    "duration": 0,
    "start_time": "2022-11-23T18:34:08.183Z"
   },
   {
    "duration": 0,
    "start_time": "2022-11-23T18:34:08.184Z"
   },
   {
    "duration": 0,
    "start_time": "2022-11-23T18:34:08.185Z"
   },
   {
    "duration": 0,
    "start_time": "2022-11-23T18:34:08.186Z"
   },
   {
    "duration": 0,
    "start_time": "2022-11-23T18:34:08.187Z"
   },
   {
    "duration": 0,
    "start_time": "2022-11-23T18:34:08.188Z"
   },
   {
    "duration": 0,
    "start_time": "2022-11-23T18:34:08.189Z"
   },
   {
    "duration": 0,
    "start_time": "2022-11-23T18:34:08.189Z"
   },
   {
    "duration": 0,
    "start_time": "2022-11-23T18:34:08.190Z"
   },
   {
    "duration": 89,
    "start_time": "2022-11-23T19:05:16.352Z"
   },
   {
    "duration": 3,
    "start_time": "2022-11-23T19:05:33.556Z"
   },
   {
    "duration": 105,
    "start_time": "2022-11-23T19:05:33.560Z"
   },
   {
    "duration": 13,
    "start_time": "2022-11-23T19:05:33.667Z"
   },
   {
    "duration": 1948,
    "start_time": "2022-11-23T19:05:33.681Z"
   },
   {
    "duration": 8,
    "start_time": "2022-11-23T19:05:35.631Z"
   },
   {
    "duration": 18,
    "start_time": "2022-11-23T19:05:35.641Z"
   },
   {
    "duration": 23,
    "start_time": "2022-11-23T19:05:35.660Z"
   },
   {
    "duration": 7,
    "start_time": "2022-11-23T19:05:35.685Z"
   },
   {
    "duration": 18,
    "start_time": "2022-11-23T19:05:35.694Z"
   },
   {
    "duration": 31,
    "start_time": "2022-11-23T19:05:35.714Z"
   },
   {
    "duration": 4,
    "start_time": "2022-11-23T19:05:35.747Z"
   },
   {
    "duration": 18,
    "start_time": "2022-11-23T19:05:35.753Z"
   },
   {
    "duration": 7,
    "start_time": "2022-11-23T19:05:35.772Z"
   },
   {
    "duration": 10,
    "start_time": "2022-11-23T19:05:35.780Z"
   },
   {
    "duration": 44,
    "start_time": "2022-11-23T19:05:35.792Z"
   },
   {
    "duration": 7,
    "start_time": "2022-11-23T19:05:35.838Z"
   },
   {
    "duration": 31,
    "start_time": "2022-11-23T19:05:35.847Z"
   },
   {
    "duration": 16,
    "start_time": "2022-11-23T19:05:35.879Z"
   },
   {
    "duration": 18,
    "start_time": "2022-11-23T19:05:35.896Z"
   },
   {
    "duration": 9,
    "start_time": "2022-11-23T19:05:35.915Z"
   },
   {
    "duration": 18,
    "start_time": "2022-11-23T19:05:35.925Z"
   },
   {
    "duration": 78,
    "start_time": "2022-11-23T19:05:35.945Z"
   },
   {
    "duration": 10,
    "start_time": "2022-11-23T19:05:36.025Z"
   },
   {
    "duration": 16,
    "start_time": "2022-11-23T19:05:36.046Z"
   },
   {
    "duration": 115,
    "start_time": "2022-11-23T19:05:36.063Z"
   },
   {
    "duration": 0,
    "start_time": "2022-11-23T19:05:36.181Z"
   },
   {
    "duration": 0,
    "start_time": "2022-11-23T19:05:36.182Z"
   },
   {
    "duration": 0,
    "start_time": "2022-11-23T19:05:36.183Z"
   },
   {
    "duration": 0,
    "start_time": "2022-11-23T19:05:36.183Z"
   },
   {
    "duration": 0,
    "start_time": "2022-11-23T19:05:36.184Z"
   },
   {
    "duration": 0,
    "start_time": "2022-11-23T19:05:36.186Z"
   },
   {
    "duration": 0,
    "start_time": "2022-11-23T19:05:36.187Z"
   },
   {
    "duration": 0,
    "start_time": "2022-11-23T19:05:36.188Z"
   },
   {
    "duration": 0,
    "start_time": "2022-11-23T19:05:36.189Z"
   },
   {
    "duration": 0,
    "start_time": "2022-11-23T19:05:36.190Z"
   },
   {
    "duration": 0,
    "start_time": "2022-11-23T19:05:36.191Z"
   },
   {
    "duration": 0,
    "start_time": "2022-11-23T19:05:36.192Z"
   },
   {
    "duration": 0,
    "start_time": "2022-11-23T19:05:36.193Z"
   },
   {
    "duration": 0,
    "start_time": "2022-11-23T19:05:36.193Z"
   },
   {
    "duration": 1,
    "start_time": "2022-11-23T19:05:36.194Z"
   },
   {
    "duration": 0,
    "start_time": "2022-11-23T19:05:36.196Z"
   },
   {
    "duration": 0,
    "start_time": "2022-11-23T19:05:36.196Z"
   },
   {
    "duration": 0,
    "start_time": "2022-11-23T19:05:36.198Z"
   },
   {
    "duration": 0,
    "start_time": "2022-11-23T19:05:36.198Z"
   },
   {
    "duration": 0,
    "start_time": "2022-11-23T19:05:36.199Z"
   },
   {
    "duration": 0,
    "start_time": "2022-11-23T19:05:36.200Z"
   },
   {
    "duration": 0,
    "start_time": "2022-11-23T19:05:36.201Z"
   },
   {
    "duration": 0,
    "start_time": "2022-11-23T19:05:36.203Z"
   },
   {
    "duration": 0,
    "start_time": "2022-11-23T19:05:36.204Z"
   },
   {
    "duration": 0,
    "start_time": "2022-11-23T19:05:36.204Z"
   },
   {
    "duration": 0,
    "start_time": "2022-11-23T19:05:36.205Z"
   },
   {
    "duration": 0,
    "start_time": "2022-11-23T19:05:36.206Z"
   },
   {
    "duration": 0,
    "start_time": "2022-11-23T19:05:36.207Z"
   },
   {
    "duration": 0,
    "start_time": "2022-11-23T19:05:36.208Z"
   },
   {
    "duration": 0,
    "start_time": "2022-11-23T19:05:36.210Z"
   },
   {
    "duration": 0,
    "start_time": "2022-11-23T19:05:36.211Z"
   },
   {
    "duration": 0,
    "start_time": "2022-11-23T19:05:36.212Z"
   },
   {
    "duration": 0,
    "start_time": "2022-11-23T19:05:36.213Z"
   },
   {
    "duration": 0,
    "start_time": "2022-11-23T19:05:36.214Z"
   },
   {
    "duration": 0,
    "start_time": "2022-11-23T19:05:36.215Z"
   },
   {
    "duration": 0,
    "start_time": "2022-11-23T19:05:36.216Z"
   },
   {
    "duration": 0,
    "start_time": "2022-11-23T19:05:36.217Z"
   },
   {
    "duration": 0,
    "start_time": "2022-11-23T19:05:36.218Z"
   },
   {
    "duration": 0,
    "start_time": "2022-11-23T19:05:36.278Z"
   },
   {
    "duration": 0,
    "start_time": "2022-11-23T19:05:36.279Z"
   },
   {
    "duration": 0,
    "start_time": "2022-11-23T19:05:36.280Z"
   },
   {
    "duration": 0,
    "start_time": "2022-11-23T19:05:36.281Z"
   },
   {
    "duration": 0,
    "start_time": "2022-11-23T19:05:36.283Z"
   },
   {
    "duration": 0,
    "start_time": "2022-11-23T19:05:36.283Z"
   },
   {
    "duration": 0,
    "start_time": "2022-11-23T19:05:36.285Z"
   },
   {
    "duration": 0,
    "start_time": "2022-11-23T19:05:36.286Z"
   },
   {
    "duration": 0,
    "start_time": "2022-11-23T19:05:36.287Z"
   },
   {
    "duration": 0,
    "start_time": "2022-11-23T19:05:36.288Z"
   },
   {
    "duration": 1,
    "start_time": "2022-11-23T19:05:36.288Z"
   },
   {
    "duration": 0,
    "start_time": "2022-11-23T19:05:36.290Z"
   },
   {
    "duration": 0,
    "start_time": "2022-11-23T19:05:36.291Z"
   },
   {
    "duration": 0,
    "start_time": "2022-11-23T19:05:36.292Z"
   },
   {
    "duration": 1,
    "start_time": "2022-11-23T19:05:36.292Z"
   },
   {
    "duration": 0,
    "start_time": "2022-11-23T19:05:36.293Z"
   },
   {
    "duration": 48,
    "start_time": "2022-11-24T09:45:53.805Z"
   },
   {
    "duration": 1348,
    "start_time": "2022-11-24T09:46:18.866Z"
   },
   {
    "duration": 332,
    "start_time": "2022-11-24T09:46:20.216Z"
   },
   {
    "duration": 15,
    "start_time": "2022-11-24T09:46:20.550Z"
   },
   {
    "duration": 1742,
    "start_time": "2022-11-24T09:46:20.567Z"
   },
   {
    "duration": 11,
    "start_time": "2022-11-24T09:46:22.311Z"
   },
   {
    "duration": 21,
    "start_time": "2022-11-24T09:46:22.324Z"
   },
   {
    "duration": 8,
    "start_time": "2022-11-24T09:46:22.347Z"
   },
   {
    "duration": 5,
    "start_time": "2022-11-24T09:46:22.356Z"
   },
   {
    "duration": 5,
    "start_time": "2022-11-24T09:46:22.376Z"
   },
   {
    "duration": 12,
    "start_time": "2022-11-24T09:46:22.384Z"
   },
   {
    "duration": 4,
    "start_time": "2022-11-24T09:46:22.398Z"
   },
   {
    "duration": 15,
    "start_time": "2022-11-24T09:46:22.403Z"
   },
   {
    "duration": 7,
    "start_time": "2022-11-24T09:46:22.420Z"
   },
   {
    "duration": 98,
    "start_time": "2022-11-24T09:46:22.429Z"
   },
   {
    "duration": 58,
    "start_time": "2022-11-24T09:46:22.529Z"
   },
   {
    "duration": 7,
    "start_time": "2022-11-24T09:46:22.589Z"
   },
   {
    "duration": 4,
    "start_time": "2022-11-24T09:46:22.597Z"
   },
   {
    "duration": 21,
    "start_time": "2022-11-24T09:46:22.603Z"
   },
   {
    "duration": 6,
    "start_time": "2022-11-24T09:46:22.625Z"
   },
   {
    "duration": 6,
    "start_time": "2022-11-24T09:46:22.633Z"
   },
   {
    "duration": 37,
    "start_time": "2022-11-24T09:46:22.640Z"
   },
   {
    "duration": 80,
    "start_time": "2022-11-24T09:46:22.679Z"
   },
   {
    "duration": 25,
    "start_time": "2022-11-24T09:46:22.761Z"
   },
   {
    "duration": 6,
    "start_time": "2022-11-24T09:46:22.788Z"
   },
   {
    "duration": 12,
    "start_time": "2022-11-24T09:46:22.796Z"
   },
   {
    "duration": 21,
    "start_time": "2022-11-24T09:46:22.810Z"
   },
   {
    "duration": 26,
    "start_time": "2022-11-24T09:46:22.833Z"
   },
   {
    "duration": 9,
    "start_time": "2022-11-24T09:46:22.863Z"
   },
   {
    "duration": 36,
    "start_time": "2022-11-24T09:46:22.873Z"
   },
   {
    "duration": 31,
    "start_time": "2022-11-24T09:46:22.911Z"
   },
   {
    "duration": 22,
    "start_time": "2022-11-24T09:46:22.943Z"
   },
   {
    "duration": 19,
    "start_time": "2022-11-24T09:46:22.967Z"
   },
   {
    "duration": 118,
    "start_time": "2022-11-24T09:46:22.988Z"
   },
   {
    "duration": 18,
    "start_time": "2022-11-24T09:46:23.107Z"
   },
   {
    "duration": 25,
    "start_time": "2022-11-24T09:46:23.127Z"
   },
   {
    "duration": 210,
    "start_time": "2022-11-24T09:46:23.154Z"
   },
   {
    "duration": 11,
    "start_time": "2022-11-24T09:46:23.366Z"
   },
   {
    "duration": 230,
    "start_time": "2022-11-24T09:46:23.379Z"
   },
   {
    "duration": 9,
    "start_time": "2022-11-24T09:46:23.612Z"
   },
   {
    "duration": 283,
    "start_time": "2022-11-24T09:46:23.623Z"
   },
   {
    "duration": 8,
    "start_time": "2022-11-24T09:46:23.907Z"
   },
   {
    "duration": 268,
    "start_time": "2022-11-24T09:46:23.916Z"
   },
   {
    "duration": 8,
    "start_time": "2022-11-24T09:46:24.185Z"
   },
   {
    "duration": 143,
    "start_time": "2022-11-24T09:46:24.194Z"
   },
   {
    "duration": 8,
    "start_time": "2022-11-24T09:46:24.339Z"
   },
   {
    "duration": 146,
    "start_time": "2022-11-24T09:46:24.348Z"
   },
   {
    "duration": 8,
    "start_time": "2022-11-24T09:46:24.495Z"
   },
   {
    "duration": 244,
    "start_time": "2022-11-24T09:46:24.505Z"
   },
   {
    "duration": 9,
    "start_time": "2022-11-24T09:46:24.751Z"
   },
   {
    "duration": 147,
    "start_time": "2022-11-24T09:46:24.762Z"
   },
   {
    "duration": 9,
    "start_time": "2022-11-24T09:46:24.910Z"
   },
   {
    "duration": 193,
    "start_time": "2022-11-24T09:46:24.921Z"
   },
   {
    "duration": 9,
    "start_time": "2022-11-24T09:46:25.116Z"
   },
   {
    "duration": 252,
    "start_time": "2022-11-24T09:46:25.127Z"
   },
   {
    "duration": 9,
    "start_time": "2022-11-24T09:46:25.381Z"
   },
   {
    "duration": 203,
    "start_time": "2022-11-24T09:46:25.391Z"
   },
   {
    "duration": 8,
    "start_time": "2022-11-24T09:46:25.596Z"
   },
   {
    "duration": 206,
    "start_time": "2022-11-24T09:46:25.605Z"
   },
   {
    "duration": 8,
    "start_time": "2022-11-24T09:46:25.812Z"
   },
   {
    "duration": 296,
    "start_time": "2022-11-24T09:46:25.821Z"
   },
   {
    "duration": 7,
    "start_time": "2022-11-24T09:46:26.119Z"
   },
   {
    "duration": 7,
    "start_time": "2022-11-24T09:46:26.127Z"
   },
   {
    "duration": 172,
    "start_time": "2022-11-24T09:46:26.135Z"
   },
   {
    "duration": 8,
    "start_time": "2022-11-24T09:46:26.309Z"
   },
   {
    "duration": 147,
    "start_time": "2022-11-24T09:46:26.318Z"
   },
   {
    "duration": 220,
    "start_time": "2022-11-24T09:46:26.466Z"
   },
   {
    "duration": 138,
    "start_time": "2022-11-24T09:46:26.688Z"
   },
   {
    "duration": 155,
    "start_time": "2022-11-24T09:46:26.828Z"
   },
   {
    "duration": 10,
    "start_time": "2022-11-24T09:46:26.984Z"
   },
   {
    "duration": 129,
    "start_time": "2022-11-24T09:46:26.996Z"
   },
   {
    "duration": 130,
    "start_time": "2022-11-24T09:46:27.127Z"
   },
   {
    "duration": 171,
    "start_time": "2022-11-24T09:46:27.258Z"
   },
   {
    "duration": 152,
    "start_time": "2022-11-24T09:46:27.430Z"
   },
   {
    "duration": 17,
    "start_time": "2022-11-24T09:46:27.583Z"
   },
   {
    "duration": 8,
    "start_time": "2022-11-24T09:46:27.602Z"
   },
   {
    "duration": 13,
    "start_time": "2022-11-24T09:46:27.612Z"
   },
   {
    "duration": 52,
    "start_time": "2022-11-24T09:46:27.626Z"
   },
   {
    "duration": 14,
    "start_time": "2022-11-24T09:46:27.679Z"
   },
   {
    "duration": 137,
    "start_time": "2022-11-24T09:46:27.694Z"
   },
   {
    "duration": 6,
    "start_time": "2022-11-24T09:47:13.981Z"
   },
   {
    "duration": 3,
    "start_time": "2022-11-24T09:48:52.717Z"
   },
   {
    "duration": 4,
    "start_time": "2022-11-24T09:49:05.630Z"
   },
   {
    "duration": 4,
    "start_time": "2022-11-24T09:50:00.501Z"
   },
   {
    "duration": 5,
    "start_time": "2022-11-24T09:50:02.718Z"
   },
   {
    "duration": 5,
    "start_time": "2022-11-24T09:50:21.954Z"
   },
   {
    "duration": 4,
    "start_time": "2022-11-24T09:50:23.333Z"
   },
   {
    "duration": 4,
    "start_time": "2022-11-24T09:50:43.964Z"
   },
   {
    "duration": 111,
    "start_time": "2022-11-24T09:50:43.975Z"
   },
   {
    "duration": 15,
    "start_time": "2022-11-24T09:50:44.088Z"
   },
   {
    "duration": 2066,
    "start_time": "2022-11-24T09:50:44.104Z"
   },
   {
    "duration": 11,
    "start_time": "2022-11-24T09:50:46.172Z"
   },
   {
    "duration": 26,
    "start_time": "2022-11-24T09:50:46.184Z"
   },
   {
    "duration": 7,
    "start_time": "2022-11-24T09:50:46.212Z"
   },
   {
    "duration": 5,
    "start_time": "2022-11-24T09:50:46.220Z"
   },
   {
    "duration": 16,
    "start_time": "2022-11-24T09:50:46.227Z"
   },
   {
    "duration": 27,
    "start_time": "2022-11-24T09:50:46.245Z"
   },
   {
    "duration": 3,
    "start_time": "2022-11-24T09:50:46.278Z"
   },
   {
    "duration": 9,
    "start_time": "2022-11-24T09:50:46.283Z"
   },
   {
    "duration": 8,
    "start_time": "2022-11-24T09:50:46.294Z"
   },
   {
    "duration": 9,
    "start_time": "2022-11-24T09:50:46.304Z"
   },
   {
    "duration": 42,
    "start_time": "2022-11-24T09:50:46.315Z"
   },
   {
    "duration": 8,
    "start_time": "2022-11-24T09:50:46.377Z"
   },
   {
    "duration": 8,
    "start_time": "2022-11-24T09:50:46.386Z"
   },
   {
    "duration": 17,
    "start_time": "2022-11-24T09:50:46.396Z"
   },
   {
    "duration": 7,
    "start_time": "2022-11-24T09:50:46.415Z"
   },
   {
    "duration": 7,
    "start_time": "2022-11-24T09:50:46.424Z"
   },
   {
    "duration": 44,
    "start_time": "2022-11-24T09:50:46.433Z"
   },
   {
    "duration": 82,
    "start_time": "2022-11-24T09:50:46.479Z"
   },
   {
    "duration": 11,
    "start_time": "2022-11-24T09:50:46.576Z"
   },
   {
    "duration": 5,
    "start_time": "2022-11-24T09:50:46.589Z"
   },
   {
    "duration": 8,
    "start_time": "2022-11-24T09:50:46.596Z"
   },
   {
    "duration": 5,
    "start_time": "2022-11-24T09:50:46.606Z"
   },
   {
    "duration": 16,
    "start_time": "2022-11-24T09:50:46.613Z"
   },
   {
    "duration": 3,
    "start_time": "2022-11-24T09:50:46.631Z"
   },
   {
    "duration": 11,
    "start_time": "2022-11-24T09:50:46.638Z"
   },
   {
    "duration": 35,
    "start_time": "2022-11-24T09:50:46.651Z"
   },
   {
    "duration": 20,
    "start_time": "2022-11-24T09:50:46.688Z"
   },
   {
    "duration": 17,
    "start_time": "2022-11-24T09:50:46.709Z"
   },
   {
    "duration": 5,
    "start_time": "2022-11-24T09:50:46.727Z"
   },
   {
    "duration": 122,
    "start_time": "2022-11-24T09:50:46.734Z"
   },
   {
    "duration": 19,
    "start_time": "2022-11-24T09:50:46.858Z"
   },
   {
    "duration": 10,
    "start_time": "2022-11-24T09:50:46.878Z"
   },
   {
    "duration": 190,
    "start_time": "2022-11-24T09:50:46.889Z"
   },
   {
    "duration": 7,
    "start_time": "2022-11-24T09:50:47.081Z"
   },
   {
    "duration": 212,
    "start_time": "2022-11-24T09:50:47.089Z"
   },
   {
    "duration": 8,
    "start_time": "2022-11-24T09:50:47.303Z"
   },
   {
    "duration": 367,
    "start_time": "2022-11-24T09:50:47.312Z"
   },
   {
    "duration": 9,
    "start_time": "2022-11-24T09:50:47.680Z"
   },
   {
    "duration": 289,
    "start_time": "2022-11-24T09:50:47.690Z"
   },
   {
    "duration": 9,
    "start_time": "2022-11-24T09:50:47.981Z"
   },
   {
    "duration": 148,
    "start_time": "2022-11-24T09:50:47.992Z"
   },
   {
    "duration": 8,
    "start_time": "2022-11-24T09:50:48.142Z"
   },
   {
    "duration": 147,
    "start_time": "2022-11-24T09:50:48.151Z"
   },
   {
    "duration": 9,
    "start_time": "2022-11-24T09:50:48.300Z"
   },
   {
    "duration": 176,
    "start_time": "2022-11-24T09:50:48.310Z"
   },
   {
    "duration": 9,
    "start_time": "2022-11-24T09:50:48.487Z"
   },
   {
    "duration": 135,
    "start_time": "2022-11-24T09:50:48.498Z"
   },
   {
    "duration": 7,
    "start_time": "2022-11-24T09:50:48.635Z"
   },
   {
    "duration": 196,
    "start_time": "2022-11-24T09:50:48.644Z"
   },
   {
    "duration": 7,
    "start_time": "2022-11-24T09:50:48.842Z"
   },
   {
    "duration": 241,
    "start_time": "2022-11-24T09:50:48.851Z"
   },
   {
    "duration": 11,
    "start_time": "2022-11-24T09:50:49.093Z"
   },
   {
    "duration": 307,
    "start_time": "2022-11-24T09:50:49.105Z"
   },
   {
    "duration": 8,
    "start_time": "2022-11-24T09:50:49.413Z"
   },
   {
    "duration": 199,
    "start_time": "2022-11-24T09:50:49.423Z"
   },
   {
    "duration": 8,
    "start_time": "2022-11-24T09:50:49.623Z"
   },
   {
    "duration": 280,
    "start_time": "2022-11-24T09:50:49.633Z"
   },
   {
    "duration": 7,
    "start_time": "2022-11-24T09:50:49.915Z"
   },
   {
    "duration": 9,
    "start_time": "2022-11-24T09:50:49.924Z"
   },
   {
    "duration": 176,
    "start_time": "2022-11-24T09:50:49.935Z"
   },
   {
    "duration": 7,
    "start_time": "2022-11-24T09:50:50.112Z"
   },
   {
    "duration": 150,
    "start_time": "2022-11-24T09:50:50.121Z"
   },
   {
    "duration": 142,
    "start_time": "2022-11-24T09:50:50.275Z"
   },
   {
    "duration": 149,
    "start_time": "2022-11-24T09:50:50.418Z"
   },
   {
    "duration": 153,
    "start_time": "2022-11-24T09:50:50.569Z"
   },
   {
    "duration": 11,
    "start_time": "2022-11-24T09:50:50.723Z"
   },
   {
    "duration": 127,
    "start_time": "2022-11-24T09:50:50.736Z"
   },
   {
    "duration": 124,
    "start_time": "2022-11-24T09:50:50.865Z"
   },
   {
    "duration": 242,
    "start_time": "2022-11-24T09:50:50.991Z"
   },
   {
    "duration": 135,
    "start_time": "2022-11-24T09:50:51.235Z"
   },
   {
    "duration": 15,
    "start_time": "2022-11-24T09:50:51.375Z"
   },
   {
    "duration": 24,
    "start_time": "2022-11-24T09:50:51.392Z"
   },
   {
    "duration": 22,
    "start_time": "2022-11-24T09:50:51.417Z"
   },
   {
    "duration": 36,
    "start_time": "2022-11-24T09:50:51.441Z"
   },
   {
    "duration": 15,
    "start_time": "2022-11-24T09:50:51.479Z"
   },
   {
    "duration": 165,
    "start_time": "2022-11-24T09:50:51.496Z"
   },
   {
    "duration": 4,
    "start_time": "2022-11-24T09:52:16.732Z"
   },
   {
    "duration": 9,
    "start_time": "2022-11-24T10:20:09.801Z"
   },
   {
    "duration": 8,
    "start_time": "2022-11-24T10:20:14.182Z"
   },
   {
    "duration": 4,
    "start_time": "2022-11-24T10:20:19.024Z"
   },
   {
    "duration": 4,
    "start_time": "2022-11-24T10:20:22.192Z"
   },
   {
    "duration": 4,
    "start_time": "2022-11-24T10:20:24.341Z"
   },
   {
    "duration": 4,
    "start_time": "2022-11-24T10:20:45.626Z"
   },
   {
    "duration": 6,
    "start_time": "2022-11-24T10:21:32.836Z"
   },
   {
    "duration": 4,
    "start_time": "2022-11-24T10:21:34.530Z"
   },
   {
    "duration": 4,
    "start_time": "2022-11-24T10:21:37.608Z"
   },
   {
    "duration": 3,
    "start_time": "2022-11-24T10:21:40.883Z"
   },
   {
    "duration": 7,
    "start_time": "2022-11-24T10:21:42.562Z"
   },
   {
    "duration": 3,
    "start_time": "2022-11-24T10:21:43.756Z"
   },
   {
    "duration": 6,
    "start_time": "2022-11-24T10:21:53.975Z"
   },
   {
    "duration": 4,
    "start_time": "2022-11-24T10:21:55.750Z"
   },
   {
    "duration": 3,
    "start_time": "2022-11-24T10:23:38.471Z"
   },
   {
    "duration": 116,
    "start_time": "2022-11-24T10:23:38.481Z"
   },
   {
    "duration": 15,
    "start_time": "2022-11-24T10:23:38.598Z"
   },
   {
    "duration": 1924,
    "start_time": "2022-11-24T10:23:38.614Z"
   },
   {
    "duration": 10,
    "start_time": "2022-11-24T10:23:40.540Z"
   },
   {
    "duration": 51,
    "start_time": "2022-11-24T10:23:40.552Z"
   },
   {
    "duration": 11,
    "start_time": "2022-11-24T10:23:40.604Z"
   },
   {
    "duration": 6,
    "start_time": "2022-11-24T10:23:40.617Z"
   },
   {
    "duration": 14,
    "start_time": "2022-11-24T10:23:40.624Z"
   },
   {
    "duration": 35,
    "start_time": "2022-11-24T10:23:40.640Z"
   },
   {
    "duration": 4,
    "start_time": "2022-11-24T10:23:40.677Z"
   },
   {
    "duration": 8,
    "start_time": "2022-11-24T10:23:40.682Z"
   },
   {
    "duration": 14,
    "start_time": "2022-11-24T10:23:40.691Z"
   },
   {
    "duration": 14,
    "start_time": "2022-11-24T10:23:40.706Z"
   },
   {
    "duration": 44,
    "start_time": "2022-11-24T10:23:40.722Z"
   },
   {
    "duration": 12,
    "start_time": "2022-11-24T10:23:40.768Z"
   },
   {
    "duration": 8,
    "start_time": "2022-11-24T10:23:40.781Z"
   },
   {
    "duration": 47,
    "start_time": "2022-11-24T10:23:40.791Z"
   },
   {
    "duration": 69,
    "start_time": "2022-11-24T10:23:40.840Z"
   },
   {
    "duration": 7,
    "start_time": "2022-11-24T10:23:40.911Z"
   },
   {
    "duration": 15,
    "start_time": "2022-11-24T10:23:40.919Z"
   },
   {
    "duration": 84,
    "start_time": "2022-11-24T10:23:40.936Z"
   },
   {
    "duration": 11,
    "start_time": "2022-11-24T10:23:41.021Z"
   },
   {
    "duration": 7,
    "start_time": "2022-11-24T10:23:41.034Z"
   },
   {
    "duration": 9,
    "start_time": "2022-11-24T10:23:41.042Z"
   },
   {
    "duration": 11,
    "start_time": "2022-11-24T10:23:41.053Z"
   },
   {
    "duration": 18,
    "start_time": "2022-11-24T10:23:41.065Z"
   },
   {
    "duration": 9,
    "start_time": "2022-11-24T10:23:41.084Z"
   },
   {
    "duration": 13,
    "start_time": "2022-11-24T10:23:41.097Z"
   },
   {
    "duration": 20,
    "start_time": "2022-11-24T10:23:41.111Z"
   },
   {
    "duration": 17,
    "start_time": "2022-11-24T10:23:41.132Z"
   },
   {
    "duration": 39,
    "start_time": "2022-11-24T10:23:41.151Z"
   },
   {
    "duration": 6,
    "start_time": "2022-11-24T10:23:41.192Z"
   },
   {
    "duration": 118,
    "start_time": "2022-11-24T10:23:41.199Z"
   },
   {
    "duration": 17,
    "start_time": "2022-11-24T10:23:41.319Z"
   },
   {
    "duration": 9,
    "start_time": "2022-11-24T10:23:41.337Z"
   },
   {
    "duration": 238,
    "start_time": "2022-11-24T10:23:41.348Z"
   },
   {
    "duration": 8,
    "start_time": "2022-11-24T10:23:41.588Z"
   },
   {
    "duration": 230,
    "start_time": "2022-11-24T10:23:41.598Z"
   },
   {
    "duration": 9,
    "start_time": "2022-11-24T10:23:41.830Z"
   },
   {
    "duration": 275,
    "start_time": "2022-11-24T10:23:41.841Z"
   },
   {
    "duration": 8,
    "start_time": "2022-11-24T10:23:42.117Z"
   },
   {
    "duration": 316,
    "start_time": "2022-11-24T10:23:42.127Z"
   },
   {
    "duration": 8,
    "start_time": "2022-11-24T10:23:42.445Z"
   },
   {
    "duration": 185,
    "start_time": "2022-11-24T10:23:42.455Z"
   },
   {
    "duration": 8,
    "start_time": "2022-11-24T10:23:42.642Z"
   },
   {
    "duration": 283,
    "start_time": "2022-11-24T10:23:42.652Z"
   },
   {
    "duration": 9,
    "start_time": "2022-11-24T10:23:42.937Z"
   },
   {
    "duration": 174,
    "start_time": "2022-11-24T10:23:42.948Z"
   },
   {
    "duration": 8,
    "start_time": "2022-11-24T10:23:43.123Z"
   },
   {
    "duration": 130,
    "start_time": "2022-11-24T10:23:43.133Z"
   },
   {
    "duration": 13,
    "start_time": "2022-11-24T10:23:43.264Z"
   },
   {
    "duration": 171,
    "start_time": "2022-11-24T10:23:43.278Z"
   },
   {
    "duration": 8,
    "start_time": "2022-11-24T10:23:43.451Z"
   },
   {
    "duration": 232,
    "start_time": "2022-11-24T10:23:43.461Z"
   },
   {
    "duration": 11,
    "start_time": "2022-11-24T10:23:43.694Z"
   },
   {
    "duration": 217,
    "start_time": "2022-11-24T10:23:43.708Z"
   },
   {
    "duration": 9,
    "start_time": "2022-11-24T10:23:43.927Z"
   },
   {
    "duration": 208,
    "start_time": "2022-11-24T10:23:43.938Z"
   },
   {
    "duration": 8,
    "start_time": "2022-11-24T10:23:44.147Z"
   },
   {
    "duration": 273,
    "start_time": "2022-11-24T10:23:44.157Z"
   },
   {
    "duration": 8,
    "start_time": "2022-11-24T10:23:44.431Z"
   },
   {
    "duration": 7,
    "start_time": "2022-11-24T10:23:44.441Z"
   },
   {
    "duration": 183,
    "start_time": "2022-11-24T10:23:44.449Z"
   },
   {
    "duration": 8,
    "start_time": "2022-11-24T10:23:44.634Z"
   },
   {
    "duration": 269,
    "start_time": "2022-11-24T10:23:44.643Z"
   },
   {
    "duration": 167,
    "start_time": "2022-11-24T10:23:44.914Z"
   },
   {
    "duration": 151,
    "start_time": "2022-11-24T10:23:45.083Z"
   },
   {
    "duration": 188,
    "start_time": "2022-11-24T10:23:45.236Z"
   },
   {
    "duration": 12,
    "start_time": "2022-11-24T10:23:45.426Z"
   },
   {
    "duration": 164,
    "start_time": "2022-11-24T10:23:45.439Z"
   },
   {
    "duration": 140,
    "start_time": "2022-11-24T10:23:45.605Z"
   },
   {
    "duration": 160,
    "start_time": "2022-11-24T10:23:45.747Z"
   },
   {
    "duration": 138,
    "start_time": "2022-11-24T10:23:45.909Z"
   },
   {
    "duration": 16,
    "start_time": "2022-11-24T10:23:46.049Z"
   },
   {
    "duration": 17,
    "start_time": "2022-11-24T10:23:46.077Z"
   },
   {
    "duration": 34,
    "start_time": "2022-11-24T10:23:46.095Z"
   },
   {
    "duration": 54,
    "start_time": "2022-11-24T10:23:46.131Z"
   },
   {
    "duration": 20,
    "start_time": "2022-11-24T10:23:46.186Z"
   },
   {
    "duration": 139,
    "start_time": "2022-11-24T10:23:46.208Z"
   },
   {
    "duration": 4,
    "start_time": "2022-11-24T10:25:01.117Z"
   },
   {
    "duration": 6,
    "start_time": "2022-11-24T10:25:03.990Z"
   },
   {
    "duration": 6,
    "start_time": "2022-11-24T10:25:05.279Z"
   },
   {
    "duration": 6,
    "start_time": "2022-11-24T10:25:06.352Z"
   },
   {
    "duration": 7,
    "start_time": "2022-11-24T10:25:09.034Z"
   },
   {
    "duration": 3,
    "start_time": "2022-11-24T10:25:10.448Z"
   },
   {
    "duration": 7,
    "start_time": "2022-11-24T10:26:55.105Z"
   },
   {
    "duration": 4,
    "start_time": "2022-11-24T10:27:54.559Z"
   },
   {
    "duration": 4,
    "start_time": "2022-11-24T10:28:39.729Z"
   },
   {
    "duration": 6,
    "start_time": "2022-11-24T10:28:45.949Z"
   },
   {
    "duration": 5,
    "start_time": "2022-11-24T10:28:47.216Z"
   },
   {
    "duration": 3,
    "start_time": "2022-11-24T11:01:16.343Z"
   },
   {
    "duration": 106,
    "start_time": "2022-11-24T11:01:16.348Z"
   },
   {
    "duration": 14,
    "start_time": "2022-11-24T11:01:16.455Z"
   },
   {
    "duration": 1970,
    "start_time": "2022-11-24T11:01:16.471Z"
   },
   {
    "duration": 10,
    "start_time": "2022-11-24T11:01:18.443Z"
   },
   {
    "duration": 30,
    "start_time": "2022-11-24T11:01:18.454Z"
   },
   {
    "duration": 8,
    "start_time": "2022-11-24T11:01:18.485Z"
   },
   {
    "duration": 11,
    "start_time": "2022-11-24T11:01:18.495Z"
   },
   {
    "duration": 16,
    "start_time": "2022-11-24T11:01:18.507Z"
   },
   {
    "duration": 20,
    "start_time": "2022-11-24T11:01:18.525Z"
   },
   {
    "duration": 4,
    "start_time": "2022-11-24T11:01:18.548Z"
   },
   {
    "duration": 6,
    "start_time": "2022-11-24T11:01:18.554Z"
   },
   {
    "duration": 4,
    "start_time": "2022-11-24T11:01:18.576Z"
   },
   {
    "duration": 24,
    "start_time": "2022-11-24T11:01:18.581Z"
   },
   {
    "duration": 51,
    "start_time": "2022-11-24T11:01:18.606Z"
   },
   {
    "duration": 17,
    "start_time": "2022-11-24T11:01:18.659Z"
   },
   {
    "duration": 5,
    "start_time": "2022-11-24T11:01:18.678Z"
   },
   {
    "duration": 36,
    "start_time": "2022-11-24T11:01:18.685Z"
   },
   {
    "duration": 18,
    "start_time": "2022-11-24T11:01:18.723Z"
   },
   {
    "duration": 11,
    "start_time": "2022-11-24T11:01:18.743Z"
   },
   {
    "duration": 21,
    "start_time": "2022-11-24T11:01:18.756Z"
   },
   {
    "duration": 104,
    "start_time": "2022-11-24T11:01:18.779Z"
   },
   {
    "duration": 12,
    "start_time": "2022-11-24T11:01:18.885Z"
   },
   {
    "duration": 21,
    "start_time": "2022-11-24T11:01:18.898Z"
   },
   {
    "duration": 38,
    "start_time": "2022-11-24T11:01:18.921Z"
   },
   {
    "duration": 20,
    "start_time": "2022-11-24T11:01:18.960Z"
   },
   {
    "duration": 33,
    "start_time": "2022-11-24T11:01:18.982Z"
   },
   {
    "duration": 37,
    "start_time": "2022-11-24T11:01:19.017Z"
   },
   {
    "duration": 20,
    "start_time": "2022-11-24T11:01:19.060Z"
   },
   {
    "duration": 19,
    "start_time": "2022-11-24T11:01:19.082Z"
   },
   {
    "duration": 5,
    "start_time": "2022-11-24T11:01:19.103Z"
   },
   {
    "duration": 143,
    "start_time": "2022-11-24T11:01:19.110Z"
   },
   {
    "duration": 22,
    "start_time": "2022-11-24T11:01:19.255Z"
   },
   {
    "duration": 22,
    "start_time": "2022-11-24T11:01:19.279Z"
   },
   {
    "duration": 225,
    "start_time": "2022-11-24T11:01:19.302Z"
   },
   {
    "duration": 9,
    "start_time": "2022-11-24T11:01:19.529Z"
   },
   {
    "duration": 238,
    "start_time": "2022-11-24T11:01:19.539Z"
   },
   {
    "duration": 9,
    "start_time": "2022-11-24T11:01:19.779Z"
   },
   {
    "duration": 376,
    "start_time": "2022-11-24T11:01:19.790Z"
   },
   {
    "duration": 13,
    "start_time": "2022-11-24T11:01:20.168Z"
   },
   {
    "duration": 249,
    "start_time": "2022-11-24T11:01:20.183Z"
   },
   {
    "duration": 7,
    "start_time": "2022-11-24T11:01:20.434Z"
   },
   {
    "duration": 135,
    "start_time": "2022-11-24T11:01:20.443Z"
   },
   {
    "duration": 7,
    "start_time": "2022-11-24T11:01:20.580Z"
   },
   {
    "duration": 137,
    "start_time": "2022-11-24T11:01:20.588Z"
   },
   {
    "duration": 7,
    "start_time": "2022-11-24T11:01:20.726Z"
   },
   {
    "duration": 163,
    "start_time": "2022-11-24T11:01:20.735Z"
   },
   {
    "duration": 7,
    "start_time": "2022-11-24T11:01:20.899Z"
   },
   {
    "duration": 116,
    "start_time": "2022-11-24T11:01:20.908Z"
   },
   {
    "duration": 8,
    "start_time": "2022-11-24T11:01:21.025Z"
   },
   {
    "duration": 208,
    "start_time": "2022-11-24T11:01:21.035Z"
   },
   {
    "duration": 8,
    "start_time": "2022-11-24T11:01:21.245Z"
   },
   {
    "duration": 200,
    "start_time": "2022-11-24T11:01:21.254Z"
   },
   {
    "duration": 23,
    "start_time": "2022-11-24T11:01:21.456Z"
   },
   {
    "duration": 249,
    "start_time": "2022-11-24T11:01:21.481Z"
   },
   {
    "duration": 8,
    "start_time": "2022-11-24T11:01:21.731Z"
   },
   {
    "duration": 193,
    "start_time": "2022-11-24T11:01:21.740Z"
   },
   {
    "duration": 8,
    "start_time": "2022-11-24T11:01:21.934Z"
   },
   {
    "duration": 274,
    "start_time": "2022-11-24T11:01:21.943Z"
   },
   {
    "duration": 7,
    "start_time": "2022-11-24T11:01:22.219Z"
   },
   {
    "duration": 13,
    "start_time": "2022-11-24T11:01:22.228Z"
   },
   {
    "duration": 168,
    "start_time": "2022-11-24T11:01:22.243Z"
   },
   {
    "duration": 8,
    "start_time": "2022-11-24T11:01:22.413Z"
   },
   {
    "duration": 147,
    "start_time": "2022-11-24T11:01:22.422Z"
   },
   {
    "duration": 142,
    "start_time": "2022-11-24T11:01:22.571Z"
   },
   {
    "duration": 138,
    "start_time": "2022-11-24T11:01:22.715Z"
   },
   {
    "duration": 162,
    "start_time": "2022-11-24T11:01:22.855Z"
   },
   {
    "duration": 12,
    "start_time": "2022-11-24T11:01:23.019Z"
   },
   {
    "duration": 134,
    "start_time": "2022-11-24T11:01:23.033Z"
   },
   {
    "duration": 141,
    "start_time": "2022-11-24T11:01:23.169Z"
   },
   {
    "duration": 248,
    "start_time": "2022-11-24T11:01:23.312Z"
   },
   {
    "duration": 136,
    "start_time": "2022-11-24T11:01:23.562Z"
   },
   {
    "duration": 18,
    "start_time": "2022-11-24T11:01:23.700Z"
   },
   {
    "duration": 9,
    "start_time": "2022-11-24T11:01:23.719Z"
   },
   {
    "duration": 25,
    "start_time": "2022-11-24T11:01:23.730Z"
   },
   {
    "duration": 43,
    "start_time": "2022-11-24T11:01:23.757Z"
   },
   {
    "duration": 13,
    "start_time": "2022-11-24T11:01:23.801Z"
   },
   {
    "duration": 134,
    "start_time": "2022-11-24T11:01:23.815Z"
   },
   {
    "duration": 2,
    "start_time": "2022-11-24T11:23:05.499Z"
   },
   {
    "duration": 134,
    "start_time": "2022-11-24T11:23:05.508Z"
   },
   {
    "duration": 32,
    "start_time": "2022-11-24T11:23:05.644Z"
   },
   {
    "duration": 2049,
    "start_time": "2022-11-24T11:23:05.678Z"
   },
   {
    "duration": 9,
    "start_time": "2022-11-24T11:23:07.729Z"
   },
   {
    "duration": 39,
    "start_time": "2022-11-24T11:23:07.740Z"
   },
   {
    "duration": 20,
    "start_time": "2022-11-24T11:23:07.780Z"
   },
   {
    "duration": 24,
    "start_time": "2022-11-24T11:23:07.802Z"
   },
   {
    "duration": 24,
    "start_time": "2022-11-24T11:23:07.828Z"
   },
   {
    "duration": 40,
    "start_time": "2022-11-24T11:23:07.853Z"
   },
   {
    "duration": 29,
    "start_time": "2022-11-24T11:23:07.896Z"
   },
   {
    "duration": 38,
    "start_time": "2022-11-24T11:23:07.927Z"
   },
   {
    "duration": 24,
    "start_time": "2022-11-24T11:23:07.966Z"
   },
   {
    "duration": 18,
    "start_time": "2022-11-24T11:23:07.992Z"
   },
   {
    "duration": 57,
    "start_time": "2022-11-24T11:23:08.011Z"
   },
   {
    "duration": 7,
    "start_time": "2022-11-24T11:23:08.069Z"
   },
   {
    "duration": 18,
    "start_time": "2022-11-24T11:23:08.078Z"
   },
   {
    "duration": 43,
    "start_time": "2022-11-24T11:23:08.097Z"
   },
   {
    "duration": 24,
    "start_time": "2022-11-24T11:23:08.142Z"
   },
   {
    "duration": 19,
    "start_time": "2022-11-24T11:23:08.168Z"
   },
   {
    "duration": 42,
    "start_time": "2022-11-24T11:23:08.189Z"
   },
   {
    "duration": 97,
    "start_time": "2022-11-24T11:23:08.232Z"
   },
   {
    "duration": 12,
    "start_time": "2022-11-24T11:23:08.330Z"
   },
   {
    "duration": 25,
    "start_time": "2022-11-24T11:23:08.344Z"
   },
   {
    "duration": 20,
    "start_time": "2022-11-24T11:23:08.371Z"
   },
   {
    "duration": 32,
    "start_time": "2022-11-24T11:23:08.393Z"
   },
   {
    "duration": 14,
    "start_time": "2022-11-24T11:23:08.427Z"
   },
   {
    "duration": 42,
    "start_time": "2022-11-24T11:23:08.442Z"
   },
   {
    "duration": 18,
    "start_time": "2022-11-24T11:23:08.488Z"
   },
   {
    "duration": 25,
    "start_time": "2022-11-24T11:23:08.508Z"
   },
   {
    "duration": 11,
    "start_time": "2022-11-24T11:23:08.535Z"
   },
   {
    "duration": 115,
    "start_time": "2022-11-24T11:23:08.548Z"
   },
   {
    "duration": 16,
    "start_time": "2022-11-24T11:23:08.665Z"
   },
   {
    "duration": 24,
    "start_time": "2022-11-24T11:23:08.682Z"
   },
   {
    "duration": 216,
    "start_time": "2022-11-24T11:23:08.707Z"
   },
   {
    "duration": 8,
    "start_time": "2022-11-24T11:23:08.924Z"
   },
   {
    "duration": 218,
    "start_time": "2022-11-24T11:23:08.934Z"
   },
   {
    "duration": 7,
    "start_time": "2022-11-24T11:23:09.154Z"
   },
   {
    "duration": 237,
    "start_time": "2022-11-24T11:23:09.163Z"
   },
   {
    "duration": 8,
    "start_time": "2022-11-24T11:23:09.401Z"
   },
   {
    "duration": 269,
    "start_time": "2022-11-24T11:23:09.410Z"
   },
   {
    "duration": 7,
    "start_time": "2022-11-24T11:23:09.681Z"
   },
   {
    "duration": 164,
    "start_time": "2022-11-24T11:23:09.690Z"
   },
   {
    "duration": 8,
    "start_time": "2022-11-24T11:23:09.855Z"
   },
   {
    "duration": 301,
    "start_time": "2022-11-24T11:23:09.864Z"
   },
   {
    "duration": 16,
    "start_time": "2022-11-24T11:23:10.166Z"
   },
   {
    "duration": 183,
    "start_time": "2022-11-24T11:23:10.184Z"
   },
   {
    "duration": 13,
    "start_time": "2022-11-24T11:23:10.369Z"
   },
   {
    "duration": 135,
    "start_time": "2022-11-24T11:23:10.383Z"
   },
   {
    "duration": 8,
    "start_time": "2022-11-24T11:23:10.519Z"
   },
   {
    "duration": 208,
    "start_time": "2022-11-24T11:23:10.528Z"
   },
   {
    "duration": 8,
    "start_time": "2022-11-24T11:23:10.738Z"
   },
   {
    "duration": 214,
    "start_time": "2022-11-24T11:23:10.748Z"
   },
   {
    "duration": 17,
    "start_time": "2022-11-24T11:23:10.964Z"
   },
   {
    "duration": 201,
    "start_time": "2022-11-24T11:23:10.982Z"
   },
   {
    "duration": 8,
    "start_time": "2022-11-24T11:23:11.184Z"
   },
   {
    "duration": 205,
    "start_time": "2022-11-24T11:23:11.194Z"
   },
   {
    "duration": 8,
    "start_time": "2022-11-24T11:23:11.400Z"
   },
   {
    "duration": 305,
    "start_time": "2022-11-24T11:23:11.409Z"
   },
   {
    "duration": 8,
    "start_time": "2022-11-24T11:23:11.716Z"
   },
   {
    "duration": 10,
    "start_time": "2022-11-24T11:23:11.725Z"
   },
   {
    "duration": 254,
    "start_time": "2022-11-24T11:23:11.736Z"
   },
   {
    "duration": 8,
    "start_time": "2022-11-24T11:23:11.991Z"
   },
   {
    "duration": 141,
    "start_time": "2022-11-24T11:23:12.001Z"
   },
   {
    "duration": 140,
    "start_time": "2022-11-24T11:23:12.144Z"
   },
   {
    "duration": 147,
    "start_time": "2022-11-24T11:23:12.286Z"
   },
   {
    "duration": 178,
    "start_time": "2022-11-24T11:23:12.434Z"
   },
   {
    "duration": 12,
    "start_time": "2022-11-24T11:23:12.613Z"
   },
   {
    "duration": 139,
    "start_time": "2022-11-24T11:23:12.627Z"
   },
   {
    "duration": 143,
    "start_time": "2022-11-24T11:23:12.768Z"
   },
   {
    "duration": 175,
    "start_time": "2022-11-24T11:23:12.913Z"
   },
   {
    "duration": 151,
    "start_time": "2022-11-24T11:23:13.089Z"
   },
   {
    "duration": 17,
    "start_time": "2022-11-24T11:23:13.241Z"
   },
   {
    "duration": 24,
    "start_time": "2022-11-24T11:23:13.260Z"
   },
   {
    "duration": 124,
    "start_time": "2022-11-24T11:23:13.286Z"
   },
   {
    "duration": 30,
    "start_time": "2022-11-24T11:23:13.412Z"
   },
   {
    "duration": 12,
    "start_time": "2022-11-24T11:23:13.444Z"
   },
   {
    "duration": 124,
    "start_time": "2022-11-24T11:23:13.458Z"
   },
   {
    "duration": 4,
    "start_time": "2022-11-24T11:23:31.062Z"
   },
   {
    "duration": 6,
    "start_time": "2022-11-24T11:23:48.291Z"
   },
   {
    "duration": 3,
    "start_time": "2022-11-24T11:23:49.561Z"
   },
   {
    "duration": 5,
    "start_time": "2022-11-24T11:23:52.659Z"
   },
   {
    "duration": 6,
    "start_time": "2022-11-24T11:23:54.719Z"
   },
   {
    "duration": 5,
    "start_time": "2022-11-24T11:23:55.322Z"
   },
   {
    "duration": 6,
    "start_time": "2022-11-24T11:24:14.174Z"
   },
   {
    "duration": 8,
    "start_time": "2022-11-24T11:24:14.855Z"
   },
   {
    "duration": 5,
    "start_time": "2022-11-24T11:24:20.908Z"
   },
   {
    "duration": 6,
    "start_time": "2022-11-24T11:24:22.198Z"
   },
   {
    "duration": 5,
    "start_time": "2022-11-24T11:24:22.863Z"
   },
   {
    "duration": 7,
    "start_time": "2022-11-24T11:24:49.200Z"
   },
   {
    "duration": 4,
    "start_time": "2022-11-24T11:24:49.935Z"
   },
   {
    "duration": 10,
    "start_time": "2022-11-24T11:25:09.136Z"
   },
   {
    "duration": 4,
    "start_time": "2022-11-24T11:25:09.800Z"
   },
   {
    "duration": 4,
    "start_time": "2022-11-24T11:28:06.088Z"
   },
   {
    "duration": 1321,
    "start_time": "2022-11-25T09:46:14.313Z"
   },
   {
    "duration": 351,
    "start_time": "2022-11-25T09:46:15.636Z"
   },
   {
    "duration": 14,
    "start_time": "2022-11-25T09:46:15.988Z"
   },
   {
    "duration": 1725,
    "start_time": "2022-11-25T09:46:16.004Z"
   },
   {
    "duration": 10,
    "start_time": "2022-11-25T09:46:17.730Z"
   },
   {
    "duration": 33,
    "start_time": "2022-11-25T09:46:17.741Z"
   },
   {
    "duration": 7,
    "start_time": "2022-11-25T09:46:17.776Z"
   },
   {
    "duration": 26,
    "start_time": "2022-11-25T09:46:17.784Z"
   },
   {
    "duration": 19,
    "start_time": "2022-11-25T09:46:17.811Z"
   },
   {
    "duration": 23,
    "start_time": "2022-11-25T09:46:17.833Z"
   },
   {
    "duration": 6,
    "start_time": "2022-11-25T09:46:17.858Z"
   },
   {
    "duration": 21,
    "start_time": "2022-11-25T09:46:17.865Z"
   },
   {
    "duration": 11,
    "start_time": "2022-11-25T09:46:17.887Z"
   },
   {
    "duration": 89,
    "start_time": "2022-11-25T09:46:17.899Z"
   },
   {
    "duration": 42,
    "start_time": "2022-11-25T09:46:17.990Z"
   },
   {
    "duration": 6,
    "start_time": "2022-11-25T09:46:18.033Z"
   },
   {
    "duration": 41,
    "start_time": "2022-11-25T09:46:18.041Z"
   },
   {
    "duration": 19,
    "start_time": "2022-11-25T09:46:18.083Z"
   },
   {
    "duration": 66,
    "start_time": "2022-11-25T09:46:18.104Z"
   },
   {
    "duration": 16,
    "start_time": "2022-11-25T09:46:18.172Z"
   },
   {
    "duration": 14,
    "start_time": "2022-11-25T09:46:18.189Z"
   },
   {
    "duration": 83,
    "start_time": "2022-11-25T09:46:18.205Z"
   },
   {
    "duration": 11,
    "start_time": "2022-11-25T09:46:18.290Z"
   },
   {
    "duration": 10,
    "start_time": "2022-11-25T09:46:18.302Z"
   },
   {
    "duration": 107,
    "start_time": "2022-11-25T09:46:18.314Z"
   },
   {
    "duration": 0,
    "start_time": "2022-11-25T09:46:18.425Z"
   },
   {
    "duration": 0,
    "start_time": "2022-11-25T09:46:18.426Z"
   },
   {
    "duration": 0,
    "start_time": "2022-11-25T09:46:18.427Z"
   },
   {
    "duration": 0,
    "start_time": "2022-11-25T09:46:18.428Z"
   },
   {
    "duration": 0,
    "start_time": "2022-11-25T09:46:18.430Z"
   },
   {
    "duration": 0,
    "start_time": "2022-11-25T09:46:18.431Z"
   },
   {
    "duration": 0,
    "start_time": "2022-11-25T09:46:18.432Z"
   },
   {
    "duration": 0,
    "start_time": "2022-11-25T09:46:18.434Z"
   },
   {
    "duration": 0,
    "start_time": "2022-11-25T09:46:18.435Z"
   },
   {
    "duration": 0,
    "start_time": "2022-11-25T09:46:18.436Z"
   },
   {
    "duration": 0,
    "start_time": "2022-11-25T09:46:18.437Z"
   },
   {
    "duration": 0,
    "start_time": "2022-11-25T09:46:18.439Z"
   },
   {
    "duration": 0,
    "start_time": "2022-11-25T09:46:18.440Z"
   },
   {
    "duration": 0,
    "start_time": "2022-11-25T09:46:18.441Z"
   },
   {
    "duration": 0,
    "start_time": "2022-11-25T09:46:18.443Z"
   },
   {
    "duration": 0,
    "start_time": "2022-11-25T09:46:18.444Z"
   },
   {
    "duration": 0,
    "start_time": "2022-11-25T09:46:18.444Z"
   },
   {
    "duration": 0,
    "start_time": "2022-11-25T09:46:18.476Z"
   },
   {
    "duration": 0,
    "start_time": "2022-11-25T09:46:18.478Z"
   },
   {
    "duration": 0,
    "start_time": "2022-11-25T09:46:18.479Z"
   },
   {
    "duration": 0,
    "start_time": "2022-11-25T09:46:18.480Z"
   },
   {
    "duration": 0,
    "start_time": "2022-11-25T09:46:18.481Z"
   },
   {
    "duration": 0,
    "start_time": "2022-11-25T09:46:18.482Z"
   },
   {
    "duration": 0,
    "start_time": "2022-11-25T09:46:18.483Z"
   },
   {
    "duration": 0,
    "start_time": "2022-11-25T09:46:18.484Z"
   },
   {
    "duration": 0,
    "start_time": "2022-11-25T09:46:18.485Z"
   },
   {
    "duration": 0,
    "start_time": "2022-11-25T09:46:18.486Z"
   },
   {
    "duration": 0,
    "start_time": "2022-11-25T09:46:18.487Z"
   },
   {
    "duration": 0,
    "start_time": "2022-11-25T09:46:18.488Z"
   },
   {
    "duration": 0,
    "start_time": "2022-11-25T09:46:18.489Z"
   },
   {
    "duration": 0,
    "start_time": "2022-11-25T09:46:18.490Z"
   },
   {
    "duration": 0,
    "start_time": "2022-11-25T09:46:18.491Z"
   },
   {
    "duration": 0,
    "start_time": "2022-11-25T09:46:18.492Z"
   },
   {
    "duration": 0,
    "start_time": "2022-11-25T09:46:18.493Z"
   },
   {
    "duration": 0,
    "start_time": "2022-11-25T09:46:18.494Z"
   },
   {
    "duration": 0,
    "start_time": "2022-11-25T09:46:18.495Z"
   },
   {
    "duration": 0,
    "start_time": "2022-11-25T09:46:18.496Z"
   },
   {
    "duration": 0,
    "start_time": "2022-11-25T09:46:18.497Z"
   },
   {
    "duration": 0,
    "start_time": "2022-11-25T09:46:18.498Z"
   },
   {
    "duration": 0,
    "start_time": "2022-11-25T09:46:18.499Z"
   },
   {
    "duration": 0,
    "start_time": "2022-11-25T09:46:18.500Z"
   },
   {
    "duration": 0,
    "start_time": "2022-11-25T09:46:18.501Z"
   },
   {
    "duration": 0,
    "start_time": "2022-11-25T09:46:18.502Z"
   },
   {
    "duration": 0,
    "start_time": "2022-11-25T09:46:18.503Z"
   },
   {
    "duration": 0,
    "start_time": "2022-11-25T09:46:18.504Z"
   },
   {
    "duration": 0,
    "start_time": "2022-11-25T09:46:18.504Z"
   },
   {
    "duration": 0,
    "start_time": "2022-11-25T09:46:18.505Z"
   },
   {
    "duration": 0,
    "start_time": "2022-11-25T09:46:18.506Z"
   },
   {
    "duration": 0,
    "start_time": "2022-11-25T09:46:18.507Z"
   },
   {
    "duration": 0,
    "start_time": "2022-11-25T09:46:18.508Z"
   },
   {
    "duration": 0,
    "start_time": "2022-11-25T09:46:18.509Z"
   },
   {
    "duration": 0,
    "start_time": "2022-11-25T09:46:18.510Z"
   },
   {
    "duration": 0,
    "start_time": "2022-11-25T09:46:18.511Z"
   },
   {
    "duration": 3,
    "start_time": "2022-11-25T09:50:13.010Z"
   },
   {
    "duration": 7,
    "start_time": "2022-11-25T09:51:06.126Z"
   },
   {
    "duration": 4,
    "start_time": "2022-11-25T09:51:15.997Z"
   },
   {
    "duration": 5,
    "start_time": "2022-11-25T09:51:20.403Z"
   },
   {
    "duration": 4,
    "start_time": "2022-11-25T09:51:22.812Z"
   },
   {
    "duration": 3,
    "start_time": "2022-11-25T09:52:39.730Z"
   },
   {
    "duration": 87,
    "start_time": "2022-11-25T09:53:12.418Z"
   },
   {
    "duration": 103,
    "start_time": "2022-11-25T09:53:39.178Z"
   },
   {
    "duration": 4,
    "start_time": "2022-11-25T09:53:54.466Z"
   },
   {
    "duration": 10,
    "start_time": "2022-11-25T09:54:01.045Z"
   },
   {
    "duration": 5,
    "start_time": "2022-11-25T09:54:02.800Z"
   },
   {
    "duration": 8,
    "start_time": "2022-11-25T09:54:06.965Z"
   },
   {
    "duration": 5,
    "start_time": "2022-11-25T09:54:08.099Z"
   },
   {
    "duration": 4,
    "start_time": "2022-11-25T09:54:20.147Z"
   },
   {
    "duration": 7,
    "start_time": "2022-11-25T09:55:21.881Z"
   },
   {
    "duration": 4,
    "start_time": "2022-11-25T09:55:24.165Z"
   },
   {
    "duration": 13,
    "start_time": "2022-11-25T09:56:14.963Z"
   },
   {
    "duration": 11,
    "start_time": "2022-11-25T09:56:16.927Z"
   },
   {
    "duration": 9,
    "start_time": "2022-11-25T09:57:21.782Z"
   },
   {
    "duration": 4,
    "start_time": "2022-11-25T09:57:25.465Z"
   },
   {
    "duration": 49,
    "start_time": "2022-11-25T09:58:40.217Z"
   },
   {
    "duration": 73,
    "start_time": "2022-11-25T09:59:00.709Z"
   },
   {
    "duration": 75,
    "start_time": "2022-11-25T09:59:11.286Z"
   },
   {
    "duration": 56,
    "start_time": "2022-11-25T09:59:13.583Z"
   },
   {
    "duration": 75,
    "start_time": "2022-11-25T09:59:15.030Z"
   },
   {
    "duration": 1057,
    "start_time": "2022-11-26T10:20:28.518Z"
   },
   {
    "duration": 160,
    "start_time": "2022-11-26T10:20:29.576Z"
   },
   {
    "duration": 13,
    "start_time": "2022-11-26T10:20:29.737Z"
   },
   {
    "duration": 1665,
    "start_time": "2022-11-26T10:20:29.752Z"
   },
   {
    "duration": 8,
    "start_time": "2022-11-26T10:20:31.419Z"
   },
   {
    "duration": 15,
    "start_time": "2022-11-26T10:20:31.428Z"
   },
   {
    "duration": 7,
    "start_time": "2022-11-26T10:20:31.445Z"
   },
   {
    "duration": 4,
    "start_time": "2022-11-26T10:20:31.453Z"
   },
   {
    "duration": 11,
    "start_time": "2022-11-26T10:20:31.458Z"
   },
   {
    "duration": 11,
    "start_time": "2022-11-26T10:20:31.471Z"
   },
   {
    "duration": 3,
    "start_time": "2022-11-26T10:20:31.483Z"
   },
   {
    "duration": 11,
    "start_time": "2022-11-26T10:20:31.487Z"
   },
   {
    "duration": 5,
    "start_time": "2022-11-26T10:20:31.499Z"
   },
   {
    "duration": 86,
    "start_time": "2022-11-26T10:20:31.505Z"
   },
   {
    "duration": 42,
    "start_time": "2022-11-26T10:20:31.592Z"
   },
   {
    "duration": 6,
    "start_time": "2022-11-26T10:20:31.635Z"
   },
   {
    "duration": 5,
    "start_time": "2022-11-26T10:20:31.643Z"
   },
   {
    "duration": 37,
    "start_time": "2022-11-26T10:20:31.649Z"
   },
   {
    "duration": 5,
    "start_time": "2022-11-26T10:20:31.687Z"
   },
   {
    "duration": 7,
    "start_time": "2022-11-26T10:20:31.693Z"
   },
   {
    "duration": 9,
    "start_time": "2022-11-26T10:20:31.701Z"
   },
   {
    "duration": 81,
    "start_time": "2022-11-26T10:20:31.712Z"
   },
   {
    "duration": 10,
    "start_time": "2022-11-26T10:20:31.794Z"
   },
   {
    "duration": 8,
    "start_time": "2022-11-26T10:20:31.805Z"
   },
   {
    "duration": 6,
    "start_time": "2022-11-26T10:20:31.815Z"
   },
   {
    "duration": 5,
    "start_time": "2022-11-26T10:20:31.822Z"
   },
   {
    "duration": 4,
    "start_time": "2022-11-26T10:20:31.829Z"
   },
   {
    "duration": 4,
    "start_time": "2022-11-26T10:20:31.837Z"
   },
   {
    "duration": 4,
    "start_time": "2022-11-26T10:20:31.842Z"
   },
   {
    "duration": 32,
    "start_time": "2022-11-26T10:20:31.847Z"
   },
   {
    "duration": 16,
    "start_time": "2022-11-26T10:20:31.880Z"
   },
   {
    "duration": 14,
    "start_time": "2022-11-26T10:20:31.897Z"
   },
   {
    "duration": 14,
    "start_time": "2022-11-26T10:20:31.912Z"
   },
   {
    "duration": 4,
    "start_time": "2022-11-26T10:20:31.928Z"
   },
   {
    "duration": 122,
    "start_time": "2022-11-26T10:20:31.933Z"
   },
   {
    "duration": 14,
    "start_time": "2022-11-26T10:20:32.057Z"
   },
   {
    "duration": 13,
    "start_time": "2022-11-26T10:20:32.072Z"
   },
   {
    "duration": 187,
    "start_time": "2022-11-26T10:20:32.086Z"
   },
   {
    "duration": 8,
    "start_time": "2022-11-26T10:20:32.274Z"
   },
   {
    "duration": 187,
    "start_time": "2022-11-26T10:20:32.284Z"
   },
   {
    "duration": 11,
    "start_time": "2022-11-26T10:20:32.473Z"
   },
   {
    "duration": 237,
    "start_time": "2022-11-26T10:20:32.485Z"
   },
   {
    "duration": 7,
    "start_time": "2022-11-26T10:20:32.724Z"
   },
   {
    "duration": 263,
    "start_time": "2022-11-26T10:20:32.733Z"
   },
   {
    "duration": 7,
    "start_time": "2022-11-26T10:20:32.998Z"
   },
   {
    "duration": 138,
    "start_time": "2022-11-26T10:20:33.006Z"
   },
   {
    "duration": 7,
    "start_time": "2022-11-26T10:20:33.146Z"
   },
   {
    "duration": 138,
    "start_time": "2022-11-26T10:20:33.154Z"
   },
   {
    "duration": 7,
    "start_time": "2022-11-26T10:20:33.294Z"
   },
   {
    "duration": 232,
    "start_time": "2022-11-26T10:20:33.303Z"
   },
   {
    "duration": 6,
    "start_time": "2022-11-26T10:20:33.537Z"
   },
   {
    "duration": 113,
    "start_time": "2022-11-26T10:20:33.545Z"
   },
   {
    "duration": 7,
    "start_time": "2022-11-26T10:20:33.659Z"
   },
   {
    "duration": 179,
    "start_time": "2022-11-26T10:20:33.667Z"
   },
   {
    "duration": 8,
    "start_time": "2022-11-26T10:20:33.847Z"
   },
   {
    "duration": 221,
    "start_time": "2022-11-26T10:20:33.856Z"
   },
   {
    "duration": 10,
    "start_time": "2022-11-26T10:20:34.079Z"
   },
   {
    "duration": 217,
    "start_time": "2022-11-26T10:20:34.091Z"
   },
   {
    "duration": 10,
    "start_time": "2022-11-26T10:20:34.309Z"
   },
   {
    "duration": 207,
    "start_time": "2022-11-26T10:20:34.321Z"
   },
   {
    "duration": 7,
    "start_time": "2022-11-26T10:20:34.530Z"
   },
   {
    "duration": 269,
    "start_time": "2022-11-26T10:20:34.538Z"
   },
   {
    "duration": 7,
    "start_time": "2022-11-26T10:20:34.809Z"
   },
   {
    "duration": 9,
    "start_time": "2022-11-26T10:20:34.817Z"
   },
   {
    "duration": 164,
    "start_time": "2022-11-26T10:20:34.827Z"
   },
   {
    "duration": 7,
    "start_time": "2022-11-26T10:20:34.993Z"
   },
   {
    "duration": 151,
    "start_time": "2022-11-26T10:20:35.001Z"
   },
   {
    "duration": 212,
    "start_time": "2022-11-26T10:20:35.154Z"
   },
   {
    "duration": 127,
    "start_time": "2022-11-26T10:20:35.368Z"
   },
   {
    "duration": 153,
    "start_time": "2022-11-26T10:20:35.497Z"
   },
   {
    "duration": 12,
    "start_time": "2022-11-26T10:20:35.651Z"
   },
   {
    "duration": 123,
    "start_time": "2022-11-26T10:20:35.664Z"
   },
   {
    "duration": 121,
    "start_time": "2022-11-26T10:20:35.789Z"
   },
   {
    "duration": 152,
    "start_time": "2022-11-26T10:20:35.911Z"
   },
   {
    "duration": 130,
    "start_time": "2022-11-26T10:20:36.064Z"
   },
   {
    "duration": 14,
    "start_time": "2022-11-26T10:20:36.196Z"
   },
   {
    "duration": 40,
    "start_time": "2022-11-26T10:20:36.212Z"
   },
   {
    "duration": 10,
    "start_time": "2022-11-26T10:20:36.254Z"
   },
   {
    "duration": 30,
    "start_time": "2022-11-26T10:20:36.265Z"
   },
   {
    "duration": 12,
    "start_time": "2022-11-26T10:20:36.297Z"
   },
   {
    "duration": 127,
    "start_time": "2022-11-26T10:20:36.310Z"
   },
   {
    "duration": 13,
    "start_time": "2022-11-26T10:21:44.720Z"
   },
   {
    "duration": 10,
    "start_time": "2022-11-26T10:25:31.319Z"
   },
   {
    "duration": 1100,
    "start_time": "2022-11-26T10:25:36.685Z"
   },
   {
    "duration": 109,
    "start_time": "2022-11-26T10:25:37.787Z"
   },
   {
    "duration": 14,
    "start_time": "2022-11-26T10:25:37.898Z"
   },
   {
    "duration": 1647,
    "start_time": "2022-11-26T10:25:37.914Z"
   },
   {
    "duration": 9,
    "start_time": "2022-11-26T10:25:39.563Z"
   },
   {
    "duration": 14,
    "start_time": "2022-11-26T10:25:39.573Z"
   },
   {
    "duration": 7,
    "start_time": "2022-11-26T10:25:39.588Z"
   },
   {
    "duration": 4,
    "start_time": "2022-11-26T10:25:39.597Z"
   },
   {
    "duration": 8,
    "start_time": "2022-11-26T10:25:39.602Z"
   },
   {
    "duration": 10,
    "start_time": "2022-11-26T10:25:39.612Z"
   },
   {
    "duration": 3,
    "start_time": "2022-11-26T10:25:39.623Z"
   },
   {
    "duration": 9,
    "start_time": "2022-11-26T10:25:39.627Z"
   },
   {
    "duration": 9,
    "start_time": "2022-11-26T10:25:39.638Z"
   },
   {
    "duration": 110,
    "start_time": "2022-11-26T10:25:39.649Z"
   },
   {
    "duration": 54,
    "start_time": "2022-11-26T10:25:39.761Z"
   },
   {
    "duration": 7,
    "start_time": "2022-11-26T10:25:39.817Z"
   },
   {
    "duration": 7,
    "start_time": "2022-11-26T10:25:39.825Z"
   },
   {
    "duration": 15,
    "start_time": "2022-11-26T10:25:39.834Z"
   },
   {
    "duration": 30,
    "start_time": "2022-11-26T10:25:39.851Z"
   },
   {
    "duration": 6,
    "start_time": "2022-11-26T10:25:39.883Z"
   },
   {
    "duration": 10,
    "start_time": "2022-11-26T10:25:39.890Z"
   },
   {
    "duration": 87,
    "start_time": "2022-11-26T10:25:39.902Z"
   },
   {
    "duration": 11,
    "start_time": "2022-11-26T10:25:39.991Z"
   },
   {
    "duration": 10,
    "start_time": "2022-11-26T10:25:40.004Z"
   },
   {
    "duration": 8,
    "start_time": "2022-11-26T10:25:40.016Z"
   },
   {
    "duration": 8,
    "start_time": "2022-11-26T10:25:40.025Z"
   },
   {
    "duration": 7,
    "start_time": "2022-11-26T10:25:40.035Z"
   },
   {
    "duration": 33,
    "start_time": "2022-11-26T10:25:40.046Z"
   },
   {
    "duration": 4,
    "start_time": "2022-11-26T10:25:40.080Z"
   },
   {
    "duration": 6,
    "start_time": "2022-11-26T10:25:40.085Z"
   },
   {
    "duration": 9,
    "start_time": "2022-11-26T10:25:40.092Z"
   },
   {
    "duration": 21,
    "start_time": "2022-11-26T10:25:40.102Z"
   },
   {
    "duration": 15,
    "start_time": "2022-11-26T10:25:40.124Z"
   },
   {
    "duration": 15,
    "start_time": "2022-11-26T10:25:40.141Z"
   },
   {
    "duration": 5,
    "start_time": "2022-11-26T10:25:40.186Z"
   },
   {
    "duration": 98,
    "start_time": "2022-11-26T10:25:40.193Z"
   },
   {
    "duration": 15,
    "start_time": "2022-11-26T10:25:40.293Z"
   },
   {
    "duration": 9,
    "start_time": "2022-11-26T10:25:40.310Z"
   },
   {
    "duration": 190,
    "start_time": "2022-11-26T10:25:40.321Z"
   },
   {
    "duration": 7,
    "start_time": "2022-11-26T10:25:40.512Z"
   },
   {
    "duration": 193,
    "start_time": "2022-11-26T10:25:40.521Z"
   },
   {
    "duration": 7,
    "start_time": "2022-11-26T10:25:40.716Z"
   },
   {
    "duration": 232,
    "start_time": "2022-11-26T10:25:40.725Z"
   },
   {
    "duration": 8,
    "start_time": "2022-11-26T10:25:40.959Z"
   },
   {
    "duration": 257,
    "start_time": "2022-11-26T10:25:40.978Z"
   },
   {
    "duration": 9,
    "start_time": "2022-11-26T10:25:41.237Z"
   },
   {
    "duration": 135,
    "start_time": "2022-11-26T10:25:41.247Z"
   },
   {
    "duration": 7,
    "start_time": "2022-11-26T10:25:41.384Z"
   },
   {
    "duration": 131,
    "start_time": "2022-11-26T10:25:41.392Z"
   },
   {
    "duration": 8,
    "start_time": "2022-11-26T10:25:41.524Z"
   },
   {
    "duration": 240,
    "start_time": "2022-11-26T10:25:41.533Z"
   },
   {
    "duration": 8,
    "start_time": "2022-11-26T10:25:41.778Z"
   },
   {
    "duration": 131,
    "start_time": "2022-11-26T10:25:41.787Z"
   },
   {
    "duration": 7,
    "start_time": "2022-11-26T10:25:41.921Z"
   },
   {
    "duration": 189,
    "start_time": "2022-11-26T10:25:41.930Z"
   },
   {
    "duration": 8,
    "start_time": "2022-11-26T10:25:42.120Z"
   },
   {
    "duration": 212,
    "start_time": "2022-11-26T10:25:42.130Z"
   },
   {
    "duration": 9,
    "start_time": "2022-11-26T10:25:42.344Z"
   },
   {
    "duration": 188,
    "start_time": "2022-11-26T10:25:42.354Z"
   },
   {
    "duration": 8,
    "start_time": "2022-11-26T10:25:42.543Z"
   },
   {
    "duration": 193,
    "start_time": "2022-11-26T10:25:42.552Z"
   },
   {
    "duration": 8,
    "start_time": "2022-11-26T10:25:42.746Z"
   },
   {
    "duration": 336,
    "start_time": "2022-11-26T10:25:42.756Z"
   },
   {
    "duration": 8,
    "start_time": "2022-11-26T10:25:43.093Z"
   },
   {
    "duration": 8,
    "start_time": "2022-11-26T10:25:43.103Z"
   },
   {
    "duration": 174,
    "start_time": "2022-11-26T10:25:43.112Z"
   },
   {
    "duration": 8,
    "start_time": "2022-11-26T10:25:43.288Z"
   },
   {
    "duration": 221,
    "start_time": "2022-11-26T10:25:43.297Z"
   },
   {
    "duration": 137,
    "start_time": "2022-11-26T10:25:43.520Z"
   },
   {
    "duration": 144,
    "start_time": "2022-11-26T10:25:43.659Z"
   },
   {
    "duration": 146,
    "start_time": "2022-11-26T10:25:43.805Z"
   },
   {
    "duration": 13,
    "start_time": "2022-11-26T10:25:43.953Z"
   },
   {
    "duration": 146,
    "start_time": "2022-11-26T10:25:43.977Z"
   },
   {
    "duration": 127,
    "start_time": "2022-11-26T10:25:44.124Z"
   },
   {
    "duration": 141,
    "start_time": "2022-11-26T10:25:44.252Z"
   },
   {
    "duration": 127,
    "start_time": "2022-11-26T10:25:44.394Z"
   },
   {
    "duration": 15,
    "start_time": "2022-11-26T10:25:44.522Z"
   },
   {
    "duration": 8,
    "start_time": "2022-11-26T10:25:44.538Z"
   },
   {
    "duration": 9,
    "start_time": "2022-11-26T10:25:44.548Z"
   },
   {
    "duration": 28,
    "start_time": "2022-11-26T10:25:44.578Z"
   },
   {
    "duration": 11,
    "start_time": "2022-11-26T10:25:44.607Z"
   },
   {
    "duration": 132,
    "start_time": "2022-11-26T10:25:44.623Z"
   },
   {
    "duration": 1102,
    "start_time": "2022-11-26T10:26:01.474Z"
   },
   {
    "duration": 111,
    "start_time": "2022-11-26T10:26:02.578Z"
   },
   {
    "duration": 15,
    "start_time": "2022-11-26T10:26:02.690Z"
   },
   {
    "duration": 1783,
    "start_time": "2022-11-26T10:26:02.706Z"
   },
   {
    "duration": 9,
    "start_time": "2022-11-26T10:26:04.491Z"
   },
   {
    "duration": 21,
    "start_time": "2022-11-26T10:26:04.502Z"
   },
   {
    "duration": 7,
    "start_time": "2022-11-26T10:26:04.524Z"
   },
   {
    "duration": 5,
    "start_time": "2022-11-26T10:26:04.533Z"
   },
   {
    "duration": 9,
    "start_time": "2022-11-26T10:26:04.540Z"
   },
   {
    "duration": 24,
    "start_time": "2022-11-26T10:26:04.551Z"
   },
   {
    "duration": 4,
    "start_time": "2022-11-26T10:26:04.576Z"
   },
   {
    "duration": 7,
    "start_time": "2022-11-26T10:26:04.581Z"
   },
   {
    "duration": 5,
    "start_time": "2022-11-26T10:26:04.589Z"
   },
   {
    "duration": 98,
    "start_time": "2022-11-26T10:26:04.595Z"
   },
   {
    "duration": 41,
    "start_time": "2022-11-26T10:26:04.695Z"
   },
   {
    "duration": 6,
    "start_time": "2022-11-26T10:26:04.738Z"
   },
   {
    "duration": 5,
    "start_time": "2022-11-26T10:26:04.745Z"
   },
   {
    "duration": 38,
    "start_time": "2022-11-26T10:26:04.751Z"
   },
   {
    "duration": 14,
    "start_time": "2022-11-26T10:26:04.790Z"
   },
   {
    "duration": 5,
    "start_time": "2022-11-26T10:26:04.805Z"
   },
   {
    "duration": 6,
    "start_time": "2022-11-26T10:26:04.811Z"
   },
   {
    "duration": 8,
    "start_time": "2022-11-26T10:26:04.818Z"
   },
   {
    "duration": 95,
    "start_time": "2022-11-26T10:26:04.827Z"
   },
   {
    "duration": 11,
    "start_time": "2022-11-26T10:26:04.924Z"
   },
   {
    "duration": 8,
    "start_time": "2022-11-26T10:26:04.936Z"
   },
   {
    "duration": 5,
    "start_time": "2022-11-26T10:26:04.945Z"
   },
   {
    "duration": 26,
    "start_time": "2022-11-26T10:26:04.952Z"
   },
   {
    "duration": 5,
    "start_time": "2022-11-26T10:26:04.981Z"
   },
   {
    "duration": 4,
    "start_time": "2022-11-26T10:26:04.987Z"
   },
   {
    "duration": 6,
    "start_time": "2022-11-26T10:26:04.992Z"
   },
   {
    "duration": 6,
    "start_time": "2022-11-26T10:26:05.000Z"
   },
   {
    "duration": 23,
    "start_time": "2022-11-26T10:26:05.007Z"
   },
   {
    "duration": 19,
    "start_time": "2022-11-26T10:26:05.032Z"
   },
   {
    "duration": 38,
    "start_time": "2022-11-26T10:26:05.053Z"
   },
   {
    "duration": 5,
    "start_time": "2022-11-26T10:26:05.092Z"
   },
   {
    "duration": 111,
    "start_time": "2022-11-26T10:26:05.099Z"
   },
   {
    "duration": 17,
    "start_time": "2022-11-26T10:26:05.211Z"
   },
   {
    "duration": 9,
    "start_time": "2022-11-26T10:26:05.229Z"
   },
   {
    "duration": 192,
    "start_time": "2022-11-26T10:26:05.239Z"
   },
   {
    "duration": 7,
    "start_time": "2022-11-26T10:26:05.432Z"
   },
   {
    "duration": 197,
    "start_time": "2022-11-26T10:26:05.440Z"
   },
   {
    "duration": 8,
    "start_time": "2022-11-26T10:26:05.638Z"
   },
   {
    "duration": 228,
    "start_time": "2022-11-26T10:26:05.647Z"
   },
   {
    "duration": 7,
    "start_time": "2022-11-26T10:26:05.877Z"
   },
   {
    "duration": 248,
    "start_time": "2022-11-26T10:26:05.885Z"
   },
   {
    "duration": 7,
    "start_time": "2022-11-26T10:26:06.135Z"
   },
   {
    "duration": 126,
    "start_time": "2022-11-26T10:26:06.143Z"
   },
   {
    "duration": 11,
    "start_time": "2022-11-26T10:26:06.270Z"
   },
   {
    "duration": 126,
    "start_time": "2022-11-26T10:26:06.283Z"
   },
   {
    "duration": 7,
    "start_time": "2022-11-26T10:26:06.411Z"
   },
   {
    "duration": 225,
    "start_time": "2022-11-26T10:26:06.419Z"
   },
   {
    "duration": 8,
    "start_time": "2022-11-26T10:26:06.646Z"
   },
   {
    "duration": 114,
    "start_time": "2022-11-26T10:26:06.655Z"
   },
   {
    "duration": 14,
    "start_time": "2022-11-26T10:26:06.770Z"
   },
   {
    "duration": 160,
    "start_time": "2022-11-26T10:26:06.785Z"
   },
   {
    "duration": 8,
    "start_time": "2022-11-26T10:26:06.947Z"
   },
   {
    "duration": 197,
    "start_time": "2022-11-26T10:26:06.957Z"
   },
   {
    "duration": 8,
    "start_time": "2022-11-26T10:26:07.155Z"
   },
   {
    "duration": 186,
    "start_time": "2022-11-26T10:26:07.165Z"
   },
   {
    "duration": 7,
    "start_time": "2022-11-26T10:26:07.353Z"
   },
   {
    "duration": 185,
    "start_time": "2022-11-26T10:26:07.361Z"
   },
   {
    "duration": 7,
    "start_time": "2022-11-26T10:26:07.548Z"
   },
   {
    "duration": 260,
    "start_time": "2022-11-26T10:26:07.556Z"
   },
   {
    "duration": 7,
    "start_time": "2022-11-26T10:26:07.818Z"
   },
   {
    "duration": 6,
    "start_time": "2022-11-26T10:26:07.826Z"
   },
   {
    "duration": 153,
    "start_time": "2022-11-26T10:26:07.834Z"
   },
   {
    "duration": 7,
    "start_time": "2022-11-26T10:26:07.988Z"
   },
   {
    "duration": 211,
    "start_time": "2022-11-26T10:26:07.997Z"
   },
   {
    "duration": 130,
    "start_time": "2022-11-26T10:26:08.210Z"
   },
   {
    "duration": 137,
    "start_time": "2022-11-26T10:26:08.342Z"
   },
   {
    "duration": 145,
    "start_time": "2022-11-26T10:26:08.480Z"
   },
   {
    "duration": 11,
    "start_time": "2022-11-26T10:26:08.626Z"
   },
   {
    "duration": 120,
    "start_time": "2022-11-26T10:26:08.638Z"
   },
   {
    "duration": 123,
    "start_time": "2022-11-26T10:26:08.760Z"
   },
   {
    "duration": 150,
    "start_time": "2022-11-26T10:26:08.885Z"
   },
   {
    "duration": 127,
    "start_time": "2022-11-26T10:26:09.037Z"
   },
   {
    "duration": 24,
    "start_time": "2022-11-26T10:26:09.166Z"
   },
   {
    "duration": 9,
    "start_time": "2022-11-26T10:26:09.192Z"
   },
   {
    "duration": 9,
    "start_time": "2022-11-26T10:26:09.202Z"
   },
   {
    "duration": 27,
    "start_time": "2022-11-26T10:26:09.212Z"
   },
   {
    "duration": 43,
    "start_time": "2022-11-26T10:26:09.241Z"
   },
   {
    "duration": 131,
    "start_time": "2022-11-26T10:26:09.289Z"
   },
   {
    "duration": 1137,
    "start_time": "2022-11-26T10:26:23.449Z"
   },
   {
    "duration": 118,
    "start_time": "2022-11-26T10:26:24.588Z"
   },
   {
    "duration": 13,
    "start_time": "2022-11-26T10:26:24.708Z"
   },
   {
    "duration": 1742,
    "start_time": "2022-11-26T10:26:24.723Z"
   },
   {
    "duration": 10,
    "start_time": "2022-11-26T10:26:26.467Z"
   },
   {
    "duration": 14,
    "start_time": "2022-11-26T10:26:26.479Z"
   },
   {
    "duration": 7,
    "start_time": "2022-11-26T10:26:26.495Z"
   },
   {
    "duration": 5,
    "start_time": "2022-11-26T10:26:26.504Z"
   },
   {
    "duration": 6,
    "start_time": "2022-11-26T10:26:26.510Z"
   },
   {
    "duration": 13,
    "start_time": "2022-11-26T10:26:26.519Z"
   },
   {
    "duration": 3,
    "start_time": "2022-11-26T10:26:26.534Z"
   },
   {
    "duration": 8,
    "start_time": "2022-11-26T10:26:26.539Z"
   },
   {
    "duration": 30,
    "start_time": "2022-11-26T10:26:26.548Z"
   },
   {
    "duration": 98,
    "start_time": "2022-11-26T10:26:26.580Z"
   },
   {
    "duration": 15,
    "start_time": "2022-11-26T10:26:26.680Z"
   },
   {
    "duration": 44,
    "start_time": "2022-11-26T10:26:26.696Z"
   },
   {
    "duration": 7,
    "start_time": "2022-11-26T10:26:26.741Z"
   },
   {
    "duration": 29,
    "start_time": "2022-11-26T10:26:26.750Z"
   },
   {
    "duration": 19,
    "start_time": "2022-11-26T10:26:26.780Z"
   },
   {
    "duration": 5,
    "start_time": "2022-11-26T10:26:26.801Z"
   },
   {
    "duration": 8,
    "start_time": "2022-11-26T10:26:26.807Z"
   },
   {
    "duration": 14,
    "start_time": "2022-11-26T10:26:26.816Z"
   },
   {
    "duration": 94,
    "start_time": "2022-11-26T10:26:26.831Z"
   },
   {
    "duration": 15,
    "start_time": "2022-11-26T10:26:26.927Z"
   },
   {
    "duration": 10,
    "start_time": "2022-11-26T10:26:26.944Z"
   },
   {
    "duration": 24,
    "start_time": "2022-11-26T10:26:26.955Z"
   },
   {
    "duration": 7,
    "start_time": "2022-11-26T10:26:26.980Z"
   },
   {
    "duration": 5,
    "start_time": "2022-11-26T10:26:26.991Z"
   },
   {
    "duration": 8,
    "start_time": "2022-11-26T10:26:26.998Z"
   },
   {
    "duration": 8,
    "start_time": "2022-11-26T10:26:27.008Z"
   },
   {
    "duration": 9,
    "start_time": "2022-11-26T10:26:27.017Z"
   },
   {
    "duration": 21,
    "start_time": "2022-11-26T10:26:27.028Z"
   },
   {
    "duration": 34,
    "start_time": "2022-11-26T10:26:27.050Z"
   },
   {
    "duration": 16,
    "start_time": "2022-11-26T10:26:27.086Z"
   },
   {
    "duration": 5,
    "start_time": "2022-11-26T10:26:27.103Z"
   },
   {
    "duration": 128,
    "start_time": "2022-11-26T10:26:27.109Z"
   },
   {
    "duration": 15,
    "start_time": "2022-11-26T10:26:27.238Z"
   },
   {
    "duration": 23,
    "start_time": "2022-11-26T10:26:27.255Z"
   },
   {
    "duration": 217,
    "start_time": "2022-11-26T10:26:27.280Z"
   },
   {
    "duration": 8,
    "start_time": "2022-11-26T10:26:27.499Z"
   },
   {
    "duration": 233,
    "start_time": "2022-11-26T10:26:27.508Z"
   },
   {
    "duration": 8,
    "start_time": "2022-11-26T10:26:27.742Z"
   },
   {
    "duration": 249,
    "start_time": "2022-11-26T10:26:27.752Z"
   },
   {
    "duration": 9,
    "start_time": "2022-11-26T10:26:28.003Z"
   },
   {
    "duration": 257,
    "start_time": "2022-11-26T10:26:28.014Z"
   },
   {
    "duration": 8,
    "start_time": "2022-11-26T10:26:28.278Z"
   },
   {
    "duration": 128,
    "start_time": "2022-11-26T10:26:28.288Z"
   },
   {
    "duration": 8,
    "start_time": "2022-11-26T10:26:28.418Z"
   },
   {
    "duration": 132,
    "start_time": "2022-11-26T10:26:28.427Z"
   },
   {
    "duration": 17,
    "start_time": "2022-11-26T10:26:28.561Z"
   },
   {
    "duration": 226,
    "start_time": "2022-11-26T10:26:28.581Z"
   },
   {
    "duration": 7,
    "start_time": "2022-11-26T10:26:28.809Z"
   },
   {
    "duration": 121,
    "start_time": "2022-11-26T10:26:28.818Z"
   },
   {
    "duration": 7,
    "start_time": "2022-11-26T10:26:28.940Z"
   },
   {
    "duration": 169,
    "start_time": "2022-11-26T10:26:28.949Z"
   },
   {
    "duration": 8,
    "start_time": "2022-11-26T10:26:29.120Z"
   },
   {
    "duration": 192,
    "start_time": "2022-11-26T10:26:29.129Z"
   },
   {
    "duration": 7,
    "start_time": "2022-11-26T10:26:29.323Z"
   },
   {
    "duration": 184,
    "start_time": "2022-11-26T10:26:29.331Z"
   },
   {
    "duration": 8,
    "start_time": "2022-11-26T10:26:29.517Z"
   },
   {
    "duration": 190,
    "start_time": "2022-11-26T10:26:29.527Z"
   },
   {
    "duration": 7,
    "start_time": "2022-11-26T10:26:29.719Z"
   },
   {
    "duration": 264,
    "start_time": "2022-11-26T10:26:29.728Z"
   },
   {
    "duration": 7,
    "start_time": "2022-11-26T10:26:29.993Z"
   },
   {
    "duration": 11,
    "start_time": "2022-11-26T10:26:30.002Z"
   },
   {
    "duration": 157,
    "start_time": "2022-11-26T10:26:30.015Z"
   },
   {
    "duration": 10,
    "start_time": "2022-11-26T10:26:30.173Z"
   },
   {
    "duration": 222,
    "start_time": "2022-11-26T10:26:30.184Z"
   },
   {
    "duration": 130,
    "start_time": "2022-11-26T10:26:30.407Z"
   },
   {
    "duration": 136,
    "start_time": "2022-11-26T10:26:30.538Z"
   },
   {
    "duration": 146,
    "start_time": "2022-11-26T10:26:30.677Z"
   },
   {
    "duration": 10,
    "start_time": "2022-11-26T10:26:30.824Z"
   },
   {
    "duration": 115,
    "start_time": "2022-11-26T10:26:30.836Z"
   },
   {
    "duration": 140,
    "start_time": "2022-11-26T10:26:30.953Z"
   },
   {
    "duration": 154,
    "start_time": "2022-11-26T10:26:31.095Z"
   },
   {
    "duration": 128,
    "start_time": "2022-11-26T10:26:31.251Z"
   },
   {
    "duration": 16,
    "start_time": "2022-11-26T10:26:31.381Z"
   },
   {
    "duration": 10,
    "start_time": "2022-11-26T10:26:31.398Z"
   },
   {
    "duration": 8,
    "start_time": "2022-11-26T10:26:31.410Z"
   },
   {
    "duration": 27,
    "start_time": "2022-11-26T10:26:31.419Z"
   },
   {
    "duration": 13,
    "start_time": "2022-11-26T10:26:31.479Z"
   },
   {
    "duration": 137,
    "start_time": "2022-11-26T10:26:31.497Z"
   },
   {
    "duration": 1112,
    "start_time": "2022-11-26T10:26:37.364Z"
   },
   {
    "duration": 107,
    "start_time": "2022-11-26T10:26:38.478Z"
   },
   {
    "duration": 14,
    "start_time": "2022-11-26T10:26:38.586Z"
   },
   {
    "duration": 1663,
    "start_time": "2022-11-26T10:26:38.602Z"
   },
   {
    "duration": 9,
    "start_time": "2022-11-26T10:26:40.267Z"
   },
   {
    "duration": 16,
    "start_time": "2022-11-26T10:26:40.277Z"
   },
   {
    "duration": 8,
    "start_time": "2022-11-26T10:26:40.295Z"
   },
   {
    "duration": 5,
    "start_time": "2022-11-26T10:26:40.305Z"
   },
   {
    "duration": 21,
    "start_time": "2022-11-26T10:26:40.311Z"
   },
   {
    "duration": 12,
    "start_time": "2022-11-26T10:26:40.334Z"
   },
   {
    "duration": 4,
    "start_time": "2022-11-26T10:26:40.348Z"
   },
   {
    "duration": 13,
    "start_time": "2022-11-26T10:26:40.353Z"
   },
   {
    "duration": 13,
    "start_time": "2022-11-26T10:26:40.367Z"
   },
   {
    "duration": 106,
    "start_time": "2022-11-26T10:26:40.381Z"
   },
   {
    "duration": 43,
    "start_time": "2022-11-26T10:26:40.488Z"
   },
   {
    "duration": 12,
    "start_time": "2022-11-26T10:26:40.532Z"
   },
   {
    "duration": 7,
    "start_time": "2022-11-26T10:26:40.545Z"
   },
   {
    "duration": 5,
    "start_time": "2022-11-26T10:26:40.577Z"
   },
   {
    "duration": 17,
    "start_time": "2022-11-26T10:26:40.583Z"
   },
   {
    "duration": 5,
    "start_time": "2022-11-26T10:26:40.601Z"
   },
   {
    "duration": 7,
    "start_time": "2022-11-26T10:26:40.607Z"
   },
   {
    "duration": 10,
    "start_time": "2022-11-26T10:26:40.615Z"
   },
   {
    "duration": 91,
    "start_time": "2022-11-26T10:26:40.626Z"
   },
   {
    "duration": 10,
    "start_time": "2022-11-26T10:26:40.718Z"
   },
   {
    "duration": 11,
    "start_time": "2022-11-26T10:26:40.730Z"
   },
   {
    "duration": 15,
    "start_time": "2022-11-26T10:26:40.742Z"
   },
   {
    "duration": 8,
    "start_time": "2022-11-26T10:26:40.758Z"
   },
   {
    "duration": 11,
    "start_time": "2022-11-26T10:26:40.769Z"
   },
   {
    "duration": 8,
    "start_time": "2022-11-26T10:26:40.781Z"
   },
   {
    "duration": 8,
    "start_time": "2022-11-26T10:26:40.791Z"
   },
   {
    "duration": 6,
    "start_time": "2022-11-26T10:26:40.800Z"
   },
   {
    "duration": 17,
    "start_time": "2022-11-26T10:26:40.807Z"
   },
   {
    "duration": 15,
    "start_time": "2022-11-26T10:26:40.826Z"
   },
   {
    "duration": 37,
    "start_time": "2022-11-26T10:26:40.843Z"
   },
   {
    "duration": 5,
    "start_time": "2022-11-26T10:26:40.881Z"
   },
   {
    "duration": 102,
    "start_time": "2022-11-26T10:26:40.887Z"
   },
   {
    "duration": 15,
    "start_time": "2022-11-26T10:26:40.991Z"
   },
   {
    "duration": 10,
    "start_time": "2022-11-26T10:26:41.007Z"
   },
   {
    "duration": 206,
    "start_time": "2022-11-26T10:26:41.019Z"
   },
   {
    "duration": 8,
    "start_time": "2022-11-26T10:26:41.226Z"
   },
   {
    "duration": 202,
    "start_time": "2022-11-26T10:26:41.235Z"
   },
   {
    "duration": 7,
    "start_time": "2022-11-26T10:26:41.439Z"
   },
   {
    "duration": 232,
    "start_time": "2022-11-26T10:26:41.447Z"
   },
   {
    "duration": 8,
    "start_time": "2022-11-26T10:26:41.681Z"
   },
   {
    "duration": 295,
    "start_time": "2022-11-26T10:26:41.691Z"
   },
   {
    "duration": 8,
    "start_time": "2022-11-26T10:26:41.987Z"
   },
   {
    "duration": 152,
    "start_time": "2022-11-26T10:26:41.997Z"
   },
   {
    "duration": 8,
    "start_time": "2022-11-26T10:26:42.151Z"
   },
   {
    "duration": 155,
    "start_time": "2022-11-26T10:26:42.161Z"
   },
   {
    "duration": 8,
    "start_time": "2022-11-26T10:26:42.317Z"
   },
   {
    "duration": 237,
    "start_time": "2022-11-26T10:26:42.326Z"
   },
   {
    "duration": 7,
    "start_time": "2022-11-26T10:26:42.565Z"
   },
   {
    "duration": 106,
    "start_time": "2022-11-26T10:26:42.577Z"
   },
   {
    "duration": 7,
    "start_time": "2022-11-26T10:26:42.684Z"
   },
   {
    "duration": 203,
    "start_time": "2022-11-26T10:26:42.693Z"
   },
   {
    "duration": 9,
    "start_time": "2022-11-26T10:26:42.898Z"
   },
   {
    "duration": 203,
    "start_time": "2022-11-26T10:26:42.908Z"
   },
   {
    "duration": 9,
    "start_time": "2022-11-26T10:26:43.113Z"
   },
   {
    "duration": 190,
    "start_time": "2022-11-26T10:26:43.123Z"
   },
   {
    "duration": 8,
    "start_time": "2022-11-26T10:26:43.315Z"
   },
   {
    "duration": 194,
    "start_time": "2022-11-26T10:26:43.325Z"
   },
   {
    "duration": 8,
    "start_time": "2022-11-26T10:26:43.521Z"
   },
   {
    "duration": 264,
    "start_time": "2022-11-26T10:26:43.530Z"
   },
   {
    "duration": 9,
    "start_time": "2022-11-26T10:26:43.796Z"
   },
   {
    "duration": 7,
    "start_time": "2022-11-26T10:26:43.807Z"
   },
   {
    "duration": 171,
    "start_time": "2022-11-26T10:26:43.816Z"
   },
   {
    "duration": 10,
    "start_time": "2022-11-26T10:26:43.989Z"
   },
   {
    "duration": 260,
    "start_time": "2022-11-26T10:26:44.001Z"
   },
   {
    "duration": 131,
    "start_time": "2022-11-26T10:26:44.263Z"
   },
   {
    "duration": 128,
    "start_time": "2022-11-26T10:26:44.396Z"
   },
   {
    "duration": 146,
    "start_time": "2022-11-26T10:26:44.526Z"
   },
   {
    "duration": 11,
    "start_time": "2022-11-26T10:26:44.674Z"
   },
   {
    "duration": 111,
    "start_time": "2022-11-26T10:26:44.687Z"
   },
   {
    "duration": 124,
    "start_time": "2022-11-26T10:26:44.800Z"
   },
   {
    "duration": 167,
    "start_time": "2022-11-26T10:26:44.925Z"
   },
   {
    "duration": 128,
    "start_time": "2022-11-26T10:26:45.093Z"
   },
   {
    "duration": 15,
    "start_time": "2022-11-26T10:26:45.223Z"
   },
   {
    "duration": 8,
    "start_time": "2022-11-26T10:26:45.240Z"
   },
   {
    "duration": 10,
    "start_time": "2022-11-26T10:26:45.249Z"
   },
   {
    "duration": 28,
    "start_time": "2022-11-26T10:26:45.278Z"
   },
   {
    "duration": 12,
    "start_time": "2022-11-26T10:26:45.308Z"
   },
   {
    "duration": 139,
    "start_time": "2022-11-26T10:26:45.325Z"
   },
   {
    "duration": 1086,
    "start_time": "2022-11-26T10:26:51.081Z"
   },
   {
    "duration": 106,
    "start_time": "2022-11-26T10:26:52.169Z"
   },
   {
    "duration": 12,
    "start_time": "2022-11-26T10:26:52.277Z"
   },
   {
    "duration": 1650,
    "start_time": "2022-11-26T10:26:52.291Z"
   },
   {
    "duration": 11,
    "start_time": "2022-11-26T10:26:53.943Z"
   },
   {
    "duration": 20,
    "start_time": "2022-11-26T10:26:53.956Z"
   },
   {
    "duration": 10,
    "start_time": "2022-11-26T10:26:53.977Z"
   },
   {
    "duration": 6,
    "start_time": "2022-11-26T10:26:53.988Z"
   },
   {
    "duration": 9,
    "start_time": "2022-11-26T10:26:53.996Z"
   },
   {
    "duration": 20,
    "start_time": "2022-11-26T10:26:54.009Z"
   },
   {
    "duration": 4,
    "start_time": "2022-11-26T10:26:54.032Z"
   },
   {
    "duration": 10,
    "start_time": "2022-11-26T10:26:54.038Z"
   },
   {
    "duration": 28,
    "start_time": "2022-11-26T10:26:54.050Z"
   },
   {
    "duration": 110,
    "start_time": "2022-11-26T10:26:54.082Z"
   },
   {
    "duration": 46,
    "start_time": "2022-11-26T10:26:54.193Z"
   },
   {
    "duration": 6,
    "start_time": "2022-11-26T10:26:54.240Z"
   },
   {
    "duration": 25,
    "start_time": "2022-11-26T10:26:54.248Z"
   },
   {
    "duration": 41,
    "start_time": "2022-11-26T10:26:54.274Z"
   },
   {
    "duration": 5,
    "start_time": "2022-11-26T10:26:54.317Z"
   },
   {
    "duration": 11,
    "start_time": "2022-11-26T10:26:54.323Z"
   },
   {
    "duration": 12,
    "start_time": "2022-11-26T10:26:54.335Z"
   },
   {
    "duration": 69,
    "start_time": "2022-11-26T10:26:54.349Z"
   },
   {
    "duration": 10,
    "start_time": "2022-11-26T10:26:54.419Z"
   },
   {
    "duration": 9,
    "start_time": "2022-11-26T10:26:54.430Z"
   },
   {
    "duration": 14,
    "start_time": "2022-11-26T10:26:54.441Z"
   },
   {
    "duration": 7,
    "start_time": "2022-11-26T10:26:54.456Z"
   },
   {
    "duration": 12,
    "start_time": "2022-11-26T10:26:54.465Z"
   },
   {
    "duration": 4,
    "start_time": "2022-11-26T10:26:54.480Z"
   },
   {
    "duration": 29,
    "start_time": "2022-11-26T10:26:54.485Z"
   },
   {
    "duration": 14,
    "start_time": "2022-11-26T10:26:54.515Z"
   },
   {
    "duration": 17,
    "start_time": "2022-11-26T10:26:54.531Z"
   },
   {
    "duration": 14,
    "start_time": "2022-11-26T10:26:54.549Z"
   },
   {
    "duration": 16,
    "start_time": "2022-11-26T10:26:54.565Z"
   },
   {
    "duration": 14,
    "start_time": "2022-11-26T10:26:54.583Z"
   },
   {
    "duration": 98,
    "start_time": "2022-11-26T10:26:54.598Z"
   },
   {
    "duration": 14,
    "start_time": "2022-11-26T10:26:54.697Z"
   },
   {
    "duration": 24,
    "start_time": "2022-11-26T10:26:54.713Z"
   },
   {
    "duration": 178,
    "start_time": "2022-11-26T10:26:54.738Z"
   },
   {
    "duration": 7,
    "start_time": "2022-11-26T10:26:54.917Z"
   },
   {
    "duration": 196,
    "start_time": "2022-11-26T10:26:54.925Z"
   },
   {
    "duration": 12,
    "start_time": "2022-11-26T10:26:55.124Z"
   },
   {
    "duration": 218,
    "start_time": "2022-11-26T10:26:55.137Z"
   },
   {
    "duration": 7,
    "start_time": "2022-11-26T10:26:55.356Z"
   },
   {
    "duration": 250,
    "start_time": "2022-11-26T10:26:55.365Z"
   },
   {
    "duration": 8,
    "start_time": "2022-11-26T10:26:55.616Z"
   },
   {
    "duration": 127,
    "start_time": "2022-11-26T10:26:55.626Z"
   },
   {
    "duration": 9,
    "start_time": "2022-11-26T10:26:55.755Z"
   },
   {
    "duration": 142,
    "start_time": "2022-11-26T10:26:55.778Z"
   },
   {
    "duration": 8,
    "start_time": "2022-11-26T10:26:55.921Z"
   },
   {
    "duration": 236,
    "start_time": "2022-11-26T10:26:55.930Z"
   },
   {
    "duration": 14,
    "start_time": "2022-11-26T10:26:56.167Z"
   },
   {
    "duration": 113,
    "start_time": "2022-11-26T10:26:56.182Z"
   },
   {
    "duration": 6,
    "start_time": "2022-11-26T10:26:56.297Z"
   },
   {
    "duration": 157,
    "start_time": "2022-11-26T10:26:56.304Z"
   },
   {
    "duration": 7,
    "start_time": "2022-11-26T10:26:56.463Z"
   },
   {
    "duration": 193,
    "start_time": "2022-11-26T10:26:56.471Z"
   },
   {
    "duration": 12,
    "start_time": "2022-11-26T10:26:56.666Z"
   },
   {
    "duration": 177,
    "start_time": "2022-11-26T10:26:56.679Z"
   },
   {
    "duration": 7,
    "start_time": "2022-11-26T10:26:56.858Z"
   },
   {
    "duration": 187,
    "start_time": "2022-11-26T10:26:56.877Z"
   },
   {
    "duration": 17,
    "start_time": "2022-11-26T10:26:57.066Z"
   },
   {
    "duration": 256,
    "start_time": "2022-11-26T10:26:57.085Z"
   },
   {
    "duration": 7,
    "start_time": "2022-11-26T10:26:57.342Z"
   },
   {
    "duration": 6,
    "start_time": "2022-11-26T10:26:57.351Z"
   },
   {
    "duration": 149,
    "start_time": "2022-11-26T10:26:57.358Z"
   },
   {
    "duration": 7,
    "start_time": "2022-11-26T10:26:57.509Z"
   },
   {
    "duration": 131,
    "start_time": "2022-11-26T10:26:57.517Z"
   },
   {
    "duration": 216,
    "start_time": "2022-11-26T10:26:57.649Z"
   },
   {
    "duration": 130,
    "start_time": "2022-11-26T10:26:57.866Z"
   },
   {
    "duration": 143,
    "start_time": "2022-11-26T10:26:57.998Z"
   },
   {
    "duration": 10,
    "start_time": "2022-11-26T10:26:58.143Z"
   },
   {
    "duration": 109,
    "start_time": "2022-11-26T10:26:58.154Z"
   },
   {
    "duration": 122,
    "start_time": "2022-11-26T10:26:58.265Z"
   },
   {
    "duration": 150,
    "start_time": "2022-11-26T10:26:58.388Z"
   },
   {
    "duration": 133,
    "start_time": "2022-11-26T10:26:58.540Z"
   },
   {
    "duration": 16,
    "start_time": "2022-11-26T10:26:58.677Z"
   },
   {
    "duration": 9,
    "start_time": "2022-11-26T10:26:58.694Z"
   },
   {
    "duration": 17,
    "start_time": "2022-11-26T10:26:58.704Z"
   },
   {
    "duration": 41,
    "start_time": "2022-11-26T10:26:58.722Z"
   },
   {
    "duration": 22,
    "start_time": "2022-11-26T10:26:58.765Z"
   },
   {
    "duration": 123,
    "start_time": "2022-11-26T10:26:58.788Z"
   },
   {
    "duration": 1315,
    "start_time": "2022-11-26T10:43:11.772Z"
   },
   {
    "duration": 327,
    "start_time": "2022-11-26T10:43:13.089Z"
   },
   {
    "duration": 13,
    "start_time": "2022-11-26T10:43:13.418Z"
   },
   {
    "duration": 1853,
    "start_time": "2022-11-26T10:43:13.433Z"
   },
   {
    "duration": 9,
    "start_time": "2022-11-26T10:43:15.288Z"
   },
   {
    "duration": 14,
    "start_time": "2022-11-26T10:43:15.298Z"
   },
   {
    "duration": 7,
    "start_time": "2022-11-26T10:43:15.314Z"
   },
   {
    "duration": 4,
    "start_time": "2022-11-26T10:43:15.322Z"
   },
   {
    "duration": 6,
    "start_time": "2022-11-26T10:43:15.328Z"
   },
   {
    "duration": 11,
    "start_time": "2022-11-26T10:43:15.336Z"
   },
   {
    "duration": 3,
    "start_time": "2022-11-26T10:43:15.349Z"
   },
   {
    "duration": 4,
    "start_time": "2022-11-26T10:43:15.354Z"
   },
   {
    "duration": 40,
    "start_time": "2022-11-26T10:43:15.360Z"
   },
   {
    "duration": 17,
    "start_time": "2022-11-26T10:43:15.485Z"
   },
   {
    "duration": 8,
    "start_time": "2022-11-26T10:43:15.503Z"
   },
   {
    "duration": 59,
    "start_time": "2022-11-26T10:43:15.513Z"
   },
   {
    "duration": 30,
    "start_time": "2022-11-26T10:43:15.573Z"
   },
   {
    "duration": 5,
    "start_time": "2022-11-26T10:43:15.605Z"
   },
   {
    "duration": 23,
    "start_time": "2022-11-26T10:43:15.611Z"
   },
   {
    "duration": 9,
    "start_time": "2022-11-26T10:43:15.635Z"
   },
   {
    "duration": 12,
    "start_time": "2022-11-26T10:43:15.646Z"
   },
   {
    "duration": 40,
    "start_time": "2022-11-26T10:43:15.659Z"
   },
   {
    "duration": 121,
    "start_time": "2022-11-26T10:43:15.701Z"
   },
   {
    "duration": 13,
    "start_time": "2022-11-26T10:43:15.824Z"
   },
   {
    "duration": 9,
    "start_time": "2022-11-26T10:43:15.839Z"
   },
   {
    "duration": 7,
    "start_time": "2022-11-26T10:43:15.850Z"
   },
   {
    "duration": 8,
    "start_time": "2022-11-26T10:43:15.858Z"
   },
   {
    "duration": 31,
    "start_time": "2022-11-26T10:43:15.867Z"
   },
   {
    "duration": 5,
    "start_time": "2022-11-26T10:43:15.900Z"
   },
   {
    "duration": 9,
    "start_time": "2022-11-26T10:43:15.906Z"
   },
   {
    "duration": 9,
    "start_time": "2022-11-26T10:43:15.916Z"
   },
   {
    "duration": 22,
    "start_time": "2022-11-26T10:43:15.926Z"
   },
   {
    "duration": 27,
    "start_time": "2022-11-26T10:43:15.950Z"
   },
   {
    "duration": 32,
    "start_time": "2022-11-26T10:43:15.979Z"
   },
   {
    "duration": 5,
    "start_time": "2022-11-26T10:43:16.013Z"
   },
   {
    "duration": 190,
    "start_time": "2022-11-26T10:43:16.020Z"
   },
   {
    "duration": 15,
    "start_time": "2022-11-26T10:43:16.212Z"
   },
   {
    "duration": 13,
    "start_time": "2022-11-26T10:43:16.229Z"
   },
   {
    "duration": 221,
    "start_time": "2022-11-26T10:43:16.244Z"
   },
   {
    "duration": 8,
    "start_time": "2022-11-26T10:43:16.467Z"
   },
   {
    "duration": 193,
    "start_time": "2022-11-26T10:43:16.479Z"
   },
   {
    "duration": 8,
    "start_time": "2022-11-26T10:43:16.673Z"
   },
   {
    "duration": 228,
    "start_time": "2022-11-26T10:43:16.683Z"
   },
   {
    "duration": 8,
    "start_time": "2022-11-26T10:43:16.913Z"
   },
   {
    "duration": 254,
    "start_time": "2022-11-26T10:43:16.922Z"
   },
   {
    "duration": 10,
    "start_time": "2022-11-26T10:43:17.177Z"
   },
   {
    "duration": 137,
    "start_time": "2022-11-26T10:43:17.188Z"
   },
   {
    "duration": 7,
    "start_time": "2022-11-26T10:43:17.326Z"
   },
   {
    "duration": 128,
    "start_time": "2022-11-26T10:43:17.334Z"
   },
   {
    "duration": 7,
    "start_time": "2022-11-26T10:43:17.464Z"
   },
   {
    "duration": 241,
    "start_time": "2022-11-26T10:43:17.473Z"
   },
   {
    "duration": 7,
    "start_time": "2022-11-26T10:43:17.716Z"
   },
   {
    "duration": 146,
    "start_time": "2022-11-26T10:43:17.724Z"
   },
   {
    "duration": 7,
    "start_time": "2022-11-26T10:43:17.872Z"
   },
   {
    "duration": 184,
    "start_time": "2022-11-26T10:43:17.881Z"
   },
   {
    "duration": 9,
    "start_time": "2022-11-26T10:43:18.067Z"
   },
   {
    "duration": 222,
    "start_time": "2022-11-26T10:43:18.078Z"
   },
   {
    "duration": 9,
    "start_time": "2022-11-26T10:43:18.302Z"
   },
   {
    "duration": 190,
    "start_time": "2022-11-26T10:43:18.312Z"
   },
   {
    "duration": 11,
    "start_time": "2022-11-26T10:43:18.504Z"
   },
   {
    "duration": 213,
    "start_time": "2022-11-26T10:43:18.517Z"
   },
   {
    "duration": 8,
    "start_time": "2022-11-26T10:43:18.732Z"
   },
   {
    "duration": 290,
    "start_time": "2022-11-26T10:43:18.741Z"
   },
   {
    "duration": 9,
    "start_time": "2022-11-26T10:43:19.033Z"
   },
   {
    "duration": 10,
    "start_time": "2022-11-26T10:43:19.044Z"
   },
   {
    "duration": 203,
    "start_time": "2022-11-26T10:43:19.056Z"
   },
   {
    "duration": 12,
    "start_time": "2022-11-26T10:43:19.261Z"
   },
   {
    "duration": 168,
    "start_time": "2022-11-26T10:43:19.275Z"
   },
   {
    "duration": 228,
    "start_time": "2022-11-26T10:43:19.444Z"
   },
   {
    "duration": 145,
    "start_time": "2022-11-26T10:43:19.674Z"
   },
   {
    "duration": 177,
    "start_time": "2022-11-26T10:43:19.820Z"
   },
   {
    "duration": 13,
    "start_time": "2022-11-26T10:43:19.998Z"
   },
   {
    "duration": 164,
    "start_time": "2022-11-26T10:43:20.013Z"
   },
   {
    "duration": 142,
    "start_time": "2022-11-26T10:43:20.178Z"
   },
   {
    "duration": 150,
    "start_time": "2022-11-26T10:43:20.323Z"
   },
   {
    "duration": 152,
    "start_time": "2022-11-26T10:43:20.475Z"
   },
   {
    "duration": 16,
    "start_time": "2022-11-26T10:43:20.629Z"
   },
   {
    "duration": 10,
    "start_time": "2022-11-26T10:43:20.647Z"
   },
   {
    "duration": 32,
    "start_time": "2022-11-26T10:43:20.658Z"
   },
   {
    "duration": 54,
    "start_time": "2022-11-26T10:43:20.691Z"
   },
   {
    "duration": 13,
    "start_time": "2022-11-26T10:43:20.747Z"
   },
   {
    "duration": 157,
    "start_time": "2022-11-26T10:43:20.761Z"
   },
   {
    "duration": 146,
    "start_time": "2022-11-26T10:48:12.000Z"
   },
   {
    "duration": 150,
    "start_time": "2022-11-26T10:48:19.934Z"
   },
   {
    "duration": 1344,
    "start_time": "2022-11-26T15:35:30.700Z"
   },
   {
    "duration": 336,
    "start_time": "2022-11-26T15:35:32.046Z"
   },
   {
    "duration": 18,
    "start_time": "2022-11-26T15:35:32.383Z"
   },
   {
    "duration": 1921,
    "start_time": "2022-11-26T15:35:32.404Z"
   },
   {
    "duration": 10,
    "start_time": "2022-11-26T15:35:34.327Z"
   },
   {
    "duration": 19,
    "start_time": "2022-11-26T15:35:34.338Z"
   },
   {
    "duration": 9,
    "start_time": "2022-11-26T15:35:34.359Z"
   },
   {
    "duration": 8,
    "start_time": "2022-11-26T15:35:34.370Z"
   },
   {
    "duration": 7,
    "start_time": "2022-11-26T15:35:34.379Z"
   },
   {
    "duration": 11,
    "start_time": "2022-11-26T15:35:34.389Z"
   },
   {
    "duration": 3,
    "start_time": "2022-11-26T15:35:34.401Z"
   },
   {
    "duration": 31,
    "start_time": "2022-11-26T15:35:34.406Z"
   },
   {
    "duration": 7,
    "start_time": "2022-11-26T15:35:34.439Z"
   },
   {
    "duration": 102,
    "start_time": "2022-11-26T15:35:34.447Z"
   },
   {
    "duration": 7,
    "start_time": "2022-11-26T15:35:34.551Z"
   },
   {
    "duration": 51,
    "start_time": "2022-11-26T15:35:34.559Z"
   },
   {
    "duration": 23,
    "start_time": "2022-11-26T15:35:34.612Z"
   },
   {
    "duration": 20,
    "start_time": "2022-11-26T15:35:34.637Z"
   },
   {
    "duration": 6,
    "start_time": "2022-11-26T15:35:34.659Z"
   },
   {
    "duration": 6,
    "start_time": "2022-11-26T15:35:34.666Z"
   },
   {
    "duration": 12,
    "start_time": "2022-11-26T15:35:34.674Z"
   },
   {
    "duration": 159,
    "start_time": "2022-11-26T15:35:34.688Z"
   },
   {
    "duration": 16,
    "start_time": "2022-11-26T15:35:34.848Z"
   },
   {
    "duration": 13,
    "start_time": "2022-11-26T15:35:34.867Z"
   },
   {
    "duration": 13,
    "start_time": "2022-11-26T15:35:34.881Z"
   },
   {
    "duration": 10,
    "start_time": "2022-11-26T15:35:34.896Z"
   },
   {
    "duration": 6,
    "start_time": "2022-11-26T15:35:34.907Z"
   },
   {
    "duration": 20,
    "start_time": "2022-11-26T15:35:34.917Z"
   },
   {
    "duration": 3,
    "start_time": "2022-11-26T15:35:34.940Z"
   },
   {
    "duration": 10,
    "start_time": "2022-11-26T15:35:34.946Z"
   },
   {
    "duration": 20,
    "start_time": "2022-11-26T15:35:34.958Z"
   },
   {
    "duration": 17,
    "start_time": "2022-11-26T15:35:34.980Z"
   },
   {
    "duration": 42,
    "start_time": "2022-11-26T15:35:34.998Z"
   },
   {
    "duration": 6,
    "start_time": "2022-11-26T15:35:35.041Z"
   },
   {
    "duration": 176,
    "start_time": "2022-11-26T15:35:35.048Z"
   },
   {
    "duration": 20,
    "start_time": "2022-11-26T15:35:35.225Z"
   },
   {
    "duration": 22,
    "start_time": "2022-11-26T15:35:35.247Z"
   },
   {
    "duration": 208,
    "start_time": "2022-11-26T15:35:35.271Z"
   },
   {
    "duration": 8,
    "start_time": "2022-11-26T15:35:35.481Z"
   },
   {
    "duration": 205,
    "start_time": "2022-11-26T15:35:35.491Z"
   },
   {
    "duration": 8,
    "start_time": "2022-11-26T15:35:35.698Z"
   },
   {
    "duration": 250,
    "start_time": "2022-11-26T15:35:35.707Z"
   },
   {
    "duration": 8,
    "start_time": "2022-11-26T15:35:35.959Z"
   },
   {
    "duration": 299,
    "start_time": "2022-11-26T15:35:35.968Z"
   },
   {
    "duration": 8,
    "start_time": "2022-11-26T15:35:36.269Z"
   },
   {
    "duration": 159,
    "start_time": "2022-11-26T15:35:36.278Z"
   },
   {
    "duration": 8,
    "start_time": "2022-11-26T15:35:36.439Z"
   },
   {
    "duration": 153,
    "start_time": "2022-11-26T15:35:36.448Z"
   },
   {
    "duration": 8,
    "start_time": "2022-11-26T15:35:36.603Z"
   },
   {
    "duration": 297,
    "start_time": "2022-11-26T15:35:36.613Z"
   },
   {
    "duration": 7,
    "start_time": "2022-11-26T15:35:36.912Z"
   },
   {
    "duration": 123,
    "start_time": "2022-11-26T15:35:36.921Z"
   },
   {
    "duration": 7,
    "start_time": "2022-11-26T15:35:37.046Z"
   },
   {
    "duration": 183,
    "start_time": "2022-11-26T15:35:37.055Z"
   },
   {
    "duration": 8,
    "start_time": "2022-11-26T15:35:37.239Z"
   },
   {
    "duration": 219,
    "start_time": "2022-11-26T15:35:37.248Z"
   },
   {
    "duration": 8,
    "start_time": "2022-11-26T15:35:37.469Z"
   },
   {
    "duration": 210,
    "start_time": "2022-11-26T15:35:37.478Z"
   },
   {
    "duration": 11,
    "start_time": "2022-11-26T15:35:37.689Z"
   },
   {
    "duration": 228,
    "start_time": "2022-11-26T15:35:37.701Z"
   },
   {
    "duration": 10,
    "start_time": "2022-11-26T15:35:37.931Z"
   },
   {
    "duration": 294,
    "start_time": "2022-11-26T15:35:37.943Z"
   },
   {
    "duration": 8,
    "start_time": "2022-11-26T15:35:38.238Z"
   },
   {
    "duration": 8,
    "start_time": "2022-11-26T15:35:38.247Z"
   },
   {
    "duration": 161,
    "start_time": "2022-11-26T15:35:38.257Z"
   },
   {
    "duration": 19,
    "start_time": "2022-11-26T15:35:38.420Z"
   },
   {
    "duration": 158,
    "start_time": "2022-11-26T15:35:38.440Z"
   },
   {
    "duration": 264,
    "start_time": "2022-11-26T15:35:38.599Z"
   },
   {
    "duration": 151,
    "start_time": "2022-11-26T15:35:38.865Z"
   },
   {
    "duration": 176,
    "start_time": "2022-11-26T15:35:39.018Z"
   },
   {
    "duration": 12,
    "start_time": "2022-11-26T15:35:39.195Z"
   },
   {
    "duration": 129,
    "start_time": "2022-11-26T15:35:39.209Z"
   },
   {
    "duration": 132,
    "start_time": "2022-11-26T15:35:39.340Z"
   },
   {
    "duration": 166,
    "start_time": "2022-11-26T15:35:39.474Z"
   },
   {
    "duration": 131,
    "start_time": "2022-11-26T15:35:39.642Z"
   },
   {
    "duration": 17,
    "start_time": "2022-11-26T15:35:39.775Z"
   },
   {
    "duration": 10,
    "start_time": "2022-11-26T15:35:39.794Z"
   },
   {
    "duration": 34,
    "start_time": "2022-11-26T15:35:39.805Z"
   },
   {
    "duration": 40,
    "start_time": "2022-11-26T15:35:39.841Z"
   },
   {
    "duration": 14,
    "start_time": "2022-11-26T15:35:39.883Z"
   },
   {
    "duration": 175,
    "start_time": "2022-11-26T15:35:39.898Z"
   },
   {
    "duration": 1125,
    "start_time": "2022-11-27T07:41:47.646Z"
   },
   {
    "duration": 141,
    "start_time": "2022-11-27T07:41:48.773Z"
   },
   {
    "duration": 29,
    "start_time": "2022-11-27T07:41:48.919Z"
   },
   {
    "duration": 1918,
    "start_time": "2022-11-27T07:41:48.951Z"
   },
   {
    "duration": 9,
    "start_time": "2022-11-27T07:41:50.871Z"
   },
   {
    "duration": 14,
    "start_time": "2022-11-27T07:41:50.882Z"
   },
   {
    "duration": 7,
    "start_time": "2022-11-27T07:41:50.898Z"
   },
   {
    "duration": 33,
    "start_time": "2022-11-27T07:41:50.907Z"
   },
   {
    "duration": 8,
    "start_time": "2022-11-27T07:41:50.942Z"
   },
   {
    "duration": 12,
    "start_time": "2022-11-27T07:41:50.953Z"
   },
   {
    "duration": 3,
    "start_time": "2022-11-27T07:41:50.966Z"
   },
   {
    "duration": 6,
    "start_time": "2022-11-27T07:41:50.971Z"
   },
   {
    "duration": 7,
    "start_time": "2022-11-27T07:41:50.979Z"
   },
   {
    "duration": 114,
    "start_time": "2022-11-27T07:41:50.987Z"
   },
   {
    "duration": 8,
    "start_time": "2022-11-27T07:41:51.103Z"
   },
   {
    "duration": 62,
    "start_time": "2022-11-27T07:41:51.112Z"
   },
   {
    "duration": 4,
    "start_time": "2022-11-27T07:41:51.176Z"
   },
   {
    "duration": 23,
    "start_time": "2022-11-27T07:41:51.181Z"
   },
   {
    "duration": 6,
    "start_time": "2022-11-27T07:41:51.205Z"
   },
   {
    "duration": 12,
    "start_time": "2022-11-27T07:41:51.212Z"
   },
   {
    "duration": 12,
    "start_time": "2022-11-27T07:41:51.238Z"
   },
   {
    "duration": 133,
    "start_time": "2022-11-27T07:41:51.252Z"
   },
   {
    "duration": 16,
    "start_time": "2022-11-27T07:41:51.386Z"
   },
   {
    "duration": 10,
    "start_time": "2022-11-27T07:41:51.403Z"
   },
   {
    "duration": 12,
    "start_time": "2022-11-27T07:41:51.414Z"
   },
   {
    "duration": 5,
    "start_time": "2022-11-27T07:41:51.437Z"
   },
   {
    "duration": 7,
    "start_time": "2022-11-27T07:41:51.443Z"
   },
   {
    "duration": 7,
    "start_time": "2022-11-27T07:41:51.454Z"
   },
   {
    "duration": 8,
    "start_time": "2022-11-27T07:41:51.462Z"
   },
   {
    "duration": 6,
    "start_time": "2022-11-27T07:41:51.472Z"
   },
   {
    "duration": 19,
    "start_time": "2022-11-27T07:41:51.479Z"
   },
   {
    "duration": 38,
    "start_time": "2022-11-27T07:41:51.500Z"
   },
   {
    "duration": 26,
    "start_time": "2022-11-27T07:41:51.540Z"
   },
   {
    "duration": 6,
    "start_time": "2022-11-27T07:41:51.568Z"
   },
   {
    "duration": 179,
    "start_time": "2022-11-27T07:41:51.576Z"
   },
   {
    "duration": 17,
    "start_time": "2022-11-27T07:41:51.757Z"
   },
   {
    "duration": 9,
    "start_time": "2022-11-27T07:41:51.775Z"
   },
   {
    "duration": 213,
    "start_time": "2022-11-27T07:41:51.785Z"
   },
   {
    "duration": 8,
    "start_time": "2022-11-27T07:41:51.999Z"
   },
   {
    "duration": 208,
    "start_time": "2022-11-27T07:41:52.008Z"
   },
   {
    "duration": 9,
    "start_time": "2022-11-27T07:41:52.217Z"
   },
   {
    "duration": 245,
    "start_time": "2022-11-27T07:41:52.238Z"
   },
   {
    "duration": 8,
    "start_time": "2022-11-27T07:41:52.485Z"
   },
   {
    "duration": 283,
    "start_time": "2022-11-27T07:41:52.494Z"
   },
   {
    "duration": 8,
    "start_time": "2022-11-27T07:41:52.779Z"
   },
   {
    "duration": 155,
    "start_time": "2022-11-27T07:41:52.788Z"
   },
   {
    "duration": 7,
    "start_time": "2022-11-27T07:41:52.944Z"
   },
   {
    "duration": 141,
    "start_time": "2022-11-27T07:41:52.953Z"
   },
   {
    "duration": 8,
    "start_time": "2022-11-27T07:41:53.096Z"
   },
   {
    "duration": 258,
    "start_time": "2022-11-27T07:41:53.105Z"
   },
   {
    "duration": 8,
    "start_time": "2022-11-27T07:41:53.365Z"
   },
   {
    "duration": 123,
    "start_time": "2022-11-27T07:41:53.374Z"
   },
   {
    "duration": 7,
    "start_time": "2022-11-27T07:41:53.499Z"
   },
   {
    "duration": 179,
    "start_time": "2022-11-27T07:41:53.507Z"
   },
   {
    "duration": 9,
    "start_time": "2022-11-27T07:41:53.688Z"
   },
   {
    "duration": 234,
    "start_time": "2022-11-27T07:41:53.699Z"
   },
   {
    "duration": 10,
    "start_time": "2022-11-27T07:41:53.934Z"
   },
   {
    "duration": 198,
    "start_time": "2022-11-27T07:41:53.945Z"
   },
   {
    "duration": 10,
    "start_time": "2022-11-27T07:41:54.145Z"
   },
   {
    "duration": 231,
    "start_time": "2022-11-27T07:41:54.156Z"
   },
   {
    "duration": 9,
    "start_time": "2022-11-27T07:41:54.388Z"
   },
   {
    "duration": 339,
    "start_time": "2022-11-27T07:41:54.399Z"
   },
   {
    "duration": 8,
    "start_time": "2022-11-27T07:41:54.740Z"
   },
   {
    "duration": 8,
    "start_time": "2022-11-27T07:41:54.749Z"
   },
   {
    "duration": 180,
    "start_time": "2022-11-27T07:41:54.758Z"
   },
   {
    "duration": 8,
    "start_time": "2022-11-27T07:41:54.939Z"
   },
   {
    "duration": 167,
    "start_time": "2022-11-27T07:41:54.949Z"
   },
   {
    "duration": 248,
    "start_time": "2022-11-27T07:41:55.118Z"
   },
   {
    "duration": 157,
    "start_time": "2022-11-27T07:41:55.368Z"
   },
   {
    "duration": 185,
    "start_time": "2022-11-27T07:41:55.527Z"
   },
   {
    "duration": 12,
    "start_time": "2022-11-27T07:41:55.714Z"
   },
   {
    "duration": 137,
    "start_time": "2022-11-27T07:41:55.738Z"
   },
   {
    "duration": 135,
    "start_time": "2022-11-27T07:41:55.877Z"
   },
   {
    "duration": 181,
    "start_time": "2022-11-27T07:41:56.014Z"
   },
   {
    "duration": 150,
    "start_time": "2022-11-27T07:41:56.197Z"
   },
   {
    "duration": 18,
    "start_time": "2022-11-27T07:41:56.349Z"
   },
   {
    "duration": 10,
    "start_time": "2022-11-27T07:41:56.369Z"
   },
   {
    "duration": 11,
    "start_time": "2022-11-27T07:41:56.381Z"
   },
   {
    "duration": 65,
    "start_time": "2022-11-27T07:41:56.393Z"
   },
   {
    "duration": 17,
    "start_time": "2022-11-27T07:41:56.459Z"
   },
   {
    "duration": 168,
    "start_time": "2022-11-27T07:41:56.478Z"
   },
   {
    "duration": 14,
    "start_time": "2022-11-27T07:42:06.456Z"
   },
   {
    "duration": 1104,
    "start_time": "2022-11-27T07:42:13.171Z"
   },
   {
    "duration": 110,
    "start_time": "2022-11-27T07:42:14.277Z"
   },
   {
    "duration": 14,
    "start_time": "2022-11-27T07:42:14.389Z"
   },
   {
    "duration": 1873,
    "start_time": "2022-11-27T07:42:14.405Z"
   },
   {
    "duration": 9,
    "start_time": "2022-11-27T07:42:16.279Z"
   },
   {
    "duration": 14,
    "start_time": "2022-11-27T07:42:16.290Z"
   },
   {
    "duration": 7,
    "start_time": "2022-11-27T07:42:16.306Z"
   },
   {
    "duration": 5,
    "start_time": "2022-11-27T07:42:16.338Z"
   },
   {
    "duration": 6,
    "start_time": "2022-11-27T07:42:16.345Z"
   },
   {
    "duration": 11,
    "start_time": "2022-11-27T07:42:16.353Z"
   },
   {
    "duration": 3,
    "start_time": "2022-11-27T07:42:16.366Z"
   },
   {
    "duration": 8,
    "start_time": "2022-11-27T07:42:16.370Z"
   },
   {
    "duration": 6,
    "start_time": "2022-11-27T07:42:16.379Z"
   },
   {
    "duration": 120,
    "start_time": "2022-11-27T07:42:16.386Z"
   },
   {
    "duration": 8,
    "start_time": "2022-11-27T07:42:16.507Z"
   },
   {
    "duration": 64,
    "start_time": "2022-11-27T07:42:16.517Z"
   },
   {
    "duration": 5,
    "start_time": "2022-11-27T07:42:16.583Z"
   },
   {
    "duration": 22,
    "start_time": "2022-11-27T07:42:16.590Z"
   },
   {
    "duration": 26,
    "start_time": "2022-11-27T07:42:16.613Z"
   },
   {
    "duration": 6,
    "start_time": "2022-11-27T07:42:16.641Z"
   },
   {
    "duration": 13,
    "start_time": "2022-11-27T07:42:16.649Z"
   },
   {
    "duration": 148,
    "start_time": "2022-11-27T07:42:16.664Z"
   },
   {
    "duration": 16,
    "start_time": "2022-11-27T07:42:16.814Z"
   },
   {
    "duration": 10,
    "start_time": "2022-11-27T07:42:16.838Z"
   },
   {
    "duration": 5,
    "start_time": "2022-11-27T07:42:16.850Z"
   },
   {
    "duration": 6,
    "start_time": "2022-11-27T07:42:16.856Z"
   },
   {
    "duration": 6,
    "start_time": "2022-11-27T07:42:16.863Z"
   },
   {
    "duration": 3,
    "start_time": "2022-11-27T07:42:16.873Z"
   },
   {
    "duration": 7,
    "start_time": "2022-11-27T07:42:16.877Z"
   },
   {
    "duration": 17,
    "start_time": "2022-11-27T07:42:16.885Z"
   },
   {
    "duration": 4,
    "start_time": "2022-11-27T07:42:16.938Z"
   },
   {
    "duration": 22,
    "start_time": "2022-11-27T07:42:16.945Z"
   },
   {
    "duration": 16,
    "start_time": "2022-11-27T07:42:16.969Z"
   },
   {
    "duration": 17,
    "start_time": "2022-11-27T07:42:16.986Z"
   },
   {
    "duration": 4,
    "start_time": "2022-11-27T07:42:17.005Z"
   },
   {
    "duration": 177,
    "start_time": "2022-11-27T07:42:17.038Z"
   },
   {
    "duration": 20,
    "start_time": "2022-11-27T07:42:17.217Z"
   },
   {
    "duration": 9,
    "start_time": "2022-11-27T07:42:17.238Z"
   },
   {
    "duration": 216,
    "start_time": "2022-11-27T07:42:17.248Z"
   },
   {
    "duration": 8,
    "start_time": "2022-11-27T07:42:17.466Z"
   },
   {
    "duration": 222,
    "start_time": "2022-11-27T07:42:17.476Z"
   },
   {
    "duration": 9,
    "start_time": "2022-11-27T07:42:17.699Z"
   },
   {
    "duration": 264,
    "start_time": "2022-11-27T07:42:17.709Z"
   },
   {
    "duration": 8,
    "start_time": "2022-11-27T07:42:17.975Z"
   },
   {
    "duration": 286,
    "start_time": "2022-11-27T07:42:17.985Z"
   },
   {
    "duration": 8,
    "start_time": "2022-11-27T07:42:18.273Z"
   },
   {
    "duration": 157,
    "start_time": "2022-11-27T07:42:18.282Z"
   },
   {
    "duration": 7,
    "start_time": "2022-11-27T07:42:18.441Z"
   },
   {
    "duration": 227,
    "start_time": "2022-11-27T07:42:18.450Z"
   },
   {
    "duration": 10,
    "start_time": "2022-11-27T07:42:18.679Z"
   },
   {
    "duration": 235,
    "start_time": "2022-11-27T07:42:18.691Z"
   },
   {
    "duration": 16,
    "start_time": "2022-11-27T07:42:18.928Z"
   },
   {
    "duration": 151,
    "start_time": "2022-11-27T07:42:18.946Z"
   },
   {
    "duration": 9,
    "start_time": "2022-11-27T07:42:19.099Z"
   },
   {
    "duration": 216,
    "start_time": "2022-11-27T07:42:19.110Z"
   },
   {
    "duration": 16,
    "start_time": "2022-11-27T07:42:19.327Z"
   },
   {
    "duration": 230,
    "start_time": "2022-11-27T07:42:19.345Z"
   },
   {
    "duration": 10,
    "start_time": "2022-11-27T07:42:19.577Z"
   },
   {
    "duration": 225,
    "start_time": "2022-11-27T07:42:19.589Z"
   },
   {
    "duration": 24,
    "start_time": "2022-11-27T07:42:19.816Z"
   },
   {
    "duration": 232,
    "start_time": "2022-11-27T07:42:19.842Z"
   },
   {
    "duration": 8,
    "start_time": "2022-11-27T07:42:20.076Z"
   },
   {
    "duration": 314,
    "start_time": "2022-11-27T07:42:20.086Z"
   },
   {
    "duration": 8,
    "start_time": "2022-11-27T07:42:20.402Z"
   },
   {
    "duration": 18,
    "start_time": "2022-11-27T07:42:20.412Z"
   },
   {
    "duration": 177,
    "start_time": "2022-11-27T07:42:20.431Z"
   },
   {
    "duration": 9,
    "start_time": "2022-11-27T07:42:20.611Z"
   },
   {
    "duration": 267,
    "start_time": "2022-11-27T07:42:20.623Z"
   },
   {
    "duration": 166,
    "start_time": "2022-11-27T07:42:20.891Z"
   },
   {
    "duration": 165,
    "start_time": "2022-11-27T07:42:21.059Z"
   },
   {
    "duration": 182,
    "start_time": "2022-11-27T07:42:21.226Z"
   },
   {
    "duration": 13,
    "start_time": "2022-11-27T07:42:21.409Z"
   },
   {
    "duration": 125,
    "start_time": "2022-11-27T07:42:21.423Z"
   },
   {
    "duration": 161,
    "start_time": "2022-11-27T07:42:21.549Z"
   },
   {
    "duration": 179,
    "start_time": "2022-11-27T07:42:21.712Z"
   },
   {
    "duration": 149,
    "start_time": "2022-11-27T07:42:21.893Z"
   },
   {
    "duration": 19,
    "start_time": "2022-11-27T07:42:22.043Z"
   },
   {
    "duration": 10,
    "start_time": "2022-11-27T07:42:22.064Z"
   },
   {
    "duration": 17,
    "start_time": "2022-11-27T07:42:22.076Z"
   },
   {
    "duration": 53,
    "start_time": "2022-11-27T07:42:22.095Z"
   },
   {
    "duration": 14,
    "start_time": "2022-11-27T07:42:22.150Z"
   },
   {
    "duration": 168,
    "start_time": "2022-11-27T07:42:22.169Z"
   },
   {
    "duration": 69,
    "start_time": "2022-11-27T07:42:25.278Z"
   },
   {
    "duration": 1273,
    "start_time": "2022-11-27T07:43:42.135Z"
   },
   {
    "duration": 120,
    "start_time": "2022-11-27T07:43:43.410Z"
   },
   {
    "duration": 29,
    "start_time": "2022-11-27T07:43:43.532Z"
   },
   {
    "duration": 2138,
    "start_time": "2022-11-27T07:43:43.563Z"
   },
   {
    "duration": 11,
    "start_time": "2022-11-27T07:43:45.704Z"
   },
   {
    "duration": 28,
    "start_time": "2022-11-27T07:43:45.717Z"
   },
   {
    "duration": 16,
    "start_time": "2022-11-27T07:43:45.748Z"
   },
   {
    "duration": 29,
    "start_time": "2022-11-27T07:43:45.766Z"
   },
   {
    "duration": 25,
    "start_time": "2022-11-27T07:43:45.796Z"
   },
   {
    "duration": 38,
    "start_time": "2022-11-27T07:43:45.824Z"
   },
   {
    "duration": 37,
    "start_time": "2022-11-27T07:43:45.864Z"
   },
   {
    "duration": 29,
    "start_time": "2022-11-27T07:43:45.903Z"
   },
   {
    "duration": 34,
    "start_time": "2022-11-27T07:43:45.934Z"
   },
   {
    "duration": 107,
    "start_time": "2022-11-27T07:43:45.970Z"
   },
   {
    "duration": 18,
    "start_time": "2022-11-27T07:43:46.079Z"
   },
   {
    "duration": 10,
    "start_time": "2022-11-27T07:43:46.098Z"
   },
   {
    "duration": 80,
    "start_time": "2022-11-27T07:43:46.110Z"
   },
   {
    "duration": 6,
    "start_time": "2022-11-27T07:43:46.193Z"
   },
   {
    "duration": 47,
    "start_time": "2022-11-27T07:43:46.201Z"
   },
   {
    "duration": 9,
    "start_time": "2022-11-27T07:43:46.251Z"
   },
   {
    "duration": 7,
    "start_time": "2022-11-27T07:43:46.262Z"
   },
   {
    "duration": 21,
    "start_time": "2022-11-27T07:43:46.271Z"
   },
   {
    "duration": 161,
    "start_time": "2022-11-27T07:43:46.294Z"
   },
   {
    "duration": 16,
    "start_time": "2022-11-27T07:43:46.458Z"
   },
   {
    "duration": 14,
    "start_time": "2022-11-27T07:43:46.476Z"
   },
   {
    "duration": 5,
    "start_time": "2022-11-27T07:43:46.491Z"
   },
   {
    "duration": 8,
    "start_time": "2022-11-27T07:43:46.498Z"
   },
   {
    "duration": 9,
    "start_time": "2022-11-27T07:43:46.539Z"
   },
   {
    "duration": 10,
    "start_time": "2022-11-27T07:43:46.550Z"
   },
   {
    "duration": 5,
    "start_time": "2022-11-27T07:43:46.561Z"
   },
   {
    "duration": 5,
    "start_time": "2022-11-27T07:43:46.568Z"
   },
   {
    "duration": 21,
    "start_time": "2022-11-27T07:43:46.575Z"
   },
   {
    "duration": 47,
    "start_time": "2022-11-27T07:43:46.597Z"
   },
   {
    "duration": 18,
    "start_time": "2022-11-27T07:43:46.646Z"
   },
   {
    "duration": 6,
    "start_time": "2022-11-27T07:43:46.666Z"
   },
   {
    "duration": 214,
    "start_time": "2022-11-27T07:43:46.674Z"
   },
   {
    "duration": 17,
    "start_time": "2022-11-27T07:43:46.890Z"
   },
   {
    "duration": 10,
    "start_time": "2022-11-27T07:43:46.909Z"
   },
   {
    "duration": 232,
    "start_time": "2022-11-27T07:43:46.920Z"
   },
   {
    "duration": 13,
    "start_time": "2022-11-27T07:43:47.154Z"
   },
   {
    "duration": 252,
    "start_time": "2022-11-27T07:43:47.169Z"
   },
   {
    "duration": 17,
    "start_time": "2022-11-27T07:43:47.423Z"
   },
   {
    "duration": 301,
    "start_time": "2022-11-27T07:43:47.444Z"
   },
   {
    "duration": 12,
    "start_time": "2022-11-27T07:43:47.748Z"
   },
   {
    "duration": 316,
    "start_time": "2022-11-27T07:43:47.763Z"
   },
   {
    "duration": 8,
    "start_time": "2022-11-27T07:43:48.081Z"
   },
   {
    "duration": 152,
    "start_time": "2022-11-27T07:43:48.090Z"
   },
   {
    "duration": 10,
    "start_time": "2022-11-27T07:43:48.245Z"
   },
   {
    "duration": 248,
    "start_time": "2022-11-27T07:43:48.258Z"
   },
   {
    "duration": 9,
    "start_time": "2022-11-27T07:43:48.507Z"
   },
   {
    "duration": 197,
    "start_time": "2022-11-27T07:43:48.517Z"
   },
   {
    "duration": 9,
    "start_time": "2022-11-27T07:43:48.716Z"
   },
   {
    "duration": 150,
    "start_time": "2022-11-27T07:43:48.745Z"
   },
   {
    "duration": 11,
    "start_time": "2022-11-27T07:43:48.897Z"
   },
   {
    "duration": 258,
    "start_time": "2022-11-27T07:43:48.910Z"
   },
   {
    "duration": 9,
    "start_time": "2022-11-27T07:43:49.170Z"
   },
   {
    "duration": 292,
    "start_time": "2022-11-27T07:43:49.181Z"
   },
   {
    "duration": 8,
    "start_time": "2022-11-27T07:43:49.475Z"
   },
   {
    "duration": 235,
    "start_time": "2022-11-27T07:43:49.484Z"
   },
   {
    "duration": 24,
    "start_time": "2022-11-27T07:43:49.720Z"
   },
   {
    "duration": 230,
    "start_time": "2022-11-27T07:43:49.746Z"
   },
   {
    "duration": 8,
    "start_time": "2022-11-27T07:43:49.978Z"
   },
   {
    "duration": 329,
    "start_time": "2022-11-27T07:43:49.988Z"
   },
   {
    "duration": 8,
    "start_time": "2022-11-27T07:43:50.318Z"
   },
   {
    "duration": 15,
    "start_time": "2022-11-27T07:43:50.338Z"
   },
   {
    "duration": 192,
    "start_time": "2022-11-27T07:43:50.356Z"
   },
   {
    "duration": 13,
    "start_time": "2022-11-27T07:43:50.550Z"
   },
   {
    "duration": 269,
    "start_time": "2022-11-27T07:43:50.564Z"
   },
   {
    "duration": 184,
    "start_time": "2022-11-27T07:43:50.838Z"
   },
   {
    "duration": 167,
    "start_time": "2022-11-27T07:43:51.024Z"
   },
   {
    "duration": 217,
    "start_time": "2022-11-27T07:43:51.193Z"
   },
   {
    "duration": 26,
    "start_time": "2022-11-27T07:43:51.411Z"
   },
   {
    "duration": 132,
    "start_time": "2022-11-27T07:43:51.439Z"
   },
   {
    "duration": 141,
    "start_time": "2022-11-27T07:43:51.573Z"
   },
   {
    "duration": 167,
    "start_time": "2022-11-27T07:43:51.716Z"
   },
   {
    "duration": 156,
    "start_time": "2022-11-27T07:43:51.884Z"
   },
   {
    "duration": 18,
    "start_time": "2022-11-27T07:43:52.042Z"
   },
   {
    "duration": 10,
    "start_time": "2022-11-27T07:43:52.061Z"
   },
   {
    "duration": 11,
    "start_time": "2022-11-27T07:43:52.073Z"
   },
   {
    "duration": 58,
    "start_time": "2022-11-27T07:43:52.085Z"
   },
   {
    "duration": 15,
    "start_time": "2022-11-27T07:43:52.145Z"
   },
   {
    "duration": 174,
    "start_time": "2022-11-27T07:43:52.166Z"
   },
   {
    "duration": 1143,
    "start_time": "2022-11-27T07:44:08.290Z"
   },
   {
    "duration": 116,
    "start_time": "2022-11-27T07:44:09.435Z"
   },
   {
    "duration": 17,
    "start_time": "2022-11-27T07:44:09.554Z"
   },
   {
    "duration": 1978,
    "start_time": "2022-11-27T07:44:09.572Z"
   },
   {
    "duration": 15,
    "start_time": "2022-11-27T07:44:11.553Z"
   },
   {
    "duration": 26,
    "start_time": "2022-11-27T07:44:11.570Z"
   },
   {
    "duration": 9,
    "start_time": "2022-11-27T07:44:11.598Z"
   },
   {
    "duration": 32,
    "start_time": "2022-11-27T07:44:11.608Z"
   },
   {
    "duration": 27,
    "start_time": "2022-11-27T07:44:11.643Z"
   },
   {
    "duration": 28,
    "start_time": "2022-11-27T07:44:11.673Z"
   },
   {
    "duration": 34,
    "start_time": "2022-11-27T07:44:11.702Z"
   },
   {
    "duration": 24,
    "start_time": "2022-11-27T07:44:11.739Z"
   },
   {
    "duration": 43,
    "start_time": "2022-11-27T07:44:11.766Z"
   },
   {
    "duration": 140,
    "start_time": "2022-11-27T07:44:11.810Z"
   },
   {
    "duration": 11,
    "start_time": "2022-11-27T07:44:11.953Z"
   },
   {
    "duration": 16,
    "start_time": "2022-11-27T07:44:11.966Z"
   },
   {
    "duration": 83,
    "start_time": "2022-11-27T07:44:11.983Z"
   },
   {
    "duration": 6,
    "start_time": "2022-11-27T07:44:12.067Z"
   },
   {
    "duration": 23,
    "start_time": "2022-11-27T07:44:12.074Z"
   },
   {
    "duration": 6,
    "start_time": "2022-11-27T07:44:12.099Z"
   },
   {
    "duration": 9,
    "start_time": "2022-11-27T07:44:12.106Z"
   },
   {
    "duration": 24,
    "start_time": "2022-11-27T07:44:12.137Z"
   },
   {
    "duration": 146,
    "start_time": "2022-11-27T07:44:12.165Z"
   },
   {
    "duration": 17,
    "start_time": "2022-11-27T07:44:12.313Z"
   },
   {
    "duration": 17,
    "start_time": "2022-11-27T07:44:12.336Z"
   },
   {
    "duration": 6,
    "start_time": "2022-11-27T07:44:12.355Z"
   },
   {
    "duration": 7,
    "start_time": "2022-11-27T07:44:12.363Z"
   },
   {
    "duration": 5,
    "start_time": "2022-11-27T07:44:12.374Z"
   },
   {
    "duration": 5,
    "start_time": "2022-11-27T07:44:12.381Z"
   },
   {
    "duration": 7,
    "start_time": "2022-11-27T07:44:12.388Z"
   },
   {
    "duration": 12,
    "start_time": "2022-11-27T07:44:12.397Z"
   },
   {
    "duration": 33,
    "start_time": "2022-11-27T07:44:12.439Z"
   },
   {
    "duration": 17,
    "start_time": "2022-11-27T07:44:12.474Z"
   },
   {
    "duration": 16,
    "start_time": "2022-11-27T07:44:12.493Z"
   },
   {
    "duration": 28,
    "start_time": "2022-11-27T07:44:12.511Z"
   },
   {
    "duration": 209,
    "start_time": "2022-11-27T07:44:12.541Z"
   },
   {
    "duration": 21,
    "start_time": "2022-11-27T07:44:12.753Z"
   },
   {
    "duration": 15,
    "start_time": "2022-11-27T07:44:12.775Z"
   },
   {
    "duration": 264,
    "start_time": "2022-11-27T07:44:12.792Z"
   },
   {
    "duration": 10,
    "start_time": "2022-11-27T07:44:13.058Z"
   },
   {
    "duration": 246,
    "start_time": "2022-11-27T07:44:13.069Z"
   },
   {
    "duration": 8,
    "start_time": "2022-11-27T07:44:13.317Z"
   },
   {
    "duration": 285,
    "start_time": "2022-11-27T07:44:13.326Z"
   },
   {
    "duration": 8,
    "start_time": "2022-11-27T07:44:13.612Z"
   },
   {
    "duration": 350,
    "start_time": "2022-11-27T07:44:13.621Z"
   },
   {
    "duration": 9,
    "start_time": "2022-11-27T07:44:13.973Z"
   },
   {
    "duration": 179,
    "start_time": "2022-11-27T07:44:13.983Z"
   },
   {
    "duration": 9,
    "start_time": "2022-11-27T07:44:14.164Z"
   },
   {
    "duration": 249,
    "start_time": "2022-11-27T07:44:14.174Z"
   },
   {
    "duration": 13,
    "start_time": "2022-11-27T07:44:14.425Z"
   },
   {
    "duration": 203,
    "start_time": "2022-11-27T07:44:14.440Z"
   },
   {
    "duration": 11,
    "start_time": "2022-11-27T07:44:14.646Z"
   },
   {
    "duration": 143,
    "start_time": "2022-11-27T07:44:14.659Z"
   },
   {
    "duration": 8,
    "start_time": "2022-11-27T07:44:14.804Z"
   },
   {
    "duration": 188,
    "start_time": "2022-11-27T07:44:14.813Z"
   },
   {
    "duration": 9,
    "start_time": "2022-11-27T07:44:15.003Z"
   },
   {
    "duration": 258,
    "start_time": "2022-11-27T07:44:15.014Z"
   },
   {
    "duration": 11,
    "start_time": "2022-11-27T07:44:15.274Z"
   },
   {
    "duration": 222,
    "start_time": "2022-11-27T07:44:15.287Z"
   },
   {
    "duration": 8,
    "start_time": "2022-11-27T07:44:15.511Z"
   },
   {
    "duration": 247,
    "start_time": "2022-11-27T07:44:15.521Z"
   },
   {
    "duration": 11,
    "start_time": "2022-11-27T07:44:15.770Z"
   },
   {
    "duration": 334,
    "start_time": "2022-11-27T07:44:15.782Z"
   },
   {
    "duration": 23,
    "start_time": "2022-11-27T07:44:16.118Z"
   },
   {
    "duration": 17,
    "start_time": "2022-11-27T07:44:16.143Z"
   },
   {
    "duration": 176,
    "start_time": "2022-11-27T07:44:16.162Z"
   },
   {
    "duration": 14,
    "start_time": "2022-11-27T07:44:16.340Z"
   },
   {
    "duration": 281,
    "start_time": "2022-11-27T07:44:16.355Z"
   },
   {
    "duration": 180,
    "start_time": "2022-11-27T07:44:16.638Z"
   },
   {
    "duration": 173,
    "start_time": "2022-11-27T07:44:16.819Z"
   },
   {
    "duration": 200,
    "start_time": "2022-11-27T07:44:16.994Z"
   },
   {
    "duration": 12,
    "start_time": "2022-11-27T07:44:17.196Z"
   },
   {
    "duration": 143,
    "start_time": "2022-11-27T07:44:17.210Z"
   },
   {
    "duration": 146,
    "start_time": "2022-11-27T07:44:17.355Z"
   },
   {
    "duration": 190,
    "start_time": "2022-11-27T07:44:17.502Z"
   },
   {
    "duration": 174,
    "start_time": "2022-11-27T07:44:17.694Z"
   },
   {
    "duration": 19,
    "start_time": "2022-11-27T07:44:17.870Z"
   },
   {
    "duration": 44,
    "start_time": "2022-11-27T07:44:17.891Z"
   },
   {
    "duration": 67,
    "start_time": "2022-11-27T07:44:17.938Z"
   },
   {
    "duration": 67,
    "start_time": "2022-11-27T07:44:18.006Z"
   },
   {
    "duration": 13,
    "start_time": "2022-11-27T07:44:18.075Z"
   },
   {
    "duration": 197,
    "start_time": "2022-11-27T07:44:18.093Z"
   },
   {
    "duration": 1355,
    "start_time": "2022-11-27T07:44:37.933Z"
   },
   {
    "duration": 113,
    "start_time": "2022-11-27T07:44:39.290Z"
   },
   {
    "duration": 15,
    "start_time": "2022-11-27T07:44:39.404Z"
   },
   {
    "duration": 1968,
    "start_time": "2022-11-27T07:44:39.422Z"
   },
   {
    "duration": 10,
    "start_time": "2022-11-27T07:44:41.392Z"
   },
   {
    "duration": 15,
    "start_time": "2022-11-27T07:44:41.403Z"
   },
   {
    "duration": 26,
    "start_time": "2022-11-27T07:44:41.419Z"
   },
   {
    "duration": 8,
    "start_time": "2022-11-27T07:44:41.447Z"
   },
   {
    "duration": 12,
    "start_time": "2022-11-27T07:44:41.458Z"
   },
   {
    "duration": 12,
    "start_time": "2022-11-27T07:44:41.472Z"
   },
   {
    "duration": 4,
    "start_time": "2022-11-27T07:44:41.485Z"
   },
   {
    "duration": 8,
    "start_time": "2022-11-27T07:44:41.490Z"
   },
   {
    "duration": 4,
    "start_time": "2022-11-27T07:44:41.499Z"
   },
   {
    "duration": 133,
    "start_time": "2022-11-27T07:44:41.505Z"
   },
   {
    "duration": 12,
    "start_time": "2022-11-27T07:44:41.640Z"
   },
   {
    "duration": 52,
    "start_time": "2022-11-27T07:44:41.654Z"
   },
   {
    "duration": 39,
    "start_time": "2022-11-27T07:44:41.708Z"
   },
   {
    "duration": 6,
    "start_time": "2022-11-27T07:44:41.750Z"
   },
   {
    "duration": 23,
    "start_time": "2022-11-27T07:44:41.757Z"
   },
   {
    "duration": 5,
    "start_time": "2022-11-27T07:44:41.781Z"
   },
   {
    "duration": 13,
    "start_time": "2022-11-27T07:44:41.788Z"
   },
   {
    "duration": 13,
    "start_time": "2022-11-27T07:44:41.802Z"
   },
   {
    "duration": 131,
    "start_time": "2022-11-27T07:44:41.842Z"
   },
   {
    "duration": 15,
    "start_time": "2022-11-27T07:44:41.975Z"
   },
   {
    "duration": 8,
    "start_time": "2022-11-27T07:44:41.992Z"
   },
   {
    "duration": 6,
    "start_time": "2022-11-27T07:44:42.001Z"
   },
   {
    "duration": 29,
    "start_time": "2022-11-27T07:44:42.008Z"
   },
   {
    "duration": 8,
    "start_time": "2022-11-27T07:44:42.042Z"
   },
   {
    "duration": 12,
    "start_time": "2022-11-27T07:44:42.051Z"
   },
   {
    "duration": 10,
    "start_time": "2022-11-27T07:44:42.065Z"
   },
   {
    "duration": 7,
    "start_time": "2022-11-27T07:44:42.076Z"
   },
   {
    "duration": 19,
    "start_time": "2022-11-27T07:44:42.084Z"
   },
   {
    "duration": 17,
    "start_time": "2022-11-27T07:44:42.105Z"
   },
   {
    "duration": 22,
    "start_time": "2022-11-27T07:44:42.138Z"
   },
   {
    "duration": 7,
    "start_time": "2022-11-27T07:44:42.162Z"
   },
   {
    "duration": 200,
    "start_time": "2022-11-27T07:44:42.171Z"
   },
   {
    "duration": 15,
    "start_time": "2022-11-27T07:44:42.373Z"
   },
   {
    "duration": 8,
    "start_time": "2022-11-27T07:44:42.390Z"
   },
   {
    "duration": 245,
    "start_time": "2022-11-27T07:44:42.400Z"
   },
   {
    "duration": 10,
    "start_time": "2022-11-27T07:44:42.647Z"
   },
   {
    "duration": 236,
    "start_time": "2022-11-27T07:44:42.659Z"
   },
   {
    "duration": 9,
    "start_time": "2022-11-27T07:44:42.897Z"
   },
   {
    "duration": 288,
    "start_time": "2022-11-27T07:44:42.908Z"
   },
   {
    "duration": 8,
    "start_time": "2022-11-27T07:44:43.197Z"
   },
   {
    "duration": 288,
    "start_time": "2022-11-27T07:44:43.206Z"
   },
   {
    "duration": 8,
    "start_time": "2022-11-27T07:44:43.496Z"
   },
   {
    "duration": 188,
    "start_time": "2022-11-27T07:44:43.505Z"
   },
   {
    "duration": 7,
    "start_time": "2022-11-27T07:44:43.695Z"
   },
   {
    "duration": 263,
    "start_time": "2022-11-27T07:44:43.704Z"
   },
   {
    "duration": 7,
    "start_time": "2022-11-27T07:44:43.969Z"
   },
   {
    "duration": 206,
    "start_time": "2022-11-27T07:44:43.978Z"
   },
   {
    "duration": 8,
    "start_time": "2022-11-27T07:44:44.186Z"
   },
   {
    "duration": 134,
    "start_time": "2022-11-27T07:44:44.196Z"
   },
   {
    "duration": 15,
    "start_time": "2022-11-27T07:44:44.332Z"
   },
   {
    "duration": 185,
    "start_time": "2022-11-27T07:44:44.348Z"
   },
   {
    "duration": 8,
    "start_time": "2022-11-27T07:44:44.537Z"
   },
   {
    "duration": 257,
    "start_time": "2022-11-27T07:44:44.546Z"
   },
   {
    "duration": 8,
    "start_time": "2022-11-27T07:44:44.804Z"
   },
   {
    "duration": 234,
    "start_time": "2022-11-27T07:44:44.814Z"
   },
   {
    "duration": 12,
    "start_time": "2022-11-27T07:44:45.051Z"
   },
   {
    "duration": 234,
    "start_time": "2022-11-27T07:44:45.065Z"
   },
   {
    "duration": 8,
    "start_time": "2022-11-27T07:44:45.301Z"
   },
   {
    "duration": 304,
    "start_time": "2022-11-27T07:44:45.310Z"
   },
   {
    "duration": 7,
    "start_time": "2022-11-27T07:44:45.616Z"
   },
   {
    "duration": 26,
    "start_time": "2022-11-27T07:44:45.625Z"
   },
   {
    "duration": 201,
    "start_time": "2022-11-27T07:44:45.653Z"
   },
   {
    "duration": 10,
    "start_time": "2022-11-27T07:44:45.859Z"
   },
   {
    "duration": 258,
    "start_time": "2022-11-27T07:44:45.871Z"
   },
   {
    "duration": 243,
    "start_time": "2022-11-27T07:44:46.137Z"
   },
   {
    "duration": 163,
    "start_time": "2022-11-27T07:44:46.382Z"
   },
   {
    "duration": 229,
    "start_time": "2022-11-27T07:44:46.548Z"
   },
   {
    "duration": 67,
    "start_time": "2022-11-27T07:44:46.778Z"
   },
   {
    "duration": 168,
    "start_time": "2022-11-27T07:44:46.848Z"
   },
   {
    "duration": 256,
    "start_time": "2022-11-27T07:44:47.018Z"
   },
   {
    "duration": 169,
    "start_time": "2022-11-27T07:44:47.276Z"
   },
   {
    "duration": 149,
    "start_time": "2022-11-27T07:44:47.447Z"
   },
   {
    "duration": 18,
    "start_time": "2022-11-27T07:44:47.597Z"
   },
   {
    "duration": 29,
    "start_time": "2022-11-27T07:44:47.617Z"
   },
   {
    "duration": 18,
    "start_time": "2022-11-27T07:44:47.649Z"
   },
   {
    "duration": 31,
    "start_time": "2022-11-27T07:44:47.668Z"
   },
   {
    "duration": 40,
    "start_time": "2022-11-27T07:44:47.701Z"
   },
   {
    "duration": 164,
    "start_time": "2022-11-27T07:44:47.750Z"
   },
   {
    "duration": 1290,
    "start_time": "2022-11-27T07:45:05.128Z"
   },
   {
    "duration": 132,
    "start_time": "2022-11-27T07:45:06.420Z"
   },
   {
    "duration": 21,
    "start_time": "2022-11-27T07:45:06.553Z"
   },
   {
    "duration": 2063,
    "start_time": "2022-11-27T07:45:06.575Z"
   },
   {
    "duration": 9,
    "start_time": "2022-11-27T07:45:08.641Z"
   },
   {
    "duration": 17,
    "start_time": "2022-11-27T07:45:30.843Z"
   },
   {
    "duration": 13,
    "start_time": "2022-11-27T07:45:31.157Z"
   },
   {
    "duration": 5,
    "start_time": "2022-11-27T07:45:31.327Z"
   },
   {
    "duration": 4,
    "start_time": "2022-11-27T07:45:31.512Z"
   },
   {
    "duration": 21,
    "start_time": "2022-11-27T07:45:31.939Z"
   },
   {
    "duration": 4,
    "start_time": "2022-11-27T07:45:32.467Z"
   },
   {
    "duration": 7,
    "start_time": "2022-11-27T07:45:33.016Z"
   },
   {
    "duration": 5,
    "start_time": "2022-11-27T07:45:33.201Z"
   },
   {
    "duration": 8,
    "start_time": "2022-11-27T07:45:34.220Z"
   },
   {
    "duration": 10,
    "start_time": "2022-11-27T07:45:34.838Z"
   },
   {
    "duration": 146,
    "start_time": "2022-11-27T07:45:37.078Z"
   },
   {
    "duration": 24,
    "start_time": "2022-11-27T07:45:38.942Z"
   },
   {
    "duration": 6,
    "start_time": "2022-11-27T07:45:42.743Z"
   },
   {
    "duration": 18,
    "start_time": "2022-11-27T07:45:45.383Z"
   },
   {
    "duration": 12,
    "start_time": "2022-11-27T07:45:48.305Z"
   },
   {
    "duration": 1184,
    "start_time": "2022-11-27T07:47:05.359Z"
   },
   {
    "duration": 116,
    "start_time": "2022-11-27T07:47:06.545Z"
   },
   {
    "duration": 14,
    "start_time": "2022-11-27T07:47:06.663Z"
   },
   {
    "duration": 2069,
    "start_time": "2022-11-27T07:47:06.678Z"
   },
   {
    "duration": 10,
    "start_time": "2022-11-27T07:47:08.750Z"
   },
   {
    "duration": 27,
    "start_time": "2022-11-27T07:47:08.762Z"
   },
   {
    "duration": 23,
    "start_time": "2022-11-27T07:47:08.791Z"
   },
   {
    "duration": 21,
    "start_time": "2022-11-27T07:47:08.815Z"
   },
   {
    "duration": 41,
    "start_time": "2022-11-27T07:47:08.838Z"
   },
   {
    "duration": 38,
    "start_time": "2022-11-27T07:47:08.881Z"
   },
   {
    "duration": 49,
    "start_time": "2022-11-27T07:47:08.921Z"
   },
   {
    "duration": 22,
    "start_time": "2022-11-27T07:47:08.972Z"
   },
   {
    "duration": 29,
    "start_time": "2022-11-27T07:47:08.996Z"
   },
   {
    "duration": 10,
    "start_time": "2022-11-27T07:47:09.144Z"
   },
   {
    "duration": 32,
    "start_time": "2022-11-27T07:47:09.156Z"
   },
   {
    "duration": 64,
    "start_time": "2022-11-27T07:47:09.189Z"
   },
   {
    "duration": 5,
    "start_time": "2022-11-27T07:47:09.255Z"
   },
   {
    "duration": 32,
    "start_time": "2022-11-27T07:47:09.262Z"
   },
   {
    "duration": 11,
    "start_time": "2022-11-27T07:47:09.296Z"
   },
   {
    "duration": 11,
    "start_time": "2022-11-27T07:47:09.308Z"
   },
   {
    "duration": 40,
    "start_time": "2022-11-27T07:47:09.320Z"
   },
   {
    "duration": 168,
    "start_time": "2022-11-27T07:47:09.362Z"
   },
   {
    "duration": 31,
    "start_time": "2022-11-27T07:47:09.532Z"
   },
   {
    "duration": 24,
    "start_time": "2022-11-27T07:47:09.565Z"
   },
   {
    "duration": 23,
    "start_time": "2022-11-27T07:47:09.591Z"
   },
   {
    "duration": 22,
    "start_time": "2022-11-27T07:47:09.616Z"
   },
   {
    "duration": 30,
    "start_time": "2022-11-27T07:47:09.640Z"
   },
   {
    "duration": 28,
    "start_time": "2022-11-27T07:47:09.672Z"
   },
   {
    "duration": 24,
    "start_time": "2022-11-27T07:47:09.701Z"
   },
   {
    "duration": 29,
    "start_time": "2022-11-27T07:47:09.727Z"
   },
   {
    "duration": 26,
    "start_time": "2022-11-27T07:47:09.759Z"
   },
   {
    "duration": 21,
    "start_time": "2022-11-27T07:47:09.786Z"
   },
   {
    "duration": 19,
    "start_time": "2022-11-27T07:47:09.809Z"
   },
   {
    "duration": 9,
    "start_time": "2022-11-27T07:47:09.830Z"
   },
   {
    "duration": 201,
    "start_time": "2022-11-27T07:47:09.841Z"
   },
   {
    "duration": 19,
    "start_time": "2022-11-27T07:47:10.043Z"
   },
   {
    "duration": 11,
    "start_time": "2022-11-27T07:47:10.065Z"
   },
   {
    "duration": 247,
    "start_time": "2022-11-27T07:47:10.077Z"
   },
   {
    "duration": 13,
    "start_time": "2022-11-27T07:47:10.326Z"
   },
   {
    "duration": 217,
    "start_time": "2022-11-27T07:47:10.341Z"
   },
   {
    "duration": 8,
    "start_time": "2022-11-27T07:47:10.566Z"
   },
   {
    "duration": 298,
    "start_time": "2022-11-27T07:47:10.575Z"
   },
   {
    "duration": 8,
    "start_time": "2022-11-27T07:47:10.875Z"
   },
   {
    "duration": 319,
    "start_time": "2022-11-27T07:47:10.884Z"
   },
   {
    "duration": 8,
    "start_time": "2022-11-27T07:47:11.204Z"
   },
   {
    "duration": 153,
    "start_time": "2022-11-27T07:47:11.214Z"
   },
   {
    "duration": 7,
    "start_time": "2022-11-27T07:47:11.369Z"
   },
   {
    "duration": 161,
    "start_time": "2022-11-27T07:47:11.378Z"
   },
   {
    "duration": 13,
    "start_time": "2022-11-27T07:47:11.541Z"
   },
   {
    "duration": 294,
    "start_time": "2022-11-27T07:47:11.556Z"
   },
   {
    "duration": 14,
    "start_time": "2022-11-27T07:47:11.853Z"
   },
   {
    "duration": 124,
    "start_time": "2022-11-27T07:47:11.869Z"
   },
   {
    "duration": 9,
    "start_time": "2022-11-27T07:47:11.994Z"
   },
   {
    "duration": 208,
    "start_time": "2022-11-27T07:47:12.005Z"
   },
   {
    "duration": 9,
    "start_time": "2022-11-27T07:47:12.214Z"
   },
   {
    "duration": 232,
    "start_time": "2022-11-27T07:47:12.225Z"
   },
   {
    "duration": 10,
    "start_time": "2022-11-27T07:47:12.460Z"
   },
   {
    "duration": 236,
    "start_time": "2022-11-27T07:47:12.472Z"
   },
   {
    "duration": 8,
    "start_time": "2022-11-27T07:47:12.710Z"
   },
   {
    "duration": 238,
    "start_time": "2022-11-27T07:47:12.720Z"
   },
   {
    "duration": 9,
    "start_time": "2022-11-27T07:47:12.960Z"
   },
   {
    "duration": 316,
    "start_time": "2022-11-27T07:47:12.970Z"
   },
   {
    "duration": 8,
    "start_time": "2022-11-27T07:47:13.288Z"
   },
   {
    "duration": 35,
    "start_time": "2022-11-27T07:47:13.298Z"
   },
   {
    "duration": 192,
    "start_time": "2022-11-27T07:47:13.335Z"
   },
   {
    "duration": 9,
    "start_time": "2022-11-27T07:47:13.529Z"
   },
   {
    "duration": 206,
    "start_time": "2022-11-27T07:47:13.540Z"
   },
   {
    "duration": 188,
    "start_time": "2022-11-27T07:47:13.749Z"
   },
   {
    "duration": 265,
    "start_time": "2022-11-27T07:47:13.939Z"
   },
   {
    "duration": 185,
    "start_time": "2022-11-27T07:47:14.206Z"
   },
   {
    "duration": 12,
    "start_time": "2022-11-27T07:47:14.392Z"
   },
   {
    "duration": 125,
    "start_time": "2022-11-27T07:47:14.405Z"
   },
   {
    "duration": 158,
    "start_time": "2022-11-27T07:47:14.536Z"
   },
   {
    "duration": 175,
    "start_time": "2022-11-27T07:47:14.696Z"
   },
   {
    "duration": 143,
    "start_time": "2022-11-27T07:47:14.872Z"
   },
   {
    "duration": 32,
    "start_time": "2022-11-27T07:47:15.016Z"
   },
   {
    "duration": 14,
    "start_time": "2022-11-27T07:47:15.051Z"
   },
   {
    "duration": 13,
    "start_time": "2022-11-27T07:47:15.067Z"
   },
   {
    "duration": 34,
    "start_time": "2022-11-27T07:47:15.082Z"
   },
   {
    "duration": 41,
    "start_time": "2022-11-27T07:47:15.118Z"
   },
   {
    "duration": 173,
    "start_time": "2022-11-27T07:47:15.161Z"
   },
   {
    "duration": 79,
    "start_time": "2022-11-27T07:47:52.917Z"
   },
   {
    "duration": 173,
    "start_time": "2022-11-27T07:54:01.121Z"
   },
   {
    "duration": 50,
    "start_time": "2022-11-27T09:23:48.545Z"
   },
   {
    "duration": 1516,
    "start_time": "2022-11-27T09:24:01.778Z"
   },
   {
    "duration": 333,
    "start_time": "2022-11-27T09:24:03.296Z"
   },
   {
    "duration": 18,
    "start_time": "2022-11-27T09:24:03.631Z"
   },
   {
    "duration": 2030,
    "start_time": "2022-11-27T09:24:03.651Z"
   },
   {
    "duration": 10,
    "start_time": "2022-11-27T09:24:05.684Z"
   },
   {
    "duration": 55,
    "start_time": "2022-11-27T09:24:05.696Z"
   },
   {
    "duration": 28,
    "start_time": "2022-11-27T09:24:05.753Z"
   },
   {
    "duration": 81,
    "start_time": "2022-11-27T09:24:05.783Z"
   },
   {
    "duration": 23,
    "start_time": "2022-11-27T09:24:05.866Z"
   },
   {
    "duration": 47,
    "start_time": "2022-11-27T09:24:05.890Z"
   },
   {
    "duration": 17,
    "start_time": "2022-11-27T09:24:05.939Z"
   },
   {
    "duration": 25,
    "start_time": "2022-11-27T09:24:05.958Z"
   },
   {
    "duration": 20,
    "start_time": "2022-11-27T09:24:05.985Z"
   },
   {
    "duration": 8,
    "start_time": "2022-11-27T09:24:06.104Z"
   },
   {
    "duration": 20,
    "start_time": "2022-11-27T09:24:06.113Z"
   },
   {
    "duration": 82,
    "start_time": "2022-11-27T09:24:06.135Z"
   },
   {
    "duration": 6,
    "start_time": "2022-11-27T09:24:06.218Z"
   },
   {
    "duration": 74,
    "start_time": "2022-11-27T09:24:06.225Z"
   },
   {
    "duration": 22,
    "start_time": "2022-11-27T09:24:06.301Z"
   },
   {
    "duration": 41,
    "start_time": "2022-11-27T09:24:06.325Z"
   },
   {
    "duration": 40,
    "start_time": "2022-11-27T09:24:06.368Z"
   },
   {
    "duration": 258,
    "start_time": "2022-11-27T09:24:06.409Z"
   },
   {
    "duration": 37,
    "start_time": "2022-11-27T09:24:06.670Z"
   },
   {
    "duration": 34,
    "start_time": "2022-11-27T09:24:06.710Z"
   },
   {
    "duration": 21,
    "start_time": "2022-11-27T09:24:06.748Z"
   },
   {
    "duration": 35,
    "start_time": "2022-11-27T09:24:06.771Z"
   },
   {
    "duration": 41,
    "start_time": "2022-11-27T09:24:06.808Z"
   },
   {
    "duration": 21,
    "start_time": "2022-11-27T09:24:06.851Z"
   },
   {
    "duration": 43,
    "start_time": "2022-11-27T09:24:06.874Z"
   },
   {
    "duration": 109,
    "start_time": "2022-11-27T09:24:06.919Z"
   },
   {
    "duration": 161,
    "start_time": "2022-11-27T09:24:07.029Z"
   },
   {
    "duration": 5,
    "start_time": "2022-11-27T09:24:07.192Z"
   },
   {
    "duration": 45,
    "start_time": "2022-11-27T09:24:07.199Z"
   },
   {
    "duration": 26,
    "start_time": "2022-11-27T09:24:07.246Z"
   },
   {
    "duration": 59,
    "start_time": "2022-11-27T09:24:07.273Z"
   },
   {
    "duration": 27,
    "start_time": "2022-11-27T09:24:07.334Z"
   },
   {
    "duration": 411,
    "start_time": "2022-11-27T09:24:07.363Z"
   },
   {
    "duration": 19,
    "start_time": "2022-11-27T09:24:07.775Z"
   },
   {
    "duration": 21,
    "start_time": "2022-11-27T09:24:07.796Z"
   },
   {
    "duration": 348,
    "start_time": "2022-11-27T09:24:07.819Z"
   },
   {
    "duration": 10,
    "start_time": "2022-11-27T09:24:08.174Z"
   },
   {
    "duration": 274,
    "start_time": "2022-11-27T09:24:08.186Z"
   },
   {
    "duration": 11,
    "start_time": "2022-11-27T09:24:08.463Z"
   },
   {
    "duration": 306,
    "start_time": "2022-11-27T09:24:08.475Z"
   },
   {
    "duration": 10,
    "start_time": "2022-11-27T09:24:08.784Z"
   },
   {
    "duration": 390,
    "start_time": "2022-11-27T09:24:08.796Z"
   },
   {
    "duration": 9,
    "start_time": "2022-11-27T09:24:09.188Z"
   },
   {
    "duration": 184,
    "start_time": "2022-11-27T09:24:09.198Z"
   },
   {
    "duration": 9,
    "start_time": "2022-11-27T09:24:09.384Z"
   },
   {
    "duration": 195,
    "start_time": "2022-11-27T09:24:09.395Z"
   },
   {
    "duration": 11,
    "start_time": "2022-11-27T09:24:09.592Z"
   },
   {
    "duration": 261,
    "start_time": "2022-11-27T09:24:09.605Z"
   },
   {
    "duration": 8,
    "start_time": "2022-11-27T09:24:09.868Z"
   },
   {
    "duration": 149,
    "start_time": "2022-11-27T09:24:09.877Z"
   },
   {
    "duration": 29,
    "start_time": "2022-11-27T09:24:10.028Z"
   },
   {
    "duration": 226,
    "start_time": "2022-11-27T09:24:10.059Z"
   },
   {
    "duration": 9,
    "start_time": "2022-11-27T09:24:10.287Z"
   },
   {
    "duration": 300,
    "start_time": "2022-11-27T09:24:10.298Z"
   },
   {
    "duration": 10,
    "start_time": "2022-11-27T09:24:10.599Z"
   },
   {
    "duration": 268,
    "start_time": "2022-11-27T09:24:10.610Z"
   },
   {
    "duration": 12,
    "start_time": "2022-11-27T09:24:10.880Z"
   },
   {
    "duration": 236,
    "start_time": "2022-11-27T09:24:10.893Z"
   },
   {
    "duration": 20,
    "start_time": "2022-11-27T09:24:11.135Z"
   },
   {
    "duration": 456,
    "start_time": "2022-11-27T09:24:11.157Z"
   },
   {
    "duration": 8,
    "start_time": "2022-11-27T09:24:11.615Z"
   },
   {
    "duration": 20,
    "start_time": "2022-11-27T09:24:11.624Z"
   },
   {
    "duration": 171,
    "start_time": "2022-11-27T09:24:11.647Z"
   },
   {
    "duration": 18,
    "start_time": "2022-11-27T09:24:11.820Z"
   },
   {
    "duration": 210,
    "start_time": "2022-11-27T09:24:11.841Z"
   },
   {
    "duration": 211,
    "start_time": "2022-11-27T09:24:12.053Z"
   },
   {
    "duration": 225,
    "start_time": "2022-11-27T09:24:12.266Z"
   },
   {
    "duration": 271,
    "start_time": "2022-11-27T09:24:12.493Z"
   },
   {
    "duration": 16,
    "start_time": "2022-11-27T09:24:12.765Z"
   },
   {
    "duration": 140,
    "start_time": "2022-11-27T09:24:12.783Z"
   },
   {
    "duration": 151,
    "start_time": "2022-11-27T09:24:12.925Z"
   },
   {
    "duration": 184,
    "start_time": "2022-11-27T09:24:13.078Z"
   },
   {
    "duration": 160,
    "start_time": "2022-11-27T09:24:13.264Z"
   },
   {
    "duration": 30,
    "start_time": "2022-11-27T09:24:13.425Z"
   },
   {
    "duration": 12,
    "start_time": "2022-11-27T09:24:13.461Z"
   },
   {
    "duration": 16,
    "start_time": "2022-11-27T09:24:13.475Z"
   },
   {
    "duration": 57,
    "start_time": "2022-11-27T09:24:13.492Z"
   },
   {
    "duration": 18,
    "start_time": "2022-11-27T09:24:13.551Z"
   },
   {
    "duration": 173,
    "start_time": "2022-11-27T09:24:13.571Z"
   },
   {
    "duration": 11,
    "start_time": "2022-11-27T09:24:53.971Z"
   },
   {
    "duration": 104,
    "start_time": "2022-11-27T09:25:28.400Z"
   },
   {
    "duration": 6,
    "start_time": "2022-11-27T09:25:51.432Z"
   },
   {
    "duration": 6,
    "start_time": "2022-11-27T09:25:54.584Z"
   },
   {
    "duration": 10,
    "start_time": "2022-11-27T09:25:56.354Z"
   },
   {
    "duration": 5,
    "start_time": "2022-11-27T09:26:04.327Z"
   },
   {
    "duration": 5,
    "start_time": "2022-11-27T09:26:06.792Z"
   },
   {
    "duration": 82,
    "start_time": "2022-11-27T09:26:10.452Z"
   },
   {
    "duration": 32,
    "start_time": "2022-11-27T09:30:45.093Z"
   },
   {
    "duration": 35,
    "start_time": "2022-11-27T09:31:09.696Z"
   },
   {
    "duration": 9,
    "start_time": "2022-11-27T09:31:29.219Z"
   },
   {
    "duration": 14,
    "start_time": "2022-11-27T09:31:51.250Z"
   },
   {
    "duration": 5,
    "start_time": "2022-11-27T09:35:05.267Z"
   },
   {
    "duration": 19,
    "start_time": "2022-11-27T09:35:56.994Z"
   },
   {
    "duration": 22,
    "start_time": "2022-11-27T09:36:29.656Z"
   },
   {
    "duration": 7,
    "start_time": "2022-11-27T09:41:54.638Z"
   },
   {
    "duration": 4,
    "start_time": "2022-11-27T09:42:15.236Z"
   },
   {
    "duration": 6,
    "start_time": "2022-11-27T09:42:25.118Z"
   },
   {
    "duration": 4,
    "start_time": "2022-11-27T09:42:26.477Z"
   },
   {
    "duration": 6,
    "start_time": "2022-11-27T09:42:42.100Z"
   },
   {
    "duration": 6,
    "start_time": "2022-11-27T09:42:46.102Z"
   },
   {
    "duration": 4,
    "start_time": "2022-11-27T09:42:48.578Z"
   },
   {
    "duration": 96,
    "start_time": "2022-11-27T09:43:15.322Z"
   },
   {
    "duration": 7,
    "start_time": "2022-11-27T09:43:51.817Z"
   },
   {
    "duration": 4,
    "start_time": "2022-11-27T09:43:54.849Z"
   },
   {
    "duration": 9,
    "start_time": "2022-11-27T09:43:59.623Z"
   },
   {
    "duration": 8,
    "start_time": "2022-11-27T09:44:01.011Z"
   },
   {
    "duration": 2,
    "start_time": "2022-11-27T09:44:05.219Z"
   },
   {
    "duration": 122,
    "start_time": "2022-11-27T09:44:05.223Z"
   },
   {
    "duration": 15,
    "start_time": "2022-11-27T09:44:05.348Z"
   },
   {
    "duration": 2020,
    "start_time": "2022-11-27T09:44:05.365Z"
   },
   {
    "duration": 10,
    "start_time": "2022-11-27T09:44:07.387Z"
   },
   {
    "duration": 15,
    "start_time": "2022-11-27T09:44:07.399Z"
   },
   {
    "duration": 21,
    "start_time": "2022-11-27T09:44:07.415Z"
   },
   {
    "duration": 5,
    "start_time": "2022-11-27T09:44:07.438Z"
   },
   {
    "duration": 29,
    "start_time": "2022-11-27T09:44:07.445Z"
   },
   {
    "duration": 18,
    "start_time": "2022-11-27T09:44:07.476Z"
   },
   {
    "duration": 4,
    "start_time": "2022-11-27T09:44:07.497Z"
   },
   {
    "duration": 11,
    "start_time": "2022-11-27T09:44:07.502Z"
   },
   {
    "duration": 25,
    "start_time": "2022-11-27T09:44:07.515Z"
   },
   {
    "duration": 9,
    "start_time": "2022-11-27T09:44:07.542Z"
   },
   {
    "duration": 103,
    "start_time": "2022-11-27T09:44:07.553Z"
   },
   {
    "duration": 42,
    "start_time": "2022-11-27T09:44:07.657Z"
   },
   {
    "duration": 5,
    "start_time": "2022-11-27T09:44:07.701Z"
   },
   {
    "duration": 42,
    "start_time": "2022-11-27T09:44:07.708Z"
   },
   {
    "duration": 8,
    "start_time": "2022-11-27T09:44:07.752Z"
   },
   {
    "duration": 8,
    "start_time": "2022-11-27T09:44:07.761Z"
   },
   {
    "duration": 20,
    "start_time": "2022-11-27T09:44:07.771Z"
   },
   {
    "duration": 251,
    "start_time": "2022-11-27T09:44:07.792Z"
   },
   {
    "duration": 27,
    "start_time": "2022-11-27T09:44:08.045Z"
   },
   {
    "duration": 17,
    "start_time": "2022-11-27T09:44:08.074Z"
   },
   {
    "duration": 6,
    "start_time": "2022-11-27T09:44:08.093Z"
   },
   {
    "duration": 15,
    "start_time": "2022-11-27T09:44:08.101Z"
   },
   {
    "duration": 19,
    "start_time": "2022-11-27T09:44:08.118Z"
   },
   {
    "duration": 4,
    "start_time": "2022-11-27T09:44:08.139Z"
   },
   {
    "duration": 14,
    "start_time": "2022-11-27T09:44:08.147Z"
   },
   {
    "duration": 68,
    "start_time": "2022-11-27T09:44:08.163Z"
   },
   {
    "duration": 146,
    "start_time": "2022-11-27T09:44:08.234Z"
   },
   {
    "duration": 7,
    "start_time": "2022-11-27T09:44:08.382Z"
   },
   {
    "duration": 15,
    "start_time": "2022-11-27T09:44:08.391Z"
   },
   {
    "duration": 13,
    "start_time": "2022-11-27T09:44:08.407Z"
   },
   {
    "duration": 33,
    "start_time": "2022-11-27T09:44:08.422Z"
   },
   {
    "duration": 30,
    "start_time": "2022-11-27T09:44:08.457Z"
   },
   {
    "duration": 19,
    "start_time": "2022-11-27T09:44:08.488Z"
   },
   {
    "duration": 29,
    "start_time": "2022-11-27T09:44:08.509Z"
   },
   {
    "duration": 5,
    "start_time": "2022-11-27T09:44:08.540Z"
   },
   {
    "duration": 328,
    "start_time": "2022-11-27T09:44:08.547Z"
   },
   {
    "duration": 21,
    "start_time": "2022-11-27T09:44:08.876Z"
   },
   {
    "duration": 10,
    "start_time": "2022-11-27T09:44:08.898Z"
   },
   {
    "duration": 241,
    "start_time": "2022-11-27T09:44:08.909Z"
   },
   {
    "duration": 10,
    "start_time": "2022-11-27T09:44:09.152Z"
   },
   {
    "duration": 219,
    "start_time": "2022-11-27T09:44:09.163Z"
   },
   {
    "duration": 8,
    "start_time": "2022-11-27T09:44:09.384Z"
   },
   {
    "duration": 247,
    "start_time": "2022-11-27T09:44:09.394Z"
   },
   {
    "duration": 8,
    "start_time": "2022-11-27T09:44:09.643Z"
   },
   {
    "duration": 272,
    "start_time": "2022-11-27T09:44:09.652Z"
   },
   {
    "duration": 14,
    "start_time": "2022-11-27T09:44:09.926Z"
   },
   {
    "duration": 239,
    "start_time": "2022-11-27T09:44:09.941Z"
   },
   {
    "duration": 9,
    "start_time": "2022-11-27T09:44:10.182Z"
   },
   {
    "duration": 160,
    "start_time": "2022-11-27T09:44:10.192Z"
   },
   {
    "duration": 9,
    "start_time": "2022-11-27T09:44:10.354Z"
   },
   {
    "duration": 177,
    "start_time": "2022-11-27T09:44:10.365Z"
   },
   {
    "duration": 8,
    "start_time": "2022-11-27T09:44:10.544Z"
   },
   {
    "duration": 135,
    "start_time": "2022-11-27T09:44:10.553Z"
   },
   {
    "duration": 9,
    "start_time": "2022-11-27T09:44:10.690Z"
   },
   {
    "duration": 167,
    "start_time": "2022-11-27T09:44:10.701Z"
   },
   {
    "duration": 8,
    "start_time": "2022-11-27T09:44:10.870Z"
   },
   {
    "duration": 217,
    "start_time": "2022-11-27T09:44:10.880Z"
   },
   {
    "duration": 10,
    "start_time": "2022-11-27T09:44:11.099Z"
   },
   {
    "duration": 205,
    "start_time": "2022-11-27T09:44:11.110Z"
   },
   {
    "duration": 9,
    "start_time": "2022-11-27T09:44:11.316Z"
   },
   {
    "duration": 209,
    "start_time": "2022-11-27T09:44:11.326Z"
   },
   {
    "duration": 9,
    "start_time": "2022-11-27T09:44:11.537Z"
   },
   {
    "duration": 310,
    "start_time": "2022-11-27T09:44:11.547Z"
   },
   {
    "duration": 8,
    "start_time": "2022-11-27T09:44:11.859Z"
   },
   {
    "duration": 8,
    "start_time": "2022-11-27T09:44:11.868Z"
   },
   {
    "duration": 250,
    "start_time": "2022-11-27T09:44:11.878Z"
   },
   {
    "duration": 12,
    "start_time": "2022-11-27T09:44:12.130Z"
   },
   {
    "duration": 193,
    "start_time": "2022-11-27T09:44:12.144Z"
   },
   {
    "duration": 218,
    "start_time": "2022-11-27T09:44:12.339Z"
   },
   {
    "duration": 197,
    "start_time": "2022-11-27T09:44:12.559Z"
   },
   {
    "duration": 160,
    "start_time": "2022-11-27T09:44:12.758Z"
   },
   {
    "duration": 24,
    "start_time": "2022-11-27T09:44:12.920Z"
   },
   {
    "duration": 131,
    "start_time": "2022-11-27T09:44:12.946Z"
   },
   {
    "duration": 139,
    "start_time": "2022-11-27T09:44:13.078Z"
   },
   {
    "duration": 161,
    "start_time": "2022-11-27T09:44:13.218Z"
   },
   {
    "duration": 142,
    "start_time": "2022-11-27T09:44:13.380Z"
   },
   {
    "duration": 25,
    "start_time": "2022-11-27T09:44:13.524Z"
   },
   {
    "duration": 10,
    "start_time": "2022-11-27T09:44:13.550Z"
   },
   {
    "duration": 10,
    "start_time": "2022-11-27T09:44:13.565Z"
   },
   {
    "duration": 38,
    "start_time": "2022-11-27T09:44:13.576Z"
   },
   {
    "duration": 30,
    "start_time": "2022-11-27T09:44:13.616Z"
   },
   {
    "duration": 148,
    "start_time": "2022-11-27T09:44:13.648Z"
   },
   {
    "duration": 11,
    "start_time": "2022-11-27T09:46:50.120Z"
   },
   {
    "duration": 5,
    "start_time": "2022-11-27T09:46:51.562Z"
   },
   {
    "duration": 3,
    "start_time": "2022-11-27T09:47:01.230Z"
   },
   {
    "duration": 127,
    "start_time": "2022-11-27T09:47:01.240Z"
   },
   {
    "duration": 14,
    "start_time": "2022-11-27T09:47:01.369Z"
   },
   {
    "duration": 2064,
    "start_time": "2022-11-27T09:47:01.385Z"
   },
   {
    "duration": 10,
    "start_time": "2022-11-27T09:47:03.452Z"
   },
   {
    "duration": 22,
    "start_time": "2022-11-27T09:47:03.464Z"
   },
   {
    "duration": 24,
    "start_time": "2022-11-27T09:47:03.488Z"
   },
   {
    "duration": 9,
    "start_time": "2022-11-27T09:47:03.513Z"
   },
   {
    "duration": 11,
    "start_time": "2022-11-27T09:47:03.524Z"
   },
   {
    "duration": 10,
    "start_time": "2022-11-27T09:47:03.537Z"
   },
   {
    "duration": 14,
    "start_time": "2022-11-27T09:47:03.549Z"
   },
   {
    "duration": 9,
    "start_time": "2022-11-27T09:47:03.564Z"
   },
   {
    "duration": 5,
    "start_time": "2022-11-27T09:47:03.575Z"
   },
   {
    "duration": 11,
    "start_time": "2022-11-27T09:47:03.582Z"
   },
   {
    "duration": 10,
    "start_time": "2022-11-27T09:47:03.594Z"
   },
   {
    "duration": 55,
    "start_time": "2022-11-27T09:47:03.606Z"
   },
   {
    "duration": 4,
    "start_time": "2022-11-27T09:47:03.663Z"
   },
   {
    "duration": 13,
    "start_time": "2022-11-27T09:47:03.668Z"
   },
   {
    "duration": 17,
    "start_time": "2022-11-27T09:47:03.682Z"
   },
   {
    "duration": 7,
    "start_time": "2022-11-27T09:47:03.700Z"
   },
   {
    "duration": 37,
    "start_time": "2022-11-27T09:47:03.708Z"
   },
   {
    "duration": 222,
    "start_time": "2022-11-27T09:47:03.747Z"
   },
   {
    "duration": 27,
    "start_time": "2022-11-27T09:47:03.971Z"
   },
   {
    "duration": 13,
    "start_time": "2022-11-27T09:47:04.000Z"
   },
   {
    "duration": 24,
    "start_time": "2022-11-27T09:47:04.014Z"
   },
   {
    "duration": 5,
    "start_time": "2022-11-27T09:47:04.040Z"
   },
   {
    "duration": 7,
    "start_time": "2022-11-27T09:47:04.046Z"
   },
   {
    "duration": 4,
    "start_time": "2022-11-27T09:47:04.055Z"
   },
   {
    "duration": 6,
    "start_time": "2022-11-27T09:47:04.063Z"
   },
   {
    "duration": 78,
    "start_time": "2022-11-27T09:47:04.071Z"
   },
   {
    "duration": 143,
    "start_time": "2022-11-27T09:47:04.150Z"
   },
   {
    "duration": 7,
    "start_time": "2022-11-27T09:47:04.294Z"
   },
   {
    "duration": 8,
    "start_time": "2022-11-27T09:47:04.303Z"
   },
   {
    "duration": 22,
    "start_time": "2022-11-27T09:47:04.313Z"
   },
   {
    "duration": 3,
    "start_time": "2022-11-27T09:47:04.337Z"
   },
   {
    "duration": 13,
    "start_time": "2022-11-27T09:47:04.342Z"
   },
   {
    "duration": 21,
    "start_time": "2022-11-27T09:47:04.357Z"
   },
   {
    "duration": 17,
    "start_time": "2022-11-27T09:47:04.379Z"
   },
   {
    "duration": 43,
    "start_time": "2022-11-27T09:47:04.397Z"
   },
   {
    "duration": 5,
    "start_time": "2022-11-27T09:47:04.442Z"
   },
   {
    "duration": 399,
    "start_time": "2022-11-27T09:47:04.448Z"
   },
   {
    "duration": 26,
    "start_time": "2022-11-27T09:47:04.848Z"
   },
   {
    "duration": 20,
    "start_time": "2022-11-27T09:47:04.876Z"
   },
   {
    "duration": 239,
    "start_time": "2022-11-27T09:47:04.898Z"
   },
   {
    "duration": 9,
    "start_time": "2022-11-27T09:47:05.140Z"
   },
   {
    "duration": 215,
    "start_time": "2022-11-27T09:47:05.151Z"
   },
   {
    "duration": 8,
    "start_time": "2022-11-27T09:47:05.367Z"
   },
   {
    "duration": 258,
    "start_time": "2022-11-27T09:47:05.377Z"
   },
   {
    "duration": 8,
    "start_time": "2022-11-27T09:47:05.637Z"
   },
   {
    "duration": 278,
    "start_time": "2022-11-27T09:47:05.647Z"
   },
   {
    "duration": 12,
    "start_time": "2022-11-27T09:47:05.927Z"
   },
   {
    "duration": 160,
    "start_time": "2022-11-27T09:47:05.941Z"
   },
   {
    "duration": 8,
    "start_time": "2022-11-27T09:47:06.102Z"
   },
   {
    "duration": 163,
    "start_time": "2022-11-27T09:47:06.112Z"
   },
   {
    "duration": 8,
    "start_time": "2022-11-27T09:47:06.276Z"
   },
   {
    "duration": 180,
    "start_time": "2022-11-27T09:47:06.286Z"
   },
   {
    "duration": 8,
    "start_time": "2022-11-27T09:47:06.468Z"
   },
   {
    "duration": 229,
    "start_time": "2022-11-27T09:47:06.478Z"
   },
   {
    "duration": 12,
    "start_time": "2022-11-27T09:47:06.708Z"
   },
   {
    "duration": 173,
    "start_time": "2022-11-27T09:47:06.736Z"
   },
   {
    "duration": 9,
    "start_time": "2022-11-27T09:47:06.911Z"
   },
   {
    "duration": 228,
    "start_time": "2022-11-27T09:47:06.921Z"
   },
   {
    "duration": 9,
    "start_time": "2022-11-27T09:47:07.150Z"
   },
   {
    "duration": 223,
    "start_time": "2022-11-27T09:47:07.160Z"
   },
   {
    "duration": 8,
    "start_time": "2022-11-27T09:47:07.385Z"
   },
   {
    "duration": 207,
    "start_time": "2022-11-27T09:47:07.395Z"
   },
   {
    "duration": 8,
    "start_time": "2022-11-27T09:47:07.604Z"
   },
   {
    "duration": 298,
    "start_time": "2022-11-27T09:47:07.614Z"
   },
   {
    "duration": 7,
    "start_time": "2022-11-27T09:47:07.914Z"
   },
   {
    "duration": 20,
    "start_time": "2022-11-27T09:47:07.922Z"
   },
   {
    "duration": 159,
    "start_time": "2022-11-27T09:47:07.944Z"
   },
   {
    "duration": 8,
    "start_time": "2022-11-27T09:47:08.105Z"
   },
   {
    "duration": 172,
    "start_time": "2022-11-27T09:47:08.114Z"
   },
   {
    "duration": 172,
    "start_time": "2022-11-27T09:47:08.288Z"
   },
   {
    "duration": 253,
    "start_time": "2022-11-27T09:47:08.461Z"
   },
   {
    "duration": 144,
    "start_time": "2022-11-27T09:47:08.716Z"
   },
   {
    "duration": 15,
    "start_time": "2022-11-27T09:47:08.862Z"
   },
   {
    "duration": 128,
    "start_time": "2022-11-27T09:47:08.879Z"
   },
   {
    "duration": 128,
    "start_time": "2022-11-27T09:47:09.009Z"
   },
   {
    "duration": 155,
    "start_time": "2022-11-27T09:47:09.138Z"
   },
   {
    "duration": 142,
    "start_time": "2022-11-27T09:47:09.295Z"
   },
   {
    "duration": 20,
    "start_time": "2022-11-27T09:47:09.439Z"
   },
   {
    "duration": 10,
    "start_time": "2022-11-27T09:47:09.464Z"
   },
   {
    "duration": 22,
    "start_time": "2022-11-27T09:47:09.476Z"
   },
   {
    "duration": 50,
    "start_time": "2022-11-27T09:47:09.499Z"
   },
   {
    "duration": 14,
    "start_time": "2022-11-27T09:47:09.551Z"
   },
   {
    "duration": 156,
    "start_time": "2022-11-27T09:47:09.567Z"
   },
   {
    "duration": 210,
    "start_time": "2022-11-27T09:48:18.765Z"
   },
   {
    "duration": 214,
    "start_time": "2022-11-27T09:49:20.181Z"
   },
   {
    "duration": 245,
    "start_time": "2022-11-27T09:49:52.852Z"
   },
   {
    "duration": 14,
    "start_time": "2022-11-27T09:50:14.428Z"
   },
   {
    "duration": 9,
    "start_time": "2022-11-27T09:50:25.005Z"
   },
   {
    "duration": 9,
    "start_time": "2022-11-27T09:50:34.112Z"
   },
   {
    "duration": 381,
    "start_time": "2022-11-27T09:50:40.230Z"
   },
   {
    "duration": 9,
    "start_time": "2022-11-27T09:51:48.191Z"
   },
   {
    "duration": 162,
    "start_time": "2022-11-27T09:52:01.241Z"
   },
   {
    "duration": 8,
    "start_time": "2022-11-27T09:52:04.208Z"
   },
   {
    "duration": 165,
    "start_time": "2022-11-27T09:52:08.494Z"
   },
   {
    "duration": 199,
    "start_time": "2022-11-27T09:52:11.967Z"
   },
   {
    "duration": 128,
    "start_time": "2022-11-27T09:52:15.290Z"
   },
   {
    "duration": 13,
    "start_time": "2022-11-27T09:52:16.751Z"
   },
   {
    "duration": 10,
    "start_time": "2022-11-27T09:52:19.521Z"
   },
   {
    "duration": 183,
    "start_time": "2022-11-27T09:52:23.585Z"
   },
   {
    "duration": 10,
    "start_time": "2022-11-27T09:52:26.223Z"
   },
   {
    "duration": 217,
    "start_time": "2022-11-27T09:52:30.274Z"
   },
   {
    "duration": 10,
    "start_time": "2022-11-27T09:52:36.482Z"
   },
   {
    "duration": 313,
    "start_time": "2022-11-27T09:52:53.693Z"
   },
   {
    "duration": 247,
    "start_time": "2022-11-27T09:53:07.910Z"
   },
   {
    "duration": 3,
    "start_time": "2022-11-27T10:35:29.085Z"
   },
   {
    "duration": 104,
    "start_time": "2022-11-27T10:35:29.092Z"
   },
   {
    "duration": 14,
    "start_time": "2022-11-27T10:35:29.198Z"
   },
   {
    "duration": 1982,
    "start_time": "2022-11-27T10:35:29.235Z"
   },
   {
    "duration": 17,
    "start_time": "2022-11-27T10:35:31.219Z"
   },
   {
    "duration": 10,
    "start_time": "2022-11-27T10:35:31.238Z"
   },
   {
    "duration": 8,
    "start_time": "2022-11-27T10:35:31.250Z"
   },
   {
    "duration": 5,
    "start_time": "2022-11-27T10:35:31.260Z"
   },
   {
    "duration": 10,
    "start_time": "2022-11-27T10:35:31.266Z"
   },
   {
    "duration": 18,
    "start_time": "2022-11-27T10:35:31.277Z"
   },
   {
    "duration": 4,
    "start_time": "2022-11-27T10:35:31.299Z"
   },
   {
    "duration": 34,
    "start_time": "2022-11-27T10:35:31.304Z"
   },
   {
    "duration": 9,
    "start_time": "2022-11-27T10:35:31.340Z"
   },
   {
    "duration": 13,
    "start_time": "2022-11-27T10:35:31.351Z"
   },
   {
    "duration": 12,
    "start_time": "2022-11-27T10:35:31.365Z"
   },
   {
    "duration": 45,
    "start_time": "2022-11-27T10:35:31.378Z"
   },
   {
    "duration": 6,
    "start_time": "2022-11-27T10:35:31.436Z"
   },
   {
    "duration": 26,
    "start_time": "2022-11-27T10:35:31.444Z"
   },
   {
    "duration": 21,
    "start_time": "2022-11-27T10:35:31.473Z"
   },
   {
    "duration": 12,
    "start_time": "2022-11-27T10:35:31.496Z"
   },
   {
    "duration": 27,
    "start_time": "2022-11-27T10:35:31.510Z"
   },
   {
    "duration": 277,
    "start_time": "2022-11-27T10:35:31.539Z"
   },
   {
    "duration": 34,
    "start_time": "2022-11-27T10:35:31.817Z"
   },
   {
    "duration": 11,
    "start_time": "2022-11-27T10:35:31.853Z"
   },
   {
    "duration": 5,
    "start_time": "2022-11-27T10:35:31.866Z"
   },
   {
    "duration": 6,
    "start_time": "2022-11-27T10:35:31.873Z"
   },
   {
    "duration": 6,
    "start_time": "2022-11-27T10:35:31.880Z"
   },
   {
    "duration": 7,
    "start_time": "2022-11-27T10:35:31.887Z"
   },
   {
    "duration": 8,
    "start_time": "2022-11-27T10:35:31.897Z"
   },
   {
    "duration": 96,
    "start_time": "2022-11-27T10:35:31.907Z"
   },
   {
    "duration": 310,
    "start_time": "2022-11-27T10:35:32.008Z"
   },
   {
    "duration": 18,
    "start_time": "2022-11-27T10:35:32.320Z"
   },
   {
    "duration": 10,
    "start_time": "2022-11-27T10:35:32.340Z"
   },
   {
    "duration": 12,
    "start_time": "2022-11-27T10:35:32.352Z"
   },
   {
    "duration": 4,
    "start_time": "2022-11-27T10:35:32.366Z"
   },
   {
    "duration": 20,
    "start_time": "2022-11-27T10:35:32.372Z"
   },
   {
    "duration": 44,
    "start_time": "2022-11-27T10:35:32.395Z"
   },
   {
    "duration": 29,
    "start_time": "2022-11-27T10:35:32.441Z"
   },
   {
    "duration": 28,
    "start_time": "2022-11-27T10:35:32.472Z"
   },
   {
    "duration": 37,
    "start_time": "2022-11-27T10:35:32.502Z"
   },
   {
    "duration": 380,
    "start_time": "2022-11-27T10:35:32.540Z"
   },
   {
    "duration": 20,
    "start_time": "2022-11-27T10:35:32.922Z"
   },
   {
    "duration": 11,
    "start_time": "2022-11-27T10:35:32.944Z"
   },
   {
    "duration": 237,
    "start_time": "2022-11-27T10:35:32.957Z"
   },
   {
    "duration": 9,
    "start_time": "2022-11-27T10:35:33.197Z"
   },
   {
    "duration": 233,
    "start_time": "2022-11-27T10:35:33.208Z"
   },
   {
    "duration": 10,
    "start_time": "2022-11-27T10:35:33.443Z"
   },
   {
    "duration": 264,
    "start_time": "2022-11-27T10:35:33.455Z"
   },
   {
    "duration": 16,
    "start_time": "2022-11-27T10:35:33.720Z"
   },
   {
    "duration": 276,
    "start_time": "2022-11-27T10:35:33.738Z"
   },
   {
    "duration": 19,
    "start_time": "2022-11-27T10:35:34.016Z"
   },
   {
    "duration": 244,
    "start_time": "2022-11-27T10:35:34.037Z"
   },
   {
    "duration": 8,
    "start_time": "2022-11-27T10:35:34.283Z"
   },
   {
    "duration": 192,
    "start_time": "2022-11-27T10:35:34.292Z"
   },
   {
    "duration": 8,
    "start_time": "2022-11-27T10:35:34.486Z"
   },
   {
    "duration": 194,
    "start_time": "2022-11-27T10:35:34.495Z"
   },
   {
    "duration": 9,
    "start_time": "2022-11-27T10:35:34.691Z"
   },
   {
    "duration": 146,
    "start_time": "2022-11-27T10:35:34.701Z"
   },
   {
    "duration": 10,
    "start_time": "2022-11-27T10:35:34.849Z"
   },
   {
    "duration": 202,
    "start_time": "2022-11-27T10:35:34.860Z"
   },
   {
    "duration": 8,
    "start_time": "2022-11-27T10:35:35.064Z"
   },
   {
    "duration": 280,
    "start_time": "2022-11-27T10:35:35.074Z"
   },
   {
    "duration": 9,
    "start_time": "2022-11-27T10:35:35.355Z"
   },
   {
    "duration": 220,
    "start_time": "2022-11-27T10:35:35.365Z"
   },
   {
    "duration": 10,
    "start_time": "2022-11-27T10:35:35.587Z"
   },
   {
    "duration": 227,
    "start_time": "2022-11-27T10:35:35.598Z"
   },
   {
    "duration": 13,
    "start_time": "2022-11-27T10:35:35.826Z"
   },
   {
    "duration": 318,
    "start_time": "2022-11-27T10:35:35.840Z"
   },
   {
    "duration": 10,
    "start_time": "2022-11-27T10:35:36.160Z"
   },
   {
    "duration": 9,
    "start_time": "2022-11-27T10:35:36.171Z"
   },
   {
    "duration": 268,
    "start_time": "2022-11-27T10:35:36.181Z"
   },
   {
    "duration": 9,
    "start_time": "2022-11-27T10:35:36.451Z"
   },
   {
    "duration": 190,
    "start_time": "2022-11-27T10:35:36.461Z"
   },
   {
    "duration": 203,
    "start_time": "2022-11-27T10:35:36.653Z"
   },
   {
    "duration": 187,
    "start_time": "2022-11-27T10:35:36.858Z"
   },
   {
    "duration": 140,
    "start_time": "2022-11-27T10:35:37.047Z"
   },
   {
    "duration": 16,
    "start_time": "2022-11-27T10:35:37.189Z"
   },
   {
    "duration": 133,
    "start_time": "2022-11-27T10:35:37.207Z"
   },
   {
    "duration": 131,
    "start_time": "2022-11-27T10:35:37.341Z"
   },
   {
    "duration": 163,
    "start_time": "2022-11-27T10:35:37.474Z"
   },
   {
    "duration": 141,
    "start_time": "2022-11-27T10:35:37.639Z"
   },
   {
    "duration": 29,
    "start_time": "2022-11-27T10:35:37.782Z"
   },
   {
    "duration": 25,
    "start_time": "2022-11-27T10:35:37.817Z"
   },
   {
    "duration": 26,
    "start_time": "2022-11-27T10:35:37.843Z"
   },
   {
    "duration": 55,
    "start_time": "2022-11-27T10:35:37.871Z"
   },
   {
    "duration": 15,
    "start_time": "2022-11-27T10:35:37.928Z"
   },
   {
    "duration": 175,
    "start_time": "2022-11-27T10:35:37.945Z"
   },
   {
    "duration": 1106,
    "start_time": "2022-11-27T18:32:22.788Z"
   },
   {
    "duration": 114,
    "start_time": "2022-11-27T18:32:23.896Z"
   },
   {
    "duration": 14,
    "start_time": "2022-11-27T18:32:24.012Z"
   },
   {
    "duration": 1873,
    "start_time": "2022-11-27T18:32:24.028Z"
   },
   {
    "duration": 9,
    "start_time": "2022-11-27T18:32:25.903Z"
   },
   {
    "duration": 25,
    "start_time": "2022-11-27T18:32:25.913Z"
   },
   {
    "duration": 8,
    "start_time": "2022-11-27T18:32:25.939Z"
   },
   {
    "duration": 5,
    "start_time": "2022-11-27T18:32:25.948Z"
   },
   {
    "duration": 7,
    "start_time": "2022-11-27T18:32:25.954Z"
   },
   {
    "duration": 11,
    "start_time": "2022-11-27T18:32:25.963Z"
   },
   {
    "duration": 3,
    "start_time": "2022-11-27T18:32:25.975Z"
   },
   {
    "duration": 8,
    "start_time": "2022-11-27T18:32:25.979Z"
   },
   {
    "duration": 11,
    "start_time": "2022-11-27T18:32:25.988Z"
   },
   {
    "duration": 110,
    "start_time": "2022-11-27T18:32:26.001Z"
   },
   {
    "duration": 7,
    "start_time": "2022-11-27T18:32:26.113Z"
   },
   {
    "duration": 61,
    "start_time": "2022-11-27T18:32:26.121Z"
   },
   {
    "duration": 4,
    "start_time": "2022-11-27T18:32:26.184Z"
   },
   {
    "duration": 18,
    "start_time": "2022-11-27T18:32:26.190Z"
   },
   {
    "duration": 13,
    "start_time": "2022-11-27T18:32:26.210Z"
   },
   {
    "duration": 16,
    "start_time": "2022-11-27T18:32:26.225Z"
   },
   {
    "duration": 22,
    "start_time": "2022-11-27T18:32:26.242Z"
   },
   {
    "duration": 222,
    "start_time": "2022-11-27T18:32:26.265Z"
   },
   {
    "duration": 26,
    "start_time": "2022-11-27T18:32:26.489Z"
   },
   {
    "duration": 25,
    "start_time": "2022-11-27T18:32:26.517Z"
   },
   {
    "duration": 8,
    "start_time": "2022-11-27T18:32:26.544Z"
   },
   {
    "duration": 15,
    "start_time": "2022-11-27T18:32:26.555Z"
   },
   {
    "duration": 10,
    "start_time": "2022-11-27T18:32:26.572Z"
   },
   {
    "duration": 5,
    "start_time": "2022-11-27T18:32:26.586Z"
   },
   {
    "duration": 10,
    "start_time": "2022-11-27T18:32:26.593Z"
   },
   {
    "duration": 88,
    "start_time": "2022-11-27T18:32:26.604Z"
   },
   {
    "duration": 149,
    "start_time": "2022-11-27T18:32:26.694Z"
   },
   {
    "duration": 7,
    "start_time": "2022-11-27T18:32:26.845Z"
   },
   {
    "duration": 9,
    "start_time": "2022-11-27T18:32:26.854Z"
   },
   {
    "duration": 9,
    "start_time": "2022-11-27T18:32:26.864Z"
   },
   {
    "duration": 6,
    "start_time": "2022-11-27T18:32:26.875Z"
   },
   {
    "duration": 10,
    "start_time": "2022-11-27T18:32:26.882Z"
   },
   {
    "duration": 20,
    "start_time": "2022-11-27T18:32:26.894Z"
   },
   {
    "duration": 40,
    "start_time": "2022-11-27T18:32:26.916Z"
   },
   {
    "duration": 18,
    "start_time": "2022-11-27T18:32:26.957Z"
   },
   {
    "duration": 5,
    "start_time": "2022-11-27T18:32:26.977Z"
   },
   {
    "duration": 338,
    "start_time": "2022-11-27T18:32:26.984Z"
   },
   {
    "duration": 16,
    "start_time": "2022-11-27T18:32:27.324Z"
   },
   {
    "duration": 12,
    "start_time": "2022-11-27T18:32:27.342Z"
   },
   {
    "duration": 230,
    "start_time": "2022-11-27T18:32:27.356Z"
   },
   {
    "duration": 10,
    "start_time": "2022-11-27T18:32:27.587Z"
   },
   {
    "duration": 256,
    "start_time": "2022-11-27T18:32:27.598Z"
   },
   {
    "duration": 11,
    "start_time": "2022-11-27T18:32:27.856Z"
   },
   {
    "duration": 353,
    "start_time": "2022-11-27T18:32:27.869Z"
   },
   {
    "duration": 21,
    "start_time": "2022-11-27T18:32:28.224Z"
   },
   {
    "duration": 351,
    "start_time": "2022-11-27T18:32:28.247Z"
   },
   {
    "duration": 9,
    "start_time": "2022-11-27T18:32:28.600Z"
   },
   {
    "duration": 158,
    "start_time": "2022-11-27T18:32:28.611Z"
   },
   {
    "duration": 8,
    "start_time": "2022-11-27T18:32:28.770Z"
   },
   {
    "duration": 211,
    "start_time": "2022-11-27T18:32:28.780Z"
   },
   {
    "duration": 11,
    "start_time": "2022-11-27T18:32:28.994Z"
   },
   {
    "duration": 209,
    "start_time": "2022-11-27T18:32:29.007Z"
   },
   {
    "duration": 20,
    "start_time": "2022-11-27T18:32:29.218Z"
   },
   {
    "duration": 146,
    "start_time": "2022-11-27T18:32:29.240Z"
   },
   {
    "duration": 8,
    "start_time": "2022-11-27T18:32:29.388Z"
   },
   {
    "duration": 191,
    "start_time": "2022-11-27T18:32:29.398Z"
   },
   {
    "duration": 9,
    "start_time": "2022-11-27T18:32:29.591Z"
   },
   {
    "duration": 238,
    "start_time": "2022-11-27T18:32:29.601Z"
   },
   {
    "duration": 12,
    "start_time": "2022-11-27T18:32:29.840Z"
   },
   {
    "duration": 209,
    "start_time": "2022-11-27T18:32:29.854Z"
   },
   {
    "duration": 10,
    "start_time": "2022-11-27T18:32:30.065Z"
   },
   {
    "duration": 216,
    "start_time": "2022-11-27T18:32:30.077Z"
   },
   {
    "duration": 15,
    "start_time": "2022-11-27T18:32:30.295Z"
   },
   {
    "duration": 434,
    "start_time": "2022-11-27T18:32:30.311Z"
   },
   {
    "duration": 9,
    "start_time": "2022-11-27T18:32:30.746Z"
   },
   {
    "duration": 23,
    "start_time": "2022-11-27T18:32:30.757Z"
   },
   {
    "duration": 180,
    "start_time": "2022-11-27T18:32:30.782Z"
   },
   {
    "duration": 9,
    "start_time": "2022-11-27T18:32:30.964Z"
   },
   {
    "duration": 196,
    "start_time": "2022-11-27T18:32:30.974Z"
   },
   {
    "duration": 191,
    "start_time": "2022-11-27T18:32:31.172Z"
   },
   {
    "duration": 182,
    "start_time": "2022-11-27T18:32:31.364Z"
   },
   {
    "duration": 157,
    "start_time": "2022-11-27T18:32:31.548Z"
   },
   {
    "duration": 16,
    "start_time": "2022-11-27T18:32:31.707Z"
   },
   {
    "duration": 127,
    "start_time": "2022-11-27T18:32:31.736Z"
   },
   {
    "duration": 136,
    "start_time": "2022-11-27T18:32:31.865Z"
   },
   {
    "duration": 160,
    "start_time": "2022-11-27T18:32:32.003Z"
   },
   {
    "duration": 145,
    "start_time": "2022-11-27T18:32:32.165Z"
   },
   {
    "duration": 28,
    "start_time": "2022-11-27T18:32:32.315Z"
   },
   {
    "duration": 10,
    "start_time": "2022-11-27T18:32:32.345Z"
   },
   {
    "duration": 14,
    "start_time": "2022-11-27T18:32:32.357Z"
   },
   {
    "duration": 36,
    "start_time": "2022-11-27T18:32:32.373Z"
   },
   {
    "duration": 38,
    "start_time": "2022-11-27T18:32:32.411Z"
   },
   {
    "duration": 162,
    "start_time": "2022-11-27T18:32:32.451Z"
   },
   {
    "duration": 82,
    "start_time": "2022-11-27T18:32:41.218Z"
   },
   {
    "duration": 1451,
    "start_time": "2023-06-28T14:20:39.168Z"
   },
   {
    "duration": 386,
    "start_time": "2023-06-28T14:20:40.621Z"
   },
   {
    "duration": 15,
    "start_time": "2023-06-28T14:20:41.009Z"
   },
   {
    "duration": 2060,
    "start_time": "2023-06-28T14:20:41.026Z"
   },
   {
    "duration": 9,
    "start_time": "2023-06-28T14:20:43.088Z"
   },
   {
    "duration": 20,
    "start_time": "2023-06-28T14:20:43.099Z"
   },
   {
    "duration": 13,
    "start_time": "2023-06-28T14:20:43.121Z"
   },
   {
    "duration": 23,
    "start_time": "2023-06-28T14:20:43.135Z"
   },
   {
    "duration": 20,
    "start_time": "2023-06-28T14:20:43.159Z"
   },
   {
    "duration": 29,
    "start_time": "2023-06-28T14:20:43.183Z"
   },
   {
    "duration": 18,
    "start_time": "2023-06-28T14:20:43.214Z"
   },
   {
    "duration": 32,
    "start_time": "2023-06-28T14:20:43.234Z"
   },
   {
    "duration": 29,
    "start_time": "2023-06-28T14:20:43.268Z"
   },
   {
    "duration": 122,
    "start_time": "2023-06-28T14:20:43.299Z"
   },
   {
    "duration": 9,
    "start_time": "2023-06-28T14:20:43.423Z"
   },
   {
    "duration": 65,
    "start_time": "2023-06-28T14:20:43.434Z"
   },
   {
    "duration": 21,
    "start_time": "2023-06-28T14:20:43.501Z"
   },
   {
    "duration": 28,
    "start_time": "2023-06-28T14:20:43.524Z"
   },
   {
    "duration": 53,
    "start_time": "2023-06-28T14:20:43.554Z"
   },
   {
    "duration": 15,
    "start_time": "2023-06-28T14:20:43.609Z"
   },
   {
    "duration": 51,
    "start_time": "2023-06-28T14:20:43.625Z"
   },
   {
    "duration": 264,
    "start_time": "2023-06-28T14:20:43.677Z"
   },
   {
    "duration": 37,
    "start_time": "2023-06-28T14:20:43.943Z"
   },
   {
    "duration": 28,
    "start_time": "2023-06-28T14:20:43.982Z"
   },
   {
    "duration": 17,
    "start_time": "2023-06-28T14:20:44.011Z"
   },
   {
    "duration": 28,
    "start_time": "2023-06-28T14:20:44.030Z"
   },
   {
    "duration": 33,
    "start_time": "2023-06-28T14:20:44.059Z"
   },
   {
    "duration": 15,
    "start_time": "2023-06-28T14:20:44.096Z"
   },
   {
    "duration": 15,
    "start_time": "2023-06-28T14:20:44.113Z"
   },
   {
    "duration": 94,
    "start_time": "2023-06-28T14:20:44.129Z"
   },
   {
    "duration": 184,
    "start_time": "2023-06-28T14:20:44.225Z"
   },
   {
    "duration": 8,
    "start_time": "2023-06-28T14:20:44.411Z"
   },
   {
    "duration": 13,
    "start_time": "2023-06-28T14:20:44.421Z"
   },
   {
    "duration": 44,
    "start_time": "2023-06-28T14:20:44.435Z"
   },
   {
    "duration": 15,
    "start_time": "2023-06-28T14:20:44.481Z"
   },
   {
    "duration": 28,
    "start_time": "2023-06-28T14:20:44.498Z"
   },
   {
    "duration": 49,
    "start_time": "2023-06-28T14:20:44.528Z"
   },
   {
    "duration": 23,
    "start_time": "2023-06-28T14:20:44.579Z"
   },
   {
    "duration": 23,
    "start_time": "2023-06-28T14:20:44.604Z"
   },
   {
    "duration": 6,
    "start_time": "2023-06-28T14:20:44.628Z"
   },
   {
    "duration": 374,
    "start_time": "2023-06-28T14:20:44.636Z"
   },
   {
    "duration": 17,
    "start_time": "2023-06-28T14:20:45.012Z"
   },
   {
    "duration": 43,
    "start_time": "2023-06-28T14:20:45.031Z"
   },
   {
    "duration": 220,
    "start_time": "2023-06-28T14:20:45.075Z"
   },
   {
    "duration": 9,
    "start_time": "2023-06-28T14:20:45.296Z"
   },
   {
    "duration": 232,
    "start_time": "2023-06-28T14:20:45.307Z"
   },
   {
    "duration": 26,
    "start_time": "2023-06-28T14:20:45.541Z"
   },
   {
    "duration": 262,
    "start_time": "2023-06-28T14:20:45.568Z"
   },
   {
    "duration": 9,
    "start_time": "2023-06-28T14:20:45.832Z"
   },
   {
    "duration": 363,
    "start_time": "2023-06-28T14:20:45.856Z"
   },
   {
    "duration": 8,
    "start_time": "2023-06-28T14:20:46.221Z"
   },
   {
    "duration": 162,
    "start_time": "2023-06-28T14:20:46.230Z"
   },
   {
    "duration": 7,
    "start_time": "2023-06-28T14:20:46.394Z"
   },
   {
    "duration": 167,
    "start_time": "2023-06-28T14:20:46.402Z"
   },
   {
    "duration": 9,
    "start_time": "2023-06-28T14:20:46.570Z"
   },
   {
    "duration": 203,
    "start_time": "2023-06-28T14:20:46.580Z"
   },
   {
    "duration": 9,
    "start_time": "2023-06-28T14:20:46.784Z"
   },
   {
    "duration": 148,
    "start_time": "2023-06-28T14:20:46.794Z"
   },
   {
    "duration": 25,
    "start_time": "2023-06-28T14:20:46.944Z"
   },
   {
    "duration": 178,
    "start_time": "2023-06-28T14:20:46.971Z"
   },
   {
    "duration": 18,
    "start_time": "2023-06-28T14:20:47.153Z"
   },
   {
    "duration": 223,
    "start_time": "2023-06-28T14:20:47.173Z"
   },
   {
    "duration": 11,
    "start_time": "2023-06-28T14:20:47.397Z"
   },
   {
    "duration": 233,
    "start_time": "2023-06-28T14:20:47.410Z"
   },
   {
    "duration": 23,
    "start_time": "2023-06-28T14:20:47.645Z"
   },
   {
    "duration": 228,
    "start_time": "2023-06-28T14:20:47.669Z"
   },
   {
    "duration": 9,
    "start_time": "2023-06-28T14:20:47.899Z"
   },
   {
    "duration": 465,
    "start_time": "2023-06-28T14:20:47.909Z"
   },
   {
    "duration": 10,
    "start_time": "2023-06-28T14:20:48.376Z"
   },
   {
    "duration": 10,
    "start_time": "2023-06-28T14:20:48.388Z"
   },
   {
    "duration": 197,
    "start_time": "2023-06-28T14:20:48.400Z"
   },
   {
    "duration": 10,
    "start_time": "2023-06-28T14:20:48.600Z"
   },
   {
    "duration": 221,
    "start_time": "2023-06-28T14:20:48.612Z"
   },
   {
    "duration": 233,
    "start_time": "2023-06-28T14:20:48.835Z"
   },
   {
    "duration": 188,
    "start_time": "2023-06-28T14:20:49.070Z"
   },
   {
    "duration": 145,
    "start_time": "2023-06-28T14:20:49.267Z"
   },
   {
    "duration": 18,
    "start_time": "2023-06-28T14:20:49.414Z"
   },
   {
    "duration": 157,
    "start_time": "2023-06-28T14:20:49.433Z"
   },
   {
    "duration": 156,
    "start_time": "2023-06-28T14:20:49.592Z"
   },
   {
    "duration": 190,
    "start_time": "2023-06-28T14:20:49.750Z"
   },
   {
    "duration": 173,
    "start_time": "2023-06-28T14:20:49.942Z"
   },
   {
    "duration": 20,
    "start_time": "2023-06-28T14:20:50.121Z"
   },
   {
    "duration": 11,
    "start_time": "2023-06-28T14:20:50.164Z"
   },
   {
    "duration": 19,
    "start_time": "2023-06-28T14:20:50.176Z"
   },
   {
    "duration": 47,
    "start_time": "2023-06-28T14:20:50.197Z"
   },
   {
    "duration": 22,
    "start_time": "2023-06-28T14:20:50.246Z"
   },
   {
    "duration": 170,
    "start_time": "2023-06-28T14:20:50.270Z"
   },
   {
    "duration": 5,
    "start_time": "2023-06-28T14:30:32.390Z"
   },
   {
    "duration": 194,
    "start_time": "2023-06-28T14:30:32.397Z"
   },
   {
    "duration": 17,
    "start_time": "2023-06-28T14:30:32.593Z"
   },
   {
    "duration": 2529,
    "start_time": "2023-06-28T14:30:32.612Z"
   },
   {
    "duration": 18,
    "start_time": "2023-06-28T14:30:35.143Z"
   },
   {
    "duration": 56,
    "start_time": "2023-06-28T14:30:35.163Z"
   },
   {
    "duration": 58,
    "start_time": "2023-06-28T14:30:35.222Z"
   },
   {
    "duration": 10,
    "start_time": "2023-06-28T14:30:35.283Z"
   },
   {
    "duration": 20,
    "start_time": "2023-06-28T14:30:35.294Z"
   },
   {
    "duration": 30,
    "start_time": "2023-06-28T14:30:35.316Z"
   },
   {
    "duration": 5,
    "start_time": "2023-06-28T14:30:35.350Z"
   },
   {
    "duration": 30,
    "start_time": "2023-06-28T14:30:35.366Z"
   },
   {
    "duration": 18,
    "start_time": "2023-06-28T14:30:35.398Z"
   },
   {
    "duration": 17,
    "start_time": "2023-06-28T14:30:35.418Z"
   },
   {
    "duration": 46,
    "start_time": "2023-06-28T14:30:35.437Z"
   },
   {
    "duration": 44,
    "start_time": "2023-06-28T14:30:35.485Z"
   },
   {
    "duration": 5,
    "start_time": "2023-06-28T14:30:35.531Z"
   },
   {
    "duration": 16,
    "start_time": "2023-06-28T14:30:35.538Z"
   },
   {
    "duration": 44,
    "start_time": "2023-06-28T14:30:35.555Z"
   },
   {
    "duration": 11,
    "start_time": "2023-06-28T14:30:35.600Z"
   },
   {
    "duration": 36,
    "start_time": "2023-06-28T14:30:35.613Z"
   },
   {
    "duration": 280,
    "start_time": "2023-06-28T14:30:35.651Z"
   },
   {
    "duration": 49,
    "start_time": "2023-06-28T14:30:35.933Z"
   },
   {
    "duration": 35,
    "start_time": "2023-06-28T14:30:35.986Z"
   },
   {
    "duration": 17,
    "start_time": "2023-06-28T14:30:36.024Z"
   },
   {
    "duration": 39,
    "start_time": "2023-06-28T14:30:36.043Z"
   },
   {
    "duration": 33,
    "start_time": "2023-06-28T14:30:36.084Z"
   },
   {
    "duration": 26,
    "start_time": "2023-06-28T14:30:36.118Z"
   },
   {
    "duration": 52,
    "start_time": "2023-06-28T14:30:36.148Z"
   },
   {
    "duration": 90,
    "start_time": "2023-06-28T14:30:36.202Z"
   },
   {
    "duration": 178,
    "start_time": "2023-06-28T14:30:36.294Z"
   },
   {
    "duration": 11,
    "start_time": "2023-06-28T14:30:36.474Z"
   },
   {
    "duration": 28,
    "start_time": "2023-06-28T14:30:36.486Z"
   },
   {
    "duration": 14,
    "start_time": "2023-06-28T14:30:36.516Z"
   },
   {
    "duration": 18,
    "start_time": "2023-06-28T14:30:36.532Z"
   },
   {
    "duration": 50,
    "start_time": "2023-06-28T14:30:36.552Z"
   },
   {
    "duration": 43,
    "start_time": "2023-06-28T14:30:36.604Z"
   },
   {
    "duration": 26,
    "start_time": "2023-06-28T14:30:36.649Z"
   },
   {
    "duration": 32,
    "start_time": "2023-06-28T14:30:36.676Z"
   },
   {
    "duration": 7,
    "start_time": "2023-06-28T14:30:36.710Z"
   },
   {
    "duration": 497,
    "start_time": "2023-06-28T14:30:36.718Z"
   },
   {
    "duration": 17,
    "start_time": "2023-06-28T14:30:37.216Z"
   },
   {
    "duration": 46,
    "start_time": "2023-06-28T14:30:37.235Z"
   },
   {
    "duration": 251,
    "start_time": "2023-06-28T14:30:37.283Z"
   },
   {
    "duration": 22,
    "start_time": "2023-06-28T14:30:37.537Z"
   },
   {
    "duration": 234,
    "start_time": "2023-06-28T14:30:37.565Z"
   },
   {
    "duration": 9,
    "start_time": "2023-06-28T14:30:37.800Z"
   },
   {
    "duration": 318,
    "start_time": "2023-06-28T14:30:37.811Z"
   },
   {
    "duration": 9,
    "start_time": "2023-06-28T14:30:38.131Z"
   },
   {
    "duration": 341,
    "start_time": "2023-06-28T14:30:38.141Z"
   },
   {
    "duration": 9,
    "start_time": "2023-06-28T14:30:38.484Z"
   },
   {
    "duration": 197,
    "start_time": "2023-06-28T14:30:38.495Z"
   },
   {
    "duration": 8,
    "start_time": "2023-06-28T14:30:38.694Z"
   },
   {
    "duration": 191,
    "start_time": "2023-06-28T14:30:38.705Z"
   },
   {
    "duration": 9,
    "start_time": "2023-06-28T14:30:38.897Z"
   },
   {
    "duration": 325,
    "start_time": "2023-06-28T14:30:38.908Z"
   },
   {
    "duration": 8,
    "start_time": "2023-06-28T14:30:39.235Z"
   },
   {
    "duration": 162,
    "start_time": "2023-06-28T14:30:39.254Z"
   },
   {
    "duration": 11,
    "start_time": "2023-06-28T14:30:39.417Z"
   },
   {
    "duration": 230,
    "start_time": "2023-06-28T14:30:39.430Z"
   },
   {
    "duration": 14,
    "start_time": "2023-06-28T14:30:39.662Z"
   },
   {
    "duration": 277,
    "start_time": "2023-06-28T14:30:39.679Z"
   },
   {
    "duration": 12,
    "start_time": "2023-06-28T14:30:39.958Z"
   },
   {
    "duration": 240,
    "start_time": "2023-06-28T14:30:39.972Z"
   },
   {
    "duration": 13,
    "start_time": "2023-06-28T14:30:40.214Z"
   },
   {
    "duration": 262,
    "start_time": "2023-06-28T14:30:40.231Z"
   },
   {
    "duration": 9,
    "start_time": "2023-06-28T14:30:40.495Z"
   },
   {
    "duration": 368,
    "start_time": "2023-06-28T14:30:40.506Z"
   },
   {
    "duration": 10,
    "start_time": "2023-06-28T14:30:40.879Z"
   },
   {
    "duration": 11,
    "start_time": "2023-06-28T14:30:40.891Z"
   },
   {
    "duration": 198,
    "start_time": "2023-06-28T14:30:40.904Z"
   },
   {
    "duration": 10,
    "start_time": "2023-06-28T14:30:41.103Z"
   },
   {
    "duration": 223,
    "start_time": "2023-06-28T14:30:41.114Z"
   },
   {
    "duration": 307,
    "start_time": "2023-06-28T14:30:41.338Z"
   },
   {
    "duration": 203,
    "start_time": "2023-06-28T14:30:41.646Z"
   },
   {
    "duration": 164,
    "start_time": "2023-06-28T14:30:41.853Z"
   },
   {
    "duration": 17,
    "start_time": "2023-06-28T14:30:42.019Z"
   },
   {
    "duration": 168,
    "start_time": "2023-06-28T14:30:42.037Z"
   },
   {
    "duration": 177,
    "start_time": "2023-06-28T14:30:42.208Z"
   },
   {
    "duration": 251,
    "start_time": "2023-06-28T14:30:42.387Z"
   },
   {
    "duration": 210,
    "start_time": "2023-06-28T14:30:42.640Z"
   },
   {
    "duration": 31,
    "start_time": "2023-06-28T14:30:42.852Z"
   },
   {
    "duration": 27,
    "start_time": "2023-06-28T14:30:42.889Z"
   },
   {
    "duration": 30,
    "start_time": "2023-06-28T14:30:42.917Z"
   },
   {
    "duration": 95,
    "start_time": "2023-06-28T14:30:42.949Z"
   },
   {
    "duration": 31,
    "start_time": "2023-06-28T14:30:43.046Z"
   },
   {
    "duration": 195,
    "start_time": "2023-06-28T14:30:43.084Z"
   }
  ],
  "kernelspec": {
   "display_name": "Python 3 (ipykernel)",
   "language": "python",
   "name": "python3"
  },
  "language_info": {
   "codemirror_mode": {
    "name": "ipython",
    "version": 3
   },
   "file_extension": ".py",
   "mimetype": "text/x-python",
   "name": "python",
   "nbconvert_exporter": "python",
   "pygments_lexer": "ipython3",
   "version": "3.9.5"
  },
  "toc": {
   "base_numbering": 1,
   "nav_menu": {},
   "number_sections": true,
   "sideBar": true,
   "skip_h1_title": true,
   "title_cell": "Table of Contents",
   "title_sidebar": "Contents",
   "toc_cell": false,
   "toc_position": {},
   "toc_section_display": true,
   "toc_window_display": false
  }
 },
 "nbformat": 4,
 "nbformat_minor": 2
}
