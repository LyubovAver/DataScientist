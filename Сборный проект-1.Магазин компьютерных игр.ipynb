{
 "cells": [
  {
   "cell_type": "code",
   "execution_count": 2,
   "metadata": {},
   "outputs": [],
   "source": [
    "import pandas as pd\n",
    "import numpy as np\n",
    "import matplotlib.pyplot as plt\n",
    "import seaborn as sns"
   ]
  },
  {
   "cell_type": "markdown",
   "metadata": {},
   "source": [
    "Из открытых источников доступны исторические данные о продажах игр, оценки пользователей и экспертов, жанры и платформы (например, Xbox или PlayStation). Выявим определяющие успешность игры закономерности. Это позволит сделать ставку на потенциально популярный продукт и спланировать рекламные кампании. В начале  изучим данные и подготовим их для анализа."
   ]
  },
  {
   "cell_type": "markdown",
   "metadata": {},
   "source": [
    "### Изучение общей информации"
   ]
  },
  {
   "cell_type": "code",
   "execution_count": 3,
   "metadata": {},
   "outputs": [],
   "source": [
    "data = pd.read_csv('/datasets/games.csv')"
   ]
  },
  {
   "cell_type": "code",
   "execution_count": 4,
   "metadata": {},
   "outputs": [
    {
     "data": {
      "text/html": [
       "<div>\n",
       "<style scoped>\n",
       "    .dataframe tbody tr th:only-of-type {\n",
       "        vertical-align: middle;\n",
       "    }\n",
       "\n",
       "    .dataframe tbody tr th {\n",
       "        vertical-align: top;\n",
       "    }\n",
       "\n",
       "    .dataframe thead th {\n",
       "        text-align: right;\n",
       "    }\n",
       "</style>\n",
       "<table border=\"1\" class=\"dataframe\">\n",
       "  <thead>\n",
       "    <tr style=\"text-align: right;\">\n",
       "      <th></th>\n",
       "      <th>Name</th>\n",
       "      <th>Platform</th>\n",
       "      <th>Year_of_Release</th>\n",
       "      <th>Genre</th>\n",
       "      <th>NA_sales</th>\n",
       "      <th>EU_sales</th>\n",
       "      <th>JP_sales</th>\n",
       "      <th>Other_sales</th>\n",
       "      <th>Critic_Score</th>\n",
       "      <th>User_Score</th>\n",
       "      <th>Rating</th>\n",
       "    </tr>\n",
       "  </thead>\n",
       "  <tbody>\n",
       "    <tr>\n",
       "      <th>0</th>\n",
       "      <td>Wii Sports</td>\n",
       "      <td>Wii</td>\n",
       "      <td>2006.0</td>\n",
       "      <td>Sports</td>\n",
       "      <td>41.36</td>\n",
       "      <td>28.96</td>\n",
       "      <td>3.77</td>\n",
       "      <td>8.45</td>\n",
       "      <td>76.0</td>\n",
       "      <td>8</td>\n",
       "      <td>E</td>\n",
       "    </tr>\n",
       "    <tr>\n",
       "      <th>1</th>\n",
       "      <td>Super Mario Bros.</td>\n",
       "      <td>NES</td>\n",
       "      <td>1985.0</td>\n",
       "      <td>Platform</td>\n",
       "      <td>29.08</td>\n",
       "      <td>3.58</td>\n",
       "      <td>6.81</td>\n",
       "      <td>0.77</td>\n",
       "      <td>NaN</td>\n",
       "      <td>NaN</td>\n",
       "      <td>NaN</td>\n",
       "    </tr>\n",
       "    <tr>\n",
       "      <th>2</th>\n",
       "      <td>Mario Kart Wii</td>\n",
       "      <td>Wii</td>\n",
       "      <td>2008.0</td>\n",
       "      <td>Racing</td>\n",
       "      <td>15.68</td>\n",
       "      <td>12.76</td>\n",
       "      <td>3.79</td>\n",
       "      <td>3.29</td>\n",
       "      <td>82.0</td>\n",
       "      <td>8.3</td>\n",
       "      <td>E</td>\n",
       "    </tr>\n",
       "    <tr>\n",
       "      <th>3</th>\n",
       "      <td>Wii Sports Resort</td>\n",
       "      <td>Wii</td>\n",
       "      <td>2009.0</td>\n",
       "      <td>Sports</td>\n",
       "      <td>15.61</td>\n",
       "      <td>10.93</td>\n",
       "      <td>3.28</td>\n",
       "      <td>2.95</td>\n",
       "      <td>80.0</td>\n",
       "      <td>8</td>\n",
       "      <td>E</td>\n",
       "    </tr>\n",
       "    <tr>\n",
       "      <th>4</th>\n",
       "      <td>Pokemon Red/Pokemon Blue</td>\n",
       "      <td>GB</td>\n",
       "      <td>1996.0</td>\n",
       "      <td>Role-Playing</td>\n",
       "      <td>11.27</td>\n",
       "      <td>8.89</td>\n",
       "      <td>10.22</td>\n",
       "      <td>1.00</td>\n",
       "      <td>NaN</td>\n",
       "      <td>NaN</td>\n",
       "      <td>NaN</td>\n",
       "    </tr>\n",
       "  </tbody>\n",
       "</table>\n",
       "</div>"
      ],
      "text/plain": [
       "                       Name Platform  Year_of_Release         Genre  NA_sales  \\\n",
       "0                Wii Sports      Wii           2006.0        Sports     41.36   \n",
       "1         Super Mario Bros.      NES           1985.0      Platform     29.08   \n",
       "2            Mario Kart Wii      Wii           2008.0        Racing     15.68   \n",
       "3         Wii Sports Resort      Wii           2009.0        Sports     15.61   \n",
       "4  Pokemon Red/Pokemon Blue       GB           1996.0  Role-Playing     11.27   \n",
       "\n",
       "   EU_sales  JP_sales  Other_sales  Critic_Score User_Score Rating  \n",
       "0     28.96      3.77         8.45          76.0          8      E  \n",
       "1      3.58      6.81         0.77           NaN        NaN    NaN  \n",
       "2     12.76      3.79         3.29          82.0        8.3      E  \n",
       "3     10.93      3.28         2.95          80.0          8      E  \n",
       "4      8.89     10.22         1.00           NaN        NaN    NaN  "
      ]
     },
     "execution_count": 4,
     "metadata": {},
     "output_type": "execute_result"
    }
   ],
   "source": [
    "data.head()"
   ]
  },
  {
   "cell_type": "code",
   "execution_count": 5,
   "metadata": {},
   "outputs": [],
   "source": [
    "data.columns = map(str.lower, data.columns)#"
   ]
  },
  {
   "cell_type": "code",
   "execution_count": 6,
   "metadata": {},
   "outputs": [
    {
     "name": "stdout",
     "output_type": "stream",
     "text": [
      "<class 'pandas.core.frame.DataFrame'>\n",
      "RangeIndex: 16715 entries, 0 to 16714\n",
      "Data columns (total 11 columns):\n",
      " #   Column           Non-Null Count  Dtype  \n",
      "---  ------           --------------  -----  \n",
      " 0   name             16713 non-null  object \n",
      " 1   platform         16715 non-null  object \n",
      " 2   year_of_release  16446 non-null  float64\n",
      " 3   genre            16713 non-null  object \n",
      " 4   na_sales         16715 non-null  float64\n",
      " 5   eu_sales         16715 non-null  float64\n",
      " 6   jp_sales         16715 non-null  float64\n",
      " 7   other_sales      16715 non-null  float64\n",
      " 8   critic_score     8137 non-null   float64\n",
      " 9   user_score       10014 non-null  object \n",
      " 10  rating           9949 non-null   object \n",
      "dtypes: float64(6), object(5)\n",
      "memory usage: 1.4+ MB\n"
     ]
    }
   ],
   "source": [
    "data.info()"
   ]
  },
  {
   "cell_type": "code",
   "execution_count": 72,
   "metadata": {},
   "outputs": [
    {
     "data": {
      "text/plain": [
       "0"
      ]
     },
     "execution_count": 72,
     "metadata": {},
     "output_type": "execute_result"
    }
   ],
   "source": [
    "data.duplicated().sum()"
   ]
  },
  {
   "cell_type": "markdown",
   "metadata": {},
   "source": [
    "В датасете 16715 строк, 11 столбцов. Мы видим, что есть небольшое количество пропусков в столбцах 'name','year_of_release','genre'. В столбцах с оценками критиков и пользователей, а также ESRB-рейтинге. Метод обработки этих пропусков рассмотрим в дальнейшем. Что касается типа данных, в столбце с годом релиза тип данных следует заменить на целочисленный,также в столбце с оценками критиков, все значения целые, тип данных можно заменить на int. В столбце с оценками пользователей данные числовые, следовательно тип данных должен быть float. Явные дубликаты отсутствуют."
   ]
  },
  {
   "cell_type": "markdown",
   "metadata": {},
   "source": [
    "### Подготовка данных"
   ]
  },
  {
   "cell_type": "code",
   "execution_count": 8,
   "metadata": {},
   "outputs": [],
   "source": [
    "data['critic_score'] = data['critic_score'].astype('Int64')"
   ]
  },
  {
   "cell_type": "code",
   "execution_count": 9,
   "metadata": {},
   "outputs": [],
   "source": [
    "#data['user_score'] = data['user_score'].astype('float64')"
   ]
  },
  {
   "cell_type": "code",
   "execution_count": 10,
   "metadata": {},
   "outputs": [
    {
     "name": "stdout",
     "output_type": "stream",
     "text": [
      "<class 'pandas.core.frame.DataFrame'>\n",
      "RangeIndex: 16715 entries, 0 to 16714\n",
      "Data columns (total 11 columns):\n",
      " #   Column           Non-Null Count  Dtype  \n",
      "---  ------           --------------  -----  \n",
      " 0   name             16713 non-null  object \n",
      " 1   platform         16715 non-null  object \n",
      " 2   year_of_release  16446 non-null  float64\n",
      " 3   genre            16713 non-null  object \n",
      " 4   na_sales         16715 non-null  float64\n",
      " 5   eu_sales         16715 non-null  float64\n",
      " 6   jp_sales         16715 non-null  float64\n",
      " 7   other_sales      16715 non-null  float64\n",
      " 8   critic_score     8137 non-null   Int64  \n",
      " 9   user_score       10014 non-null  object \n",
      " 10  rating           9949 non-null   object \n",
      "dtypes: Int64(1), float64(5), object(5)\n",
      "memory usage: 1.4+ MB\n"
     ]
    }
   ],
   "source": [
    "data.info()"
   ]
  },
  {
   "cell_type": "code",
   "execution_count": 11,
   "metadata": {},
   "outputs": [
    {
     "data": {
      "image/png": "[encoded data removed]",
      "text/plain": [
       "<Figure size 1080x1440 with 6 Axes>"
      ]
     },
     "metadata": {
      "needs_background": "light"
     },
     "output_type": "display_data"
    }
   ],
   "source": [
    "data.hist(figsize=(15,20));"
   ]
  },
  {
   "cell_type": "markdown",
   "metadata": {},
   "source": [
    "На графиках распределения значений по столбцам, можно предположить, что небольшое количество значений, выбивающееся из общего количества данных в столбцах с продажами по странам, это выбросы, но данное предположение требует дальнейшей проверки."
   ]
  },
  {
   "cell_type": "code",
   "execution_count": 12,
   "metadata": {},
   "outputs": [
    {
     "data": {
      "text/plain": [
       "name                  2\n",
       "platform              0\n",
       "year_of_release     269\n",
       "genre                 2\n",
       "na_sales              0\n",
       "eu_sales              0\n",
       "jp_sales              0\n",
       "other_sales           0\n",
       "critic_score       8578\n",
       "user_score         6701\n",
       "rating             6766\n",
       "dtype: int64"
      ]
     },
     "execution_count": 12,
     "metadata": {},
     "output_type": "execute_result"
    }
   ],
   "source": [
    "data.isna().sum()#количество пропущенных значений"
   ]
  },
  {
   "cell_type": "code",
   "execution_count": 13,
   "metadata": {},
   "outputs": [
    {
     "data": {
      "text/plain": [
       "name                0.01\n",
       "platform            0.00\n",
       "year_of_release     1.61\n",
       "genre               0.01\n",
       "na_sales            0.00\n",
       "eu_sales            0.00\n",
       "jp_sales            0.00\n",
       "other_sales         0.00\n",
       "critic_score       51.32\n",
       "user_score         40.09\n",
       "rating             40.48\n",
       "dtype: float64"
      ]
     },
     "execution_count": 13,
     "metadata": {},
     "output_type": "execute_result"
    }
   ],
   "source": [
    "#(data.isna().sum()/len(data)).round(4)*100#процент пропусков"
   ]
  },
  {
   "cell_type": "code",
   "execution_count": 76,
   "metadata": {},
   "outputs": [
    {
     "data": {
      "text/plain": [
       "name                0.011965\n",
       "platform            0.000000\n",
       "year_of_release     1.609333\n",
       "genre               0.011965\n",
       "na_sales            0.000000\n",
       "eu_sales            0.000000\n",
       "jp_sales            0.000000\n",
       "other_sales         0.000000\n",
       "critic_score       51.319174\n",
       "user_score         40.089740\n",
       "rating             40.478612\n",
       "dtype: float64"
      ]
     },
     "execution_count": 76,
     "metadata": {},
     "output_type": "execute_result"
    }
   ],
   "source": [
    "data.isna().mean()*100#процент пропусков"
   ]
  },
  {
   "cell_type": "code",
   "execution_count": 14,
   "metadata": {},
   "outputs": [
    {
     "data": {
      "text/html": [
       "<div>\n",
       "<style scoped>\n",
       "    .dataframe tbody tr th:only-of-type {\n",
       "        vertical-align: middle;\n",
       "    }\n",
       "\n",
       "    .dataframe tbody tr th {\n",
       "        vertical-align: top;\n",
       "    }\n",
       "\n",
       "    .dataframe thead th {\n",
       "        text-align: right;\n",
       "    }\n",
       "</style>\n",
       "<table border=\"1\" class=\"dataframe\">\n",
       "  <thead>\n",
       "    <tr style=\"text-align: right;\">\n",
       "      <th></th>\n",
       "      <th>name</th>\n",
       "      <th>year_of_release</th>\n",
       "      <th>genre</th>\n",
       "      <th>critic_score</th>\n",
       "      <th>user_score</th>\n",
       "      <th>rating</th>\n",
       "    </tr>\n",
       "  </thead>\n",
       "  <tbody>\n",
       "    <tr>\n",
       "      <th>name</th>\n",
       "      <td>1.000000</td>\n",
       "      <td>-0.001399</td>\n",
       "      <td>1.000000</td>\n",
       "      <td>0.010654</td>\n",
       "      <td>0.013373</td>\n",
       "      <td>0.013265</td>\n",
       "    </tr>\n",
       "    <tr>\n",
       "      <th>year_of_release</th>\n",
       "      <td>-0.001399</td>\n",
       "      <td>1.000000</td>\n",
       "      <td>-0.001399</td>\n",
       "      <td>-0.021924</td>\n",
       "      <td>-0.013428</td>\n",
       "      <td>-0.020232</td>\n",
       "    </tr>\n",
       "    <tr>\n",
       "      <th>genre</th>\n",
       "      <td>1.000000</td>\n",
       "      <td>-0.001399</td>\n",
       "      <td>1.000000</td>\n",
       "      <td>0.010654</td>\n",
       "      <td>0.013373</td>\n",
       "      <td>0.013265</td>\n",
       "    </tr>\n",
       "    <tr>\n",
       "      <th>critic_score</th>\n",
       "      <td>0.010654</td>\n",
       "      <td>-0.021924</td>\n",
       "      <td>0.010654</td>\n",
       "      <td>1.000000</td>\n",
       "      <td>0.787438</td>\n",
       "      <td>0.782945</td>\n",
       "    </tr>\n",
       "    <tr>\n",
       "      <th>user_score</th>\n",
       "      <td>0.013373</td>\n",
       "      <td>-0.013428</td>\n",
       "      <td>0.013373</td>\n",
       "      <td>0.787438</td>\n",
       "      <td>1.000000</td>\n",
       "      <td>0.974292</td>\n",
       "    </tr>\n",
       "    <tr>\n",
       "      <th>rating</th>\n",
       "      <td>0.013265</td>\n",
       "      <td>-0.020232</td>\n",
       "      <td>0.013265</td>\n",
       "      <td>0.782945</td>\n",
       "      <td>0.974292</td>\n",
       "      <td>1.000000</td>\n",
       "    </tr>\n",
       "  </tbody>\n",
       "</table>\n",
       "</div>"
      ],
      "text/plain": [
       "                     name  year_of_release     genre  critic_score  \\\n",
       "name             1.000000        -0.001399  1.000000      0.010654   \n",
       "year_of_release -0.001399         1.000000 -0.001399     -0.021924   \n",
       "genre            1.000000        -0.001399  1.000000      0.010654   \n",
       "critic_score     0.010654        -0.021924  0.010654      1.000000   \n",
       "user_score       0.013373        -0.013428  0.013373      0.787438   \n",
       "rating           0.013265        -0.020232  0.013265      0.782945   \n",
       "\n",
       "                 user_score    rating  \n",
       "name               0.013373  0.013265  \n",
       "year_of_release   -0.013428 -0.020232  \n",
       "genre              0.013373  0.013265  \n",
       "critic_score       0.787438  0.782945  \n",
       "user_score         1.000000  0.974292  \n",
       "rating             0.974292  1.000000  "
      ]
     },
     "execution_count": 14,
     "metadata": {},
     "output_type": "execute_result"
    }
   ],
   "source": [
    "data[['name','year_of_release','genre','critic_score','user_score','rating']].isna().corr()"
   ]
  },
  {
   "cell_type": "markdown",
   "metadata": {},
   "source": [
    "По матрице корелляции пропущенных значений можно увидеть, что значения 'critic_score','user_score','rating' кореллируют между собой, т е изменение или удаление одних значений повлияет на другие, кроме того процент пропусков в данных столбцах более 40, поэтому удалять их нецелесообразно, оставим пропуски в этих столбцах нетронутыми.\n",
    "В столбцах 'name','genre' процент пропусков равен 0.01, а значит их удаление не повлечет перекос данных."
   ]
  },
  {
   "cell_type": "code",
   "execution_count": 15,
   "metadata": {},
   "outputs": [],
   "source": [
    "data2 = data.copy()"
   ]
  },
  {
   "cell_type": "code",
   "execution_count": 16,
   "metadata": {},
   "outputs": [],
   "source": [
    "data2.dropna(subset=['name','genre'],inplace=True)"
   ]
  },
  {
   "cell_type": "code",
   "execution_count": 17,
   "metadata": {},
   "outputs": [
    {
     "data": {
      "text/plain": [
       "name                  0\n",
       "platform              0\n",
       "year_of_release     269\n",
       "genre                 0\n",
       "na_sales              0\n",
       "eu_sales              0\n",
       "jp_sales              0\n",
       "other_sales           0\n",
       "critic_score       8576\n",
       "user_score         6699\n",
       "rating             6764\n",
       "dtype: int64"
      ]
     },
     "execution_count": 17,
     "metadata": {},
     "output_type": "execute_result"
    }
   ],
   "source": [
    "data2.isna().sum()"
   ]
  },
  {
   "cell_type": "markdown",
   "metadata": {},
   "source": [
    "Нет корректного варианта заполнения пропусков в дате выхода,их количество менее 2 процентов, поэтому можно их оставить нетронутыми."
   ]
  },
  {
   "cell_type": "code",
   "execution_count": 18,
   "metadata": {},
   "outputs": [],
   "source": [
    "data2['year_of_release'] = data2['year_of_release'].astype('Int64')"
   ]
  },
  {
   "cell_type": "code",
   "execution_count": 19,
   "metadata": {},
   "outputs": [],
   "source": [
    "data2['rating'] = data2['rating'].fillna('unknown')"
   ]
  },
  {
   "cell_type": "code",
   "execution_count": 20,
   "metadata": {},
   "outputs": [
    {
     "data": {
      "text/plain": [
       "name                  0\n",
       "platform              0\n",
       "year_of_release     269\n",
       "genre                 0\n",
       "na_sales              0\n",
       "eu_sales              0\n",
       "jp_sales              0\n",
       "other_sales           0\n",
       "critic_score       8576\n",
       "user_score         6699\n",
       "rating                0\n",
       "dtype: int64"
      ]
     },
     "execution_count": 20,
     "metadata": {},
     "output_type": "execute_result"
    }
   ],
   "source": [
    "data2.isna().sum()"
   ]
  },
  {
   "cell_type": "markdown",
   "metadata": {},
   "source": [
    "Большое количество пропусков в последних 3 столбцах можно объяснить тем,что не все компьютерные игры получают оценку критиков и не все пользователи оставляют свои оценки. По данныи из поисковой системы Entertainment Software Rating Board (ESRB) была основана в 1994 году. В датасете же данные об играх с 1980 года, естественно, что данный рейтинг существует не для всех изданий."
   ]
  },
  {
   "cell_type": "code",
   "execution_count": 21,
   "metadata": {},
   "outputs": [
    {
     "data": {
      "text/plain": [
       "array(['8', nan, '8.3', '8.5', '6.6', '8.4', '8.6', '7.7', '6.3', '7.4',\n",
       "       '8.2', '9', '7.9', '8.1', '8.7', '7.1', '3.4', '5.3', '4.8', '3.2',\n",
       "       '8.9', '6.4', '7.8', '7.5', '2.6', '7.2', '9.2', '7', '7.3', '4.3',\n",
       "       '7.6', '5.7', '5', '9.1', '6.5', 'tbd', '8.8', '6.9', '9.4', '6.8',\n",
       "       '6.1', '6.7', '5.4', '4', '4.9', '4.5', '9.3', '6.2', '4.2', '6',\n",
       "       '3.7', '4.1', '5.8', '5.6', '5.5', '4.4', '4.6', '5.9', '3.9',\n",
       "       '3.1', '2.9', '5.2', '3.3', '4.7', '5.1', '3.5', '2.5', '1.9', '3',\n",
       "       '2.7', '2.2', '2', '9.5', '2.1', '3.6', '2.8', '1.8', '3.8', '0',\n",
       "       '1.6', '9.6', '2.4', '1.7', '1.1', '0.3', '1.5', '0.7', '1.2',\n",
       "       '2.3', '0.5', '1.3', '0.2', '0.6', '1.4', '0.9', '1', '9.7'],\n",
       "      dtype=object)"
      ]
     },
     "execution_count": 21,
     "metadata": {},
     "output_type": "execute_result"
    }
   ],
   "source": [
    "data2['user_score'].unique()"
   ]
  },
  {
   "cell_type": "code",
   "execution_count": 22,
   "metadata": {},
   "outputs": [
    {
     "data": {
      "text/html": [
       "<div>\n",
       "<style scoped>\n",
       "    .dataframe tbody tr th:only-of-type {\n",
       "        vertical-align: middle;\n",
       "    }\n",
       "\n",
       "    .dataframe tbody tr th {\n",
       "        vertical-align: top;\n",
       "    }\n",
       "\n",
       "    .dataframe thead th {\n",
       "        text-align: right;\n",
       "    }\n",
       "</style>\n",
       "<table border=\"1\" class=\"dataframe\">\n",
       "  <thead>\n",
       "    <tr style=\"text-align: right;\">\n",
       "      <th></th>\n",
       "      <th>name</th>\n",
       "      <th>platform</th>\n",
       "      <th>year_of_release</th>\n",
       "      <th>genre</th>\n",
       "      <th>na_sales</th>\n",
       "      <th>eu_sales</th>\n",
       "      <th>jp_sales</th>\n",
       "      <th>other_sales</th>\n",
       "      <th>critic_score</th>\n",
       "      <th>user_score</th>\n",
       "      <th>rating</th>\n",
       "    </tr>\n",
       "  </thead>\n",
       "  <tbody>\n",
       "    <tr>\n",
       "      <th>119</th>\n",
       "      <td>Zumba Fitness</td>\n",
       "      <td>Wii</td>\n",
       "      <td>2010</td>\n",
       "      <td>Sports</td>\n",
       "      <td>3.45</td>\n",
       "      <td>2.59</td>\n",
       "      <td>0.0</td>\n",
       "      <td>0.66</td>\n",
       "      <td>&lt;NA&gt;</td>\n",
       "      <td>tbd</td>\n",
       "      <td>E</td>\n",
       "    </tr>\n",
       "    <tr>\n",
       "      <th>301</th>\n",
       "      <td>Namco Museum: 50th Anniversary</td>\n",
       "      <td>PS2</td>\n",
       "      <td>2005</td>\n",
       "      <td>Misc</td>\n",
       "      <td>2.08</td>\n",
       "      <td>1.35</td>\n",
       "      <td>0.0</td>\n",
       "      <td>0.54</td>\n",
       "      <td>61</td>\n",
       "      <td>tbd</td>\n",
       "      <td>E10+</td>\n",
       "    </tr>\n",
       "    <tr>\n",
       "      <th>520</th>\n",
       "      <td>Zumba Fitness 2</td>\n",
       "      <td>Wii</td>\n",
       "      <td>2011</td>\n",
       "      <td>Sports</td>\n",
       "      <td>1.51</td>\n",
       "      <td>1.03</td>\n",
       "      <td>0.0</td>\n",
       "      <td>0.27</td>\n",
       "      <td>&lt;NA&gt;</td>\n",
       "      <td>tbd</td>\n",
       "      <td>T</td>\n",
       "    </tr>\n",
       "    <tr>\n",
       "      <th>645</th>\n",
       "      <td>uDraw Studio</td>\n",
       "      <td>Wii</td>\n",
       "      <td>2010</td>\n",
       "      <td>Misc</td>\n",
       "      <td>1.65</td>\n",
       "      <td>0.57</td>\n",
       "      <td>0.0</td>\n",
       "      <td>0.20</td>\n",
       "      <td>71</td>\n",
       "      <td>tbd</td>\n",
       "      <td>E</td>\n",
       "    </tr>\n",
       "    <tr>\n",
       "      <th>657</th>\n",
       "      <td>Frogger's Adventures: Temple of the Frog</td>\n",
       "      <td>GBA</td>\n",
       "      <td>&lt;NA&gt;</td>\n",
       "      <td>Adventure</td>\n",
       "      <td>2.15</td>\n",
       "      <td>0.18</td>\n",
       "      <td>0.0</td>\n",
       "      <td>0.07</td>\n",
       "      <td>73</td>\n",
       "      <td>tbd</td>\n",
       "      <td>E</td>\n",
       "    </tr>\n",
       "    <tr>\n",
       "      <th>...</th>\n",
       "      <td>...</td>\n",
       "      <td>...</td>\n",
       "      <td>...</td>\n",
       "      <td>...</td>\n",
       "      <td>...</td>\n",
       "      <td>...</td>\n",
       "      <td>...</td>\n",
       "      <td>...</td>\n",
       "      <td>...</td>\n",
       "      <td>...</td>\n",
       "      <td>...</td>\n",
       "    </tr>\n",
       "    <tr>\n",
       "      <th>16695</th>\n",
       "      <td>Planet Monsters</td>\n",
       "      <td>GBA</td>\n",
       "      <td>2001</td>\n",
       "      <td>Action</td>\n",
       "      <td>0.01</td>\n",
       "      <td>0.00</td>\n",
       "      <td>0.0</td>\n",
       "      <td>0.00</td>\n",
       "      <td>67</td>\n",
       "      <td>tbd</td>\n",
       "      <td>E</td>\n",
       "    </tr>\n",
       "    <tr>\n",
       "      <th>16697</th>\n",
       "      <td>Bust-A-Move 3000</td>\n",
       "      <td>GC</td>\n",
       "      <td>2003</td>\n",
       "      <td>Puzzle</td>\n",
       "      <td>0.01</td>\n",
       "      <td>0.00</td>\n",
       "      <td>0.0</td>\n",
       "      <td>0.00</td>\n",
       "      <td>53</td>\n",
       "      <td>tbd</td>\n",
       "      <td>E</td>\n",
       "    </tr>\n",
       "    <tr>\n",
       "      <th>16698</th>\n",
       "      <td>Mega Brain Boost</td>\n",
       "      <td>DS</td>\n",
       "      <td>2008</td>\n",
       "      <td>Puzzle</td>\n",
       "      <td>0.01</td>\n",
       "      <td>0.00</td>\n",
       "      <td>0.0</td>\n",
       "      <td>0.00</td>\n",
       "      <td>48</td>\n",
       "      <td>tbd</td>\n",
       "      <td>E</td>\n",
       "    </tr>\n",
       "    <tr>\n",
       "      <th>16704</th>\n",
       "      <td>Plushees</td>\n",
       "      <td>DS</td>\n",
       "      <td>2008</td>\n",
       "      <td>Simulation</td>\n",
       "      <td>0.01</td>\n",
       "      <td>0.00</td>\n",
       "      <td>0.0</td>\n",
       "      <td>0.00</td>\n",
       "      <td>&lt;NA&gt;</td>\n",
       "      <td>tbd</td>\n",
       "      <td>E</td>\n",
       "    </tr>\n",
       "    <tr>\n",
       "      <th>16706</th>\n",
       "      <td>Men in Black II: Alien Escape</td>\n",
       "      <td>GC</td>\n",
       "      <td>2003</td>\n",
       "      <td>Shooter</td>\n",
       "      <td>0.01</td>\n",
       "      <td>0.00</td>\n",
       "      <td>0.0</td>\n",
       "      <td>0.00</td>\n",
       "      <td>&lt;NA&gt;</td>\n",
       "      <td>tbd</td>\n",
       "      <td>T</td>\n",
       "    </tr>\n",
       "  </tbody>\n",
       "</table>\n",
       "<p>2424 rows × 11 columns</p>\n",
       "</div>"
      ],
      "text/plain": [
       "                                           name platform  year_of_release  \\\n",
       "119                               Zumba Fitness      Wii             2010   \n",
       "301              Namco Museum: 50th Anniversary      PS2             2005   \n",
       "520                             Zumba Fitness 2      Wii             2011   \n",
       "645                                uDraw Studio      Wii             2010   \n",
       "657    Frogger's Adventures: Temple of the Frog      GBA             <NA>   \n",
       "...                                         ...      ...              ...   \n",
       "16695                           Planet Monsters      GBA             2001   \n",
       "16697                          Bust-A-Move 3000       GC             2003   \n",
       "16698                          Mega Brain Boost       DS             2008   \n",
       "16704                                  Plushees       DS             2008   \n",
       "16706             Men in Black II: Alien Escape       GC             2003   \n",
       "\n",
       "            genre  na_sales  eu_sales  jp_sales  other_sales  critic_score  \\\n",
       "119        Sports      3.45      2.59       0.0         0.66          <NA>   \n",
       "301          Misc      2.08      1.35       0.0         0.54            61   \n",
       "520        Sports      1.51      1.03       0.0         0.27          <NA>   \n",
       "645          Misc      1.65      0.57       0.0         0.20            71   \n",
       "657     Adventure      2.15      0.18       0.0         0.07            73   \n",
       "...           ...       ...       ...       ...          ...           ...   \n",
       "16695      Action      0.01      0.00       0.0         0.00            67   \n",
       "16697      Puzzle      0.01      0.00       0.0         0.00            53   \n",
       "16698      Puzzle      0.01      0.00       0.0         0.00            48   \n",
       "16704  Simulation      0.01      0.00       0.0         0.00          <NA>   \n",
       "16706     Shooter      0.01      0.00       0.0         0.00          <NA>   \n",
       "\n",
       "      user_score rating  \n",
       "119          tbd      E  \n",
       "301          tbd   E10+  \n",
       "520          tbd      T  \n",
       "645          tbd      E  \n",
       "657          tbd      E  \n",
       "...          ...    ...  \n",
       "16695        tbd      E  \n",
       "16697        tbd      E  \n",
       "16698        tbd      E  \n",
       "16704        tbd      E  \n",
       "16706        tbd      T  \n",
       "\n",
       "[2424 rows x 11 columns]"
      ]
     },
     "execution_count": 22,
     "metadata": {},
     "output_type": "execute_result"
    }
   ],
   "source": [
    "data2.query('user_score==\"tbd\"')"
   ]
  },
  {
   "cell_type": "markdown",
   "metadata": {},
   "source": [
    "Согласно данным, полученным из поисковой системы, аббревиатура \"tbd\" может означать, что рейтинг не определен, п опричине того, что производитель не предоставил пользователям возможности выставить рейтинг игре. "
   ]
  },
  {
   "cell_type": "code",
   "execution_count": 23,
   "metadata": {},
   "outputs": [],
   "source": [
    "data2.loc[data2['user_score']==\"tbd\",'user_score']=np.nan#заменим значения на пропуски"
   ]
  },
  {
   "cell_type": "code",
   "execution_count": 24,
   "metadata": {},
   "outputs": [],
   "source": [
    "data2['user_score'] = data2['user_score'].astype('float64')"
   ]
  },
  {
   "cell_type": "code",
   "execution_count": 25,
   "metadata": {},
   "outputs": [
    {
     "data": {
      "text/html": [
       "<div>\n",
       "<style scoped>\n",
       "    .dataframe tbody tr th:only-of-type {\n",
       "        vertical-align: middle;\n",
       "    }\n",
       "\n",
       "    .dataframe tbody tr th {\n",
       "        vertical-align: top;\n",
       "    }\n",
       "\n",
       "    .dataframe thead th {\n",
       "        text-align: right;\n",
       "    }\n",
       "</style>\n",
       "<table border=\"1\" class=\"dataframe\">\n",
       "  <thead>\n",
       "    <tr style=\"text-align: right;\">\n",
       "      <th></th>\n",
       "      <th>name</th>\n",
       "      <th>platform</th>\n",
       "      <th>year_of_release</th>\n",
       "      <th>genre</th>\n",
       "      <th>na_sales</th>\n",
       "      <th>eu_sales</th>\n",
       "      <th>jp_sales</th>\n",
       "      <th>other_sales</th>\n",
       "      <th>critic_score</th>\n",
       "      <th>user_score</th>\n",
       "      <th>rating</th>\n",
       "      <th>sum_sales</th>\n",
       "    </tr>\n",
       "  </thead>\n",
       "  <tbody>\n",
       "    <tr>\n",
       "      <th>0</th>\n",
       "      <td>Wii Sports</td>\n",
       "      <td>Wii</td>\n",
       "      <td>2006</td>\n",
       "      <td>Sports</td>\n",
       "      <td>41.36</td>\n",
       "      <td>28.96</td>\n",
       "      <td>3.77</td>\n",
       "      <td>8.45</td>\n",
       "      <td>76</td>\n",
       "      <td>8.0</td>\n",
       "      <td>E</td>\n",
       "      <td>82.54</td>\n",
       "    </tr>\n",
       "    <tr>\n",
       "      <th>1</th>\n",
       "      <td>Super Mario Bros.</td>\n",
       "      <td>NES</td>\n",
       "      <td>1985</td>\n",
       "      <td>Platform</td>\n",
       "      <td>29.08</td>\n",
       "      <td>3.58</td>\n",
       "      <td>6.81</td>\n",
       "      <td>0.77</td>\n",
       "      <td>&lt;NA&gt;</td>\n",
       "      <td>NaN</td>\n",
       "      <td>unknown</td>\n",
       "      <td>40.24</td>\n",
       "    </tr>\n",
       "    <tr>\n",
       "      <th>2</th>\n",
       "      <td>Mario Kart Wii</td>\n",
       "      <td>Wii</td>\n",
       "      <td>2008</td>\n",
       "      <td>Racing</td>\n",
       "      <td>15.68</td>\n",
       "      <td>12.76</td>\n",
       "      <td>3.79</td>\n",
       "      <td>3.29</td>\n",
       "      <td>82</td>\n",
       "      <td>8.3</td>\n",
       "      <td>E</td>\n",
       "      <td>35.52</td>\n",
       "    </tr>\n",
       "    <tr>\n",
       "      <th>3</th>\n",
       "      <td>Wii Sports Resort</td>\n",
       "      <td>Wii</td>\n",
       "      <td>2009</td>\n",
       "      <td>Sports</td>\n",
       "      <td>15.61</td>\n",
       "      <td>10.93</td>\n",
       "      <td>3.28</td>\n",
       "      <td>2.95</td>\n",
       "      <td>80</td>\n",
       "      <td>8.0</td>\n",
       "      <td>E</td>\n",
       "      <td>32.77</td>\n",
       "    </tr>\n",
       "    <tr>\n",
       "      <th>4</th>\n",
       "      <td>Pokemon Red/Pokemon Blue</td>\n",
       "      <td>GB</td>\n",
       "      <td>1996</td>\n",
       "      <td>Role-Playing</td>\n",
       "      <td>11.27</td>\n",
       "      <td>8.89</td>\n",
       "      <td>10.22</td>\n",
       "      <td>1.00</td>\n",
       "      <td>&lt;NA&gt;</td>\n",
       "      <td>NaN</td>\n",
       "      <td>unknown</td>\n",
       "      <td>31.38</td>\n",
       "    </tr>\n",
       "  </tbody>\n",
       "</table>\n",
       "</div>"
      ],
      "text/plain": [
       "                       name platform  year_of_release         genre  na_sales  \\\n",
       "0                Wii Sports      Wii             2006        Sports     41.36   \n",
       "1         Super Mario Bros.      NES             1985      Platform     29.08   \n",
       "2            Mario Kart Wii      Wii             2008        Racing     15.68   \n",
       "3         Wii Sports Resort      Wii             2009        Sports     15.61   \n",
       "4  Pokemon Red/Pokemon Blue       GB             1996  Role-Playing     11.27   \n",
       "\n",
       "   eu_sales  jp_sales  other_sales  critic_score  user_score   rating  \\\n",
       "0     28.96      3.77         8.45            76         8.0        E   \n",
       "1      3.58      6.81         0.77          <NA>         NaN  unknown   \n",
       "2     12.76      3.79         3.29            82         8.3        E   \n",
       "3     10.93      3.28         2.95            80         8.0        E   \n",
       "4      8.89     10.22         1.00          <NA>         NaN  unknown   \n",
       "\n",
       "   sum_sales  \n",
       "0      82.54  \n",
       "1      40.24  \n",
       "2      35.52  \n",
       "3      32.77  \n",
       "4      31.38  "
      ]
     },
     "execution_count": 25,
     "metadata": {},
     "output_type": "execute_result"
    }
   ],
   "source": [
    "#суммарные продажи \n",
    "data2['sum_sales'] =data2[['na_sales','eu_sales','jp_sales','other_sales']].sum(axis=1)\n",
    "data2.head()"
   ]
  },
  {
   "cell_type": "markdown",
   "metadata": {},
   "source": [
    "### Исследовательский анализ данных"
   ]
  },
  {
   "cell_type": "code",
   "execution_count": 79,
   "metadata": {},
   "outputs": [
    {
     "data": {
      "text/html": [
       "<div>\n",
       "<style scoped>\n",
       "    .dataframe tbody tr th:only-of-type {\n",
       "        vertical-align: middle;\n",
       "    }\n",
       "\n",
       "    .dataframe tbody tr th {\n",
       "        vertical-align: top;\n",
       "    }\n",
       "\n",
       "    .dataframe thead th {\n",
       "        text-align: right;\n",
       "    }\n",
       "</style>\n",
       "<table border=\"1\" class=\"dataframe\">\n",
       "  <thead>\n",
       "    <tr style=\"text-align: right;\">\n",
       "      <th></th>\n",
       "      <th></th>\n",
       "      <th>name</th>\n",
       "    </tr>\n",
       "    <tr>\n",
       "      <th>year_of_release</th>\n",
       "      <th>platform</th>\n",
       "      <th></th>\n",
       "    </tr>\n",
       "  </thead>\n",
       "  <tbody>\n",
       "    <tr>\n",
       "      <th>1980</th>\n",
       "      <th>2600</th>\n",
       "      <td>9</td>\n",
       "    </tr>\n",
       "    <tr>\n",
       "      <th>1981</th>\n",
       "      <th>2600</th>\n",
       "      <td>46</td>\n",
       "    </tr>\n",
       "    <tr>\n",
       "      <th>1982</th>\n",
       "      <th>2600</th>\n",
       "      <td>36</td>\n",
       "    </tr>\n",
       "    <tr>\n",
       "      <th rowspan=\"2\" valign=\"top\">1983</th>\n",
       "      <th>2600</th>\n",
       "      <td>11</td>\n",
       "    </tr>\n",
       "    <tr>\n",
       "      <th>NES</th>\n",
       "      <td>6</td>\n",
       "    </tr>\n",
       "    <tr>\n",
       "      <th>...</th>\n",
       "      <th>...</th>\n",
       "      <td>...</td>\n",
       "    </tr>\n",
       "    <tr>\n",
       "      <th rowspan=\"5\" valign=\"top\">2016</th>\n",
       "      <th>PSV</th>\n",
       "      <td>85</td>\n",
       "    </tr>\n",
       "    <tr>\n",
       "      <th>Wii</th>\n",
       "      <td>1</td>\n",
       "    </tr>\n",
       "    <tr>\n",
       "      <th>WiiU</th>\n",
       "      <td>14</td>\n",
       "    </tr>\n",
       "    <tr>\n",
       "      <th>X360</th>\n",
       "      <td>13</td>\n",
       "    </tr>\n",
       "    <tr>\n",
       "      <th>XOne</th>\n",
       "      <td>87</td>\n",
       "    </tr>\n",
       "  </tbody>\n",
       "</table>\n",
       "<p>238 rows × 1 columns</p>\n",
       "</div>"
      ],
      "text/plain": [
       "                          name\n",
       "year_of_release platform      \n",
       "1980            2600         9\n",
       "1981            2600        46\n",
       "1982            2600        36\n",
       "1983            2600        11\n",
       "                NES          6\n",
       "...                        ...\n",
       "2016            PSV         85\n",
       "                Wii          1\n",
       "                WiiU        14\n",
       "                X360        13\n",
       "                XOne        87\n",
       "\n",
       "[238 rows x 1 columns]"
      ]
     },
     "execution_count": 79,
     "metadata": {},
     "output_type": "execute_result"
    }
   ],
   "source": [
    "#количество игр по годам\n",
    "data2.pivot_table(index=['year_of_release','platform'],values='name', aggfunc='count') "
   ]
  },
  {
   "cell_type": "code",
   "execution_count": 82,
   "metadata": {},
   "outputs": [
    {
     "data": {
      "image/png": "[encoded data removed]",
      "text/plain": [
       "<Figure size 432x288 with 1 Axes>"
      ]
     },
     "metadata": {
      "needs_background": "light"
     },
     "output_type": "display_data"
    }
   ],
   "source": [
    "#общее количество выпускаемых игр по годам\n",
    "data2.pivot_table(index=['year_of_release'],values='name', aggfunc='count').plot(grid=True); "
   ]
  },
  {
   "cell_type": "markdown",
   "metadata": {},
   "source": [
    "Как видно из графика с 1980 по 1994 год производство игр было не очень многочисленно. Далее количество увеличивалось и к 2008-2009 годам достигло своего пика, потом нова пошло на спад. В принципе период до 1995 года не очень интересен в плане исследования.\n",
    "\n",
    " "
   ]
  },
  {
   "cell_type": "code",
   "execution_count": 27,
   "metadata": {},
   "outputs": [
    {
     "data": {
      "text/html": [
       "<div>\n",
       "<style scoped>\n",
       "    .dataframe tbody tr th:only-of-type {\n",
       "        vertical-align: middle;\n",
       "    }\n",
       "\n",
       "    .dataframe tbody tr th {\n",
       "        vertical-align: top;\n",
       "    }\n",
       "\n",
       "    .dataframe thead th {\n",
       "        text-align: right;\n",
       "    }\n",
       "</style>\n",
       "<table border=\"1\" class=\"dataframe\">\n",
       "  <thead>\n",
       "    <tr style=\"text-align: right;\">\n",
       "      <th></th>\n",
       "      <th>sum_sales</th>\n",
       "    </tr>\n",
       "    <tr>\n",
       "      <th>platform</th>\n",
       "      <th></th>\n",
       "    </tr>\n",
       "  </thead>\n",
       "  <tbody>\n",
       "    <tr>\n",
       "      <th>PS2</th>\n",
       "      <td>1255.77</td>\n",
       "    </tr>\n",
       "    <tr>\n",
       "      <th>X360</th>\n",
       "      <td>971.42</td>\n",
       "    </tr>\n",
       "    <tr>\n",
       "      <th>PS3</th>\n",
       "      <td>939.65</td>\n",
       "    </tr>\n",
       "    <tr>\n",
       "      <th>Wii</th>\n",
       "      <td>907.51</td>\n",
       "    </tr>\n",
       "    <tr>\n",
       "      <th>DS</th>\n",
       "      <td>806.12</td>\n",
       "    </tr>\n",
       "    <tr>\n",
       "      <th>PS</th>\n",
       "      <td>730.86</td>\n",
       "    </tr>\n",
       "    <tr>\n",
       "      <th>GBA</th>\n",
       "      <td>317.85</td>\n",
       "    </tr>\n",
       "    <tr>\n",
       "      <th>PS4</th>\n",
       "      <td>314.14</td>\n",
       "    </tr>\n",
       "    <tr>\n",
       "      <th>PSP</th>\n",
       "      <td>294.05</td>\n",
       "    </tr>\n",
       "    <tr>\n",
       "      <th>PC</th>\n",
       "      <td>259.52</td>\n",
       "    </tr>\n",
       "  </tbody>\n",
       "</table>\n",
       "</div>"
      ],
      "text/plain": [
       "          sum_sales\n",
       "platform           \n",
       "PS2         1255.77\n",
       "X360         971.42\n",
       "PS3          939.65\n",
       "Wii          907.51\n",
       "DS           806.12\n",
       "PS           730.86\n",
       "GBA          317.85\n",
       "PS4          314.14\n",
       "PSP          294.05\n",
       "PC           259.52"
      ]
     },
     "execution_count": 27,
     "metadata": {},
     "output_type": "execute_result"
    }
   ],
   "source": [
    "#суммарные продажи по платформам \n",
    "platform_sum = data2.pivot_table(index='platform',values='sum_sales', aggfunc='sum')\n",
    "platform_sum.sort_values(by='sum_sales', ascending =False).head(10)"
   ]
  },
  {
   "cell_type": "code",
   "execution_count": 29,
   "metadata": {},
   "outputs": [],
   "source": [
    "max_sales = np.array(['PS2','X360','PS3','Wii','DS','PS','GBA','PS4','PSP','PC']).tolist()"
   ]
  },
  {
   "cell_type": "code",
   "execution_count": 30,
   "metadata": {},
   "outputs": [
    {
     "data": {
      "image/png": "[encoded data removed]",
      "text/plain": [
       "<Figure size 1080x504 with 1 Axes>"
      ]
     },
     "metadata": {
      "needs_background": "light"
     },
     "output_type": "display_data"
    }
   ],
   "source": [
    "(data2\n",
    ".query('platform in @max_sales and year_of_release!=\"9999\"')\n",
    ".pivot_table(index='year_of_release',columns='platform',values='sum_sales',aggfunc='sum')\n",
    ".plot(kind='line',style='o-',title='Платформы с наибольшими продажами',grid=True,figsize=(15,7))\n",
    ");\n",
    "#plt.legend()#bbox_to_anchor=(1,1))\n",
    "# plt.show()"
   ]
  },
  {
   "cell_type": "markdown",
   "metadata": {},
   "source": [
    "На графике распределения продаж платформ по годам, можно проследить закономерность, что примерный \"срок жизни\" платформы около 10 лет, на 5-6 году жизни платформа достигает пика продаж. Из всех платформ с максимальными продажами только PC существует около 30 лет, но продажи равномерны, без взлётов. Новые платформы появляются практически ежегодно."
   ]
  },
  {
   "cell_type": "markdown",
   "metadata": {},
   "source": [
    "Для построения прогноза на 2017 год возьмём данные за предыдущие 3 года:2014,2015 и 2016."
   ]
  },
  {
   "cell_type": "code",
   "execution_count": 31,
   "metadata": {},
   "outputs": [
    {
     "data": {
      "text/html": [
       "<div>\n",
       "<style scoped>\n",
       "    .dataframe tbody tr th:only-of-type {\n",
       "        vertical-align: middle;\n",
       "    }\n",
       "\n",
       "    .dataframe tbody tr th {\n",
       "        vertical-align: top;\n",
       "    }\n",
       "\n",
       "    .dataframe thead th {\n",
       "        text-align: right;\n",
       "    }\n",
       "</style>\n",
       "<table border=\"1\" class=\"dataframe\">\n",
       "  <thead>\n",
       "    <tr style=\"text-align: right;\">\n",
       "      <th></th>\n",
       "      <th>name</th>\n",
       "      <th>platform</th>\n",
       "      <th>year_of_release</th>\n",
       "      <th>genre</th>\n",
       "      <th>na_sales</th>\n",
       "      <th>eu_sales</th>\n",
       "      <th>jp_sales</th>\n",
       "      <th>other_sales</th>\n",
       "      <th>critic_score</th>\n",
       "      <th>user_score</th>\n",
       "      <th>rating</th>\n",
       "      <th>sum_sales</th>\n",
       "    </tr>\n",
       "  </thead>\n",
       "  <tbody>\n",
       "    <tr>\n",
       "      <th>31</th>\n",
       "      <td>Call of Duty: Black Ops 3</td>\n",
       "      <td>PS4</td>\n",
       "      <td>2015</td>\n",
       "      <td>Shooter</td>\n",
       "      <td>6.03</td>\n",
       "      <td>5.86</td>\n",
       "      <td>0.36</td>\n",
       "      <td>2.38</td>\n",
       "      <td>&lt;NA&gt;</td>\n",
       "      <td>NaN</td>\n",
       "      <td>unknown</td>\n",
       "      <td>14.63</td>\n",
       "    </tr>\n",
       "    <tr>\n",
       "      <th>42</th>\n",
       "      <td>Grand Theft Auto V</td>\n",
       "      <td>PS4</td>\n",
       "      <td>2014</td>\n",
       "      <td>Action</td>\n",
       "      <td>3.96</td>\n",
       "      <td>6.31</td>\n",
       "      <td>0.38</td>\n",
       "      <td>1.97</td>\n",
       "      <td>97</td>\n",
       "      <td>8.3</td>\n",
       "      <td>M</td>\n",
       "      <td>12.62</td>\n",
       "    </tr>\n",
       "    <tr>\n",
       "      <th>47</th>\n",
       "      <td>Pokemon Omega Ruby/Pokemon Alpha Sapphire</td>\n",
       "      <td>3DS</td>\n",
       "      <td>2014</td>\n",
       "      <td>Role-Playing</td>\n",
       "      <td>4.35</td>\n",
       "      <td>3.49</td>\n",
       "      <td>3.10</td>\n",
       "      <td>0.74</td>\n",
       "      <td>&lt;NA&gt;</td>\n",
       "      <td>NaN</td>\n",
       "      <td>unknown</td>\n",
       "      <td>11.68</td>\n",
       "    </tr>\n",
       "    <tr>\n",
       "      <th>77</th>\n",
       "      <td>FIFA 16</td>\n",
       "      <td>PS4</td>\n",
       "      <td>2015</td>\n",
       "      <td>Sports</td>\n",
       "      <td>1.12</td>\n",
       "      <td>6.12</td>\n",
       "      <td>0.06</td>\n",
       "      <td>1.28</td>\n",
       "      <td>82</td>\n",
       "      <td>4.3</td>\n",
       "      <td>E</td>\n",
       "      <td>8.58</td>\n",
       "    </tr>\n",
       "    <tr>\n",
       "      <th>87</th>\n",
       "      <td>Star Wars Battlefront (2015)</td>\n",
       "      <td>PS4</td>\n",
       "      <td>2015</td>\n",
       "      <td>Shooter</td>\n",
       "      <td>2.99</td>\n",
       "      <td>3.49</td>\n",
       "      <td>0.22</td>\n",
       "      <td>1.28</td>\n",
       "      <td>&lt;NA&gt;</td>\n",
       "      <td>NaN</td>\n",
       "      <td>unknown</td>\n",
       "      <td>7.98</td>\n",
       "    </tr>\n",
       "  </tbody>\n",
       "</table>\n",
       "</div>"
      ],
      "text/plain": [
       "                                         name platform  year_of_release  \\\n",
       "31                  Call of Duty: Black Ops 3      PS4             2015   \n",
       "42                         Grand Theft Auto V      PS4             2014   \n",
       "47  Pokemon Omega Ruby/Pokemon Alpha Sapphire      3DS             2014   \n",
       "77                                    FIFA 16      PS4             2015   \n",
       "87               Star Wars Battlefront (2015)      PS4             2015   \n",
       "\n",
       "           genre  na_sales  eu_sales  jp_sales  other_sales  critic_score  \\\n",
       "31       Shooter      6.03      5.86      0.36         2.38          <NA>   \n",
       "42        Action      3.96      6.31      0.38         1.97            97   \n",
       "47  Role-Playing      4.35      3.49      3.10         0.74          <NA>   \n",
       "77        Sports      1.12      6.12      0.06         1.28            82   \n",
       "87       Shooter      2.99      3.49      0.22         1.28          <NA>   \n",
       "\n",
       "    user_score   rating  sum_sales  \n",
       "31         NaN  unknown      14.63  \n",
       "42         8.3        M      12.62  \n",
       "47         NaN  unknown      11.68  \n",
       "77         4.3        E       8.58  \n",
       "87         NaN  unknown       7.98  "
      ]
     },
     "execution_count": 31,
     "metadata": {},
     "output_type": "execute_result"
    }
   ],
   "source": [
    "new_data = data2.query('2014<=year_of_release<=2016')#срез по актуальному периоду\n",
    "new_data.head()\n",
    "#data2[data2['year_of_release']=='2015.0']#,'2015','2016']"
   ]
  },
  {
   "cell_type": "code",
   "execution_count": 32,
   "metadata": {},
   "outputs": [
    {
     "data": {
      "image/png": "[encoded data removed]",
      "text/plain": [
       "<Figure size 720x504 with 1 Axes>"
      ]
     },
     "metadata": {
      "needs_background": "light"
     },
     "output_type": "display_data"
    }
   ],
   "source": [
    "(new_data\n",
    " .pivot_table(index='platform',values='sum_sales',aggfunc='sum')\n",
    " .plot(kind='bar',title='Продажи 2014-2016',grid=True,figsize=(10,7))\n",
    ");"
   ]
  },
  {
   "cell_type": "markdown",
   "metadata": {},
   "source": [
    "По гистограмме распределения изменения продаж по платформам в 2014-2016 гг. видно, что лидерами по общему количеству проданных копий являются 4 (более 50 млн.) плтаформы:\"3DS\",\"XOne\",\"PS4\",\"PS3\""
   ]
  },
  {
   "cell_type": "code",
   "execution_count": 33,
   "metadata": {},
   "outputs": [
    {
     "data": {
      "image/png": "[encoded data removed]",
      "text/plain": [
       "<Figure size 1080x504 with 1 Axes>"
      ]
     },
     "metadata": {
      "needs_background": "light"
     },
     "output_type": "display_data"
    }
   ],
   "source": [
    "(new_data\n",
    " .pivot_table(index='year_of_release', columns='platform', values='sum_sales', aggfunc='sum')\n",
    " .plot(\n",
    "     grid=True,\n",
    "     figsize=(15, 7),\n",
    "     xlabel='год выпуска',\n",
    "     ylabel='сумарный объем продаж',\n",
    "     #cmap='tab20'\n",
    "     #linewith=3\n",
    " )\n",
    ")\n",
    "plt.xticks(np.arange(2014, 2017, 1), rotation='vertical');\n",
    "plt.yticks(np.arange(0, 150, 10));"
   ]
  },
  {
   "cell_type": "markdown",
   "metadata": {},
   "source": [
    "Однако на графике зависимости суммарных продаж по годам выпуска продажи по всем платформам стремятся на понижение. Если не заглядывать далеко в будущее, то большую прибыль пока дают и будут давать в 2017 году платвформы XOne и PS4, но не известно в течении какого срока. Также есть платформы со стабильными продажами, без резких подъемов и спусков, такие как 3DS,PC,PSV. Возможно их продажи и дальше будут приносить стабильную, но небольшую прибыль"
   ]
  },
  {
   "cell_type": "markdown",
   "metadata": {},
   "source": [
    "### Глобальные продажи игр в разбивке по платформам"
   ]
  },
  {
   "cell_type": "code",
   "execution_count": 34,
   "metadata": {},
   "outputs": [
    {
     "data": {
      "image/png": "[encoded data removed]",
      "text/plain": [
       "<Figure size 1440x720 with 1 Axes>"
      ]
     },
     "metadata": {
      "needs_background": "light"
     },
     "output_type": "display_data"
    }
   ],
   "source": [
    "plt.figure(figsize=(20, 10))\n",
    "sns.boxplot(data=new_data, x='platform', y='sum_sales')\n",
    "plt.ylim(0, 2);"
   ]
  },
  {
   "cell_type": "markdown",
   "metadata": {},
   "source": [
    "Медианы показывают в целом прибыльность той или иной платформы. Большое количество выбросов на некоторых платформах можно объяснить выпуском под них неких слишком дорогих и не особоенно популярных продуктов.\n",
    "В нашем датасете есть данные о продажах отдельных игр в общем. Но ничего не известно входят ли в эти значения продажи внутри игры. Ну например, если сюда входят продажи внутри самой игры, то ассиметрию можно объяснить например тем, что значительное число покупателей игр не тратит деньги на покупки внутри игры.\n",
    "Кроме того,вполне возможно выбросы и значительные перекосы могут быть вследствии того, что выпускаются игры сигмента ААА. Их мало, но они очень дорогие. Или выпускаются некие подарочные или специальные издания, доля продаж которых значительно меньше, но цена оказывает общее влияние на картину продаж в целом по платформе. "
   ]
  },
  {
   "cell_type": "markdown",
   "metadata": {},
   "source": [
    "### Влияние на продажи внутри одной популярной платформы отзывов пользователей и критиков"
   ]
  },
  {
   "cell_type": "markdown",
   "metadata": {},
   "source": [
    "Рассмотрим платформу PS4, построим для нее диаграмму рассеяния оценки критиков и пользователей и рассчитаем корелляцию"
   ]
  },
  {
   "cell_type": "code",
   "execution_count": 35,
   "metadata": {},
   "outputs": [],
   "source": [
    "ps = new_data[new_data['platform']=='PS4']"
   ]
  },
  {
   "cell_type": "code",
   "execution_count": 36,
   "metadata": {},
   "outputs": [
    {
     "name": "stderr",
     "output_type": "stream",
     "text": [
      "/tmp/ipykernel_31/350987213.py:1: SettingWithCopyWarning: \n",
      "A value is trying to be set on a copy of a slice from a DataFrame.\n",
      "Try using .loc[row_indexer,col_indexer] = value instead\n",
      "\n",
      "See the caveats in the documentation: https://pandas.pydata.org/pandas-docs/stable/user_guide/indexing.html#returning-a-view-versus-a-copy\n",
      "  ps['user_score'] = ps['user_score'].fillna(-1)\n",
      "/tmp/ipykernel_31/350987213.py:2: SettingWithCopyWarning: \n",
      "A value is trying to be set on a copy of a slice from a DataFrame.\n",
      "Try using .loc[row_indexer,col_indexer] = value instead\n",
      "\n",
      "See the caveats in the documentation: https://pandas.pydata.org/pandas-docs/stable/user_guide/indexing.html#returning-a-view-versus-a-copy\n",
      "  ps['critic_score'] = ps['critic_score'].fillna(-1)\n"
     ]
    }
   ],
   "source": [
    "ps['user_score'] = ps['user_score'].fillna(-1)\n",
    "ps['critic_score'] = ps['critic_score'].fillna(-1)"
   ]
  },
  {
   "cell_type": "code",
   "execution_count": 37,
   "metadata": {},
   "outputs": [
    {
     "name": "stderr",
     "output_type": "stream",
     "text": [
      "/tmp/ipykernel_31/809126180.py:1: SettingWithCopyWarning: \n",
      "A value is trying to be set on a copy of a slice from a DataFrame.\n",
      "Try using .loc[row_indexer,col_indexer] = value instead\n",
      "\n",
      "See the caveats in the documentation: https://pandas.pydata.org/pandas-docs/stable/user_guide/indexing.html#returning-a-view-versus-a-copy\n",
      "  ps['critic_score'] = ps['critic_score'].astype('float64')\n"
     ]
    }
   ],
   "source": [
    "ps['critic_score'] = ps['critic_score'].astype('float64')"
   ]
  },
  {
   "cell_type": "code",
   "execution_count": 38,
   "metadata": {},
   "outputs": [
    {
     "data": {
      "image/png": "[encoded data removed]",
      "text/plain": [
       "<Figure size 432x288 with 1 Axes>"
      ]
     },
     "metadata": {
      "needs_background": "light"
     },
     "output_type": "display_data"
    }
   ],
   "source": [
    "ps.sort_values('critic_score').plot(x='critic_score', y='sum_sales', kind='scatter'); \n",
    "plt.show()"
   ]
  },
  {
   "cell_type": "code",
   "execution_count": 39,
   "metadata": {},
   "outputs": [
    {
     "data": {
      "text/plain": [
       "0.40266141068104083"
      ]
     },
     "execution_count": 39,
     "metadata": {},
     "output_type": "execute_result"
    }
   ],
   "source": [
    "ps[ps['critic_score'] > 0]['critic_score'].corr(ps['sum_sales'])"
   ]
  },
  {
   "cell_type": "code",
   "execution_count": 40,
   "metadata": {},
   "outputs": [
    {
     "data": {
      "image/png": "[encoded data removed]",
      "text/plain": [
       "<Figure size 432x288 with 1 Axes>"
      ]
     },
     "metadata": {
      "needs_background": "light"
     },
     "output_type": "display_data"
    }
   ],
   "source": [
    "ps.sort_values('user_score').plot(x='user_score', y='sum_sales', kind='scatter'); \n",
    "plt.show()"
   ]
  },
  {
   "cell_type": "code",
   "execution_count": 41,
   "metadata": {},
   "outputs": [
    {
     "data": {
      "text/plain": [
       "-0.040131589472697356"
      ]
     },
     "execution_count": 41,
     "metadata": {},
     "output_type": "execute_result"
    }
   ],
   "source": [
    "ps[ps['user_score'] > 0]['user_score'].corr(ps['sum_sales'])"
   ]
  },
  {
   "cell_type": "markdown",
   "metadata": {},
   "source": [
    "Что касается выбранной мной платформы, мы видим прямую связь продаж с оценками критиков и обратную с оценками пользователей, пусть и не очень большую. Можно сделать вывод, что любой пиар - хороший или плохой идет на пользу продажам."
   ]
  },
  {
   "cell_type": "markdown",
   "metadata": {},
   "source": [
    "Соотнесем с продажами игр на других платформах"
   ]
  },
  {
   "cell_type": "code",
   "execution_count": 42,
   "metadata": {},
   "outputs": [
    {
     "name": "stderr",
     "output_type": "stream",
     "text": [
      "/tmp/ipykernel_31/3703636053.py:1: SettingWithCopyWarning: \n",
      "A value is trying to be set on a copy of a slice from a DataFrame.\n",
      "Try using .loc[row_indexer,col_indexer] = value instead\n",
      "\n",
      "See the caveats in the documentation: https://pandas.pydata.org/pandas-docs/stable/user_guide/indexing.html#returning-a-view-versus-a-copy\n",
      "  new_data['user_score'] = new_data['user_score'].fillna(-1)\n",
      "/tmp/ipykernel_31/3703636053.py:2: SettingWithCopyWarning: \n",
      "A value is trying to be set on a copy of a slice from a DataFrame.\n",
      "Try using .loc[row_indexer,col_indexer] = value instead\n",
      "\n",
      "See the caveats in the documentation: https://pandas.pydata.org/pandas-docs/stable/user_guide/indexing.html#returning-a-view-versus-a-copy\n",
      "  new_data['critic_score'] = new_data['critic_score'].fillna(-1)\n",
      "/tmp/ipykernel_31/3703636053.py:3: SettingWithCopyWarning: \n",
      "A value is trying to be set on a copy of a slice from a DataFrame.\n",
      "Try using .loc[row_indexer,col_indexer] = value instead\n",
      "\n",
      "See the caveats in the documentation: https://pandas.pydata.org/pandas-docs/stable/user_guide/indexing.html#returning-a-view-versus-a-copy\n",
      "  new_data['critic_score'] = new_data['critic_score'].astype('float64')\n",
      "/tmp/ipykernel_31/3703636053.py:4: SettingWithCopyWarning: \n",
      "A value is trying to be set on a copy of a slice from a DataFrame.\n",
      "Try using .loc[row_indexer,col_indexer] = value instead\n",
      "\n",
      "See the caveats in the documentation: https://pandas.pydata.org/pandas-docs/stable/user_guide/indexing.html#returning-a-view-versus-a-copy\n",
      "  new_data['user_score'] = new_data['user_score'].astype('float64')\n"
     ]
    }
   ],
   "source": [
    "new_data['user_score'] = new_data['user_score'].fillna(-1)\n",
    "new_data['critic_score'] = new_data['critic_score'].fillna(-1)\n",
    "new_data['critic_score'] = new_data['critic_score'].astype('float64')\n",
    "new_data['user_score'] = new_data['user_score'].astype('float64')"
   ]
  },
  {
   "cell_type": "code",
   "execution_count": 43,
   "metadata": {},
   "outputs": [
    {
     "data": {
      "image/png": "[encoded data removed]",
      "text/plain": [
       "<Figure size 1440x504 with 2 Axes>"
      ]
     },
     "metadata": {
      "needs_background": "light"
     },
     "output_type": "display_data"
    },
    {
     "data": {
      "image/png": "[encoded data removed]",
      "text/plain": [
       "<Figure size 1440x504 with 2 Axes>"
      ]
     },
     "metadata": {
      "needs_background": "light"
     },
     "output_type": "display_data"
    },
    {
     "data": {
      "image/png": "[encoded data removed]",
      "text/plain": [
       "<Figure size 1440x504 with 2 Axes>"
      ]
     },
     "metadata": {
      "needs_background": "light"
     },
     "output_type": "display_data"
    },
    {
     "data": {
      "image/png": "[encoded data removed]",
      "text/plain": [
       "<Figure size 1440x504 with 2 Axes>"
      ]
     },
     "metadata": {
      "needs_background": "light"
     },
     "output_type": "display_data"
    },
    {
     "data": {
      "image/png": "[encoded data removed]",
      "text/plain": [
       "<Figure size 1440x504 with 2 Axes>"
      ]
     },
     "metadata": {
      "needs_background": "light"
     },
     "output_type": "display_data"
    },
    {
     "data": {
      "image/png": "[encoded data removed]",
      "text/plain": [
       "<Figure size 1440x504 with 2 Axes>"
      ]
     },
     "metadata": {
      "needs_background": "light"
     },
     "output_type": "display_data"
    },
    {
     "data": {
      "image/png": "[encoded data removed]",
      "text/plain": [
       "<Figure size 1440x504 with 2 Axes>"
      ]
     },
     "metadata": {
      "needs_background": "light"
     },
     "output_type": "display_data"
    },
    {
     "data": {
      "image/png": "[encoded data removed]",
      "text/plain": [
       "<Figure size 1440x504 with 2 Axes>"
      ]
     },
     "metadata": {
      "needs_background": "light"
     },
     "output_type": "display_data"
    },
    {
     "data": {
      "image/png": "[encoded data removed]",
      "text/plain": [
       "<Figure size 1440x504 with 2 Axes>"
      ]
     },
     "metadata": {
      "needs_background": "light"
     },
     "output_type": "display_data"
    },
    {
     "data": {
      "image/png": "[encoded data removed]",
      "text/plain": [
       "<Figure size 1440x504 with 2 Axes>"
      ]
     },
     "metadata": {
      "needs_background": "light"
     },
     "output_type": "display_data"
    }
   ],
   "source": [
    "for platform in new_data['platform'].unique():\n",
    "    fig_scatter, (scatter_1, scatter_2) = plt.subplots(2, 1, figsize=(20, 7))\n",
    "    plt.suptitle(platform, y=1.05, fontsize=18)\n",
    "    scatter_1.scatter(x='critic_score', y='sum_sales', data=new_data[new_data['platform'] == platform])\n",
    "    scatter_1.set_title('Оценка критиков', fontsize=12)\n",
    "    scatter_2.scatter(x='user_score', y='sum_sales', data=new_data[new_data['platform'] == platform])\n",
    "    plt.title('Оценка пользователей', fontsize=12) "
   ]
  },
  {
   "cell_type": "code",
   "execution_count": 44,
   "metadata": {},
   "outputs": [
    {
     "name": "stdout",
     "output_type": "stream",
     "text": [
      "PS4\n",
      "корреляция по оценке критиков 0.328105086966363\n",
      "корреляция по оценке пользователей -0.013070305002484585\n",
      "3DS\n",
      "корреляция по оценке критиков 0.328105086966363\n",
      "корреляция по оценке пользователей -0.013070305002484585\n",
      "XOne\n",
      "корреляция по оценке критиков 0.328105086966363\n",
      "корреляция по оценке пользователей -0.013070305002484585\n",
      "WiiU\n",
      "корреляция по оценке критиков 0.328105086966363\n",
      "корреляция по оценке пользователей -0.013070305002484585\n",
      "PS3\n",
      "корреляция по оценке критиков 0.328105086966363\n",
      "корреляция по оценке пользователей -0.013070305002484585\n",
      "X360\n",
      "корреляция по оценке критиков 0.328105086966363\n",
      "корреляция по оценке пользователей -0.013070305002484585\n",
      "PC\n",
      "корреляция по оценке критиков 0.328105086966363\n",
      "корреляция по оценке пользователей -0.013070305002484585\n",
      "Wii\n",
      "корреляция по оценке критиков 0.328105086966363\n",
      "корреляция по оценке пользователей -0.013070305002484585\n",
      "PSV\n",
      "корреляция по оценке критиков 0.328105086966363\n",
      "корреляция по оценке пользователей -0.013070305002484585\n",
      "PSP\n",
      "корреляция по оценке критиков 0.328105086966363\n",
      "корреляция по оценке пользователей -0.013070305002484585\n"
     ]
    }
   ],
   "source": [
    "for platform in new_data['platform'].unique():\n",
    "    print(f'{platform}')\n",
    "    print('корреляция по оценке критиков', \n",
    "          new_data[new_data['critic_score'] > 0]['critic_score'].corr(new_data['sum_sales']))\n",
    "    print('корреляция по оценке пользователей', \n",
    "          new_data[new_data['user_score']> 0]['user_score'] .corr(new_data['sum_sales']))\n",
    "   #print('-'*20)"
   ]
  },
  {
   "cell_type": "markdown",
   "metadata": {},
   "source": [
    "По всем показателям существует корелляция по оценке критиков."
   ]
  },
  {
   "cell_type": "markdown",
   "metadata": {},
   "source": [
    "### Общее распределение игр по жанрам"
   ]
  },
  {
   "cell_type": "code",
   "execution_count": 45,
   "metadata": {},
   "outputs": [
    {
     "data": {
      "image/png": "[encoded data removed]",
      "text/plain": [
       "<Figure size 864x216 with 1 Axes>"
      ]
     },
     "metadata": {
      "needs_background": "light"
     },
     "output_type": "display_data"
    }
   ],
   "source": [
    "new_data['genre'].hist(bins=12, figsize=(12, 3));#распределение по жанрам"
   ]
  },
  {
   "cell_type": "code",
   "execution_count": 46,
   "metadata": {},
   "outputs": [
    {
     "data": {
      "image/png": "[encoded data removed]",
      "text/plain": [
       "<Figure size 720x216 with 1 Axes>"
      ]
     },
     "metadata": {
      "needs_background": "light"
     },
     "output_type": "display_data"
    }
   ],
   "source": [
    "(new_data\n",
    " .pivot_table(index='genre', values='sum_sales', aggfunc='sum').sort_values('sum_sales')\n",
    " .plot(grid=True, kind='bar', figsize=(10, 3))\n",
    ");#распределение по продаваемости"
   ]
  },
  {
   "cell_type": "code",
   "execution_count": 47,
   "metadata": {},
   "outputs": [
    {
     "data": {
      "image/png": "[encoded data removed]",
      "text/plain": [
       "<Figure size 1440x720 with 1 Axes>"
      ]
     },
     "metadata": {
      "needs_background": "light"
     },
     "output_type": "display_data"
    }
   ],
   "source": [
    "plt.figure(figsize=(20, 10))\n",
    "sns.boxplot(data=new_data, x='genre', y='sum_sales')\n",
    "plt.ylim(0, 3.5);"
   ]
  },
  {
   "cell_type": "markdown",
   "metadata": {},
   "source": [
    "Наиболее распространенный жанр игр - Action, к наиболее продаваемым относятся - Action и Shooter. По диаграммам размаха видно, что каждый показатель имеет много выбросов, есть перекосы и распределение неравномерное."
   ]
  },
  {
   "cell_type": "markdown",
   "metadata": {},
   "source": [
    "### Портрет пользователя каждого региона"
   ]
  },
  {
   "cell_type": "code",
   "execution_count": 48,
   "metadata": {},
   "outputs": [
    {
     "data": {
      "image/png": "[encoded data removed]",
      "text/plain": [
       "<Figure size 432x288 with 1 Axes>"
      ]
     },
     "metadata": {
      "needs_background": "light"
     },
     "output_type": "display_data"
    }
   ],
   "source": [
    "#Топ-5 платформ в Севреной Америке\n",
    "new_data.pivot_table(index='platform',\n",
    "                      values='na_sales',\n",
    "                      aggfunc='sum').sort_values('na_sales').\\\n",
    "                                            plot(kind='bar',\n",
    "                                            y='na_sales',\n",
    "                                            title='Северная Америка');"
   ]
  },
  {
   "cell_type": "code",
   "execution_count": 49,
   "metadata": {},
   "outputs": [
    {
     "data": {
      "text/html": [
       "<div>\n",
       "<style scoped>\n",
       "    .dataframe tbody tr th:only-of-type {\n",
       "        vertical-align: middle;\n",
       "    }\n",
       "\n",
       "    .dataframe tbody tr th {\n",
       "        vertical-align: top;\n",
       "    }\n",
       "\n",
       "    .dataframe thead th {\n",
       "        text-align: right;\n",
       "    }\n",
       "</style>\n",
       "<table border=\"1\" class=\"dataframe\">\n",
       "  <thead>\n",
       "    <tr style=\"text-align: right;\">\n",
       "      <th></th>\n",
       "      <th>na_sales</th>\n",
       "    </tr>\n",
       "    <tr>\n",
       "      <th>platform</th>\n",
       "      <th></th>\n",
       "    </tr>\n",
       "  </thead>\n",
       "  <tbody>\n",
       "    <tr>\n",
       "      <th>PS4</th>\n",
       "      <td>98.61</td>\n",
       "    </tr>\n",
       "    <tr>\n",
       "      <th>XOne</th>\n",
       "      <td>81.27</td>\n",
       "    </tr>\n",
       "    <tr>\n",
       "      <th>X360</th>\n",
       "      <td>28.30</td>\n",
       "    </tr>\n",
       "    <tr>\n",
       "      <th>3DS</th>\n",
       "      <td>22.64</td>\n",
       "    </tr>\n",
       "    <tr>\n",
       "      <th>PS3</th>\n",
       "      <td>22.05</td>\n",
       "    </tr>\n",
       "  </tbody>\n",
       "</table>\n",
       "</div>"
      ],
      "text/plain": [
       "          na_sales\n",
       "platform          \n",
       "PS4          98.61\n",
       "XOne         81.27\n",
       "X360         28.30\n",
       "3DS          22.64\n",
       "PS3          22.05"
      ]
     },
     "execution_count": 49,
     "metadata": {},
     "output_type": "execute_result"
    }
   ],
   "source": [
    "new_data.pivot_table(index='platform',\n",
    "                      values='na_sales',\n",
    "                      aggfunc='sum').sort_values('na_sales', ascending=False).head()"
   ]
  },
  {
   "cell_type": "code",
   "execution_count": 50,
   "metadata": {},
   "outputs": [
    {
     "data": {
      "image/png": "[encoded data removed]",
      "text/plain": [
       "<Figure size 432x288 with 1 Axes>"
      ]
     },
     "metadata": {
      "needs_background": "light"
     },
     "output_type": "display_data"
    }
   ],
   "source": [
    "#Топ-5 платформ в Европе\n",
    "new_data.pivot_table(index='platform',\n",
    "                      values='eu_sales',\n",
    "                      aggfunc='sum').sort_values('eu_sales').\\\n",
    "                                            plot(kind='bar',\n",
    "                                            y='eu_sales',\n",
    "                                            title='Европа');"
   ]
  },
  {
   "cell_type": "code",
   "execution_count": 51,
   "metadata": {},
   "outputs": [
    {
     "data": {
      "text/html": [
       "<div>\n",
       "<style scoped>\n",
       "    .dataframe tbody tr th:only-of-type {\n",
       "        vertical-align: middle;\n",
       "    }\n",
       "\n",
       "    .dataframe tbody tr th {\n",
       "        vertical-align: top;\n",
       "    }\n",
       "\n",
       "    .dataframe thead th {\n",
       "        text-align: right;\n",
       "    }\n",
       "</style>\n",
       "<table border=\"1\" class=\"dataframe\">\n",
       "  <thead>\n",
       "    <tr style=\"text-align: right;\">\n",
       "      <th></th>\n",
       "      <th>eu_sales</th>\n",
       "    </tr>\n",
       "    <tr>\n",
       "      <th>platform</th>\n",
       "      <th></th>\n",
       "    </tr>\n",
       "  </thead>\n",
       "  <tbody>\n",
       "    <tr>\n",
       "      <th>PS4</th>\n",
       "      <td>130.04</td>\n",
       "    </tr>\n",
       "    <tr>\n",
       "      <th>XOne</th>\n",
       "      <td>46.25</td>\n",
       "    </tr>\n",
       "    <tr>\n",
       "      <th>PS3</th>\n",
       "      <td>25.54</td>\n",
       "    </tr>\n",
       "    <tr>\n",
       "      <th>PC</th>\n",
       "      <td>17.97</td>\n",
       "    </tr>\n",
       "    <tr>\n",
       "      <th>3DS</th>\n",
       "      <td>16.12</td>\n",
       "    </tr>\n",
       "  </tbody>\n",
       "</table>\n",
       "</div>"
      ],
      "text/plain": [
       "          eu_sales\n",
       "platform          \n",
       "PS4         130.04\n",
       "XOne         46.25\n",
       "PS3          25.54\n",
       "PC           17.97\n",
       "3DS          16.12"
      ]
     },
     "execution_count": 51,
     "metadata": {},
     "output_type": "execute_result"
    }
   ],
   "source": [
    "new_data.pivot_table(index='platform',\n",
    "                      values='eu_sales',\n",
    "                      aggfunc='sum').sort_values('eu_sales', ascending=False).head()"
   ]
  },
  {
   "cell_type": "code",
   "execution_count": 52,
   "metadata": {},
   "outputs": [
    {
     "data": {
      "image/png": "[encoded data removed]",
      "text/plain": [
       "<Figure size 432x288 with 1 Axes>"
      ]
     },
     "metadata": {
      "needs_background": "light"
     },
     "output_type": "display_data"
    }
   ],
   "source": [
    "#Топ-5 Япония\n",
    "new_data.pivot_table(index='platform',\n",
    "                      values='jp_sales',\n",
    "                      aggfunc='sum').sort_values('jp_sales').\\\n",
    "                                            plot(kind='bar',\n",
    "                                            y='jp_sales',\n",
    "                                            title='Япония');"
   ]
  },
  {
   "cell_type": "code",
   "execution_count": 53,
   "metadata": {},
   "outputs": [
    {
     "data": {
      "text/html": [
       "<div>\n",
       "<style scoped>\n",
       "    .dataframe tbody tr th:only-of-type {\n",
       "        vertical-align: middle;\n",
       "    }\n",
       "\n",
       "    .dataframe tbody tr th {\n",
       "        vertical-align: top;\n",
       "    }\n",
       "\n",
       "    .dataframe thead th {\n",
       "        text-align: right;\n",
       "    }\n",
       "</style>\n",
       "<table border=\"1\" class=\"dataframe\">\n",
       "  <thead>\n",
       "    <tr style=\"text-align: right;\">\n",
       "      <th></th>\n",
       "      <th>jp_sales</th>\n",
       "    </tr>\n",
       "    <tr>\n",
       "      <th>platform</th>\n",
       "      <th></th>\n",
       "    </tr>\n",
       "  </thead>\n",
       "  <tbody>\n",
       "    <tr>\n",
       "      <th>3DS</th>\n",
       "      <td>44.24</td>\n",
       "    </tr>\n",
       "    <tr>\n",
       "      <th>PS4</th>\n",
       "      <td>15.02</td>\n",
       "    </tr>\n",
       "    <tr>\n",
       "      <th>PSV</th>\n",
       "      <td>14.54</td>\n",
       "    </tr>\n",
       "    <tr>\n",
       "      <th>PS3</th>\n",
       "      <td>11.22</td>\n",
       "    </tr>\n",
       "    <tr>\n",
       "      <th>WiiU</th>\n",
       "      <td>7.31</td>\n",
       "    </tr>\n",
       "  </tbody>\n",
       "</table>\n",
       "</div>"
      ],
      "text/plain": [
       "          jp_sales\n",
       "platform          \n",
       "3DS          44.24\n",
       "PS4          15.02\n",
       "PSV          14.54\n",
       "PS3          11.22\n",
       "WiiU          7.31"
      ]
     },
     "execution_count": 53,
     "metadata": {},
     "output_type": "execute_result"
    }
   ],
   "source": [
    "new_data.pivot_table(index='platform',\n",
    "                      values='jp_sales',\n",
    "                      aggfunc='sum').sort_values('jp_sales', ascending=False).head()"
   ]
  },
  {
   "cell_type": "code",
   "execution_count": 54,
   "metadata": {},
   "outputs": [
    {
     "data": {
      "image/png": "[encoded data removed]",
      "text/plain": [
       "<Figure size 432x288 with 1 Axes>"
      ]
     },
     "metadata": {
      "needs_background": "light"
     },
     "output_type": "display_data"
    }
   ],
   "source": [
    "#Топ-5 другие страны\n",
    "new_data.pivot_table(index='platform',\n",
    "                      values='other_sales',\n",
    "                      aggfunc='sum').sort_values('other_sales').\\\n",
    "                                            plot(kind='bar',\n",
    "                                            y='other_sales',\n",
    "                                            title='Другие');"
   ]
  },
  {
   "cell_type": "code",
   "execution_count": 55,
   "metadata": {},
   "outputs": [
    {
     "data": {
      "text/html": [
       "<div>\n",
       "<style scoped>\n",
       "    .dataframe tbody tr th:only-of-type {\n",
       "        vertical-align: middle;\n",
       "    }\n",
       "\n",
       "    .dataframe tbody tr th {\n",
       "        vertical-align: top;\n",
       "    }\n",
       "\n",
       "    .dataframe thead th {\n",
       "        text-align: right;\n",
       "    }\n",
       "</style>\n",
       "<table border=\"1\" class=\"dataframe\">\n",
       "  <thead>\n",
       "    <tr style=\"text-align: right;\">\n",
       "      <th></th>\n",
       "      <th>other_sales</th>\n",
       "    </tr>\n",
       "    <tr>\n",
       "      <th>platform</th>\n",
       "      <th></th>\n",
       "    </tr>\n",
       "  </thead>\n",
       "  <tbody>\n",
       "    <tr>\n",
       "      <th>PS4</th>\n",
       "      <td>44.48</td>\n",
       "    </tr>\n",
       "    <tr>\n",
       "      <th>XOne</th>\n",
       "      <td>12.52</td>\n",
       "    </tr>\n",
       "    <tr>\n",
       "      <th>PS3</th>\n",
       "      <td>9.37</td>\n",
       "    </tr>\n",
       "    <tr>\n",
       "      <th>X360</th>\n",
       "      <td>4.35</td>\n",
       "    </tr>\n",
       "    <tr>\n",
       "      <th>3DS</th>\n",
       "      <td>3.68</td>\n",
       "    </tr>\n",
       "  </tbody>\n",
       "</table>\n",
       "</div>"
      ],
      "text/plain": [
       "          other_sales\n",
       "platform             \n",
       "PS4             44.48\n",
       "XOne            12.52\n",
       "PS3              9.37\n",
       "X360             4.35\n",
       "3DS              3.68"
      ]
     },
     "execution_count": 55,
     "metadata": {},
     "output_type": "execute_result"
    }
   ],
   "source": [
    "new_data.pivot_table(index='platform',\n",
    "                      values='other_sales',\n",
    "                      aggfunc='sum').sort_values('other_sales', ascending=False).head()"
   ]
  },
  {
   "cell_type": "markdown",
   "metadata": {},
   "source": [
    "Во всех странах, кроме Японии в лидерах оказались PS4 и XOne. В Северной Америке и Европе достаточно большие продажи игр, в Японии и других странах несколько ниже, да и вообще картина популярных платформ в Японии отличается от всего мира."
   ]
  },
  {
   "cell_type": "markdown",
   "metadata": {},
   "source": [
    "Жанры по странам"
   ]
  },
  {
   "cell_type": "code",
   "execution_count": 56,
   "metadata": {},
   "outputs": [
    {
     "data": {
      "image/png": "[encoded data removed]",
      "text/plain": [
       "<Figure size 432x288 with 1 Axes>"
      ]
     },
     "metadata": {
      "needs_background": "light"
     },
     "output_type": "display_data"
    }
   ],
   "source": [
    "new_data.pivot_table(index='genre',\n",
    "                      values='na_sales',\n",
    "                      aggfunc='sum').sort_values('na_sales').\\\n",
    "                                            plot(kind='bar',\n",
    "                                            y='na_sales',\n",
    "                                            title='Северная Америка');"
   ]
  },
  {
   "cell_type": "code",
   "execution_count": 57,
   "metadata": {},
   "outputs": [
    {
     "data": {
      "text/html": [
       "<div>\n",
       "<style scoped>\n",
       "    .dataframe tbody tr th:only-of-type {\n",
       "        vertical-align: middle;\n",
       "    }\n",
       "\n",
       "    .dataframe tbody tr th {\n",
       "        vertical-align: top;\n",
       "    }\n",
       "\n",
       "    .dataframe thead th {\n",
       "        text-align: right;\n",
       "    }\n",
       "</style>\n",
       "<table border=\"1\" class=\"dataframe\">\n",
       "  <thead>\n",
       "    <tr style=\"text-align: right;\">\n",
       "      <th></th>\n",
       "      <th>na_sales</th>\n",
       "    </tr>\n",
       "    <tr>\n",
       "      <th>genre</th>\n",
       "      <th></th>\n",
       "    </tr>\n",
       "  </thead>\n",
       "  <tbody>\n",
       "    <tr>\n",
       "      <th>Shooter</th>\n",
       "      <td>79.02</td>\n",
       "    </tr>\n",
       "    <tr>\n",
       "      <th>Action</th>\n",
       "      <td>72.53</td>\n",
       "    </tr>\n",
       "    <tr>\n",
       "      <th>Sports</th>\n",
       "      <td>46.13</td>\n",
       "    </tr>\n",
       "    <tr>\n",
       "      <th>Role-Playing</th>\n",
       "      <td>33.47</td>\n",
       "    </tr>\n",
       "    <tr>\n",
       "      <th>Misc</th>\n",
       "      <td>15.05</td>\n",
       "    </tr>\n",
       "  </tbody>\n",
       "</table>\n",
       "</div>"
      ],
      "text/plain": [
       "              na_sales\n",
       "genre                 \n",
       "Shooter          79.02\n",
       "Action           72.53\n",
       "Sports           46.13\n",
       "Role-Playing     33.47\n",
       "Misc             15.05"
      ]
     },
     "execution_count": 57,
     "metadata": {},
     "output_type": "execute_result"
    }
   ],
   "source": [
    "new_data.pivot_table(index='genre',\n",
    "                      values='na_sales',\n",
    "                      aggfunc='sum').sort_values('na_sales', ascending=False).head()"
   ]
  },
  {
   "cell_type": "code",
   "execution_count": 58,
   "metadata": {},
   "outputs": [
    {
     "data": {
      "image/png": "[encoded data removed]",
      "text/plain": [
       "<Figure size 432x288 with 1 Axes>"
      ]
     },
     "metadata": {
      "needs_background": "light"
     },
     "output_type": "display_data"
    }
   ],
   "source": [
    "new_data.pivot_table(index='genre',\n",
    "                      values='eu_sales',\n",
    "                      aggfunc='sum').sort_values('eu_sales').\\\n",
    "                                            plot(kind='bar',\n",
    "                                            y='eu_sales',\n",
    "                                            title='Европа');"
   ]
  },
  {
   "cell_type": "code",
   "execution_count": 59,
   "metadata": {},
   "outputs": [
    {
     "data": {
      "text/html": [
       "<div>\n",
       "<style scoped>\n",
       "    .dataframe tbody tr th:only-of-type {\n",
       "        vertical-align: middle;\n",
       "    }\n",
       "\n",
       "    .dataframe tbody tr th {\n",
       "        vertical-align: top;\n",
       "    }\n",
       "\n",
       "    .dataframe thead th {\n",
       "        text-align: right;\n",
       "    }\n",
       "</style>\n",
       "<table border=\"1\" class=\"dataframe\">\n",
       "  <thead>\n",
       "    <tr style=\"text-align: right;\">\n",
       "      <th></th>\n",
       "      <th>eu_sales</th>\n",
       "    </tr>\n",
       "    <tr>\n",
       "      <th>genre</th>\n",
       "      <th></th>\n",
       "    </tr>\n",
       "  </thead>\n",
       "  <tbody>\n",
       "    <tr>\n",
       "      <th>Action</th>\n",
       "      <td>74.68</td>\n",
       "    </tr>\n",
       "    <tr>\n",
       "      <th>Shooter</th>\n",
       "      <td>65.52</td>\n",
       "    </tr>\n",
       "    <tr>\n",
       "      <th>Sports</th>\n",
       "      <td>45.73</td>\n",
       "    </tr>\n",
       "    <tr>\n",
       "      <th>Role-Playing</th>\n",
       "      <td>28.17</td>\n",
       "    </tr>\n",
       "    <tr>\n",
       "      <th>Racing</th>\n",
       "      <td>14.13</td>\n",
       "    </tr>\n",
       "  </tbody>\n",
       "</table>\n",
       "</div>"
      ],
      "text/plain": [
       "              eu_sales\n",
       "genre                 \n",
       "Action           74.68\n",
       "Shooter          65.52\n",
       "Sports           45.73\n",
       "Role-Playing     28.17\n",
       "Racing           14.13"
      ]
     },
     "execution_count": 59,
     "metadata": {},
     "output_type": "execute_result"
    }
   ],
   "source": [
    "new_data.pivot_table(index='genre',\n",
    "                      values='eu_sales',\n",
    "                      aggfunc='sum').sort_values('eu_sales', ascending=False).head()"
   ]
  },
  {
   "cell_type": "code",
   "execution_count": 60,
   "metadata": {},
   "outputs": [
    {
     "data": {
      "image/png": "[encoded data removed]",
      "text/plain": [
       "<Figure size 432x288 with 1 Axes>"
      ]
     },
     "metadata": {
      "needs_background": "light"
     },
     "output_type": "display_data"
    }
   ],
   "source": [
    "new_data.pivot_table(index='genre',\n",
    "                      values='jp_sales',\n",
    "                      aggfunc='sum').sort_values('jp_sales').\\\n",
    "                                            plot(kind='bar',\n",
    "                                            y='jp_sales',\n",
    "                                            title='Япония');"
   ]
  },
  {
   "cell_type": "code",
   "execution_count": 61,
   "metadata": {},
   "outputs": [
    {
     "data": {
      "text/html": [
       "<div>\n",
       "<style scoped>\n",
       "    .dataframe tbody tr th:only-of-type {\n",
       "        vertical-align: middle;\n",
       "    }\n",
       "\n",
       "    .dataframe tbody tr th {\n",
       "        vertical-align: top;\n",
       "    }\n",
       "\n",
       "    .dataframe thead th {\n",
       "        text-align: right;\n",
       "    }\n",
       "</style>\n",
       "<table border=\"1\" class=\"dataframe\">\n",
       "  <thead>\n",
       "    <tr style=\"text-align: right;\">\n",
       "      <th></th>\n",
       "      <th>jp_sales</th>\n",
       "    </tr>\n",
       "    <tr>\n",
       "      <th>genre</th>\n",
       "      <th></th>\n",
       "    </tr>\n",
       "  </thead>\n",
       "  <tbody>\n",
       "    <tr>\n",
       "      <th>Role-Playing</th>\n",
       "      <td>31.16</td>\n",
       "    </tr>\n",
       "    <tr>\n",
       "      <th>Action</th>\n",
       "      <td>29.58</td>\n",
       "    </tr>\n",
       "    <tr>\n",
       "      <th>Fighting</th>\n",
       "      <td>6.37</td>\n",
       "    </tr>\n",
       "    <tr>\n",
       "      <th>Misc</th>\n",
       "      <td>5.61</td>\n",
       "    </tr>\n",
       "    <tr>\n",
       "      <th>Shooter</th>\n",
       "      <td>4.87</td>\n",
       "    </tr>\n",
       "  </tbody>\n",
       "</table>\n",
       "</div>"
      ],
      "text/plain": [
       "              jp_sales\n",
       "genre                 \n",
       "Role-Playing     31.16\n",
       "Action           29.58\n",
       "Fighting          6.37\n",
       "Misc              5.61\n",
       "Shooter           4.87"
      ]
     },
     "execution_count": 61,
     "metadata": {},
     "output_type": "execute_result"
    }
   ],
   "source": [
    "new_data.pivot_table(index='genre',\n",
    "                      values='jp_sales',\n",
    "                      aggfunc='sum').sort_values('jp_sales', ascending=False).head()"
   ]
  },
  {
   "cell_type": "code",
   "execution_count": 62,
   "metadata": {},
   "outputs": [
    {
     "data": {
      "image/png": "[encoded data removed]",
      "text/plain": [
       "<Figure size 432x288 with 1 Axes>"
      ]
     },
     "metadata": {
      "needs_background": "light"
     },
     "output_type": "display_data"
    }
   ],
   "source": [
    "new_data.pivot_table(index='genre',\n",
    "                      values='other_sales',\n",
    "                      aggfunc='sum').sort_values('other_sales').\\\n",
    "                                            plot(kind='bar',\n",
    "                                            y='other_sales',\n",
    "                                            title='другие страны');"
   ]
  },
  {
   "cell_type": "code",
   "execution_count": 63,
   "metadata": {},
   "outputs": [
    {
     "data": {
      "text/html": [
       "<div>\n",
       "<style scoped>\n",
       "    .dataframe tbody tr th:only-of-type {\n",
       "        vertical-align: middle;\n",
       "    }\n",
       "\n",
       "    .dataframe tbody tr th {\n",
       "        vertical-align: top;\n",
       "    }\n",
       "\n",
       "    .dataframe thead th {\n",
       "        text-align: right;\n",
       "    }\n",
       "</style>\n",
       "<table border=\"1\" class=\"dataframe\">\n",
       "  <thead>\n",
       "    <tr style=\"text-align: right;\">\n",
       "      <th></th>\n",
       "      <th>other_sales</th>\n",
       "    </tr>\n",
       "    <tr>\n",
       "      <th>genre</th>\n",
       "      <th></th>\n",
       "    </tr>\n",
       "  </thead>\n",
       "  <tbody>\n",
       "    <tr>\n",
       "      <th>Action</th>\n",
       "      <td>22.57</td>\n",
       "    </tr>\n",
       "    <tr>\n",
       "      <th>Shooter</th>\n",
       "      <td>21.53</td>\n",
       "    </tr>\n",
       "    <tr>\n",
       "      <th>Sports</th>\n",
       "      <td>14.36</td>\n",
       "    </tr>\n",
       "    <tr>\n",
       "      <th>Role-Playing</th>\n",
       "      <td>8.64</td>\n",
       "    </tr>\n",
       "    <tr>\n",
       "      <th>Misc</th>\n",
       "      <td>4.03</td>\n",
       "    </tr>\n",
       "  </tbody>\n",
       "</table>\n",
       "</div>"
      ],
      "text/plain": [
       "              other_sales\n",
       "genre                    \n",
       "Action              22.57\n",
       "Shooter             21.53\n",
       "Sports              14.36\n",
       "Role-Playing         8.64\n",
       "Misc                 4.03"
      ]
     },
     "execution_count": 63,
     "metadata": {},
     "output_type": "execute_result"
    }
   ],
   "source": [
    "new_data.pivot_table(index='genre',\n",
    "                      values='other_sales',\n",
    "                      aggfunc='sum').sort_values('other_sales', ascending=False).head()"
   ]
  },
  {
   "cell_type": "markdown",
   "metadata": {},
   "source": [
    "Среди популярных жанров во всех странах, кроме Японии преобладает Action, Shooter,Sports. В Японии к жанру Action ддобавились Role-playing и Fighting. \n",
    "Из всего вышесказанного можно сделать вывод, что для всех стран кроме Японии стратегия развития игр привержена одним и тем же тенденциям."
   ]
  },
  {
   "cell_type": "markdown",
   "metadata": {},
   "source": [
    "Влияние на продажи рейтинга ESRB"
   ]
  },
  {
   "cell_type": "code",
   "execution_count": 64,
   "metadata": {},
   "outputs": [
    {
     "data": {
      "image/png": "[encoded data removed]",
      "text/plain": [
       "<Figure size 720x216 with 1 Axes>"
      ]
     },
     "metadata": {
      "needs_background": "light"
     },
     "output_type": "display_data"
    }
   ],
   "source": [
    "new_data.pivot_table(index='rating', values='na_sales', aggfunc='sum').sort_values('na_sales').\\\n",
    "    plot(grid=True, kind='bar', figsize=(10, 3));"
   ]
  },
  {
   "cell_type": "code",
   "execution_count": 65,
   "metadata": {},
   "outputs": [
    {
     "data": {
      "image/png": "[encoded data removed]",
      "text/plain": [
       "<Figure size 720x216 with 1 Axes>"
      ]
     },
     "metadata": {
      "needs_background": "light"
     },
     "output_type": "display_data"
    }
   ],
   "source": [
    "new_data.pivot_table(index='rating', values='eu_sales', aggfunc='sum').sort_values('eu_sales').\\\n",
    "    plot(grid=True, kind='bar', figsize=(10, 3));"
   ]
  },
  {
   "cell_type": "code",
   "execution_count": 66,
   "metadata": {},
   "outputs": [
    {
     "data": {
      "image/png": "[encoded data removed]",
      "text/plain": [
       "<Figure size 720x216 with 1 Axes>"
      ]
     },
     "metadata": {
      "needs_background": "light"
     },
     "output_type": "display_data"
    }
   ],
   "source": [
    "new_data.pivot_table(index='rating', values='jp_sales', aggfunc='sum').sort_values('jp_sales').\\\n",
    "    plot(grid=True, kind='bar', figsize=(10, 3));"
   ]
  },
  {
   "cell_type": "code",
   "execution_count": 67,
   "metadata": {},
   "outputs": [
    {
     "data": {
      "image/png": "[encoded data removed]",
      "text/plain": [
       "<Figure size 720x216 with 1 Axes>"
      ]
     },
     "metadata": {
      "needs_background": "light"
     },
     "output_type": "display_data"
    }
   ],
   "source": [
    "new_data.pivot_table(index='rating', values='other_sales', aggfunc='sum').sort_values('other_sales').\\\n",
    "    plot(grid=True, kind='bar', figsize=(10, 3));"
   ]
  },
  {
   "cell_type": "markdown",
   "metadata": {},
   "source": [
    "Портреты пользователей по странам\n",
    "Северная Америка\n",
    "Лидер по продажам.\n",
    "Выбирает XOne, PS4 и PS3.\n",
    "По жанрам предпочитает Action, Shooter, Sports.\n",
    "По категориям будет покупать для взрослых - M, базовые - E и unknown.\n",
    "Совсем детские игры не интересуют. \n",
    "Европа\n",
    "Тоже достаточное прибыльное место для продаж.\n",
    "Пользователь из Европы выбирает PS4, XOne и X360. \n",
    "По жанрам такое же распределение - Action, Shooter, Sports.\n",
    "По возростной категории базовый - M, базовые - E и unknown.\n",
    "Япония\n",
    "Выбирает 3DS, PS4 и PSV.\n",
    "Жанры в корне отличаются от других регионов - Role-Playing, Action, Fighting.\n",
    "К возрастной категории по большей части E и Т, unknown.\n",
    "Другие страны\n",
    "Выбирают XOne, PS3 и PS4. \n",
    "Играть в Action, Shooter, Sports.\n",
    "По возрастной категории это M, E и unknown. Категории, как у всех."
   ]
  },
  {
   "cell_type": "markdown",
   "metadata": {},
   "source": [
    "### Проверка гипотез\n",
    "   H0: Средние пользовательские рейтинги платформ Xbox One и PC одинаковые\n",
    "   H1: Средние пользовательские рейтинги платформ Xbox One и PC не одинаковые"
   ]
  },
  {
   "cell_type": "code",
   "execution_count": 68,
   "metadata": {},
   "outputs": [
    {
     "name": "stdout",
     "output_type": "stream",
     "text": [
      "p-значение: 0.11601398086668832\n",
      "Не получилось отвергнуть нулевую гипотезу\n"
     ]
    }
   ],
   "source": [
    "from scipy import stats as st\n",
    "import numpy as np\n",
    "\n",
    "xbox_one = new_data.loc[(new_data['platform'] == 'XOne') & (new_data['user_score'] > 0), 'user_score']\n",
    "pc = new_data.loc[(new_data['platform'] == 'PC') & (new_data['user_score'] > 0), 'user_score']\n",
    "\n",
    "alpha = .05 # критический уровень статистической значимости\n",
    "# если p-value окажется меньше него - отвергнем гипотезу\n",
    "\n",
    "results = st.ttest_ind(\n",
    "    xbox_one, \n",
    "    pc,\n",
    "    equal_var=False)\n",
    "\n",
    "print('p-значение:', results.pvalue)\n",
    "\n",
    "if results.pvalue < alpha:\n",
    "    print(\"Отвергаем нулевую гипотезу\")\n",
    "else:\n",
    "    print(\"Не получилось отвергнуть нулевую гипотезу\")"
   ]
  },
  {
   "cell_type": "code",
   "execution_count": 69,
   "metadata": {},
   "outputs": [
    {
     "name": "stdout",
     "output_type": "stream",
     "text": [
      "Среднее оценок пользователей для XBox 6.594545454545456\n",
      "Среднее оценок пользователей для PC 6.298360655737705\n"
     ]
    }
   ],
   "source": [
    "print('Среднее оценок пользователей для XBox', xbox_one.mean())\n",
    "print('Среднее оценок пользователей для PC', pc.mean())"
   ]
  },
  {
   "cell_type": "markdown",
   "metadata": {},
   "source": [
    "Значение p-value говорит, что вероятность случайно получить такое или большее различие равнa примерно 54%. Это явно слишком большая вероятность, чтобы делать вывод о значимом различии между средним в этих выборках. Значение p-value тут выше уровня крититческой значимости."
   ]
  },
  {
   "cell_type": "markdown",
   "metadata": {},
   "source": [
    "H0: Средние пользовательские рейтинги жанров Action и Sports одинаковые\n",
    "H1: Средние пользовательские рейтинги жанров Action и Sports разные.\n"
   ]
  },
  {
   "cell_type": "code",
   "execution_count": 70,
   "metadata": {},
   "outputs": [
    {
     "name": "stdout",
     "output_type": "stream",
     "text": [
      "p-значение: 1.1825550382644557e-14\n",
      "Отвергаем нулевую гипотезу\n"
     ]
    }
   ],
   "source": [
    "action = new_data.loc[(new_data['genre'] == 'Action') & (new_data['user_score'] > 0), 'user_score']\n",
    "sports = new_data.loc[(new_data['genre'] == 'Sports') & (new_data['user_score'] > 0), 'user_score']\n",
    "\n",
    "alpha = .05 # критический уровень статистической значимости\n",
    "# если p-value окажется меньше него - отвергнем гипотезу\n",
    "\n",
    "results = st.ttest_ind(\n",
    "    action, \n",
    "    sports,\n",
    "    equal_var=False)\n",
    "\n",
    "print('p-значение:', results.pvalue)\n",
    "\n",
    "if results.pvalue < alpha:\n",
    "    print(\"Отвергаем нулевую гипотезу\")\n",
    "else:\n",
    "    print(\"Не получилось отвергнуть нулевую гипотезу\")"
   ]
  },
  {
   "cell_type": "code",
   "execution_count": 71,
   "metadata": {},
   "outputs": [
    {
     "name": "stdout",
     "output_type": "stream",
     "text": [
      "Средние пользовательские рейтинги жанров Action 6.760606060606061\n",
      "Средние пользовательские рейтинги жанров Sports 5.2251968503937\n"
     ]
    }
   ],
   "source": [
    "print('Средние пользовательские рейтинги жанров Action', action.mean())\n",
    "print('Средние пользовательские рейтинги жанров Sports', sports.mean())"
   ]
  },
  {
   "cell_type": "markdown",
   "metadata": {},
   "source": [
    "Значение p-value очень низкое. Вероятность получить одинаковые средние пользовательские рейтинги отсутствует."
   ]
  },
  {
   "cell_type": "markdown",
   "metadata": {},
   "source": [
    "### Общий вывод"
   ]
  },
  {
   "cell_type": "markdown",
   "metadata": {},
   "source": [
    "В процессе изучения датасета с информацией об игровых платформам в разрезе разных стран и лет для прогнозирования тактики поведения на 2017 год были получены следующие выводы:\n",
    "1. На графике распределения продаж платформ по годам, можно проследить закономерность, что примерный \"срок жизни\" платформы около 10 лет, на 5-6 году жизни платформа достигает пика продаж. Из всех платформ с максимальными продажами только PC существует около 30 лет, но продажи равномерны, без взлётов. Новые платформы появляются практически ежегодно.\n",
    "\n",
    "2. Для построения прогноза на 2017 год были взяты данные за предыдущие 3 года:2014,2015 и 2016.\n",
    "3. По гистограмме распределения изменения продаж по платформам в 2014-2016 гг. видно, что лидерами по общему количеству проданных копий являются 4 (более 50 млн.) плтаформы:\"3DS\",\"XOne\",\"PS4\",\"PS3\"\n",
    "4. На графике зависимости суммарных продаж по годам выпуска продажи по всем платформам стремятся на понижение. Если не заглядывать далеко в будущее, то большую прибыль пока дают и будут давать в 2017 году платвформы XOne и PS4, но не известно в течении какого срока. Также есть платформы со стабильными продажами, без резких подъемов и спусков, такие как 3DS,PC,PSV. Возможно их продажи и дальше будут приносить стабильную, но небольшую прибыль.\n",
    "5. Для отдельного изучения была выбрана платформа PS4, мы видим прямую связь продаж с оценками критиков и обратную с оценками пользователей, пусть и не очень большую. Можно сделать вывод, что любой пиар - хороший или плохой идет на пользу продажам.\n",
    "6. Наиболее распространенный жанр игр - Action, к наиболее продаваемым относятся - Action и Shooter. По диаграммам размаха видно, что каждый показатель имеет много выбросов, есть перекосы и распределение неравномерное.\n",
    "7. Во всех странах, кроме Японии в лидерах оказались PS4 и XOne. В Северной Америке и Европе достаточно большие продажи игр, в Японии и других странах несколько ниже, да и вообще картина популярных платформ в Японии отличается от всего мира.\n",
    "8. Среди популярных жанров во всех странах, кроме Японии преобладает Action, Shooter,Sports. В Японии к жанру Action ддобавились Role-playing и Fighting. Из всего вышесказанного можно сделать вывод, что для всех стран кроме Японии стратегия развития игр привержена одним и тем же тенденциям.\n",
    "9. Также были составлены портреты пользователей по разным странам. Все они примерно схожи, не считая Японии, игровая индустрия в ней идет по своему пути.\n",
    "10. Проверены две гипотезы:    Средние пользовательские рейтинги платформ Xbox One и PC одинаковые;\n",
    "    Средние пользовательские рейтинги жанров Action (англ. «действие», экшен-игры) и Sports (англ. «спортивные соревнования») разные. Первую - не отвергли, вторую - отвергли"
   ]
  }
 ],
 "metadata": {
  "ExecuteTimeLog": [
   {
    "duration": 439,
    "start_time": "2022-11-28T09:07:33.531Z"
   },
   {
    "duration": 172,
    "start_time": "2022-11-28T09:07:33.972Z"
   },
   {
    "duration": 28,
    "start_time": "2022-11-28T09:07:34.146Z"
   },
   {
    "duration": 3,
    "start_time": "2022-11-28T09:07:34.177Z"
   },
   {
    "duration": 32,
    "start_time": "2022-11-28T09:07:34.182Z"
   },
   {
    "duration": 7,
    "start_time": "2022-11-28T09:07:34.216Z"
   },
   {
    "duration": 5,
    "start_time": "2022-11-28T09:07:34.225Z"
   },
   {
    "duration": 19,
    "start_time": "2022-11-28T09:07:34.232Z"
   },
   {
    "duration": 19,
    "start_time": "2022-11-28T09:07:34.252Z"
   },
   {
    "duration": 1396,
    "start_time": "2022-11-28T09:07:34.274Z"
   },
   {
    "duration": 10,
    "start_time": "2022-11-28T09:07:35.672Z"
   },
   {
    "duration": 18,
    "start_time": "2022-11-28T09:07:35.684Z"
   },
   {
    "duration": 20,
    "start_time": "2022-11-28T09:07:35.704Z"
   },
   {
    "duration": 4,
    "start_time": "2022-11-28T09:07:35.750Z"
   },
   {
    "duration": 13,
    "start_time": "2022-11-28T09:07:35.757Z"
   },
   {
    "duration": 15,
    "start_time": "2022-11-28T09:07:35.772Z"
   },
   {
    "duration": 70,
    "start_time": "2022-11-28T09:07:35.789Z"
   },
   {
    "duration": 16,
    "start_time": "2022-11-28T09:07:35.861Z"
   },
   {
    "duration": 6,
    "start_time": "2022-11-28T09:07:35.879Z"
   },
   {
    "duration": 26,
    "start_time": "2022-11-28T09:07:35.887Z"
   },
   {
    "duration": 115,
    "start_time": "2022-11-28T09:07:35.915Z"
   },
   {
    "duration": 5,
    "start_time": "2022-11-28T09:15:21.792Z"
   },
   {
    "duration": 5,
    "start_time": "2022-11-28T09:16:21.708Z"
   },
   {
    "duration": 14,
    "start_time": "2022-11-28T09:22:32.824Z"
   },
   {
    "duration": 372,
    "start_time": "2022-11-28T09:34:44.854Z"
   },
   {
    "duration": 79,
    "start_time": "2022-11-28T09:39:22.233Z"
   },
   {
    "duration": 82,
    "start_time": "2022-11-28T09:41:32.949Z"
   },
   {
    "duration": 86,
    "start_time": "2022-11-28T09:47:09.827Z"
   },
   {
    "duration": 47,
    "start_time": "2022-11-28T12:06:05.668Z"
   },
   {
    "duration": 390,
    "start_time": "2022-11-28T12:06:13.934Z"
   },
   {
    "duration": 93,
    "start_time": "2022-11-28T12:06:14.326Z"
   },
   {
    "duration": 21,
    "start_time": "2022-11-28T12:06:14.421Z"
   },
   {
    "duration": 3,
    "start_time": "2022-11-28T12:06:14.444Z"
   },
   {
    "duration": 17,
    "start_time": "2022-11-28T12:06:14.449Z"
   },
   {
    "duration": 4,
    "start_time": "2022-11-28T12:06:14.468Z"
   },
   {
    "duration": 4,
    "start_time": "2022-11-28T12:06:14.474Z"
   },
   {
    "duration": 6,
    "start_time": "2022-11-28T12:06:14.480Z"
   },
   {
    "duration": 31,
    "start_time": "2022-11-28T12:06:14.487Z"
   },
   {
    "duration": 1207,
    "start_time": "2022-11-28T12:06:14.520Z"
   },
   {
    "duration": 9,
    "start_time": "2022-11-28T12:06:15.729Z"
   },
   {
    "duration": 16,
    "start_time": "2022-11-28T12:06:15.740Z"
   },
   {
    "duration": 18,
    "start_time": "2022-11-28T12:06:15.758Z"
   },
   {
    "duration": 3,
    "start_time": "2022-11-28T12:06:15.777Z"
   },
   {
    "duration": 33,
    "start_time": "2022-11-28T12:06:15.782Z"
   },
   {
    "duration": 9,
    "start_time": "2022-11-28T12:06:15.817Z"
   },
   {
    "duration": 48,
    "start_time": "2022-11-28T12:06:15.827Z"
   },
   {
    "duration": 9,
    "start_time": "2022-11-28T12:06:15.877Z"
   },
   {
    "duration": 14,
    "start_time": "2022-11-28T12:06:15.887Z"
   },
   {
    "duration": 29,
    "start_time": "2022-11-28T12:06:15.903Z"
   },
   {
    "duration": 4,
    "start_time": "2022-11-28T12:06:15.933Z"
   },
   {
    "duration": 45,
    "start_time": "2022-11-28T12:06:15.939Z"
   },
   {
    "duration": 0,
    "start_time": "2022-11-28T12:06:15.985Z"
   },
   {
    "duration": 39,
    "start_time": "2022-11-28T12:06:23.208Z"
   },
   {
    "duration": 11,
    "start_time": "2022-11-28T12:16:00.474Z"
   },
   {
    "duration": 9,
    "start_time": "2022-11-28T12:21:59.623Z"
   },
   {
    "duration": 5,
    "start_time": "2022-11-28T12:22:49.044Z"
   },
   {
    "duration": 17,
    "start_time": "2022-11-28T12:23:24.587Z"
   },
   {
    "duration": 13,
    "start_time": "2022-11-28T12:36:23.293Z"
   },
   {
    "duration": 407,
    "start_time": "2022-11-28T18:12:52.613Z"
   },
   {
    "duration": 173,
    "start_time": "2022-11-28T18:12:53.022Z"
   },
   {
    "duration": 21,
    "start_time": "2022-11-28T18:12:53.197Z"
   },
   {
    "duration": 2,
    "start_time": "2022-11-28T18:12:53.220Z"
   },
   {
    "duration": 18,
    "start_time": "2022-11-28T18:12:53.224Z"
   },
   {
    "duration": 5,
    "start_time": "2022-11-28T18:12:53.244Z"
   },
   {
    "duration": 6,
    "start_time": "2022-11-28T18:12:53.250Z"
   },
   {
    "duration": 6,
    "start_time": "2022-11-28T18:12:53.258Z"
   },
   {
    "duration": 15,
    "start_time": "2022-11-28T18:12:53.265Z"
   },
   {
    "duration": 1275,
    "start_time": "2022-11-28T18:12:53.282Z"
   },
   {
    "duration": 9,
    "start_time": "2022-11-28T18:12:54.559Z"
   },
   {
    "duration": 15,
    "start_time": "2022-11-28T18:12:54.570Z"
   },
   {
    "duration": 38,
    "start_time": "2022-11-28T18:12:54.587Z"
   },
   {
    "duration": 3,
    "start_time": "2022-11-28T18:12:54.628Z"
   },
   {
    "duration": 12,
    "start_time": "2022-11-28T18:12:54.632Z"
   },
   {
    "duration": 20,
    "start_time": "2022-11-28T18:12:54.646Z"
   },
   {
    "duration": 64,
    "start_time": "2022-11-28T18:12:54.668Z"
   },
   {
    "duration": 9,
    "start_time": "2022-11-28T18:12:54.734Z"
   },
   {
    "duration": 8,
    "start_time": "2022-11-28T18:12:54.744Z"
   },
   {
    "duration": 25,
    "start_time": "2022-11-28T18:12:54.754Z"
   },
   {
    "duration": 4,
    "start_time": "2022-11-28T18:12:54.781Z"
   },
   {
    "duration": 38,
    "start_time": "2022-11-28T18:12:54.786Z"
   },
   {
    "duration": 75,
    "start_time": "2022-11-28T18:12:54.825Z"
   },
   {
    "duration": 0,
    "start_time": "2022-11-28T18:12:54.901Z"
   },
   {
    "duration": 20,
    "start_time": "2022-11-28T18:13:12.713Z"
   },
   {
    "duration": 16,
    "start_time": "2022-11-28T18:21:53.546Z"
   },
   {
    "duration": 15,
    "start_time": "2022-11-28T18:22:35.473Z"
   },
   {
    "duration": 16,
    "start_time": "2022-11-28T18:22:54.946Z"
   },
   {
    "duration": 16,
    "start_time": "2022-11-28T18:26:35.037Z"
   },
   {
    "duration": 15,
    "start_time": "2022-11-28T18:26:50.018Z"
   },
   {
    "duration": 132,
    "start_time": "2022-11-28T18:34:00.817Z"
   },
   {
    "duration": 199,
    "start_time": "2022-11-28T18:34:40.050Z"
   },
   {
    "duration": 21,
    "start_time": "2022-11-28T19:17:05.185Z"
   },
   {
    "duration": 68,
    "start_time": "2022-11-28T19:18:04.156Z"
   },
   {
    "duration": 19,
    "start_time": "2022-11-28T19:19:23.999Z"
   },
   {
    "duration": 8,
    "start_time": "2022-11-28T19:26:48.046Z"
   },
   {
    "duration": 19,
    "start_time": "2022-11-28T19:27:17.648Z"
   },
   {
    "duration": 18,
    "start_time": "2022-11-28T19:29:27.761Z"
   },
   {
    "duration": 27,
    "start_time": "2022-11-28T19:37:15.871Z"
   },
   {
    "duration": 25,
    "start_time": "2022-11-28T19:40:53.522Z"
   },
   {
    "duration": 15,
    "start_time": "2022-11-28T19:42:14.835Z"
   },
   {
    "duration": 17,
    "start_time": "2022-11-28T20:09:42.711Z"
   },
   {
    "duration": 14,
    "start_time": "2022-11-28T20:10:54.313Z"
   },
   {
    "duration": 16,
    "start_time": "2022-11-28T20:11:04.390Z"
   },
   {
    "duration": 20,
    "start_time": "2022-11-28T20:12:24.695Z"
   },
   {
    "duration": 7,
    "start_time": "2022-11-28T20:14:07.235Z"
   },
   {
    "duration": 12,
    "start_time": "2022-11-28T20:14:15.939Z"
   },
   {
    "duration": 7,
    "start_time": "2022-11-28T20:14:17.651Z"
   },
   {
    "duration": 12,
    "start_time": "2022-11-28T20:14:51.025Z"
   },
   {
    "duration": 7,
    "start_time": "2022-11-28T20:15:03.255Z"
   },
   {
    "duration": 3,
    "start_time": "2022-11-28T20:15:15.079Z"
   },
   {
    "duration": 57,
    "start_time": "2022-11-28T20:15:15.084Z"
   },
   {
    "duration": 15,
    "start_time": "2022-11-28T20:15:15.142Z"
   },
   {
    "duration": 16,
    "start_time": "2022-11-28T20:15:15.158Z"
   },
   {
    "duration": 26,
    "start_time": "2022-11-28T20:15:15.177Z"
   },
   {
    "duration": 12,
    "start_time": "2022-11-28T20:15:15.205Z"
   },
   {
    "duration": 20,
    "start_time": "2022-11-28T20:15:15.219Z"
   },
   {
    "duration": 5,
    "start_time": "2022-11-28T20:15:15.241Z"
   },
   {
    "duration": 30,
    "start_time": "2022-11-28T20:15:15.247Z"
   },
   {
    "duration": 732,
    "start_time": "2022-11-28T20:15:15.279Z"
   },
   {
    "duration": 8,
    "start_time": "2022-11-28T20:15:16.014Z"
   },
   {
    "duration": 24,
    "start_time": "2022-11-28T20:15:16.024Z"
   },
   {
    "duration": 25,
    "start_time": "2022-11-28T20:15:16.050Z"
   },
   {
    "duration": 4,
    "start_time": "2022-11-28T20:15:16.077Z"
   },
   {
    "duration": 8,
    "start_time": "2022-11-28T20:15:16.087Z"
   },
   {
    "duration": 17,
    "start_time": "2022-11-28T20:15:16.097Z"
   },
   {
    "duration": 41,
    "start_time": "2022-11-28T20:15:16.116Z"
   },
   {
    "duration": 9,
    "start_time": "2022-11-28T20:15:16.158Z"
   },
   {
    "duration": 5,
    "start_time": "2022-11-28T20:15:16.169Z"
   },
   {
    "duration": 49,
    "start_time": "2022-11-28T20:15:16.176Z"
   },
   {
    "duration": 5,
    "start_time": "2022-11-28T20:15:16.226Z"
   },
   {
    "duration": 21,
    "start_time": "2022-11-28T20:15:16.232Z"
   },
   {
    "duration": 10,
    "start_time": "2022-11-28T20:15:16.254Z"
   },
   {
    "duration": 0,
    "start_time": "2022-11-28T20:15:16.266Z"
   },
   {
    "duration": 0,
    "start_time": "2022-11-28T20:15:16.267Z"
   },
   {
    "duration": 0,
    "start_time": "2022-11-28T20:15:16.269Z"
   },
   {
    "duration": 0,
    "start_time": "2022-11-28T20:15:16.270Z"
   },
   {
    "duration": 25,
    "start_time": "2022-11-28T20:15:52.484Z"
   },
   {
    "duration": 16,
    "start_time": "2022-11-28T20:15:56.462Z"
   },
   {
    "duration": 11,
    "start_time": "2022-11-28T20:15:59.338Z"
   },
   {
    "duration": 7,
    "start_time": "2022-11-28T20:16:05.557Z"
   },
   {
    "duration": 1122,
    "start_time": "2022-11-28T20:16:43.798Z"
   },
   {
    "duration": 16,
    "start_time": "2022-11-28T20:18:19.828Z"
   },
   {
    "duration": 7,
    "start_time": "2022-11-28T20:18:39.483Z"
   },
   {
    "duration": 7,
    "start_time": "2022-11-28T20:20:23.341Z"
   },
   {
    "duration": 9,
    "start_time": "2022-11-28T20:22:23.216Z"
   },
   {
    "duration": 207,
    "start_time": "2022-11-28T20:23:33.149Z"
   },
   {
    "duration": 123,
    "start_time": "2022-11-28T20:24:38.542Z"
   },
   {
    "duration": 367,
    "start_time": "2022-11-29T04:44:34.818Z"
   },
   {
    "duration": 186,
    "start_time": "2022-11-29T04:44:35.186Z"
   },
   {
    "duration": 19,
    "start_time": "2022-11-29T04:44:35.373Z"
   },
   {
    "duration": 3,
    "start_time": "2022-11-29T04:44:35.394Z"
   },
   {
    "duration": 16,
    "start_time": "2022-11-29T04:44:35.402Z"
   },
   {
    "duration": 5,
    "start_time": "2022-11-29T04:44:35.420Z"
   },
   {
    "duration": 5,
    "start_time": "2022-11-29T04:44:35.426Z"
   },
   {
    "duration": 5,
    "start_time": "2022-11-29T04:44:35.433Z"
   },
   {
    "duration": 21,
    "start_time": "2022-11-29T04:44:35.439Z"
   },
   {
    "duration": 1200,
    "start_time": "2022-11-29T04:44:35.463Z"
   },
   {
    "duration": 10,
    "start_time": "2022-11-29T04:44:36.664Z"
   },
   {
    "duration": 15,
    "start_time": "2022-11-29T04:44:36.676Z"
   },
   {
    "duration": 17,
    "start_time": "2022-11-29T04:44:36.693Z"
   },
   {
    "duration": 3,
    "start_time": "2022-11-29T04:44:36.712Z"
   },
   {
    "duration": 11,
    "start_time": "2022-11-29T04:44:36.716Z"
   },
   {
    "duration": 9,
    "start_time": "2022-11-29T04:44:36.752Z"
   },
   {
    "duration": 39,
    "start_time": "2022-11-29T04:44:36.762Z"
   },
   {
    "duration": 8,
    "start_time": "2022-11-29T04:44:36.803Z"
   },
   {
    "duration": 7,
    "start_time": "2022-11-29T04:44:36.813Z"
   },
   {
    "duration": 47,
    "start_time": "2022-11-29T04:44:36.821Z"
   },
   {
    "duration": 5,
    "start_time": "2022-11-29T04:44:36.869Z"
   },
   {
    "duration": 25,
    "start_time": "2022-11-29T04:44:36.875Z"
   },
   {
    "duration": 24,
    "start_time": "2022-11-29T04:44:36.901Z"
   },
   {
    "duration": 32,
    "start_time": "2022-11-29T04:44:36.927Z"
   },
   {
    "duration": 18,
    "start_time": "2022-11-29T04:44:36.961Z"
   },
   {
    "duration": 6,
    "start_time": "2022-11-29T04:44:36.980Z"
   },
   {
    "duration": 143,
    "start_time": "2022-11-29T04:44:36.987Z"
   },
   {
    "duration": 19,
    "start_time": "2022-11-29T04:48:09.741Z"
   },
   {
    "duration": 18,
    "start_time": "2022-11-29T04:48:21.123Z"
   },
   {
    "duration": 21,
    "start_time": "2022-11-29T04:48:52.623Z"
   },
   {
    "duration": 72,
    "start_time": "2022-11-29T04:49:43.069Z"
   },
   {
    "duration": 75,
    "start_time": "2022-11-29T04:49:59.428Z"
   },
   {
    "duration": 39,
    "start_time": "2022-11-29T04:50:40.622Z"
   },
   {
    "duration": 369,
    "start_time": "2022-11-29T07:21:10.414Z"
   },
   {
    "duration": 195,
    "start_time": "2022-11-29T07:21:10.784Z"
   },
   {
    "duration": 20,
    "start_time": "2022-11-29T07:21:10.981Z"
   },
   {
    "duration": 3,
    "start_time": "2022-11-29T07:21:11.003Z"
   },
   {
    "duration": 16,
    "start_time": "2022-11-29T07:21:11.008Z"
   },
   {
    "duration": 6,
    "start_time": "2022-11-29T07:21:11.025Z"
   },
   {
    "duration": 6,
    "start_time": "2022-11-29T07:21:11.033Z"
   },
   {
    "duration": 7,
    "start_time": "2022-11-29T07:21:11.041Z"
   },
   {
    "duration": 35,
    "start_time": "2022-11-29T07:21:11.050Z"
   },
   {
    "duration": 1294,
    "start_time": "2022-11-29T07:21:11.086Z"
   },
   {
    "duration": 9,
    "start_time": "2022-11-29T07:21:12.381Z"
   },
   {
    "duration": 19,
    "start_time": "2022-11-29T07:21:12.392Z"
   },
   {
    "duration": 15,
    "start_time": "2022-11-29T07:21:12.413Z"
   },
   {
    "duration": 2,
    "start_time": "2022-11-29T07:21:12.431Z"
   },
   {
    "duration": 19,
    "start_time": "2022-11-29T07:21:12.434Z"
   },
   {
    "duration": 30,
    "start_time": "2022-11-29T07:21:12.455Z"
   },
   {
    "duration": 38,
    "start_time": "2022-11-29T07:21:12.486Z"
   },
   {
    "duration": 9,
    "start_time": "2022-11-29T07:21:12.525Z"
   },
   {
    "duration": 7,
    "start_time": "2022-11-29T07:21:12.535Z"
   },
   {
    "duration": 36,
    "start_time": "2022-11-29T07:21:12.543Z"
   },
   {
    "duration": 5,
    "start_time": "2022-11-29T07:21:12.581Z"
   },
   {
    "duration": 20,
    "start_time": "2022-11-29T07:21:12.587Z"
   },
   {
    "duration": 25,
    "start_time": "2022-11-29T07:21:12.609Z"
   },
   {
    "duration": 15,
    "start_time": "2022-11-29T07:21:12.636Z"
   },
   {
    "duration": 48,
    "start_time": "2022-11-29T07:21:12.653Z"
   },
   {
    "duration": 7,
    "start_time": "2022-11-29T07:21:12.703Z"
   },
   {
    "duration": 146,
    "start_time": "2022-11-29T07:21:12.711Z"
   },
   {
    "duration": 79,
    "start_time": "2022-11-29T07:25:43.149Z"
   },
   {
    "duration": 3,
    "start_time": "2022-11-29T07:39:14.315Z"
   },
   {
    "duration": 54,
    "start_time": "2022-11-29T07:39:14.320Z"
   },
   {
    "duration": 15,
    "start_time": "2022-11-29T07:39:14.375Z"
   },
   {
    "duration": 13,
    "start_time": "2022-11-29T07:39:14.392Z"
   },
   {
    "duration": 15,
    "start_time": "2022-11-29T07:39:14.408Z"
   },
   {
    "duration": 6,
    "start_time": "2022-11-29T07:39:14.424Z"
   },
   {
    "duration": 4,
    "start_time": "2022-11-29T07:39:14.432Z"
   },
   {
    "duration": 6,
    "start_time": "2022-11-29T07:39:14.438Z"
   },
   {
    "duration": 14,
    "start_time": "2022-11-29T07:39:14.446Z"
   },
   {
    "duration": 736,
    "start_time": "2022-11-29T07:39:14.478Z"
   },
   {
    "duration": 8,
    "start_time": "2022-11-29T07:39:15.217Z"
   },
   {
    "duration": 10,
    "start_time": "2022-11-29T07:39:15.227Z"
   },
   {
    "duration": 16,
    "start_time": "2022-11-29T07:39:15.238Z"
   },
   {
    "duration": 4,
    "start_time": "2022-11-29T07:39:15.277Z"
   },
   {
    "duration": 23,
    "start_time": "2022-11-29T07:39:15.283Z"
   },
   {
    "duration": 13,
    "start_time": "2022-11-29T07:39:15.307Z"
   },
   {
    "duration": 48,
    "start_time": "2022-11-29T07:39:15.321Z"
   },
   {
    "duration": 13,
    "start_time": "2022-11-29T07:39:15.370Z"
   },
   {
    "duration": 7,
    "start_time": "2022-11-29T07:39:15.386Z"
   },
   {
    "duration": 28,
    "start_time": "2022-11-29T07:39:15.395Z"
   },
   {
    "duration": 4,
    "start_time": "2022-11-29T07:39:15.425Z"
   },
   {
    "duration": 16,
    "start_time": "2022-11-29T07:39:15.430Z"
   },
   {
    "duration": 51,
    "start_time": "2022-11-29T07:39:15.447Z"
   },
   {
    "duration": 14,
    "start_time": "2022-11-29T07:39:15.500Z"
   },
   {
    "duration": 21,
    "start_time": "2022-11-29T07:39:15.516Z"
   },
   {
    "duration": 12,
    "start_time": "2022-11-29T07:39:15.538Z"
   },
   {
    "duration": 0,
    "start_time": "2022-11-29T07:39:15.552Z"
   },
   {
    "duration": 0,
    "start_time": "2022-11-29T07:39:15.581Z"
   },
   {
    "duration": 16,
    "start_time": "2022-11-29T07:47:28.593Z"
   },
   {
    "duration": 15,
    "start_time": "2022-11-29T07:51:34.372Z"
   },
   {
    "duration": 3,
    "start_time": "2022-11-29T07:56:21.373Z"
   },
   {
    "duration": 52,
    "start_time": "2022-11-29T07:56:21.378Z"
   },
   {
    "duration": 12,
    "start_time": "2022-11-29T07:56:21.432Z"
   },
   {
    "duration": 4,
    "start_time": "2022-11-29T07:56:21.446Z"
   },
   {
    "duration": 22,
    "start_time": "2022-11-29T07:56:21.452Z"
   },
   {
    "duration": 7,
    "start_time": "2022-11-29T07:56:21.476Z"
   },
   {
    "duration": 12,
    "start_time": "2022-11-29T07:56:21.485Z"
   },
   {
    "duration": 15,
    "start_time": "2022-11-29T07:56:21.499Z"
   },
   {
    "duration": 14,
    "start_time": "2022-11-29T07:56:21.517Z"
   },
   {
    "duration": 776,
    "start_time": "2022-11-29T07:56:21.533Z"
   },
   {
    "duration": 9,
    "start_time": "2022-11-29T07:56:22.311Z"
   },
   {
    "duration": 10,
    "start_time": "2022-11-29T07:56:22.321Z"
   },
   {
    "duration": 17,
    "start_time": "2022-11-29T07:56:22.332Z"
   },
   {
    "duration": 2,
    "start_time": "2022-11-29T07:56:22.351Z"
   },
   {
    "duration": 9,
    "start_time": "2022-11-29T07:56:22.379Z"
   },
   {
    "duration": 13,
    "start_time": "2022-11-29T07:56:22.390Z"
   },
   {
    "duration": 41,
    "start_time": "2022-11-29T07:56:22.404Z"
   },
   {
    "duration": 9,
    "start_time": "2022-11-29T07:56:22.447Z"
   },
   {
    "duration": 6,
    "start_time": "2022-11-29T07:56:22.480Z"
   },
   {
    "duration": 31,
    "start_time": "2022-11-29T07:56:22.488Z"
   },
   {
    "duration": 6,
    "start_time": "2022-11-29T07:56:22.520Z"
   },
   {
    "duration": 16,
    "start_time": "2022-11-29T07:56:22.527Z"
   },
   {
    "duration": 46,
    "start_time": "2022-11-29T07:56:22.545Z"
   },
   {
    "duration": 18,
    "start_time": "2022-11-29T07:56:22.595Z"
   },
   {
    "duration": 21,
    "start_time": "2022-11-29T07:56:22.614Z"
   },
   {
    "duration": 14,
    "start_time": "2022-11-29T07:56:22.637Z"
   },
   {
    "duration": 0,
    "start_time": "2022-11-29T07:56:22.653Z"
   },
   {
    "duration": 0,
    "start_time": "2022-11-29T07:56:22.679Z"
   },
   {
    "duration": 7,
    "start_time": "2022-11-29T07:58:05.410Z"
   },
   {
    "duration": 8,
    "start_time": "2022-11-29T07:58:37.704Z"
   },
   {
    "duration": 13,
    "start_time": "2022-11-29T07:59:01.599Z"
   },
   {
    "duration": 20,
    "start_time": "2022-11-29T08:08:13.888Z"
   },
   {
    "duration": 3,
    "start_time": "2022-11-29T08:09:48.929Z"
   },
   {
    "duration": 77,
    "start_time": "2022-11-29T08:12:44.770Z"
   },
   {
    "duration": 7,
    "start_time": "2022-11-29T08:12:59.742Z"
   },
   {
    "duration": 2,
    "start_time": "2022-11-29T08:13:19.169Z"
   },
   {
    "duration": 54,
    "start_time": "2022-11-29T08:13:19.295Z"
   },
   {
    "duration": 4,
    "start_time": "2022-11-29T08:13:24.491Z"
   },
   {
    "duration": 54,
    "start_time": "2022-11-29T08:13:24.498Z"
   },
   {
    "duration": 13,
    "start_time": "2022-11-29T08:13:24.553Z"
   },
   {
    "duration": 7,
    "start_time": "2022-11-29T08:13:24.568Z"
   },
   {
    "duration": 31,
    "start_time": "2022-11-29T08:13:24.577Z"
   },
   {
    "duration": 4,
    "start_time": "2022-11-29T08:13:24.610Z"
   },
   {
    "duration": 7,
    "start_time": "2022-11-29T08:13:24.616Z"
   },
   {
    "duration": 4,
    "start_time": "2022-11-29T08:13:24.625Z"
   },
   {
    "duration": 16,
    "start_time": "2022-11-29T08:13:24.630Z"
   },
   {
    "duration": 780,
    "start_time": "2022-11-29T08:13:24.647Z"
   },
   {
    "duration": 9,
    "start_time": "2022-11-29T08:13:25.429Z"
   },
   {
    "duration": 11,
    "start_time": "2022-11-29T08:13:25.439Z"
   },
   {
    "duration": 35,
    "start_time": "2022-11-29T08:13:25.452Z"
   },
   {
    "duration": 5,
    "start_time": "2022-11-29T08:13:25.489Z"
   },
   {
    "duration": 15,
    "start_time": "2022-11-29T08:13:25.496Z"
   },
   {
    "duration": 9,
    "start_time": "2022-11-29T08:13:25.512Z"
   },
   {
    "duration": 59,
    "start_time": "2022-11-29T08:13:25.523Z"
   },
   {
    "duration": 20,
    "start_time": "2022-11-29T08:13:25.585Z"
   },
   {
    "duration": 5,
    "start_time": "2022-11-29T08:13:25.607Z"
   },
   {
    "duration": 26,
    "start_time": "2022-11-29T08:13:25.614Z"
   },
   {
    "duration": 5,
    "start_time": "2022-11-29T08:13:25.642Z"
   },
   {
    "duration": 56,
    "start_time": "2022-11-29T08:13:25.648Z"
   },
   {
    "duration": 25,
    "start_time": "2022-11-29T08:13:25.706Z"
   },
   {
    "duration": 13,
    "start_time": "2022-11-29T08:13:25.733Z"
   },
   {
    "duration": 2,
    "start_time": "2022-11-29T08:13:25.747Z"
   },
   {
    "duration": 10,
    "start_time": "2022-11-29T08:13:25.751Z"
   },
   {
    "duration": 8,
    "start_time": "2022-11-29T08:13:25.778Z"
   },
   {
    "duration": 204,
    "start_time": "2022-11-29T08:13:25.789Z"
   },
   {
    "duration": 10,
    "start_time": "2022-11-29T08:14:03.979Z"
   },
   {
    "duration": 14,
    "start_time": "2022-11-29T08:14:04.050Z"
   },
   {
    "duration": 324,
    "start_time": "2022-11-29T08:23:01.970Z"
   },
   {
    "duration": 3,
    "start_time": "2022-11-29T08:23:34.075Z"
   },
   {
    "duration": 267,
    "start_time": "2022-11-29T08:23:59.860Z"
   },
   {
    "duration": 259,
    "start_time": "2022-11-29T08:28:31.957Z"
   },
   {
    "duration": 306,
    "start_time": "2022-11-29T08:28:42.255Z"
   },
   {
    "duration": 2,
    "start_time": "2022-11-29T08:44:38.257Z"
   },
   {
    "duration": 56,
    "start_time": "2022-11-29T08:44:38.261Z"
   },
   {
    "duration": 15,
    "start_time": "2022-11-29T08:44:38.318Z"
   },
   {
    "duration": 5,
    "start_time": "2022-11-29T08:44:38.335Z"
   },
   {
    "duration": 15,
    "start_time": "2022-11-29T08:44:38.342Z"
   },
   {
    "duration": 24,
    "start_time": "2022-11-29T08:44:38.359Z"
   },
   {
    "duration": 6,
    "start_time": "2022-11-29T08:44:38.385Z"
   },
   {
    "duration": 10,
    "start_time": "2022-11-29T08:44:38.393Z"
   },
   {
    "duration": 16,
    "start_time": "2022-11-29T08:44:38.405Z"
   },
   {
    "duration": 755,
    "start_time": "2022-11-29T08:44:38.423Z"
   },
   {
    "duration": 17,
    "start_time": "2022-11-29T08:44:39.180Z"
   },
   {
    "duration": 11,
    "start_time": "2022-11-29T08:44:39.200Z"
   },
   {
    "duration": 16,
    "start_time": "2022-11-29T08:44:39.212Z"
   },
   {
    "duration": 3,
    "start_time": "2022-11-29T08:44:39.231Z"
   },
   {
    "duration": 43,
    "start_time": "2022-11-29T08:44:39.235Z"
   },
   {
    "duration": 21,
    "start_time": "2022-11-29T08:44:39.281Z"
   },
   {
    "duration": 47,
    "start_time": "2022-11-29T08:44:39.304Z"
   },
   {
    "duration": 31,
    "start_time": "2022-11-29T08:44:39.352Z"
   },
   {
    "duration": 9,
    "start_time": "2022-11-29T08:44:39.385Z"
   },
   {
    "duration": 30,
    "start_time": "2022-11-29T08:44:39.395Z"
   },
   {
    "duration": 5,
    "start_time": "2022-11-29T08:44:39.426Z"
   },
   {
    "duration": 48,
    "start_time": "2022-11-29T08:44:39.432Z"
   },
   {
    "duration": 431,
    "start_time": "2022-11-29T08:44:39.483Z"
   },
   {
    "duration": 0,
    "start_time": "2022-11-29T08:44:39.915Z"
   },
   {
    "duration": 0,
    "start_time": "2022-11-29T08:44:39.916Z"
   },
   {
    "duration": 0,
    "start_time": "2022-11-29T08:44:39.917Z"
   },
   {
    "duration": 0,
    "start_time": "2022-11-29T08:44:39.918Z"
   },
   {
    "duration": 0,
    "start_time": "2022-11-29T08:44:39.919Z"
   },
   {
    "duration": 0,
    "start_time": "2022-11-29T08:44:39.920Z"
   },
   {
    "duration": 489,
    "start_time": "2022-11-29T08:44:58.143Z"
   },
   {
    "duration": 17,
    "start_time": "2022-11-29T08:45:25.872Z"
   },
   {
    "duration": 2,
    "start_time": "2022-11-29T08:45:28.165Z"
   },
   {
    "duration": 3,
    "start_time": "2022-11-29T08:45:29.608Z"
   },
   {
    "duration": 427,
    "start_time": "2022-11-29T08:45:30.701Z"
   },
   {
    "duration": 361,
    "start_time": "2022-11-29T08:51:21.201Z"
   },
   {
    "duration": 10,
    "start_time": "2022-11-29T08:52:06.418Z"
   },
   {
    "duration": 351,
    "start_time": "2022-11-29T08:52:10.048Z"
   },
   {
    "duration": 3,
    "start_time": "2022-11-29T08:52:16.475Z"
   },
   {
    "duration": 69,
    "start_time": "2022-11-29T08:52:16.480Z"
   },
   {
    "duration": 12,
    "start_time": "2022-11-29T08:52:16.551Z"
   },
   {
    "duration": 13,
    "start_time": "2022-11-29T08:52:16.565Z"
   },
   {
    "duration": 30,
    "start_time": "2022-11-29T08:52:16.583Z"
   },
   {
    "duration": 9,
    "start_time": "2022-11-29T08:52:16.614Z"
   },
   {
    "duration": 19,
    "start_time": "2022-11-29T08:52:16.624Z"
   },
   {
    "duration": 11,
    "start_time": "2022-11-29T08:52:16.644Z"
   },
   {
    "duration": 44,
    "start_time": "2022-11-29T08:52:16.656Z"
   },
   {
    "duration": 709,
    "start_time": "2022-11-29T08:52:16.702Z"
   },
   {
    "duration": 10,
    "start_time": "2022-11-29T08:52:17.412Z"
   },
   {
    "duration": 13,
    "start_time": "2022-11-29T08:52:17.423Z"
   },
   {
    "duration": 43,
    "start_time": "2022-11-29T08:52:17.437Z"
   },
   {
    "duration": 5,
    "start_time": "2022-11-29T08:52:17.484Z"
   },
   {
    "duration": 19,
    "start_time": "2022-11-29T08:52:17.491Z"
   },
   {
    "duration": 11,
    "start_time": "2022-11-29T08:52:17.511Z"
   },
   {
    "duration": 66,
    "start_time": "2022-11-29T08:52:17.523Z"
   },
   {
    "duration": 15,
    "start_time": "2022-11-29T08:52:17.591Z"
   },
   {
    "duration": 6,
    "start_time": "2022-11-29T08:52:17.608Z"
   },
   {
    "duration": 23,
    "start_time": "2022-11-29T08:52:17.615Z"
   },
   {
    "duration": 4,
    "start_time": "2022-11-29T08:52:17.639Z"
   },
   {
    "duration": 49,
    "start_time": "2022-11-29T08:52:17.644Z"
   },
   {
    "duration": 28,
    "start_time": "2022-11-29T08:52:17.695Z"
   },
   {
    "duration": 13,
    "start_time": "2022-11-29T08:52:17.724Z"
   },
   {
    "duration": 2,
    "start_time": "2022-11-29T08:52:17.739Z"
   },
   {
    "duration": 38,
    "start_time": "2022-11-29T08:52:17.742Z"
   },
   {
    "duration": 279,
    "start_time": "2022-11-29T08:52:17.783Z"
   },
   {
    "duration": 0,
    "start_time": "2022-11-29T08:52:18.064Z"
   },
   {
    "duration": 0,
    "start_time": "2022-11-29T08:52:18.065Z"
   },
   {
    "duration": 302,
    "start_time": "2022-11-29T08:52:43.534Z"
   },
   {
    "duration": 327,
    "start_time": "2022-11-29T09:01:49.127Z"
   },
   {
    "duration": 4,
    "start_time": "2022-11-29T09:30:23.099Z"
   },
   {
    "duration": 51,
    "start_time": "2022-11-29T09:30:23.104Z"
   },
   {
    "duration": 13,
    "start_time": "2022-11-29T09:30:23.157Z"
   },
   {
    "duration": 5,
    "start_time": "2022-11-29T09:30:23.172Z"
   },
   {
    "duration": 31,
    "start_time": "2022-11-29T09:30:23.179Z"
   },
   {
    "duration": 5,
    "start_time": "2022-11-29T09:30:23.212Z"
   },
   {
    "duration": 5,
    "start_time": "2022-11-29T09:30:23.218Z"
   },
   {
    "duration": 6,
    "start_time": "2022-11-29T09:30:23.224Z"
   },
   {
    "duration": 16,
    "start_time": "2022-11-29T09:30:23.231Z"
   },
   {
    "duration": 730,
    "start_time": "2022-11-29T09:30:23.250Z"
   },
   {
    "duration": 11,
    "start_time": "2022-11-29T09:30:23.982Z"
   },
   {
    "duration": 26,
    "start_time": "2022-11-29T09:30:23.995Z"
   },
   {
    "duration": 19,
    "start_time": "2022-11-29T09:30:24.023Z"
   },
   {
    "duration": 4,
    "start_time": "2022-11-29T09:30:24.044Z"
   },
   {
    "duration": 33,
    "start_time": "2022-11-29T09:30:24.050Z"
   },
   {
    "duration": 34,
    "start_time": "2022-11-29T09:30:24.085Z"
   },
   {
    "duration": 157,
    "start_time": "2022-11-29T09:30:24.121Z"
   },
   {
    "duration": 12,
    "start_time": "2022-11-29T09:30:24.280Z"
   },
   {
    "duration": 15,
    "start_time": "2022-11-29T09:30:24.294Z"
   },
   {
    "duration": 23,
    "start_time": "2022-11-29T09:30:24.311Z"
   },
   {
    "duration": 4,
    "start_time": "2022-11-29T09:30:24.335Z"
   },
   {
    "duration": 39,
    "start_time": "2022-11-29T09:30:24.341Z"
   },
   {
    "duration": 33,
    "start_time": "2022-11-29T09:30:24.383Z"
   },
   {
    "duration": 13,
    "start_time": "2022-11-29T09:30:24.417Z"
   },
   {
    "duration": 2,
    "start_time": "2022-11-29T09:30:24.432Z"
   },
   {
    "duration": 7,
    "start_time": "2022-11-29T09:30:24.435Z"
   },
   {
    "duration": 320,
    "start_time": "2022-11-29T09:30:24.443Z"
   },
   {
    "duration": 14,
    "start_time": "2022-11-29T09:30:24.766Z"
   },
   {
    "duration": 156,
    "start_time": "2022-11-29T09:30:24.783Z"
   },
   {
    "duration": 4,
    "start_time": "2022-11-29T09:40:38.076Z"
   },
   {
    "duration": 310,
    "start_time": "2022-11-29T09:41:36.277Z"
   },
   {
    "duration": 15,
    "start_time": "2022-11-29T09:43:38.931Z"
   },
   {
    "duration": 12,
    "start_time": "2022-11-29T09:44:25.052Z"
   },
   {
    "duration": 5,
    "start_time": "2022-11-29T09:44:32.673Z"
   },
   {
    "duration": 19,
    "start_time": "2022-11-29T09:44:33.372Z"
   },
   {
    "duration": 3,
    "start_time": "2022-11-29T09:44:46.572Z"
   },
   {
    "duration": 69,
    "start_time": "2022-11-29T09:44:46.577Z"
   },
   {
    "duration": 13,
    "start_time": "2022-11-29T09:44:46.648Z"
   },
   {
    "duration": 6,
    "start_time": "2022-11-29T09:44:46.663Z"
   },
   {
    "duration": 35,
    "start_time": "2022-11-29T09:44:46.670Z"
   },
   {
    "duration": 11,
    "start_time": "2022-11-29T09:44:46.706Z"
   },
   {
    "duration": 0,
    "start_time": "2022-11-29T09:44:46.719Z"
   },
   {
    "duration": 0,
    "start_time": "2022-11-29T09:44:46.720Z"
   },
   {
    "duration": 0,
    "start_time": "2022-11-29T09:44:46.721Z"
   },
   {
    "duration": 0,
    "start_time": "2022-11-29T09:44:46.722Z"
   },
   {
    "duration": 0,
    "start_time": "2022-11-29T09:44:46.722Z"
   },
   {
    "duration": 0,
    "start_time": "2022-11-29T09:44:46.724Z"
   },
   {
    "duration": 0,
    "start_time": "2022-11-29T09:44:46.724Z"
   },
   {
    "duration": 0,
    "start_time": "2022-11-29T09:44:46.725Z"
   },
   {
    "duration": 0,
    "start_time": "2022-11-29T09:44:46.726Z"
   },
   {
    "duration": 0,
    "start_time": "2022-11-29T09:44:46.727Z"
   },
   {
    "duration": 0,
    "start_time": "2022-11-29T09:44:46.728Z"
   },
   {
    "duration": 0,
    "start_time": "2022-11-29T09:44:46.729Z"
   },
   {
    "duration": 0,
    "start_time": "2022-11-29T09:44:46.730Z"
   },
   {
    "duration": 0,
    "start_time": "2022-11-29T09:44:46.731Z"
   },
   {
    "duration": 0,
    "start_time": "2022-11-29T09:44:46.732Z"
   },
   {
    "duration": 0,
    "start_time": "2022-11-29T09:44:46.733Z"
   },
   {
    "duration": 0,
    "start_time": "2022-11-29T09:44:46.734Z"
   },
   {
    "duration": 0,
    "start_time": "2022-11-29T09:44:46.735Z"
   },
   {
    "duration": 0,
    "start_time": "2022-11-29T09:44:46.736Z"
   },
   {
    "duration": 0,
    "start_time": "2022-11-29T09:44:46.737Z"
   },
   {
    "duration": 0,
    "start_time": "2022-11-29T09:44:46.738Z"
   },
   {
    "duration": 0,
    "start_time": "2022-11-29T09:44:46.739Z"
   },
   {
    "duration": 363,
    "start_time": "2022-11-29T09:44:46.846Z"
   },
   {
    "duration": 3,
    "start_time": "2022-11-29T09:45:29.511Z"
   },
   {
    "duration": 49,
    "start_time": "2022-11-29T09:45:29.516Z"
   },
   {
    "duration": 14,
    "start_time": "2022-11-29T09:45:29.567Z"
   },
   {
    "duration": 25,
    "start_time": "2022-11-29T09:45:29.582Z"
   },
   {
    "duration": 20,
    "start_time": "2022-11-29T09:45:29.610Z"
   },
   {
    "duration": 4,
    "start_time": "2022-11-29T09:45:29.632Z"
   },
   {
    "duration": 7,
    "start_time": "2022-11-29T09:45:29.637Z"
   },
   {
    "duration": 16,
    "start_time": "2022-11-29T09:45:29.645Z"
   },
   {
    "duration": 715,
    "start_time": "2022-11-29T09:45:29.663Z"
   },
   {
    "duration": 12,
    "start_time": "2022-11-29T09:45:30.380Z"
   },
   {
    "duration": 20,
    "start_time": "2022-11-29T09:45:30.397Z"
   },
   {
    "duration": 43,
    "start_time": "2022-11-29T09:45:30.418Z"
   },
   {
    "duration": 26,
    "start_time": "2022-11-29T09:45:30.463Z"
   },
   {
    "duration": 44,
    "start_time": "2022-11-29T09:45:30.491Z"
   },
   {
    "duration": 31,
    "start_time": "2022-11-29T09:45:30.538Z"
   },
   {
    "duration": 20,
    "start_time": "2022-11-29T09:45:30.571Z"
   },
   {
    "duration": 37,
    "start_time": "2022-11-29T09:45:30.594Z"
   },
   {
    "duration": 0,
    "start_time": "2022-11-29T09:45:30.632Z"
   },
   {
    "duration": 0,
    "start_time": "2022-11-29T09:45:30.634Z"
   },
   {
    "duration": 0,
    "start_time": "2022-11-29T09:45:30.635Z"
   },
   {
    "duration": 0,
    "start_time": "2022-11-29T09:45:30.636Z"
   },
   {
    "duration": 0,
    "start_time": "2022-11-29T09:45:30.637Z"
   },
   {
    "duration": 0,
    "start_time": "2022-11-29T09:45:30.638Z"
   },
   {
    "duration": 0,
    "start_time": "2022-11-29T09:45:30.639Z"
   },
   {
    "duration": 0,
    "start_time": "2022-11-29T09:45:30.641Z"
   },
   {
    "duration": 0,
    "start_time": "2022-11-29T09:45:30.642Z"
   },
   {
    "duration": 0,
    "start_time": "2022-11-29T09:45:30.643Z"
   },
   {
    "duration": 0,
    "start_time": "2022-11-29T09:45:30.644Z"
   },
   {
    "duration": 3,
    "start_time": "2022-11-29T09:46:50.653Z"
   },
   {
    "duration": 13,
    "start_time": "2022-11-29T09:47:42.862Z"
   },
   {
    "duration": 5,
    "start_time": "2022-11-29T09:47:43.608Z"
   },
   {
    "duration": 20,
    "start_time": "2022-11-29T09:47:44.320Z"
   },
   {
    "duration": 5,
    "start_time": "2022-11-29T09:47:47.030Z"
   },
   {
    "duration": 17,
    "start_time": "2022-11-29T09:47:49.020Z"
   },
   {
    "duration": 20,
    "start_time": "2022-11-29T09:47:50.414Z"
   },
   {
    "duration": 18,
    "start_time": "2022-11-29T09:47:51.382Z"
   },
   {
    "duration": 2,
    "start_time": "2022-11-29T09:47:51.968Z"
   },
   {
    "duration": 3,
    "start_time": "2022-11-29T09:47:53.508Z"
   },
   {
    "duration": 259,
    "start_time": "2022-11-29T09:47:54.261Z"
   },
   {
    "duration": 316,
    "start_time": "2022-11-29T09:47:56.910Z"
   },
   {
    "duration": 19,
    "start_time": "2022-11-29T09:51:33.874Z"
   },
   {
    "duration": 903,
    "start_time": "2022-11-29T09:52:50.215Z"
   },
   {
    "duration": 920,
    "start_time": "2022-11-29T09:53:27.699Z"
   },
   {
    "duration": 4,
    "start_time": "2022-11-29T09:53:39.991Z"
   },
   {
    "duration": 54,
    "start_time": "2022-11-29T09:53:39.998Z"
   },
   {
    "duration": 13,
    "start_time": "2022-11-29T09:53:40.054Z"
   },
   {
    "duration": 6,
    "start_time": "2022-11-29T09:53:40.068Z"
   },
   {
    "duration": 20,
    "start_time": "2022-11-29T09:53:40.076Z"
   },
   {
    "duration": 5,
    "start_time": "2022-11-29T09:53:40.098Z"
   },
   {
    "duration": 8,
    "start_time": "2022-11-29T09:53:40.104Z"
   },
   {
    "duration": 13,
    "start_time": "2022-11-29T09:53:40.114Z"
   },
   {
    "duration": 778,
    "start_time": "2022-11-29T09:53:40.128Z"
   },
   {
    "duration": 10,
    "start_time": "2022-11-29T09:53:40.908Z"
   },
   {
    "duration": 9,
    "start_time": "2022-11-29T09:53:40.921Z"
   },
   {
    "duration": 16,
    "start_time": "2022-11-29T09:53:40.931Z"
   },
   {
    "duration": 3,
    "start_time": "2022-11-29T09:53:40.948Z"
   },
   {
    "duration": 12,
    "start_time": "2022-11-29T09:53:40.981Z"
   },
   {
    "duration": 13,
    "start_time": "2022-11-29T09:53:40.996Z"
   },
   {
    "duration": 6,
    "start_time": "2022-11-29T09:53:41.011Z"
   },
   {
    "duration": 10,
    "start_time": "2022-11-29T09:53:41.019Z"
   },
   {
    "duration": 13,
    "start_time": "2022-11-29T09:53:41.031Z"
   },
   {
    "duration": 7,
    "start_time": "2022-11-29T09:53:41.046Z"
   },
   {
    "duration": 54,
    "start_time": "2022-11-29T09:53:41.054Z"
   },
   {
    "duration": 5,
    "start_time": "2022-11-29T09:53:41.109Z"
   },
   {
    "duration": 134,
    "start_time": "2022-11-29T09:53:41.115Z"
   },
   {
    "duration": 32,
    "start_time": "2022-11-29T09:53:41.250Z"
   },
   {
    "duration": 21,
    "start_time": "2022-11-29T09:53:41.284Z"
   },
   {
    "duration": 3,
    "start_time": "2022-11-29T09:53:41.307Z"
   },
   {
    "duration": 11,
    "start_time": "2022-11-29T09:53:41.311Z"
   },
   {
    "duration": 281,
    "start_time": "2022-11-29T09:53:41.323Z"
   },
   {
    "duration": 969,
    "start_time": "2022-11-29T09:53:41.606Z"
   },
   {
    "duration": 885,
    "start_time": "2022-11-29T09:54:05.110Z"
   },
   {
    "duration": 9,
    "start_time": "2022-11-29T09:58:36.822Z"
   },
   {
    "duration": 12,
    "start_time": "2022-11-29T09:59:09.213Z"
   },
   {
    "duration": 10,
    "start_time": "2022-11-29T09:59:20.322Z"
   },
   {
    "duration": 134,
    "start_time": "2022-11-29T10:01:09.270Z"
   },
   {
    "duration": 11,
    "start_time": "2022-11-29T10:01:16.356Z"
   },
   {
    "duration": 9,
    "start_time": "2022-11-29T10:01:31.908Z"
   },
   {
    "duration": 11,
    "start_time": "2022-11-29T10:02:05.326Z"
   },
   {
    "duration": 7,
    "start_time": "2022-11-29T10:31:01.554Z"
   },
   {
    "duration": 4,
    "start_time": "2022-11-29T10:31:11.056Z"
   },
   {
    "duration": 49,
    "start_time": "2022-11-29T10:31:12.578Z"
   },
   {
    "duration": 17,
    "start_time": "2022-11-29T10:32:51.060Z"
   },
   {
    "duration": 161,
    "start_time": "2022-11-29T10:33:12.417Z"
   },
   {
    "duration": 17,
    "start_time": "2022-11-29T10:34:55.704Z"
   },
   {
    "duration": 20,
    "start_time": "2022-11-29T10:35:06.005Z"
   },
   {
    "duration": 71,
    "start_time": "2022-11-29T16:17:39.770Z"
   },
   {
    "duration": 882,
    "start_time": "2022-11-29T16:17:46.348Z"
   },
   {
    "duration": 191,
    "start_time": "2022-11-29T16:17:47.233Z"
   },
   {
    "duration": 21,
    "start_time": "2022-11-29T16:17:47.425Z"
   },
   {
    "duration": 3,
    "start_time": "2022-11-29T16:17:47.449Z"
   },
   {
    "duration": 23,
    "start_time": "2022-11-29T16:17:47.454Z"
   },
   {
    "duration": 4,
    "start_time": "2022-11-29T16:17:47.479Z"
   },
   {
    "duration": 8,
    "start_time": "2022-11-29T16:17:47.484Z"
   },
   {
    "duration": 22,
    "start_time": "2022-11-29T16:17:47.494Z"
   },
   {
    "duration": 837,
    "start_time": "2022-11-29T16:17:47.518Z"
   },
   {
    "duration": 12,
    "start_time": "2022-11-29T16:17:48.359Z"
   },
   {
    "duration": 15,
    "start_time": "2022-11-29T16:17:48.372Z"
   },
   {
    "duration": 20,
    "start_time": "2022-11-29T16:17:48.389Z"
   },
   {
    "duration": 3,
    "start_time": "2022-11-29T16:17:48.411Z"
   },
   {
    "duration": 45,
    "start_time": "2022-11-29T16:17:48.416Z"
   },
   {
    "duration": 13,
    "start_time": "2022-11-29T16:17:48.463Z"
   },
   {
    "duration": 76,
    "start_time": "2022-11-29T16:17:48.478Z"
   },
   {
    "duration": 9,
    "start_time": "2022-11-29T16:17:48.556Z"
   },
   {
    "duration": 14,
    "start_time": "2022-11-29T16:17:48.567Z"
   },
   {
    "duration": 5,
    "start_time": "2022-11-29T16:17:48.583Z"
   },
   {
    "duration": 29,
    "start_time": "2022-11-29T16:17:48.590Z"
   },
   {
    "duration": 5,
    "start_time": "2022-11-29T16:17:48.620Z"
   },
   {
    "duration": 19,
    "start_time": "2022-11-29T16:17:48.650Z"
   },
   {
    "duration": 22,
    "start_time": "2022-11-29T16:17:48.671Z"
   },
   {
    "duration": 17,
    "start_time": "2022-11-29T16:17:48.695Z"
   },
   {
    "duration": 37,
    "start_time": "2022-11-29T16:17:48.714Z"
   },
   {
    "duration": 6,
    "start_time": "2022-11-29T16:17:48.754Z"
   },
   {
    "duration": 351,
    "start_time": "2022-11-29T16:17:48.762Z"
   },
   {
    "duration": 12,
    "start_time": "2022-11-29T16:17:49.117Z"
   },
   {
    "duration": 20,
    "start_time": "2022-11-29T16:17:49.132Z"
   },
   {
    "duration": 16,
    "start_time": "2022-11-29T16:17:49.154Z"
   },
   {
    "duration": 31,
    "start_time": "2022-11-29T16:17:49.172Z"
   },
   {
    "duration": 218,
    "start_time": "2022-11-29T16:17:49.205Z"
   },
   {
    "duration": 46,
    "start_time": "2022-11-29T16:20:28.768Z"
   },
   {
    "duration": 5,
    "start_time": "2022-11-29T16:25:15.311Z"
   },
   {
    "duration": 18,
    "start_time": "2022-11-29T16:25:15.389Z"
   },
   {
    "duration": 6,
    "start_time": "2022-11-29T16:28:43.089Z"
   },
   {
    "duration": 308,
    "start_time": "2022-11-29T16:30:23.844Z"
   },
   {
    "duration": 4,
    "start_time": "2022-11-29T16:33:55.968Z"
   },
   {
    "duration": 10,
    "start_time": "2022-11-29T16:33:57.345Z"
   },
   {
    "duration": 339,
    "start_time": "2022-11-29T16:34:07.658Z"
   },
   {
    "duration": 3,
    "start_time": "2022-11-29T16:34:12.252Z"
   },
   {
    "duration": 54,
    "start_time": "2022-11-29T16:34:12.257Z"
   },
   {
    "duration": 15,
    "start_time": "2022-11-29T16:34:12.313Z"
   },
   {
    "duration": 10,
    "start_time": "2022-11-29T16:34:12.329Z"
   },
   {
    "duration": 21,
    "start_time": "2022-11-29T16:34:12.341Z"
   },
   {
    "duration": 5,
    "start_time": "2022-11-29T16:34:12.364Z"
   },
   {
    "duration": 5,
    "start_time": "2022-11-29T16:34:12.371Z"
   },
   {
    "duration": 31,
    "start_time": "2022-11-29T16:34:12.378Z"
   },
   {
    "duration": 804,
    "start_time": "2022-11-29T16:34:12.411Z"
   },
   {
    "duration": 11,
    "start_time": "2022-11-29T16:34:13.217Z"
   },
   {
    "duration": 25,
    "start_time": "2022-11-29T16:34:13.231Z"
   },
   {
    "duration": 30,
    "start_time": "2022-11-29T16:34:13.258Z"
   },
   {
    "duration": 9,
    "start_time": "2022-11-29T16:34:13.290Z"
   },
   {
    "duration": 12,
    "start_time": "2022-11-29T16:34:13.301Z"
   },
   {
    "duration": 16,
    "start_time": "2022-11-29T16:34:13.315Z"
   },
   {
    "duration": 11,
    "start_time": "2022-11-29T16:34:13.333Z"
   },
   {
    "duration": 16,
    "start_time": "2022-11-29T16:34:13.345Z"
   },
   {
    "duration": 5,
    "start_time": "2022-11-29T16:34:13.362Z"
   },
   {
    "duration": 27,
    "start_time": "2022-11-29T16:34:13.369Z"
   },
   {
    "duration": 5,
    "start_time": "2022-11-29T16:34:13.398Z"
   },
   {
    "duration": 7,
    "start_time": "2022-11-29T16:34:13.404Z"
   },
   {
    "duration": 45,
    "start_time": "2022-11-29T16:34:13.413Z"
   },
   {
    "duration": 21,
    "start_time": "2022-11-29T16:34:13.460Z"
   },
   {
    "duration": 15,
    "start_time": "2022-11-29T16:34:13.483Z"
   },
   {
    "duration": 33,
    "start_time": "2022-11-29T16:34:13.500Z"
   },
   {
    "duration": 9,
    "start_time": "2022-11-29T16:34:13.534Z"
   },
   {
    "duration": 286,
    "start_time": "2022-11-29T16:34:13.545Z"
   },
   {
    "duration": 39,
    "start_time": "2022-11-29T16:34:13.833Z"
   },
   {
    "duration": 20,
    "start_time": "2022-11-29T16:34:13.875Z"
   },
   {
    "duration": 213,
    "start_time": "2022-11-29T16:34:13.897Z"
   },
   {
    "duration": 22,
    "start_time": "2022-11-29T16:35:59.830Z"
   },
   {
    "duration": 8,
    "start_time": "2022-11-29T16:37:51.821Z"
   },
   {
    "duration": 14,
    "start_time": "2022-11-29T16:37:59.991Z"
   },
   {
    "duration": 277,
    "start_time": "2022-11-29T16:38:33.845Z"
   },
   {
    "duration": 375,
    "start_time": "2022-11-29T16:38:55.062Z"
   },
   {
    "duration": 21,
    "start_time": "2022-11-29T16:38:55.450Z"
   },
   {
    "duration": 214,
    "start_time": "2022-11-29T16:39:15.526Z"
   },
   {
    "duration": 196,
    "start_time": "2022-11-29T16:40:50.128Z"
   },
   {
    "duration": 360,
    "start_time": "2022-11-29T16:40:50.326Z"
   },
   {
    "duration": 208,
    "start_time": "2022-11-29T16:43:23.117Z"
   },
   {
    "duration": 252,
    "start_time": "2022-11-29T16:43:39.560Z"
   },
   {
    "duration": 18,
    "start_time": "2022-11-29T16:44:21.434Z"
   },
   {
    "duration": 17,
    "start_time": "2022-11-29T16:44:31.576Z"
   },
   {
    "duration": 24,
    "start_time": "2022-11-29T16:44:49.081Z"
   },
   {
    "duration": 539,
    "start_time": "2022-11-29T16:55:15.630Z"
   },
   {
    "duration": 314,
    "start_time": "2022-11-29T16:55:26.946Z"
   },
   {
    "duration": 350,
    "start_time": "2022-11-29T16:55:34.026Z"
   },
   {
    "duration": 308,
    "start_time": "2022-11-29T16:55:44.129Z"
   },
   {
    "duration": 562,
    "start_time": "2022-11-29T17:07:21.033Z"
   },
   {
    "duration": 315,
    "start_time": "2022-11-29T17:09:15.650Z"
   },
   {
    "duration": 5,
    "start_time": "2022-11-29T17:19:01.912Z"
   },
   {
    "duration": 5,
    "start_time": "2022-11-29T17:19:02.485Z"
   },
   {
    "duration": 5,
    "start_time": "2022-11-29T17:20:37.076Z"
   },
   {
    "duration": 160,
    "start_time": "2022-11-29T17:25:09.802Z"
   },
   {
    "duration": 148,
    "start_time": "2022-11-29T17:26:03.286Z"
   },
   {
    "duration": 4,
    "start_time": "2022-11-29T17:26:36.303Z"
   },
   {
    "duration": 4,
    "start_time": "2022-11-29T17:26:37.151Z"
   },
   {
    "duration": 175,
    "start_time": "2022-11-29T17:26:39.678Z"
   },
   {
    "duration": 2,
    "start_time": "2022-11-29T17:26:48.876Z"
   },
   {
    "duration": 55,
    "start_time": "2022-11-29T17:26:48.880Z"
   },
   {
    "duration": 16,
    "start_time": "2022-11-29T17:26:48.937Z"
   },
   {
    "duration": 10,
    "start_time": "2022-11-29T17:26:48.954Z"
   },
   {
    "duration": 17,
    "start_time": "2022-11-29T17:26:48.967Z"
   },
   {
    "duration": 5,
    "start_time": "2022-11-29T17:26:48.986Z"
   },
   {
    "duration": 5,
    "start_time": "2022-11-29T17:26:48.993Z"
   },
   {
    "duration": 20,
    "start_time": "2022-11-29T17:26:49.000Z"
   },
   {
    "duration": 968,
    "start_time": "2022-11-29T17:26:49.022Z"
   },
   {
    "duration": 10,
    "start_time": "2022-11-29T17:26:49.992Z"
   },
   {
    "duration": 29,
    "start_time": "2022-11-29T17:26:50.005Z"
   },
   {
    "duration": 39,
    "start_time": "2022-11-29T17:26:50.036Z"
   },
   {
    "duration": 8,
    "start_time": "2022-11-29T17:26:50.077Z"
   },
   {
    "duration": 19,
    "start_time": "2022-11-29T17:26:50.086Z"
   },
   {
    "duration": 20,
    "start_time": "2022-11-29T17:26:50.107Z"
   },
   {
    "duration": 15,
    "start_time": "2022-11-29T17:26:50.129Z"
   },
   {
    "duration": 34,
    "start_time": "2022-11-29T17:26:50.145Z"
   },
   {
    "duration": 15,
    "start_time": "2022-11-29T17:26:50.181Z"
   },
   {
    "duration": 30,
    "start_time": "2022-11-29T17:26:50.198Z"
   },
   {
    "duration": 5,
    "start_time": "2022-11-29T17:26:50.230Z"
   },
   {
    "duration": 9,
    "start_time": "2022-11-29T17:26:50.237Z"
   },
   {
    "duration": 22,
    "start_time": "2022-11-29T17:26:50.248Z"
   },
   {
    "duration": 22,
    "start_time": "2022-11-29T17:26:50.271Z"
   },
   {
    "duration": 15,
    "start_time": "2022-11-29T17:26:50.295Z"
   },
   {
    "duration": 2,
    "start_time": "2022-11-29T17:26:50.311Z"
   },
   {
    "duration": 10,
    "start_time": "2022-11-29T17:26:50.315Z"
   },
   {
    "duration": 317,
    "start_time": "2022-11-29T17:26:50.327Z"
   },
   {
    "duration": 31,
    "start_time": "2022-11-29T17:26:50.645Z"
   },
   {
    "duration": 212,
    "start_time": "2022-11-29T17:26:50.679Z"
   },
   {
    "duration": 299,
    "start_time": "2022-11-29T17:26:50.893Z"
   },
   {
    "duration": 4,
    "start_time": "2022-11-29T17:26:51.194Z"
   },
   {
    "duration": 23,
    "start_time": "2022-11-29T17:26:51.200Z"
   },
   {
    "duration": 215,
    "start_time": "2022-11-29T17:26:51.225Z"
   },
   {
    "duration": 309,
    "start_time": "2022-11-29T17:26:51.443Z"
   },
   {
    "duration": 5,
    "start_time": "2022-11-29T17:26:51.754Z"
   },
   {
    "duration": 9,
    "start_time": "2022-11-29T17:26:51.760Z"
   },
   {
    "duration": 11,
    "start_time": "2022-11-29T17:26:51.771Z"
   },
   {
    "duration": 154,
    "start_time": "2022-11-29T17:26:51.784Z"
   },
   {
    "duration": 248,
    "start_time": "2022-11-29T17:27:11.424Z"
   },
   {
    "duration": 180,
    "start_time": "2022-11-29T17:27:29.576Z"
   },
   {
    "duration": 1242,
    "start_time": "2022-11-29T17:28:17.279Z"
   },
   {
    "duration": 70,
    "start_time": "2022-11-29T17:28:22.168Z"
   },
   {
    "duration": 1121,
    "start_time": "2022-11-29T17:28:36.595Z"
   },
   {
    "duration": 7,
    "start_time": "2022-11-29T17:28:48.889Z"
   },
   {
    "duration": 184,
    "start_time": "2022-11-29T17:29:54.152Z"
   },
   {
    "duration": 8,
    "start_time": "2022-11-29T17:30:17.376Z"
   },
   {
    "duration": 1475,
    "start_time": "2022-11-29T17:39:11.455Z"
   },
   {
    "duration": 92,
    "start_time": "2022-11-29T17:39:57.849Z"
   },
   {
    "duration": 83,
    "start_time": "2022-11-29T17:40:10.479Z"
   },
   {
    "duration": 240,
    "start_time": "2022-11-29T17:41:52.955Z"
   },
   {
    "duration": 4,
    "start_time": "2022-11-29T18:56:38.742Z"
   },
   {
    "duration": 75,
    "start_time": "2022-11-29T18:56:38.757Z"
   },
   {
    "duration": 26,
    "start_time": "2022-11-29T18:56:38.835Z"
   },
   {
    "duration": 8,
    "start_time": "2022-11-29T18:56:38.864Z"
   },
   {
    "duration": 24,
    "start_time": "2022-11-29T18:56:38.882Z"
   },
   {
    "duration": 7,
    "start_time": "2022-11-29T18:56:38.909Z"
   },
   {
    "duration": 38,
    "start_time": "2022-11-29T18:56:38.921Z"
   },
   {
    "duration": 28,
    "start_time": "2022-11-29T18:56:38.963Z"
   },
   {
    "duration": 1371,
    "start_time": "2022-11-29T18:56:38.993Z"
   },
   {
    "duration": 17,
    "start_time": "2022-11-29T18:56:40.368Z"
   },
   {
    "duration": 89,
    "start_time": "2022-11-29T18:56:40.389Z"
   },
   {
    "duration": 57,
    "start_time": "2022-11-29T18:56:40.480Z"
   },
   {
    "duration": 20,
    "start_time": "2022-11-29T18:56:40.539Z"
   },
   {
    "duration": 27,
    "start_time": "2022-11-29T18:56:40.562Z"
   },
   {
    "duration": 30,
    "start_time": "2022-11-29T18:56:40.601Z"
   },
   {
    "duration": 31,
    "start_time": "2022-11-29T18:56:40.639Z"
   },
   {
    "duration": 95,
    "start_time": "2022-11-29T18:56:40.675Z"
   },
   {
    "duration": 45,
    "start_time": "2022-11-29T18:56:40.772Z"
   },
   {
    "duration": 139,
    "start_time": "2022-11-29T18:56:40.820Z"
   },
   {
    "duration": 27,
    "start_time": "2022-11-29T18:56:40.961Z"
   },
   {
    "duration": 22,
    "start_time": "2022-11-29T18:56:40.990Z"
   },
   {
    "duration": 40,
    "start_time": "2022-11-29T18:56:41.015Z"
   },
   {
    "duration": 28,
    "start_time": "2022-11-29T18:56:41.059Z"
   },
   {
    "duration": 16,
    "start_time": "2022-11-29T18:56:41.089Z"
   },
   {
    "duration": 14,
    "start_time": "2022-11-29T18:56:41.107Z"
   },
   {
    "duration": 33,
    "start_time": "2022-11-29T18:56:41.124Z"
   },
   {
    "duration": 507,
    "start_time": "2022-11-29T18:56:41.160Z"
   },
   {
    "duration": 35,
    "start_time": "2022-11-29T18:56:41.669Z"
   },
   {
    "duration": 327,
    "start_time": "2022-11-29T18:56:41.709Z"
   },
   {
    "duration": 696,
    "start_time": "2022-11-29T18:56:42.038Z"
   },
   {
    "duration": 7,
    "start_time": "2022-11-29T18:56:42.737Z"
   },
   {
    "duration": 47,
    "start_time": "2022-11-29T18:56:42.747Z"
   },
   {
    "duration": 316,
    "start_time": "2022-11-29T18:56:42.797Z"
   },
   {
    "duration": 490,
    "start_time": "2022-11-29T18:56:43.114Z"
   },
   {
    "duration": 4,
    "start_time": "2022-11-29T18:56:43.606Z"
   },
   {
    "duration": 45,
    "start_time": "2022-11-29T18:56:43.617Z"
   },
   {
    "duration": 22,
    "start_time": "2022-11-29T18:56:43.665Z"
   },
   {
    "duration": 260,
    "start_time": "2022-11-29T18:56:43.689Z"
   },
   {
    "duration": 10,
    "start_time": "2022-11-29T18:56:43.952Z"
   },
   {
    "duration": 244,
    "start_time": "2022-11-29T18:56:43.965Z"
   },
   {
    "duration": 18,
    "start_time": "2022-11-29T18:56:44.215Z"
   },
   {
    "duration": 34,
    "start_time": "2022-11-29T18:56:44.243Z"
   },
   {
    "duration": 0,
    "start_time": "2022-11-29T18:56:44.280Z"
   },
   {
    "duration": 8,
    "start_time": "2022-11-29T19:12:27.698Z"
   },
   {
    "duration": 2707,
    "start_time": "2022-11-29T19:12:30.984Z"
   },
   {
    "duration": 39,
    "start_time": "2022-11-29T19:14:45.020Z"
   },
   {
    "duration": 42,
    "start_time": "2022-11-29T19:15:08.206Z"
   },
   {
    "duration": 363,
    "start_time": "2022-11-29T19:18:51.546Z"
   },
   {
    "duration": 87,
    "start_time": "2022-11-29T19:21:22.701Z"
   },
   {
    "duration": 77,
    "start_time": "2022-11-29T19:21:32.479Z"
   },
   {
    "duration": 93,
    "start_time": "2022-11-29T19:21:35.945Z"
   },
   {
    "duration": 196,
    "start_time": "2022-11-29T19:21:53.076Z"
   },
   {
    "duration": 230,
    "start_time": "2022-11-29T19:21:59.695Z"
   },
   {
    "duration": 8,
    "start_time": "2022-11-29T19:24:56.124Z"
   },
   {
    "duration": 21,
    "start_time": "2022-11-29T19:25:10.431Z"
   },
   {
    "duration": 10,
    "start_time": "2022-11-29T19:25:36.468Z"
   },
   {
    "duration": 331,
    "start_time": "2022-11-29T19:26:58.293Z"
   },
   {
    "duration": 342,
    "start_time": "2022-11-29T20:20:47.250Z"
   },
   {
    "duration": 348,
    "start_time": "2022-11-29T20:20:52.835Z"
   },
   {
    "duration": 20,
    "start_time": "2022-11-29T20:21:51.866Z"
   },
   {
    "duration": 365,
    "start_time": "2022-11-29T20:22:49.494Z"
   },
   {
    "duration": 415,
    "start_time": "2022-11-29T20:22:54.573Z"
   },
   {
    "duration": 16,
    "start_time": "2022-11-29T20:23:34.936Z"
   },
   {
    "duration": 19,
    "start_time": "2022-11-29T20:25:23.251Z"
   },
   {
    "duration": 21,
    "start_time": "2022-11-29T20:25:28.835Z"
   },
   {
    "duration": 323,
    "start_time": "2022-11-29T20:26:15.727Z"
   },
   {
    "duration": 330,
    "start_time": "2022-11-29T20:26:20.435Z"
   },
   {
    "duration": 15,
    "start_time": "2022-11-29T20:26:44.797Z"
   },
   {
    "duration": 321,
    "start_time": "2022-11-29T20:27:57.051Z"
   },
   {
    "duration": 298,
    "start_time": "2022-11-29T20:28:24.220Z"
   },
   {
    "duration": 17,
    "start_time": "2022-11-29T20:28:50.593Z"
   },
   {
    "duration": 4,
    "start_time": "2022-11-29T20:29:20.213Z"
   },
   {
    "duration": 14,
    "start_time": "2022-11-29T20:29:27.023Z"
   },
   {
    "duration": 204,
    "start_time": "2022-11-29T20:29:58.513Z"
   },
   {
    "duration": 16,
    "start_time": "2022-11-29T20:30:14.722Z"
   },
   {
    "duration": 194,
    "start_time": "2022-11-29T20:30:25.072Z"
   },
   {
    "duration": 16,
    "start_time": "2022-11-29T20:30:32.677Z"
   },
   {
    "duration": 219,
    "start_time": "2022-11-29T20:30:39.782Z"
   },
   {
    "duration": 15,
    "start_time": "2022-11-29T20:30:46.065Z"
   },
   {
    "duration": 17,
    "start_time": "2022-11-29T20:31:09.778Z"
   },
   {
    "duration": 313,
    "start_time": "2022-11-29T20:31:09.874Z"
   },
   {
    "duration": 18,
    "start_time": "2022-11-29T20:31:10.728Z"
   },
   {
    "duration": 225,
    "start_time": "2022-11-29T20:38:30.171Z"
   },
   {
    "duration": 240,
    "start_time": "2022-11-29T20:38:35.740Z"
   },
   {
    "duration": 16,
    "start_time": "2022-11-29T20:38:42.265Z"
   },
   {
    "duration": 284,
    "start_time": "2022-11-29T20:39:04.802Z"
   },
   {
    "duration": 17,
    "start_time": "2022-11-29T20:39:06.191Z"
   },
   {
    "duration": 246,
    "start_time": "2022-11-29T20:39:09.551Z"
   },
   {
    "duration": 16,
    "start_time": "2022-11-29T20:39:13.297Z"
   },
   {
    "duration": 203,
    "start_time": "2022-11-29T20:39:14.858Z"
   },
   {
    "duration": 17,
    "start_time": "2022-11-29T20:39:18.249Z"
   },
   {
    "duration": 150,
    "start_time": "2022-11-29T20:44:46.168Z"
   },
   {
    "duration": 174,
    "start_time": "2022-11-29T20:53:41.425Z"
   },
   {
    "duration": 148,
    "start_time": "2022-11-29T20:53:44.788Z"
   },
   {
    "duration": 156,
    "start_time": "2022-11-29T20:53:45.679Z"
   },
   {
    "duration": 4,
    "start_time": "2022-11-29T20:56:45.589Z"
   },
   {
    "duration": 135,
    "start_time": "2022-11-29T20:56:56.975Z"
   },
   {
    "duration": 4,
    "start_time": "2022-11-29T20:57:02.021Z"
   },
   {
    "duration": 81,
    "start_time": "2022-11-29T20:57:02.030Z"
   },
   {
    "duration": 15,
    "start_time": "2022-11-29T20:57:02.113Z"
   },
   {
    "duration": 31,
    "start_time": "2022-11-29T20:57:02.130Z"
   },
   {
    "duration": 48,
    "start_time": "2022-11-29T20:57:02.164Z"
   },
   {
    "duration": 28,
    "start_time": "2022-11-29T20:57:02.214Z"
   },
   {
    "duration": 33,
    "start_time": "2022-11-29T20:57:02.244Z"
   },
   {
    "duration": 24,
    "start_time": "2022-11-29T20:57:02.281Z"
   },
   {
    "duration": 1053,
    "start_time": "2022-11-29T20:57:02.307Z"
   },
   {
    "duration": 16,
    "start_time": "2022-11-29T20:57:03.361Z"
   },
   {
    "duration": 20,
    "start_time": "2022-11-29T20:57:03.380Z"
   },
   {
    "duration": 19,
    "start_time": "2022-11-29T20:57:03.401Z"
   },
   {
    "duration": 5,
    "start_time": "2022-11-29T20:57:03.422Z"
   },
   {
    "duration": 37,
    "start_time": "2022-11-29T20:57:03.428Z"
   },
   {
    "duration": 25,
    "start_time": "2022-11-29T20:57:03.470Z"
   },
   {
    "duration": 7,
    "start_time": "2022-11-29T20:57:03.496Z"
   },
   {
    "duration": 6,
    "start_time": "2022-11-29T20:57:03.505Z"
   },
   {
    "duration": 22,
    "start_time": "2022-11-29T20:57:03.513Z"
   },
   {
    "duration": 6,
    "start_time": "2022-11-29T20:57:03.537Z"
   },
   {
    "duration": 37,
    "start_time": "2022-11-29T20:57:03.545Z"
   },
   {
    "duration": 6,
    "start_time": "2022-11-29T20:57:03.584Z"
   },
   {
    "duration": 11,
    "start_time": "2022-11-29T20:57:03.592Z"
   },
   {
    "duration": 25,
    "start_time": "2022-11-29T20:57:03.605Z"
   },
   {
    "duration": 47,
    "start_time": "2022-11-29T20:57:03.632Z"
   },
   {
    "duration": 22,
    "start_time": "2022-11-29T20:57:03.682Z"
   },
   {
    "duration": 3,
    "start_time": "2022-11-29T20:57:03.705Z"
   },
   {
    "duration": 9,
    "start_time": "2022-11-29T20:57:03.709Z"
   },
   {
    "duration": 337,
    "start_time": "2022-11-29T20:57:03.719Z"
   },
   {
    "duration": 25,
    "start_time": "2022-11-29T20:57:04.067Z"
   },
   {
    "duration": 233,
    "start_time": "2022-11-29T20:57:04.094Z"
   },
   {
    "duration": 337,
    "start_time": "2022-11-29T20:57:04.329Z"
   },
   {
    "duration": 10,
    "start_time": "2022-11-29T20:57:04.675Z"
   },
   {
    "duration": 22,
    "start_time": "2022-11-29T20:57:04.687Z"
   },
   {
    "duration": 213,
    "start_time": "2022-11-29T20:57:04.711Z"
   },
   {
    "duration": 339,
    "start_time": "2022-11-29T20:57:04.926Z"
   },
   {
    "duration": 6,
    "start_time": "2022-11-29T20:57:05.267Z"
   },
   {
    "duration": 18,
    "start_time": "2022-11-29T20:57:05.275Z"
   },
   {
    "duration": 5,
    "start_time": "2022-11-29T20:57:05.295Z"
   },
   {
    "duration": 157,
    "start_time": "2022-11-29T20:57:05.301Z"
   },
   {
    "duration": 8,
    "start_time": "2022-11-29T20:57:05.464Z"
   },
   {
    "duration": 154,
    "start_time": "2022-11-29T20:57:05.473Z"
   },
   {
    "duration": 8,
    "start_time": "2022-11-29T20:57:05.628Z"
   },
   {
    "duration": 20,
    "start_time": "2022-11-29T20:57:05.638Z"
   },
   {
    "duration": 2955,
    "start_time": "2022-11-29T20:57:05.660Z"
   },
   {
    "duration": 62,
    "start_time": "2022-11-29T20:57:08.617Z"
   },
   {
    "duration": 181,
    "start_time": "2022-11-29T20:57:08.680Z"
   },
   {
    "duration": 242,
    "start_time": "2022-11-29T20:57:08.863Z"
   },
   {
    "duration": 390,
    "start_time": "2022-11-29T20:57:09.107Z"
   },
   {
    "duration": 230,
    "start_time": "2022-11-29T20:57:09.499Z"
   },
   {
    "duration": 46,
    "start_time": "2022-11-29T20:57:09.732Z"
   },
   {
    "duration": 402,
    "start_time": "2022-11-29T20:57:09.784Z"
   },
   {
    "duration": 17,
    "start_time": "2022-11-29T20:57:10.188Z"
   },
   {
    "duration": 211,
    "start_time": "2022-11-29T20:57:10.207Z"
   },
   {
    "duration": 15,
    "start_time": "2022-11-29T20:57:10.419Z"
   },
   {
    "duration": 214,
    "start_time": "2022-11-29T20:57:10.435Z"
   },
   {
    "duration": 31,
    "start_time": "2022-11-29T20:57:10.650Z"
   },
   {
    "duration": 228,
    "start_time": "2022-11-29T20:57:10.683Z"
   },
   {
    "duration": 15,
    "start_time": "2022-11-29T20:57:10.913Z"
   },
   {
    "duration": 247,
    "start_time": "2022-11-29T20:57:10.930Z"
   },
   {
    "duration": 17,
    "start_time": "2022-11-29T20:57:11.180Z"
   },
   {
    "duration": 213,
    "start_time": "2022-11-29T20:57:11.198Z"
   },
   {
    "duration": 16,
    "start_time": "2022-11-29T20:57:11.413Z"
   },
   {
    "duration": 251,
    "start_time": "2022-11-29T20:57:11.431Z"
   },
   {
    "duration": 14,
    "start_time": "2022-11-29T20:57:11.686Z"
   },
   {
    "duration": 167,
    "start_time": "2022-11-29T20:57:11.702Z"
   },
   {
    "duration": 142,
    "start_time": "2022-11-29T20:57:11.874Z"
   },
   {
    "duration": 173,
    "start_time": "2022-11-29T20:57:12.018Z"
   },
   {
    "duration": 186,
    "start_time": "2022-11-29T20:57:12.194Z"
   },
   {
    "duration": 6,
    "start_time": "2022-11-29T20:57:45.573Z"
   },
   {
    "duration": 5,
    "start_time": "2022-11-29T20:57:46.198Z"
   },
   {
    "duration": 18,
    "start_time": "2022-11-29T20:57:47.066Z"
   },
   {
    "duration": 142,
    "start_time": "2022-11-29T20:57:57.172Z"
   },
   {
    "duration": 138,
    "start_time": "2022-11-29T20:57:58.777Z"
   },
   {
    "duration": 176,
    "start_time": "2022-11-29T20:57:59.578Z"
   },
   {
    "duration": 152,
    "start_time": "2022-11-29T20:58:00.479Z"
   },
   {
    "duration": 15,
    "start_time": "2022-11-29T21:12:36.864Z"
   },
   {
    "duration": 6,
    "start_time": "2022-11-29T21:13:06.208Z"
   },
   {
    "duration": 37,
    "start_time": "2022-11-29T21:15:18.642Z"
   },
   {
    "duration": 8,
    "start_time": "2022-11-29T21:15:41.180Z"
   },
   {
    "duration": 7,
    "start_time": "2022-11-29T21:15:45.206Z"
   },
   {
    "duration": 53,
    "start_time": "2022-11-30T07:54:11.800Z"
   },
   {
    "duration": 1434,
    "start_time": "2022-11-30T07:54:17.401Z"
   },
   {
    "duration": 103,
    "start_time": "2022-11-30T07:54:18.837Z"
   },
   {
    "duration": 20,
    "start_time": "2022-11-30T07:54:18.942Z"
   },
   {
    "duration": 3,
    "start_time": "2022-11-30T07:54:18.965Z"
   },
   {
    "duration": 26,
    "start_time": "2022-11-30T07:54:18.969Z"
   },
   {
    "duration": 7,
    "start_time": "2022-11-30T07:54:19.000Z"
   },
   {
    "duration": 19,
    "start_time": "2022-11-30T07:54:19.009Z"
   },
   {
    "duration": 4,
    "start_time": "2022-11-30T07:54:19.030Z"
   },
   {
    "duration": 21,
    "start_time": "2022-11-30T07:54:19.036Z"
   },
   {
    "duration": 901,
    "start_time": "2022-11-30T07:54:19.060Z"
   },
   {
    "duration": 9,
    "start_time": "2022-11-30T07:54:19.963Z"
   },
   {
    "duration": 28,
    "start_time": "2022-11-30T07:54:19.974Z"
   },
   {
    "duration": 23,
    "start_time": "2022-11-30T07:54:20.004Z"
   },
   {
    "duration": 11,
    "start_time": "2022-11-30T07:54:20.028Z"
   },
   {
    "duration": 28,
    "start_time": "2022-11-30T07:54:20.040Z"
   },
   {
    "duration": 18,
    "start_time": "2022-11-30T07:54:20.070Z"
   },
   {
    "duration": 6,
    "start_time": "2022-11-30T07:54:20.090Z"
   },
   {
    "duration": 22,
    "start_time": "2022-11-30T07:54:20.098Z"
   },
   {
    "duration": 20,
    "start_time": "2022-11-30T07:54:20.124Z"
   },
   {
    "duration": 7,
    "start_time": "2022-11-30T07:54:20.146Z"
   },
   {
    "duration": 32,
    "start_time": "2022-11-30T07:54:20.155Z"
   },
   {
    "duration": 5,
    "start_time": "2022-11-30T07:54:20.189Z"
   },
   {
    "duration": 21,
    "start_time": "2022-11-30T07:54:20.196Z"
   },
   {
    "duration": 47,
    "start_time": "2022-11-30T07:54:20.220Z"
   },
   {
    "duration": 24,
    "start_time": "2022-11-30T07:54:20.270Z"
   },
   {
    "duration": 21,
    "start_time": "2022-11-30T07:54:20.295Z"
   },
   {
    "duration": 15,
    "start_time": "2022-11-30T07:54:20.320Z"
   },
   {
    "duration": 17,
    "start_time": "2022-11-30T07:54:20.341Z"
   },
   {
    "duration": 326,
    "start_time": "2022-11-30T07:54:20.360Z"
   },
   {
    "duration": 20,
    "start_time": "2022-11-30T07:54:20.687Z"
   },
   {
    "duration": 212,
    "start_time": "2022-11-30T07:54:20.709Z"
   },
   {
    "duration": 320,
    "start_time": "2022-11-30T07:54:20.922Z"
   },
   {
    "duration": 413,
    "start_time": "2022-11-30T07:54:21.244Z"
   },
   {
    "duration": 6,
    "start_time": "2022-11-30T07:54:21.659Z"
   },
   {
    "duration": 9,
    "start_time": "2022-11-30T07:54:21.666Z"
   },
   {
    "duration": 21,
    "start_time": "2022-11-30T07:54:21.676Z"
   },
   {
    "duration": 166,
    "start_time": "2022-11-30T07:54:21.699Z"
   },
   {
    "duration": 8,
    "start_time": "2022-11-30T07:54:21.867Z"
   },
   {
    "duration": 172,
    "start_time": "2022-11-30T07:54:21.876Z"
   },
   {
    "duration": 7,
    "start_time": "2022-11-30T07:54:22.050Z"
   },
   {
    "duration": 12,
    "start_time": "2022-11-30T07:54:22.059Z"
   },
   {
    "duration": 2885,
    "start_time": "2022-11-30T07:54:22.072Z"
   },
   {
    "duration": 55,
    "start_time": "2022-11-30T07:54:24.960Z"
   },
   {
    "duration": 187,
    "start_time": "2022-11-30T07:54:25.017Z"
   },
   {
    "duration": 195,
    "start_time": "2022-11-30T07:54:25.206Z"
   },
   {
    "duration": 340,
    "start_time": "2022-11-30T07:54:25.404Z"
   },
   {
    "duration": 170,
    "start_time": "2022-11-30T07:54:25.746Z"
   },
   {
    "duration": 16,
    "start_time": "2022-11-30T07:54:25.918Z"
   },
   {
    "duration": 188,
    "start_time": "2022-11-30T07:54:25.936Z"
   },
   {
    "duration": 13,
    "start_time": "2022-11-30T07:54:26.126Z"
   },
   {
    "duration": 169,
    "start_time": "2022-11-30T07:54:26.141Z"
   },
   {
    "duration": 17,
    "start_time": "2022-11-30T07:54:26.313Z"
   },
   {
    "duration": 198,
    "start_time": "2022-11-30T07:54:26.332Z"
   },
   {
    "duration": 17,
    "start_time": "2022-11-30T07:54:26.532Z"
   },
   {
    "duration": 237,
    "start_time": "2022-11-30T07:54:26.550Z"
   },
   {
    "duration": 19,
    "start_time": "2022-11-30T07:54:26.789Z"
   },
   {
    "duration": 196,
    "start_time": "2022-11-30T07:54:26.810Z"
   },
   {
    "duration": 15,
    "start_time": "2022-11-30T07:54:27.008Z"
   },
   {
    "duration": 209,
    "start_time": "2022-11-30T07:54:27.025Z"
   },
   {
    "duration": 16,
    "start_time": "2022-11-30T07:54:27.236Z"
   },
   {
    "duration": 307,
    "start_time": "2022-11-30T07:54:27.253Z"
   },
   {
    "duration": 14,
    "start_time": "2022-11-30T07:54:27.562Z"
   },
   {
    "duration": 161,
    "start_time": "2022-11-30T07:54:27.578Z"
   },
   {
    "duration": 150,
    "start_time": "2022-11-30T07:54:27.740Z"
   },
   {
    "duration": 160,
    "start_time": "2022-11-30T07:54:27.892Z"
   },
   {
    "duration": 168,
    "start_time": "2022-11-30T07:54:28.054Z"
   },
   {
    "duration": 10,
    "start_time": "2022-11-30T07:54:28.224Z"
   },
   {
    "duration": 15,
    "start_time": "2022-11-30T07:54:28.236Z"
   },
   {
    "duration": 10,
    "start_time": "2022-11-30T07:54:28.253Z"
   },
   {
    "duration": 5,
    "start_time": "2022-11-30T07:54:28.265Z"
   },
   {
    "duration": 24,
    "start_time": "2022-11-30T08:04:04.408Z"
   },
   {
    "duration": 7,
    "start_time": "2022-11-30T08:07:10.579Z"
   },
   {
    "duration": 9,
    "start_time": "2022-11-30T08:07:45.665Z"
   },
   {
    "duration": 10,
    "start_time": "2022-11-30T08:11:10.927Z"
   },
   {
    "duration": 11,
    "start_time": "2022-11-30T08:12:18.183Z"
   },
   {
    "duration": 23,
    "start_time": "2022-11-30T08:16:56.938Z"
   },
   {
    "duration": 59,
    "start_time": "2022-11-30T08:19:06.504Z"
   },
   {
    "duration": 19,
    "start_time": "2022-11-30T08:19:27.058Z"
   },
   {
    "duration": 15,
    "start_time": "2022-11-30T08:21:41.219Z"
   },
   {
    "duration": 182,
    "start_time": "2022-11-30T08:22:35.297Z"
   },
   {
    "duration": 151,
    "start_time": "2022-11-30T08:22:55.940Z"
   }
  ],
  "kernelspec": {
   "display_name": "Python 3 (ipykernel)",
   "language": "python",
   "name": "python3"
  },
  "language_info": {
   "codemirror_mode": {
    "name": "ipython",
    "version": 3
   },
   "file_extension": ".py",
   "mimetype": "text/x-python",
   "name": "python",
   "nbconvert_exporter": "python",
   "pygments_lexer": "ipython3",
   "version": "3.9.5"
  },
  "toc": {
   "base_numbering": 1,
   "nav_menu": {},
   "number_sections": true,
   "sideBar": true,
   "skip_h1_title": true,
   "title_cell": "Table of Contents",
   "title_sidebar": "Contents",
   "toc_cell": false,
   "toc_position": {},
   "toc_section_display": true,
   "toc_window_display": false
  }
 },
 "nbformat": 4,
 "nbformat_minor": 2
}
